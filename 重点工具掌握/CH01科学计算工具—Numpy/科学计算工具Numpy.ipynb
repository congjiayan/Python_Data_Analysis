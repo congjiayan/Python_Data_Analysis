{
 "cells": [
  {
   "cell_type": "code",
   "execution_count": 6,
   "metadata": {},
   "outputs": [
    {
     "data": {
      "text/plain": [
       "'【课程1.2】  Numpy基础数据结构\\n\\nNumPy数组是一个多维数组对象，称为ndarray。其由两部分组成：\\n① 实际的数据\\n② 描述这些数据的元数据\\n'"
      ]
     },
     "execution_count": 6,
     "metadata": {},
     "output_type": "execute_result"
    }
   ],
   "source": [
    "'''【课程1.2】  Numpy基础数据结构\n",
    "\n",
    "NumPy数组是一个多维数组对象，称为ndarray。其由两部分组成：\n",
    "① 实际的数据\n",
    "② 描述这些数据的元数据\n",
    "'''"
   ]
  },
  {
   "cell_type": "code",
   "execution_count": 7,
   "metadata": {},
   "outputs": [],
   "source": [
    "import numpy as np"
   ]
  },
  {
   "cell_type": "code",
   "execution_count": 8,
   "metadata": {},
   "outputs": [
    {
     "name": "stdout",
     "output_type": "stream",
     "text": [
      "[[1 2 3 4 5 6]\n",
      " [2 3 4 5 6 7]\n",
      " [3 4 5 6 7 8]]\n",
      "2\n",
      "(3, 6)\n",
      "18\n",
      "<class 'numpy.ndarray'> int32\n",
      "4\n",
      "<memory at 0x0442E738>\n"
     ]
    },
    {
     "data": {
      "text/plain": [
       "array([[1, 2, 3, 4, 5, 6],\n",
       "       [2, 3, 4, 5, 6, 7],\n",
       "       [3, 4, 5, 6, 7, 8]])"
      ]
     },
     "execution_count": 8,
     "metadata": {},
     "output_type": "execute_result"
    }
   ],
   "source": [
    "ar = np.array([[1,2,3,4,5,6],[2,3,4,5,6,7],[3,4,5,6,7,8]])\n",
    "print(ar)\n",
    "print(ar.ndim)    # 输出数组维度的个数（轴数），或者说‘秩’\n",
    "print(ar.shape)   # 输出数组的维度，对于n行m列的数组，shape为（n,m）\n",
    "print(ar.size)    # 输出数组中元素的个数\n",
    "print(type(ar),ar.dtype)   # 输出数组的类型以及其中元素的类型\n",
    "print(ar.itemsize)    # 数组中每个元素的字节大小，int32l类型字节为4，float64的字节为8\n",
    "print(ar.data)   # 包含实际数组元素的缓冲区，由于一般通过数组的索引获取元素，所以通常不需要使用这个属性\n",
    "ar      # 交互方式下输出，会有array(数组)"
   ]
  },
  {
   "cell_type": "code",
   "execution_count": 9,
   "metadata": {},
   "outputs": [
    {
     "name": "stdout",
     "output_type": "stream",
     "text": [
      "[0 1 2 3 4 5 6 7 8 9]\n",
      "[0. 1. 2. 3. 4. 5. 6. 7. 8. 9.]\n",
      "[ 5  6  7  8  9 10 11]\n",
      "[ 5.  7.  9. 11.]\n",
      "[   0    1    2 ... 9997 9998 9999]\n"
     ]
    }
   ],
   "source": [
    "# 创建数组：arange()，类似range()，在给定间隔内返回均匀间隔的值\n",
    "\n",
    "print(np.arange(10))       # 返回0-9，整型\n",
    "print(np.arange(10.0))   # 返回0.0-9.0，浮点型\n",
    "print(np.arange(5,12))   # 返回5-11\n",
    "print(np.arange(5.0,12,2))   # 返回5.0-12.0，步长为2\n",
    "print(np.arange(10000))  # 如果数组太大而无法打印，NumPy会自动跳过数组的中心部分，并只打印边角"
   ]
  },
  {
   "cell_type": "code",
   "execution_count": 10,
   "metadata": {},
   "outputs": [
    {
     "name": "stdout",
     "output_type": "stream",
     "text": [
      "[10.  12.5 15.  17.5 20. ] <class 'numpy.ndarray'>\n",
      "[10. 12. 14. 16. 18.] <class 'numpy.ndarray'>\n",
      "(array([10. , 12.5, 15. , 17.5, 20. ]), 2.5) <class 'tuple'>\n"
     ]
    }
   ],
   "source": [
    "# 创建数组：linspace():返回在间隔[开始，停止]上计算的num个均匀间隔的样本。\n",
    "\n",
    "ar1 = np.linspace(10,20,5)\n",
    "ar2 = np.linspace(10,20,5,endpoint = False)\n",
    "ar3 = np.linspace(10,20,5,retstep =True)\n",
    "print(ar1,type(ar1))\n",
    "print(ar2,type(ar2))\n",
    "print(ar3,type(ar3))\n",
    "\n",
    "# numpy.linspace(start, stop, num=50, endpoint=True, retstep=False, dtype=None)\n",
    "# start：起始值，stop：结束值\n",
    "# num：生成样本数，默认为50\n",
    "# endpoint：如果为真，则停止是最后一个样本。否则，不包括在内。默认值为True。\n",
    "# retstep：如果为真，返回（样本，步骤），其中步长是样本之间的间距 → 输出为一个包含2个元素的元祖，第一个元素为array，第二个为步长实际值"
   ]
  },
  {
   "cell_type": "code",
   "execution_count": 11,
   "metadata": {},
   "outputs": [
    {
     "name": "stdout",
     "output_type": "stream",
     "text": [
      "[0. 0. 0. 0. 0. 0. 0. 0. 0. 0.] float64\n",
      "[[0 0 0 0 0]\n",
      " [0 0 0 0 0]] int32\n",
      "----------------------\n",
      "[[ 0  1  2  3  4]\n",
      " [ 5  6  7  8  9]\n",
      " [10 11 12 13 14]\n",
      " [15 16 17 18 19]]\n",
      "[[0 0 0 0 0]\n",
      " [0 0 0 0 0]\n",
      " [0 0 0 0 0]\n",
      " [0 0 0 0 0]]\n",
      "---------------------------\n"
     ]
    }
   ],
   "source": [
    "# 创建数组：zeros()/zeros_like()/ones()/ones_like()\n",
    "\n",
    "ar1 = np.zeros(10)\n",
    "ar2 = np.zeros((2,5),dtype=np.int32)\n",
    "print(ar1,ar1.dtype)\n",
    "print(ar2,ar2.dtype)\n",
    "print('----------------------')\n",
    "# numpy.zeros(shape, dtype=float, order='C'):返回给定形状和类型的新数组，用零填充。\n",
    "# shape：数组纬度，二维以上需要用()，且输入参数为整数\n",
    "# dtype：数据类型，默认numpy.float64\n",
    "# order：是否在存储器中以C或Fortran连续（按行或列方式）存储多维数据。\n",
    "\n",
    "ar3 = np.array([list(range(10)),list(range(10,20))]).reshape(4,5)\n",
    "ar4 = np.zeros_like(ar3)\n",
    "print(ar3)\n",
    "print(ar4)\n",
    "print('---------------------------')\n",
    "\n",
    "# 返回具有与给定数组相同的形状和类型的0数组，这里ar4根据ar3的形状和dtype创建一个全0的数组\n",
    "# ones()/ones_like()和zeros()/zeros_like()一样，只是填充为1"
   ]
  },
  {
   "cell_type": "code",
   "execution_count": 12,
   "metadata": {},
   "outputs": [
    {
     "name": "stdout",
     "output_type": "stream",
     "text": [
      "[[1. 0. 0. 0. 0.]\n",
      " [0. 1. 0. 0. 0.]\n",
      " [0. 0. 1. 0. 0.]\n",
      " [0. 0. 0. 1. 0.]\n",
      " [0. 0. 0. 0. 1.]]\n"
     ]
    }
   ],
   "source": [
    "# 创建数组：eye()\n",
    "# 创建一个正方的N*N的单位矩阵，对角线值为1，其余为0\n",
    "\n",
    "print(np.eye(5))"
   ]
  },
  {
   "cell_type": "code",
   "execution_count": 13,
   "metadata": {},
   "outputs": [
    {
     "data": {
      "text/plain": [
       "'\\n【课程1.3】  Numpy通用函数\\n\\n基本操作\\n\\n'"
      ]
     },
     "execution_count": 13,
     "metadata": {},
     "output_type": "execute_result"
    }
   ],
   "source": [
    "'''\n",
    "【课程1.3】  Numpy通用函数\n",
    "\n",
    "基本操作\n",
    "\n",
    "'''"
   ]
  },
  {
   "cell_type": "code",
   "execution_count": 31,
   "metadata": {},
   "outputs": [
    {
     "name": "stdout",
     "output_type": "stream",
     "text": [
      "[0 1 2 3 4 5 6 7 8 9] \n",
      " [0 1 2 3 4 5 6 7 8 9]\n",
      "[[1. 1.]\n",
      " [1. 1.]\n",
      " [1. 1.]\n",
      " [1. 1.]\n",
      " [1. 1.]] \n",
      " [[1. 1. 1. 1. 1.]\n",
      " [1. 1. 1. 1. 1.]]\n",
      "-----------\n",
      "-----------\n",
      "[0 1 2 3 4 5 6 7 8 9] \n",
      " [[0 1 2 3 4]\n",
      " [5 6 7 8 9]]\n",
      "[[0. 0. 0. 0. 0. 0. 0. 0.]\n",
      " [0. 0. 0. 0. 0. 0. 0. 0.]\n",
      " [0. 0. 0. 0. 0. 0. 0. 0.]]\n",
      "[[ 0  1  2  3]\n",
      " [ 4  5  6  7]\n",
      " [ 8  9 10 11]]\n",
      "----------\n",
      "[[0 1 2 3]\n",
      " [4 0 1 2]\n",
      " [3 4 0 1]]\n",
      "[[ 0  1  2  3]\n",
      " [ 4  5  6  7]\n",
      " [ 8  9 10 11]]\n"
     ]
    }
   ],
   "source": [
    "# 数组形状：.T/.reshape()/.resize()\n",
    "\n",
    "ar1 = np.arange(10)\n",
    "ar2 = np.ones((5,2))\n",
    "print(ar1,'\\n',ar1.T)\n",
    "print(ar2,'\\n',ar2.T)\n",
    "print('-----------')\n",
    "# .T方法：转置，例如原shape为(3,4)/(2,3,4)，转置结果为(4,3)/(4,3,2) → 所以一维数组转置后结果不变\n",
    "#ar99 = np.array([[[1,2,3,4],[2,3,4,5],[3,4,5,6]],[[1,2,3,4],[2,3,4,5],[3,4,5,6]]])\n",
    "#print(ar99,'\\n',ar99.T)\n",
    "print('-----------')\n",
    "ar3 = ar1.reshape(2,5)   # 用法1：直接将已有数组改变形状\n",
    "ar4 = np.zeros((4,6)).reshape(3,8)     # 用法2：生成数组后直接改变形状\n",
    "ar5 = np.reshape(np.arange(12),(3,4))  # 用法3：参数内添加数组，目标形状\n",
    "print(ar1,'\\n',ar3)\n",
    "print(ar4)\n",
    "print(ar5)\n",
    "# numpy.reshape(ar, newshape, order='C')：为数组提供新形状，而不更改其数据，所以元素数量需要一致！！\n",
    "print('----------')\n",
    "ar6 = np.resize(np.arange(5),(3,4))\n",
    "print(ar6)\n",
    "ar7 = np.resize(np.arange(12),(3,4))\n",
    "print(ar7)\n",
    "# numpy.resize(a, new_shape)：返回具有指定形状的新数组，如有必要可重复填充所需数量的元素。\n",
    "# 注意了：.T/.reshape()/.resize()都是生成新的数组！！！"
   ]
  },
  {
   "cell_type": "code",
   "execution_count": 38,
   "metadata": {},
   "outputs": [
    {
     "name": "stdout",
     "output_type": "stream",
     "text": [
      "True\n",
      "[0 9 2 3 4 5 6 7 8 9] [0 9 2 3 4 5 6 7 8 9]\n",
      "False\n",
      "[9 9 2 3 4 5 6 7 8 9] [0 9 2 3 4 5 6 7 8 9]\n"
     ]
    }
   ],
   "source": [
    "# 数组的复制\n",
    "\n",
    "ar1 = np.arange(10)\n",
    "ar2 = ar1\n",
    "print(ar2 is ar1)\n",
    "ar2[1] = 9\n",
    "print(ar1,ar2)\n",
    "# 回忆python的赋值逻辑：指向内存中生成的一个值 → 这里ar1和ar2指向同一个值，所以ar1改变，ar2一起改变\n",
    "\n",
    "ar3 = ar1.copy()\n",
    "print(ar3 is ar1)\n",
    "ar1[0] = 9\n",
    "print(ar1,ar3)\n",
    "# copy方法生成数组及其数据的完整拷贝\n",
    "# 再次提醒：.T/.reshape()/.resize()都是生成新的数组！！！"
   ]
  },
  {
   "cell_type": "code",
   "execution_count": 46,
   "metadata": {},
   "outputs": [
    {
     "name": "stdout",
     "output_type": "stream",
     "text": [
      "[0. 1. 2. 3. 4. 5. 6. 7. 8. 9.] float64\n",
      "---------\n",
      "[0 1 2 3 4 5 6 7 8 9] int32\n"
     ]
    }
   ],
   "source": [
    "# 数组类型转换：.astype()\n",
    "\n",
    "ar1 = np.arange(10,dtype=float)     # 可以在参数位置设置数组类型\n",
    "print(ar1,ar1.dtype)\n",
    "print('---------')\n",
    "ar2 = ar1.astype(np.int32)\n",
    "print(ar2,ar2.dtype)\n",
    "\n",
    "# a.astype()：转换数组类型\n",
    "# 注意：养成好习惯，数组类型用np.int32，而不是直接int32"
   ]
  },
  {
   "cell_type": "code",
   "execution_count": 179,
   "metadata": {},
   "outputs": [
    {
     "name": "stdout",
     "output_type": "stream",
     "text": [
      "[0 1 2 3 4] (5,)\n",
      "[5 6 7 8] (4,)\n",
      "[0 1 2 3 4 5 6 7 8] (9,)\n",
      "------------\n",
      "[[1]\n",
      " [2]\n",
      " [3]] (3, 1) int32\n",
      "[['a']\n",
      " ['b']\n",
      " ['c']] (3, 1) <U1\n",
      "[['1']\n",
      " ['2']\n",
      " ['3']\n",
      " ['a']\n",
      " ['b']\n",
      " ['c']] (6, 1) <U11\n",
      "-------------\n",
      "[0 1 2 3 4] (5,)\n",
      "[5 6 7 8 9] (5,)\n",
      "[[0 1 2 3 4]\n",
      " [5 6 7 8 9]] (2, 5)\n",
      "[[0 5]\n",
      " [1 6]\n",
      " [2 7]\n",
      " [3 8]\n",
      " [4 9]] (5, 2)\n"
     ]
    }
   ],
   "source": [
    "# 数组堆叠\n",
    "\n",
    "ar1 = np.arange(5)  # ar1为一维数组，5个元素\n",
    "ar2 = np.arange(5,9)  # ar2为一维数组，4个元素\n",
    "ar12 = np.hstack((ar1,ar2))    # 这里形状可以不一样,横向连接\n",
    "print(ar1,ar1.shape)\n",
    "print(ar2,ar2.shape)\n",
    "print(ar12,ar12.shape)\n",
    "# numpy.hstack(tup)：水平（按行顺序）堆叠数组\n",
    "print('------------')\n",
    "\n",
    "ar3 = np.array([[1],[2],[3]])        # 二维数组，3行1列\n",
    "ar4 = np.array([['a'],['b'],['c']])   # 二维数组，3行1列\n",
    "print(ar3,ar3.shape,ar3.dtype)\n",
    "print(ar4,ar4.shape,ar4.dtype)\n",
    "ar34 = np.vstack((ar3,ar4))   #纵向连接\n",
    "print(ar34,ar34.shape,ar34.dtype)\n",
    "# numpy.vstack(tup)：垂直（按列顺序）堆叠数组\n",
    "print('-------------')\n",
    "\n",
    "a = np.arange(5)\n",
    "b = np.arange(5,10)\n",
    "ar1 = np.stack((a,b))\n",
    "ar2 = np.stack((a,b),axis=1)\n",
    "print(a,a.shape)\n",
    "print(b,b.shape)\n",
    "print(ar1,ar1.shape)\n",
    "print(ar2,ar2.shape)\n",
    "\n",
    "# numpy.stack(arrays, axis=0)：沿着新轴连接数组的序列，形状必须一样！\n",
    "# 重点解释axis参数的意思，假设两个数组[1 2 3]和[4 5 6]，shape均为(3,0)\n",
    "# axis=0：[[1 2 3] [4 5 6]]，shape为(2,3)\n",
    "# axis=1：[[1 4] [2 5] [3 6]]，shape为(3,2)"
   ]
  },
  {
   "cell_type": "code",
   "execution_count": 73,
   "metadata": {},
   "outputs": [
    {
     "name": "stdout",
     "output_type": "stream",
     "text": [
      "[[ 0  1  2  3]\n",
      " [ 4  5  6  7]\n",
      " [ 8  9 10 11]\n",
      " [12 13 14 15]] <class 'numpy.ndarray'>\n",
      "[array([[ 0,  1],\n",
      "       [ 4,  5],\n",
      "       [ 8,  9],\n",
      "       [12, 13]]), array([[ 2,  3],\n",
      "       [ 6,  7],\n",
      "       [10, 11],\n",
      "       [14, 15]])] <class 'list'>\n",
      "--------------\n",
      "[array([[0, 1, 2, 3],\n",
      "       [4, 5, 6, 7]]), array([[ 8,  9, 10, 11],\n",
      "       [12, 13, 14, 15]])] <class 'list'>\n"
     ]
    }
   ],
   "source": [
    "# 数组拆分 \n",
    "\n",
    "ar1 = np.arange(16).reshape(4,4)\n",
    "ar2 = np.hsplit(ar1,2)\n",
    "print(ar1,type(ar1))\n",
    "print(ar2,type(ar2))\n",
    "# numpy.hsplit(ary, indices_or_sections)：将数组水平（逐列）拆分为多个子数组 → 按列拆分\n",
    "# 输出结果为列表，列表中元素为数组\n",
    "print('--------------')\n",
    "\n",
    "ar3 = np.vsplit(ar1,2)\n",
    "print(ar3,type(ar3))\n",
    "# numpy.vsplit(ary, indices_or_sections)：:将数组垂直（行方向）拆分为多个子数组 → 按行拆"
   ]
  },
  {
   "cell_type": "code",
   "execution_count": 90,
   "metadata": {},
   "outputs": [
    {
     "name": "stdout",
     "output_type": "stream",
     "text": [
      "[[3 4 5]\n",
      " [6 7 8]]\n",
      "[[103 104 105]\n",
      " [106 107 108]]\n",
      "[[300 400 500]\n",
      " [600 700 800]]\n",
      "[[0.33333333 0.25       0.2       ]\n",
      " [0.16666667 0.14285714 0.125     ]]\n",
      "[[ 9 16 25]\n",
      " [36 49 64]]\n",
      "-----------\n",
      "5.5\n",
      "8\n",
      "3\n",
      "1.707825127659933\n",
      "2.9166666666666665\n",
      "-------------\n",
      "33 [ 9 11 13]\n",
      "33 [12 21]\n"
     ]
    }
   ],
   "source": [
    "# 数组简单运算\n",
    "\n",
    "# 与标量的运算\n",
    "ar = np.arange(3,9).reshape(2,3)\n",
    "print(ar)\n",
    "print(ar1 + 100)\n",
    "print(ar1 * 100)\n",
    "print(1 / ar1)\n",
    "print(ar1 ** 2)\n",
    "print('-----------')\n",
    "print(ar.mean())    # 求平均值\n",
    "print(ar.max())      # 求最大值\n",
    "print(ar.min())      # 求最小值\n",
    "print(ar.std())      # 求标准差\n",
    "print(ar.var())      # 求方差\n",
    "print('-------------')\n",
    "print(ar.sum(),np.sum(ar,axis=0))    \n",
    "print(ar.sum(),np.sum(ar,axis=1))\n",
    "# axis为0，按列求和；axis为1，按行求和"
   ]
  },
  {
   "cell_type": "code",
   "execution_count": null,
   "metadata": {},
   "outputs": [],
   "source": [
    "'''\n",
    "【课程1.4】  Numpy索引及切片\n",
    "\n",
    "核心：基本索引及切片 / 布尔型索引及切片\n",
    "\n",
    "'''"
   ]
  },
  {
   "cell_type": "code",
   "execution_count": 119,
   "metadata": {},
   "outputs": [
    {
     "name": "stdout",
     "output_type": "stream",
     "text": [
      "[0 1 2 3 4 5 6 7 8 9]\n",
      "4\n",
      "[3 4 5 6 7]\n",
      "----------------\n",
      "[[ 0  1  2  3]\n",
      " [ 4  5  6  7]\n",
      " [ 8  9 10 11]\n",
      " [12 13 14 15]] 数组的轴数为 2\n",
      "[ 8  9 10 11] 数组的轴数为 1\n",
      "10\n",
      "[[ 8  9 10 11]\n",
      " [12 13 14 15]] 数组的轴数为 2\n",
      "10\n",
      "[[1 2 3]\n",
      " [5 6 7]]\n",
      "---------------\n",
      "[[[0 1]\n",
      "  [2 3]]\n",
      "\n",
      " [[4 5]\n",
      "  [6 7]]] 数组的轴数为 3\n",
      "[[0 1]\n",
      " [2 3]] 数组的轴数为 2\n",
      "[0 1] 数组的轴数为 1\n",
      "1 数组的轴数为 0\n"
     ]
    }
   ],
   "source": [
    "# 基本索引及切片\n",
    "\n",
    "# 一维数组索引及切片,与列表相同\n",
    "ar1 = np.arange(10)\n",
    "print(ar1)\n",
    "print(ar1[4])\n",
    "print(ar1[3:8])\n",
    "print('----------------')\n",
    "\n",
    "# 二维数组索引及切片\n",
    "ar2 = np.arange(16).reshape(4,4)\n",
    "print(ar2,'数组的轴数为 %i' %ar2.ndim)   # 4*4的数组\n",
    "print(ar2[2],'数组的轴数为 %i' %ar2[2].ndim)    # 切片为下一维度的一个元素，所以是一维数组\n",
    "print(ar2[2][2])   # 二次索引，得到一维数组中的一个值\n",
    "print(ar2[2:4],'数组的轴数为 %i' %ar2[2:4].ndim)     # 切片为两个一维数组组成的二维数组\n",
    "print(ar2[2,2])  # 切片数组中的第三行第三列 → 10\n",
    "print(ar2[:2,1:])   # 切片数组中的1,2行、2,3,4列 → 二维数组\n",
    "print('---------------')\n",
    "\n",
    "# 三维数组索引及切片\n",
    "ar3 = np.arange(8).reshape(2,2,2)\n",
    "print(ar3,'数组的轴数为 %i' %ar3.ndim)\n",
    "print(ar3[0],'数组的轴数为 %i' %ar3[0].ndim)    # 三维数组的下一个维度的第一个元素 → 一个二维数组\n",
    "print(ar3[0][0],'数组的轴数为 %i' %ar3[0][0].ndim)  # 三维数组的下一个维度的第一个元素下的第一个元素 → 一个一维数组\n",
    "print(ar3[0][0][1],'数组的轴数为 %i' %ar3[0][0][0].ndim)"
   ]
  },
  {
   "cell_type": "code",
   "execution_count": 127,
   "metadata": {},
   "outputs": [
    {
     "name": "stdout",
     "output_type": "stream",
     "text": [
      "[[ 0  1  2  3]\n",
      " [ 4  5  6  7]\n",
      " [ 8  9 10 11]]\n",
      "[False  True False]\n",
      "[ True  True False False]\n",
      "[[4 5 6 7]]\n",
      "[[0 1]\n",
      " [4 5]\n",
      " [8 9]]\n",
      "[[False False False False]\n",
      " [False False  True  True]\n",
      " [ True  True  True  True]]\n",
      "[ 6  7  8  9 10 11]\n"
     ]
    }
   ],
   "source": [
    "# 布尔型索引及切片\n",
    "\n",
    "# 布尔型索引：以布尔型的矩阵去做筛选\n",
    "ar1 = np.arange(12).reshape(3,4)\n",
    "i = np.array([False,True,False])\n",
    "j = np.array([True,True,False,False])\n",
    "print(ar1)\n",
    "print(i)\n",
    "print(j)\n",
    "print(ar1[i,:])    # 在第一维度做判断，只保留True，这里第一维度就是行，ar[i,:] = ar[i]（简单书写格式）\n",
    "print(ar1[:,j])     # 在第二维度做判断，这里如果ar[:,i]会有警告，因为i是3个元素，而ar在列上有4个\n",
    "\n",
    "m = ar1 > 5\n",
    "print(m)\n",
    "print(ar1[m])"
   ]
  },
  {
   "cell_type": "code",
   "execution_count": 134,
   "metadata": {},
   "outputs": [
    {
     "name": "stdout",
     "output_type": "stream",
     "text": [
      "[0 1 2 3 4 5 6 7 8 9]\n",
      "[  0   1   2   3   4 100   6 200 200   9]\n",
      "---------------\n",
      "[0 1 2 3 4 5 6 7 8 9]\n",
      "[  0   1   2   3   4   5   6 100 100   9]\n"
     ]
    }
   ],
   "source": [
    "# 数组索引及切片的值更改、复制\n",
    "\n",
    "# 一个标量赋值给一个索引/切片时，会自动改变/传播原始数组\n",
    "ar = np.arange(10)\n",
    "print(ar)\n",
    "ar[5] = 100\n",
    "ar[7:9] = 200\n",
    "print(ar)\n",
    "print('---------------')\n",
    "\n",
    "# 复制\n",
    "ar = np.arange(10)\n",
    "b = ar.copy()\n",
    "b[7:9] = 100\n",
    "print(ar)\n",
    "print(b)"
   ]
  },
  {
   "cell_type": "code",
   "execution_count": null,
   "metadata": {},
   "outputs": [],
   "source": [
    "'''\n",
    "【课程1.5】  Numpy随机数\n",
    "\n",
    "numpy.random包含多种概率分布的随机样本，是数据分析辅助的重点工具之一\n",
    "\n",
    "'''"
   ]
  },
  {
   "cell_type": "code",
   "execution_count": 136,
   "metadata": {},
   "outputs": [
    {
     "name": "stdout",
     "output_type": "stream",
     "text": [
      "[[ 0.57937574 -0.295239   -0.07704426  0.19761791]\n",
      " [ 1.24008445  0.01679746  0.45283889 -0.13578865]\n",
      " [ 0.79420293 -0.56805777 -1.03158537 -0.87211649]\n",
      " [ 0.05234349  0.29712019  0.75353079 -1.73213299]]\n"
     ]
    }
   ],
   "source": [
    "# 随机数生成\n",
    "\n",
    "# 生成一个标准正太分布的4*4样本值\n",
    "samples = np.random.normal(size=(4,4))\n",
    "print(samples)"
   ]
  },
  {
   "cell_type": "code",
   "execution_count": 147,
   "metadata": {},
   "outputs": [
    {
     "name": "stdout",
     "output_type": "stream",
     "text": [
      "0.05708022328362661 <class 'float'>\n",
      "[0.01422096 0.63306848 0.09903044 0.01053881] <class 'numpy.ndarray'>\n",
      "[[0.2081463  0.79547193 0.37771105]\n",
      " [0.56965384 0.53005919 0.17425916]] <class 'numpy.ndarray'>\n"
     ]
    },
    {
     "data": {
      "text/plain": [
       "<matplotlib.collections.PathCollection at 0xa52fab0>"
      ]
     },
     "execution_count": 147,
     "metadata": {},
     "output_type": "execute_result"
    },
    {
     "data": {
      "image/png": "[encoded data removed]",
      "text/plain": [
       "<Figure size 432x288 with 1 Axes>"
      ]
     },
     "metadata": {
      "needs_background": "light"
     },
     "output_type": "display_data"
    }
   ],
   "source": [
    "# numpy.random.rand(d0, d1, ..., dn)：生成一个[0,1)之间的随机浮点数或N维浮点数组 —— 均匀分布\n",
    "\n",
    "import matplotlib.pyplot as plt\n",
    "% matplotlib inline\n",
    "# 魔法函数，每次运行自动生成图表\n",
    "\n",
    "a = np.random.rand()     # 生成一个随机浮点数\n",
    "print(a,type(a))\n",
    "\n",
    "b = np.random.rand(4)   # 生成形状为4的一维数组\n",
    "print(b,type(b))\n",
    "\n",
    "c = np.random.rand(2,3)   # 生成形状为2*3的二维数组，注意这里不是((2,3))\n",
    "print(c,type(c))\n",
    "\n",
    "samples1 = np.random.rand(1000)\n",
    "samples2 = np.random.rand(1000)\n",
    "plt.scatter(samples1,samples2)\n",
    "# 生成1000个均匀分布的样本值"
   ]
  },
  {
   "cell_type": "code",
   "execution_count": 149,
   "metadata": {},
   "outputs": [
    {
     "data": {
      "text/plain": [
       "<matplotlib.collections.PathCollection at 0xb57b170>"
      ]
     },
     "execution_count": 149,
     "metadata": {},
     "output_type": "execute_result"
    },
    {
     "data": {
      "image/png": "[encoded data removed]",
      "text/plain": [
       "<Figure size 432x288 with 1 Axes>"
      ]
     },
     "metadata": {
      "needs_background": "light"
     },
     "output_type": "display_data"
    }
   ],
   "source": [
    "#  numpy.random.randn(d0, d1, ..., dn)：生成一个浮点数或N维浮点数组 —— 正态分布\n",
    "\n",
    "samples1 = np.random.randn(1000)\n",
    "samples2 = np.random.randn(1000)\n",
    "plt.scatter(samples1,samples2)\n",
    "# randn和rand的参数用法一样"
   ]
  },
  {
   "cell_type": "code",
   "execution_count": 161,
   "metadata": {},
   "outputs": [
    {
     "name": "stdout",
     "output_type": "stream",
     "text": [
      "0\n",
      "[0 1 0 0 1]\n",
      "[3 2 3 3 4]\n",
      "[[4 2 2]\n",
      " [4 4 4]]\n",
      "[[2 5 2 3 3]\n",
      " [5 5 3 3 4]\n",
      " [4 4 2 5 2]]\n"
     ]
    }
   ],
   "source": [
    "# numpy.random.randint(low, high=None, size=None, dtype='l')：生成一个整数或N维整数数组\n",
    "# 若high不为None时，取[low,high)之间随机整数，否则取值[0,low)之间随机整数，且high必须大于low \n",
    "# dtype参数：只能是int类型 \n",
    "# 左闭右开区间取值\n",
    "\n",
    "print(np.random.randint(2))\n",
    "# low=2：生成1个[0,2)之间随机整数  \n",
    "\n",
    "print(np.random.randint(2,size=5))\n",
    "# low=2,size=5 ：生成5个[0,2)之间随机整数\n",
    "\n",
    "print(np.random.randint(2,6,size=5))\n",
    "# low=2,high=6,size=5：生成5个[2,6)之间随机整数 \n",
    "\n",
    "print(np.random.randint(5,size=(2,3)))\n",
    "# low=5,size=(2,3)：生成一个2x3整数数组,取数范围：[0,5)随机整数 \n",
    "\n",
    "print(np.random.randint(2,6,(3,5)))\n",
    "# low=2,high=6,size=(3,5)：生成一个3*5整数数组,取值范围：[2,6)随机整数  "
   ]
  },
  {
   "cell_type": "code",
   "execution_count": null,
   "metadata": {},
   "outputs": [],
   "source": [
    "'''\n",
    "【课程1.6】  Numpy数据的输入输出\n",
    "\n",
    "numpy读取/写入数组数据、文本数据\n",
    "\n",
    "'''"
   ]
  },
  {
   "cell_type": "code",
   "execution_count": 168,
   "metadata": {},
   "outputs": [
    {
     "name": "stdout",
     "output_type": "stream",
     "text": [
      "[[0.34643074 0.92454849 0.98123771 0.89669874 0.13851957]\n",
      " [0.32606924 0.94953789 0.48385271 0.78674586 0.59787462]\n",
      " [0.89413908 0.55524998 0.65892639 0.61879793 0.10306625]\n",
      " [0.48115942 0.20597646 0.48721392 0.1517829  0.62109703]\n",
      " [0.25996178 0.14242773 0.28575337 0.86812094 0.50513752]]\n",
      "Over\n"
     ]
    }
   ],
   "source": [
    "# 存储数组数据 .npy文件\n",
    "import os\n",
    "ar = np.random.rand(5,5)\n",
    "print(ar)\n",
    "np.save('test.npy',ar)\n",
    "print('Over')"
   ]
  },
  {
   "cell_type": "code",
   "execution_count": 169,
   "metadata": {},
   "outputs": [
    {
     "name": "stdout",
     "output_type": "stream",
     "text": [
      "[[0.34643074 0.92454849 0.98123771 0.89669874 0.13851957]\n",
      " [0.32606924 0.94953789 0.48385271 0.78674586 0.59787462]\n",
      " [0.89413908 0.55524998 0.65892639 0.61879793 0.10306625]\n",
      " [0.48115942 0.20597646 0.48721392 0.1517829  0.62109703]\n",
      " [0.25996178 0.14242773 0.28575337 0.86812094 0.50513752]]\n"
     ]
    }
   ],
   "source": [
    "# 读取数组数据 .npy文件\n",
    "\n",
    "ar_load = np.load('test.npy')\n",
    "print(ar_load)"
   ]
  },
  {
   "cell_type": "code",
   "execution_count": 178,
   "metadata": {},
   "outputs": [
    {
     "name": "stdout",
     "output_type": "stream",
     "text": [
      "[[0.63528698 0.31191165 0.27565854 0.25181517 0.78567497]\n",
      " [0.31189237 0.3279478  0.4219145  0.08612136 0.99885811]\n",
      " [0.53767181 0.93702637 0.53989577 0.93128603 0.71824538]\n",
      " [0.33098236 0.39920694 0.18771845 0.35283331 0.95820002]\n",
      " [0.45476578 0.31260946 0.87471213 0.29280564 0.55068954]]\n",
      "[[0.64 0.31 0.28 0.25 0.79]\n",
      " [0.31 0.33 0.42 0.09 1.  ]\n",
      " [0.54 0.94 0.54 0.93 0.72]\n",
      " [0.33 0.4  0.19 0.35 0.96]\n",
      " [0.45 0.31 0.87 0.29 0.55]]\n"
     ]
    }
   ],
   "source": [
    "# 存储/读取文本文件\n",
    "\n",
    "ar = np.random.rand(5,5)\n",
    "print(ar)\n",
    "np.savetxt('test.txt',ar,fmt='%.2f',delimiter=',')\n",
    "# np.savetxt(fname, ar, fmt='%.18e', delimiter=' ', newline='\\n', header='', footer='', comments='# ')：存储为文本txt文件\n",
    "\n",
    "ar_loadtxt = np.loadtxt('test.txt',delimiter=',')\n",
    "print(ar_loadtxt)"
   ]
  },
  {
   "cell_type": "code",
   "execution_count": null,
   "metadata": {},
   "outputs": [],
   "source": []
  }
 ],
 "metadata": {
  "kernelspec": {
   "display_name": "Python 3",
   "language": "python",
   "name": "python3"
  },
  "language_info": {
   "codemirror_mode": {
    "name": "ipython",
    "version": 3
   },
   "file_extension": ".py",
   "mimetype": "text/x-python",
   "name": "python",
   "nbconvert_exporter": "python",
   "pygments_lexer": "ipython3",
   "version": "3.7.0"
  }
 },
 "nbformat": 4,
 "nbformat_minor": 2
}
