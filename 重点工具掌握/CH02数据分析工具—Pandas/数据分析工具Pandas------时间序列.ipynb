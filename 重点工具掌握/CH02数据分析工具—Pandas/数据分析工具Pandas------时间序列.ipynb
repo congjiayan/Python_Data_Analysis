{
 "cells": [
  {
   "cell_type": "code",
   "execution_count": 310,
   "metadata": {},
   "outputs": [
    {
     "data": {
      "text/plain": [
       "'\\n【课程2.8】  时间模块：datetime\\n\\ndatetime模块，主要掌握：datetime.date(), datetime.datetime(), datetime.timedelta()\\n\\n日期解析方法：parser.parse\\n\\n'"
      ]
     },
     "execution_count": 310,
     "metadata": {},
     "output_type": "execute_result"
    }
   ],
   "source": [
    "'''\n",
    "【课程2.8】  时间模块：datetime\n",
    "\n",
    "datetime模块，主要掌握：datetime.date(), datetime.datetime(), datetime.timedelta()\n",
    "\n",
    "日期解析方法：parser.parse\n",
    "\n",
    "'''"
   ]
  },
  {
   "cell_type": "code",
   "execution_count": 311,
   "metadata": {},
   "outputs": [
    {
     "name": "stdout",
     "output_type": "stream",
     "text": [
      "2019-05-09 <class 'datetime.date'>\n",
      "2019-05-09 <class 'str'>\n",
      "2019-05-09\n"
     ]
    }
   ],
   "source": [
    "# datetime.date：date对象\n",
    "\n",
    "import datetime\n",
    "\n",
    "today = datetime.date.today()\n",
    "print(today,type(today))\n",
    "print(str(today),type(str(today)))\n",
    "# datetime.date.today 返回今日\n",
    "# 输出格式为 date类\n",
    "\n",
    "t = datetime.date(2019,5,9)\n",
    "print(t)"
   ]
  },
  {
   "cell_type": "code",
   "execution_count": 312,
   "metadata": {},
   "outputs": [
    {
     "name": "stdout",
     "output_type": "stream",
     "text": [
      "2019-05-09 15:29:29.247946 <class 'datetime.datetime'>\n",
      "2019-05-09 15:29:29.247946 <class 'str'>\n",
      "2019-05-09 00:00:00\n",
      "2019-08-10 22:50:56\n",
      "93 days, 22:50:56\n"
     ]
    },
    {
     "data": {
      "text/plain": [
       "datetime.timedelta(days=93, seconds=82256)"
      ]
     },
     "execution_count": 312,
     "metadata": {},
     "output_type": "execute_result"
    }
   ],
   "source": [
    "# datetime.datetime：datetime对象\n",
    "\n",
    "now = datetime.datetime.now()\n",
    "print(now,type(now))\n",
    "print(str(now),type(str(now)))\n",
    "# .now()方法，输出当前时间\n",
    "# 输出格式为 datetime类\n",
    "# 可通过str()转化为字符串\n",
    "\n",
    "t1 = datetime.datetime(2019,5,9)\n",
    "t2 = datetime.datetime(2019,8,10,22,50,56)\n",
    "print(t1)\n",
    "print(t2)\n",
    "# (年，月，日，时，分，秒)，至少输入年月日\n",
    "\n",
    "delta = t2- t1\n",
    "print(delta)\n",
    "t2 - t1\n",
    "# 相减得到时间差 —— timedelta"
   ]
  },
  {
   "cell_type": "code",
   "execution_count": 313,
   "metadata": {},
   "outputs": [
    {
     "name": "stdout",
     "output_type": "stream",
     "text": [
      "2019-05-02 15:29:29.356012\n"
     ]
    }
   ],
   "source": [
    "# datetime.timedelta：时间差,默认显示天数\n",
    "\n",
    "today = datetime.datetime.today()\n",
    "yesterday = today - datetime.timedelta(7)\n",
    "print(yesterday)\n",
    "\n",
    "# 时间差主要用作时间的加减法，相当于可被识别的时间“差值”"
   ]
  },
  {
   "cell_type": "code",
   "execution_count": 314,
   "metadata": {},
   "outputs": [
    {
     "name": "stdout",
     "output_type": "stream",
     "text": [
      "2019-10-08 00:00:00 <class 'datetime.datetime'>\n",
      "2019-05-09 00:00:00 \n",
      " 2016-05-20 00:00:00 \n",
      " 2020-09-06 00:00:00 \n",
      " 2015-10-01 00:00:00 \n",
      " 2019-05-25 22:50:00\n"
     ]
    }
   ],
   "source": [
    "# parser.parse：日期字符串转换\n",
    "\n",
    "from dateutil.parser import parse\n",
    "\n",
    "date = '10-8-2019'\n",
    "t = parse(date)\n",
    "print(t,type(t))\n",
    "# 直接将str转化成datetime.datetime\n",
    "\n",
    "print(parse('2019-5-9'),'\\n',\n",
    "     parse('2016/5/20'),'\\n',\n",
    "     parse('20200609',dayfirst=True),'\\n',           # 国际通用格式中，日在月之前，可以通过dayfirst来设置\n",
    "     parse('10/1/2015'),'\\n',\n",
    "     parse('May 25,1993 10:50 PM'))\n",
    "# 各种格式可以解析，但无法支持中文"
   ]
  },
  {
   "cell_type": "code",
   "execution_count": 315,
   "metadata": {},
   "outputs": [
    {
     "data": {
      "text/plain": [
       "'\\n【课程2.9】  Pandas时刻数据：Timestamp\\n\\n时刻数据代表时间点，是pandas的数据类型，是将值与时间点相关联的最基本类型的时间序列数据\\n\\npandas.Timestamp()\\n\\n'"
      ]
     },
     "execution_count": 315,
     "metadata": {},
     "output_type": "execute_result"
    }
   ],
   "source": [
    "'''\n",
    "【课程2.9】  Pandas时刻数据：Timestamp\n",
    "\n",
    "时刻数据代表时间点，是pandas的数据类型，是将值与时间点相关联的最基本类型的时间序列数据\n",
    "\n",
    "pandas.Timestamp()\n",
    "\n",
    "'''"
   ]
  },
  {
   "cell_type": "code",
   "execution_count": 316,
   "metadata": {},
   "outputs": [
    {
     "name": "stdout",
     "output_type": "stream",
     "text": [
      "2019-05-10 12:36:26 <class 'pandas._libs.tslibs.timestamps.Timestamp'>\n",
      "2020-05-27 00:00:00 <class 'pandas._libs.tslibs.timestamps.Timestamp'>\n",
      "2056-06-23 12:23:56\n"
     ]
    }
   ],
   "source": [
    "# pd.Timestamp()\n",
    "\n",
    "import pandas as pd\n",
    "import numpy as np\n",
    "\n",
    "date1 = datetime.datetime(2019,5,10,12,36,26)          # 创建一个datetime.datetime\n",
    "date2 = '2020-5-27'                                    # 创建一个字符串\n",
    "t1 = pd.Timestamp(date1) \n",
    "t2 = pd.Timestamp(date2)\n",
    "print(t1,type(t1))\n",
    "print(t2,type(t2))\n",
    "print(pd.Timestamp('2056-6-23 12:23:56'))"
   ]
  },
  {
   "cell_type": "code",
   "execution_count": 317,
   "metadata": {},
   "outputs": [
    {
     "name": "stdout",
     "output_type": "stream",
     "text": [
      "2019-05-10 09:25:36 <class 'pandas._libs.tslibs.timestamps.Timestamp'>\n",
      "2016-03-21 00:00:00 <class 'pandas._libs.tslibs.timestamps.Timestamp'>\n",
      "DatetimeIndex(['2109-05-09', '2019-05-10', '2019-05-11'], dtype='datetime64[ns]', freq=None) <class 'pandas.core.indexes.datetimes.DatetimeIndex'>\n"
     ]
    }
   ],
   "source": [
    "# pd.to_datetime\n",
    "\n",
    "date1 = datetime.datetime(2019,5,10,9,25,36)\n",
    "date2 = '2016-3-21'\n",
    "t1 = pd.to_datetime(date1)\n",
    "t2 = pd.to_datetime(date2)\n",
    "print(t1,type(t1))\n",
    "print(t2,type(t2))\n",
    "# pd.to_datetime()：如果是单个时间数据，转换成pandas的时刻数据，数据类型为Timestamp\n",
    "\n",
    "lst_date = ['2109-5-9','2019-5-10','2019-5-11']\n",
    "t3 = pd.to_datetime(lst_date)\n",
    "print(t3,type(t3))\n",
    "# 多个时间数据，将会转换为pandas的DatetimeIndex"
   ]
  },
  {
   "cell_type": "code",
   "execution_count": 318,
   "metadata": {},
   "outputs": [
    {
     "name": "stdout",
     "output_type": "stream",
     "text": [
      "DatetimeIndex(['2015-07-14', '2016-07-15', '2017-07-15', '2018-07-15'], dtype='datetime64[ns]', freq=None)\n",
      "DatetimeIndex(['2016-05-06', '2018-06-07', '2016-08-23'], dtype='datetime64[ns]', freq=None)\n",
      "Index(['2012-3-25', '2016-8-12', '2014-5-9', 'Hello World', '2017-5-3'], dtype='object') <class 'pandas.core.indexes.base.Index'>\n",
      "DatetimeIndex(['2012-03-25', '2016-08-12', '2014-05-09', 'NaT', '2017-05-03'], dtype='datetime64[ns]', freq=None) <class 'pandas.core.indexes.datetimes.DatetimeIndex'>\n"
     ]
    }
   ],
   "source": [
    "# pd.to_datetime → 多个时间数据转换时间戳索引\n",
    "\n",
    "from datetime import datetime\n",
    "\n",
    "date1 = [datetime(2015,7,14),datetime(2016,7,15),datetime(2017,7,15),datetime(2018,7,15)]\n",
    "date2 = ['2016-5-6','2018-6-7','2016-8-23']\n",
    "t1 = pd.to_datetime(date1)\n",
    "t2 = pd.to_datetime(date2)\n",
    "print(t1)\n",
    "print(t2)\n",
    "# 多个时间数据转换为 DatetimeIndex\n",
    "\n",
    "date3 = ['2012-3-25','2016-8-12','2014-5-9','Hello World','2017-5-3']\n",
    "t3 = pd.to_datetime(date3,errors='ignore')\n",
    "print(t3,type(t3))\n",
    "# 当一组时间序列中夹杂其他格式数据，可用errors参数返回\n",
    "# errors = 'ignore':不可解析时返回原始输入，这里就是直接生成一般数组\n",
    "\n",
    "t4 = pd.to_datetime(date3,errors='coerce')\n",
    "print(t4,type(t4))\n",
    "# errors = 'coerce':不可扩展，缺失值返回NaT（Not a Time），结果认为DatetimeIndex"
   ]
  },
  {
   "cell_type": "code",
   "execution_count": 319,
   "metadata": {},
   "outputs": [
    {
     "data": {
      "text/plain": [
       "'\\n【课程2.10】  Pandas时间戳索引：DatetimeIndex\\n\\n核心：pd.date_range()\\n\\n'"
      ]
     },
     "execution_count": 319,
     "metadata": {},
     "output_type": "execute_result"
    }
   ],
   "source": [
    "'''\n",
    "【课程2.10】  Pandas时间戳索引：DatetimeIndex\n",
    "\n",
    "核心：pd.date_range()\n",
    "\n",
    "'''"
   ]
  },
  {
   "cell_type": "code",
   "execution_count": 320,
   "metadata": {},
   "outputs": [
    {
     "name": "stdout",
     "output_type": "stream",
     "text": [
      "DatetimeIndex(['2019-05-01', '2019-05-02', '2019-05-03', '2019-05-04'], dtype='datetime64[ns]', freq=None) <class 'pandas.core.indexes.datetimes.DatetimeIndex'>\n",
      "2019-05-01 00:00:00 <class 'pandas._libs.tslibs.timestamps.Timestamp'>\n",
      "2019-05-01    0.672008\n",
      "2019-05-02    0.875904\n",
      "2019-05-03    0.039638\n",
      "2019-05-04    0.371164\n",
      "dtype: float64 <class 'pandas.core.series.Series'>\n",
      "DatetimeIndex(['2019-05-01', '2019-05-02', '2019-05-03', '2019-05-04'], dtype='datetime64[ns]', freq=None)\n"
     ]
    }
   ],
   "source": [
    "# pd.DatetimeIndex()与TimeSeries时间序列\n",
    "\n",
    "rng = pd.DatetimeIndex(['20190501','20190502','20190503','20190504'])\n",
    "print(rng,type(rng))\n",
    "print(rng[0],type(rng[0]))\n",
    "# 直接生成时间戳索引，支持str、datetime.datetime\n",
    "# 单个时间戳为Timestamp，多个时间戳为DatetimeIndex\n",
    "\n",
    "st = pd.Series(np.random.rand(len(rng)),index=rng)\n",
    "print(st,type(st))\n",
    "print(st.index)\n",
    "# 以DatetimeIndex为index的Series，为TimeSries，时间序列"
   ]
  },
  {
   "cell_type": "code",
   "execution_count": 321,
   "metadata": {},
   "outputs": [
    {
     "name": "stdout",
     "output_type": "stream",
     "text": [
      "DatetimeIndex(['2019-05-01', '2019-05-02', '2019-05-03', '2019-05-04',\n",
      "               '2019-05-05', '2019-05-06', '2019-05-07', '2019-05-08',\n",
      "               '2019-05-09', '2019-05-10'],\n",
      "              dtype='datetime64[ns]', freq='D')\n",
      "DatetimeIndex(['2019-05-01', '2019-05-02', '2019-05-03', '2019-05-04',\n",
      "               '2019-05-05', '2019-05-06', '2019-05-07', '2019-05-08',\n",
      "               '2019-05-09', '2019-05-10'],\n",
      "              dtype='datetime64[ns]', freq='D')\n",
      "DatetimeIndex(['2019-05-01', '2019-05-02', '2019-05-03', '2019-05-04',\n",
      "               '2019-05-05', '2019-05-06', '2019-05-07', '2019-05-08',\n",
      "               '2019-05-09', '2019-05-10'],\n",
      "              dtype='datetime64[ns]', freq='D')\n",
      "----------------------------------------------------------------------\n",
      "DatetimeIndex(['2019-05-10', '2019-05-11', '2019-05-12', '2019-05-13',\n",
      "               '2019-05-14', '2019-05-15', '2019-05-16', '2019-05-17',\n",
      "               '2019-05-18', '2019-05-19'],\n",
      "              dtype='datetime64[ns]', name='hello world', freq='D')\n",
      "hello world\n",
      "----------------------------------------------------------------------\n",
      "DatetimeIndex(['2019-06-01', '2019-06-02', '2019-06-03', '2019-06-04',\n",
      "               '2019-06-05', '2019-06-06', '2019-06-07', '2019-06-08',\n",
      "               '2019-06-09', '2019-06-10'],\n",
      "              dtype='datetime64[ns]', freq='D')\n",
      "DatetimeIndex(['2019-06-01', '2019-06-02', '2019-06-03', '2019-06-04',\n",
      "               '2019-06-05', '2019-06-06', '2019-06-07', '2019-06-08',\n",
      "               '2019-06-09'],\n",
      "              dtype='datetime64[ns]', freq='D')\n",
      "DatetimeIndex(['2019-06-02', '2019-06-03', '2019-06-04', '2019-06-05',\n",
      "               '2019-06-06', '2019-06-07', '2019-06-08', '2019-06-09',\n",
      "               '2019-06-10'],\n",
      "              dtype='datetime64[ns]', freq='D')\n",
      "DatetimeIndex(['2019-05-01', '2019-05-02', '2019-05-03', '2019-05-06',\n",
      "               '2019-05-07', '2019-05-08', '2019-05-09', '2019-05-10'],\n",
      "              dtype='datetime64[ns]', freq='B')\n",
      "[Timestamp('2109-05-01 00:00:00', freq='D'), Timestamp('2109-05-02 00:00:00', freq='D'), Timestamp('2109-05-03 00:00:00', freq='D'), Timestamp('2109-05-04 00:00:00', freq='D'), Timestamp('2109-05-05 00:00:00', freq='D'), Timestamp('2109-05-06 00:00:00', freq='D'), Timestamp('2109-05-07 00:00:00', freq='D'), Timestamp('2109-05-08 00:00:00', freq='D'), Timestamp('2109-05-09 00:00:00', freq='D'), Timestamp('2109-05-10 00:00:00', freq='D')]\n"
     ]
    }
   ],
   "source": [
    "# pd.date_range()-日期范围：生成日期范围\n",
    "# 2种生成方式：①start + end； ②start/end + periods\n",
    "# 默认频率：day\n",
    "\n",
    "rng1 = pd.date_range('20190501','20190510',normalize=True)\n",
    "rng2 = pd.date_range(start = '20190501',periods=10)\n",
    "rng3 = pd.date_range(end = '20190510',periods=10)\n",
    "print(rng1)\n",
    "print(rng2)\n",
    "print(rng3)\n",
    "\n",
    "# 直接生成DatetimeIndex\n",
    "# pd.date_range(start=None, end=None, periods=None, freq='D', tz=None, normalize=False, name=None, closed=None, **kwargs)\n",
    "# start：开始时间\n",
    "# end：结束时间\n",
    "# periods：偏移量\n",
    "# freq：频率，默认天，pd.date_range()默认频率为日历日，pd.bdate_range()默认频率为工作日\n",
    "# tz：时区\n",
    "print('----------------------------------------------------------------------')\n",
    "\n",
    "rng4 = pd.date_range(start = '20190510 15:36',periods=10,normalize=True,name = 'hello world')\n",
    "print(rng4)\n",
    "print(rng4.name)\n",
    "# normalize：时间参数值正则化到午夜时间戳（这里最后就直接变成0:00:00，并不是15:30:00）\n",
    "# name：索引对象名称\n",
    "print('----------------------------------------------------------------------')\n",
    "\n",
    "print(pd.date_range('20190601','20190610'))\n",
    "print(pd.date_range('20190601','20190610',closed = 'left'))\n",
    "print(pd.date_range('20190601','20190610',closed = 'right'))\n",
    "# closed：默认为None的情况下，左闭右闭，left则左闭右开，right则左开右闭\n",
    "\n",
    "print(pd.bdate_range('20190501','20190510'))\n",
    "# pd.bdate_range()默认频率为工作日,不包括周六和周日\n",
    "\n",
    "print(list(pd.date_range('21090501',periods=10)))\n",
    "# 直接转化为list，元素为Timestamp"
   ]
  },
  {
   "cell_type": "code",
   "execution_count": 322,
   "metadata": {},
   "outputs": [
    {
     "name": "stdout",
     "output_type": "stream",
     "text": [
      "DatetimeIndex(['2019-05-10', '2019-05-11', '2019-05-12', '2019-05-13',\n",
      "               '2019-05-14', '2019-05-15', '2019-05-16', '2019-05-17',\n",
      "               '2019-05-18', '2019-05-19', '2019-05-20'],\n",
      "              dtype='datetime64[ns]', freq='D')\n",
      "DatetimeIndex(['2019-05-10', '2019-05-13', '2019-05-14', '2019-05-15',\n",
      "               '2019-05-16', '2019-05-17', '2019-05-20'],\n",
      "              dtype='datetime64[ns]', freq='B')\n",
      "DatetimeIndex(['2019-05-10 00:00:00', '2019-05-10 01:00:00',\n",
      "               '2019-05-10 02:00:00', '2019-05-10 03:00:00',\n",
      "               '2019-05-10 04:00:00', '2019-05-10 05:00:00',\n",
      "               '2019-05-10 06:00:00', '2019-05-10 07:00:00',\n",
      "               '2019-05-10 08:00:00', '2019-05-10 09:00:00',\n",
      "               ...\n",
      "               '2019-05-19 15:00:00', '2019-05-19 16:00:00',\n",
      "               '2019-05-19 17:00:00', '2019-05-19 18:00:00',\n",
      "               '2019-05-19 19:00:00', '2019-05-19 20:00:00',\n",
      "               '2019-05-19 21:00:00', '2019-05-19 22:00:00',\n",
      "               '2019-05-19 23:00:00', '2019-05-20 00:00:00'],\n",
      "              dtype='datetime64[ns]', length=241, freq='H')\n",
      "DatetimeIndex(['2019-05-09 10:28:00', '2019-05-09 10:29:00',\n",
      "               '2019-05-09 10:30:00', '2019-05-09 10:31:00',\n",
      "               '2019-05-09 10:32:00', '2019-05-09 10:33:00',\n",
      "               '2019-05-09 10:34:00', '2019-05-09 10:35:00',\n",
      "               '2019-05-09 10:36:00', '2019-05-09 10:37:00',\n",
      "               ...\n",
      "               '2019-05-09 22:51:00', '2019-05-09 22:52:00',\n",
      "               '2019-05-09 22:53:00', '2019-05-09 22:54:00',\n",
      "               '2019-05-09 22:55:00', '2019-05-09 22:56:00',\n",
      "               '2019-05-09 22:57:00', '2019-05-09 22:58:00',\n",
      "               '2019-05-09 22:59:00', '2019-05-09 23:00:00'],\n",
      "              dtype='datetime64[ns]', length=753, freq='T')\n",
      "DatetimeIndex(['2019-05-09 10:30:00', '2019-05-09 10:30:01',\n",
      "               '2019-05-09 10:30:02', '2019-05-09 10:30:03',\n",
      "               '2019-05-09 10:30:04', '2019-05-09 10:30:05',\n",
      "               '2019-05-09 10:30:06', '2019-05-09 10:30:07',\n",
      "               '2019-05-09 10:30:08', '2019-05-09 10:30:09',\n",
      "               '2019-05-09 10:30:10'],\n",
      "              dtype='datetime64[ns]', freq='S')\n",
      "DatetimeIndex([       '2019-05-09 10:34:00', '2019-05-09 10:34:00.001000',\n",
      "               '2019-05-09 10:34:00.002000', '2019-05-09 10:34:00.003000',\n",
      "               '2019-05-09 10:34:00.004000', '2019-05-09 10:34:00.005000',\n",
      "               '2019-05-09 10:34:00.006000', '2019-05-09 10:34:00.007000',\n",
      "               '2019-05-09 10:34:00.008000', '2019-05-09 10:34:00.009000',\n",
      "               ...\n",
      "               '2019-05-09 10:34:00.991000', '2019-05-09 10:34:00.992000',\n",
      "               '2019-05-09 10:34:00.993000', '2019-05-09 10:34:00.994000',\n",
      "               '2019-05-09 10:34:00.995000', '2019-05-09 10:34:00.996000',\n",
      "               '2019-05-09 10:34:00.997000', '2019-05-09 10:34:00.998000',\n",
      "               '2019-05-09 10:34:00.999000',        '2019-05-09 10:34:01'],\n",
      "              dtype='datetime64[ns]', length=1001, freq='L')\n",
      "DatetimeIndex([       '2019-05-09 10:36:00', '2019-05-09 10:36:00.000001',\n",
      "               '2019-05-09 10:36:00.000002', '2019-05-09 10:36:00.000003',\n",
      "               '2019-05-09 10:36:00.000004', '2019-05-09 10:36:00.000005',\n",
      "               '2019-05-09 10:36:00.000006', '2019-05-09 10:36:00.000007',\n",
      "               '2019-05-09 10:36:00.000008', '2019-05-09 10:36:00.000009',\n",
      "               ...\n",
      "               '2019-05-09 10:36:00.999991', '2019-05-09 10:36:00.999992',\n",
      "               '2019-05-09 10:36:00.999993', '2019-05-09 10:36:00.999994',\n",
      "               '2019-05-09 10:36:00.999995', '2019-05-09 10:36:00.999996',\n",
      "               '2019-05-09 10:36:00.999997', '2019-05-09 10:36:00.999998',\n",
      "               '2019-05-09 10:36:00.999999',        '2019-05-09 10:36:01'],\n",
      "              dtype='datetime64[ns]', length=1000001, freq='U')\n",
      "-----------------------------------------------------------\n",
      "DatetimeIndex(['2019-05-06', '2019-05-13', '2019-05-20', '2019-05-27'], dtype='datetime64[ns]', freq='W-MON')\n",
      "DatetimeIndex(['2019-05-13'], dtype='datetime64[ns]', freq='WOM-2MON')\n"
     ]
    }
   ],
   "source": [
    "# pd.date_range()-日期范围：频率(1)\n",
    "\n",
    "print(pd.date_range('20190510','20190520'))                          # 默认freq = 'D'：每日历日\n",
    "print(pd.date_range('20190510','20190520',freq='B'))                 # B：每工作日\n",
    "print(pd.date_range('20190510','20190520',freq='H'))                 # H：每小时\n",
    "print(pd.date_range('20190509 10:28:00','20190509 23:00:00',freq='T'))       # T/MIN：每分\n",
    "print(pd.date_range('20190509 10:30:0','20190509 10:30:10',freq='S'))        # S：每秒\n",
    "print(pd.date_range('20190509 10:34:00','20190509 10:34:01',freq='L'))       # L：每毫秒（千分之一秒）\n",
    "print(pd.date_range('20190509 10:36:00','20190509 10:36:01',freq='U'))       # U：每微秒（百万分之一秒）\n",
    "print('-----------------------------------------------------------')\n",
    "\n",
    "print(pd.date_range('20190501','20190601',freq='W-MON'))\n",
    "# W-MON：从指定星期几开始算起，每周\n",
    "# 星期几缩写：MON/TUE/WED/THU/FRI/SAT/SUN\n",
    "\n",
    "print(pd.date_range('20190501','20190601',freq='WOM-2MON'))\n",
    "# WOM-2MON：每月的第几个星期几开始算，这里是每月第二个星期一"
   ]
  },
  {
   "cell_type": "code",
   "execution_count": 323,
   "metadata": {},
   "outputs": [
    {
     "name": "stdout",
     "output_type": "stream",
     "text": [
      "DatetimeIndex(['2018-01-31', '2018-02-28', '2018-03-31', '2018-04-30',\n",
      "               '2018-05-31', '2018-06-30', '2018-07-31', '2018-08-31',\n",
      "               '2018-09-30', '2018-10-31', '2018-11-30', '2018-12-31'],\n",
      "              dtype='datetime64[ns]', freq='M')\n",
      "DatetimeIndex(['2018-03-31', '2018-06-30', '2018-09-30', '2018-12-31'], dtype='datetime64[ns]', freq='Q-DEC')\n",
      "DatetimeIndex(['2017-11-30', '2018-11-30'], dtype='datetime64[ns]', freq='A-NOV')\n",
      "-----------------------------------------------------------------------------------\n",
      "DatetimeIndex(['2017-01-31', '2017-02-28', '2017-03-31', '2017-04-28',\n",
      "               '2017-05-31', '2017-06-30', '2017-07-31', '2017-08-31',\n",
      "               '2017-09-29', '2017-10-31', '2017-11-30', '2017-12-29'],\n",
      "              dtype='datetime64[ns]', freq='BM')\n",
      "DatetimeIndex(['2017-03-31', '2017-06-30', '2017-09-29', '2017-12-29',\n",
      "               '2018-03-30', '2018-06-29', '2018-09-28', '2018-12-31',\n",
      "               '2019-03-29', '2019-06-28', '2019-09-30', '2019-12-31'],\n",
      "              dtype='datetime64[ns]', freq='BQ-DEC')\n",
      "DatetimeIndex(['2017-12-29', '2018-12-31', '2019-12-31'], dtype='datetime64[ns]', freq='BA-DEC')\n",
      "DatetimeIndex(['2017-01-01', '2017-02-01', '2017-03-01', '2017-04-01',\n",
      "               '2017-05-01', '2017-06-01', '2017-07-01', '2017-08-01',\n",
      "               '2017-09-01', '2017-10-01', '2017-11-01', '2017-12-01',\n",
      "               '2018-01-01'],\n",
      "              dtype='datetime64[ns]', freq='MS')\n",
      "DatetimeIndex(['2017-03-01', '2017-06-01', '2017-09-01', '2017-12-01',\n",
      "               '2018-03-01', '2018-06-01', '2018-09-01', '2018-12-01',\n",
      "               '2019-03-01', '2019-06-01', '2019-09-01', '2019-12-01'],\n",
      "              dtype='datetime64[ns]', freq='QS-DEC')\n",
      "DatetimeIndex(['2017-12-01', '2018-12-01', '2019-12-01'], dtype='datetime64[ns]', freq='AS-DEC')\n",
      "-----------------------------------------------------------------------------------\n",
      "DatetimeIndex(['2017-01-02', '2017-02-01', '2017-03-01', '2017-04-03',\n",
      "               '2017-05-01', '2017-06-01', '2017-07-03', '2017-08-01',\n",
      "               '2017-09-01', '2017-10-02', '2017-11-01', '2017-12-01',\n",
      "               '2018-01-01'],\n",
      "              dtype='datetime64[ns]', freq='BMS')\n",
      "DatetimeIndex(['2017-03-01', '2017-06-01', '2017-09-01', '2017-12-01',\n",
      "               '2018-03-01', '2018-06-01', '2018-09-03', '2018-12-03',\n",
      "               '2019-03-01', '2019-06-03', '2019-09-02', '2019-12-02'],\n",
      "              dtype='datetime64[ns]', freq='BQS-DEC')\n",
      "DatetimeIndex(['2017-12-01', '2018-12-03', '2019-12-02'], dtype='datetime64[ns]', freq='BAS-DEC')\n"
     ]
    }
   ],
   "source": [
    "# pd.date_range()-日期范围：频率(2)\n",
    "\n",
    "print(pd.date_range('2018','2019',freq='M'))           # M：每月最后一个日历日\n",
    "print(pd.date_range('2018','2019',freq='Q-DEC'))       # Q-月：指定月为季度末，每个季度末最后一月的最后一个日历日\n",
    "print(pd.date_range('2017','2019',freq='A-NOV'))       # A-月：每年指定月份的最后一个日历日\n",
    "# 月缩写：JAN/FEB/MAR/APR/MAY/JUN/JUL/AUG/SEP/OCT/NOV/DEC\n",
    "# 所以Q-月只有三种情况：1-4-7-10,2-5-8-11,3-6-9-12\n",
    "print('-----------------------------------------------------------------------------------')\n",
    "\n",
    "print(pd.date_range('2017','2018', freq = 'BM'))  \n",
    "print(pd.date_range('2017','2020', freq = 'BQ-DEC'))  \n",
    "print(pd.date_range('2017','2020', freq = 'BA-DEC')) \n",
    "# BM：每月最后一个工作日\n",
    "# BQ-月：指定月为季度末，每个季度末最后一月的最后一个工作日\n",
    "# BA-月：每年指定月份的最后一个工作日\n",
    "\n",
    "print(pd.date_range('2017','2018', freq = 'MS'))  \n",
    "print(pd.date_range('2017','2020', freq = 'QS-DEC'))  \n",
    "print(pd.date_range('2017','2020', freq = 'AS-DEC')) \n",
    "# M：每月第一个日历日\n",
    "# Q-月：指定月为季度末，每个季度末最后一月的第一个日历日\n",
    "# A-月：每年指定月份的第一个日历日\n",
    "print('-----------------------------------------------------------------------------------')\n",
    "\n",
    "print(pd.date_range('2017','2018', freq = 'BMS'))  \n",
    "print(pd.date_range('2017','2020', freq = 'BQS-DEC'))  \n",
    "print(pd.date_range('2017','2020', freq = 'BAS-DEC')) \n",
    "# BM：每月第一个工作日\n",
    "# BQ-月：指定月为季度末，每个季度末最后一月的第一个工作日\n",
    "# BA-月：每年指定月份的第一个工作日"
   ]
  },
  {
   "cell_type": "code",
   "execution_count": 324,
   "metadata": {},
   "outputs": [
    {
     "name": "stdout",
     "output_type": "stream",
     "text": [
      "DatetimeIndex(['2019-05-01', '2019-05-08', '2019-05-15', '2019-05-22',\n",
      "               '2019-05-29'],\n",
      "              dtype='datetime64[ns]', freq='7D')\n",
      "DatetimeIndex(['2019-05-09 11:05:00', '2019-05-09 13:35:00',\n",
      "               '2019-05-09 16:05:00', '2019-05-09 18:35:00',\n",
      "               '2019-05-09 21:05:00', '2019-05-09 23:35:00'],\n",
      "              dtype='datetime64[ns]', freq='150T')\n",
      "DatetimeIndex(['2018-01-31', '2018-03-31', '2018-05-31', '2018-07-31',\n",
      "               '2018-09-30', '2018-11-30'],\n",
      "              dtype='datetime64[ns]', freq='2M')\n"
     ]
    }
   ],
   "source": [
    "# pd.date_range()-日期范围：复合频率\n",
    "\n",
    "print(pd.date_range('20190501','20190601',freq='7D'))                  # 7天\n",
    "print(pd.date_range('20190509 11:05:00','20190510',freq='2h30min'))    # 2小时30分钟\n",
    "print(pd.date_range('2018','2019',freq='2M'))                          # 2月，每月最后一个日历日"
   ]
  },
  {
   "cell_type": "code",
   "execution_count": 325,
   "metadata": {},
   "outputs": [
    {
     "name": "stdout",
     "output_type": "stream",
     "text": [
      "2019-05-09    0.631307\n",
      "2019-05-10    0.163521\n",
      "2019-05-11    0.915930\n",
      "2019-05-12    0.975276\n",
      "Freq: D, dtype: float64\n",
      "2019-05-09 00:00:00    0.631307\n",
      "2019-05-09 04:00:00    0.631307\n",
      "2019-05-09 08:00:00    0.631307\n",
      "2019-05-09 12:00:00    0.631307\n",
      "2019-05-09 16:00:00    0.631307\n",
      "2019-05-09 20:00:00    0.631307\n",
      "2019-05-10 00:00:00    0.163521\n",
      "2019-05-10 04:00:00    0.163521\n",
      "2019-05-10 08:00:00    0.163521\n",
      "2019-05-10 12:00:00    0.163521\n",
      "2019-05-10 16:00:00    0.163521\n",
      "2019-05-10 20:00:00    0.163521\n",
      "2019-05-11 00:00:00    0.915930\n",
      "2019-05-11 04:00:00    0.915930\n",
      "2019-05-11 08:00:00    0.915930\n",
      "2019-05-11 12:00:00    0.915930\n",
      "2019-05-11 16:00:00    0.915930\n",
      "2019-05-11 20:00:00    0.915930\n",
      "2019-05-12 00:00:00    0.975276\n",
      "Freq: 4H, dtype: float64\n"
     ]
    }
   ],
   "source": [
    "# asfreq：时期频率转换\n",
    "\n",
    "ts = pd.Series(np.random.rand(4),\n",
    "               index = pd.date_range('20190509','20190512'))\n",
    "print(ts)\n",
    "print(ts.asfreq('4H',method = 'ffill'))\n",
    "# 改变频率，这里是D改为4H\n",
    "# method：插值模式，None不插值，ffill用之前值填充，bfill用之后值填充"
   ]
  },
  {
   "cell_type": "code",
   "execution_count": 326,
   "metadata": {},
   "outputs": [
    {
     "name": "stdout",
     "output_type": "stream",
     "text": [
      "2019-05-01    0.053058\n",
      "2019-05-02    0.076095\n",
      "2019-05-03    0.128654\n",
      "2019-05-04    0.249387\n",
      "Freq: D, dtype: float64\n",
      "2019-05-01         NaN\n",
      "2019-05-02         NaN\n",
      "2019-05-03    0.053058\n",
      "2019-05-04    0.076095\n",
      "Freq: D, dtype: float64\n",
      "2019-05-01    0.128654\n",
      "2019-05-02    0.249387\n",
      "2019-05-03         NaN\n",
      "2019-05-04         NaN\n",
      "Freq: D, dtype: float64\n",
      "------------------------------\n",
      "2019-05-01         NaN\n",
      "2019-05-02         NaN\n",
      "2019-05-03    1.424775\n",
      "2019-05-04    2.277312\n",
      "Freq: D, dtype: float64\n",
      "------------------------------\n",
      "2019-05-01 00:02:00    0.053058\n",
      "2019-05-02 00:02:00    0.076095\n",
      "2019-05-03 00:02:00    0.128654\n",
      "2019-05-04 00:02:00    0.249387\n",
      "Freq: D, dtype: float64\n",
      "2019-05-03    0.053058\n",
      "2019-05-04    0.076095\n",
      "2019-05-05    0.128654\n",
      "2019-05-06    0.249387\n",
      "Freq: D, dtype: float64\n"
     ]
    }
   ],
   "source": [
    "# pd.date_range()-日期范围：超前/滞后数据\n",
    "\n",
    "ts = pd.Series(np.random.rand(4),\n",
    "               index = pd.date_range('2019-05-01','2019-05-04',freq='D'))\n",
    "print(ts)\n",
    "print(ts.shift(2))\n",
    "print(ts.shift(-2))\n",
    "# 正数：数值后移（滞后）；负数：数值前移（超前）\n",
    "print('------------------------------')\n",
    "\n",
    "per = ts/ts.shift(2) - 1\n",
    "print(per)\n",
    "# 计算变化百分比，这里计算：该时间戳与上一个时间戳相比，变化百分比\n",
    "print('------------------------------')\n",
    "\n",
    "print(ts.shift(2,freq='T'))\n",
    "print(ts.shift(2,freq='D'))\n",
    "# 加上freq参数：对时间戳进行位移，而不是对数值进行位移"
   ]
  },
  {
   "cell_type": "code",
   "execution_count": 327,
   "metadata": {},
   "outputs": [
    {
     "data": {
      "text/plain": [
       "'\\n【课程2.11】  Pandas时期：Period\\n\\n核心：pd.Period()\\n\\n'"
      ]
     },
     "execution_count": 327,
     "metadata": {},
     "output_type": "execute_result"
    }
   ],
   "source": [
    "'''\n",
    "【课程2.11】  Pandas时期：Period\n",
    "\n",
    "核心：pd.Period()\n",
    "\n",
    "'''"
   ]
  },
  {
   "cell_type": "code",
   "execution_count": 328,
   "metadata": {},
   "outputs": [
    {
     "name": "stdout",
     "output_type": "stream",
     "text": [
      "2019-01 <class 'pandas._libs.tslibs.period.Period'>\n",
      "2019-02\n",
      "2019-03\n",
      "2018-12\n",
      "2017\n"
     ]
    }
   ],
   "source": [
    "# pd.Period()创建时期\n",
    "\n",
    "p = pd.Period('2019',freq='M')\n",
    "print(p,type(p))\n",
    "# 生成一个以2017-01开始，月为频率的时间构造器\n",
    "# pd.Period()参数：一个时间戳 + freq 参数 → freq 用于指明该 period 的长度，时间戳则说明该 period 在时间轴上的位置\n",
    "\n",
    "print(p + 1)\n",
    "print(p + 2)\n",
    "print(p - 1)\n",
    "print(pd.Period('2018',freq='A-DEC') -1 )\n",
    "# 通过加减整数，将周期整体移动\n",
    "# 这里是按照 月、年 移动"
   ]
  },
  {
   "cell_type": "code",
   "execution_count": 329,
   "metadata": {},
   "outputs": [
    {
     "name": "stdout",
     "output_type": "stream",
     "text": [
      "PeriodIndex(['2018-01', '2018-02', '2018-03', '2018-04', '2018-05', '2018-06',\n",
      "             '2018-07', '2018-08', '2018-09', '2018-10', '2018-11', '2018-12',\n",
      "             '2019-01'],\n",
      "            dtype='period[M]', freq='M') <class 'pandas.core.indexes.period.PeriodIndex'>\n",
      "2018-01 <class 'pandas._libs.tslibs.period.Period'>\n",
      "2018-01    0.671723\n",
      "2018-02    0.942481\n",
      "2018-03    0.270052\n",
      "2018-04    0.567035\n",
      "2018-05    0.718462\n",
      "2018-06    0.720624\n",
      "2018-07    0.694748\n",
      "2018-08    0.807426\n",
      "2018-09    0.867921\n",
      "2018-10    0.110668\n",
      "2018-11    0.903818\n",
      "2018-12    0.876208\n",
      "2019-01    0.391660\n",
      "Freq: M, dtype: float64 <class 'pandas.core.series.Series'>\n",
      "PeriodIndex(['2018-01', '2018-02', '2018-03', '2018-04', '2018-05', '2018-06',\n",
      "             '2018-07', '2018-08', '2018-09', '2018-10', '2018-11', '2018-12',\n",
      "             '2019-01'],\n",
      "            dtype='period[M]', freq='M')\n",
      "0.6717232865769562\n"
     ]
    }
   ],
   "source": [
    "# pd.period_range()创建时期范围\n",
    "\n",
    "prng = pd.period_range('2018-1-1','2019-1-1',freq='M')\n",
    "print(prng,type(prng))\n",
    "print(prng[0],type(prng[0]))\n",
    "# 数据格式为PeriodIndex，单个数值为Period\n",
    "\n",
    "ts = pd.Series(np.random.rand(len(prng)),index = prng)\n",
    "print(ts,type(ts))\n",
    "print(ts.index)\n",
    "print(ts.loc['201801'])\n",
    "# Period('2011', freq = 'A-DEC')可以看成多个时间期的时间段中的游标\n",
    "# Timestamp表示一个时间戳，是一个时间截面；Period是一个时期，是一个时间段！！但两者作为index时区别不大"
   ]
  },
  {
   "cell_type": "code",
   "execution_count": 330,
   "metadata": {},
   "outputs": [
    {
     "name": "stdout",
     "output_type": "stream",
     "text": [
      "2019\n",
      "2019-01\n",
      "2019-12-31\n",
      "PeriodIndex(['2018-01', '2018-02', '2018-03', '2018-04', '2018-05', '2018-06',\n",
      "             '2018-07', '2018-08', '2018-09', '2018-10', '2018-11', '2018-12',\n",
      "             '2019-01'],\n",
      "            dtype='period[M]', freq='M')\n",
      "2018-01    0.157682\n",
      "2018-02    0.554182\n",
      "2018-03    0.692579\n",
      "2018-04    0.934100\n",
      "2018-05    0.948561\n",
      "2018-06    0.872020\n",
      "2018-07    0.466824\n",
      "2018-08    0.545997\n",
      "2018-09    0.254242\n",
      "2018-10    0.226703\n",
      "2018-11    0.814965\n",
      "2018-12    0.099599\n",
      "2019-01    0.054446\n",
      "Freq: M, dtype: float64 \n",
      " 2018-01    0.157682\n",
      "2018-02    0.554182\n",
      "2018-03    0.692579\n",
      "2018-04    0.934100\n",
      "2018-05    0.948561\n",
      "Freq: M, dtype: float64 13\n",
      "2018-01-01    0.299510\n",
      "2018-02-01    0.737970\n",
      "2018-03-01    0.847048\n",
      "2018-04-01    0.439468\n",
      "2018-05-01    0.377016\n",
      "2018-06-01    0.205563\n",
      "2018-07-01    0.048824\n",
      "2018-08-01    0.693732\n",
      "2018-09-01    0.965949\n",
      "2018-10-01    0.281304\n",
      "2018-11-01    0.908528\n",
      "2018-12-01    0.600126\n",
      "2019-01-01    0.573336\n",
      "Freq: D, dtype: float64 \n",
      " 2018-01-01    0.299510\n",
      "2018-02-01    0.737970\n",
      "2018-03-01    0.847048\n",
      "2018-04-01    0.439468\n",
      "2018-05-01    0.377016\n",
      "Freq: D, dtype: float64 13\n"
     ]
    }
   ],
   "source": [
    "# asfreq：频率转换\n",
    "\n",
    "p = pd.Period('2019',freq = 'A-DEC')\n",
    "print(p)\n",
    "print(p.asfreq('M',how = 'start'))   # 也可写 how = 's'\n",
    "print(p.asfreq('D',how = 'end'))     # 也可写 how = 'e'\n",
    "# 通过.asfreq(freq, method=None, how=None)方法转换成别的频率\n",
    "\n",
    "prng = pd.period_range('2018','2019',freq='M')\n",
    "ts1 = pd.Series(np.random.rand(len(prng)),index = prng)\n",
    "ts2 = pd.Series(np.random.rand(len(prng)),index = prng.asfreq('D',how = 's'))\n",
    "print(prng)\n",
    "print(ts1,'\\n',ts1.head(),len(ts1))\n",
    "print(ts2,'\\n',ts2.head(),len(ts2))\n",
    "# asfreq也可以转换TIMESeries的index"
   ]
  },
  {
   "cell_type": "code",
   "execution_count": 331,
   "metadata": {},
   "outputs": [
    {
     "name": "stdout",
     "output_type": "stream",
     "text": [
      "DatetimeIndex(['2019-01-31', '2019-02-28', '2019-03-31', '2019-04-30',\n",
      "               '2019-05-31', '2019-06-30', '2019-07-31', '2019-08-31',\n",
      "               '2019-09-30', '2019-10-31'],\n",
      "              dtype='datetime64[ns]', freq='M')\n",
      "PeriodIndex(['2019-01', '2019-02', '2019-03', '2019-04', '2019-05', '2019-06',\n",
      "             '2019-07', '2019-08', '2019-09', '2019-10'],\n",
      "            dtype='period[M]', freq='M')\n",
      "2019-01-31    0.204114\n",
      "2019-02-28    0.965976\n",
      "2019-03-31    0.499255\n",
      "2019-04-30    0.172809\n",
      "2019-05-31    0.977333\n",
      "2019-06-30    0.456969\n",
      "2019-07-31    0.948631\n",
      "2019-08-31    0.488249\n",
      "2019-09-30    0.239997\n",
      "2019-10-31    0.732033\n",
      "Freq: M, dtype: float64\n",
      "2019-01    0.204114\n",
      "2019-02    0.965976\n",
      "2019-03    0.499255\n",
      "2019-04    0.172809\n",
      "2019-05    0.977333\n",
      "2019-06    0.456969\n",
      "2019-07    0.948631\n",
      "2019-08    0.488249\n",
      "2019-09    0.239997\n",
      "2019-10    0.732033\n",
      "Freq: M, dtype: float64\n",
      "-------------------------------------------------\n",
      "2019-01    0.582318\n",
      "2019-02    0.088673\n",
      "2019-03    0.275551\n",
      "2019-04    0.801795\n",
      "2019-05    0.477509\n",
      "2019-06    0.331742\n",
      "2019-07    0.991255\n",
      "2019-08    0.163476\n",
      "2019-09    0.895775\n",
      "2019-10    0.544232\n",
      "Freq: M, dtype: float64\n",
      "2019-01-01    0.582318\n",
      "2019-02-01    0.088673\n",
      "2019-03-01    0.275551\n",
      "2019-04-01    0.801795\n",
      "2019-05-01    0.477509\n",
      "2019-06-01    0.331742\n",
      "2019-07-01    0.991255\n",
      "2019-08-01    0.163476\n",
      "2019-09-01    0.895775\n",
      "2019-10-01    0.544232\n",
      "Freq: MS, dtype: float64\n"
     ]
    }
   ],
   "source": [
    "# 时间戳与时期之间的转换：pd.to_period()、pd.to_timestamp()\n",
    "\n",
    "rng = pd.date_range('2019/1/1',periods=10,freq='M')\n",
    "prng = pd.period_range('2019/1/1',periods=10,freq='M')\n",
    "print(rng)\n",
    "print(prng)\n",
    "ts1 = pd.Series(np.random.rand(len(rng)),index = rng)\n",
    "print(ts1)\n",
    "print(ts1.to_period())\n",
    "# 每月最后一日，转化为每月\n",
    "print('-------------------------------------------------')\n",
    "\n",
    "ts2 = pd.Series(np.random.rand(len(prng)),index=prng)\n",
    "print(ts2)\n",
    "print(ts2.to_timestamp())\n",
    "# 每月，转化为每月第一天"
   ]
  },
  {
   "cell_type": "code",
   "execution_count": 332,
   "metadata": {},
   "outputs": [
    {
     "data": {
      "text/plain": [
       "'\\n【课程2.12】  时间序列 - 索引及切片\\n\\nTimeSeries是Series的一个子类，所以Series索引及数据选取方面的方法基本一样\\n\\n同时TimeSeries通过时间序列有更便捷的方法做索引和切片\\n \\n'"
      ]
     },
     "execution_count": 332,
     "metadata": {},
     "output_type": "execute_result"
    }
   ],
   "source": [
    "'''\n",
    "【课程2.12】  时间序列 - 索引及切片\n",
    "\n",
    "TimeSeries是Series的一个子类，所以Series索引及数据选取方面的方法基本一样\n",
    "\n",
    "同时TimeSeries通过时间序列有更便捷的方法做索引和切片\n",
    " \n",
    "'''"
   ]
  },
  {
   "cell_type": "code",
   "execution_count": 333,
   "metadata": {},
   "outputs": [
    {
     "name": "stdout",
     "output_type": "stream",
     "text": [
      "DatetimeIndex(['2019-05-01', '2019-05-02', '2019-05-03', '2019-05-04',\n",
      "               '2019-05-05', '2019-05-06', '2019-05-07', '2019-05-08',\n",
      "               '2019-05-09', '2019-05-10'],\n",
      "              dtype='datetime64[ns]', freq='D')\n",
      "2019-05-01    0.007676\n",
      "2019-05-02    0.401138\n",
      "2019-05-03    0.055752\n",
      "2019-05-04    0.191848\n",
      "2019-05-05    0.556187\n",
      "2019-05-06    0.231452\n",
      "2019-05-07    0.886460\n",
      "2019-05-08    0.637471\n",
      "2019-05-09    0.245082\n",
      "2019-05-10    0.936989\n",
      "Freq: D, dtype: float64\n",
      "0.007675835898198646\n",
      "2019-05-01    0.007676\n",
      "2019-05-02    0.401138\n",
      "Freq: D, dtype: float64\n",
      "----------------------------\n",
      "0.007675835898198646\n",
      "0.401137538957942\n",
      "0.1918475111671366\n",
      "0.637470834278187\n"
     ]
    }
   ],
   "source": [
    "# 索引\n",
    "from datetime import datetime\n",
    "\n",
    "rng = pd.date_range('2019-5-1','2019-5-10')\n",
    "ts = pd.Series(np.random.rand(len(rng)),index=rng)\n",
    "print(rng)\n",
    "print(ts)\n",
    "print(ts[0])\n",
    "print(ts[:2])\n",
    "# 基本下标位置索引\n",
    "print('----------------------------')\n",
    "\n",
    "print(ts['20190501'])\n",
    "print(ts['2019-5-2'])\n",
    "print(ts['5/4/2019'])\n",
    "print(ts[datetime(2019,5,8)])\n",
    "# 时间序列标签索引，支持各种时间字符串，以及datetime.datetime\n",
    "# 时间序列由于按照时间先后排序，故不用考虑顺序问题\n",
    "# 索引方法同样适用于Dataframe"
   ]
  },
  {
   "cell_type": "code",
   "execution_count": 334,
   "metadata": {},
   "outputs": [
    {
     "name": "stdout",
     "output_type": "stream",
     "text": [
      "2019-05-01 00:00:00    0.824510\n",
      "2019-05-01 12:00:00    0.850476\n",
      "2019-05-02 00:00:00    0.610764\n",
      "2019-05-02 12:00:00    0.914181\n",
      "2019-05-03 00:00:00    0.301204\n",
      "2019-05-03 12:00:00    0.781516\n",
      "2019-05-04 00:00:00    0.098486\n",
      "2019-05-04 12:00:00    0.882428\n",
      "2019-05-05 00:00:00    0.425494\n",
      "2019-05-05 12:00:00    0.713510\n",
      "2019-05-06 00:00:00    0.847838\n",
      "2019-05-06 12:00:00    0.472542\n",
      "Freq: 12H, dtype: float64\n",
      "-------------------------------------------------\n",
      "2019-06-01 00:00:00    0.049435\n",
      "2019-06-01 12:00:00    0.920354\n",
      "2019-06-02 00:00:00    0.289688\n",
      "2019-06-02 12:00:00    0.330201\n",
      "2019-06-03 00:00:00    0.760009\n",
      "2019-06-03 12:00:00    0.167976\n",
      "2019-06-04 00:00:00    0.533373\n",
      "2019-06-04 12:00:00    0.119766\n",
      "2019-06-05 00:00:00    0.683502\n",
      "2019-06-05 12:00:00    0.158225\n",
      "2019-06-06 00:00:00    0.239095\n",
      "2019-06-06 12:00:00    0.225113\n",
      "2019-06-07 00:00:00    0.134471\n",
      "2019-06-07 12:00:00    0.404449\n",
      "2019-06-08 00:00:00    0.615916\n",
      "2019-06-08 12:00:00    0.772118\n",
      "2019-06-09 00:00:00    0.125563\n",
      "2019-06-09 12:00:00    0.922336\n",
      "2019-06-10 00:00:00    0.880228\n",
      "Freq: 12H, dtype: float64\n"
     ]
    }
   ],
   "source": [
    "# 切片\n",
    "\n",
    "rng = pd.date_range('2019-5-1','2019-6-10',freq='12H')\n",
    "ts = pd.Series(np.random.rand(len(rng)),index=rng)\n",
    "#print(rng)\n",
    "print(ts['20190501':'20190506'])\n",
    "# 和Series按照index索引原理一样，也是末端包含\n",
    "print('-------------------------------------------------')\n",
    "print(ts['2019-6'])\n",
    "# 传入月，直接得到一个切片"
   ]
  },
  {
   "cell_type": "code",
   "execution_count": 335,
   "metadata": {},
   "outputs": [
    {
     "name": "stdout",
     "output_type": "stream",
     "text": [
      "DatetimeIndex(['2019-05-01', '2019-05-02', '2019-05-03', '2019-05-04',\n",
      "               '2019-05-01', '2019-05-03'],\n",
      "              dtype='datetime64[ns]', freq=None)\n",
      "2019-05-01    0.715886\n",
      "2019-05-02    0.294607\n",
      "2019-05-03    0.623235\n",
      "2019-05-04    0.384185\n",
      "2019-05-01    0.571500\n",
      "2019-05-03    0.839638\n",
      "dtype: float64\n",
      "True\n",
      "False\n",
      "-----------------------------\n",
      "2019-05-01    0.715886\n",
      "2019-05-01    0.571500\n",
      "dtype: float64 <class 'pandas.core.series.Series'>\n",
      "2019-05-02    0.294607\n",
      "dtype: float64 <class 'pandas.core.series.Series'>\n",
      "-----------------------------\n",
      "2019-05-01    0.643693\n",
      "2019-05-02    0.294607\n",
      "2019-05-03    0.731436\n",
      "2019-05-04    0.384185\n",
      "dtype: float64\n"
     ]
    }
   ],
   "source": [
    "# 重复索引的时间序列\n",
    "\n",
    "dates = pd.DatetimeIndex(['5-1-2019','5-2-2019','5-3-2019','5-4-2019','5-1-2019','2019-5-3'])\n",
    "ts = pd.Series(np.random.rand(len(dates)),index = dates)\n",
    "print(dates)\n",
    "print(ts)\n",
    "print(ts.is_unique)\n",
    "print(ts.index.is_unique)\n",
    "# index有重复，is_unique检查 → values唯一，index不唯一\n",
    "print('-----------------------------')\n",
    "\n",
    "print(ts['2019-5-1'],type(ts['2019-5-1']))\n",
    "print(ts['2019-5-2'],type(ts['2019-5-2']))\n",
    "# index有重复的将返回多个值\n",
    "print('-----------------------------')\n",
    "\n",
    "print(ts.groupby(level=0).mean())\n",
    "# 通过groupby做分组，重复的值这里用平均值处理"
   ]
  },
  {
   "cell_type": "code",
   "execution_count": 336,
   "metadata": {},
   "outputs": [
    {
     "data": {
      "text/plain": [
       "'\\n【课程2.13】  时间序列 - 重采样\\n\\n将时间序列从一个频率转换为另一个频率的过程，且会有数据的结合\\n\\n降采样：高频数据 → 低频数据，eg.以天为频率的数据转为以月为频率的数据\\n升采样：低频数据 → 高频数据，eg.以年为频率的数据转为以月为频率的数据\\n \\n'"
      ]
     },
     "execution_count": 336,
     "metadata": {},
     "output_type": "execute_result"
    }
   ],
   "source": [
    "'''\n",
    "【课程2.13】  时间序列 - 重采样\n",
    "\n",
    "将时间序列从一个频率转换为另一个频率的过程，且会有数据的结合\n",
    "\n",
    "降采样：高频数据 → 低频数据，eg.以天为频率的数据转为以月为频率的数据\n",
    "升采样：低频数据 → 高频数据，eg.以年为频率的数据转为以月为频率的数据\n",
    " \n",
    "'''"
   ]
  },
  {
   "cell_type": "code",
   "execution_count": 337,
   "metadata": {},
   "outputs": [
    {
     "name": "stdout",
     "output_type": "stream",
     "text": [
      "2019-05-01    0.916280\n",
      "2019-05-02    0.622920\n",
      "2019-05-03    0.986539\n",
      "2019-05-04    0.147665\n",
      "2019-05-05    0.367338\n",
      "2019-05-06    0.915990\n",
      "2019-05-07    0.357176\n",
      "2019-05-08    0.678856\n",
      "2019-05-09    0.329159\n",
      "2019-05-10    0.788511\n",
      "Freq: D, dtype: float64\n",
      "DatetimeIndexResampler [freq=<2 * Days>, axis=0, closed=left, label=left, convention=start, base=0] <class 'pandas.core.resample.DatetimeIndexResampler'>\n",
      "2019-05-01    2.525739\n",
      "2019-05-04    1.430993\n",
      "2019-05-07    1.365191\n",
      "2019-05-10    0.788511\n",
      "Freq: 3D, dtype: float64 <class 'pandas.core.series.Series'>\n",
      "--------------------------------------\n",
      "2019-05-01    0.841913\n",
      "2019-05-04    0.476998\n",
      "2019-05-07    0.455064\n",
      "2019-05-10    0.788511\n",
      "Freq: 3D, dtype: float64\n",
      "2019-05-01    0.986539\n",
      "2019-05-04    0.915990\n",
      "2019-05-07    0.678856\n",
      "2019-05-10    0.788511\n",
      "Freq: 3D, dtype: float64\n",
      "2019-05-01    0.622920\n",
      "2019-05-04    0.147665\n",
      "2019-05-07    0.329159\n",
      "2019-05-10    0.788511\n",
      "Freq: 3D, dtype: float64\n",
      "2019-05-01    0.769600\n",
      "2019-05-05    0.523097\n",
      "2019-05-09    0.558835\n",
      "Freq: 4D, dtype: float64\n",
      "2019-05-01    0.916280\n",
      "2019-05-03    0.986539\n",
      "2019-05-05    0.367338\n",
      "2019-05-07    0.357176\n",
      "2019-05-09    0.329159\n",
      "Freq: 2D, dtype: float64\n",
      "2019-05-01    0.622920\n",
      "2019-05-03    0.147665\n",
      "2019-05-05    0.915990\n",
      "2019-05-07    0.678856\n",
      "2019-05-09    0.788511\n",
      "Freq: 2D, dtype: float64\n",
      "                open      high       low     close\n",
      "2019-05-01  0.916280  0.986539  0.622920  0.986539\n",
      "2019-05-04  0.147665  0.915990  0.147665  0.915990\n",
      "2019-05-07  0.357176  0.678856  0.329159  0.329159\n",
      "2019-05-10  0.788511  0.788511  0.788511  0.788511\n"
     ]
    }
   ],
   "source": [
    "# 重采样：.resample()\n",
    "# 创建一个以天为频率的TimeSeries，重采样为按2天为频率\n",
    "\n",
    "rng = pd.date_range('2019/5/1',periods=10)\n",
    "ts = pd.Series(np.random.rand(10),index=rng)\n",
    "print(ts)\n",
    "\n",
    "ts_re = ts.resample('2D')\n",
    "ts_re2 = ts.resample('3D').sum()\n",
    "print(ts_re,type(te_re))\n",
    "print(ts_re2,type(ts_re2))\n",
    "# ts.resample('5D')：得到一个重采样构建器，频率改为5天\n",
    "# ts.resample('5D').sum():得到一个新的聚合后的Series，聚合方式为求和\n",
    "# freq：重采样频率 → ts.resample('5D')\n",
    "# .sum()：聚合方法\n",
    "print('--------------------------------------')\n",
    "\n",
    "print(ts.resample('3D').mean())\n",
    "print(ts.resample('3D').max())\n",
    "print(ts.resample('3D').min())\n",
    "print(ts.resample('4D').median())          # 求中值\n",
    "print(ts.resample('2D').first())\n",
    "print(ts.resample('2D').last())\n",
    "print(ts.resample('3D').ohlc())          \n",
    "# OHLC:金融领域的时间序列聚合方式 → open开盘、high最大值、low最小值、close收盘"
   ]
  },
  {
   "cell_type": "code",
   "execution_count": 338,
   "metadata": {},
   "outputs": [
    {
     "name": "stdout",
     "output_type": "stream",
     "text": [
      "2019-05-01    0.873941\n",
      "2019-05-02    0.132556\n",
      "2019-05-03    0.036147\n",
      "2019-05-04    0.533061\n",
      "2019-05-05    0.019355\n",
      "2019-05-06    0.081194\n",
      "2019-05-07    0.538015\n",
      "2019-05-08    0.164500\n",
      "2019-05-09    0.952106\n",
      "2019-05-10    0.977941\n",
      "Freq: D, dtype: float64\n",
      "----------------------------------\n",
      "2019-05-01    1.575705\n",
      "2019-05-05    0.803064\n",
      "2019-05-09    1.930048\n",
      "Freq: 4D, dtype: float64\n",
      "2019-05-01    1.575705\n",
      "2019-05-05    0.803064\n",
      "2019-05-09    1.930048\n",
      "Freq: 4D, dtype: float64\n",
      "2019-04-27    0.873941\n",
      "2019-05-01    0.721119\n",
      "2019-05-05    1.735815\n",
      "2019-05-09    0.977941\n",
      "Freq: 4D, dtype: float64\n",
      "----------------------------------\n",
      "2019-05-01    1.006498\n",
      "2019-05-03    0.569207\n",
      "2019-05-05    0.100549\n",
      "2019-05-07    0.702515\n",
      "2019-05-09    1.930048\n",
      "Freq: 2D, dtype: float64\n",
      "2019-05-03    1.006498\n",
      "2019-05-05    0.569207\n",
      "2019-05-07    0.100549\n",
      "2019-05-09    0.702515\n",
      "2019-05-11    1.930048\n",
      "Freq: 2D, dtype: float64\n"
     ]
    }
   ],
   "source": [
    "# 降采样\n",
    "\n",
    "rng = pd.date_range('20190501',periods=10)\n",
    "ts = pd.Series(np.random.rand(10),index=rng)\n",
    "print(ts)\n",
    "print('----------------------------------')\n",
    "\n",
    "print(ts.resample('4D').sum())\n",
    "print(ts.resample('4D',closed='left').sum())\n",
    "print(ts.resample('4D',closed='right').sum())\n",
    "# closed：各时间段哪一端是闭合（即包含）的，默认 左闭右闭\n",
    "# 详解：这里values为0-11，按照5D重采样 → [1,2,3,4,5],[6,7,8,9,10],[11,12]\n",
    "# left指定间隔左边为结束 → [1,2,3,4,5],[6,7,8,9,10],[11,12]\n",
    "# right指定间隔右边为结束 → [1],[2,3,4,5,6],[7,8,9,10,11],[12]\n",
    "print('----------------------------------')\n",
    "\n",
    "print(ts.resample('2D',label='left').sum())\n",
    "print(ts.resample('2D',label='right').sum())\n",
    "# label：聚合值的index，默认为取左\n",
    "# 值采样认为默认（这里closed默认）"
   ]
  },
  {
   "cell_type": "code",
   "execution_count": 339,
   "metadata": {},
   "outputs": [
    {
     "name": "stdout",
     "output_type": "stream",
     "text": [
      "DatetimeIndex(['2019-05-01 01:00:00', '2019-05-01 02:00:00',\n",
      "               '2019-05-01 03:00:00', '2019-05-01 04:00:00',\n",
      "               '2019-05-01 05:00:00'],\n",
      "              dtype='datetime64[ns]', freq='H')\n",
      "                      a   b   c\n",
      "2019-05-01 01:00:00   0   1   2\n",
      "2019-05-01 02:00:00   3   4   5\n",
      "2019-05-01 03:00:00   6   7   8\n",
      "2019-05-01 04:00:00   9  10  11\n",
      "2019-05-01 05:00:00  12  13  14\n",
      "-----------------------------------\n",
      "                        a     b     c\n",
      "2019-05-01 01:00:00   0.0   1.0   2.0\n",
      "2019-05-01 01:15:00   NaN   NaN   NaN\n",
      "2019-05-01 01:30:00   NaN   NaN   NaN\n",
      "2019-05-01 01:45:00   NaN   NaN   NaN\n",
      "2019-05-01 02:00:00   3.0   4.0   5.0\n",
      "2019-05-01 02:15:00   NaN   NaN   NaN\n",
      "2019-05-01 02:30:00   NaN   NaN   NaN\n",
      "2019-05-01 02:45:00   NaN   NaN   NaN\n",
      "2019-05-01 03:00:00   6.0   7.0   8.0\n",
      "2019-05-01 03:15:00   NaN   NaN   NaN\n",
      "2019-05-01 03:30:00   NaN   NaN   NaN\n",
      "2019-05-01 03:45:00   NaN   NaN   NaN\n",
      "2019-05-01 04:00:00   9.0  10.0  11.0\n",
      "2019-05-01 04:15:00   NaN   NaN   NaN\n",
      "2019-05-01 04:30:00   NaN   NaN   NaN\n",
      "2019-05-01 04:45:00   NaN   NaN   NaN\n",
      "2019-05-01 05:00:00  12.0  13.0  14.0\n",
      "                      a   b   c\n",
      "2019-05-01 01:00:00   0   1   2\n",
      "2019-05-01 01:15:00   0   1   2\n",
      "2019-05-01 01:30:00   0   1   2\n",
      "2019-05-01 01:45:00   0   1   2\n",
      "2019-05-01 02:00:00   3   4   5\n",
      "2019-05-01 02:15:00   3   4   5\n",
      "2019-05-01 02:30:00   3   4   5\n",
      "2019-05-01 02:45:00   3   4   5\n",
      "2019-05-01 03:00:00   6   7   8\n",
      "2019-05-01 03:15:00   6   7   8\n",
      "2019-05-01 03:30:00   6   7   8\n",
      "2019-05-01 03:45:00   6   7   8\n",
      "2019-05-01 04:00:00   9  10  11\n",
      "2019-05-01 04:15:00   9  10  11\n",
      "2019-05-01 04:30:00   9  10  11\n",
      "2019-05-01 04:45:00   9  10  11\n",
      "2019-05-01 05:00:00  12  13  14\n",
      "                      a   b   c\n",
      "2019-05-01 01:00:00   0   1   2\n",
      "2019-05-01 01:15:00   3   4   5\n",
      "2019-05-01 01:30:00   3   4   5\n",
      "2019-05-01 01:45:00   3   4   5\n",
      "2019-05-01 02:00:00   3   4   5\n",
      "2019-05-01 02:15:00   6   7   8\n",
      "2019-05-01 02:30:00   6   7   8\n",
      "2019-05-01 02:45:00   6   7   8\n",
      "2019-05-01 03:00:00   6   7   8\n",
      "2019-05-01 03:15:00   9  10  11\n",
      "2019-05-01 03:30:00   9  10  11\n",
      "2019-05-01 03:45:00   9  10  11\n",
      "2019-05-01 04:00:00   9  10  11\n",
      "2019-05-01 04:15:00  12  13  14\n",
      "2019-05-01 04:30:00  12  13  14\n",
      "2019-05-01 04:45:00  12  13  14\n",
      "2019-05-01 05:00:00  12  13  14\n"
     ]
    }
   ],
   "source": [
    "# 升采样及插值\n",
    "\n",
    "rng = pd.date_range('2019/5/1 01:00:00',periods=5,freq='H')\n",
    "ts = pd.DataFrame(np.arange(15).reshape(5,3),\n",
    "                 index = rng,\n",
    "                 columns = ['a','b','c'])\n",
    "print(rng)\n",
    "print(ts)\n",
    "print('-----------------------------------')\n",
    "\n",
    "print(ts.resample('15T').asfreq())\n",
    "print(ts.resample('15T').ffill())\n",
    "print(ts.resample('15T').bfill())\n",
    "\n",
    "# 低频转高频，主要是如何插值\n",
    "# .asfreq()：不做填充，返回Nan\n",
    "# .ffill()：向上填充\n",
    "# .bfill()：向下填充"
   ]
  },
  {
   "cell_type": "code",
   "execution_count": 346,
   "metadata": {},
   "outputs": [
    {
     "name": "stdout",
     "output_type": "stream",
     "text": [
      "2018-01     0\n",
      "2018-02     1\n",
      "2018-03     2\n",
      "2018-04     3\n",
      "2018-05     4\n",
      "2018-06     5\n",
      "2018-07     6\n",
      "2018-08     7\n",
      "2018-09     8\n",
      "2018-10     9\n",
      "2018-11    10\n",
      "2018-12    11\n",
      "2019-01    12\n",
      "2019-02    13\n",
      "2019-03    14\n",
      "2019-04    15\n",
      "2019-05    16\n",
      "Freq: M, dtype: int32\n",
      "-----------------------------------\n",
      "2018-01-01     0\n",
      "2018-01-16     0\n",
      "2018-01-31     0\n",
      "2018-02-15     1\n",
      "2018-03-02     2\n",
      "2018-03-17     2\n",
      "2018-04-01     3\n",
      "2018-04-16     3\n",
      "2018-05-01     4\n",
      "2018-05-16     4\n",
      "2018-05-31     4\n",
      "2018-06-15     5\n",
      "2018-06-30     5\n",
      "2018-07-15     6\n",
      "2018-07-30     6\n",
      "2018-08-14     7\n",
      "2018-08-29     7\n",
      "2018-09-13     8\n",
      "2018-09-28     8\n",
      "2018-10-13     9\n",
      "2018-10-28     9\n",
      "2018-11-12    10\n",
      "2018-11-27    10\n",
      "2018-12-12    11\n",
      "2018-12-27    11\n",
      "2019-01-11    12\n",
      "2019-01-26    12\n",
      "2019-02-10    13\n",
      "2019-02-25    13\n",
      "2019-03-12    14\n",
      "2019-03-27    14\n",
      "2019-04-11    15\n",
      "2019-04-26    15\n",
      "2019-05-11    16\n",
      "2019-05-26    16\n",
      "Freq: 15D, dtype: int32\n",
      "2018    66\n",
      "2019    70\n",
      "Freq: A-DEC, dtype: int32\n"
     ]
    }
   ],
   "source": [
    "# 时期重采样 - Period\n",
    "\n",
    "prng = pd.period_range('2018-1','2019-5',freq='M')\n",
    "ts = pd.Series(np.arange(len(prng)),index=prng)\n",
    "print(ts)\n",
    "print('-----------------------------------')\n",
    "\n",
    "print(ts.resample('15D').ffill())      # 升采样\n",
    "print(ts.resample('Y').sum())          # 降采样"
   ]
  },
  {
   "cell_type": "code",
   "execution_count": null,
   "metadata": {},
   "outputs": [],
   "source": []
  },
  {
   "cell_type": "code",
   "execution_count": null,
   "metadata": {},
   "outputs": [],
   "source": []
  },
  {
   "cell_type": "code",
   "execution_count": null,
   "metadata": {},
   "outputs": [],
   "source": []
  },
  {
   "cell_type": "code",
   "execution_count": null,
   "metadata": {},
   "outputs": [],
   "source": []
  },
  {
   "cell_type": "code",
   "execution_count": null,
   "metadata": {},
   "outputs": [],
   "source": []
  },
  {
   "cell_type": "code",
   "execution_count": null,
   "metadata": {},
   "outputs": [],
   "source": []
  },
  {
   "cell_type": "code",
   "execution_count": null,
   "metadata": {},
   "outputs": [],
   "source": []
  },
  {
   "cell_type": "code",
   "execution_count": null,
   "metadata": {},
   "outputs": [],
   "source": []
  },
  {
   "cell_type": "code",
   "execution_count": null,
   "metadata": {},
   "outputs": [],
   "source": []
  },
  {
   "cell_type": "code",
   "execution_count": null,
   "metadata": {},
   "outputs": [],
   "source": []
  },
  {
   "cell_type": "code",
   "execution_count": null,
   "metadata": {},
   "outputs": [],
   "source": []
  },
  {
   "cell_type": "code",
   "execution_count": null,
   "metadata": {},
   "outputs": [],
   "source": []
  },
  {
   "cell_type": "code",
   "execution_count": null,
   "metadata": {},
   "outputs": [],
   "source": []
  }
 ],
 "metadata": {
  "kernelspec": {
   "display_name": "Python 3",
   "language": "python",
   "name": "python3"
  },
  "language_info": {
   "codemirror_mode": {
    "name": "ipython",
    "version": 3
   },
   "file_extension": ".py",
   "mimetype": "text/x-python",
   "name": "python",
   "nbconvert_exporter": "python",
   "pygments_lexer": "ipython3",
   "version": "3.7.1"
  }
 },
 "nbformat": 4,
 "nbformat_minor": 2
}
