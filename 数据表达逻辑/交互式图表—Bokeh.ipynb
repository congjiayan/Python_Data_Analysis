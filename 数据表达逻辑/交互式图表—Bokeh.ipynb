{
 "cells": [
  {
   "cell_type": "code",
   "execution_count": 2,
   "metadata": {},
   "outputs": [],
   "source": [
    "import numpy as np\n",
    "import pandas as pd\n",
    "import matplotlib.pyplot as plt\n",
    "%matplotlib inline"
   ]
  },
  {
   "cell_type": "code",
   "execution_count": 2,
   "metadata": {},
   "outputs": [
    {
     "data": {
      "text/plain": [
       "'\\n【课程5.2】  绘图空间基本设置\\n\\n① 创建绘图空间\\n② 输出方式\\n③ 绘图figure基本设置\\n\\n输出：jupyter notebook / spyder等非notebook空间\\n\\n参考官方文档：http://bokeh.pydata.org/en/latest/docs/user_guide/styling.html#text-properties\\n\\n'"
      ]
     },
     "execution_count": 2,
     "metadata": {},
     "output_type": "execute_result"
    }
   ],
   "source": [
    "'''\n",
    "【课程5.2】  绘图空间基本设置\n",
    "\n",
    "① 创建绘图空间\n",
    "② 输出方式\n",
    "③ 绘图figure基本设置\n",
    "\n",
    "输出：jupyter notebook / spyder等非notebook空间\n",
    "\n",
    "参考官方文档：http://bokeh.pydata.org/en/latest/docs/user_guide/styling.html#text-properties\n",
    "\n",
    "'''"
   ]
  },
  {
   "cell_type": "code",
   "execution_count": 3,
   "metadata": {},
   "outputs": [
    {
     "data": {
      "text/html": [
       "\n",
       "    <div class=\"bk-root\">\n",
       "        <a href=\"https://bokeh.pydata.org\" target=\"_blank\" class=\"bk-logo bk-logo-small bk-logo-notebook\"></a>\n",
       "        <span id=\"1001\">Loading BokehJS ...</span>\n",
       "    </div>"
      ]
     },
     "metadata": {},
     "output_type": "display_data"
    },
    {
     "data": {
      "application/javascript": [
       "\n",
       "(function(root) {\n",
       "  function now() {\n",
       "    return new Date();\n",
       "  }\n",
       "\n",
       "  var force = true;\n",
       "\n",
       "  if (typeof (root._bokeh_onload_callbacks) === \"undefined\" || force === true) {\n",
       "    root._bokeh_onload_callbacks = [];\n",
       "    root._bokeh_is_loading = undefined;\n",
       "  }\n",
       "\n",
       "  var JS_MIME_TYPE = 'application/javascript';\n",
       "  var HTML_MIME_TYPE = 'text/html';\n",
       "  var EXEC_MIME_TYPE = 'application/vnd.bokehjs_exec.v0+json';\n",
       "  var CLASS_NAME = 'output_bokeh rendered_html';\n",
       "\n",
       "  /**\n",
       "   * Render data to the DOM node\n",
       "   */\n",
       "  function render(props, node) {\n",
       "    var script = document.createElement(\"script\");\n",
       "    node.appendChild(script);\n",
       "  }\n",
       "\n",
       "  /**\n",
       "   * Handle when an output is cleared or removed\n",
       "   */\n",
       "  function handleClearOutput(event, handle) {\n",
       "    var cell = handle.cell;\n",
       "\n",
       "    var id = cell.output_area._bokeh_element_id;\n",
       "    var server_id = cell.output_area._bokeh_server_id;\n",
       "    // Clean up Bokeh references\n",
       "    if (id != null && id in Bokeh.index) {\n",
       "      Bokeh.index[id].model.document.clear();\n",
       "      delete Bokeh.index[id];\n",
       "    }\n",
       "\n",
       "    if (server_id !== undefined) {\n",
       "      // Clean up Bokeh references\n",
       "      var cmd = \"from bokeh.io.state import curstate; print(curstate().uuid_to_server['\" + server_id + \"'].get_sessions()[0].document.roots[0]._id)\";\n",
       "      cell.notebook.kernel.execute(cmd, {\n",
       "        iopub: {\n",
       "          output: function(msg) {\n",
       "            var id = msg.content.text.trim();\n",
       "            if (id in Bokeh.index) {\n",
       "              Bokeh.index[id].model.document.clear();\n",
       "              delete Bokeh.index[id];\n",
       "            }\n",
       "          }\n",
       "        }\n",
       "      });\n",
       "      // Destroy server and session\n",
       "      var cmd = \"import bokeh.io.notebook as ion; ion.destroy_server('\" + server_id + \"')\";\n",
       "      cell.notebook.kernel.execute(cmd);\n",
       "    }\n",
       "  }\n",
       "\n",
       "  /**\n",
       "   * Handle when a new output is added\n",
       "   */\n",
       "  function handleAddOutput(event, handle) {\n",
       "    var output_area = handle.output_area;\n",
       "    var output = handle.output;\n",
       "\n",
       "    // limit handleAddOutput to display_data with EXEC_MIME_TYPE content only\n",
       "    if ((output.output_type != \"display_data\") || (!output.data.hasOwnProperty(EXEC_MIME_TYPE))) {\n",
       "      return\n",
       "    }\n",
       "\n",
       "    var toinsert = output_area.element.find(\".\" + CLASS_NAME.split(' ')[0]);\n",
       "\n",
       "    if (output.metadata[EXEC_MIME_TYPE][\"id\"] !== undefined) {\n",
       "      toinsert[toinsert.length - 1].firstChild.textContent = output.data[JS_MIME_TYPE];\n",
       "      // store reference to embed id on output_area\n",
       "      output_area._bokeh_element_id = output.metadata[EXEC_MIME_TYPE][\"id\"];\n",
       "    }\n",
       "    if (output.metadata[EXEC_MIME_TYPE][\"server_id\"] !== undefined) {\n",
       "      var bk_div = document.createElement(\"div\");\n",
       "      bk_div.innerHTML = output.data[HTML_MIME_TYPE];\n",
       "      var script_attrs = bk_div.children[0].attributes;\n",
       "      for (var i = 0; i < script_attrs.length; i++) {\n",
       "        toinsert[toinsert.length - 1].firstChild.setAttribute(script_attrs[i].name, script_attrs[i].value);\n",
       "      }\n",
       "      // store reference to server id on output_area\n",
       "      output_area._bokeh_server_id = output.metadata[EXEC_MIME_TYPE][\"server_id\"];\n",
       "    }\n",
       "  }\n",
       "\n",
       "  function register_renderer(events, OutputArea) {\n",
       "\n",
       "    function append_mime(data, metadata, element) {\n",
       "      // create a DOM node to render to\n",
       "      var toinsert = this.create_output_subarea(\n",
       "        metadata,\n",
       "        CLASS_NAME,\n",
       "        EXEC_MIME_TYPE\n",
       "      );\n",
       "      this.keyboard_manager.register_events(toinsert);\n",
       "      // Render to node\n",
       "      var props = {data: data, metadata: metadata[EXEC_MIME_TYPE]};\n",
       "      render(props, toinsert[toinsert.length - 1]);\n",
       "      element.append(toinsert);\n",
       "      return toinsert\n",
       "    }\n",
       "\n",
       "    /* Handle when an output is cleared or removed */\n",
       "    events.on('clear_output.CodeCell', handleClearOutput);\n",
       "    events.on('delete.Cell', handleClearOutput);\n",
       "\n",
       "    /* Handle when a new output is added */\n",
       "    events.on('output_added.OutputArea', handleAddOutput);\n",
       "\n",
       "    /**\n",
       "     * Register the mime type and append_mime function with output_area\n",
       "     */\n",
       "    OutputArea.prototype.register_mime_type(EXEC_MIME_TYPE, append_mime, {\n",
       "      /* Is output safe? */\n",
       "      safe: true,\n",
       "      /* Index of renderer in `output_area.display_order` */\n",
       "      index: 0\n",
       "    });\n",
       "  }\n",
       "\n",
       "  // register the mime type if in Jupyter Notebook environment and previously unregistered\n",
       "  if (root.Jupyter !== undefined) {\n",
       "    var events = require('base/js/events');\n",
       "    var OutputArea = require('notebook/js/outputarea').OutputArea;\n",
       "\n",
       "    if (OutputArea.prototype.mime_types().indexOf(EXEC_MIME_TYPE) == -1) {\n",
       "      register_renderer(events, OutputArea);\n",
       "    }\n",
       "  }\n",
       "\n",
       "  \n",
       "  if (typeof (root._bokeh_timeout) === \"undefined\" || force === true) {\n",
       "    root._bokeh_timeout = Date.now() + 5000;\n",
       "    root._bokeh_failed_load = false;\n",
       "  }\n",
       "\n",
       "  var NB_LOAD_WARNING = {'data': {'text/html':\n",
       "     \"<div style='background-color: #fdd'>\\n\"+\n",
       "     \"<p>\\n\"+\n",
       "     \"BokehJS does not appear to have successfully loaded. If loading BokehJS from CDN, this \\n\"+\n",
       "     \"may be due to a slow or bad network connection. Possible fixes:\\n\"+\n",
       "     \"</p>\\n\"+\n",
       "     \"<ul>\\n\"+\n",
       "     \"<li>re-rerun `output_notebook()` to attempt to load from CDN again, or</li>\\n\"+\n",
       "     \"<li>use INLINE resources instead, as so:</li>\\n\"+\n",
       "     \"</ul>\\n\"+\n",
       "     \"<code>\\n\"+\n",
       "     \"from bokeh.resources import INLINE\\n\"+\n",
       "     \"output_notebook(resources=INLINE)\\n\"+\n",
       "     \"</code>\\n\"+\n",
       "     \"</div>\"}};\n",
       "\n",
       "  function display_loaded() {\n",
       "    var el = document.getElementById(\"1001\");\n",
       "    if (el != null) {\n",
       "      el.textContent = \"BokehJS is loading...\";\n",
       "    }\n",
       "    if (root.Bokeh !== undefined) {\n",
       "      if (el != null) {\n",
       "        el.textContent = \"BokehJS \" + root.Bokeh.version + \" successfully loaded.\";\n",
       "      }\n",
       "    } else if (Date.now() < root._bokeh_timeout) {\n",
       "      setTimeout(display_loaded, 100)\n",
       "    }\n",
       "  }\n",
       "\n",
       "\n",
       "  function run_callbacks() {\n",
       "    try {\n",
       "      root._bokeh_onload_callbacks.forEach(function(callback) { callback() });\n",
       "    }\n",
       "    finally {\n",
       "      delete root._bokeh_onload_callbacks\n",
       "    }\n",
       "    console.info(\"Bokeh: all callbacks have finished\");\n",
       "  }\n",
       "\n",
       "  function load_libs(js_urls, callback) {\n",
       "    root._bokeh_onload_callbacks.push(callback);\n",
       "    if (root._bokeh_is_loading > 0) {\n",
       "      console.log(\"Bokeh: BokehJS is being loaded, scheduling callback at\", now());\n",
       "      return null;\n",
       "    }\n",
       "    if (js_urls == null || js_urls.length === 0) {\n",
       "      run_callbacks();\n",
       "      return null;\n",
       "    }\n",
       "    console.log(\"Bokeh: BokehJS not loaded, scheduling load and callback at\", now());\n",
       "    root._bokeh_is_loading = js_urls.length;\n",
       "    for (var i = 0; i < js_urls.length; i++) {\n",
       "      var url = js_urls[i];\n",
       "      var s = document.createElement('script');\n",
       "      s.src = url;\n",
       "      s.async = false;\n",
       "      s.onreadystatechange = s.onload = function() {\n",
       "        root._bokeh_is_loading--;\n",
       "        if (root._bokeh_is_loading === 0) {\n",
       "          console.log(\"Bokeh: all BokehJS libraries loaded\");\n",
       "          run_callbacks()\n",
       "        }\n",
       "      };\n",
       "      s.onerror = function() {\n",
       "        console.warn(\"failed to load library \" + url);\n",
       "      };\n",
       "      console.log(\"Bokeh: injecting script tag for BokehJS library: \", url);\n",
       "      document.getElementsByTagName(\"head\")[0].appendChild(s);\n",
       "    }\n",
       "  };var element = document.getElementById(\"1001\");\n",
       "  if (element == null) {\n",
       "    console.log(\"Bokeh: ERROR: autoload.js configured with elementid '1001' but no matching script tag was found. \")\n",
       "    return false;\n",
       "  }\n",
       "\n",
       "  var js_urls = [\"https://cdn.pydata.org/bokeh/release/bokeh-1.0.4.min.js\", \"https://cdn.pydata.org/bokeh/release/bokeh-widgets-1.0.4.min.js\", \"https://cdn.pydata.org/bokeh/release/bokeh-tables-1.0.4.min.js\", \"https://cdn.pydata.org/bokeh/release/bokeh-gl-1.0.4.min.js\"];\n",
       "\n",
       "  var inline_js = [\n",
       "    function(Bokeh) {\n",
       "      Bokeh.set_log_level(\"info\");\n",
       "    },\n",
       "    \n",
       "    function(Bokeh) {\n",
       "      \n",
       "    },\n",
       "    function(Bokeh) {\n",
       "      console.log(\"Bokeh: injecting CSS: https://cdn.pydata.org/bokeh/release/bokeh-1.0.4.min.css\");\n",
       "      Bokeh.embed.inject_css(\"https://cdn.pydata.org/bokeh/release/bokeh-1.0.4.min.css\");\n",
       "      console.log(\"Bokeh: injecting CSS: https://cdn.pydata.org/bokeh/release/bokeh-widgets-1.0.4.min.css\");\n",
       "      Bokeh.embed.inject_css(\"https://cdn.pydata.org/bokeh/release/bokeh-widgets-1.0.4.min.css\");\n",
       "      console.log(\"Bokeh: injecting CSS: https://cdn.pydata.org/bokeh/release/bokeh-tables-1.0.4.min.css\");\n",
       "      Bokeh.embed.inject_css(\"https://cdn.pydata.org/bokeh/release/bokeh-tables-1.0.4.min.css\");\n",
       "    }\n",
       "  ];\n",
       "\n",
       "  function run_inline_js() {\n",
       "    \n",
       "    if ((root.Bokeh !== undefined) || (force === true)) {\n",
       "      for (var i = 0; i < inline_js.length; i++) {\n",
       "        inline_js[i].call(root, root.Bokeh);\n",
       "      }if (force === true) {\n",
       "        display_loaded();\n",
       "      }} else if (Date.now() < root._bokeh_timeout) {\n",
       "      setTimeout(run_inline_js, 100);\n",
       "    } else if (!root._bokeh_failed_load) {\n",
       "      console.log(\"Bokeh: BokehJS failed to load within specified timeout.\");\n",
       "      root._bokeh_failed_load = true;\n",
       "    } else if (force !== true) {\n",
       "      var cell = $(document.getElementById(\"1001\")).parents('.cell').data().cell;\n",
       "      cell.output_area.append_execute_result(NB_LOAD_WARNING)\n",
       "    }\n",
       "\n",
       "  }\n",
       "\n",
       "  if (root._bokeh_is_loading === 0) {\n",
       "    console.log(\"Bokeh: BokehJS loaded, going straight to plotting\");\n",
       "    run_inline_js();\n",
       "  } else {\n",
       "    load_libs(js_urls, function() {\n",
       "      console.log(\"Bokeh: BokehJS plotting callback run at\", now());\n",
       "      run_inline_js();\n",
       "    });\n",
       "  }\n",
       "}(window));"
      ],
      "application/vnd.bokehjs_load.v0+json": "\n(function(root) {\n  function now() {\n    return new Date();\n  }\n\n  var force = true;\n\n  if (typeof (root._bokeh_onload_callbacks) === \"undefined\" || force === true) {\n    root._bokeh_onload_callbacks = [];\n    root._bokeh_is_loading = undefined;\n  }\n\n  \n\n  \n  if (typeof (root._bokeh_timeout) === \"undefined\" || force === true) {\n    root._bokeh_timeout = Date.now() + 5000;\n    root._bokeh_failed_load = false;\n  }\n\n  var NB_LOAD_WARNING = {'data': {'text/html':\n     \"<div style='background-color: #fdd'>\\n\"+\n     \"<p>\\n\"+\n     \"BokehJS does not appear to have successfully loaded. If loading BokehJS from CDN, this \\n\"+\n     \"may be due to a slow or bad network connection. Possible fixes:\\n\"+\n     \"</p>\\n\"+\n     \"<ul>\\n\"+\n     \"<li>re-rerun `output_notebook()` to attempt to load from CDN again, or</li>\\n\"+\n     \"<li>use INLINE resources instead, as so:</li>\\n\"+\n     \"</ul>\\n\"+\n     \"<code>\\n\"+\n     \"from bokeh.resources import INLINE\\n\"+\n     \"output_notebook(resources=INLINE)\\n\"+\n     \"</code>\\n\"+\n     \"</div>\"}};\n\n  function display_loaded() {\n    var el = document.getElementById(\"1001\");\n    if (el != null) {\n      el.textContent = \"BokehJS is loading...\";\n    }\n    if (root.Bokeh !== undefined) {\n      if (el != null) {\n        el.textContent = \"BokehJS \" + root.Bokeh.version + \" successfully loaded.\";\n      }\n    } else if (Date.now() < root._bokeh_timeout) {\n      setTimeout(display_loaded, 100)\n    }\n  }\n\n\n  function run_callbacks() {\n    try {\n      root._bokeh_onload_callbacks.forEach(function(callback) { callback() });\n    }\n    finally {\n      delete root._bokeh_onload_callbacks\n    }\n    console.info(\"Bokeh: all callbacks have finished\");\n  }\n\n  function load_libs(js_urls, callback) {\n    root._bokeh_onload_callbacks.push(callback);\n    if (root._bokeh_is_loading > 0) {\n      console.log(\"Bokeh: BokehJS is being loaded, scheduling callback at\", now());\n      return null;\n    }\n    if (js_urls == null || js_urls.length === 0) {\n      run_callbacks();\n      return null;\n    }\n    console.log(\"Bokeh: BokehJS not loaded, scheduling load and callback at\", now());\n    root._bokeh_is_loading = js_urls.length;\n    for (var i = 0; i < js_urls.length; i++) {\n      var url = js_urls[i];\n      var s = document.createElement('script');\n      s.src = url;\n      s.async = false;\n      s.onreadystatechange = s.onload = function() {\n        root._bokeh_is_loading--;\n        if (root._bokeh_is_loading === 0) {\n          console.log(\"Bokeh: all BokehJS libraries loaded\");\n          run_callbacks()\n        }\n      };\n      s.onerror = function() {\n        console.warn(\"failed to load library \" + url);\n      };\n      console.log(\"Bokeh: injecting script tag for BokehJS library: \", url);\n      document.getElementsByTagName(\"head\")[0].appendChild(s);\n    }\n  };var element = document.getElementById(\"1001\");\n  if (element == null) {\n    console.log(\"Bokeh: ERROR: autoload.js configured with elementid '1001' but no matching script tag was found. \")\n    return false;\n  }\n\n  var js_urls = [\"https://cdn.pydata.org/bokeh/release/bokeh-1.0.4.min.js\", \"https://cdn.pydata.org/bokeh/release/bokeh-widgets-1.0.4.min.js\", \"https://cdn.pydata.org/bokeh/release/bokeh-tables-1.0.4.min.js\", \"https://cdn.pydata.org/bokeh/release/bokeh-gl-1.0.4.min.js\"];\n\n  var inline_js = [\n    function(Bokeh) {\n      Bokeh.set_log_level(\"info\");\n    },\n    \n    function(Bokeh) {\n      \n    },\n    function(Bokeh) {\n      console.log(\"Bokeh: injecting CSS: https://cdn.pydata.org/bokeh/release/bokeh-1.0.4.min.css\");\n      Bokeh.embed.inject_css(\"https://cdn.pydata.org/bokeh/release/bokeh-1.0.4.min.css\");\n      console.log(\"Bokeh: injecting CSS: https://cdn.pydata.org/bokeh/release/bokeh-widgets-1.0.4.min.css\");\n      Bokeh.embed.inject_css(\"https://cdn.pydata.org/bokeh/release/bokeh-widgets-1.0.4.min.css\");\n      console.log(\"Bokeh: injecting CSS: https://cdn.pydata.org/bokeh/release/bokeh-tables-1.0.4.min.css\");\n      Bokeh.embed.inject_css(\"https://cdn.pydata.org/bokeh/release/bokeh-tables-1.0.4.min.css\");\n    }\n  ];\n\n  function run_inline_js() {\n    \n    if ((root.Bokeh !== undefined) || (force === true)) {\n      for (var i = 0; i < inline_js.length; i++) {\n        inline_js[i].call(root, root.Bokeh);\n      }if (force === true) {\n        display_loaded();\n      }} else if (Date.now() < root._bokeh_timeout) {\n      setTimeout(run_inline_js, 100);\n    } else if (!root._bokeh_failed_load) {\n      console.log(\"Bokeh: BokehJS failed to load within specified timeout.\");\n      root._bokeh_failed_load = true;\n    } else if (force !== true) {\n      var cell = $(document.getElementById(\"1001\")).parents('.cell').data().cell;\n      cell.output_area.append_execute_result(NB_LOAD_WARNING)\n    }\n\n  }\n\n  if (root._bokeh_is_loading === 0) {\n    console.log(\"Bokeh: BokehJS loaded, going straight to plotting\");\n    run_inline_js();\n  } else {\n    load_libs(js_urls, function() {\n      console.log(\"Bokeh: BokehJS plotting callback run at\", now());\n      run_inline_js();\n    });\n  }\n}(window));"
     },
     "metadata": {},
     "output_type": "display_data"
    },
    {
     "data": {
      "text/html": [
       "\n",
       "\n",
       "\n",
       "\n",
       "\n",
       "\n",
       "  <div class=\"bk-root\" id=\"d6ad7b9b-4dfd-4e15-ba3f-1e8d152a3dd5\" data-root-id=\"1002\"></div>\n"
      ]
     },
     "metadata": {},
     "output_type": "display_data"
    },
    {
     "data": {
      "application/javascript": [
       "(function(root) {\n",
       "  function embed_document(root) {\n",
       "    \n",
       "  var docs_json = {\"271556d6-befc-4bc2-b6ec-c116f97e442e\":{\"roots\":{\"references\":[{\"attributes\":{\"below\":[{\"id\":\"1011\",\"type\":\"LinearAxis\"}],\"left\":[{\"id\":\"1016\",\"type\":\"LinearAxis\"}],\"plot_height\":400,\"plot_width\":400,\"renderers\":[{\"id\":\"1011\",\"type\":\"LinearAxis\"},{\"id\":\"1015\",\"type\":\"Grid\"},{\"id\":\"1016\",\"type\":\"LinearAxis\"},{\"id\":\"1020\",\"type\":\"Grid\"},{\"id\":\"1029\",\"type\":\"BoxAnnotation\"},{\"id\":\"1039\",\"type\":\"GlyphRenderer\"}],\"title\":{\"id\":\"1042\",\"type\":\"Title\"},\"toolbar\":{\"id\":\"1027\",\"type\":\"Toolbar\"},\"x_range\":{\"id\":\"1003\",\"type\":\"DataRange1d\"},\"x_scale\":{\"id\":\"1007\",\"type\":\"LinearScale\"},\"y_range\":{\"id\":\"1005\",\"type\":\"DataRange1d\"},\"y_scale\":{\"id\":\"1009\",\"type\":\"LinearScale\"}},\"id\":\"1002\",\"subtype\":\"Figure\",\"type\":\"Plot\"},{\"attributes\":{},\"id\":\"1049\",\"type\":\"Selection\"},{\"attributes\":{},\"id\":\"1025\",\"type\":\"ResetTool\"},{\"attributes\":{\"callback\":null,\"data\":{\"x\":[1,2,3,4,5],\"y\":[6,7,2,4,5]},\"selected\":{\"id\":\"1049\",\"type\":\"Selection\"},\"selection_policy\":{\"id\":\"1048\",\"type\":\"UnionRenderers\"}},\"id\":\"1036\",\"type\":\"ColumnDataSource\"},{\"attributes\":{},\"id\":\"1022\",\"type\":\"WheelZoomTool\"},{\"attributes\":{},\"id\":\"1021\",\"type\":\"PanTool\"},{\"attributes\":{},\"id\":\"1012\",\"type\":\"BasicTicker\"},{\"attributes\":{},\"id\":\"1026\",\"type\":\"HelpTool\"},{\"attributes\":{\"plot\":null,\"text\":\"\"},\"id\":\"1042\",\"type\":\"Title\"},{\"attributes\":{},\"id\":\"1024\",\"type\":\"SaveTool\"},{\"attributes\":{},\"id\":\"1043\",\"type\":\"BasicTickFormatter\"},{\"attributes\":{\"callback\":null},\"id\":\"1003\",\"type\":\"DataRange1d\"},{\"attributes\":{\"bottom_units\":\"screen\",\"fill_alpha\":{\"value\":0.5},\"fill_color\":{\"value\":\"lightgrey\"},\"left_units\":\"screen\",\"level\":\"overlay\",\"line_alpha\":{\"value\":1.0},\"line_color\":{\"value\":\"black\"},\"line_dash\":[4,4],\"line_width\":{\"value\":2},\"plot\":null,\"render_mode\":\"css\",\"right_units\":\"screen\",\"top_units\":\"screen\"},\"id\":\"1029\",\"type\":\"BoxAnnotation\"},{\"attributes\":{\"callback\":null},\"id\":\"1005\",\"type\":\"DataRange1d\"},{\"attributes\":{\"dimension\":1,\"plot\":{\"id\":\"1002\",\"subtype\":\"Figure\",\"type\":\"Plot\"},\"ticker\":{\"id\":\"1017\",\"type\":\"BasicTicker\"}},\"id\":\"1020\",\"type\":\"Grid\"},{\"attributes\":{},\"id\":\"1045\",\"type\":\"BasicTickFormatter\"},{\"attributes\":{\"fill_alpha\":{\"value\":0.8},\"fill_color\":{\"value\":\"navy\"},\"line_alpha\":{\"value\":0.8},\"line_color\":{\"value\":\"navy\"},\"size\":{\"units\":\"screen\",\"value\":20},\"x\":{\"field\":\"x\"},\"y\":{\"field\":\"y\"}},\"id\":\"1037\",\"type\":\"Circle\"},{\"attributes\":{},\"id\":\"1007\",\"type\":\"LinearScale\"},{\"attributes\":{\"source\":{\"id\":\"1036\",\"type\":\"ColumnDataSource\"}},\"id\":\"1040\",\"type\":\"CDSView\"},{\"attributes\":{\"active_drag\":\"auto\",\"active_inspect\":\"auto\",\"active_multi\":null,\"active_scroll\":\"auto\",\"active_tap\":\"auto\",\"tools\":[{\"id\":\"1021\",\"type\":\"PanTool\"},{\"id\":\"1022\",\"type\":\"WheelZoomTool\"},{\"id\":\"1023\",\"type\":\"BoxZoomTool\"},{\"id\":\"1024\",\"type\":\"SaveTool\"},{\"id\":\"1025\",\"type\":\"ResetTool\"},{\"id\":\"1026\",\"type\":\"HelpTool\"}]},\"id\":\"1027\",\"type\":\"Toolbar\"},{\"attributes\":{},\"id\":\"1009\",\"type\":\"LinearScale\"},{\"attributes\":{\"fill_alpha\":{\"value\":0.1},\"fill_color\":{\"value\":\"#1f77b4\"},\"line_alpha\":{\"value\":0.1},\"line_color\":{\"value\":\"#1f77b4\"},\"size\":{\"units\":\"screen\",\"value\":20},\"x\":{\"field\":\"x\"},\"y\":{\"field\":\"y\"}},\"id\":\"1038\",\"type\":\"Circle\"},{\"attributes\":{\"data_source\":{\"id\":\"1036\",\"type\":\"ColumnDataSource\"},\"glyph\":{\"id\":\"1037\",\"type\":\"Circle\"},\"hover_glyph\":null,\"muted_glyph\":null,\"nonselection_glyph\":{\"id\":\"1038\",\"type\":\"Circle\"},\"selection_glyph\":null,\"view\":{\"id\":\"1040\",\"type\":\"CDSView\"}},\"id\":\"1039\",\"type\":\"GlyphRenderer\"},{\"attributes\":{\"formatter\":{\"id\":\"1043\",\"type\":\"BasicTickFormatter\"},\"plot\":{\"id\":\"1002\",\"subtype\":\"Figure\",\"type\":\"Plot\"},\"ticker\":{\"id\":\"1012\",\"type\":\"BasicTicker\"}},\"id\":\"1011\",\"type\":\"LinearAxis\"},{\"attributes\":{\"plot\":{\"id\":\"1002\",\"subtype\":\"Figure\",\"type\":\"Plot\"},\"ticker\":{\"id\":\"1012\",\"type\":\"BasicTicker\"}},\"id\":\"1015\",\"type\":\"Grid\"},{\"attributes\":{},\"id\":\"1048\",\"type\":\"UnionRenderers\"},{\"attributes\":{\"formatter\":{\"id\":\"1045\",\"type\":\"BasicTickFormatter\"},\"plot\":{\"id\":\"1002\",\"subtype\":\"Figure\",\"type\":\"Plot\"},\"ticker\":{\"id\":\"1017\",\"type\":\"BasicTicker\"}},\"id\":\"1016\",\"type\":\"LinearAxis\"},{\"attributes\":{},\"id\":\"1017\",\"type\":\"BasicTicker\"},{\"attributes\":{\"overlay\":{\"id\":\"1029\",\"type\":\"BoxAnnotation\"}},\"id\":\"1023\",\"type\":\"BoxZoomTool\"}],\"root_ids\":[\"1002\"]},\"title\":\"Bokeh Application\",\"version\":\"1.0.4\"}};\n",
       "  var render_items = [{\"docid\":\"271556d6-befc-4bc2-b6ec-c116f97e442e\",\"roots\":{\"1002\":\"d6ad7b9b-4dfd-4e15-ba3f-1e8d152a3dd5\"}}];\n",
       "  root.Bokeh.embed.embed_items_notebook(docs_json, render_items);\n",
       "\n",
       "  }\n",
       "  if (root.Bokeh !== undefined) {\n",
       "    embed_document(root);\n",
       "  } else {\n",
       "    var attempts = 0;\n",
       "    var timer = setInterval(function(root) {\n",
       "      if (root.Bokeh !== undefined) {\n",
       "        embed_document(root);\n",
       "        clearInterval(timer);\n",
       "      }\n",
       "      attempts++;\n",
       "      if (attempts > 100) {\n",
       "        console.log(\"Bokeh: ERROR: Unable to run BokehJS code because BokehJS library is missing\");\n",
       "        clearInterval(timer);\n",
       "      }\n",
       "    }, 10, root)\n",
       "  }\n",
       "})(window);"
      ],
      "application/vnd.bokehjs_exec.v0+json": ""
     },
     "metadata": {
      "application/vnd.bokehjs_exec.v0+json": {
       "id": "1002"
      }
     },
     "output_type": "display_data"
    }
   ],
   "source": [
    "# 在notebook中创建绘图空间\n",
    "\n",
    "from bokeh.plotting import figure,show\n",
    "# 导入图表绘制、图标展示模块\n",
    "\n",
    "from bokeh.io import output_notebook\n",
    "# 导入notebook绘图模块\n",
    "\n",
    "output_notebook()\n",
    "# notebook绘图命令\n",
    "\n",
    "p = figure(plot_width = 400,plot_height = 400)   # 创建图表，设置宽度、高度\n",
    "p.circle([1,2,3,4,5],[6,7,2,4,5],size = 20,color = 'navy',alpha = 0.8)\n",
    "\n",
    "show(p)"
   ]
  },
  {
   "cell_type": "code",
   "execution_count": 4,
   "metadata": {},
   "outputs": [
    {
     "data": {
      "text/html": [
       "\n",
       "\n",
       "\n",
       "\n",
       "\n",
       "\n",
       "  <div class=\"bk-root\" id=\"239897be-4755-4683-afb1-be612912619c\" data-root-id=\"1104\"></div>\n"
      ]
     },
     "metadata": {},
     "output_type": "display_data"
    },
    {
     "data": {
      "application/javascript": [
       "(function(root) {\n",
       "  function embed_document(root) {\n",
       "    \n",
       "  var docs_json = {\"086f9672-713a-41ae-aaea-594b7cde2679\":{\"roots\":{\"references\":[{\"attributes\":{\"below\":[{\"id\":\"1113\",\"type\":\"LinearAxis\"}],\"left\":[{\"id\":\"1118\",\"type\":\"LinearAxis\"}],\"plot_height\":400,\"plot_width\":400,\"renderers\":[{\"id\":\"1113\",\"type\":\"LinearAxis\"},{\"id\":\"1117\",\"type\":\"Grid\"},{\"id\":\"1118\",\"type\":\"LinearAxis\"},{\"id\":\"1122\",\"type\":\"Grid\"},{\"id\":\"1131\",\"type\":\"BoxAnnotation\"},{\"id\":\"1141\",\"type\":\"GlyphRenderer\"}],\"title\":{\"id\":\"1152\",\"type\":\"Title\"},\"toolbar\":{\"id\":\"1129\",\"type\":\"Toolbar\"},\"x_range\":{\"id\":\"1105\",\"type\":\"DataRange1d\"},\"x_scale\":{\"id\":\"1109\",\"type\":\"LinearScale\"},\"y_range\":{\"id\":\"1107\",\"type\":\"DataRange1d\"},\"y_scale\":{\"id\":\"1111\",\"type\":\"LinearScale\"}},\"id\":\"1104\",\"subtype\":\"Figure\",\"type\":\"Plot\"},{\"attributes\":{},\"id\":\"1109\",\"type\":\"LinearScale\"},{\"attributes\":{},\"id\":\"1128\",\"type\":\"HelpTool\"},{\"attributes\":{\"callback\":null},\"id\":\"1107\",\"type\":\"DataRange1d\"},{\"attributes\":{},\"id\":\"1111\",\"type\":\"LinearScale\"},{\"attributes\":{\"active_drag\":\"auto\",\"active_inspect\":\"auto\",\"active_multi\":null,\"active_scroll\":\"auto\",\"active_tap\":\"auto\",\"tools\":[{\"id\":\"1123\",\"type\":\"PanTool\"},{\"id\":\"1124\",\"type\":\"WheelZoomTool\"},{\"id\":\"1125\",\"type\":\"BoxZoomTool\"},{\"id\":\"1126\",\"type\":\"SaveTool\"},{\"id\":\"1127\",\"type\":\"ResetTool\"},{\"id\":\"1128\",\"type\":\"HelpTool\"}]},\"id\":\"1129\",\"type\":\"Toolbar\"},{\"attributes\":{\"data_source\":{\"id\":\"1138\",\"type\":\"ColumnDataSource\"},\"glyph\":{\"id\":\"1139\",\"type\":\"Circle\"},\"hover_glyph\":null,\"muted_glyph\":null,\"nonselection_glyph\":{\"id\":\"1140\",\"type\":\"Circle\"},\"selection_glyph\":null,\"view\":{\"id\":\"1142\",\"type\":\"CDSView\"}},\"id\":\"1141\",\"type\":\"GlyphRenderer\"},{\"attributes\":{},\"id\":\"1114\",\"type\":\"BasicTicker\"},{\"attributes\":{},\"id\":\"1126\",\"type\":\"SaveTool\"},{\"attributes\":{\"callback\":null},\"id\":\"1105\",\"type\":\"DataRange1d\"},{\"attributes\":{\"formatter\":{\"id\":\"1155\",\"type\":\"BasicTickFormatter\"},\"plot\":{\"id\":\"1104\",\"subtype\":\"Figure\",\"type\":\"Plot\"},\"ticker\":{\"id\":\"1114\",\"type\":\"BasicTicker\"}},\"id\":\"1113\",\"type\":\"LinearAxis\"},{\"attributes\":{},\"id\":\"1119\",\"type\":\"BasicTicker\"},{\"attributes\":{\"source\":{\"id\":\"1138\",\"type\":\"ColumnDataSource\"}},\"id\":\"1142\",\"type\":\"CDSView\"},{\"attributes\":{\"formatter\":{\"id\":\"1157\",\"type\":\"BasicTickFormatter\"},\"plot\":{\"id\":\"1104\",\"subtype\":\"Figure\",\"type\":\"Plot\"},\"ticker\":{\"id\":\"1119\",\"type\":\"BasicTicker\"}},\"id\":\"1118\",\"type\":\"LinearAxis\"},{\"attributes\":{\"plot\":{\"id\":\"1104\",\"subtype\":\"Figure\",\"type\":\"Plot\"},\"ticker\":{\"id\":\"1114\",\"type\":\"BasicTicker\"}},\"id\":\"1117\",\"type\":\"Grid\"},{\"attributes\":{\"dimension\":1,\"plot\":{\"id\":\"1104\",\"subtype\":\"Figure\",\"type\":\"Plot\"},\"ticker\":{\"id\":\"1119\",\"type\":\"BasicTicker\"}},\"id\":\"1122\",\"type\":\"Grid\"},{\"attributes\":{\"fill_alpha\":{\"value\":0.1},\"fill_color\":{\"value\":\"#1f77b4\"},\"line_alpha\":{\"value\":0.1},\"line_color\":{\"value\":\"#1f77b4\"},\"size\":{\"units\":\"screen\",\"value\":20},\"x\":{\"field\":\"x\"},\"y\":{\"field\":\"y\"}},\"id\":\"1140\",\"type\":\"Circle\"},{\"attributes\":{},\"id\":\"1155\",\"type\":\"BasicTickFormatter\"},{\"attributes\":{\"fill_color\":{\"value\":\"red\"},\"line_color\":{\"value\":\"red\"},\"size\":{\"units\":\"screen\",\"value\":20},\"x\":{\"field\":\"x\"},\"y\":{\"field\":\"y\"}},\"id\":\"1139\",\"type\":\"Circle\"},{\"attributes\":{\"overlay\":{\"id\":\"1131\",\"type\":\"BoxAnnotation\"}},\"id\":\"1125\",\"type\":\"BoxZoomTool\"},{\"attributes\":{},\"id\":\"1124\",\"type\":\"WheelZoomTool\"},{\"attributes\":{},\"id\":\"1159\",\"type\":\"UnionRenderers\"},{\"attributes\":{},\"id\":\"1123\",\"type\":\"PanTool\"},{\"attributes\":{},\"id\":\"1158\",\"type\":\"Selection\"},{\"attributes\":{\"plot\":null,\"text\":\"\"},\"id\":\"1152\",\"type\":\"Title\"},{\"attributes\":{\"bottom_units\":\"screen\",\"fill_alpha\":{\"value\":0.5},\"fill_color\":{\"value\":\"lightgrey\"},\"left_units\":\"screen\",\"level\":\"overlay\",\"line_alpha\":{\"value\":1.0},\"line_color\":{\"value\":\"black\"},\"line_dash\":[4,4],\"line_width\":{\"value\":2},\"plot\":null,\"render_mode\":\"css\",\"right_units\":\"screen\",\"top_units\":\"screen\"},\"id\":\"1131\",\"type\":\"BoxAnnotation\"},{\"attributes\":{\"callback\":null,\"data\":{\"x\":[1,2,4,3,5],\"y\":[6,5,4,2,3]},\"selected\":{\"id\":\"1158\",\"type\":\"Selection\"},\"selection_policy\":{\"id\":\"1159\",\"type\":\"UnionRenderers\"}},\"id\":\"1138\",\"type\":\"ColumnDataSource\"},{\"attributes\":{},\"id\":\"1157\",\"type\":\"BasicTickFormatter\"},{\"attributes\":{},\"id\":\"1127\",\"type\":\"ResetTool\"}],\"root_ids\":[\"1104\"]},\"title\":\"Bokeh Application\",\"version\":\"1.0.4\"}};\n",
       "  var render_items = [{\"docid\":\"086f9672-713a-41ae-aaea-594b7cde2679\",\"roots\":{\"1104\":\"239897be-4755-4683-afb1-be612912619c\"}}];\n",
       "  root.Bokeh.embed.embed_items_notebook(docs_json, render_items);\n",
       "\n",
       "  }\n",
       "  if (root.Bokeh !== undefined) {\n",
       "    embed_document(root);\n",
       "  } else {\n",
       "    var attempts = 0;\n",
       "    var timer = setInterval(function(root) {\n",
       "      if (root.Bokeh !== undefined) {\n",
       "        embed_document(root);\n",
       "        clearInterval(timer);\n",
       "      }\n",
       "      attempts++;\n",
       "      if (attempts > 100) {\n",
       "        console.log(\"Bokeh: ERROR: Unable to run BokehJS code because BokehJS library is missing\");\n",
       "        clearInterval(timer);\n",
       "      }\n",
       "    }, 10, root)\n",
       "  }\n",
       "})(window);"
      ],
      "application/vnd.bokehjs_exec.v0+json": ""
     },
     "metadata": {
      "application/vnd.bokehjs_exec.v0+json": {
       "id": "1104"
      }
     },
     "output_type": "display_data"
    }
   ],
   "source": [
    "# 在spyder等非notebook中创建绘图空间\n",
    "from bokeh.plotting import show,figure,output_file\n",
    "# 导入图表绘制、图标展示模块\n",
    "# output_file → 非notebook中创建绘图空间\n",
    "\n",
    "import os\n",
    "\n",
    "os.chdir('C:\\\\Users\\\\Vodka\\\\Desktop')\n",
    "\n",
    "output_file('html')\n",
    "# notebook绘图命令，创建html文件\n",
    "# 运行后会弹出html窗口\n",
    "\n",
    "p = figure(plot_height = 400,plot_width = 400)\n",
    "p.circle([1,2,4,3,5],[6,5,4,2,3],size = 20,color = 'red')\n",
    "\n",
    "show(p)"
   ]
  },
  {
   "cell_type": "code",
   "execution_count": 5,
   "metadata": {},
   "outputs": [
    {
     "data": {
      "text/html": [
       "\n",
       "\n",
       "\n",
       "\n",
       "\n",
       "\n",
       "  <div class=\"bk-root\" id=\"2a48ae49-1cd3-43fc-8d0f-8a08b2fb0591\" data-root-id=\"1298\"></div>\n"
      ]
     },
     "metadata": {},
     "output_type": "display_data"
    },
    {
     "data": {
      "application/javascript": [
       "(function(root) {\n",
       "  function embed_document(root) {\n",
       "    \n",
       "  var docs_json = {\"ba952edf-78d2-4435-89e2-883ffb72b9c4\":{\"roots\":{\"references\":[{\"attributes\":{\"below\":[{\"id\":\"1308\",\"type\":\"LinearAxis\"}],\"left\":[{\"id\":\"1313\",\"type\":\"LinearAxis\"}],\"plot_height\":400,\"renderers\":[{\"id\":\"1308\",\"type\":\"LinearAxis\"},{\"id\":\"1312\",\"type\":\"Grid\"},{\"id\":\"1313\",\"type\":\"LinearAxis\"},{\"id\":\"1317\",\"type\":\"Grid\"},{\"id\":\"1326\",\"type\":\"BoxAnnotation\"},{\"id\":\"1336\",\"type\":\"GlyphRenderer\"}],\"title\":{\"id\":\"1297\",\"type\":\"Title\"},\"toolbar\":{\"id\":\"1324\",\"type\":\"Toolbar\"},\"toolbar_location\":\"above\",\"x_range\":{\"id\":\"1300\",\"type\":\"Range1d\"},\"x_scale\":{\"id\":\"1304\",\"type\":\"LinearScale\"},\"y_range\":{\"id\":\"1302\",\"type\":\"Range1d\"},\"y_scale\":{\"id\":\"1306\",\"type\":\"LinearScale\"}},\"id\":\"1298\",\"subtype\":\"Figure\",\"type\":\"Plot\"},{\"attributes\":{},\"id\":\"1314\",\"type\":\"BasicTicker\"},{\"attributes\":{\"dimension\":1,\"plot\":{\"id\":\"1298\",\"subtype\":\"Figure\",\"type\":\"Plot\"},\"ticker\":{\"id\":\"1314\",\"type\":\"BasicTicker\"}},\"id\":\"1317\",\"type\":\"Grid\"},{\"attributes\":{\"callback\":null,\"end\":3,\"start\":-3},\"id\":\"1302\",\"type\":\"Range1d\"},{\"attributes\":{},\"id\":\"1358\",\"type\":\"BasicTickFormatter\"},{\"attributes\":{},\"id\":\"1304\",\"type\":\"LinearScale\"},{\"attributes\":{},\"id\":\"1318\",\"type\":\"PanTool\"},{\"attributes\":{},\"id\":\"1319\",\"type\":\"WheelZoomTool\"},{\"attributes\":{\"overlay\":{\"id\":\"1326\",\"type\":\"BoxAnnotation\"}},\"id\":\"1320\",\"type\":\"BoxZoomTool\"},{\"attributes\":{},\"id\":\"1321\",\"type\":\"SaveTool\"},{\"attributes\":{},\"id\":\"1322\",\"type\":\"ResetTool\"},{\"attributes\":{\"source\":{\"id\":\"1333\",\"type\":\"ColumnDataSource\"}},\"id\":\"1337\",\"type\":\"CDSView\"},{\"attributes\":{\"fill_alpha\":{\"value\":0.1},\"fill_color\":{\"value\":\"#1f77b4\"},\"line_alpha\":{\"value\":0.1},\"line_color\":{\"value\":\"#1f77b4\"},\"size\":{\"units\":\"screen\",\"value\":20},\"x\":{\"field\":\"x\"},\"y\":{\"field\":\"y\"}},\"id\":\"1335\",\"type\":\"Circle\"},{\"attributes\":{},\"id\":\"1323\",\"type\":\"HelpTool\"},{\"attributes\":{\"data_source\":{\"id\":\"1333\",\"type\":\"ColumnDataSource\"},\"glyph\":{\"id\":\"1334\",\"type\":\"Circle\"},\"hover_glyph\":null,\"muted_glyph\":null,\"nonselection_glyph\":{\"id\":\"1335\",\"type\":\"Circle\"},\"selection_glyph\":null,\"view\":{\"id\":\"1337\",\"type\":\"CDSView\"}},\"id\":\"1336\",\"type\":\"GlyphRenderer\"},{\"attributes\":{\"plot\":{\"id\":\"1298\",\"subtype\":\"Figure\",\"type\":\"Plot\"},\"ticker\":{\"id\":\"1309\",\"type\":\"BasicTicker\"}},\"id\":\"1312\",\"type\":\"Grid\"},{\"attributes\":{\"active_drag\":\"auto\",\"active_inspect\":\"auto\",\"active_multi\":null,\"active_scroll\":\"auto\",\"active_tap\":\"auto\",\"tools\":[{\"id\":\"1318\",\"type\":\"PanTool\"},{\"id\":\"1319\",\"type\":\"WheelZoomTool\"},{\"id\":\"1320\",\"type\":\"BoxZoomTool\"},{\"id\":\"1321\",\"type\":\"SaveTool\"},{\"id\":\"1322\",\"type\":\"ResetTool\"},{\"id\":\"1323\",\"type\":\"HelpTool\"}]},\"id\":\"1324\",\"type\":\"Toolbar\"},{\"attributes\":{\"axis_label\":\"A\",\"formatter\":{\"id\":\"1358\",\"type\":\"BasicTickFormatter\"},\"plot\":{\"id\":\"1298\",\"subtype\":\"Figure\",\"type\":\"Plot\"},\"ticker\":{\"id\":\"1309\",\"type\":\"BasicTicker\"}},\"id\":\"1308\",\"type\":\"LinearAxis\"},{\"attributes\":{\"axis_label\":\"B\",\"formatter\":{\"id\":\"1360\",\"type\":\"BasicTickFormatter\"},\"plot\":{\"id\":\"1298\",\"subtype\":\"Figure\",\"type\":\"Plot\"},\"ticker\":{\"id\":\"1314\",\"type\":\"BasicTicker\"}},\"id\":\"1313\",\"type\":\"LinearAxis\"},{\"attributes\":{},\"id\":\"1360\",\"type\":\"BasicTickFormatter\"},{\"attributes\":{\"background_fill_color\":{\"value\":\"green\"},\"plot\":null,\"text\":\"\\u6d4b\\u8bd5\\u56fe\\u8868\",\"text_color\":{\"value\":\"red\"},\"text_font\":\"times\"},\"id\":\"1297\",\"type\":\"Title\"},{\"attributes\":{\"bottom_units\":\"screen\",\"fill_alpha\":{\"value\":0.5},\"fill_color\":{\"value\":\"lightgrey\"},\"left_units\":\"screen\",\"level\":\"overlay\",\"line_alpha\":{\"value\":1.0},\"line_color\":{\"value\":\"black\"},\"line_dash\":[4,4],\"line_width\":{\"value\":2},\"plot\":null,\"render_mode\":\"css\",\"right_units\":\"screen\",\"top_units\":\"screen\"},\"id\":\"1326\",\"type\":\"BoxAnnotation\"},{\"attributes\":{\"fill_alpha\":{\"value\":0.5},\"fill_color\":{\"value\":\"red\"},\"line_alpha\":{\"value\":0.5},\"line_color\":{\"value\":\"red\"},\"size\":{\"units\":\"screen\",\"value\":20},\"x\":{\"field\":\"x\"},\"y\":{\"field\":\"y\"}},\"id\":\"1334\",\"type\":\"Circle\"},{\"attributes\":{},\"id\":\"1361\",\"type\":\"Selection\"},{\"attributes\":{},\"id\":\"1306\",\"type\":\"LinearScale\"},{\"attributes\":{\"callback\":null,\"data\":{\"x\":{\"__ndarray__\":\"zTFoqMcb7T/FWpBh67nfv5AmDc4v5+S/UXrQTW/29r+rUXFGs8bhP4AarVliitm/szFFKnz55r9TrAAxQy/Kv3LVkIlq0eK/uIzAF9198r9Iv/ghSNXkPw5t/zK26gLAgeJ5MwBo+T/xph6d3Bn6vylIEmaZsuY/mfvG5Qz39b8qDMPRRqLVP4iO8ura8uM/SCPAQjUYyr9Kx3mQCHHAPw0wvHoiFeS/iih20zxy1L+i2+2tdnn0P3xk6KFMFOG/MpK6eIoB2j/5Ef8hawT7vyCb3vVuhe2/d/qkHqml2j/ahARPW0Dsv3QOd2NnLL2/DZLGw5GAwr8E1fsXl9Twv+BWYdMMHOS/tta4G8Zb/T9m7fJSmbjpv/eWxiVA6u2/6Gfj8XZD6b/EERc25/vvv+Ydr7VhkuA/TSL+UTCX6D9UFvEk4db7v9vMJYM4L9i/Ax5Klmyi7j9WE1ES+fmyP+vsrcdIQeu/Lvfj1gVP6j+iC5M1FMAAwOY4s0P6DfO/jmmO7QZlrz9saadcFhbJv6QQcpOS1OE/BiGyUtHtpj9uRNm0WI7ov4uWwD+aJvu/coJMKXi+4T9nPx+qoZf+P2SPxtgG8Oa/bWQnG8VM7L89lb9PfXjTP2OYmRoI8oi/d5nqcujE/L89ei/yUXbgP83dzkaT39G/+gpvxU4twT9/XlwoaiPAvxTkVyfIa9a/MJuZ9oCW/r/ABacpgRz0vyhk5nE13Oq/V+48s4zD7D9jAwCZsHz7vwW52J4aLao/lggZkPcj2L+Sh025Ucn7vzkzt99Klry/EwHTMtd//b+9QCjN6qDCvxQ0tI5R6vg/OsJ/LFgT4b9LkI/3Q7cCQPU1LWjrZOW/SOWAiUgy178gRniaIej8P42DSC3lKdc/uwzo8rWC1j/9LXpp7Uz5PwaQufjokZq/VRdk3esd3D+lgKHmdmfsvwsqtrsr5PE/sm55SBpb7T+DQgCTCgHVv4hIewPecsK/Gv+jWaYV8r+jvfkMnTHtP2UhNFs9JLw/0PoTgxkj+b80to50DzDSP08IjW8/A7g/02BT8u0AyL8=\",\"dtype\":\"float64\",\"shape\":[100]},\"y\":{\"__ndarray__\":\"lCxEo/PQxz9cAHQv0w+sP5ppuOZn2+M//5ErOm1H+r+mPp9YF+TzP620yDkKXNC/h1l+xT1Z8D+UyExdmvvhP7PAwvYd28o/Q/bmAXWXv78SJb7jfrLuv0e88CJzguo/tFUccETZyL/BWMpeldDyP6nyGh7NJANACz/0C5HT9T/ucXPxclDtP5DU0pwsjuA/bjMdGDtaA0CSOIu+OZPBv8TpojTlK96//bYMSt9y4b9w1/GdGRDqPxwLhMpaZeU/QaThV3C0zL+stLgjK7/hvwjKPNsa7eG/GEUZK60Yw7+FKWNVgHH4v3BlAJnVT9e/Wnx+Uo0s2T+o2QsOy4wAQGQIKl5G/vO/YoEaT6gD8D9PvhUNgWHnP7mKhwxB9/I/Y2qLdRdk9r/xDLPsnwnyP+uswV9yKtG/w0TtzM/rAEAPeEObrILov2iYUP/HM/q/mwE8K5JPsj8CAB78iq5Yv3wxLteHErI/COe4M+PXAUDX74qeY5LjP3+r1ZbGguw/sgXxHW4q6T+3JXj2PUuVP9MS12gOWuQ/so86KFYFqb8exSXCKpvnP/tisauQIPM/viOgip3e+79ahRf0cpTrv6gLMdUQ6dS/mVHJskA38z8JV7/09gbgP2IhNo53Be4/QOR4ES1J7D/oyFd2fW3DPw9JBjx5tPq/GNDmt+O21z8nC2DE3hTCv8C7UsAYmOk/p4p5HSpG9j8fdR5Pj9XrP3Q99+9iJ+u/lvhaxyzT1j81oJUUG6PQv9m1ChzP48O/1vUqiJVy4b8mMPcZHWbQvyOMzX/ZVvQ/oHjUs14n97+uPbMvQUxrv361WxFBD/k/W2NIpDFY0D8U1t0YHRPVv4wtcrm+YPI/5eGVfjDh7D+/DQIiUZHCv0B4RPn6CQBAl4wLEgw0vT/hbuVePqnxv193PuEsAdO/UAVwZqji5b/9Cuue3nXrv2vSE3DDv+U/vz1m4cogsD8hlmpF2hvEvwZSd6Rqh+c/sscrnVzg8b8phkTrpyvWP8SEuMmFlue/qbz2xN5q5D84Ihp1jlb5v3lDji+MKeC/wX1RFtHZtT8=\",\"dtype\":\"float64\",\"shape\":[100]}},\"selected\":{\"id\":\"1361\",\"type\":\"Selection\"},\"selection_policy\":{\"id\":\"1362\",\"type\":\"UnionRenderers\"}},\"id\":\"1333\",\"type\":\"ColumnDataSource\"},{\"attributes\":{},\"id\":\"1309\",\"type\":\"BasicTicker\"},{\"attributes\":{\"callback\":null,\"end\":3,\"start\":-3},\"id\":\"1300\",\"type\":\"Range1d\"},{\"attributes\":{},\"id\":\"1362\",\"type\":\"UnionRenderers\"}],\"root_ids\":[\"1298\"]},\"title\":\"Bokeh Application\",\"version\":\"1.0.4\"}};\n",
       "  var render_items = [{\"docid\":\"ba952edf-78d2-4435-89e2-883ffb72b9c4\",\"roots\":{\"1298\":\"2a48ae49-1cd3-43fc-8d0f-8a08b2fb0591\"}}];\n",
       "  root.Bokeh.embed.embed_items_notebook(docs_json, render_items);\n",
       "\n",
       "  }\n",
       "  if (root.Bokeh !== undefined) {\n",
       "    embed_document(root);\n",
       "  } else {\n",
       "    var attempts = 0;\n",
       "    var timer = setInterval(function(root) {\n",
       "      if (root.Bokeh !== undefined) {\n",
       "        embed_document(root);\n",
       "        clearInterval(timer);\n",
       "      }\n",
       "      attempts++;\n",
       "      if (attempts > 100) {\n",
       "        console.log(\"Bokeh: ERROR: Unable to run BokehJS code because BokehJS library is missing\");\n",
       "        clearInterval(timer);\n",
       "      }\n",
       "    }, 10, root)\n",
       "  }\n",
       "})(window);"
      ],
      "application/vnd.bokehjs_exec.v0+json": ""
     },
     "metadata": {
      "application/vnd.bokehjs_exec.v0+json": {
       "id": "1298"
      }
     },
     "output_type": "display_data"
    }
   ],
   "source": [
    "# 创建图表工具 \n",
    "# figure()\n",
    "\n",
    "df = pd.DataFrame(np.random.randn(100,2),columns=['A','B'])\n",
    "\n",
    "p = figure(plot_width=600,plot_height=400,\n",
    "          tools = 'pan,wheel_zoom,box_zoom,save,reset,help',          # 设置工具栏，默认全部显示'\n",
    "           toolbar_location = 'above',                   # 工具栏位置：\"above\"，\"below\"，\"left\"，\"right\"\n",
    "           x_axis_label = 'A',y_axis_label = 'B',      # X,Y轴label\n",
    "           x_range = [-3,3],y_range = [-3,3],         # X,Y轴范围\n",
    "           title = '测试图表',                       # 设置图表title\n",
    "          )\n",
    "# figure创建图表，设置基本参数\n",
    "# tool参考文档：https://bokeh.pydata.org/en/latest/docs/user_guide/tools.html\n",
    "\n",
    "p.title.text_color = 'red'\n",
    "p.title.text_font = 'times'\n",
    "p.title.text_font_style = 'bold'\n",
    "p.title.background_fill_color = 'green'\n",
    "# 设置标题：颜色、字体、风格、背景颜色\n",
    "\n",
    "p.circle(df['A'],df['B'],size = 20,color = 'red',alpha = 0.5)\n",
    "show(p)\n",
    "# 创建散点图\n",
    "# 这里.circle()是figure的一个绘图方法"
   ]
  },
  {
   "cell_type": "code",
   "execution_count": 6,
   "metadata": {},
   "outputs": [
    {
     "data": {
      "text/html": [
       "\n",
       "\n",
       "\n",
       "\n",
       "\n",
       "\n",
       "  <div class=\"bk-root\" id=\"ca2b038d-8730-462a-9ee9-f4457c8465be\" data-root-id=\"1485\"></div>\n"
      ]
     },
     "metadata": {},
     "output_type": "display_data"
    },
    {
     "data": {
      "application/javascript": [
       "(function(root) {\n",
       "  function embed_document(root) {\n",
       "    \n",
       "  var docs_json = {\"d29b1631-3063-4f30-8299-1bb06d723a41\":{\"roots\":{\"references\":[{\"attributes\":{\"below\":[{\"id\":\"1494\",\"type\":\"LinearAxis\"}],\"left\":[{\"id\":\"1499\",\"type\":\"LinearAxis\"}],\"plot_height\":400,\"renderers\":[{\"id\":\"1494\",\"type\":\"LinearAxis\"},{\"id\":\"1498\",\"type\":\"Grid\"},{\"id\":\"1499\",\"type\":\"LinearAxis\"},{\"id\":\"1503\",\"type\":\"Grid\"},{\"id\":\"1512\",\"type\":\"BoxAnnotation\"},{\"id\":\"1522\",\"type\":\"GlyphRenderer\"},{\"id\":\"1527\",\"type\":\"GlyphRenderer\"}],\"title\":{\"id\":\"1555\",\"type\":\"Title\"},\"toolbar\":{\"id\":\"1510\",\"type\":\"Toolbar\"},\"toolbar_location\":\"above\",\"x_range\":{\"id\":\"1486\",\"type\":\"DataRange1d\"},\"x_scale\":{\"id\":\"1490\",\"type\":\"LinearScale\"},\"y_range\":{\"id\":\"1488\",\"type\":\"DataRange1d\"},\"y_scale\":{\"id\":\"1492\",\"type\":\"LinearScale\"}},\"id\":\"1485\",\"subtype\":\"Figure\",\"type\":\"Plot\"},{\"attributes\":{\"bottom_units\":\"screen\",\"fill_alpha\":{\"value\":0.5},\"fill_color\":{\"value\":\"lightgrey\"},\"left_units\":\"screen\",\"level\":\"overlay\",\"line_alpha\":{\"value\":1.0},\"line_color\":{\"value\":\"black\"},\"line_dash\":[4,4],\"line_width\":{\"value\":2},\"plot\":null,\"render_mode\":\"css\",\"right_units\":\"screen\",\"top_units\":\"screen\"},\"id\":\"1512\",\"type\":\"BoxAnnotation\"},{\"attributes\":{\"active_drag\":\"auto\",\"active_inspect\":\"auto\",\"active_multi\":null,\"active_scroll\":\"auto\",\"active_tap\":\"auto\",\"tools\":[{\"id\":\"1504\",\"type\":\"PanTool\"},{\"id\":\"1505\",\"type\":\"WheelZoomTool\"},{\"id\":\"1506\",\"type\":\"BoxZoomTool\"},{\"id\":\"1507\",\"type\":\"SaveTool\"},{\"id\":\"1508\",\"type\":\"ResetTool\"},{\"id\":\"1509\",\"type\":\"HelpTool\"}]},\"id\":\"1510\",\"type\":\"Toolbar\"},{\"attributes\":{\"source\":{\"id\":\"1519\",\"type\":\"ColumnDataSource\"}},\"id\":\"1523\",\"type\":\"CDSView\"},{\"attributes\":{},\"id\":\"1504\",\"type\":\"PanTool\"},{\"attributes\":{},\"id\":\"1507\",\"type\":\"SaveTool\"},{\"attributes\":{},\"id\":\"1560\",\"type\":\"BasicTickFormatter\"},{\"attributes\":{},\"id\":\"1564\",\"type\":\"UnionRenderers\"},{\"attributes\":{\"fill_alpha\":{\"value\":0.1},\"fill_color\":{\"value\":\"#1f77b4\"},\"line_alpha\":{\"value\":0.1},\"line_color\":{\"value\":\"#1f77b4\"},\"size\":{\"units\":\"screen\",\"value\":10},\"x\":{\"field\":\"x\"},\"y\":{\"field\":\"y\"}},\"id\":\"1521\",\"type\":\"Circle\"},{\"attributes\":{\"formatter\":{\"id\":\"1560\",\"type\":\"BasicTickFormatter\"},\"plot\":{\"id\":\"1485\",\"subtype\":\"Figure\",\"type\":\"Plot\"},\"ticker\":{\"id\":\"1500\",\"type\":\"BasicTicker\"}},\"id\":\"1499\",\"type\":\"LinearAxis\"},{\"attributes\":{},\"id\":\"1500\",\"type\":\"BasicTicker\"},{\"attributes\":{},\"id\":\"1505\",\"type\":\"WheelZoomTool\"},{\"attributes\":{\"dimension\":1,\"plot\":{\"id\":\"1485\",\"subtype\":\"Figure\",\"type\":\"Plot\"},\"ticker\":{\"id\":\"1500\",\"type\":\"BasicTicker\"}},\"id\":\"1503\",\"type\":\"Grid\"},{\"attributes\":{},\"id\":\"1561\",\"type\":\"Selection\"},{\"attributes\":{\"source\":{\"id\":\"1524\",\"type\":\"ColumnDataSource\"}},\"id\":\"1528\",\"type\":\"CDSView\"},{\"attributes\":{},\"id\":\"1495\",\"type\":\"BasicTicker\"},{\"attributes\":{},\"id\":\"1562\",\"type\":\"UnionRenderers\"},{\"attributes\":{},\"id\":\"1492\",\"type\":\"LinearScale\"},{\"attributes\":{\"plot\":{\"id\":\"1485\",\"subtype\":\"Figure\",\"type\":\"Plot\"},\"ticker\":{\"id\":\"1495\",\"type\":\"BasicTicker\"}},\"id\":\"1498\",\"type\":\"Grid\"},{\"attributes\":{\"callback\":null},\"id\":\"1488\",\"type\":\"DataRange1d\"},{\"attributes\":{\"overlay\":{\"id\":\"1512\",\"type\":\"BoxAnnotation\"}},\"id\":\"1506\",\"type\":\"BoxZoomTool\"},{\"attributes\":{\"fill_alpha\":{\"value\":0.5},\"fill_color\":{\"value\":\"red\"},\"line_alpha\":{\"value\":0.5},\"line_color\":{\"value\":\"red\"},\"size\":{\"units\":\"screen\",\"value\":10},\"x\":{\"field\":\"x\"},\"y\":{\"field\":\"y\"}},\"id\":\"1520\",\"type\":\"Circle\"},{\"attributes\":{},\"id\":\"1508\",\"type\":\"ResetTool\"},{\"attributes\":{\"data_source\":{\"id\":\"1524\",\"type\":\"ColumnDataSource\"},\"glyph\":{\"id\":\"1525\",\"type\":\"Circle\"},\"hover_glyph\":null,\"muted_glyph\":null,\"nonselection_glyph\":{\"id\":\"1526\",\"type\":\"Circle\"},\"selection_glyph\":null,\"view\":{\"id\":\"1528\",\"type\":\"CDSView\"}},\"id\":\"1527\",\"type\":\"GlyphRenderer\"},{\"attributes\":{\"data_source\":{\"id\":\"1519\",\"type\":\"ColumnDataSource\"},\"glyph\":{\"id\":\"1520\",\"type\":\"Circle\"},\"hover_glyph\":null,\"muted_glyph\":null,\"nonselection_glyph\":{\"id\":\"1521\",\"type\":\"Circle\"},\"selection_glyph\":null,\"view\":{\"id\":\"1523\",\"type\":\"CDSView\"}},\"id\":\"1522\",\"type\":\"GlyphRenderer\"},{\"attributes\":{\"plot\":null,\"text\":\"\"},\"id\":\"1555\",\"type\":\"Title\"},{\"attributes\":{},\"id\":\"1490\",\"type\":\"LinearScale\"},{\"attributes\":{\"callback\":null,\"data\":{\"x\":[0,1,2,3,4,5,6,7,8,9,10,11,12,13,14,15,16,17,18,19,20,21,22,23,24,25,26,27,28,29,30,31,32,33,34,35,36,37,38,39,40,41,42,43,44,45,46,47,48,49,50,51,52,53,54,55,56,57,58,59,60,61,62,63,64,65,66,67,68,69,70,71,72,73,74,75,76,77,78,79,80,81,82,83,84,85,86,87,88,89,90,91,92,93,94,95,96,97,98,99],\"y\":{\"__ndarray__\":\"lCxEo/PQxz9cAHQv0w+sP5ppuOZn2+M//5ErOm1H+r+mPp9YF+TzP620yDkKXNC/h1l+xT1Z8D+UyExdmvvhP7PAwvYd28o/Q/bmAXWXv78SJb7jfrLuv0e88CJzguo/tFUccETZyL/BWMpeldDyP6nyGh7NJANACz/0C5HT9T/ucXPxclDtP5DU0pwsjuA/bjMdGDtaA0CSOIu+OZPBv8TpojTlK96//bYMSt9y4b9w1/GdGRDqPxwLhMpaZeU/QaThV3C0zL+stLgjK7/hvwjKPNsa7eG/GEUZK60Yw7+FKWNVgHH4v3BlAJnVT9e/Wnx+Uo0s2T+o2QsOy4wAQGQIKl5G/vO/YoEaT6gD8D9PvhUNgWHnP7mKhwxB9/I/Y2qLdRdk9r/xDLPsnwnyP+uswV9yKtG/w0TtzM/rAEAPeEObrILov2iYUP/HM/q/mwE8K5JPsj8CAB78iq5Yv3wxLteHErI/COe4M+PXAUDX74qeY5LjP3+r1ZbGguw/sgXxHW4q6T+3JXj2PUuVP9MS12gOWuQ/so86KFYFqb8exSXCKpvnP/tisauQIPM/viOgip3e+79ahRf0cpTrv6gLMdUQ6dS/mVHJskA38z8JV7/09gbgP2IhNo53Be4/QOR4ES1J7D/oyFd2fW3DPw9JBjx5tPq/GNDmt+O21z8nC2DE3hTCv8C7UsAYmOk/p4p5HSpG9j8fdR5Pj9XrP3Q99+9iJ+u/lvhaxyzT1j81oJUUG6PQv9m1ChzP48O/1vUqiJVy4b8mMPcZHWbQvyOMzX/ZVvQ/oHjUs14n97+uPbMvQUxrv361WxFBD/k/W2NIpDFY0D8U1t0YHRPVv4wtcrm+YPI/5eGVfjDh7D+/DQIiUZHCv0B4RPn6CQBAl4wLEgw0vT/hbuVePqnxv193PuEsAdO/UAVwZqji5b/9Cuue3nXrv2vSE3DDv+U/vz1m4cogsD8hlmpF2hvEvwZSd6Rqh+c/sscrnVzg8b8phkTrpyvWP8SEuMmFlue/qbz2xN5q5D84Ihp1jlb5v3lDji+MKeC/wX1RFtHZtT8=\",\"dtype\":\"float64\",\"shape\":[100]}},\"selected\":{\"id\":\"1563\",\"type\":\"Selection\"},\"selection_policy\":{\"id\":\"1564\",\"type\":\"UnionRenderers\"}},\"id\":\"1524\",\"type\":\"ColumnDataSource\"},{\"attributes\":{\"fill_alpha\":{\"value\":0.1},\"fill_color\":{\"value\":\"#1f77b4\"},\"line_alpha\":{\"value\":0.1},\"line_color\":{\"value\":\"#1f77b4\"},\"size\":{\"units\":\"screen\",\"value\":10},\"x\":{\"field\":\"x\"},\"y\":{\"field\":\"y\"}},\"id\":\"1526\",\"type\":\"Circle\"},{\"attributes\":{\"fill_alpha\":{\"value\":0.5},\"fill_color\":{\"value\":\"#FF0000\"},\"line_alpha\":{\"value\":0.5},\"line_color\":{\"value\":\"#FF0000\"},\"size\":{\"units\":\"screen\",\"value\":10},\"x\":{\"field\":\"x\"},\"y\":{\"field\":\"y\"}},\"id\":\"1525\",\"type\":\"Circle\"},{\"attributes\":{\"formatter\":{\"id\":\"1558\",\"type\":\"BasicTickFormatter\"},\"plot\":{\"id\":\"1485\",\"subtype\":\"Figure\",\"type\":\"Plot\"},\"ticker\":{\"id\":\"1495\",\"type\":\"BasicTicker\"}},\"id\":\"1494\",\"type\":\"LinearAxis\"},{\"attributes\":{},\"id\":\"1509\",\"type\":\"HelpTool\"},{\"attributes\":{},\"id\":\"1558\",\"type\":\"BasicTickFormatter\"},{\"attributes\":{\"callback\":null,\"data\":{\"x\":[0,1,2,3,4,5,6,7,8,9,10,11,12,13,14,15,16,17,18,19,20,21,22,23,24,25,26,27,28,29,30,31,32,33,34,35,36,37,38,39,40,41,42,43,44,45,46,47,48,49,50,51,52,53,54,55,56,57,58,59,60,61,62,63,64,65,66,67,68,69,70,71,72,73,74,75,76,77,78,79,80,81,82,83,84,85,86,87,88,89,90,91,92,93,94,95,96,97,98,99],\"y\":{\"__ndarray__\":\"zTFoqMcb7T/FWpBh67nfv5AmDc4v5+S/UXrQTW/29r+rUXFGs8bhP4AarVliitm/szFFKnz55r9TrAAxQy/Kv3LVkIlq0eK/uIzAF9198r9Iv/ghSNXkPw5t/zK26gLAgeJ5MwBo+T/xph6d3Bn6vylIEmaZsuY/mfvG5Qz39b8qDMPRRqLVP4iO8ura8uM/SCPAQjUYyr9Kx3mQCHHAPw0wvHoiFeS/iih20zxy1L+i2+2tdnn0P3xk6KFMFOG/MpK6eIoB2j/5Ef8hawT7vyCb3vVuhe2/d/qkHqml2j/ahARPW0Dsv3QOd2NnLL2/DZLGw5GAwr8E1fsXl9Twv+BWYdMMHOS/tta4G8Zb/T9m7fJSmbjpv/eWxiVA6u2/6Gfj8XZD6b/EERc25/vvv+Ydr7VhkuA/TSL+UTCX6D9UFvEk4db7v9vMJYM4L9i/Ax5Klmyi7j9WE1ES+fmyP+vsrcdIQeu/Lvfj1gVP6j+iC5M1FMAAwOY4s0P6DfO/jmmO7QZlrz9saadcFhbJv6QQcpOS1OE/BiGyUtHtpj9uRNm0WI7ov4uWwD+aJvu/coJMKXi+4T9nPx+qoZf+P2SPxtgG8Oa/bWQnG8VM7L89lb9PfXjTP2OYmRoI8oi/d5nqcujE/L89ei/yUXbgP83dzkaT39G/+gpvxU4twT9/XlwoaiPAvxTkVyfIa9a/MJuZ9oCW/r/ABacpgRz0vyhk5nE13Oq/V+48s4zD7D9jAwCZsHz7vwW52J4aLao/lggZkPcj2L+Sh025Ucn7vzkzt99Klry/EwHTMtd//b+9QCjN6qDCvxQ0tI5R6vg/OsJ/LFgT4b9LkI/3Q7cCQPU1LWjrZOW/SOWAiUgy178gRniaIej8P42DSC3lKdc/uwzo8rWC1j/9LXpp7Uz5PwaQufjokZq/VRdk3esd3D+lgKHmdmfsvwsqtrsr5PE/sm55SBpb7T+DQgCTCgHVv4hIewPecsK/Gv+jWaYV8r+jvfkMnTHtP2UhNFs9JLw/0PoTgxkj+b80to50DzDSP08IjW8/A7g/02BT8u0AyL8=\",\"dtype\":\"float64\",\"shape\":[100]}},\"selected\":{\"id\":\"1561\",\"type\":\"Selection\"},\"selection_policy\":{\"id\":\"1562\",\"type\":\"UnionRenderers\"}},\"id\":\"1519\",\"type\":\"ColumnDataSource\"},{\"attributes\":{},\"id\":\"1563\",\"type\":\"Selection\"},{\"attributes\":{\"callback\":null},\"id\":\"1486\",\"type\":\"DataRange1d\"}],\"root_ids\":[\"1485\"]},\"title\":\"Bokeh Application\",\"version\":\"1.0.4\"}};\n",
       "  var render_items = [{\"docid\":\"d29b1631-3063-4f30-8299-1bb06d723a41\",\"roots\":{\"1485\":\"ca2b038d-8730-462a-9ee9-f4457c8465be\"}}];\n",
       "  root.Bokeh.embed.embed_items_notebook(docs_json, render_items);\n",
       "\n",
       "  }\n",
       "  if (root.Bokeh !== undefined) {\n",
       "    embed_document(root);\n",
       "  } else {\n",
       "    var attempts = 0;\n",
       "    var timer = setInterval(function(root) {\n",
       "      if (root.Bokeh !== undefined) {\n",
       "        embed_document(root);\n",
       "        clearInterval(timer);\n",
       "      }\n",
       "      attempts++;\n",
       "      if (attempts > 100) {\n",
       "        console.log(\"Bokeh: ERROR: Unable to run BokehJS code because BokehJS library is missing\");\n",
       "        clearInterval(timer);\n",
       "      }\n",
       "    }, 10, root)\n",
       "  }\n",
       "})(window);"
      ],
      "application/vnd.bokehjs_exec.v0+json": ""
     },
     "metadata": {
      "application/vnd.bokehjs_exec.v0+json": {
       "id": "1485"
      }
     },
     "output_type": "display_data"
    }
   ],
   "source": [
    "# 颜色设置\n",
    "\n",
    "p = figure(plot_width=600,plot_height=400,toolbar_location = 'above')\n",
    "# 创建绘图空间\n",
    "\n",
    "p.circle(df.index,df['A'],color='red',alpha=0.5,size=10)\n",
    "p.circle(df.index,df['B'],color='#FF0000',alpha=0.5,size=10)\n",
    "show(p)\n",
    "# 颜色设置\n",
    "# ① 147个CSS颜色，参考网址：http://www.colors.commutercreative.com/grid/\n",
    "# ② RGB颜色值，参考网址：https://coolors.co/87f1ff-c0f5fa-bd8b9c-af125a-582b11"
   ]
  },
  {
   "cell_type": "code",
   "execution_count": 7,
   "metadata": {},
   "outputs": [
    {
     "data": {
      "text/html": [
       "\n",
       "\n",
       "\n",
       "\n",
       "\n",
       "\n",
       "  <div class=\"bk-root\" id=\"dc94e0bd-5516-44f4-a462-65f1f9f4de7d\" data-root-id=\"1732\"></div>\n"
      ]
     },
     "metadata": {},
     "output_type": "display_data"
    },
    {
     "data": {
      "application/javascript": [
       "(function(root) {\n",
       "  function embed_document(root) {\n",
       "    \n",
       "  var docs_json = {\"47fe0f9c-85fc-4237-9a72-0abac70cee0a\":{\"roots\":{\"references\":[{\"attributes\":{\"below\":[{\"id\":\"1741\",\"type\":\"LinearAxis\"}],\"left\":[{\"id\":\"1746\",\"type\":\"LinearAxis\"}],\"outline_line_alpha\":{\"value\":0.5},\"outline_line_color\":{\"value\":\"white\"},\"outline_line_width\":{\"value\":7},\"plot_height\":400,\"renderers\":[{\"id\":\"1741\",\"type\":\"LinearAxis\"},{\"id\":\"1745\",\"type\":\"Grid\"},{\"id\":\"1746\",\"type\":\"LinearAxis\"},{\"id\":\"1750\",\"type\":\"Grid\"},{\"id\":\"1759\",\"type\":\"BoxAnnotation\"},{\"id\":\"1769\",\"type\":\"GlyphRenderer\"},{\"id\":\"1774\",\"type\":\"GlyphRenderer\"}],\"title\":{\"id\":\"1813\",\"type\":\"Title\"},\"toolbar\":{\"id\":\"1757\",\"type\":\"Toolbar\"},\"x_range\":{\"id\":\"1733\",\"type\":\"DataRange1d\"},\"x_scale\":{\"id\":\"1737\",\"type\":\"LinearScale\"},\"y_range\":{\"id\":\"1735\",\"type\":\"DataRange1d\"},\"y_scale\":{\"id\":\"1739\",\"type\":\"LinearScale\"}},\"id\":\"1732\",\"subtype\":\"Figure\",\"type\":\"Plot\"},{\"attributes\":{\"source\":{\"id\":\"1766\",\"type\":\"ColumnDataSource\"}},\"id\":\"1770\",\"type\":\"CDSView\"},{\"attributes\":{},\"id\":\"1756\",\"type\":\"HelpTool\"},{\"attributes\":{},\"id\":\"1747\",\"type\":\"BasicTicker\"},{\"attributes\":{},\"id\":\"1755\",\"type\":\"ResetTool\"},{\"attributes\":{},\"id\":\"1818\",\"type\":\"BasicTickFormatter\"},{\"attributes\":{\"formatter\":{\"id\":\"1818\",\"type\":\"BasicTickFormatter\"},\"plot\":{\"id\":\"1732\",\"subtype\":\"Figure\",\"type\":\"Plot\"},\"ticker\":{\"id\":\"1747\",\"type\":\"BasicTicker\"}},\"id\":\"1746\",\"type\":\"LinearAxis\"},{\"attributes\":{\"fill_alpha\":{\"value\":0.1},\"fill_color\":{\"value\":\"#1f77b4\"},\"line_alpha\":{\"value\":0.1},\"line_color\":{\"value\":\"#1f77b4\"},\"size\":{\"units\":\"screen\",\"value\":10},\"x\":{\"field\":\"x\"},\"y\":{\"field\":\"y\"}},\"id\":\"1773\",\"type\":\"Circle\"},{\"attributes\":{\"fill_alpha\":{\"value\":0.5},\"fill_color\":{\"value\":\"#FF0000\"},\"line_alpha\":{\"value\":0.5},\"line_color\":{\"value\":\"#FF0000\"},\"size\":{\"units\":\"screen\",\"value\":10},\"x\":{\"field\":\"x\"},\"y\":{\"field\":\"y\"}},\"id\":\"1772\",\"type\":\"Circle\"},{\"attributes\":{\"fill_alpha\":{\"value\":0.5},\"fill_color\":{\"value\":\"green\"},\"line_alpha\":{\"value\":0.5},\"line_color\":{\"value\":\"green\"},\"size\":{\"units\":\"screen\",\"value\":10},\"x\":{\"field\":\"x\"},\"y\":{\"field\":\"y\"}},\"id\":\"1767\",\"type\":\"Circle\"},{\"attributes\":{},\"id\":\"1820\",\"type\":\"UnionRenderers\"},{\"attributes\":{},\"id\":\"1819\",\"type\":\"Selection\"},{\"attributes\":{},\"id\":\"1742\",\"type\":\"BasicTicker\"},{\"attributes\":{\"callback\":null},\"id\":\"1735\",\"type\":\"DataRange1d\"},{\"attributes\":{},\"id\":\"1737\",\"type\":\"LinearScale\"},{\"attributes\":{\"fill_alpha\":{\"value\":0.1},\"fill_color\":{\"value\":\"#1f77b4\"},\"line_alpha\":{\"value\":0.1},\"line_color\":{\"value\":\"#1f77b4\"},\"size\":{\"units\":\"screen\",\"value\":10},\"x\":{\"field\":\"x\"},\"y\":{\"field\":\"y\"}},\"id\":\"1768\",\"type\":\"Circle\"},{\"attributes\":{\"dimension\":1,\"plot\":{\"id\":\"1732\",\"subtype\":\"Figure\",\"type\":\"Plot\"},\"ticker\":{\"id\":\"1747\",\"type\":\"BasicTicker\"}},\"id\":\"1750\",\"type\":\"Grid\"},{\"attributes\":{\"overlay\":{\"id\":\"1759\",\"type\":\"BoxAnnotation\"}},\"id\":\"1753\",\"type\":\"BoxZoomTool\"},{\"attributes\":{},\"id\":\"1822\",\"type\":\"UnionRenderers\"},{\"attributes\":{},\"id\":\"1751\",\"type\":\"PanTool\"},{\"attributes\":{},\"id\":\"1821\",\"type\":\"Selection\"},{\"attributes\":{\"callback\":null},\"id\":\"1733\",\"type\":\"DataRange1d\"},{\"attributes\":{\"source\":{\"id\":\"1771\",\"type\":\"ColumnDataSource\"}},\"id\":\"1775\",\"type\":\"CDSView\"},{\"attributes\":{\"plot\":null,\"text\":\"\"},\"id\":\"1813\",\"type\":\"Title\"},{\"attributes\":{\"plot\":{\"id\":\"1732\",\"subtype\":\"Figure\",\"type\":\"Plot\"},\"ticker\":{\"id\":\"1742\",\"type\":\"BasicTicker\"}},\"id\":\"1745\",\"type\":\"Grid\"},{\"attributes\":{},\"id\":\"1752\",\"type\":\"WheelZoomTool\"},{\"attributes\":{\"callback\":null,\"data\":{\"x\":[0,1,2,3,4,5,6,7,8,9,10,11,12,13,14,15,16,17,18,19,20,21,22,23,24,25,26,27,28,29,30,31,32,33,34,35,36,37,38,39,40,41,42,43,44,45,46,47,48,49,50,51,52,53,54,55,56,57,58,59,60,61,62,63,64,65,66,67,68,69,70,71,72,73,74,75,76,77,78,79,80,81,82,83,84,85,86,87,88,89,90,91,92,93,94,95,96,97,98,99],\"y\":{\"__ndarray__\":\"lCxEo/PQxz9cAHQv0w+sP5ppuOZn2+M//5ErOm1H+r+mPp9YF+TzP620yDkKXNC/h1l+xT1Z8D+UyExdmvvhP7PAwvYd28o/Q/bmAXWXv78SJb7jfrLuv0e88CJzguo/tFUccETZyL/BWMpeldDyP6nyGh7NJANACz/0C5HT9T/ucXPxclDtP5DU0pwsjuA/bjMdGDtaA0CSOIu+OZPBv8TpojTlK96//bYMSt9y4b9w1/GdGRDqPxwLhMpaZeU/QaThV3C0zL+stLgjK7/hvwjKPNsa7eG/GEUZK60Yw7+FKWNVgHH4v3BlAJnVT9e/Wnx+Uo0s2T+o2QsOy4wAQGQIKl5G/vO/YoEaT6gD8D9PvhUNgWHnP7mKhwxB9/I/Y2qLdRdk9r/xDLPsnwnyP+uswV9yKtG/w0TtzM/rAEAPeEObrILov2iYUP/HM/q/mwE8K5JPsj8CAB78iq5Yv3wxLteHErI/COe4M+PXAUDX74qeY5LjP3+r1ZbGguw/sgXxHW4q6T+3JXj2PUuVP9MS12gOWuQ/so86KFYFqb8exSXCKpvnP/tisauQIPM/viOgip3e+79ahRf0cpTrv6gLMdUQ6dS/mVHJskA38z8JV7/09gbgP2IhNo53Be4/QOR4ES1J7D/oyFd2fW3DPw9JBjx5tPq/GNDmt+O21z8nC2DE3hTCv8C7UsAYmOk/p4p5HSpG9j8fdR5Pj9XrP3Q99+9iJ+u/lvhaxyzT1j81oJUUG6PQv9m1ChzP48O/1vUqiJVy4b8mMPcZHWbQvyOMzX/ZVvQ/oHjUs14n97+uPbMvQUxrv361WxFBD/k/W2NIpDFY0D8U1t0YHRPVv4wtcrm+YPI/5eGVfjDh7D+/DQIiUZHCv0B4RPn6CQBAl4wLEgw0vT/hbuVePqnxv193PuEsAdO/UAVwZqji5b/9Cuue3nXrv2vSE3DDv+U/vz1m4cogsD8hlmpF2hvEvwZSd6Rqh+c/sscrnVzg8b8phkTrpyvWP8SEuMmFlue/qbz2xN5q5D84Ihp1jlb5v3lDji+MKeC/wX1RFtHZtT8=\",\"dtype\":\"float64\",\"shape\":[100]}},\"selected\":{\"id\":\"1821\",\"type\":\"Selection\"},\"selection_policy\":{\"id\":\"1822\",\"type\":\"UnionRenderers\"}},\"id\":\"1771\",\"type\":\"ColumnDataSource\"},{\"attributes\":{},\"id\":\"1754\",\"type\":\"SaveTool\"},{\"attributes\":{\"callback\":null,\"data\":{\"x\":[0,1,2,3,4,5,6,7,8,9,10,11,12,13,14,15,16,17,18,19,20,21,22,23,24,25,26,27,28,29,30,31,32,33,34,35,36,37,38,39,40,41,42,43,44,45,46,47,48,49,50,51,52,53,54,55,56,57,58,59,60,61,62,63,64,65,66,67,68,69,70,71,72,73,74,75,76,77,78,79,80,81,82,83,84,85,86,87,88,89,90,91,92,93,94,95,96,97,98,99],\"y\":{\"__ndarray__\":\"zTFoqMcb7T/FWpBh67nfv5AmDc4v5+S/UXrQTW/29r+rUXFGs8bhP4AarVliitm/szFFKnz55r9TrAAxQy/Kv3LVkIlq0eK/uIzAF9198r9Iv/ghSNXkPw5t/zK26gLAgeJ5MwBo+T/xph6d3Bn6vylIEmaZsuY/mfvG5Qz39b8qDMPRRqLVP4iO8ura8uM/SCPAQjUYyr9Kx3mQCHHAPw0wvHoiFeS/iih20zxy1L+i2+2tdnn0P3xk6KFMFOG/MpK6eIoB2j/5Ef8hawT7vyCb3vVuhe2/d/qkHqml2j/ahARPW0Dsv3QOd2NnLL2/DZLGw5GAwr8E1fsXl9Twv+BWYdMMHOS/tta4G8Zb/T9m7fJSmbjpv/eWxiVA6u2/6Gfj8XZD6b/EERc25/vvv+Ydr7VhkuA/TSL+UTCX6D9UFvEk4db7v9vMJYM4L9i/Ax5Klmyi7j9WE1ES+fmyP+vsrcdIQeu/Lvfj1gVP6j+iC5M1FMAAwOY4s0P6DfO/jmmO7QZlrz9saadcFhbJv6QQcpOS1OE/BiGyUtHtpj9uRNm0WI7ov4uWwD+aJvu/coJMKXi+4T9nPx+qoZf+P2SPxtgG8Oa/bWQnG8VM7L89lb9PfXjTP2OYmRoI8oi/d5nqcujE/L89ei/yUXbgP83dzkaT39G/+gpvxU4twT9/XlwoaiPAvxTkVyfIa9a/MJuZ9oCW/r/ABacpgRz0vyhk5nE13Oq/V+48s4zD7D9jAwCZsHz7vwW52J4aLao/lggZkPcj2L+Sh025Ucn7vzkzt99Klry/EwHTMtd//b+9QCjN6qDCvxQ0tI5R6vg/OsJ/LFgT4b9LkI/3Q7cCQPU1LWjrZOW/SOWAiUgy178gRniaIej8P42DSC3lKdc/uwzo8rWC1j/9LXpp7Uz5PwaQufjokZq/VRdk3esd3D+lgKHmdmfsvwsqtrsr5PE/sm55SBpb7T+DQgCTCgHVv4hIewPecsK/Gv+jWaYV8r+jvfkMnTHtP2UhNFs9JLw/0PoTgxkj+b80to50DzDSP08IjW8/A7g/02BT8u0AyL8=\",\"dtype\":\"float64\",\"shape\":[100]}},\"selected\":{\"id\":\"1819\",\"type\":\"Selection\"},\"selection_policy\":{\"id\":\"1820\",\"type\":\"UnionRenderers\"}},\"id\":\"1766\",\"type\":\"ColumnDataSource\"},{\"attributes\":{\"data_source\":{\"id\":\"1766\",\"type\":\"ColumnDataSource\"},\"glyph\":{\"id\":\"1767\",\"type\":\"Circle\"},\"hover_glyph\":null,\"muted_glyph\":null,\"nonselection_glyph\":{\"id\":\"1768\",\"type\":\"Circle\"},\"selection_glyph\":null,\"view\":{\"id\":\"1770\",\"type\":\"CDSView\"}},\"id\":\"1769\",\"type\":\"GlyphRenderer\"},{\"attributes\":{\"formatter\":{\"id\":\"1816\",\"type\":\"BasicTickFormatter\"},\"plot\":{\"id\":\"1732\",\"subtype\":\"Figure\",\"type\":\"Plot\"},\"ticker\":{\"id\":\"1742\",\"type\":\"BasicTicker\"}},\"id\":\"1741\",\"type\":\"LinearAxis\"},{\"attributes\":{\"data_source\":{\"id\":\"1771\",\"type\":\"ColumnDataSource\"},\"glyph\":{\"id\":\"1772\",\"type\":\"Circle\"},\"hover_glyph\":null,\"muted_glyph\":null,\"nonselection_glyph\":{\"id\":\"1773\",\"type\":\"Circle\"},\"selection_glyph\":null,\"view\":{\"id\":\"1775\",\"type\":\"CDSView\"}},\"id\":\"1774\",\"type\":\"GlyphRenderer\"},{\"attributes\":{\"bottom_units\":\"screen\",\"fill_alpha\":{\"value\":0.5},\"fill_color\":{\"value\":\"lightgrey\"},\"left_units\":\"screen\",\"level\":\"overlay\",\"line_alpha\":{\"value\":1.0},\"line_color\":{\"value\":\"black\"},\"line_dash\":[4,4],\"line_width\":{\"value\":2},\"plot\":null,\"render_mode\":\"css\",\"right_units\":\"screen\",\"top_units\":\"screen\"},\"id\":\"1759\",\"type\":\"BoxAnnotation\"},{\"attributes\":{\"active_drag\":\"auto\",\"active_inspect\":\"auto\",\"active_multi\":null,\"active_scroll\":\"auto\",\"active_tap\":\"auto\",\"tools\":[{\"id\":\"1751\",\"type\":\"PanTool\"},{\"id\":\"1752\",\"type\":\"WheelZoomTool\"},{\"id\":\"1753\",\"type\":\"BoxZoomTool\"},{\"id\":\"1754\",\"type\":\"SaveTool\"},{\"id\":\"1755\",\"type\":\"ResetTool\"},{\"id\":\"1756\",\"type\":\"HelpTool\"}]},\"id\":\"1757\",\"type\":\"Toolbar\"},{\"attributes\":{},\"id\":\"1739\",\"type\":\"LinearScale\"},{\"attributes\":{},\"id\":\"1816\",\"type\":\"BasicTickFormatter\"}],\"root_ids\":[\"1732\"]},\"title\":\"Bokeh Application\",\"version\":\"1.0.4\"}};\n",
       "  var render_items = [{\"docid\":\"47fe0f9c-85fc-4237-9a72-0abac70cee0a\",\"roots\":{\"1732\":\"dc94e0bd-5516-44f4-a462-65f1f9f4de7d\"}}];\n",
       "  root.Bokeh.embed.embed_items_notebook(docs_json, render_items);\n",
       "\n",
       "  }\n",
       "  if (root.Bokeh !== undefined) {\n",
       "    embed_document(root);\n",
       "  } else {\n",
       "    var attempts = 0;\n",
       "    var timer = setInterval(function(root) {\n",
       "      if (root.Bokeh !== undefined) {\n",
       "        embed_document(root);\n",
       "        clearInterval(timer);\n",
       "      }\n",
       "      attempts++;\n",
       "      if (attempts > 100) {\n",
       "        console.log(\"Bokeh: ERROR: Unable to run BokehJS code because BokehJS library is missing\");\n",
       "        clearInterval(timer);\n",
       "      }\n",
       "    }, 10, root)\n",
       "  }\n",
       "})(window);"
      ],
      "application/vnd.bokehjs_exec.v0+json": ""
     },
     "metadata": {
      "application/vnd.bokehjs_exec.v0+json": {
       "id": "1732"
      }
     },
     "output_type": "display_data"
    }
   ],
   "source": [
    "# 图表边框线参数设置\n",
    "\n",
    "p = figure(plot_width=600,plot_height=400)\n",
    "\n",
    "p.circle(df.index,df['A'],size=10,color = 'green',alpha = 0.5)\n",
    "p.circle(df.index,df['B'],size=10,color = '#FF0000',alpha = 0.5)\n",
    "\n",
    "p.outline_line_width = 7                 # 边框线宽\n",
    "p.outline_line_color = 'white'           # 边框线颜色\n",
    "p.outline_line_alpha = 0.5               # 边框线透明度\n",
    "show(p)"
   ]
  },
  {
   "cell_type": "code",
   "execution_count": 8,
   "metadata": {},
   "outputs": [
    {
     "data": {
      "text/html": [
       "\n",
       "\n",
       "\n",
       "\n",
       "\n",
       "\n",
       "  <div class=\"bk-root\" id=\"eb480797-45fa-4f6f-ba0f-b02da21647cc\" data-root-id=\"1990\"></div>\n"
      ]
     },
     "metadata": {},
     "output_type": "display_data"
    },
    {
     "data": {
      "application/javascript": [
       "(function(root) {\n",
       "  function embed_document(root) {\n",
       "    \n",
       "  var docs_json = {\"3b3ae9c2-4bf1-4def-b4ef-dfaac6dd7a5f\":{\"roots\":{\"references\":[{\"attributes\":{\"background_fill_alpha\":{\"value\":0.5},\"background_fill_color\":{\"value\":\"beige\"},\"below\":[{\"id\":\"1999\",\"type\":\"LinearAxis\"}],\"left\":[{\"id\":\"2004\",\"type\":\"LinearAxis\"}],\"plot_height\":400,\"renderers\":[{\"id\":\"1999\",\"type\":\"LinearAxis\"},{\"id\":\"2003\",\"type\":\"Grid\"},{\"id\":\"2004\",\"type\":\"LinearAxis\"},{\"id\":\"2008\",\"type\":\"Grid\"},{\"id\":\"2017\",\"type\":\"BoxAnnotation\"},{\"id\":\"2027\",\"type\":\"GlyphRenderer\"},{\"id\":\"2032\",\"type\":\"GlyphRenderer\"}],\"title\":{\"id\":\"2082\",\"type\":\"Title\"},\"toolbar\":{\"id\":\"2015\",\"type\":\"Toolbar\"},\"x_range\":{\"id\":\"1991\",\"type\":\"DataRange1d\"},\"x_scale\":{\"id\":\"1995\",\"type\":\"LinearScale\"},\"y_range\":{\"id\":\"1993\",\"type\":\"DataRange1d\"},\"y_scale\":{\"id\":\"1997\",\"type\":\"LinearScale\"}},\"id\":\"1990\",\"subtype\":\"Figure\",\"type\":\"Plot\"},{\"attributes\":{\"data_source\":{\"id\":\"2029\",\"type\":\"ColumnDataSource\"},\"glyph\":{\"id\":\"2030\",\"type\":\"Circle\"},\"hover_glyph\":null,\"muted_glyph\":null,\"nonselection_glyph\":{\"id\":\"2031\",\"type\":\"Circle\"},\"selection_glyph\":null,\"view\":{\"id\":\"2033\",\"type\":\"CDSView\"}},\"id\":\"2032\",\"type\":\"GlyphRenderer\"},{\"attributes\":{\"formatter\":{\"id\":\"2087\",\"type\":\"BasicTickFormatter\"},\"plot\":{\"id\":\"1990\",\"subtype\":\"Figure\",\"type\":\"Plot\"},\"ticker\":{\"id\":\"2005\",\"type\":\"BasicTicker\"}},\"id\":\"2004\",\"type\":\"LinearAxis\"},{\"attributes\":{\"active_drag\":\"auto\",\"active_inspect\":\"auto\",\"active_multi\":null,\"active_scroll\":\"auto\",\"active_tap\":\"auto\",\"tools\":[{\"id\":\"2009\",\"type\":\"PanTool\"},{\"id\":\"2010\",\"type\":\"WheelZoomTool\"},{\"id\":\"2011\",\"type\":\"BoxZoomTool\"},{\"id\":\"2012\",\"type\":\"SaveTool\"},{\"id\":\"2013\",\"type\":\"ResetTool\"},{\"id\":\"2014\",\"type\":\"HelpTool\"}]},\"id\":\"2015\",\"type\":\"Toolbar\"},{\"attributes\":{},\"id\":\"2087\",\"type\":\"BasicTickFormatter\"},{\"attributes\":{},\"id\":\"2000\",\"type\":\"BasicTicker\"},{\"attributes\":{\"fill_alpha\":{\"value\":0.1},\"fill_color\":{\"value\":\"#1f77b4\"},\"line_alpha\":{\"value\":0.1},\"line_color\":{\"value\":\"#1f77b4\"},\"size\":{\"units\":\"screen\",\"value\":10},\"x\":{\"field\":\"x\"},\"y\":{\"field\":\"y\"}},\"id\":\"2031\",\"type\":\"Circle\"},{\"attributes\":{\"fill_alpha\":{\"value\":0.1},\"fill_color\":{\"value\":\"#1f77b4\"},\"line_alpha\":{\"value\":0.1},\"line_color\":{\"value\":\"#1f77b4\"},\"size\":{\"units\":\"screen\",\"value\":10},\"x\":{\"field\":\"x\"},\"y\":{\"field\":\"y\"}},\"id\":\"2026\",\"type\":\"Circle\"},{\"attributes\":{\"formatter\":{\"id\":\"2085\",\"type\":\"BasicTickFormatter\"},\"plot\":{\"id\":\"1990\",\"subtype\":\"Figure\",\"type\":\"Plot\"},\"ticker\":{\"id\":\"2000\",\"type\":\"BasicTicker\"}},\"id\":\"1999\",\"type\":\"LinearAxis\"},{\"attributes\":{},\"id\":\"2089\",\"type\":\"UnionRenderers\"},{\"attributes\":{},\"id\":\"2088\",\"type\":\"Selection\"},{\"attributes\":{\"plot\":null,\"text\":\"\"},\"id\":\"2082\",\"type\":\"Title\"},{\"attributes\":{\"callback\":null},\"id\":\"1991\",\"type\":\"DataRange1d\"},{\"attributes\":{\"overlay\":{\"id\":\"2017\",\"type\":\"BoxAnnotation\"}},\"id\":\"2011\",\"type\":\"BoxZoomTool\"},{\"attributes\":{\"source\":{\"id\":\"2029\",\"type\":\"ColumnDataSource\"}},\"id\":\"2033\",\"type\":\"CDSView\"},{\"attributes\":{\"callback\":null},\"id\":\"1993\",\"type\":\"DataRange1d\"},{\"attributes\":{},\"id\":\"2091\",\"type\":\"UnionRenderers\"},{\"attributes\":{\"fill_alpha\":{\"value\":0.5},\"fill_color\":{\"value\":\"#FF0000\"},\"line_alpha\":{\"value\":0.5},\"line_color\":{\"value\":\"#FF0000\"},\"size\":{\"units\":\"screen\",\"value\":10},\"x\":{\"field\":\"x\"},\"y\":{\"field\":\"y\"}},\"id\":\"2030\",\"type\":\"Circle\"},{\"attributes\":{\"callback\":null,\"data\":{\"x\":[0,1,2,3,4,5,6,7,8,9,10,11,12,13,14,15,16,17,18,19,20,21,22,23,24,25,26,27,28,29,30,31,32,33,34,35,36,37,38,39,40,41,42,43,44,45,46,47,48,49,50,51,52,53,54,55,56,57,58,59,60,61,62,63,64,65,66,67,68,69,70,71,72,73,74,75,76,77,78,79,80,81,82,83,84,85,86,87,88,89,90,91,92,93,94,95,96,97,98,99],\"y\":{\"__ndarray__\":\"lCxEo/PQxz9cAHQv0w+sP5ppuOZn2+M//5ErOm1H+r+mPp9YF+TzP620yDkKXNC/h1l+xT1Z8D+UyExdmvvhP7PAwvYd28o/Q/bmAXWXv78SJb7jfrLuv0e88CJzguo/tFUccETZyL/BWMpeldDyP6nyGh7NJANACz/0C5HT9T/ucXPxclDtP5DU0pwsjuA/bjMdGDtaA0CSOIu+OZPBv8TpojTlK96//bYMSt9y4b9w1/GdGRDqPxwLhMpaZeU/QaThV3C0zL+stLgjK7/hvwjKPNsa7eG/GEUZK60Yw7+FKWNVgHH4v3BlAJnVT9e/Wnx+Uo0s2T+o2QsOy4wAQGQIKl5G/vO/YoEaT6gD8D9PvhUNgWHnP7mKhwxB9/I/Y2qLdRdk9r/xDLPsnwnyP+uswV9yKtG/w0TtzM/rAEAPeEObrILov2iYUP/HM/q/mwE8K5JPsj8CAB78iq5Yv3wxLteHErI/COe4M+PXAUDX74qeY5LjP3+r1ZbGguw/sgXxHW4q6T+3JXj2PUuVP9MS12gOWuQ/so86KFYFqb8exSXCKpvnP/tisauQIPM/viOgip3e+79ahRf0cpTrv6gLMdUQ6dS/mVHJskA38z8JV7/09gbgP2IhNo53Be4/QOR4ES1J7D/oyFd2fW3DPw9JBjx5tPq/GNDmt+O21z8nC2DE3hTCv8C7UsAYmOk/p4p5HSpG9j8fdR5Pj9XrP3Q99+9iJ+u/lvhaxyzT1j81oJUUG6PQv9m1ChzP48O/1vUqiJVy4b8mMPcZHWbQvyOMzX/ZVvQ/oHjUs14n97+uPbMvQUxrv361WxFBD/k/W2NIpDFY0D8U1t0YHRPVv4wtcrm+YPI/5eGVfjDh7D+/DQIiUZHCv0B4RPn6CQBAl4wLEgw0vT/hbuVePqnxv193PuEsAdO/UAVwZqji5b/9Cuue3nXrv2vSE3DDv+U/vz1m4cogsD8hlmpF2hvEvwZSd6Rqh+c/sscrnVzg8b8phkTrpyvWP8SEuMmFlue/qbz2xN5q5D84Ihp1jlb5v3lDji+MKeC/wX1RFtHZtT8=\",\"dtype\":\"float64\",\"shape\":[100]}},\"selected\":{\"id\":\"2090\",\"type\":\"Selection\"},\"selection_policy\":{\"id\":\"2091\",\"type\":\"UnionRenderers\"}},\"id\":\"2029\",\"type\":\"ColumnDataSource\"},{\"attributes\":{},\"id\":\"2014\",\"type\":\"HelpTool\"},{\"attributes\":{},\"id\":\"1997\",\"type\":\"LinearScale\"},{\"attributes\":{},\"id\":\"2010\",\"type\":\"WheelZoomTool\"},{\"attributes\":{},\"id\":\"2005\",\"type\":\"BasicTicker\"},{\"attributes\":{\"dimension\":1,\"plot\":{\"id\":\"1990\",\"subtype\":\"Figure\",\"type\":\"Plot\"},\"ticker\":{\"id\":\"2005\",\"type\":\"BasicTicker\"}},\"id\":\"2008\",\"type\":\"Grid\"},{\"attributes\":{},\"id\":\"2085\",\"type\":\"BasicTickFormatter\"},{\"attributes\":{},\"id\":\"2090\",\"type\":\"Selection\"},{\"attributes\":{\"source\":{\"id\":\"2024\",\"type\":\"ColumnDataSource\"}},\"id\":\"2028\",\"type\":\"CDSView\"},{\"attributes\":{\"bottom_units\":\"screen\",\"fill_alpha\":{\"value\":0.5},\"fill_color\":{\"value\":\"lightgrey\"},\"left_units\":\"screen\",\"level\":\"overlay\",\"line_alpha\":{\"value\":1.0},\"line_color\":{\"value\":\"black\"},\"line_dash\":[4,4],\"line_width\":{\"value\":2},\"plot\":null,\"render_mode\":\"css\",\"right_units\":\"screen\",\"top_units\":\"screen\"},\"id\":\"2017\",\"type\":\"BoxAnnotation\"},{\"attributes\":{\"plot\":{\"id\":\"1990\",\"subtype\":\"Figure\",\"type\":\"Plot\"},\"ticker\":{\"id\":\"2000\",\"type\":\"BasicTicker\"}},\"id\":\"2003\",\"type\":\"Grid\"},{\"attributes\":{\"fill_alpha\":{\"value\":0.5},\"fill_color\":{\"value\":\"green\"},\"line_alpha\":{\"value\":0.5},\"line_color\":{\"value\":\"green\"},\"size\":{\"units\":\"screen\",\"value\":10},\"x\":{\"field\":\"x\"},\"y\":{\"field\":\"y\"}},\"id\":\"2025\",\"type\":\"Circle\"},{\"attributes\":{\"data_source\":{\"id\":\"2024\",\"type\":\"ColumnDataSource\"},\"glyph\":{\"id\":\"2025\",\"type\":\"Circle\"},\"hover_glyph\":null,\"muted_glyph\":null,\"nonselection_glyph\":{\"id\":\"2026\",\"type\":\"Circle\"},\"selection_glyph\":null,\"view\":{\"id\":\"2028\",\"type\":\"CDSView\"}},\"id\":\"2027\",\"type\":\"GlyphRenderer\"},{\"attributes\":{},\"id\":\"2009\",\"type\":\"PanTool\"},{\"attributes\":{},\"id\":\"1995\",\"type\":\"LinearScale\"},{\"attributes\":{},\"id\":\"2012\",\"type\":\"SaveTool\"},{\"attributes\":{},\"id\":\"2013\",\"type\":\"ResetTool\"},{\"attributes\":{\"callback\":null,\"data\":{\"x\":[0,1,2,3,4,5,6,7,8,9,10,11,12,13,14,15,16,17,18,19,20,21,22,23,24,25,26,27,28,29,30,31,32,33,34,35,36,37,38,39,40,41,42,43,44,45,46,47,48,49,50,51,52,53,54,55,56,57,58,59,60,61,62,63,64,65,66,67,68,69,70,71,72,73,74,75,76,77,78,79,80,81,82,83,84,85,86,87,88,89,90,91,92,93,94,95,96,97,98,99],\"y\":{\"__ndarray__\":\"zTFoqMcb7T/FWpBh67nfv5AmDc4v5+S/UXrQTW/29r+rUXFGs8bhP4AarVliitm/szFFKnz55r9TrAAxQy/Kv3LVkIlq0eK/uIzAF9198r9Iv/ghSNXkPw5t/zK26gLAgeJ5MwBo+T/xph6d3Bn6vylIEmaZsuY/mfvG5Qz39b8qDMPRRqLVP4iO8ura8uM/SCPAQjUYyr9Kx3mQCHHAPw0wvHoiFeS/iih20zxy1L+i2+2tdnn0P3xk6KFMFOG/MpK6eIoB2j/5Ef8hawT7vyCb3vVuhe2/d/qkHqml2j/ahARPW0Dsv3QOd2NnLL2/DZLGw5GAwr8E1fsXl9Twv+BWYdMMHOS/tta4G8Zb/T9m7fJSmbjpv/eWxiVA6u2/6Gfj8XZD6b/EERc25/vvv+Ydr7VhkuA/TSL+UTCX6D9UFvEk4db7v9vMJYM4L9i/Ax5Klmyi7j9WE1ES+fmyP+vsrcdIQeu/Lvfj1gVP6j+iC5M1FMAAwOY4s0P6DfO/jmmO7QZlrz9saadcFhbJv6QQcpOS1OE/BiGyUtHtpj9uRNm0WI7ov4uWwD+aJvu/coJMKXi+4T9nPx+qoZf+P2SPxtgG8Oa/bWQnG8VM7L89lb9PfXjTP2OYmRoI8oi/d5nqcujE/L89ei/yUXbgP83dzkaT39G/+gpvxU4twT9/XlwoaiPAvxTkVyfIa9a/MJuZ9oCW/r/ABacpgRz0vyhk5nE13Oq/V+48s4zD7D9jAwCZsHz7vwW52J4aLao/lggZkPcj2L+Sh025Ucn7vzkzt99Klry/EwHTMtd//b+9QCjN6qDCvxQ0tI5R6vg/OsJ/LFgT4b9LkI/3Q7cCQPU1LWjrZOW/SOWAiUgy178gRniaIej8P42DSC3lKdc/uwzo8rWC1j/9LXpp7Uz5PwaQufjokZq/VRdk3esd3D+lgKHmdmfsvwsqtrsr5PE/sm55SBpb7T+DQgCTCgHVv4hIewPecsK/Gv+jWaYV8r+jvfkMnTHtP2UhNFs9JLw/0PoTgxkj+b80to50DzDSP08IjW8/A7g/02BT8u0AyL8=\",\"dtype\":\"float64\",\"shape\":[100]}},\"selected\":{\"id\":\"2088\",\"type\":\"Selection\"},\"selection_policy\":{\"id\":\"2089\",\"type\":\"UnionRenderers\"}},\"id\":\"2024\",\"type\":\"ColumnDataSource\"}],\"root_ids\":[\"1990\"]},\"title\":\"Bokeh Application\",\"version\":\"1.0.4\"}};\n",
       "  var render_items = [{\"docid\":\"3b3ae9c2-4bf1-4def-b4ef-dfaac6dd7a5f\",\"roots\":{\"1990\":\"eb480797-45fa-4f6f-ba0f-b02da21647cc\"}}];\n",
       "  root.Bokeh.embed.embed_items_notebook(docs_json, render_items);\n",
       "\n",
       "  }\n",
       "  if (root.Bokeh !== undefined) {\n",
       "    embed_document(root);\n",
       "  } else {\n",
       "    var attempts = 0;\n",
       "    var timer = setInterval(function(root) {\n",
       "      if (root.Bokeh !== undefined) {\n",
       "        embed_document(root);\n",
       "        clearInterval(timer);\n",
       "      }\n",
       "      attempts++;\n",
       "      if (attempts > 100) {\n",
       "        console.log(\"Bokeh: ERROR: Unable to run BokehJS code because BokehJS library is missing\");\n",
       "        clearInterval(timer);\n",
       "      }\n",
       "    }, 10, root)\n",
       "  }\n",
       "})(window);"
      ],
      "application/vnd.bokehjs_exec.v0+json": ""
     },
     "metadata": {
      "application/vnd.bokehjs_exec.v0+json": {
       "id": "1990"
      }
     },
     "output_type": "display_data"
    }
   ],
   "source": [
    "# 设置绘图空间背景\n",
    "\n",
    "p = figure(plot_width=600, plot_height=400)\n",
    "p.circle(df.index, df['A'], color = 'green', size=10,  alpha=0.5)\n",
    "p.circle(df.index, df['B'], color = '#FF0000', size=10,  alpha=0.5)\n",
    "# 绘制散点图\n",
    "\n",
    "p.background_fill_color = 'beige'         # 绘图空间背景颜色\n",
    "p.background_fill_alpha = 0.5             # 绘图空间背景透明度\n",
    "# 背景设置参数\n",
    "show(p)"
   ]
  },
  {
   "cell_type": "code",
   "execution_count": 9,
   "metadata": {},
   "outputs": [
    {
     "data": {
      "text/html": [
       "\n",
       "\n",
       "\n",
       "\n",
       "\n",
       "\n",
       "  <div class=\"bk-root\" id=\"6653aa04-f345-415d-a0ee-34322465f547\" data-root-id=\"2259\"></div>\n"
      ]
     },
     "metadata": {},
     "output_type": "display_data"
    },
    {
     "data": {
      "application/javascript": [
       "(function(root) {\n",
       "  function embed_document(root) {\n",
       "    \n",
       "  var docs_json = {\"4c4d1092-f241-4c56-95bd-2d8fca8a2a0b\":{\"roots\":{\"references\":[{\"attributes\":{\"below\":[{\"id\":\"2268\",\"type\":\"LinearAxis\"}],\"border_fill_color\":{\"value\":\"whitesmoke\"},\"left\":[{\"id\":\"2273\",\"type\":\"LinearAxis\"}],\"min_border_bottom\":10,\"min_border_left\":80,\"min_border_right\":80,\"min_border_top\":10,\"plot_height\":400,\"renderers\":[{\"id\":\"2268\",\"type\":\"LinearAxis\"},{\"id\":\"2272\",\"type\":\"Grid\"},{\"id\":\"2273\",\"type\":\"LinearAxis\"},{\"id\":\"2277\",\"type\":\"Grid\"},{\"id\":\"2286\",\"type\":\"BoxAnnotation\"},{\"id\":\"2296\",\"type\":\"GlyphRenderer\"},{\"id\":\"2301\",\"type\":\"GlyphRenderer\"}],\"title\":{\"id\":\"2362\",\"type\":\"Title\"},\"toolbar\":{\"id\":\"2284\",\"type\":\"Toolbar\"},\"x_range\":{\"id\":\"2260\",\"type\":\"DataRange1d\"},\"x_scale\":{\"id\":\"2264\",\"type\":\"LinearScale\"},\"y_range\":{\"id\":\"2262\",\"type\":\"DataRange1d\"},\"y_scale\":{\"id\":\"2266\",\"type\":\"LinearScale\"}},\"id\":\"2259\",\"subtype\":\"Figure\",\"type\":\"Plot\"},{\"attributes\":{},\"id\":\"2264\",\"type\":\"LinearScale\"},{\"attributes\":{\"active_drag\":\"auto\",\"active_inspect\":\"auto\",\"active_multi\":null,\"active_scroll\":\"auto\",\"active_tap\":\"auto\",\"tools\":[{\"id\":\"2278\",\"type\":\"PanTool\"},{\"id\":\"2279\",\"type\":\"WheelZoomTool\"},{\"id\":\"2280\",\"type\":\"BoxZoomTool\"},{\"id\":\"2281\",\"type\":\"SaveTool\"},{\"id\":\"2282\",\"type\":\"ResetTool\"},{\"id\":\"2283\",\"type\":\"HelpTool\"}]},\"id\":\"2284\",\"type\":\"Toolbar\"},{\"attributes\":{},\"id\":\"2274\",\"type\":\"BasicTicker\"},{\"attributes\":{\"bottom_units\":\"screen\",\"fill_alpha\":{\"value\":0.5},\"fill_color\":{\"value\":\"lightgrey\"},\"left_units\":\"screen\",\"level\":\"overlay\",\"line_alpha\":{\"value\":1.0},\"line_color\":{\"value\":\"black\"},\"line_dash\":[4,4],\"line_width\":{\"value\":2},\"plot\":null,\"render_mode\":\"css\",\"right_units\":\"screen\",\"top_units\":\"screen\"},\"id\":\"2286\",\"type\":\"BoxAnnotation\"},{\"attributes\":{\"callback\":null,\"data\":{\"x\":[0,1,2,3,4,5,6,7,8,9,10,11,12,13,14,15,16,17,18,19,20,21,22,23,24,25,26,27,28,29,30,31,32,33,34,35,36,37,38,39,40,41,42,43,44,45,46,47,48,49,50,51,52,53,54,55,56,57,58,59,60,61,62,63,64,65,66,67,68,69,70,71,72,73,74,75,76,77,78,79,80,81,82,83,84,85,86,87,88,89,90,91,92,93,94,95,96,97,98,99],\"y\":{\"__ndarray__\":\"zTFoqMcb7T/FWpBh67nfv5AmDc4v5+S/UXrQTW/29r+rUXFGs8bhP4AarVliitm/szFFKnz55r9TrAAxQy/Kv3LVkIlq0eK/uIzAF9198r9Iv/ghSNXkPw5t/zK26gLAgeJ5MwBo+T/xph6d3Bn6vylIEmaZsuY/mfvG5Qz39b8qDMPRRqLVP4iO8ura8uM/SCPAQjUYyr9Kx3mQCHHAPw0wvHoiFeS/iih20zxy1L+i2+2tdnn0P3xk6KFMFOG/MpK6eIoB2j/5Ef8hawT7vyCb3vVuhe2/d/qkHqml2j/ahARPW0Dsv3QOd2NnLL2/DZLGw5GAwr8E1fsXl9Twv+BWYdMMHOS/tta4G8Zb/T9m7fJSmbjpv/eWxiVA6u2/6Gfj8XZD6b/EERc25/vvv+Ydr7VhkuA/TSL+UTCX6D9UFvEk4db7v9vMJYM4L9i/Ax5Klmyi7j9WE1ES+fmyP+vsrcdIQeu/Lvfj1gVP6j+iC5M1FMAAwOY4s0P6DfO/jmmO7QZlrz9saadcFhbJv6QQcpOS1OE/BiGyUtHtpj9uRNm0WI7ov4uWwD+aJvu/coJMKXi+4T9nPx+qoZf+P2SPxtgG8Oa/bWQnG8VM7L89lb9PfXjTP2OYmRoI8oi/d5nqcujE/L89ei/yUXbgP83dzkaT39G/+gpvxU4twT9/XlwoaiPAvxTkVyfIa9a/MJuZ9oCW/r/ABacpgRz0vyhk5nE13Oq/V+48s4zD7D9jAwCZsHz7vwW52J4aLao/lggZkPcj2L+Sh025Ucn7vzkzt99Klry/EwHTMtd//b+9QCjN6qDCvxQ0tI5R6vg/OsJ/LFgT4b9LkI/3Q7cCQPU1LWjrZOW/SOWAiUgy178gRniaIej8P42DSC3lKdc/uwzo8rWC1j/9LXpp7Uz5PwaQufjokZq/VRdk3esd3D+lgKHmdmfsvwsqtrsr5PE/sm55SBpb7T+DQgCTCgHVv4hIewPecsK/Gv+jWaYV8r+jvfkMnTHtP2UhNFs9JLw/0PoTgxkj+b80to50DzDSP08IjW8/A7g/02BT8u0AyL8=\",\"dtype\":\"float64\",\"shape\":[100]}},\"selected\":{\"id\":\"2368\",\"type\":\"Selection\"},\"selection_policy\":{\"id\":\"2369\",\"type\":\"UnionRenderers\"}},\"id\":\"2293\",\"type\":\"ColumnDataSource\"},{\"attributes\":{},\"id\":\"2282\",\"type\":\"ResetTool\"},{\"attributes\":{},\"id\":\"2368\",\"type\":\"Selection\"},{\"attributes\":{\"callback\":null},\"id\":\"2260\",\"type\":\"DataRange1d\"},{\"attributes\":{\"fill_alpha\":{\"value\":0.5},\"fill_color\":{\"value\":\"#FF0000\"},\"line_alpha\":{\"value\":0.5},\"line_color\":{\"value\":\"#FF0000\"},\"size\":{\"units\":\"screen\",\"value\":10},\"x\":{\"field\":\"x\"},\"y\":{\"field\":\"y\"}},\"id\":\"2299\",\"type\":\"Circle\"},{\"attributes\":{},\"id\":\"2281\",\"type\":\"SaveTool\"},{\"attributes\":{},\"id\":\"2365\",\"type\":\"BasicTickFormatter\"},{\"attributes\":{},\"id\":\"2283\",\"type\":\"HelpTool\"},{\"attributes\":{\"source\":{\"id\":\"2293\",\"type\":\"ColumnDataSource\"}},\"id\":\"2297\",\"type\":\"CDSView\"},{\"attributes\":{},\"id\":\"2279\",\"type\":\"WheelZoomTool\"},{\"attributes\":{\"fill_alpha\":{\"value\":0.1},\"fill_color\":{\"value\":\"#1f77b4\"},\"line_alpha\":{\"value\":0.1},\"line_color\":{\"value\":\"#1f77b4\"},\"size\":{\"units\":\"screen\",\"value\":10},\"x\":{\"field\":\"x\"},\"y\":{\"field\":\"y\"}},\"id\":\"2295\",\"type\":\"Circle\"},{\"attributes\":{\"dimension\":1,\"plot\":{\"id\":\"2259\",\"subtype\":\"Figure\",\"type\":\"Plot\"},\"ticker\":{\"id\":\"2274\",\"type\":\"BasicTicker\"}},\"id\":\"2277\",\"type\":\"Grid\"},{\"attributes\":{\"data_source\":{\"id\":\"2293\",\"type\":\"ColumnDataSource\"},\"glyph\":{\"id\":\"2294\",\"type\":\"Circle\"},\"hover_glyph\":null,\"muted_glyph\":null,\"nonselection_glyph\":{\"id\":\"2295\",\"type\":\"Circle\"},\"selection_glyph\":null,\"view\":{\"id\":\"2297\",\"type\":\"CDSView\"}},\"id\":\"2296\",\"type\":\"GlyphRenderer\"},{\"attributes\":{\"callback\":null,\"data\":{\"x\":[0,1,2,3,4,5,6,7,8,9,10,11,12,13,14,15,16,17,18,19,20,21,22,23,24,25,26,27,28,29,30,31,32,33,34,35,36,37,38,39,40,41,42,43,44,45,46,47,48,49,50,51,52,53,54,55,56,57,58,59,60,61,62,63,64,65,66,67,68,69,70,71,72,73,74,75,76,77,78,79,80,81,82,83,84,85,86,87,88,89,90,91,92,93,94,95,96,97,98,99],\"y\":{\"__ndarray__\":\"lCxEo/PQxz9cAHQv0w+sP5ppuOZn2+M//5ErOm1H+r+mPp9YF+TzP620yDkKXNC/h1l+xT1Z8D+UyExdmvvhP7PAwvYd28o/Q/bmAXWXv78SJb7jfrLuv0e88CJzguo/tFUccETZyL/BWMpeldDyP6nyGh7NJANACz/0C5HT9T/ucXPxclDtP5DU0pwsjuA/bjMdGDtaA0CSOIu+OZPBv8TpojTlK96//bYMSt9y4b9w1/GdGRDqPxwLhMpaZeU/QaThV3C0zL+stLgjK7/hvwjKPNsa7eG/GEUZK60Yw7+FKWNVgHH4v3BlAJnVT9e/Wnx+Uo0s2T+o2QsOy4wAQGQIKl5G/vO/YoEaT6gD8D9PvhUNgWHnP7mKhwxB9/I/Y2qLdRdk9r/xDLPsnwnyP+uswV9yKtG/w0TtzM/rAEAPeEObrILov2iYUP/HM/q/mwE8K5JPsj8CAB78iq5Yv3wxLteHErI/COe4M+PXAUDX74qeY5LjP3+r1ZbGguw/sgXxHW4q6T+3JXj2PUuVP9MS12gOWuQ/so86KFYFqb8exSXCKpvnP/tisauQIPM/viOgip3e+79ahRf0cpTrv6gLMdUQ6dS/mVHJskA38z8JV7/09gbgP2IhNo53Be4/QOR4ES1J7D/oyFd2fW3DPw9JBjx5tPq/GNDmt+O21z8nC2DE3hTCv8C7UsAYmOk/p4p5HSpG9j8fdR5Pj9XrP3Q99+9iJ+u/lvhaxyzT1j81oJUUG6PQv9m1ChzP48O/1vUqiJVy4b8mMPcZHWbQvyOMzX/ZVvQ/oHjUs14n97+uPbMvQUxrv361WxFBD/k/W2NIpDFY0D8U1t0YHRPVv4wtcrm+YPI/5eGVfjDh7D+/DQIiUZHCv0B4RPn6CQBAl4wLEgw0vT/hbuVePqnxv193PuEsAdO/UAVwZqji5b/9Cuue3nXrv2vSE3DDv+U/vz1m4cogsD8hlmpF2hvEvwZSd6Rqh+c/sscrnVzg8b8phkTrpyvWP8SEuMmFlue/qbz2xN5q5D84Ihp1jlb5v3lDji+MKeC/wX1RFtHZtT8=\",\"dtype\":\"float64\",\"shape\":[100]}},\"selected\":{\"id\":\"2370\",\"type\":\"Selection\"},\"selection_policy\":{\"id\":\"2371\",\"type\":\"UnionRenderers\"}},\"id\":\"2298\",\"type\":\"ColumnDataSource\"},{\"attributes\":{\"plot\":{\"id\":\"2259\",\"subtype\":\"Figure\",\"type\":\"Plot\"},\"ticker\":{\"id\":\"2269\",\"type\":\"BasicTicker\"}},\"id\":\"2272\",\"type\":\"Grid\"},{\"attributes\":{\"data_source\":{\"id\":\"2298\",\"type\":\"ColumnDataSource\"},\"glyph\":{\"id\":\"2299\",\"type\":\"Circle\"},\"hover_glyph\":null,\"muted_glyph\":null,\"nonselection_glyph\":{\"id\":\"2300\",\"type\":\"Circle\"},\"selection_glyph\":null,\"view\":{\"id\":\"2302\",\"type\":\"CDSView\"}},\"id\":\"2301\",\"type\":\"GlyphRenderer\"},{\"attributes\":{\"fill_alpha\":{\"value\":0.5},\"fill_color\":{\"value\":\"green\"},\"line_alpha\":{\"value\":0.5},\"line_color\":{\"value\":\"green\"},\"size\":{\"units\":\"screen\",\"value\":10},\"x\":{\"field\":\"x\"},\"y\":{\"field\":\"y\"}},\"id\":\"2294\",\"type\":\"Circle\"},{\"attributes\":{},\"id\":\"2369\",\"type\":\"UnionRenderers\"},{\"attributes\":{},\"id\":\"2371\",\"type\":\"UnionRenderers\"},{\"attributes\":{},\"id\":\"2269\",\"type\":\"BasicTicker\"},{\"attributes\":{\"plot\":null,\"text\":\"\"},\"id\":\"2362\",\"type\":\"Title\"},{\"attributes\":{\"fill_alpha\":{\"value\":0.1},\"fill_color\":{\"value\":\"#1f77b4\"},\"line_alpha\":{\"value\":0.1},\"line_color\":{\"value\":\"#1f77b4\"},\"size\":{\"units\":\"screen\",\"value\":10},\"x\":{\"field\":\"x\"},\"y\":{\"field\":\"y\"}},\"id\":\"2300\",\"type\":\"Circle\"},{\"attributes\":{\"formatter\":{\"id\":\"2367\",\"type\":\"BasicTickFormatter\"},\"plot\":{\"id\":\"2259\",\"subtype\":\"Figure\",\"type\":\"Plot\"},\"ticker\":{\"id\":\"2274\",\"type\":\"BasicTicker\"}},\"id\":\"2273\",\"type\":\"LinearAxis\"},{\"attributes\":{},\"id\":\"2370\",\"type\":\"Selection\"},{\"attributes\":{},\"id\":\"2278\",\"type\":\"PanTool\"},{\"attributes\":{},\"id\":\"2266\",\"type\":\"LinearScale\"},{\"attributes\":{\"formatter\":{\"id\":\"2365\",\"type\":\"BasicTickFormatter\"},\"plot\":{\"id\":\"2259\",\"subtype\":\"Figure\",\"type\":\"Plot\"},\"ticker\":{\"id\":\"2269\",\"type\":\"BasicTicker\"}},\"id\":\"2268\",\"type\":\"LinearAxis\"},{\"attributes\":{},\"id\":\"2367\",\"type\":\"BasicTickFormatter\"},{\"attributes\":{\"source\":{\"id\":\"2298\",\"type\":\"ColumnDataSource\"}},\"id\":\"2302\",\"type\":\"CDSView\"},{\"attributes\":{\"callback\":null},\"id\":\"2262\",\"type\":\"DataRange1d\"},{\"attributes\":{\"overlay\":{\"id\":\"2286\",\"type\":\"BoxAnnotation\"}},\"id\":\"2280\",\"type\":\"BoxZoomTool\"}],\"root_ids\":[\"2259\"]},\"title\":\"Bokeh Application\",\"version\":\"1.0.4\"}};\n",
       "  var render_items = [{\"docid\":\"4c4d1092-f241-4c56-95bd-2d8fca8a2a0b\",\"roots\":{\"2259\":\"6653aa04-f345-415d-a0ee-34322465f547\"}}];\n",
       "  root.Bokeh.embed.embed_items_notebook(docs_json, render_items);\n",
       "\n",
       "  }\n",
       "  if (root.Bokeh !== undefined) {\n",
       "    embed_document(root);\n",
       "  } else {\n",
       "    var attempts = 0;\n",
       "    var timer = setInterval(function(root) {\n",
       "      if (root.Bokeh !== undefined) {\n",
       "        embed_document(root);\n",
       "        clearInterval(timer);\n",
       "      }\n",
       "      attempts++;\n",
       "      if (attempts > 100) {\n",
       "        console.log(\"Bokeh: ERROR: Unable to run BokehJS code because BokehJS library is missing\");\n",
       "        clearInterval(timer);\n",
       "      }\n",
       "    }, 10, root)\n",
       "  }\n",
       "})(window);"
      ],
      "application/vnd.bokehjs_exec.v0+json": ""
     },
     "metadata": {
      "application/vnd.bokehjs_exec.v0+json": {
       "id": "2259"
      }
     },
     "output_type": "display_data"
    }
   ],
   "source": [
    "# 设置外边界背景\n",
    "\n",
    "p = figure(plot_width=600, plot_height=400)\n",
    "p.circle(df.index, df['A'], color = 'green', size=10,  alpha=0.5)\n",
    "p.circle(df.index, df['B'], color = '#FF0000', size=10,  alpha=0.5)\n",
    "# 绘制散点图\n",
    "\n",
    "p.border_fill_color = \"whitesmoke\"    # 外边界背景颜色\n",
    "p.min_border_left = 80                # 外边界背景 - 左边宽度\n",
    "p.min_border_right = 80               # 外边界背景 - 右边宽度\n",
    "p.min_border_top = 10                 # 外边界背景 - 上宽度\n",
    "p.min_border_bottom = 10              # 外边界背景 - 下宽度\n",
    "\n",
    "show(p)"
   ]
  },
  {
   "cell_type": "code",
   "execution_count": 10,
   "metadata": {},
   "outputs": [
    {
     "data": {
      "text/html": [
       "\n",
       "\n",
       "\n",
       "\n",
       "\n",
       "\n",
       "  <div class=\"bk-root\" id=\"eb4a7881-74ac-42b5-abde-e1f3807f7620\" data-root-id=\"2539\"></div>\n"
      ]
     },
     "metadata": {},
     "output_type": "display_data"
    },
    {
     "data": {
      "application/javascript": [
       "(function(root) {\n",
       "  function embed_document(root) {\n",
       "    \n",
       "  var docs_json = {\"086c2628-633c-42aa-898f-80e51d55e069\":{\"roots\":{\"references\":[{\"attributes\":{\"below\":[{\"id\":\"2548\",\"type\":\"LinearAxis\"}],\"left\":[{\"id\":\"2553\",\"type\":\"LinearAxis\"}],\"plot_height\":400,\"plot_width\":400,\"renderers\":[{\"id\":\"2548\",\"type\":\"LinearAxis\"},{\"id\":\"2552\",\"type\":\"Grid\"},{\"id\":\"2553\",\"type\":\"LinearAxis\"},{\"id\":\"2557\",\"type\":\"Grid\"},{\"id\":\"2566\",\"type\":\"BoxAnnotation\"},{\"id\":\"2576\",\"type\":\"GlyphRenderer\"}],\"title\":{\"id\":\"2648\",\"type\":\"Title\"},\"toolbar\":{\"id\":\"2564\",\"type\":\"Toolbar\"},\"x_range\":{\"id\":\"2540\",\"type\":\"DataRange1d\"},\"x_scale\":{\"id\":\"2544\",\"type\":\"LinearScale\"},\"y_range\":{\"id\":\"2542\",\"type\":\"DataRange1d\"},\"y_scale\":{\"id\":\"2546\",\"type\":\"LinearScale\"}},\"id\":\"2539\",\"subtype\":\"Figure\",\"type\":\"Plot\"},{\"attributes\":{},\"id\":\"2561\",\"type\":\"SaveTool\"},{\"attributes\":{},\"id\":\"2562\",\"type\":\"ResetTool\"},{\"attributes\":{\"source\":{\"id\":\"2573\",\"type\":\"ColumnDataSource\"}},\"id\":\"2577\",\"type\":\"CDSView\"},{\"attributes\":{},\"id\":\"2653\",\"type\":\"BasicTickFormatter\"},{\"attributes\":{\"callback\":null},\"id\":\"2542\",\"type\":\"DataRange1d\"},{\"attributes\":{\"dimension\":1,\"plot\":{\"id\":\"2539\",\"subtype\":\"Figure\",\"type\":\"Plot\"},\"ticker\":{\"id\":\"2554\",\"type\":\"BasicTicker\"}},\"id\":\"2557\",\"type\":\"Grid\"},{\"attributes\":{\"fill_alpha\":{\"value\":0.1},\"fill_color\":{\"value\":\"#1f77b4\"},\"line_alpha\":{\"value\":0.1},\"line_color\":{\"value\":\"#1f77b4\"},\"size\":{\"units\":\"screen\",\"value\":10},\"x\":{\"field\":\"x\"},\"y\":{\"field\":\"y\"}},\"id\":\"2575\",\"type\":\"Circle\"},{\"attributes\":{},\"id\":\"2563\",\"type\":\"HelpTool\"},{\"attributes\":{\"plot\":null,\"text\":\"\"},\"id\":\"2648\",\"type\":\"Title\"},{\"attributes\":{\"callback\":null,\"data\":{\"x\":[1,2,3,4,5],\"y\":[2,5,8,2,7]},\"selected\":{\"id\":\"2654\",\"type\":\"Selection\"},\"selection_policy\":{\"id\":\"2655\",\"type\":\"UnionRenderers\"}},\"id\":\"2573\",\"type\":\"ColumnDataSource\"},{\"attributes\":{\"overlay\":{\"id\":\"2566\",\"type\":\"BoxAnnotation\"}},\"id\":\"2560\",\"type\":\"BoxZoomTool\"},{\"attributes\":{\"fill_color\":{\"value\":\"#1f77b4\"},\"line_color\":{\"value\":\"#1f77b4\"},\"size\":{\"units\":\"screen\",\"value\":10},\"x\":{\"field\":\"x\"},\"y\":{\"field\":\"y\"}},\"id\":\"2574\",\"type\":\"Circle\"},{\"attributes\":{},\"id\":\"2651\",\"type\":\"BasicTickFormatter\"},{\"attributes\":{\"data_source\":{\"id\":\"2573\",\"type\":\"ColumnDataSource\"},\"glyph\":{\"id\":\"2574\",\"type\":\"Circle\"},\"hover_glyph\":null,\"muted_glyph\":null,\"nonselection_glyph\":{\"id\":\"2575\",\"type\":\"Circle\"},\"selection_glyph\":null,\"view\":{\"id\":\"2577\",\"type\":\"CDSView\"}},\"id\":\"2576\",\"type\":\"GlyphRenderer\"},{\"attributes\":{\"axis_label\":\"Pressure\",\"formatter\":{\"id\":\"2653\",\"type\":\"BasicTickFormatter\"},\"major_label_orientation\":\"vertical\",\"major_label_text_color\":{\"value\":\"orange\"},\"minor_tick_in\":3,\"minor_tick_out\":5,\"plot\":{\"id\":\"2539\",\"subtype\":\"Figure\",\"type\":\"Plot\"},\"ticker\":{\"id\":\"2554\",\"type\":\"BasicTicker\"}},\"id\":\"2553\",\"type\":\"LinearAxis\"},{\"attributes\":{\"axis_label\":\"Temp\",\"axis_line_color\":{\"value\":\"red\"},\"axis_line_width\":{\"value\":4},\"bounds\":[2,4],\"formatter\":{\"id\":\"2651\",\"type\":\"BasicTickFormatter\"},\"minor_tick_in\":3,\"minor_tick_out\":5,\"plot\":{\"id\":\"2539\",\"subtype\":\"Figure\",\"type\":\"Plot\"},\"ticker\":{\"id\":\"2549\",\"type\":\"BasicTicker\"}},\"id\":\"2548\",\"type\":\"LinearAxis\"},{\"attributes\":{},\"id\":\"2554\",\"type\":\"BasicTicker\"},{\"attributes\":{\"active_drag\":\"auto\",\"active_inspect\":\"auto\",\"active_multi\":null,\"active_scroll\":\"auto\",\"active_tap\":\"auto\",\"tools\":[{\"id\":\"2558\",\"type\":\"PanTool\"},{\"id\":\"2559\",\"type\":\"WheelZoomTool\"},{\"id\":\"2560\",\"type\":\"BoxZoomTool\"},{\"id\":\"2561\",\"type\":\"SaveTool\"},{\"id\":\"2562\",\"type\":\"ResetTool\"},{\"id\":\"2563\",\"type\":\"HelpTool\"}]},\"id\":\"2564\",\"type\":\"Toolbar\"},{\"attributes\":{},\"id\":\"2544\",\"type\":\"LinearScale\"},{\"attributes\":{},\"id\":\"2654\",\"type\":\"Selection\"},{\"attributes\":{},\"id\":\"2549\",\"type\":\"BasicTicker\"},{\"attributes\":{\"plot\":{\"id\":\"2539\",\"subtype\":\"Figure\",\"type\":\"Plot\"},\"ticker\":{\"id\":\"2549\",\"type\":\"BasicTicker\"}},\"id\":\"2552\",\"type\":\"Grid\"},{\"attributes\":{},\"id\":\"2546\",\"type\":\"LinearScale\"},{\"attributes\":{\"bottom_units\":\"screen\",\"fill_alpha\":{\"value\":0.5},\"fill_color\":{\"value\":\"lightgrey\"},\"left_units\":\"screen\",\"level\":\"overlay\",\"line_alpha\":{\"value\":1.0},\"line_color\":{\"value\":\"black\"},\"line_dash\":[4,4],\"line_width\":{\"value\":2},\"plot\":null,\"render_mode\":\"css\",\"right_units\":\"screen\",\"top_units\":\"screen\"},\"id\":\"2566\",\"type\":\"BoxAnnotation\"},{\"attributes\":{},\"id\":\"2558\",\"type\":\"PanTool\"},{\"attributes\":{},\"id\":\"2559\",\"type\":\"WheelZoomTool\"},{\"attributes\":{},\"id\":\"2655\",\"type\":\"UnionRenderers\"},{\"attributes\":{\"callback\":null},\"id\":\"2540\",\"type\":\"DataRange1d\"}],\"root_ids\":[\"2539\"]},\"title\":\"Bokeh Application\",\"version\":\"1.0.4\"}};\n",
       "  var render_items = [{\"docid\":\"086c2628-633c-42aa-898f-80e51d55e069\",\"roots\":{\"2539\":\"eb4a7881-74ac-42b5-abde-e1f3807f7620\"}}];\n",
       "  root.Bokeh.embed.embed_items_notebook(docs_json, render_items);\n",
       "\n",
       "  }\n",
       "  if (root.Bokeh !== undefined) {\n",
       "    embed_document(root);\n",
       "  } else {\n",
       "    var attempts = 0;\n",
       "    var timer = setInterval(function(root) {\n",
       "      if (root.Bokeh !== undefined) {\n",
       "        embed_document(root);\n",
       "        clearInterval(timer);\n",
       "      }\n",
       "      attempts++;\n",
       "      if (attempts > 100) {\n",
       "        console.log(\"Bokeh: ERROR: Unable to run BokehJS code because BokehJS library is missing\");\n",
       "        clearInterval(timer);\n",
       "      }\n",
       "    }, 10, root)\n",
       "  }\n",
       "})(window);"
      ],
      "application/vnd.bokehjs_exec.v0+json": ""
     },
     "metadata": {
      "application/vnd.bokehjs_exec.v0+json": {
       "id": "2539"
      }
     },
     "output_type": "display_data"
    }
   ],
   "source": [
    "# Axes - 轴线设置\n",
    "# 轴线标签、轴线线宽、轴线颜色\n",
    "# 字体颜色、字体角度\n",
    "\n",
    "p = figure(plot_width=400, plot_height=400)\n",
    "p.circle([1,2,3,4,5], [2,5,8,2,7], size=10)\n",
    "# 绘制图表\n",
    "\n",
    "p.xaxis.axis_label = 'Temp'\n",
    "p.xaxis.axis_line_color = 'red'\n",
    "p.xaxis.axis_line_width = 4\n",
    "# 设置x轴线：标签、线宽、轴线颜色\n",
    "\n",
    "p.yaxis.axis_label = \"Pressure\"\n",
    "p.yaxis.major_label_text_color = \"orange\"\n",
    "p.yaxis.major_label_orientation = \"vertical\"\n",
    "# 设置y轴线：标签、字体颜色、字体角度\n",
    "  \n",
    "p.axis.minor_tick_in = 3      # 刻度往绘图区域内延伸长度\n",
    "p.axis.minor_tick_out = 5     # 刻度往绘图区域外延伸长度\n",
    "# 设置刻度\n",
    "\n",
    "p.xaxis.bounds = (2,4)      # 设置轴线范围\n",
    "show(p) "
   ]
  },
  {
   "cell_type": "code",
   "execution_count": 11,
   "metadata": {},
   "outputs": [
    {
     "data": {
      "text/html": [
       "\n",
       "\n",
       "\n",
       "\n",
       "\n",
       "\n",
       "  <div class=\"bk-root\" id=\"6cfb02b5-c0fc-4787-ae19-a9755efc3ba3\" data-root-id=\"2793\"></div>\n"
      ]
     },
     "metadata": {},
     "output_type": "display_data"
    },
    {
     "data": {
      "application/javascript": [
       "(function(root) {\n",
       "  function embed_document(root) {\n",
       "    \n",
       "  var docs_json = {\"8408adc0-dcfa-4a93-b3ef-f0ac14950a9c\":{\"roots\":{\"references\":[{\"attributes\":{\"below\":[{\"id\":\"2802\",\"type\":\"LinearAxis\"}],\"left\":[{\"id\":\"2807\",\"type\":\"LinearAxis\"}],\"plot_height\":400,\"plot_width\":400,\"renderers\":[{\"id\":\"2802\",\"type\":\"LinearAxis\"},{\"id\":\"2806\",\"type\":\"Grid\"},{\"id\":\"2807\",\"type\":\"LinearAxis\"},{\"id\":\"2811\",\"type\":\"Grid\"},{\"id\":\"2820\",\"type\":\"BoxAnnotation\"},{\"id\":\"2830\",\"type\":\"GlyphRenderer\"}],\"title\":{\"id\":\"2911\",\"type\":\"Title\"},\"toolbar\":{\"id\":\"2818\",\"type\":\"Toolbar\"},\"x_range\":{\"id\":\"2794\",\"type\":\"DataRange1d\"},\"x_scale\":{\"id\":\"2798\",\"type\":\"LinearScale\"},\"y_range\":{\"id\":\"2796\",\"type\":\"DataRange1d\"},\"y_scale\":{\"id\":\"2800\",\"type\":\"LinearScale\"}},\"id\":\"2793\",\"subtype\":\"Figure\",\"type\":\"Plot\"},{\"attributes\":{\"active_drag\":\"auto\",\"active_inspect\":\"auto\",\"active_multi\":null,\"active_scroll\":\"auto\",\"active_tap\":\"auto\",\"tools\":[{\"id\":\"2812\",\"type\":\"PanTool\"},{\"id\":\"2813\",\"type\":\"WheelZoomTool\"},{\"id\":\"2814\",\"type\":\"BoxZoomTool\"},{\"id\":\"2815\",\"type\":\"SaveTool\"},{\"id\":\"2816\",\"type\":\"ResetTool\"},{\"id\":\"2817\",\"type\":\"HelpTool\"}]},\"id\":\"2818\",\"type\":\"Toolbar\"},{\"attributes\":{},\"id\":\"2808\",\"type\":\"BasicTicker\"},{\"attributes\":{},\"id\":\"2816\",\"type\":\"ResetTool\"},{\"attributes\":{},\"id\":\"2798\",\"type\":\"LinearScale\"},{\"attributes\":{\"source\":{\"id\":\"2827\",\"type\":\"ColumnDataSource\"}},\"id\":\"2831\",\"type\":\"CDSView\"},{\"attributes\":{\"fill_alpha\":{\"value\":0.1},\"fill_color\":{\"value\":\"#1f77b4\"},\"line_alpha\":{\"value\":0.1},\"line_color\":{\"value\":\"#1f77b4\"},\"size\":{\"units\":\"screen\",\"value\":10},\"x\":{\"field\":\"x\"},\"y\":{\"field\":\"y\"}},\"id\":\"2829\",\"type\":\"Circle\"},{\"attributes\":{\"overlay\":{\"id\":\"2820\",\"type\":\"BoxAnnotation\"}},\"id\":\"2814\",\"type\":\"BoxZoomTool\"},{\"attributes\":{\"plot\":{\"id\":\"2793\",\"subtype\":\"Figure\",\"type\":\"Plot\"},\"ticker\":{\"id\":\"2803\",\"type\":\"BasicTicker\"}},\"id\":\"2806\",\"type\":\"Grid\"},{\"attributes\":{\"bottom_units\":\"screen\",\"fill_alpha\":{\"value\":0.5},\"fill_color\":{\"value\":\"lightgrey\"},\"left_units\":\"screen\",\"level\":\"overlay\",\"line_alpha\":{\"value\":1.0},\"line_color\":{\"value\":\"black\"},\"line_dash\":[4,4],\"line_width\":{\"value\":2},\"plot\":null,\"render_mode\":\"css\",\"right_units\":\"screen\",\"top_units\":\"screen\"},\"id\":\"2820\",\"type\":\"BoxAnnotation\"},{\"attributes\":{},\"id\":\"2914\",\"type\":\"BasicTickFormatter\"},{\"attributes\":{},\"id\":\"2916\",\"type\":\"BasicTickFormatter\"},{\"attributes\":{\"plot\":null,\"text\":\"\"},\"id\":\"2911\",\"type\":\"Title\"},{\"attributes\":{},\"id\":\"2917\",\"type\":\"Selection\"},{\"attributes\":{\"data_source\":{\"id\":\"2827\",\"type\":\"ColumnDataSource\"},\"glyph\":{\"id\":\"2828\",\"type\":\"Circle\"},\"hover_glyph\":null,\"muted_glyph\":null,\"nonselection_glyph\":{\"id\":\"2829\",\"type\":\"Circle\"},\"selection_glyph\":null,\"view\":{\"id\":\"2831\",\"type\":\"CDSView\"}},\"id\":\"2830\",\"type\":\"GlyphRenderer\"},{\"attributes\":{\"callback\":null,\"data\":{\"x\":[1,2,3,4,5],\"y\":[2,5,8,2,7]},\"selected\":{\"id\":\"2917\",\"type\":\"Selection\"},\"selection_policy\":{\"id\":\"2918\",\"type\":\"UnionRenderers\"}},\"id\":\"2827\",\"type\":\"ColumnDataSource\"},{\"attributes\":{\"callback\":null},\"id\":\"2794\",\"type\":\"DataRange1d\"},{\"attributes\":{},\"id\":\"2803\",\"type\":\"BasicTicker\"},{\"attributes\":{\"axis_label\":\"Bin Count\",\"formatter\":{\"id\":\"2916\",\"type\":\"BasicTickFormatter\"},\"plot\":{\"id\":\"2793\",\"subtype\":\"Figure\",\"type\":\"Plot\"},\"ticker\":{\"id\":\"2808\",\"type\":\"BasicTicker\"}},\"id\":\"2807\",\"type\":\"LinearAxis\"},{\"attributes\":{},\"id\":\"2812\",\"type\":\"PanTool\"},{\"attributes\":{},\"id\":\"2815\",\"type\":\"SaveTool\"},{\"attributes\":{},\"id\":\"2918\",\"type\":\"UnionRenderers\"},{\"attributes\":{\"fill_color\":{\"value\":\"#1f77b4\"},\"line_color\":{\"value\":\"#1f77b4\"},\"size\":{\"units\":\"screen\",\"value\":10},\"x\":{\"field\":\"x\"},\"y\":{\"field\":\"y\"}},\"id\":\"2828\",\"type\":\"Circle\"},{\"attributes\":{\"dimension\":1,\"plot\":{\"id\":\"2793\",\"subtype\":\"Figure\",\"type\":\"Plot\"},\"ticker\":{\"id\":\"2808\",\"type\":\"BasicTicker\"}},\"id\":\"2811\",\"type\":\"Grid\"},{\"attributes\":{\"callback\":null},\"id\":\"2796\",\"type\":\"DataRange1d\"},{\"attributes\":{},\"id\":\"2817\",\"type\":\"HelpTool\"},{\"attributes\":{},\"id\":\"2800\",\"type\":\"LinearScale\"},{\"attributes\":{},\"id\":\"2813\",\"type\":\"WheelZoomTool\"},{\"attributes\":{\"axis_label\":\"Lot Number\",\"axis_label_standoff\":30,\"axis_label_text_color\":{\"value\":\"#aa6666\"},\"formatter\":{\"id\":\"2914\",\"type\":\"BasicTickFormatter\"},\"plot\":{\"id\":\"2793\",\"subtype\":\"Figure\",\"type\":\"Plot\"},\"ticker\":{\"id\":\"2803\",\"type\":\"BasicTicker\"}},\"id\":\"2802\",\"type\":\"LinearAxis\"}],\"root_ids\":[\"2793\"]},\"title\":\"Bokeh Application\",\"version\":\"1.0.4\"}};\n",
       "  var render_items = [{\"docid\":\"8408adc0-dcfa-4a93-b3ef-f0ac14950a9c\",\"roots\":{\"2793\":\"6cfb02b5-c0fc-4787-ae19-a9755efc3ba3\"}}];\n",
       "  root.Bokeh.embed.embed_items_notebook(docs_json, render_items);\n",
       "\n",
       "  }\n",
       "  if (root.Bokeh !== undefined) {\n",
       "    embed_document(root);\n",
       "  } else {\n",
       "    var attempts = 0;\n",
       "    var timer = setInterval(function(root) {\n",
       "      if (root.Bokeh !== undefined) {\n",
       "        embed_document(root);\n",
       "        clearInterval(timer);\n",
       "      }\n",
       "      attempts++;\n",
       "      if (attempts > 100) {\n",
       "        console.log(\"Bokeh: ERROR: Unable to run BokehJS code because BokehJS library is missing\");\n",
       "        clearInterval(timer);\n",
       "      }\n",
       "    }, 10, root)\n",
       "  }\n",
       "})(window);"
      ],
      "application/vnd.bokehjs_exec.v0+json": ""
     },
     "metadata": {
      "application/vnd.bokehjs_exec.v0+json": {
       "id": "2793"
      }
     },
     "output_type": "display_data"
    }
   ],
   "source": [
    "# Axes - 轴线设置\n",
    "# 标签设置\n",
    "\n",
    "p = figure(plot_width=400, plot_height=400)\n",
    "p.circle([1,2,3,4,5], [2,5,8,2,7], size=10)\n",
    "\n",
    "p.xaxis.axis_label = \"Lot Number\"\n",
    "p.xaxis.axis_label_text_color = \"#aa6666\"\n",
    "p.xaxis.axis_label_standoff = 30\n",
    "# 设置标签名称、字体颜色、偏移距离\n",
    "\n",
    "p.yaxis.axis_label = \"Bin Count\"\n",
    "p.yaxis.axis_label_text_font_style = \"italic\"\n",
    "# 设置标签名称、字体\n",
    "\n",
    "show(p)"
   ]
  },
  {
   "cell_type": "code",
   "execution_count": 12,
   "metadata": {},
   "outputs": [
    {
     "data": {
      "text/html": [
       "\n",
       "\n",
       "\n",
       "\n",
       "\n",
       "\n",
       "  <div class=\"bk-root\" id=\"e711bd23-54bc-4fe3-b135-d99aec2d86f5\" data-root-id=\"3056\"></div>\n"
      ]
     },
     "metadata": {},
     "output_type": "display_data"
    },
    {
     "data": {
      "application/javascript": [
       "(function(root) {\n",
       "  function embed_document(root) {\n",
       "    \n",
       "  var docs_json = {\"c6c4b9cb-ef2f-49a5-9594-f2ed998abdb8\":{\"roots\":{\"references\":[{\"attributes\":{\"below\":[{\"id\":\"3065\",\"type\":\"LinearAxis\"}],\"left\":[{\"id\":\"3070\",\"type\":\"LinearAxis\"}],\"plot_height\":400,\"renderers\":[{\"id\":\"3065\",\"type\":\"LinearAxis\"},{\"id\":\"3069\",\"type\":\"Grid\"},{\"id\":\"3070\",\"type\":\"LinearAxis\"},{\"id\":\"3074\",\"type\":\"Grid\"},{\"id\":\"3083\",\"type\":\"BoxAnnotation\"},{\"id\":\"3093\",\"type\":\"GlyphRenderer\"},{\"id\":\"3098\",\"type\":\"GlyphRenderer\"}],\"title\":{\"id\":\"3188\",\"type\":\"Title\"},\"toolbar\":{\"id\":\"3081\",\"type\":\"Toolbar\"},\"x_range\":{\"id\":\"3057\",\"type\":\"DataRange1d\"},\"x_scale\":{\"id\":\"3061\",\"type\":\"LinearScale\"},\"y_range\":{\"id\":\"3059\",\"type\":\"DataRange1d\"},\"y_scale\":{\"id\":\"3063\",\"type\":\"LinearScale\"}},\"id\":\"3056\",\"subtype\":\"Figure\",\"type\":\"Plot\"},{\"attributes\":{},\"id\":\"3079\",\"type\":\"ResetTool\"},{\"attributes\":{},\"id\":\"3080\",\"type\":\"HelpTool\"},{\"attributes\":{\"source\":{\"id\":\"3095\",\"type\":\"ColumnDataSource\"}},\"id\":\"3099\",\"type\":\"CDSView\"},{\"attributes\":{},\"id\":\"3075\",\"type\":\"PanTool\"},{\"attributes\":{\"formatter\":{\"id\":\"3191\",\"type\":\"BasicTickFormatter\"},\"plot\":{\"id\":\"3056\",\"subtype\":\"Figure\",\"type\":\"Plot\"},\"ticker\":{\"id\":\"3066\",\"type\":\"BasicTicker\"}},\"id\":\"3065\",\"type\":\"LinearAxis\"},{\"attributes\":{},\"id\":\"3076\",\"type\":\"WheelZoomTool\"},{\"attributes\":{},\"id\":\"3063\",\"type\":\"LinearScale\"},{\"attributes\":{},\"id\":\"3066\",\"type\":\"BasicTicker\"},{\"attributes\":{\"overlay\":{\"id\":\"3083\",\"type\":\"BoxAnnotation\"}},\"id\":\"3077\",\"type\":\"BoxZoomTool\"},{\"attributes\":{},\"id\":\"3197\",\"type\":\"UnionRenderers\"},{\"attributes\":{\"fill_alpha\":{\"value\":0.1},\"fill_color\":{\"value\":\"#1f77b4\"},\"line_alpha\":{\"value\":0.1},\"line_color\":{\"value\":\"#1f77b4\"},\"size\":{\"units\":\"screen\",\"value\":10},\"x\":{\"field\":\"x\"},\"y\":{\"field\":\"y\"}},\"id\":\"3092\",\"type\":\"Circle\"},{\"attributes\":{\"data_source\":{\"id\":\"3090\",\"type\":\"ColumnDataSource\"},\"glyph\":{\"id\":\"3091\",\"type\":\"Circle\"},\"hover_glyph\":null,\"muted_glyph\":null,\"nonselection_glyph\":{\"id\":\"3092\",\"type\":\"Circle\"},\"selection_glyph\":null,\"view\":{\"id\":\"3094\",\"type\":\"CDSView\"}},\"id\":\"3093\",\"type\":\"GlyphRenderer\"},{\"attributes\":{\"active_drag\":\"auto\",\"active_inspect\":\"auto\",\"active_multi\":null,\"active_scroll\":\"auto\",\"active_tap\":\"auto\",\"tools\":[{\"id\":\"3075\",\"type\":\"PanTool\"},{\"id\":\"3076\",\"type\":\"WheelZoomTool\"},{\"id\":\"3077\",\"type\":\"BoxZoomTool\"},{\"id\":\"3078\",\"type\":\"SaveTool\"},{\"id\":\"3079\",\"type\":\"ResetTool\"},{\"id\":\"3080\",\"type\":\"HelpTool\"}]},\"id\":\"3081\",\"type\":\"Toolbar\"},{\"attributes\":{\"callback\":null},\"id\":\"3059\",\"type\":\"DataRange1d\"},{\"attributes\":{\"grid_line_color\":{\"value\":null},\"minor_grid_line_alpha\":{\"value\":0.5},\"minor_grid_line_color\":{\"value\":\"navy\"},\"plot\":{\"id\":\"3056\",\"subtype\":\"Figure\",\"type\":\"Plot\"},\"ticker\":{\"id\":\"3066\",\"type\":\"BasicTicker\"}},\"id\":\"3069\",\"type\":\"Grid\"},{\"attributes\":{\"callback\":null,\"data\":{\"x\":[0,1,2,3,4,5,6,7,8,9,10,11,12,13,14,15,16,17,18,19,20,21,22,23,24,25,26,27,28,29,30,31,32,33,34,35,36,37,38,39,40,41,42,43,44,45,46,47,48,49,50,51,52,53,54,55,56,57,58,59,60,61,62,63,64,65,66,67,68,69,70,71,72,73,74,75,76,77,78,79,80,81,82,83,84,85,86,87,88,89,90,91,92,93,94,95,96,97,98,99],\"y\":{\"__ndarray__\":\"lCxEo/PQxz9cAHQv0w+sP5ppuOZn2+M//5ErOm1H+r+mPp9YF+TzP620yDkKXNC/h1l+xT1Z8D+UyExdmvvhP7PAwvYd28o/Q/bmAXWXv78SJb7jfrLuv0e88CJzguo/tFUccETZyL/BWMpeldDyP6nyGh7NJANACz/0C5HT9T/ucXPxclDtP5DU0pwsjuA/bjMdGDtaA0CSOIu+OZPBv8TpojTlK96//bYMSt9y4b9w1/GdGRDqPxwLhMpaZeU/QaThV3C0zL+stLgjK7/hvwjKPNsa7eG/GEUZK60Yw7+FKWNVgHH4v3BlAJnVT9e/Wnx+Uo0s2T+o2QsOy4wAQGQIKl5G/vO/YoEaT6gD8D9PvhUNgWHnP7mKhwxB9/I/Y2qLdRdk9r/xDLPsnwnyP+uswV9yKtG/w0TtzM/rAEAPeEObrILov2iYUP/HM/q/mwE8K5JPsj8CAB78iq5Yv3wxLteHErI/COe4M+PXAUDX74qeY5LjP3+r1ZbGguw/sgXxHW4q6T+3JXj2PUuVP9MS12gOWuQ/so86KFYFqb8exSXCKpvnP/tisauQIPM/viOgip3e+79ahRf0cpTrv6gLMdUQ6dS/mVHJskA38z8JV7/09gbgP2IhNo53Be4/QOR4ES1J7D/oyFd2fW3DPw9JBjx5tPq/GNDmt+O21z8nC2DE3hTCv8C7UsAYmOk/p4p5HSpG9j8fdR5Pj9XrP3Q99+9iJ+u/lvhaxyzT1j81oJUUG6PQv9m1ChzP48O/1vUqiJVy4b8mMPcZHWbQvyOMzX/ZVvQ/oHjUs14n97+uPbMvQUxrv361WxFBD/k/W2NIpDFY0D8U1t0YHRPVv4wtcrm+YPI/5eGVfjDh7D+/DQIiUZHCv0B4RPn6CQBAl4wLEgw0vT/hbuVePqnxv193PuEsAdO/UAVwZqji5b/9Cuue3nXrv2vSE3DDv+U/vz1m4cogsD8hlmpF2hvEvwZSd6Rqh+c/sscrnVzg8b8phkTrpyvWP8SEuMmFlue/qbz2xN5q5D84Ihp1jlb5v3lDji+MKeC/wX1RFtHZtT8=\",\"dtype\":\"float64\",\"shape\":[100]}},\"selected\":{\"id\":\"3196\",\"type\":\"Selection\"},\"selection_policy\":{\"id\":\"3197\",\"type\":\"UnionRenderers\"}},\"id\":\"3095\",\"type\":\"ColumnDataSource\"},{\"attributes\":{},\"id\":\"3193\",\"type\":\"BasicTickFormatter\"},{\"attributes\":{},\"id\":\"3195\",\"type\":\"UnionRenderers\"},{\"attributes\":{},\"id\":\"3191\",\"type\":\"BasicTickFormatter\"},{\"attributes\":{\"callback\":null},\"id\":\"3057\",\"type\":\"DataRange1d\"},{\"attributes\":{\"fill_alpha\":{\"value\":0.5},\"fill_color\":{\"value\":\"#FF0000\"},\"line_alpha\":{\"value\":0.5},\"line_color\":{\"value\":\"#FF0000\"},\"size\":{\"units\":\"screen\",\"value\":10},\"x\":{\"field\":\"x\"},\"y\":{\"field\":\"y\"}},\"id\":\"3096\",\"type\":\"Circle\"},{\"attributes\":{},\"id\":\"3061\",\"type\":\"LinearScale\"},{\"attributes\":{\"plot\":null,\"text\":\"\"},\"id\":\"3188\",\"type\":\"Title\"},{\"attributes\":{\"bottom_units\":\"screen\",\"fill_alpha\":{\"value\":0.5},\"fill_color\":{\"value\":\"lightgrey\"},\"left_units\":\"screen\",\"level\":\"overlay\",\"line_alpha\":{\"value\":1.0},\"line_color\":{\"value\":\"black\"},\"line_dash\":[4,4],\"line_width\":{\"value\":2},\"plot\":null,\"render_mode\":\"css\",\"right_units\":\"screen\",\"top_units\":\"screen\"},\"id\":\"3083\",\"type\":\"BoxAnnotation\"},{\"attributes\":{},\"id\":\"3196\",\"type\":\"Selection\"},{\"attributes\":{},\"id\":\"3078\",\"type\":\"SaveTool\"},{\"attributes\":{\"fill_alpha\":{\"value\":0.5},\"fill_color\":{\"value\":\"green\"},\"line_alpha\":{\"value\":0.5},\"line_color\":{\"value\":\"green\"},\"size\":{\"units\":\"screen\",\"value\":10},\"x\":{\"field\":\"x\"},\"y\":{\"field\":\"y\"}},\"id\":\"3091\",\"type\":\"Circle\"},{\"attributes\":{\"source\":{\"id\":\"3090\",\"type\":\"ColumnDataSource\"}},\"id\":\"3094\",\"type\":\"CDSView\"},{\"attributes\":{},\"id\":\"3194\",\"type\":\"Selection\"},{\"attributes\":{},\"id\":\"3071\",\"type\":\"BasicTicker\"},{\"attributes\":{\"dimension\":1,\"grid_line_alpha\":{\"value\":0.5},\"grid_line_color\":{\"value\":\"red\"},\"grid_line_dash\":[3,6],\"plot\":{\"id\":\"3056\",\"subtype\":\"Figure\",\"type\":\"Plot\"},\"ticker\":{\"id\":\"3071\",\"type\":\"BasicTicker\"}},\"id\":\"3074\",\"type\":\"Grid\"},{\"attributes\":{\"fill_alpha\":{\"value\":0.1},\"fill_color\":{\"value\":\"#1f77b4\"},\"line_alpha\":{\"value\":0.1},\"line_color\":{\"value\":\"#1f77b4\"},\"size\":{\"units\":\"screen\",\"value\":10},\"x\":{\"field\":\"x\"},\"y\":{\"field\":\"y\"}},\"id\":\"3097\",\"type\":\"Circle\"},{\"attributes\":{\"formatter\":{\"id\":\"3193\",\"type\":\"BasicTickFormatter\"},\"plot\":{\"id\":\"3056\",\"subtype\":\"Figure\",\"type\":\"Plot\"},\"ticker\":{\"id\":\"3071\",\"type\":\"BasicTicker\"}},\"id\":\"3070\",\"type\":\"LinearAxis\"},{\"attributes\":{\"data_source\":{\"id\":\"3095\",\"type\":\"ColumnDataSource\"},\"glyph\":{\"id\":\"3096\",\"type\":\"Circle\"},\"hover_glyph\":null,\"muted_glyph\":null,\"nonselection_glyph\":{\"id\":\"3097\",\"type\":\"Circle\"},\"selection_glyph\":null,\"view\":{\"id\":\"3099\",\"type\":\"CDSView\"}},\"id\":\"3098\",\"type\":\"GlyphRenderer\"},{\"attributes\":{\"callback\":null,\"data\":{\"x\":[0,1,2,3,4,5,6,7,8,9,10,11,12,13,14,15,16,17,18,19,20,21,22,23,24,25,26,27,28,29,30,31,32,33,34,35,36,37,38,39,40,41,42,43,44,45,46,47,48,49,50,51,52,53,54,55,56,57,58,59,60,61,62,63,64,65,66,67,68,69,70,71,72,73,74,75,76,77,78,79,80,81,82,83,84,85,86,87,88,89,90,91,92,93,94,95,96,97,98,99],\"y\":{\"__ndarray__\":\"zTFoqMcb7T/FWpBh67nfv5AmDc4v5+S/UXrQTW/29r+rUXFGs8bhP4AarVliitm/szFFKnz55r9TrAAxQy/Kv3LVkIlq0eK/uIzAF9198r9Iv/ghSNXkPw5t/zK26gLAgeJ5MwBo+T/xph6d3Bn6vylIEmaZsuY/mfvG5Qz39b8qDMPRRqLVP4iO8ura8uM/SCPAQjUYyr9Kx3mQCHHAPw0wvHoiFeS/iih20zxy1L+i2+2tdnn0P3xk6KFMFOG/MpK6eIoB2j/5Ef8hawT7vyCb3vVuhe2/d/qkHqml2j/ahARPW0Dsv3QOd2NnLL2/DZLGw5GAwr8E1fsXl9Twv+BWYdMMHOS/tta4G8Zb/T9m7fJSmbjpv/eWxiVA6u2/6Gfj8XZD6b/EERc25/vvv+Ydr7VhkuA/TSL+UTCX6D9UFvEk4db7v9vMJYM4L9i/Ax5Klmyi7j9WE1ES+fmyP+vsrcdIQeu/Lvfj1gVP6j+iC5M1FMAAwOY4s0P6DfO/jmmO7QZlrz9saadcFhbJv6QQcpOS1OE/BiGyUtHtpj9uRNm0WI7ov4uWwD+aJvu/coJMKXi+4T9nPx+qoZf+P2SPxtgG8Oa/bWQnG8VM7L89lb9PfXjTP2OYmRoI8oi/d5nqcujE/L89ei/yUXbgP83dzkaT39G/+gpvxU4twT9/XlwoaiPAvxTkVyfIa9a/MJuZ9oCW/r/ABacpgRz0vyhk5nE13Oq/V+48s4zD7D9jAwCZsHz7vwW52J4aLao/lggZkPcj2L+Sh025Ucn7vzkzt99Klry/EwHTMtd//b+9QCjN6qDCvxQ0tI5R6vg/OsJ/LFgT4b9LkI/3Q7cCQPU1LWjrZOW/SOWAiUgy178gRniaIej8P42DSC3lKdc/uwzo8rWC1j/9LXpp7Uz5PwaQufjokZq/VRdk3esd3D+lgKHmdmfsvwsqtrsr5PE/sm55SBpb7T+DQgCTCgHVv4hIewPecsK/Gv+jWaYV8r+jvfkMnTHtP2UhNFs9JLw/0PoTgxkj+b80to50DzDSP08IjW8/A7g/02BT8u0AyL8=\",\"dtype\":\"float64\",\"shape\":[100]}},\"selected\":{\"id\":\"3194\",\"type\":\"Selection\"},\"selection_policy\":{\"id\":\"3195\",\"type\":\"UnionRenderers\"}},\"id\":\"3090\",\"type\":\"ColumnDataSource\"}],\"root_ids\":[\"3056\"]},\"title\":\"Bokeh Application\",\"version\":\"1.0.4\"}};\n",
       "  var render_items = [{\"docid\":\"c6c4b9cb-ef2f-49a5-9594-f2ed998abdb8\",\"roots\":{\"3056\":\"e711bd23-54bc-4fe3-b135-d99aec2d86f5\"}}];\n",
       "  root.Bokeh.embed.embed_items_notebook(docs_json, render_items);\n",
       "\n",
       "  }\n",
       "  if (root.Bokeh !== undefined) {\n",
       "    embed_document(root);\n",
       "  } else {\n",
       "    var attempts = 0;\n",
       "    var timer = setInterval(function(root) {\n",
       "      if (root.Bokeh !== undefined) {\n",
       "        embed_document(root);\n",
       "        clearInterval(timer);\n",
       "      }\n",
       "      attempts++;\n",
       "      if (attempts > 100) {\n",
       "        console.log(\"Bokeh: ERROR: Unable to run BokehJS code because BokehJS library is missing\");\n",
       "        clearInterval(timer);\n",
       "      }\n",
       "    }, 10, root)\n",
       "  }\n",
       "})(window);"
      ],
      "application/vnd.bokehjs_exec.v0+json": ""
     },
     "metadata": {
      "application/vnd.bokehjs_exec.v0+json": {
       "id": "3056"
      }
     },
     "output_type": "display_data"
    }
   ],
   "source": [
    "# Grid - 格网设置\n",
    "# 线型设置\n",
    "\n",
    "p = figure(plot_width=600, plot_height=400)\n",
    "p.circle(df.index, df['A'], color = 'green', size=10,  alpha=0.5)\n",
    "p.circle(df.index, df['B'], color = '#FF0000', size=10,  alpha=0.5)\n",
    "# 绘制散点图\n",
    "\n",
    "p.xgrid.grid_line_color = None\n",
    "# 颜色设置，None时则不显示\n",
    "\n",
    "p.ygrid.grid_line_color = 'red'\n",
    "p.ygrid.grid_line_alpha = 0.5\n",
    "p.ygrid.grid_line_dash = [3,6]\n",
    "# 设置透明度，虚线设置\n",
    "# dash → 通过设置间隔来做虚线\n",
    "\n",
    "p.xgrid.minor_grid_line_color = 'navy'\n",
    "p.xgrid.minor_grid_line_alpha = 0.5\n",
    "# minor_line → 设置次轴线\n",
    "\n",
    "show(p)"
   ]
  },
  {
   "cell_type": "code",
   "execution_count": 13,
   "metadata": {},
   "outputs": [
    {
     "data": {
      "text/html": [
       "\n",
       "\n",
       "\n",
       "\n",
       "\n",
       "\n",
       "  <div class=\"bk-root\" id=\"b9ebfca6-1907-4436-8a93-15134bbdaf9e\" data-root-id=\"3365\"></div>\n"
      ]
     },
     "metadata": {},
     "output_type": "display_data"
    },
    {
     "data": {
      "application/javascript": [
       "(function(root) {\n",
       "  function embed_document(root) {\n",
       "    \n",
       "  var docs_json = {\"2acd458e-5a53-4ccf-8629-56ee0865539a\":{\"roots\":{\"references\":[{\"attributes\":{\"below\":[{\"id\":\"3374\",\"type\":\"LinearAxis\"}],\"left\":[{\"id\":\"3379\",\"type\":\"LinearAxis\"}],\"plot_height\":400,\"renderers\":[{\"id\":\"3374\",\"type\":\"LinearAxis\"},{\"id\":\"3378\",\"type\":\"Grid\"},{\"id\":\"3379\",\"type\":\"LinearAxis\"},{\"id\":\"3383\",\"type\":\"Grid\"},{\"id\":\"3392\",\"type\":\"BoxAnnotation\"},{\"id\":\"3402\",\"type\":\"GlyphRenderer\"},{\"id\":\"3407\",\"type\":\"GlyphRenderer\"}],\"title\":{\"id\":\"3508\",\"type\":\"Title\"},\"toolbar\":{\"id\":\"3390\",\"type\":\"Toolbar\"},\"x_range\":{\"id\":\"3366\",\"type\":\"DataRange1d\"},\"x_scale\":{\"id\":\"3370\",\"type\":\"LinearScale\"},\"y_range\":{\"id\":\"3368\",\"type\":\"DataRange1d\"},\"y_scale\":{\"id\":\"3372\",\"type\":\"LinearScale\"}},\"id\":\"3365\",\"subtype\":\"Figure\",\"type\":\"Plot\"},{\"attributes\":{\"source\":{\"id\":\"3404\",\"type\":\"ColumnDataSource\"}},\"id\":\"3408\",\"type\":\"CDSView\"},{\"attributes\":{},\"id\":\"3388\",\"type\":\"ResetTool\"},{\"attributes\":{\"source\":{\"id\":\"3399\",\"type\":\"ColumnDataSource\"}},\"id\":\"3403\",\"type\":\"CDSView\"},{\"attributes\":{\"fill_alpha\":{\"value\":0.1},\"fill_color\":{\"value\":\"#1f77b4\"},\"line_alpha\":{\"value\":0.1},\"line_color\":{\"value\":\"#1f77b4\"},\"size\":{\"units\":\"screen\",\"value\":10},\"x\":{\"field\":\"x\"},\"y\":{\"field\":\"y\"}},\"id\":\"3406\",\"type\":\"Circle\"},{\"attributes\":{\"fill_alpha\":{\"value\":0.1},\"fill_color\":{\"value\":\"#1f77b4\"},\"line_alpha\":{\"value\":0.1},\"line_color\":{\"value\":\"#1f77b4\"},\"size\":{\"units\":\"screen\",\"value\":10},\"x\":{\"field\":\"x\"},\"y\":{\"field\":\"y\"}},\"id\":\"3401\",\"type\":\"Circle\"},{\"attributes\":{},\"id\":\"3380\",\"type\":\"BasicTicker\"},{\"attributes\":{\"callback\":null,\"data\":{\"x\":[0,1,2,3,4,5,6,7,8,9,10,11,12,13,14,15,16,17,18,19,20,21,22,23,24,25,26,27,28,29,30,31,32,33,34,35,36,37,38,39,40,41,42,43,44,45,46,47,48,49,50,51,52,53,54,55,56,57,58,59,60,61,62,63,64,65,66,67,68,69,70,71,72,73,74,75,76,77,78,79,80,81,82,83,84,85,86,87,88,89,90,91,92,93,94,95,96,97,98,99],\"y\":{\"__ndarray__\":\"zTFoqMcb7T/FWpBh67nfv5AmDc4v5+S/UXrQTW/29r+rUXFGs8bhP4AarVliitm/szFFKnz55r9TrAAxQy/Kv3LVkIlq0eK/uIzAF9198r9Iv/ghSNXkPw5t/zK26gLAgeJ5MwBo+T/xph6d3Bn6vylIEmaZsuY/mfvG5Qz39b8qDMPRRqLVP4iO8ura8uM/SCPAQjUYyr9Kx3mQCHHAPw0wvHoiFeS/iih20zxy1L+i2+2tdnn0P3xk6KFMFOG/MpK6eIoB2j/5Ef8hawT7vyCb3vVuhe2/d/qkHqml2j/ahARPW0Dsv3QOd2NnLL2/DZLGw5GAwr8E1fsXl9Twv+BWYdMMHOS/tta4G8Zb/T9m7fJSmbjpv/eWxiVA6u2/6Gfj8XZD6b/EERc25/vvv+Ydr7VhkuA/TSL+UTCX6D9UFvEk4db7v9vMJYM4L9i/Ax5Klmyi7j9WE1ES+fmyP+vsrcdIQeu/Lvfj1gVP6j+iC5M1FMAAwOY4s0P6DfO/jmmO7QZlrz9saadcFhbJv6QQcpOS1OE/BiGyUtHtpj9uRNm0WI7ov4uWwD+aJvu/coJMKXi+4T9nPx+qoZf+P2SPxtgG8Oa/bWQnG8VM7L89lb9PfXjTP2OYmRoI8oi/d5nqcujE/L89ei/yUXbgP83dzkaT39G/+gpvxU4twT9/XlwoaiPAvxTkVyfIa9a/MJuZ9oCW/r/ABacpgRz0vyhk5nE13Oq/V+48s4zD7D9jAwCZsHz7vwW52J4aLao/lggZkPcj2L+Sh025Ucn7vzkzt99Klry/EwHTMtd//b+9QCjN6qDCvxQ0tI5R6vg/OsJ/LFgT4b9LkI/3Q7cCQPU1LWjrZOW/SOWAiUgy178gRniaIej8P42DSC3lKdc/uwzo8rWC1j/9LXpp7Uz5PwaQufjokZq/VRdk3esd3D+lgKHmdmfsvwsqtrsr5PE/sm55SBpb7T+DQgCTCgHVv4hIewPecsK/Gv+jWaYV8r+jvfkMnTHtP2UhNFs9JLw/0PoTgxkj+b80to50DzDSP08IjW8/A7g/02BT8u0AyL8=\",\"dtype\":\"float64\",\"shape\":[100]}},\"selected\":{\"id\":\"3514\",\"type\":\"Selection\"},\"selection_policy\":{\"id\":\"3515\",\"type\":\"UnionRenderers\"}},\"id\":\"3399\",\"type\":\"ColumnDataSource\"},{\"attributes\":{},\"id\":\"3385\",\"type\":\"WheelZoomTool\"},{\"attributes\":{},\"id\":\"3514\",\"type\":\"Selection\"},{\"attributes\":{\"fill_alpha\":{\"value\":0.5},\"fill_color\":{\"value\":\"green\"},\"line_alpha\":{\"value\":0.5},\"line_color\":{\"value\":\"green\"},\"size\":{\"units\":\"screen\",\"value\":10},\"x\":{\"field\":\"x\"},\"y\":{\"field\":\"y\"}},\"id\":\"3400\",\"type\":\"Circle\"},{\"attributes\":{},\"id\":\"3513\",\"type\":\"BasicTickFormatter\"},{\"attributes\":{},\"id\":\"3387\",\"type\":\"SaveTool\"},{\"attributes\":{},\"id\":\"3370\",\"type\":\"LinearScale\"},{\"attributes\":{},\"id\":\"3517\",\"type\":\"UnionRenderers\"},{\"attributes\":{\"formatter\":{\"id\":\"3511\",\"type\":\"BasicTickFormatter\"},\"plot\":{\"id\":\"3365\",\"subtype\":\"Figure\",\"type\":\"Plot\"},\"ticker\":{\"id\":\"3375\",\"type\":\"BasicTicker\"}},\"id\":\"3374\",\"type\":\"LinearAxis\"},{\"attributes\":{},\"id\":\"3511\",\"type\":\"BasicTickFormatter\"},{\"attributes\":{\"overlay\":{\"id\":\"3392\",\"type\":\"BoxAnnotation\"}},\"id\":\"3386\",\"type\":\"BoxZoomTool\"},{\"attributes\":{\"callback\":null,\"data\":{\"x\":[0,1,2,3,4,5,6,7,8,9,10,11,12,13,14,15,16,17,18,19,20,21,22,23,24,25,26,27,28,29,30,31,32,33,34,35,36,37,38,39,40,41,42,43,44,45,46,47,48,49,50,51,52,53,54,55,56,57,58,59,60,61,62,63,64,65,66,67,68,69,70,71,72,73,74,75,76,77,78,79,80,81,82,83,84,85,86,87,88,89,90,91,92,93,94,95,96,97,98,99],\"y\":{\"__ndarray__\":\"lCxEo/PQxz9cAHQv0w+sP5ppuOZn2+M//5ErOm1H+r+mPp9YF+TzP620yDkKXNC/h1l+xT1Z8D+UyExdmvvhP7PAwvYd28o/Q/bmAXWXv78SJb7jfrLuv0e88CJzguo/tFUccETZyL/BWMpeldDyP6nyGh7NJANACz/0C5HT9T/ucXPxclDtP5DU0pwsjuA/bjMdGDtaA0CSOIu+OZPBv8TpojTlK96//bYMSt9y4b9w1/GdGRDqPxwLhMpaZeU/QaThV3C0zL+stLgjK7/hvwjKPNsa7eG/GEUZK60Yw7+FKWNVgHH4v3BlAJnVT9e/Wnx+Uo0s2T+o2QsOy4wAQGQIKl5G/vO/YoEaT6gD8D9PvhUNgWHnP7mKhwxB9/I/Y2qLdRdk9r/xDLPsnwnyP+uswV9yKtG/w0TtzM/rAEAPeEObrILov2iYUP/HM/q/mwE8K5JPsj8CAB78iq5Yv3wxLteHErI/COe4M+PXAUDX74qeY5LjP3+r1ZbGguw/sgXxHW4q6T+3JXj2PUuVP9MS12gOWuQ/so86KFYFqb8exSXCKpvnP/tisauQIPM/viOgip3e+79ahRf0cpTrv6gLMdUQ6dS/mVHJskA38z8JV7/09gbgP2IhNo53Be4/QOR4ES1J7D/oyFd2fW3DPw9JBjx5tPq/GNDmt+O21z8nC2DE3hTCv8C7UsAYmOk/p4p5HSpG9j8fdR5Pj9XrP3Q99+9iJ+u/lvhaxyzT1j81oJUUG6PQv9m1ChzP48O/1vUqiJVy4b8mMPcZHWbQvyOMzX/ZVvQ/oHjUs14n97+uPbMvQUxrv361WxFBD/k/W2NIpDFY0D8U1t0YHRPVv4wtcrm+YPI/5eGVfjDh7D+/DQIiUZHCv0B4RPn6CQBAl4wLEgw0vT/hbuVePqnxv193PuEsAdO/UAVwZqji5b/9Cuue3nXrv2vSE3DDv+U/vz1m4cogsD8hlmpF2hvEvwZSd6Rqh+c/sscrnVzg8b8phkTrpyvWP8SEuMmFlue/qbz2xN5q5D84Ihp1jlb5v3lDji+MKeC/wX1RFtHZtT8=\",\"dtype\":\"float64\",\"shape\":[100]}},\"selected\":{\"id\":\"3516\",\"type\":\"Selection\"},\"selection_policy\":{\"id\":\"3517\",\"type\":\"UnionRenderers\"}},\"id\":\"3404\",\"type\":\"ColumnDataSource\"},{\"attributes\":{\"data_source\":{\"id\":\"3399\",\"type\":\"ColumnDataSource\"},\"glyph\":{\"id\":\"3400\",\"type\":\"Circle\"},\"hover_glyph\":null,\"muted_glyph\":null,\"nonselection_glyph\":{\"id\":\"3401\",\"type\":\"Circle\"},\"selection_glyph\":null,\"view\":{\"id\":\"3403\",\"type\":\"CDSView\"}},\"id\":\"3402\",\"type\":\"GlyphRenderer\"},{\"attributes\":{},\"id\":\"3516\",\"type\":\"Selection\"},{\"attributes\":{},\"id\":\"3384\",\"type\":\"PanTool\"},{\"attributes\":{\"data_source\":{\"id\":\"3404\",\"type\":\"ColumnDataSource\"},\"glyph\":{\"id\":\"3405\",\"type\":\"Circle\"},\"hover_glyph\":null,\"muted_glyph\":null,\"nonselection_glyph\":{\"id\":\"3406\",\"type\":\"Circle\"},\"selection_glyph\":null,\"view\":{\"id\":\"3408\",\"type\":\"CDSView\"}},\"id\":\"3407\",\"type\":\"GlyphRenderer\"},{\"attributes\":{},\"id\":\"3515\",\"type\":\"UnionRenderers\"},{\"attributes\":{\"callback\":null},\"id\":\"3368\",\"type\":\"DataRange1d\"},{\"attributes\":{\"plot\":null,\"text\":\"\"},\"id\":\"3508\",\"type\":\"Title\"},{\"attributes\":{\"band_fill_alpha\":{\"value\":0.1},\"band_fill_color\":{\"value\":\"green\"},\"bounds\":[-1,1],\"dimension\":1,\"plot\":{\"id\":\"3365\",\"subtype\":\"Figure\",\"type\":\"Plot\"},\"ticker\":{\"id\":\"3380\",\"type\":\"BasicTicker\"}},\"id\":\"3383\",\"type\":\"Grid\"},{\"attributes\":{},\"id\":\"3389\",\"type\":\"HelpTool\"},{\"attributes\":{\"formatter\":{\"id\":\"3513\",\"type\":\"BasicTickFormatter\"},\"plot\":{\"id\":\"3365\",\"subtype\":\"Figure\",\"type\":\"Plot\"},\"ticker\":{\"id\":\"3380\",\"type\":\"BasicTicker\"}},\"id\":\"3379\",\"type\":\"LinearAxis\"},{\"attributes\":{},\"id\":\"3372\",\"type\":\"LinearScale\"},{\"attributes\":{\"bottom_units\":\"screen\",\"fill_alpha\":{\"value\":0.5},\"fill_color\":{\"value\":\"lightgrey\"},\"left_units\":\"screen\",\"level\":\"overlay\",\"line_alpha\":{\"value\":1.0},\"line_color\":{\"value\":\"black\"},\"line_dash\":[4,4],\"line_width\":{\"value\":2},\"plot\":null,\"render_mode\":\"css\",\"right_units\":\"screen\",\"top_units\":\"screen\"},\"id\":\"3392\",\"type\":\"BoxAnnotation\"},{\"attributes\":{\"active_drag\":\"auto\",\"active_inspect\":\"auto\",\"active_multi\":null,\"active_scroll\":\"auto\",\"active_tap\":\"auto\",\"tools\":[{\"id\":\"3384\",\"type\":\"PanTool\"},{\"id\":\"3385\",\"type\":\"WheelZoomTool\"},{\"id\":\"3386\",\"type\":\"BoxZoomTool\"},{\"id\":\"3387\",\"type\":\"SaveTool\"},{\"id\":\"3388\",\"type\":\"ResetTool\"},{\"id\":\"3389\",\"type\":\"HelpTool\"}]},\"id\":\"3390\",\"type\":\"Toolbar\"},{\"attributes\":{},\"id\":\"3375\",\"type\":\"BasicTicker\"},{\"attributes\":{\"fill_alpha\":{\"value\":0.5},\"fill_color\":{\"value\":\"#FF0000\"},\"line_alpha\":{\"value\":0.5},\"line_color\":{\"value\":\"#FF0000\"},\"size\":{\"units\":\"screen\",\"value\":10},\"x\":{\"field\":\"x\"},\"y\":{\"field\":\"y\"}},\"id\":\"3405\",\"type\":\"Circle\"},{\"attributes\":{\"bounds\":[-1,1],\"grid_line_color\":{\"value\":null},\"plot\":{\"id\":\"3365\",\"subtype\":\"Figure\",\"type\":\"Plot\"},\"ticker\":{\"id\":\"3375\",\"type\":\"BasicTicker\"}},\"id\":\"3378\",\"type\":\"Grid\"},{\"attributes\":{\"callback\":null},\"id\":\"3366\",\"type\":\"DataRange1d\"}],\"root_ids\":[\"3365\"]},\"title\":\"Bokeh Application\",\"version\":\"1.0.4\"}};\n",
       "  var render_items = [{\"docid\":\"2acd458e-5a53-4ccf-8629-56ee0865539a\",\"roots\":{\"3365\":\"b9ebfca6-1907-4436-8a93-15134bbdaf9e\"}}];\n",
       "  root.Bokeh.embed.embed_items_notebook(docs_json, render_items);\n",
       "\n",
       "  }\n",
       "  if (root.Bokeh !== undefined) {\n",
       "    embed_document(root);\n",
       "  } else {\n",
       "    var attempts = 0;\n",
       "    var timer = setInterval(function(root) {\n",
       "      if (root.Bokeh !== undefined) {\n",
       "        embed_document(root);\n",
       "        clearInterval(timer);\n",
       "      }\n",
       "      attempts++;\n",
       "      if (attempts > 100) {\n",
       "        console.log(\"Bokeh: ERROR: Unable to run BokehJS code because BokehJS library is missing\");\n",
       "        clearInterval(timer);\n",
       "      }\n",
       "    }, 10, root)\n",
       "  }\n",
       "})(window);"
      ],
      "application/vnd.bokehjs_exec.v0+json": ""
     },
     "metadata": {
      "application/vnd.bokehjs_exec.v0+json": {
       "id": "3365"
      }
     },
     "output_type": "display_data"
    }
   ],
   "source": [
    "# Grid - 格网设置\n",
    "# 颜色填充\n",
    "\n",
    "p = figure(plot_width=600, plot_height=400)\n",
    "p.circle(df.index, df['A'], color = 'green', size=10,  alpha=0.5)\n",
    "p.circle(df.index, df['B'], color = '#FF0000', size=10,  alpha=0.5)\n",
    "# 绘制散点图\n",
    "\n",
    "p.xgrid.grid_line_color = None\n",
    "# 设置颜色为空\n",
    "\n",
    "p.ygrid.band_fill_alpha = 0.1\n",
    "p.ygrid.band_fill_color = 'green'\n",
    "# 设置颜色填充，及透明度\n",
    "\n",
    "p.grid.bounds = (-1,1)      # 设置填充边界\n",
    "show(p)"
   ]
  },
  {
   "cell_type": "code",
   "execution_count": 14,
   "metadata": {},
   "outputs": [
    {
     "data": {
      "text/html": [
       "\n",
       "\n",
       "\n",
       "\n",
       "\n",
       "\n",
       "  <div class=\"bk-root\" id=\"901a0526-f9b7-476a-9850-ca3cfc1a3d28\" data-root-id=\"3685\"></div>\n"
      ]
     },
     "metadata": {},
     "output_type": "display_data"
    },
    {
     "data": {
      "application/javascript": [
       "(function(root) {\n",
       "  function embed_document(root) {\n",
       "    \n",
       "  var docs_json = {\"34d0e4c9-17dd-4e76-b33b-852cc426837c\":{\"roots\":{\"references\":[{\"attributes\":{\"below\":[{\"id\":\"3694\",\"type\":\"LinearAxis\"}],\"left\":[{\"id\":\"3699\",\"type\":\"LinearAxis\"}],\"plot_height\":400,\"renderers\":[{\"id\":\"3694\",\"type\":\"LinearAxis\"},{\"id\":\"3698\",\"type\":\"Grid\"},{\"id\":\"3699\",\"type\":\"LinearAxis\"},{\"id\":\"3703\",\"type\":\"Grid\"},{\"id\":\"3712\",\"type\":\"BoxAnnotation\"},{\"id\":\"3731\",\"type\":\"Legend\"},{\"id\":\"3722\",\"type\":\"GlyphRenderer\"},{\"id\":\"3736\",\"type\":\"GlyphRenderer\"},{\"id\":\"3750\",\"type\":\"GlyphRenderer\"},{\"id\":\"3767\",\"type\":\"GlyphRenderer\"},{\"id\":\"3786\",\"type\":\"GlyphRenderer\"}],\"title\":{\"id\":\"3724\",\"type\":\"Title\"},\"toolbar\":{\"id\":\"3710\",\"type\":\"Toolbar\"},\"x_range\":{\"id\":\"3686\",\"type\":\"DataRange1d\"},\"x_scale\":{\"id\":\"3690\",\"type\":\"LinearScale\"},\"y_range\":{\"id\":\"3688\",\"type\":\"DataRange1d\"},\"y_scale\":{\"id\":\"3692\",\"type\":\"LinearScale\"}},\"id\":\"3685\",\"subtype\":\"Figure\",\"type\":\"Plot\"},{\"attributes\":{},\"id\":\"3708\",\"type\":\"ResetTool\"},{\"attributes\":{\"source\":{\"id\":\"3747\",\"type\":\"ColumnDataSource\"}},\"id\":\"3751\",\"type\":\"CDSView\"},{\"attributes\":{\"callback\":null,\"data\":{\"x\":{\"__ndarray__\":\"AAAAAAAAAACRGkt8Vz/AP5EaS3xXP9A/2qdwOgNf2D+RGkt8Vz/gPzXhXVstT+Q/2qdwOgNf6D9+boMZ2W7sP5EaS3xXP/A/433Ua0JH8j814V1bLU/0P4dE50oYV/Y/2qdwOgNf+D8sC/op7mb6P35ugxnZbvw/0NEMCcR2/j+RGkt8Vz8AQDrMD/RMQwFA433Ua0JHAkCML5njN0sDQDXhXVstTwRA3pIi0yJTBUCHROdKGFcGQDD2q8INWwdA2qdwOgNfCECDWTWy+GIJQCwL+inuZgpA1by+oeNqC0B+boMZ2W4MQCcgSJHOcg1A0NEMCcR2DkB5g9GAuXoPQJEaS3xXPxBAZnMtOFLBEEA6zA/0TEMRQA8l8q9HxRFA433Ua0JHEkC41rYnPckSQIwvmeM3SxNAYYh7nzLNE0A14V1bLU8UQAo6QBco0RRA3pIi0yJTFUCz6wSPHdUVQIdE50oYVxZAXJ3JBhPZFkAw9qvCDVsXQAVPjn4I3RdA2qdwOgNfGECuAFP2/eAYQINZNbL4YhlAV7IXbvPkGUAsC/op7mYaQABk3OXo6BpA1by+oeNqG0CpFaFd3uwbQH5ugxnZbhxAUsdl1dPwHEAnIEiRznIdQPt4Kk3J9B1A0NEMCcR2HkCkKu/EvvgeQHmD0YC5eh9ATdyzPLT8H0CRGkt8Vz8gQPtGPNpUgCBAZnMtOFLBIEDQnx6WTwIhQDrMD/RMQyFApPgAUkqEIUAPJfKvR8UhQHlR4w1FBiJA433Ua0JHIkBNqsXJP4giQLjWtic9ySJAIgOohToKI0CML5njN0sjQPZbikE1jCNAYYh7nzLNI0DLtGz9Lw4kQDXhXVstTyRAoA1PuSqQJEAKOkAXKNEkQHRmMXUlEiVA3pIi0yJTJUBJvxMxIJQlQLPrBI8d1SVAHRj27BoWJkCHROdKGFcmQPJw2KgVmCZAXJ3JBhPZJkDGybpkEBonQDD2q8INWydAmyKdIAucJ0AFT45+CN0nQG97f9wFHihA2qdwOgNfKEBE1GGYAKAoQK4AU/b94ChAGC1EVPshKUA=\",\"dtype\":\"float64\",\"shape\":[100]},\"y\":{\"__ndarray__\":\"AAAAAAAAAADwgwJ4LjTAP5qI2QHPEtA/+5MNU1HJ1z8ZTT7q2B3fP0aFmgwa+eI/ABg/lCAV5j+IQCEcMdboP3fOhmLzMOs/EyzujrQb7T/9Izwlj47uPxccgYyLg+8/g6xao7j27z9mZrL8O+bvP7+X94FZUu8/xVNiW3I97j9RB8Ai+6vsP5FWKYlppOo/oSg6uxkv6D/Sh2bxK1blPyZGRbpaJeI/8qg+VZVT3T/4C4p0qOPVP+UppLIiM8w/3FNHxZdVuD/J23zJpD6gv+3ENsZjOcS/wo12/ecH0r/dgWKM2KjZv2MTsJELcOC/83ixWvXH47+358MBZM7mv5eCD4nhdum/rExY6Hq267+TIxAn7YPtvwSssILL1+6/70I4BJ6s77/vOc8G+P7vvzTGy1KGze+/3176khQZ77/C8a4NiuTtvzGcHq/dNOy/l0FFlgER6r+EGZN4xoHnvx8WPFK3keS/Cli7+O1M4b+HQNqEwoHbv9kfIiFb+NO/gKyggGI5yL8EhrXMjDywvyGGtcyMPLA/jqyggGI5yD/gHyIhW/jTP4BA2oTCgds/DVi7+O1M4T8cFjxSt5HkP4cZk3jGgec/lUFFlgER6j8ynB6v3TTsP8Hxrg2K5O0/4F76khQZ7z80xstShs3vP+85zwb4/u8/8EI4BJ6s7z8DrLCCy9fuP5UjECftg+0/p0xY6Hq26z+Vgg+J4XbpP7fnwwFkzuY/9nixWvXH4z9dE7CRC3DgP9eBYozYqNk/w412/ecH0j/+xDbGYznEP0/bfMmkPqA/+FNHxZdVuL/UKaSyIjPMv+gLinSo49W/+Kg+VZVT3b8lRkW6WiXiv8+HZvErVuW/pig6uxkv6L+TVimJaaTqv1EHwCL7q+y/xFNiW3I97r/Al/eBWVLvv2Zmsvw75u+/g6xao7j2778YHIGMi4Pvv/sjPCWPju6/EyzujrQb7b94zoZi8zDrv4xAIRwx1ui//Bc/lCAV5r9GhZoMGvnivx5NPurYHd+/65MNU1HJ17+SiNkBzxLQv/GDAnguNMC/B1wUMyamwbw=\",\"dtype\":\"float64\",\"shape\":[100]}},\"selected\":{\"id\":\"3760\",\"type\":\"Selection\"},\"selection_policy\":{\"id\":\"3761\",\"type\":\"UnionRenderers\"}},\"id\":\"3733\",\"type\":\"ColumnDataSource\"},{\"attributes\":{\"callback\":null},\"id\":\"3686\",\"type\":\"DataRange1d\"},{\"attributes\":{},\"id\":\"3709\",\"type\":\"HelpTool\"},{\"attributes\":{},\"id\":\"3760\",\"type\":\"Selection\"},{\"attributes\":{},\"id\":\"3927\",\"type\":\"Selection\"},{\"attributes\":{},\"id\":\"3928\",\"type\":\"UnionRenderers\"},{\"attributes\":{\"active_drag\":\"auto\",\"active_inspect\":\"auto\",\"active_multi\":null,\"active_scroll\":\"auto\",\"active_tap\":\"auto\",\"tools\":[{\"id\":\"3704\",\"type\":\"PanTool\"},{\"id\":\"3705\",\"type\":\"WheelZoomTool\"},{\"id\":\"3706\",\"type\":\"BoxZoomTool\"},{\"id\":\"3707\",\"type\":\"SaveTool\"},{\"id\":\"3708\",\"type\":\"ResetTool\"},{\"id\":\"3709\",\"type\":\"HelpTool\"}]},\"id\":\"3710\",\"type\":\"Toolbar\"},{\"attributes\":{},\"id\":\"3761\",\"type\":\"UnionRenderers\"},{\"attributes\":{},\"id\":\"3744\",\"type\":\"Selection\"},{\"attributes\":{\"label\":{\"value\":\"2*sin(x)\"},\"renderers\":[{\"id\":\"3750\",\"type\":\"GlyphRenderer\"}]},\"id\":\"3763\",\"type\":\"LegendItem\"},{\"attributes\":{\"callback\":null},\"id\":\"3688\",\"type\":\"DataRange1d\"},{\"attributes\":{\"data_source\":{\"id\":\"3719\",\"type\":\"ColumnDataSource\"},\"glyph\":{\"id\":\"3720\",\"type\":\"Circle\"},\"hover_glyph\":null,\"muted_glyph\":null,\"nonselection_glyph\":{\"id\":\"3721\",\"type\":\"Circle\"},\"selection_glyph\":null,\"view\":{\"id\":\"3723\",\"type\":\"CDSView\"}},\"id\":\"3722\",\"type\":\"GlyphRenderer\"},{\"attributes\":{},\"id\":\"3704\",\"type\":\"PanTool\"},{\"attributes\":{\"callback\":null,\"data\":{\"x\":{\"__ndarray__\":\"AAAAAAAAAACRGkt8Vz/AP5EaS3xXP9A/2qdwOgNf2D+RGkt8Vz/gPzXhXVstT+Q/2qdwOgNf6D9+boMZ2W7sP5EaS3xXP/A/433Ua0JH8j814V1bLU/0P4dE50oYV/Y/2qdwOgNf+D8sC/op7mb6P35ugxnZbvw/0NEMCcR2/j+RGkt8Vz8AQDrMD/RMQwFA433Ua0JHAkCML5njN0sDQDXhXVstTwRA3pIi0yJTBUCHROdKGFcGQDD2q8INWwdA2qdwOgNfCECDWTWy+GIJQCwL+inuZgpA1by+oeNqC0B+boMZ2W4MQCcgSJHOcg1A0NEMCcR2DkB5g9GAuXoPQJEaS3xXPxBAZnMtOFLBEEA6zA/0TEMRQA8l8q9HxRFA433Ua0JHEkC41rYnPckSQIwvmeM3SxNAYYh7nzLNE0A14V1bLU8UQAo6QBco0RRA3pIi0yJTFUCz6wSPHdUVQIdE50oYVxZAXJ3JBhPZFkAw9qvCDVsXQAVPjn4I3RdA2qdwOgNfGECuAFP2/eAYQINZNbL4YhlAV7IXbvPkGUAsC/op7mYaQABk3OXo6BpA1by+oeNqG0CpFaFd3uwbQH5ugxnZbhxAUsdl1dPwHEAnIEiRznIdQPt4Kk3J9B1A0NEMCcR2HkCkKu/EvvgeQHmD0YC5eh9ATdyzPLT8H0CRGkt8Vz8gQPtGPNpUgCBAZnMtOFLBIEDQnx6WTwIhQDrMD/RMQyFApPgAUkqEIUAPJfKvR8UhQHlR4w1FBiJA433Ua0JHIkBNqsXJP4giQLjWtic9ySJAIgOohToKI0CML5njN0sjQPZbikE1jCNAYYh7nzLNI0DLtGz9Lw4kQDXhXVstTyRAoA1PuSqQJEAKOkAXKNEkQHRmMXUlEiVA3pIi0yJTJUBJvxMxIJQlQLPrBI8d1SVAHRj27BoWJkCHROdKGFcmQPJw2KgVmCZAXJ3JBhPZJkDGybpkEBonQDD2q8INWydAmyKdIAucJ0AFT45+CN0nQG97f9wFHihA2qdwOgNfKEBE1GGYAKAoQK4AU/b94ChAGC1EVPshKUA=\",\"dtype\":\"float64\",\"shape\":[100]},\"y\":{\"__ndarray__\":\"AAAAAAAAAADoxQO0RU7YP+dMxoI2HOg//C5K/vzW8T/Tua6vYlb3P+nH5xKndfw/AFIvb9iPAEBm8BjVpKACQNka5Ym2ZARADqEya8fUBUD+Gu1b6+oGQBHVYKmoogdAYgGEegr5B0DMzIX9rOwHQM+xeSHDfQdA1L6JxBWuBkB9BRBa/IAFQO0A3yZP+wNAeZ5rTFMjAkDe5Qz1oAAAQDnpZxcIOPs/tv7u/6/+9T/6iGdXvmrwP2wf+wVaJuU/5X710zFA0j+uSTsu9124v2QnUqkVVt6/o9Qx/NsL679m4Ulpoj7zvxQdiFoRqPi/bDUKCPCr/b/J7VIByxoBwPGhyyYpGQPAgTlCLtzIBMCuGkzd8SIGwAOBBKLYIQfAMzIqg3bBB8BzaxsFOv8HwKfUGL4k2gfAJ8c7bs9SB8BSNUOKZ2sGwCX1VkOmJwXAMfGzMMGMA8AjU27aVKEBwC4hWvuS2v6/DwQZ9WTz+b9lsKPjUaH0v8Yvs7GI9O2/YIF44Akr4r8GSRAz01rIvzJJEDPTWsg/aoF44Akr4j/QL7OxiPTtP2Cwo+NRofQ/FAQZ9WTz+T8qIVr7ktr+PyVTbtpUoQFAMPGzMMGMA0Am9VZDpicFQFE1Q4pnawZAKMc7bs9SB0Cn1Bi+JNoHQHNrGwU6/wdANDIqg3bBB0ACgQSi2CEHQLAaTN3xIgZAfTlCLtzIBEDwocsmKRkDQMntUgHLGgFAcTUKCPCr/T8MHYhaEaj4P2HhSWmiPvM/pNQx/NsL6z99J1KpFVbeP/ZIOy73Xbg/+n710zFA0r9fH/sFWiblv+6IZ1e+avC/uv7u/6/+9b846WcXCDj7v9vlDPWgAADAfJ5rTFMjAsDuAN8mT/sDwH0FEFr8gAXA076JxBWuBsDQsXkhw30HwMzMhf2s7AfAYgGEegr5B8AS1WCpqKIHwPwa7Vvr6gbADqEya8fUBcDaGuWJtmQEwGnwGNWkoALA/VEvb9iPAMDpx+cSp3X8v9a5rq9iVve/8C5K/vzW8b/bTMaCNhzov+rFA7RFTti/CoqeTDl52rw=\",\"dtype\":\"float64\",\"shape\":[100]}},\"selected\":{\"id\":\"3927\",\"type\":\"Selection\"},\"selection_policy\":{\"id\":\"3928\",\"type\":\"UnionRenderers\"}},\"id\":\"3783\",\"type\":\"ColumnDataSource\"},{\"attributes\":{\"source\":{\"id\":\"3733\",\"type\":\"ColumnDataSource\"}},\"id\":\"3737\",\"type\":\"CDSView\"},{\"attributes\":{\"source\":{\"id\":\"3719\",\"type\":\"ColumnDataSource\"}},\"id\":\"3723\",\"type\":\"CDSView\"},{\"attributes\":{\"line_alpha\":0.1,\"line_color\":\"#1f77b4\",\"line_dash\":[4,2],\"line_width\":2,\"x\":{\"field\":\"x\"},\"y\":{\"field\":\"y\"}},\"id\":\"3749\",\"type\":\"Line\"},{\"attributes\":{\"fill_color\":{\"value\":null},\"line_color\":{\"value\":\"green\"},\"x\":{\"field\":\"x\"},\"y\":{\"field\":\"y\"}},\"id\":\"3765\",\"type\":\"Square\"},{\"attributes\":{\"data_source\":{\"id\":\"3747\",\"type\":\"ColumnDataSource\"},\"glyph\":{\"id\":\"3748\",\"type\":\"Line\"},\"hover_glyph\":null,\"muted_glyph\":null,\"nonselection_glyph\":{\"id\":\"3749\",\"type\":\"Line\"},\"selection_glyph\":null,\"view\":{\"id\":\"3751\",\"type\":\"CDSView\"}},\"id\":\"3750\",\"type\":\"GlyphRenderer\"},{\"attributes\":{},\"id\":\"3729\",\"type\":\"BasicTickFormatter\"},{\"attributes\":{\"fill_alpha\":{\"value\":0.1},\"fill_color\":{\"value\":\"#1f77b4\"},\"line_alpha\":{\"value\":0.1},\"line_color\":{\"value\":\"#1f77b4\"},\"x\":{\"field\":\"x\"},\"y\":{\"field\":\"y\"}},\"id\":\"3766\",\"type\":\"Square\"},{\"attributes\":{},\"id\":\"3705\",\"type\":\"WheelZoomTool\"},{\"attributes\":{\"data_source\":{\"id\":\"3764\",\"type\":\"ColumnDataSource\"},\"glyph\":{\"id\":\"3765\",\"type\":\"Square\"},\"hover_glyph\":null,\"muted_glyph\":null,\"nonselection_glyph\":{\"id\":\"3766\",\"type\":\"Square\"},\"selection_glyph\":null,\"view\":{\"id\":\"3768\",\"type\":\"CDSView\"}},\"id\":\"3767\",\"type\":\"GlyphRenderer\"},{\"attributes\":{},\"id\":\"3727\",\"type\":\"BasicTickFormatter\"},{\"attributes\":{\"plot\":null,\"text\":\"\"},\"id\":\"3724\",\"type\":\"Title\"},{\"attributes\":{},\"id\":\"3801\",\"type\":\"UnionRenderers\"},{\"attributes\":{},\"id\":\"3695\",\"type\":\"BasicTicker\"},{\"attributes\":{\"source\":{\"id\":\"3764\",\"type\":\"ColumnDataSource\"}},\"id\":\"3768\",\"type\":\"CDSView\"},{\"attributes\":{\"formatter\":{\"id\":\"3727\",\"type\":\"BasicTickFormatter\"},\"plot\":{\"id\":\"3685\",\"subtype\":\"Figure\",\"type\":\"Plot\"},\"ticker\":{\"id\":\"3695\",\"type\":\"BasicTicker\"}},\"id\":\"3694\",\"type\":\"LinearAxis\"},{\"attributes\":{\"background_fill_alpha\":{\"value\":0.2},\"background_fill_color\":{\"value\":\"gray\"},\"border_line_color\":{\"value\":\"black\"},\"border_line_width\":{\"value\":2},\"items\":[{\"id\":\"3732\",\"type\":\"LegendItem\"},{\"id\":\"3763\",\"type\":\"LegendItem\"},{\"id\":\"3782\",\"type\":\"LegendItem\"}],\"label_text_color\":{\"value\":\"black\"},\"label_text_font\":\"times\",\"label_text_font_size\":{\"value\":\"12pt\"},\"label_text_font_style\":\"italic\",\"plot\":{\"id\":\"3685\",\"subtype\":\"Figure\",\"type\":\"Plot\"}},\"id\":\"3731\",\"type\":\"Legend\"},{\"attributes\":{},\"id\":\"3690\",\"type\":\"LinearScale\"},{\"attributes\":{\"callback\":null,\"data\":{\"x\":{\"__ndarray__\":\"AAAAAAAAAACRGkt8Vz/AP5EaS3xXP9A/2qdwOgNf2D+RGkt8Vz/gPzXhXVstT+Q/2qdwOgNf6D9+boMZ2W7sP5EaS3xXP/A/433Ua0JH8j814V1bLU/0P4dE50oYV/Y/2qdwOgNf+D8sC/op7mb6P35ugxnZbvw/0NEMCcR2/j+RGkt8Vz8AQDrMD/RMQwFA433Ua0JHAkCML5njN0sDQDXhXVstTwRA3pIi0yJTBUCHROdKGFcGQDD2q8INWwdA2qdwOgNfCECDWTWy+GIJQCwL+inuZgpA1by+oeNqC0B+boMZ2W4MQCcgSJHOcg1A0NEMCcR2DkB5g9GAuXoPQJEaS3xXPxBAZnMtOFLBEEA6zA/0TEMRQA8l8q9HxRFA433Ua0JHEkC41rYnPckSQIwvmeM3SxNAYYh7nzLNE0A14V1bLU8UQAo6QBco0RRA3pIi0yJTFUCz6wSPHdUVQIdE50oYVxZAXJ3JBhPZFkAw9qvCDVsXQAVPjn4I3RdA2qdwOgNfGECuAFP2/eAYQINZNbL4YhlAV7IXbvPkGUAsC/op7mYaQABk3OXo6BpA1by+oeNqG0CpFaFd3uwbQH5ugxnZbhxAUsdl1dPwHEAnIEiRznIdQPt4Kk3J9B1A0NEMCcR2HkCkKu/EvvgeQHmD0YC5eh9ATdyzPLT8H0CRGkt8Vz8gQPtGPNpUgCBAZnMtOFLBIEDQnx6WTwIhQDrMD/RMQyFApPgAUkqEIUAPJfKvR8UhQHlR4w1FBiJA433Ua0JHIkBNqsXJP4giQLjWtic9ySJAIgOohToKI0CML5njN0sjQPZbikE1jCNAYYh7nzLNI0DLtGz9Lw4kQDXhXVstTyRAoA1PuSqQJEAKOkAXKNEkQHRmMXUlEiVA3pIi0yJTJUBJvxMxIJQlQLPrBI8d1SVAHRj27BoWJkCHROdKGFcmQPJw2KgVmCZAXJ3JBhPZJkDGybpkEBonQDD2q8INWydAmyKdIAucJ0AFT45+CN0nQG97f9wFHihA2qdwOgNfKEBE1GGYAKAoQK4AU/b94ChAGC1EVPshKUA=\",\"dtype\":\"float64\",\"shape\":[100]},\"y\":{\"__ndarray__\":\"AAAAAAAAAADoxQO0RU7YP+dMxoI2HOg//C5K/vzW8T/Tua6vYlb3P+nH5xKndfw/AFIvb9iPAEBm8BjVpKACQNka5Ym2ZARADqEya8fUBUD+Gu1b6+oGQBHVYKmoogdAYgGEegr5B0DMzIX9rOwHQM+xeSHDfQdA1L6JxBWuBkB9BRBa/IAFQO0A3yZP+wNAeZ5rTFMjAkDe5Qz1oAAAQDnpZxcIOPs/tv7u/6/+9T/6iGdXvmrwP2wf+wVaJuU/5X710zFA0j+uSTsu9124v2QnUqkVVt6/o9Qx/NsL679m4Ulpoj7zvxQdiFoRqPi/bDUKCPCr/b/J7VIByxoBwPGhyyYpGQPAgTlCLtzIBMCuGkzd8SIGwAOBBKLYIQfAMzIqg3bBB8BzaxsFOv8HwKfUGL4k2gfAJ8c7bs9SB8BSNUOKZ2sGwCX1VkOmJwXAMfGzMMGMA8AjU27aVKEBwC4hWvuS2v6/DwQZ9WTz+b9lsKPjUaH0v8Yvs7GI9O2/YIF44Akr4r8GSRAz01rIvzJJEDPTWsg/aoF44Akr4j/QL7OxiPTtP2Cwo+NRofQ/FAQZ9WTz+T8qIVr7ktr+PyVTbtpUoQFAMPGzMMGMA0Am9VZDpicFQFE1Q4pnawZAKMc7bs9SB0Cn1Bi+JNoHQHNrGwU6/wdANDIqg3bBB0ACgQSi2CEHQLAaTN3xIgZAfTlCLtzIBEDwocsmKRkDQMntUgHLGgFAcTUKCPCr/T8MHYhaEaj4P2HhSWmiPvM/pNQx/NsL6z99J1KpFVbeP/ZIOy73Xbg/+n710zFA0r9fH/sFWiblv+6IZ1e+avC/uv7u/6/+9b846WcXCDj7v9vlDPWgAADAfJ5rTFMjAsDuAN8mT/sDwH0FEFr8gAXA076JxBWuBsDQsXkhw30HwMzMhf2s7AfAYgGEegr5B8AS1WCpqKIHwPwa7Vvr6gbADqEya8fUBcDaGuWJtmQEwGnwGNWkoALA/VEvb9iPAMDpx+cSp3X8v9a5rq9iVve/8C5K/vzW8b/bTMaCNhzov+rFA7RFTti/CoqeTDl52rw=\",\"dtype\":\"float64\",\"shape\":[100]}},\"selected\":{\"id\":\"3800\",\"type\":\"Selection\"},\"selection_policy\":{\"id\":\"3801\",\"type\":\"UnionRenderers\"}},\"id\":\"3764\",\"type\":\"ColumnDataSource\"},{\"attributes\":{},\"id\":\"3692\",\"type\":\"LinearScale\"},{\"attributes\":{},\"id\":\"3780\",\"type\":\"UnionRenderers\"},{\"attributes\":{},\"id\":\"3800\",\"type\":\"Selection\"},{\"attributes\":{\"label\":{\"value\":\"sin(x)\"},\"renderers\":[{\"id\":\"3722\",\"type\":\"GlyphRenderer\"},{\"id\":\"3736\",\"type\":\"GlyphRenderer\"}]},\"id\":\"3732\",\"type\":\"LegendItem\"},{\"attributes\":{\"label\":{\"value\":\"3*sin(x)\"},\"renderers\":[{\"id\":\"3767\",\"type\":\"GlyphRenderer\"},{\"id\":\"3786\",\"type\":\"GlyphRenderer\"}]},\"id\":\"3782\",\"type\":\"LegendItem\"},{\"attributes\":{},\"id\":\"3779\",\"type\":\"Selection\"},{\"attributes\":{\"plot\":{\"id\":\"3685\",\"subtype\":\"Figure\",\"type\":\"Plot\"},\"ticker\":{\"id\":\"3695\",\"type\":\"BasicTicker\"}},\"id\":\"3698\",\"type\":\"Grid\"},{\"attributes\":{\"callback\":null,\"data\":{\"x\":{\"__ndarray__\":\"AAAAAAAAAACRGkt8Vz/AP5EaS3xXP9A/2qdwOgNf2D+RGkt8Vz/gPzXhXVstT+Q/2qdwOgNf6D9+boMZ2W7sP5EaS3xXP/A/433Ua0JH8j814V1bLU/0P4dE50oYV/Y/2qdwOgNf+D8sC/op7mb6P35ugxnZbvw/0NEMCcR2/j+RGkt8Vz8AQDrMD/RMQwFA433Ua0JHAkCML5njN0sDQDXhXVstTwRA3pIi0yJTBUCHROdKGFcGQDD2q8INWwdA2qdwOgNfCECDWTWy+GIJQCwL+inuZgpA1by+oeNqC0B+boMZ2W4MQCcgSJHOcg1A0NEMCcR2DkB5g9GAuXoPQJEaS3xXPxBAZnMtOFLBEEA6zA/0TEMRQA8l8q9HxRFA433Ua0JHEkC41rYnPckSQIwvmeM3SxNAYYh7nzLNE0A14V1bLU8UQAo6QBco0RRA3pIi0yJTFUCz6wSPHdUVQIdE50oYVxZAXJ3JBhPZFkAw9qvCDVsXQAVPjn4I3RdA2qdwOgNfGECuAFP2/eAYQINZNbL4YhlAV7IXbvPkGUAsC/op7mYaQABk3OXo6BpA1by+oeNqG0CpFaFd3uwbQH5ugxnZbhxAUsdl1dPwHEAnIEiRznIdQPt4Kk3J9B1A0NEMCcR2HkCkKu/EvvgeQHmD0YC5eh9ATdyzPLT8H0CRGkt8Vz8gQPtGPNpUgCBAZnMtOFLBIEDQnx6WTwIhQDrMD/RMQyFApPgAUkqEIUAPJfKvR8UhQHlR4w1FBiJA433Ua0JHIkBNqsXJP4giQLjWtic9ySJAIgOohToKI0CML5njN0sjQPZbikE1jCNAYYh7nzLNI0DLtGz9Lw4kQDXhXVstTyRAoA1PuSqQJEAKOkAXKNEkQHRmMXUlEiVA3pIi0yJTJUBJvxMxIJQlQLPrBI8d1SVAHRj27BoWJkCHROdKGFcmQPJw2KgVmCZAXJ3JBhPZJkDGybpkEBonQDD2q8INWydAmyKdIAucJ0AFT45+CN0nQG97f9wFHihA2qdwOgNfKEBE1GGYAKAoQK4AU/b94ChAGC1EVPshKUA=\",\"dtype\":\"float64\",\"shape\":[100]},\"y\":{\"__ndarray__\":\"AAAAAAAAAADwgwJ4LjTQP5qI2QHPEuA/+5MNU1HJ5z8ZTT7q2B3vP0aFmgwa+fI/ABg/lCAV9j+IQCEcMdb4P3fOhmLzMPs/EyzujrQb/T/9Izwlj47+PxccgYyLg/8/g6xao7j2/z9mZrL8O+b/P7+X94FZUv8/xVNiW3I9/j9RB8Ai+6v8P5FWKYlppPo/oSg6uxkv+D/Sh2bxK1b1PyZGRbpaJfI/8qg+VZVT7T/4C4p0qOPlP+UppLIiM9w/3FNHxZdVyD/J23zJpD6wv+3ENsZjOdS/wo12/ecH4r/dgWKM2Kjpv2MTsJELcPC/83ixWvXH87+358MBZM72v5eCD4nhdvm/rExY6Hq2+7+TIxAn7YP9vwSssILL1/6/70I4BJ6s/7/vOc8G+P7/vzTGy1KGzf+/3176khQZ/7/C8a4NiuT9vzGcHq/dNPy/l0FFlgER+r+EGZN4xoH3vx8WPFK3kfS/Cli7+O1M8b+HQNqEwoHrv9kfIiFb+OO/gKyggGI52L8EhrXMjDzAvyGGtcyMPMA/jqyggGI52D/gHyIhW/jjP4BA2oTCges/DVi7+O1M8T8cFjxSt5H0P4cZk3jGgfc/lUFFlgER+j8ynB6v3TT8P8Hxrg2K5P0/4F76khQZ/z80xstShs3/P+85zwb4/v8/8EI4BJ6s/z8DrLCCy9f+P5UjECftg/0/p0xY6Hq2+z+Vgg+J4Xb5P7fnwwFkzvY/9nixWvXH8z9dE7CRC3DwP9eBYozYqOk/w412/ecH4j/+xDbGYznUP0/bfMmkPrA/+FNHxZdVyL/UKaSyIjPcv+gLinSo4+W/+Kg+VZVT7b8lRkW6WiXyv8+HZvErVvW/pig6uxkv+L+TVimJaaT6v1EHwCL7q/y/xFNiW3I9/r/Al/eBWVL/v2Zmsvw75v+/g6xao7j2/78YHIGMi4P/v/sjPCWPjv6/EyzujrQb/b94zoZi8zD7v4xAIRwx1vi//Bc/lCAV9r9GhZoMGvnyvx5NPurYHe+/65MNU1HJ57+SiNkBzxLgv/GDAnguNNC/B1wUMyam0bw=\",\"dtype\":\"float64\",\"shape\":[100]}},\"selected\":{\"id\":\"3779\",\"type\":\"Selection\"},\"selection_policy\":{\"id\":\"3780\",\"type\":\"UnionRenderers\"}},\"id\":\"3747\",\"type\":\"ColumnDataSource\"},{\"attributes\":{\"fill_color\":{\"value\":\"#1f77b4\"},\"line_color\":{\"value\":\"#1f77b4\"},\"x\":{\"field\":\"x\"},\"y\":{\"field\":\"y\"}},\"id\":\"3720\",\"type\":\"Circle\"},{\"attributes\":{\"line_color\":\"#1f77b4\",\"x\":{\"field\":\"x\"},\"y\":{\"field\":\"y\"}},\"id\":\"3734\",\"type\":\"Line\"},{\"attributes\":{\"line_color\":\"green\",\"x\":{\"field\":\"x\"},\"y\":{\"field\":\"y\"}},\"id\":\"3784\",\"type\":\"Line\"},{\"attributes\":{\"formatter\":{\"id\":\"3729\",\"type\":\"BasicTickFormatter\"},\"plot\":{\"id\":\"3685\",\"subtype\":\"Figure\",\"type\":\"Plot\"},\"ticker\":{\"id\":\"3700\",\"type\":\"BasicTicker\"}},\"id\":\"3699\",\"type\":\"LinearAxis\"},{\"attributes\":{\"callback\":null,\"data\":{\"x\":{\"__ndarray__\":\"AAAAAAAAAACRGkt8Vz/AP5EaS3xXP9A/2qdwOgNf2D+RGkt8Vz/gPzXhXVstT+Q/2qdwOgNf6D9+boMZ2W7sP5EaS3xXP/A/433Ua0JH8j814V1bLU/0P4dE50oYV/Y/2qdwOgNf+D8sC/op7mb6P35ugxnZbvw/0NEMCcR2/j+RGkt8Vz8AQDrMD/RMQwFA433Ua0JHAkCML5njN0sDQDXhXVstTwRA3pIi0yJTBUCHROdKGFcGQDD2q8INWwdA2qdwOgNfCECDWTWy+GIJQCwL+inuZgpA1by+oeNqC0B+boMZ2W4MQCcgSJHOcg1A0NEMCcR2DkB5g9GAuXoPQJEaS3xXPxBAZnMtOFLBEEA6zA/0TEMRQA8l8q9HxRFA433Ua0JHEkC41rYnPckSQIwvmeM3SxNAYYh7nzLNE0A14V1bLU8UQAo6QBco0RRA3pIi0yJTFUCz6wSPHdUVQIdE50oYVxZAXJ3JBhPZFkAw9qvCDVsXQAVPjn4I3RdA2qdwOgNfGECuAFP2/eAYQINZNbL4YhlAV7IXbvPkGUAsC/op7mYaQABk3OXo6BpA1by+oeNqG0CpFaFd3uwbQH5ugxnZbhxAUsdl1dPwHEAnIEiRznIdQPt4Kk3J9B1A0NEMCcR2HkCkKu/EvvgeQHmD0YC5eh9ATdyzPLT8H0CRGkt8Vz8gQPtGPNpUgCBAZnMtOFLBIEDQnx6WTwIhQDrMD/RMQyFApPgAUkqEIUAPJfKvR8UhQHlR4w1FBiJA433Ua0JHIkBNqsXJP4giQLjWtic9ySJAIgOohToKI0CML5njN0sjQPZbikE1jCNAYYh7nzLNI0DLtGz9Lw4kQDXhXVstTyRAoA1PuSqQJEAKOkAXKNEkQHRmMXUlEiVA3pIi0yJTJUBJvxMxIJQlQLPrBI8d1SVAHRj27BoWJkCHROdKGFcmQPJw2KgVmCZAXJ3JBhPZJkDGybpkEBonQDD2q8INWydAmyKdIAucJ0AFT45+CN0nQG97f9wFHihA2qdwOgNfKEBE1GGYAKAoQK4AU/b94ChAGC1EVPshKUA=\",\"dtype\":\"float64\",\"shape\":[100]},\"y\":{\"__ndarray__\":\"AAAAAAAAAADwgwJ4LjTAP5qI2QHPEtA/+5MNU1HJ1z8ZTT7q2B3fP0aFmgwa+eI/ABg/lCAV5j+IQCEcMdboP3fOhmLzMOs/EyzujrQb7T/9Izwlj47uPxccgYyLg+8/g6xao7j27z9mZrL8O+bvP7+X94FZUu8/xVNiW3I97j9RB8Ai+6vsP5FWKYlppOo/oSg6uxkv6D/Sh2bxK1blPyZGRbpaJeI/8qg+VZVT3T/4C4p0qOPVP+UppLIiM8w/3FNHxZdVuD/J23zJpD6gv+3ENsZjOcS/wo12/ecH0r/dgWKM2KjZv2MTsJELcOC/83ixWvXH47+358MBZM7mv5eCD4nhdum/rExY6Hq267+TIxAn7YPtvwSssILL1+6/70I4BJ6s77/vOc8G+P7vvzTGy1KGze+/3176khQZ77/C8a4NiuTtvzGcHq/dNOy/l0FFlgER6r+EGZN4xoHnvx8WPFK3keS/Cli7+O1M4b+HQNqEwoHbv9kfIiFb+NO/gKyggGI5yL8EhrXMjDywvyGGtcyMPLA/jqyggGI5yD/gHyIhW/jTP4BA2oTCgds/DVi7+O1M4T8cFjxSt5HkP4cZk3jGgec/lUFFlgER6j8ynB6v3TTsP8Hxrg2K5O0/4F76khQZ7z80xstShs3vP+85zwb4/u8/8EI4BJ6s7z8DrLCCy9fuP5UjECftg+0/p0xY6Hq26z+Vgg+J4XbpP7fnwwFkzuY/9nixWvXH4z9dE7CRC3DgP9eBYozYqNk/w412/ecH0j/+xDbGYznEP0/bfMmkPqA/+FNHxZdVuL/UKaSyIjPMv+gLinSo49W/+Kg+VZVT3b8lRkW6WiXiv8+HZvErVuW/pig6uxkv6L+TVimJaaTqv1EHwCL7q+y/xFNiW3I97r/Al/eBWVLvv2Zmsvw75u+/g6xao7j2778YHIGMi4Pvv/sjPCWPju6/EyzujrQb7b94zoZi8zDrv4xAIRwx1ui//Bc/lCAV5r9GhZoMGvnivx5NPurYHd+/65MNU1HJ17+SiNkBzxLQv/GDAnguNMC/B1wUMyamwbw=\",\"dtype\":\"float64\",\"shape\":[100]}},\"selected\":{\"id\":\"3744\",\"type\":\"Selection\"},\"selection_policy\":{\"id\":\"3745\",\"type\":\"UnionRenderers\"}},\"id\":\"3719\",\"type\":\"ColumnDataSource\"},{\"attributes\":{\"overlay\":{\"id\":\"3712\",\"type\":\"BoxAnnotation\"}},\"id\":\"3706\",\"type\":\"BoxZoomTool\"},{\"attributes\":{\"line_alpha\":0.1,\"line_color\":\"#1f77b4\",\"x\":{\"field\":\"x\"},\"y\":{\"field\":\"y\"}},\"id\":\"3785\",\"type\":\"Line\"},{\"attributes\":{\"line_alpha\":0.1,\"line_color\":\"#1f77b4\",\"x\":{\"field\":\"x\"},\"y\":{\"field\":\"y\"}},\"id\":\"3735\",\"type\":\"Line\"},{\"attributes\":{},\"id\":\"3700\",\"type\":\"BasicTicker\"},{\"attributes\":{\"data_source\":{\"id\":\"3783\",\"type\":\"ColumnDataSource\"},\"glyph\":{\"id\":\"3784\",\"type\":\"Line\"},\"hover_glyph\":null,\"muted_glyph\":null,\"nonselection_glyph\":{\"id\":\"3785\",\"type\":\"Line\"},\"selection_glyph\":null,\"view\":{\"id\":\"3787\",\"type\":\"CDSView\"}},\"id\":\"3786\",\"type\":\"GlyphRenderer\"},{\"attributes\":{\"data_source\":{\"id\":\"3733\",\"type\":\"ColumnDataSource\"},\"glyph\":{\"id\":\"3734\",\"type\":\"Line\"},\"hover_glyph\":null,\"muted_glyph\":null,\"nonselection_glyph\":{\"id\":\"3735\",\"type\":\"Line\"},\"selection_glyph\":null,\"view\":{\"id\":\"3737\",\"type\":\"CDSView\"}},\"id\":\"3736\",\"type\":\"GlyphRenderer\"},{\"attributes\":{\"bottom_units\":\"screen\",\"fill_alpha\":{\"value\":0.5},\"fill_color\":{\"value\":\"lightgrey\"},\"left_units\":\"screen\",\"level\":\"overlay\",\"line_alpha\":{\"value\":1.0},\"line_color\":{\"value\":\"black\"},\"line_dash\":[4,4],\"line_width\":{\"value\":2},\"plot\":null,\"render_mode\":\"css\",\"right_units\":\"screen\",\"top_units\":\"screen\"},\"id\":\"3712\",\"type\":\"BoxAnnotation\"},{\"attributes\":{\"source\":{\"id\":\"3783\",\"type\":\"ColumnDataSource\"}},\"id\":\"3787\",\"type\":\"CDSView\"},{\"attributes\":{\"dimension\":1,\"plot\":{\"id\":\"3685\",\"subtype\":\"Figure\",\"type\":\"Plot\"},\"ticker\":{\"id\":\"3700\",\"type\":\"BasicTicker\"}},\"id\":\"3703\",\"type\":\"Grid\"},{\"attributes\":{\"line_color\":\"red\",\"line_dash\":[4,2],\"line_width\":2,\"x\":{\"field\":\"x\"},\"y\":{\"field\":\"y\"}},\"id\":\"3748\",\"type\":\"Line\"},{\"attributes\":{\"fill_alpha\":{\"value\":0.1},\"fill_color\":{\"value\":\"#1f77b4\"},\"line_alpha\":{\"value\":0.1},\"line_color\":{\"value\":\"#1f77b4\"},\"x\":{\"field\":\"x\"},\"y\":{\"field\":\"y\"}},\"id\":\"3721\",\"type\":\"Circle\"},{\"attributes\":{},\"id\":\"3707\",\"type\":\"SaveTool\"},{\"attributes\":{},\"id\":\"3745\",\"type\":\"UnionRenderers\"}],\"root_ids\":[\"3685\"]},\"title\":\"Bokeh Application\",\"version\":\"1.0.4\"}};\n",
       "  var render_items = [{\"docid\":\"34d0e4c9-17dd-4e76-b33b-852cc426837c\",\"roots\":{\"3685\":\"901a0526-f9b7-476a-9850-ca3cfc1a3d28\"}}];\n",
       "  root.Bokeh.embed.embed_items_notebook(docs_json, render_items);\n",
       "\n",
       "  }\n",
       "  if (root.Bokeh !== undefined) {\n",
       "    embed_document(root);\n",
       "  } else {\n",
       "    var attempts = 0;\n",
       "    var timer = setInterval(function(root) {\n",
       "      if (root.Bokeh !== undefined) {\n",
       "        embed_document(root);\n",
       "        clearInterval(timer);\n",
       "      }\n",
       "      attempts++;\n",
       "      if (attempts > 100) {\n",
       "        console.log(\"Bokeh: ERROR: Unable to run BokehJS code because BokehJS library is missing\");\n",
       "        clearInterval(timer);\n",
       "      }\n",
       "    }, 10, root)\n",
       "  }\n",
       "})(window);"
      ],
      "application/vnd.bokehjs_exec.v0+json": ""
     },
     "metadata": {
      "application/vnd.bokehjs_exec.v0+json": {
       "id": "3685"
      }
     },
     "output_type": "display_data"
    }
   ],
   "source": [
    "# Legend - 图例设置\n",
    "# 设置方法 → 在绘图时设置图例名称 + 设置图例位置\n",
    "\n",
    "p = figure(plot_width=600, plot_height=400)\n",
    "# 创建图表\n",
    "\n",
    "x = np.linspace(0,4*np.pi,100)\n",
    "y = np.sin(x)\n",
    "# 设置x，y\n",
    "\n",
    "p.circle(x,y,legend='sin(x)')\n",
    "p.line(x,y,legend='sin(x)')\n",
    "# 绘制line1，设置图例名称\n",
    "\n",
    "p.line(x,2*y,legend='2*sin(x)',line_dash = [4,2],line_color = 'red',line_width = 2)\n",
    "# 绘制line2，设置图例名称\n",
    "\n",
    "p.square(x,3*y,legend='3*sin(x)',fill_color=None,line_color = 'green')\n",
    "p.line(x,3*y,legend='3*sin(x)',line_color='green')\n",
    "# 绘制line3，设置图例名称\n",
    "\n",
    "p.legend.location = 'top_right'\n",
    "# 设置图例位置：\"top_left\"、\"top_center\"、\"top_right\" (the default)、\"center_right\"、\"bottom_right\"、\"bottom_center\"\n",
    "# \"bottom_left\"、\"center_left\"、\"center\"\n",
    "\n",
    "p.legend.orientation = 'vertical'\n",
    "# 设置图例排列方向：\"vertical\" （默认）or \"horizontal\"\n",
    "\n",
    "p.legend.label_text_font = \"times\"\n",
    "p.legend.label_text_font_style = \"italic\"  # 斜体\n",
    "p.legend.label_text_color = \"black\"\n",
    "p.legend.label_text_font_size = '12pt'\n",
    "# 设置图例：字体、风格、颜色、字体大小\n",
    "\n",
    "p.legend.border_line_width = 2\n",
    "p.legend.border_line_color = \"black\"\n",
    "p.legend.border_line_alpha = 0.5\n",
    "# 设置图例外边线：宽度、颜色、透明度\n",
    "\n",
    "p.legend.background_fill_color = \"gray\"\n",
    "p.legend.background_fill_alpha = 0.2\n",
    "show(p)"
   ]
  },
  {
   "cell_type": "code",
   "execution_count": 15,
   "metadata": {},
   "outputs": [
    {
     "ename": "SyntaxError",
     "evalue": "invalid character in identifier (<ipython-input-15-bb87f8f51879>, line 1)",
     "output_type": "error",
     "traceback": [
      "\u001b[1;36m  File \u001b[1;32m\"<ipython-input-15-bb87f8f51879>\"\u001b[1;36m, line \u001b[1;32m1\u001b[0m\n\u001b[1;33m    总结一下：\u001b[0m\n\u001b[1;37m        ^\u001b[0m\n\u001b[1;31mSyntaxError\u001b[0m\u001b[1;31m:\u001b[0m invalid character in identifier\n"
     ]
    }
   ],
   "source": [
    "总结一下：\n",
    "Line Properties → 线设置\n",
    "Fill Properties → 填充设置\n",
    "Text Properties → 字体设置\n",
    "\n",
    "1、Line Properties → 线设置\n",
    "（1）line_color，设置颜色\n",
    "（2）line_width，设置宽度\n",
    "（3）line_alpha，设置透明度\n",
    "（4）line_join，设置连接点样式：'miter' miter_join，'round' round_join，'bevel' bevel_join\n",
    "（5）line_cap，设置线端口样式，'butt' butt_cap，'round' round_cap，'square' square_cap\n",
    "（6）line_dash，设置线条样式，'solid'，'dashed'，'dotted'，'dotdash'，'dashdot'，或者整型数组方式（例如[6,4]）\n",
    "\n",
    "2、Fill Properties → 填充设置\n",
    "（1）fill_color，设置填充颜色\n",
    "（2）fill_alpha，设置填充透明度\n",
    "\n",
    "3、Text Properties → 字体设置\n",
    "（1）text_font，字体\n",
    "（2）text_font_size，字体大小，单位为pt或者em（ '12pt', '1.5em'）\n",
    "（3）text_font_style，字体风格，'normal' normal text，'italic' italic text，'bold' bold text\n",
    "（4）text_color，字体颜色\n",
    "（5）text_alpha，字体透明度\n",
    "（6）text_align，字体水平方向位置，'left', 'right', 'center'\n",
    "（7）text_baseline，字体垂直方向位置，'top'，'middle'，'bottom'，'alphabetic'，'hanging'\n",
    "\n",
    "4、可见性\n",
    "p.xaxis.visible = False\n",
    "p.xgrid.visible = False\n",
    "基本参数中都含有.visible参数，设置是否可见\n"
   ]
  },
  {
   "cell_type": "code",
   "execution_count": null,
   "metadata": {},
   "outputs": [],
   "source": [
    "'''\n",
    "【课程5.3】  图表辅助参数设置\n",
    "\n",
    "辅助标注、注释、矢量箭头\n",
    "\n",
    "参考官方文档：https://bokeh.pydata.org/en/latest/docs/user_guide/annotations.html#color-bars\n",
    "\n",
    "'''"
   ]
  },
  {
   "cell_type": "code",
   "execution_count": 4,
   "metadata": {},
   "outputs": [
    {
     "data": {
      "text/html": [
       "\n",
       "\n",
       "\n",
       "\n",
       "\n",
       "\n",
       "  <div class=\"bk-root\" id=\"30fa4955-3631-4877-9738-c5cf5afabc0a\" data-root-id=\"1104\"></div>\n"
      ]
     },
     "metadata": {},
     "output_type": "display_data"
    },
    {
     "data": {
      "application/javascript": [
       "(function(root) {\n",
       "  function embed_document(root) {\n",
       "    \n",
       "  var docs_json = {\"5ab10590-d764-4de0-9646-29f749600d92\":{\"roots\":{\"references\":[{\"attributes\":{\"below\":[{\"id\":\"1113\",\"type\":\"LinearAxis\"}],\"left\":[{\"id\":\"1118\",\"type\":\"LinearAxis\"}],\"renderers\":[{\"id\":\"1113\",\"type\":\"LinearAxis\"},{\"id\":\"1117\",\"type\":\"Grid\"},{\"id\":\"1118\",\"type\":\"LinearAxis\"},{\"id\":\"1122\",\"type\":\"Grid\"},{\"id\":\"1131\",\"type\":\"BoxAnnotation\"},{\"id\":\"1141\",\"type\":\"GlyphRenderer\"},{\"id\":\"1143\",\"type\":\"Span\"},{\"id\":\"1144\",\"type\":\"Span\"}],\"title\":{\"id\":\"1155\",\"type\":\"Title\"},\"toolbar\":{\"id\":\"1129\",\"type\":\"Toolbar\"},\"x_range\":{\"id\":\"1105\",\"type\":\"DataRange1d\"},\"x_scale\":{\"id\":\"1109\",\"type\":\"LinearScale\"},\"y_range\":{\"id\":\"1107\",\"type\":\"Range1d\"},\"y_scale\":{\"id\":\"1111\",\"type\":\"LinearScale\"}},\"id\":\"1104\",\"subtype\":\"Figure\",\"type\":\"Plot\"},{\"attributes\":{\"formatter\":{\"id\":\"1158\",\"type\":\"BasicTickFormatter\"},\"plot\":{\"id\":\"1104\",\"subtype\":\"Figure\",\"type\":\"Plot\"},\"ticker\":{\"id\":\"1119\",\"type\":\"BasicTicker\"}},\"id\":\"1118\",\"type\":\"LinearAxis\"},{\"attributes\":{},\"id\":\"1158\",\"type\":\"BasicTickFormatter\"},{\"attributes\":{},\"id\":\"1156\",\"type\":\"BasicTickFormatter\"},{\"attributes\":{},\"id\":\"1119\",\"type\":\"BasicTicker\"},{\"attributes\":{\"dimension\":1,\"plot\":{\"id\":\"1104\",\"subtype\":\"Figure\",\"type\":\"Plot\"},\"ticker\":{\"id\":\"1119\",\"type\":\"BasicTicker\"}},\"id\":\"1122\",\"type\":\"Grid\"},{\"attributes\":{\"plot\":null,\"text\":\"\"},\"id\":\"1155\",\"type\":\"Title\"},{\"attributes\":{},\"id\":\"1162\",\"type\":\"Selection\"},{\"attributes\":{\"line_color\":{\"value\":\"firebrick\"},\"line_width\":{\"value\":4},\"location\":-1,\"plot\":{\"id\":\"1104\",\"subtype\":\"Figure\",\"type\":\"Plot\"}},\"id\":\"1144\",\"type\":\"Span\"},{\"attributes\":{\"line_alpha\":0.1,\"line_color\":\"#1f77b4\",\"x\":{\"field\":\"x\"},\"y\":{\"field\":\"y\"}},\"id\":\"1140\",\"type\":\"Line\"},{\"attributes\":{\"plot\":{\"id\":\"1104\",\"subtype\":\"Figure\",\"type\":\"Plot\"},\"ticker\":{\"id\":\"1114\",\"type\":\"BasicTicker\"}},\"id\":\"1117\",\"type\":\"Grid\"},{\"attributes\":{\"line_color\":\"#1f77b4\",\"x\":{\"field\":\"x\"},\"y\":{\"field\":\"y\"}},\"id\":\"1139\",\"type\":\"Line\"},{\"attributes\":{\"line_color\":{\"value\":\"olive\"},\"line_width\":{\"value\":4},\"location\":1,\"plot\":{\"id\":\"1104\",\"subtype\":\"Figure\",\"type\":\"Plot\"}},\"id\":\"1143\",\"type\":\"Span\"},{\"attributes\":{\"data_source\":{\"id\":\"1138\",\"type\":\"ColumnDataSource\"},\"glyph\":{\"id\":\"1139\",\"type\":\"Line\"},\"hover_glyph\":null,\"muted_glyph\":null,\"nonselection_glyph\":{\"id\":\"1140\",\"type\":\"Line\"},\"selection_glyph\":null,\"view\":{\"id\":\"1142\",\"type\":\"CDSView\"}},\"id\":\"1141\",\"type\":\"GlyphRenderer\"},{\"attributes\":{},\"id\":\"1126\",\"type\":\"SaveTool\"},{\"attributes\":{\"overlay\":{\"id\":\"1131\",\"type\":\"BoxAnnotation\"}},\"id\":\"1125\",\"type\":\"BoxZoomTool\"},{\"attributes\":{},\"id\":\"1123\",\"type\":\"PanTool\"},{\"attributes\":{\"active_drag\":\"auto\",\"active_inspect\":\"auto\",\"active_multi\":null,\"active_scroll\":\"auto\",\"active_tap\":\"auto\",\"tools\":[{\"id\":\"1123\",\"type\":\"PanTool\"},{\"id\":\"1124\",\"type\":\"WheelZoomTool\"},{\"id\":\"1125\",\"type\":\"BoxZoomTool\"},{\"id\":\"1126\",\"type\":\"SaveTool\"},{\"id\":\"1127\",\"type\":\"ResetTool\"},{\"id\":\"1128\",\"type\":\"HelpTool\"}]},\"id\":\"1129\",\"type\":\"Toolbar\"},{\"attributes\":{},\"id\":\"1161\",\"type\":\"UnionRenderers\"},{\"attributes\":{\"callback\":null,\"data\":{\"x\":{\"__ndarray__\":\"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\",\"dtype\":\"float64\",\"shape\":[200]},\"y\":{\"__ndarray__\":\"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\",\"dtype\":\"float64\",\"shape\":[200]}},\"selected\":{\"id\":\"1162\",\"type\":\"Selection\"},\"selection_policy\":{\"id\":\"1161\",\"type\":\"UnionRenderers\"}},\"id\":\"1138\",\"type\":\"ColumnDataSource\"},{\"attributes\":{},\"id\":\"1128\",\"type\":\"HelpTool\"},{\"attributes\":{\"callback\":null},\"id\":\"1105\",\"type\":\"DataRange1d\"},{\"attributes\":{},\"id\":\"1114\",\"type\":\"BasicTicker\"},{\"attributes\":{\"formatter\":{\"id\":\"1156\",\"type\":\"BasicTickFormatter\"},\"plot\":{\"id\":\"1104\",\"subtype\":\"Figure\",\"type\":\"Plot\"},\"ticker\":{\"id\":\"1114\",\"type\":\"BasicTicker\"}},\"id\":\"1113\",\"type\":\"LinearAxis\"},{\"attributes\":{},\"id\":\"1127\",\"type\":\"ResetTool\"},{\"attributes\":{},\"id\":\"1111\",\"type\":\"LinearScale\"},{\"attributes\":{\"source\":{\"id\":\"1138\",\"type\":\"ColumnDataSource\"}},\"id\":\"1142\",\"type\":\"CDSView\"},{\"attributes\":{},\"id\":\"1109\",\"type\":\"LinearScale\"},{\"attributes\":{},\"id\":\"1124\",\"type\":\"WheelZoomTool\"},{\"attributes\":{\"bottom_units\":\"screen\",\"fill_alpha\":{\"value\":0.5},\"fill_color\":{\"value\":\"lightgrey\"},\"left_units\":\"screen\",\"level\":\"overlay\",\"line_alpha\":{\"value\":1.0},\"line_color\":{\"value\":\"black\"},\"line_dash\":[4,4],\"line_width\":{\"value\":2},\"plot\":null,\"render_mode\":\"css\",\"right_units\":\"screen\",\"top_units\":\"screen\"},\"id\":\"1131\",\"type\":\"BoxAnnotation\"},{\"attributes\":{\"callback\":null,\"end\":2,\"start\":-2},\"id\":\"1107\",\"type\":\"Range1d\"}],\"root_ids\":[\"1104\"]},\"title\":\"Bokeh Application\",\"version\":\"1.0.4\"}};\n",
       "  var render_items = [{\"docid\":\"5ab10590-d764-4de0-9646-29f749600d92\",\"roots\":{\"1104\":\"30fa4955-3631-4877-9738-c5cf5afabc0a\"}}];\n",
       "  root.Bokeh.embed.embed_items_notebook(docs_json, render_items);\n",
       "\n",
       "  }\n",
       "  if (root.Bokeh !== undefined) {\n",
       "    embed_document(root);\n",
       "  } else {\n",
       "    var attempts = 0;\n",
       "    var timer = setInterval(function(root) {\n",
       "      if (root.Bokeh !== undefined) {\n",
       "        embed_document(root);\n",
       "        clearInterval(timer);\n",
       "      }\n",
       "      attempts++;\n",
       "      if (attempts > 100) {\n",
       "        console.log(\"Bokeh: ERROR: Unable to run BokehJS code because BokehJS library is missing\");\n",
       "        clearInterval(timer);\n",
       "      }\n",
       "    }, 10, root)\n",
       "  }\n",
       "})(window);"
      ],
      "application/vnd.bokehjs_exec.v0+json": ""
     },
     "metadata": {
      "application/vnd.bokehjs_exec.v0+json": {
       "id": "1104"
      }
     },
     "output_type": "display_data"
    }
   ],
   "source": [
    "# 辅助标注 - 线\n",
    "\n",
    "from bokeh.models.annotations import Span\n",
    "# 导入Span模块\n",
    "\n",
    "x = np.linspace(0,10,200)\n",
    "y = np.sin(x)\n",
    "\n",
    "p = figure(y_range=(-2,2))\n",
    "p.line(x,y)\n",
    "# 绘制曲线\n",
    "\n",
    "upper = Span(location=1,                                # 设置位置，对应坐标值\n",
    "            dimension = 'width',                        # 设置方向，width为横向，height为纵向 \n",
    "            line_color = 'olive',line_width = 4)          # 设置线颜色、线宽\n",
    "p.add_layout(upper)\n",
    "# 绘制辅助线1\n",
    "\n",
    "lower = Span(location=-1, dimension='width', line_color='firebrick', line_width=4)\n",
    "p.add_layout(lower)\n",
    "# 绘制辅助线2\n",
    "\n",
    "show(p)"
   ]
  },
  {
   "cell_type": "code",
   "execution_count": 5,
   "metadata": {},
   "outputs": [
    {
     "data": {
      "text/html": [
       "\n",
       "\n",
       "\n",
       "\n",
       "\n",
       "\n",
       "  <div class=\"bk-root\" id=\"9f95c691-4e03-40c3-860f-be680881dd46\" data-root-id=\"1217\"></div>\n"
      ]
     },
     "metadata": {},
     "output_type": "display_data"
    },
    {
     "data": {
      "application/javascript": [
       "(function(root) {\n",
       "  function embed_document(root) {\n",
       "    \n",
       "  var docs_json = {\"671830e6-8e18-4987-9f22-ff9d4146e87a\":{\"roots\":{\"references\":[{\"attributes\":{\"below\":[{\"id\":\"1226\",\"type\":\"LinearAxis\"}],\"left\":[{\"id\":\"1231\",\"type\":\"LinearAxis\"}],\"renderers\":[{\"id\":\"1226\",\"type\":\"LinearAxis\"},{\"id\":\"1230\",\"type\":\"Grid\"},{\"id\":\"1231\",\"type\":\"LinearAxis\"},{\"id\":\"1235\",\"type\":\"Grid\"},{\"id\":\"1244\",\"type\":\"BoxAnnotation\"},{\"id\":\"1254\",\"type\":\"GlyphRenderer\"},{\"id\":\"1256\",\"type\":\"BoxAnnotation\"},{\"id\":\"1257\",\"type\":\"BoxAnnotation\"},{\"id\":\"1258\",\"type\":\"BoxAnnotation\"}],\"title\":{\"id\":\"1278\",\"type\":\"Title\"},\"toolbar\":{\"id\":\"1242\",\"type\":\"Toolbar\"},\"x_range\":{\"id\":\"1218\",\"type\":\"DataRange1d\"},\"x_scale\":{\"id\":\"1222\",\"type\":\"LinearScale\"},\"y_range\":{\"id\":\"1220\",\"type\":\"Range1d\"},\"y_scale\":{\"id\":\"1224\",\"type\":\"LinearScale\"}},\"id\":\"1217\",\"subtype\":\"Figure\",\"type\":\"Plot\"},{\"attributes\":{\"fill_alpha\":{\"value\":0.1},\"fill_color\":{\"value\":\"firebrick\"},\"plot\":{\"id\":\"1217\",\"subtype\":\"Figure\",\"type\":\"Plot\"},\"top\":-1},\"id\":\"1257\",\"type\":\"BoxAnnotation\"},{\"attributes\":{},\"id\":\"1232\",\"type\":\"BasicTicker\"},{\"attributes\":{\"dimension\":1,\"plot\":{\"id\":\"1217\",\"subtype\":\"Figure\",\"type\":\"Plot\"},\"ticker\":{\"id\":\"1232\",\"type\":\"BasicTicker\"}},\"id\":\"1235\",\"type\":\"Grid\"},{\"attributes\":{},\"id\":\"1285\",\"type\":\"Selection\"},{\"attributes\":{},\"id\":\"1224\",\"type\":\"LinearScale\"},{\"attributes\":{},\"id\":\"1284\",\"type\":\"UnionRenderers\"},{\"attributes\":{\"line_color\":\"#1f77b4\",\"x\":{\"field\":\"x\"},\"y\":{\"field\":\"y\"}},\"id\":\"1252\",\"type\":\"Line\"},{\"attributes\":{\"formatter\":{\"id\":\"1281\",\"type\":\"BasicTickFormatter\"},\"plot\":{\"id\":\"1217\",\"subtype\":\"Figure\",\"type\":\"Plot\"},\"ticker\":{\"id\":\"1232\",\"type\":\"BasicTicker\"}},\"id\":\"1231\",\"type\":\"LinearAxis\"},{\"attributes\":{\"bottom\":-0.3,\"fill_alpha\":{\"value\":0.1},\"fill_color\":{\"value\":\"navy\"},\"left\":7,\"plot\":{\"id\":\"1217\",\"subtype\":\"Figure\",\"type\":\"Plot\"},\"right\":12,\"top\":0.6},\"id\":\"1258\",\"type\":\"BoxAnnotation\"},{\"attributes\":{},\"id\":\"1222\",\"type\":\"LinearScale\"},{\"attributes\":{},\"id\":\"1239\",\"type\":\"SaveTool\"},{\"attributes\":{\"overlay\":{\"id\":\"1244\",\"type\":\"BoxAnnotation\"}},\"id\":\"1238\",\"type\":\"BoxZoomTool\"},{\"attributes\":{\"plot\":{\"id\":\"1217\",\"subtype\":\"Figure\",\"type\":\"Plot\"},\"ticker\":{\"id\":\"1227\",\"type\":\"BasicTicker\"}},\"id\":\"1230\",\"type\":\"Grid\"},{\"attributes\":{\"source\":{\"id\":\"1251\",\"type\":\"ColumnDataSource\"}},\"id\":\"1255\",\"type\":\"CDSView\"},{\"attributes\":{},\"id\":\"1227\",\"type\":\"BasicTicker\"},{\"attributes\":{},\"id\":\"1237\",\"type\":\"WheelZoomTool\"},{\"attributes\":{\"formatter\":{\"id\":\"1279\",\"type\":\"BasicTickFormatter\"},\"plot\":{\"id\":\"1217\",\"subtype\":\"Figure\",\"type\":\"Plot\"},\"ticker\":{\"id\":\"1227\",\"type\":\"BasicTicker\"}},\"id\":\"1226\",\"type\":\"LinearAxis\"},{\"attributes\":{},\"id\":\"1236\",\"type\":\"PanTool\"},{\"attributes\":{},\"id\":\"1240\",\"type\":\"ResetTool\"},{\"attributes\":{\"callback\":null,\"end\":2,\"start\":-2},\"id\":\"1220\",\"type\":\"Range1d\"},{\"attributes\":{\"bottom\":1,\"fill_alpha\":{\"value\":0.1},\"fill_color\":{\"value\":\"olive\"},\"plot\":{\"id\":\"1217\",\"subtype\":\"Figure\",\"type\":\"Plot\"}},\"id\":\"1256\",\"type\":\"BoxAnnotation\"},{\"attributes\":{\"callback\":null,\"data\":{\"x\":{\"__ndarray__\":\"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\",\"dtype\":\"float64\",\"shape\":[200]},\"y\":{\"__ndarray__\":\"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\",\"dtype\":\"float64\",\"shape\":[200]}},\"selected\":{\"id\":\"1285\",\"type\":\"Selection\"},\"selection_policy\":{\"id\":\"1284\",\"type\":\"UnionRenderers\"}},\"id\":\"1251\",\"type\":\"ColumnDataSource\"},{\"attributes\":{\"bottom_units\":\"screen\",\"fill_alpha\":{\"value\":0.5},\"fill_color\":{\"value\":\"lightgrey\"},\"left_units\":\"screen\",\"level\":\"overlay\",\"line_alpha\":{\"value\":1.0},\"line_color\":{\"value\":\"black\"},\"line_dash\":[4,4],\"line_width\":{\"value\":2},\"plot\":null,\"render_mode\":\"css\",\"right_units\":\"screen\",\"top_units\":\"screen\"},\"id\":\"1244\",\"type\":\"BoxAnnotation\"},{\"attributes\":{},\"id\":\"1281\",\"type\":\"BasicTickFormatter\"},{\"attributes\":{\"line_alpha\":0.1,\"line_color\":\"#1f77b4\",\"x\":{\"field\":\"x\"},\"y\":{\"field\":\"y\"}},\"id\":\"1253\",\"type\":\"Line\"},{\"attributes\":{\"active_drag\":\"auto\",\"active_inspect\":\"auto\",\"active_multi\":null,\"active_scroll\":\"auto\",\"active_tap\":\"auto\",\"tools\":[{\"id\":\"1236\",\"type\":\"PanTool\"},{\"id\":\"1237\",\"type\":\"WheelZoomTool\"},{\"id\":\"1238\",\"type\":\"BoxZoomTool\"},{\"id\":\"1239\",\"type\":\"SaveTool\"},{\"id\":\"1240\",\"type\":\"ResetTool\"},{\"id\":\"1241\",\"type\":\"HelpTool\"}]},\"id\":\"1242\",\"type\":\"Toolbar\"},{\"attributes\":{},\"id\":\"1241\",\"type\":\"HelpTool\"},{\"attributes\":{\"callback\":null},\"id\":\"1218\",\"type\":\"DataRange1d\"},{\"attributes\":{\"data_source\":{\"id\":\"1251\",\"type\":\"ColumnDataSource\"},\"glyph\":{\"id\":\"1252\",\"type\":\"Line\"},\"hover_glyph\":null,\"muted_glyph\":null,\"nonselection_glyph\":{\"id\":\"1253\",\"type\":\"Line\"},\"selection_glyph\":null,\"view\":{\"id\":\"1255\",\"type\":\"CDSView\"}},\"id\":\"1254\",\"type\":\"GlyphRenderer\"},{\"attributes\":{\"plot\":null,\"text\":\"\"},\"id\":\"1278\",\"type\":\"Title\"},{\"attributes\":{},\"id\":\"1279\",\"type\":\"BasicTickFormatter\"}],\"root_ids\":[\"1217\"]},\"title\":\"Bokeh Application\",\"version\":\"1.0.4\"}};\n",
       "  var render_items = [{\"docid\":\"671830e6-8e18-4987-9f22-ff9d4146e87a\",\"roots\":{\"1217\":\"9f95c691-4e03-40c3-860f-be680881dd46\"}}];\n",
       "  root.Bokeh.embed.embed_items_notebook(docs_json, render_items);\n",
       "\n",
       "  }\n",
       "  if (root.Bokeh !== undefined) {\n",
       "    embed_document(root);\n",
       "  } else {\n",
       "    var attempts = 0;\n",
       "    var timer = setInterval(function(root) {\n",
       "      if (root.Bokeh !== undefined) {\n",
       "        embed_document(root);\n",
       "        clearInterval(timer);\n",
       "      }\n",
       "      attempts++;\n",
       "      if (attempts > 100) {\n",
       "        console.log(\"Bokeh: ERROR: Unable to run BokehJS code because BokehJS library is missing\");\n",
       "        clearInterval(timer);\n",
       "      }\n",
       "    }, 10, root)\n",
       "  }\n",
       "})(window);"
      ],
      "application/vnd.bokehjs_exec.v0+json": ""
     },
     "metadata": {
      "application/vnd.bokehjs_exec.v0+json": {
       "id": "1217"
      }
     },
     "output_type": "display_data"
    }
   ],
   "source": [
    "# 辅助标注 - 矩形\n",
    "\n",
    "from bokeh.models.annotations import BoxAnnotation\n",
    "# 导入BoxAnnotation模块\n",
    "\n",
    "x = np.linspace(0, 20, 200)\n",
    "y = np.sin(x)\n",
    "# 创建x，y数据\n",
    "\n",
    "p = figure(y_range=(-2, 2))\n",
    "p.line(x, y)\n",
    "# 绘制曲线\n",
    "\n",
    "upper = BoxAnnotation(bottom=1,fill_alpha=0.1,fill_color='olive')\n",
    "p.add_layout(upper)\n",
    "# 绘制辅助矩形1\n",
    "\n",
    "lower = BoxAnnotation(top=-1,fill_alpha=0.1,fill_color='firebrick')\n",
    "p.add_layout(lower)\n",
    "# 绘制辅助矩形2\n",
    "\n",
    "center = BoxAnnotation(top=0.6, bottom=-0.3, left=7, right=12,  # 设置矩形四边位置\n",
    "                       fill_alpha=0.1, fill_color='navy'        # 设置透明度、颜色\n",
    "                      )\n",
    "p.add_layout(center)\n",
    "# 绘制辅助矩形3\n",
    "\n",
    "\n",
    "show(p)"
   ]
  },
  {
   "cell_type": "code",
   "execution_count": 6,
   "metadata": {},
   "outputs": [
    {
     "data": {
      "text/html": [
       "\n",
       "\n",
       "\n",
       "\n",
       "\n",
       "\n",
       "  <div class=\"bk-root\" id=\"7c2e972f-c5c4-4dd2-ab26-91f507efa0c0\" data-root-id=\"1340\"></div>\n"
      ]
     },
     "metadata": {},
     "output_type": "display_data"
    },
    {
     "data": {
      "application/javascript": [
       "(function(root) {\n",
       "  function embed_document(root) {\n",
       "    \n",
       "  var docs_json = {\"f823d9b5-a8bf-461c-b698-f2c4c944fe10\":{\"roots\":{\"references\":[{\"attributes\":{\"below\":[{\"id\":\"1349\",\"type\":\"LinearAxis\"}],\"left\":[{\"id\":\"1354\",\"type\":\"LinearAxis\"}],\"renderers\":[{\"id\":\"1349\",\"type\":\"LinearAxis\"},{\"id\":\"1353\",\"type\":\"Grid\"},{\"id\":\"1354\",\"type\":\"LinearAxis\"},{\"id\":\"1358\",\"type\":\"Grid\"},{\"id\":\"1367\",\"type\":\"BoxAnnotation\"},{\"id\":\"1377\",\"type\":\"GlyphRenderer\"},{\"id\":\"1379\",\"type\":\"Label\"}],\"title\":{\"id\":\"1408\",\"type\":\"Title\"},\"toolbar\":{\"id\":\"1365\",\"type\":\"Toolbar\"},\"x_range\":{\"id\":\"1341\",\"type\":\"Range1d\"},\"x_scale\":{\"id\":\"1345\",\"type\":\"LinearScale\"},\"y_range\":{\"id\":\"1343\",\"type\":\"Range1d\"},\"y_scale\":{\"id\":\"1347\",\"type\":\"LinearScale\"}},\"id\":\"1340\",\"subtype\":\"Figure\",\"type\":\"Plot\"},{\"attributes\":{\"bottom_units\":\"screen\",\"fill_alpha\":{\"value\":0.5},\"fill_color\":{\"value\":\"lightgrey\"},\"left_units\":\"screen\",\"level\":\"overlay\",\"line_alpha\":{\"value\":1.0},\"line_color\":{\"value\":\"black\"},\"line_dash\":[4,4],\"line_width\":{\"value\":2},\"plot\":null,\"render_mode\":\"css\",\"right_units\":\"screen\",\"top_units\":\"screen\"},\"id\":\"1367\",\"type\":\"BoxAnnotation\"},{\"attributes\":{\"source\":{\"id\":\"1374\",\"type\":\"ColumnDataSource\"}},\"id\":\"1378\",\"type\":\"CDSView\"},{\"attributes\":{\"data_source\":{\"id\":\"1374\",\"type\":\"ColumnDataSource\"},\"glyph\":{\"id\":\"1375\",\"type\":\"Circle\"},\"hover_glyph\":null,\"muted_glyph\":null,\"nonselection_glyph\":{\"id\":\"1376\",\"type\":\"Circle\"},\"selection_glyph\":null,\"view\":{\"id\":\"1378\",\"type\":\"CDSView\"}},\"id\":\"1377\",\"type\":\"GlyphRenderer\"},{\"attributes\":{},\"id\":\"1347\",\"type\":\"LinearScale\"},{\"attributes\":{},\"id\":\"1362\",\"type\":\"SaveTool\"},{\"attributes\":{\"plot\":null,\"text\":\"\"},\"id\":\"1408\",\"type\":\"Title\"},{\"attributes\":{\"formatter\":{\"id\":\"1409\",\"type\":\"BasicTickFormatter\"},\"plot\":{\"id\":\"1340\",\"subtype\":\"Figure\",\"type\":\"Plot\"},\"ticker\":{\"id\":\"1350\",\"type\":\"BasicTicker\"}},\"id\":\"1349\",\"type\":\"LinearAxis\"},{\"attributes\":{\"active_drag\":\"auto\",\"active_inspect\":\"auto\",\"active_multi\":null,\"active_scroll\":\"auto\",\"active_tap\":\"auto\",\"tools\":[{\"id\":\"1359\",\"type\":\"PanTool\"},{\"id\":\"1360\",\"type\":\"WheelZoomTool\"},{\"id\":\"1361\",\"type\":\"BoxZoomTool\"},{\"id\":\"1362\",\"type\":\"SaveTool\"},{\"id\":\"1363\",\"type\":\"ResetTool\"},{\"id\":\"1364\",\"type\":\"HelpTool\"}]},\"id\":\"1365\",\"type\":\"Toolbar\"},{\"attributes\":{\"plot\":{\"id\":\"1340\",\"subtype\":\"Figure\",\"type\":\"Plot\"},\"ticker\":{\"id\":\"1350\",\"type\":\"BasicTicker\"}},\"id\":\"1353\",\"type\":\"Grid\"},{\"attributes\":{},\"id\":\"1409\",\"type\":\"BasicTickFormatter\"},{\"attributes\":{},\"id\":\"1364\",\"type\":\"HelpTool\"},{\"attributes\":{\"dimension\":1,\"plot\":{\"id\":\"1340\",\"subtype\":\"Figure\",\"type\":\"Plot\"},\"ticker\":{\"id\":\"1355\",\"type\":\"BasicTicker\"}},\"id\":\"1358\",\"type\":\"Grid\"},{\"attributes\":{},\"id\":\"1411\",\"type\":\"BasicTickFormatter\"},{\"attributes\":{},\"id\":\"1350\",\"type\":\"BasicTicker\"},{\"attributes\":{\"callback\":null,\"end\":10},\"id\":\"1341\",\"type\":\"Range1d\"},{\"attributes\":{\"fill_color\":{\"value\":\"olive\"},\"line_color\":{\"value\":\"olive\"},\"size\":{\"units\":\"screen\",\"value\":10},\"x\":{\"field\":\"x\"},\"y\":{\"field\":\"y\"}},\"id\":\"1375\",\"type\":\"Circle\"},{\"attributes\":{\"callback\":null,\"end\":10},\"id\":\"1343\",\"type\":\"Range1d\"},{\"attributes\":{\"formatter\":{\"id\":\"1411\",\"type\":\"BasicTickFormatter\"},\"plot\":{\"id\":\"1340\",\"subtype\":\"Figure\",\"type\":\"Plot\"},\"ticker\":{\"id\":\"1355\",\"type\":\"BasicTicker\"}},\"id\":\"1354\",\"type\":\"LinearAxis\"},{\"attributes\":{},\"id\":\"1414\",\"type\":\"UnionRenderers\"},{\"attributes\":{},\"id\":\"1415\",\"type\":\"Selection\"},{\"attributes\":{},\"id\":\"1355\",\"type\":\"BasicTicker\"},{\"attributes\":{\"overlay\":{\"id\":\"1367\",\"type\":\"BoxAnnotation\"}},\"id\":\"1361\",\"type\":\"BoxZoomTool\"},{\"attributes\":{},\"id\":\"1360\",\"type\":\"WheelZoomTool\"},{\"attributes\":{},\"id\":\"1359\",\"type\":\"PanTool\"},{\"attributes\":{\"callback\":null,\"data\":{\"x\":[2,5,8],\"y\":[4,7,6]},\"selected\":{\"id\":\"1415\",\"type\":\"Selection\"},\"selection_policy\":{\"id\":\"1414\",\"type\":\"UnionRenderers\"}},\"id\":\"1374\",\"type\":\"ColumnDataSource\"},{\"attributes\":{},\"id\":\"1363\",\"type\":\"ResetTool\"},{\"attributes\":{\"fill_alpha\":{\"value\":0.1},\"fill_color\":{\"value\":\"#1f77b4\"},\"line_alpha\":{\"value\":0.1},\"line_color\":{\"value\":\"#1f77b4\"},\"size\":{\"units\":\"screen\",\"value\":10},\"x\":{\"field\":\"x\"},\"y\":{\"field\":\"y\"}},\"id\":\"1376\",\"type\":\"Circle\"},{\"attributes\":{},\"id\":\"1345\",\"type\":\"LinearScale\"},{\"attributes\":{\"background_fill_alpha\":{\"value\":0.5},\"background_fill_color\":{\"value\":\"gray\"},\"border_line_color\":{\"value\":\"red\"},\"plot\":{\"id\":\"1340\",\"subtype\":\"Figure\",\"type\":\"Plot\"},\"text\":\"Second Point\",\"text_font_size\":{\"value\":\"10pt\"},\"x\":5,\"x_offset\":20,\"y\":7},\"id\":\"1379\",\"type\":\"Label\"}],\"root_ids\":[\"1340\"]},\"title\":\"Bokeh Application\",\"version\":\"1.0.4\"}};\n",
       "  var render_items = [{\"docid\":\"f823d9b5-a8bf-461c-b698-f2c4c944fe10\",\"roots\":{\"1340\":\"7c2e972f-c5c4-4dd2-ab26-91f507efa0c0\"}}];\n",
       "  root.Bokeh.embed.embed_items_notebook(docs_json, render_items);\n",
       "\n",
       "  }\n",
       "  if (root.Bokeh !== undefined) {\n",
       "    embed_document(root);\n",
       "  } else {\n",
       "    var attempts = 0;\n",
       "    var timer = setInterval(function(root) {\n",
       "      if (root.Bokeh !== undefined) {\n",
       "        embed_document(root);\n",
       "        clearInterval(timer);\n",
       "      }\n",
       "      attempts++;\n",
       "      if (attempts > 100) {\n",
       "        console.log(\"Bokeh: ERROR: Unable to run BokehJS code because BokehJS library is missing\");\n",
       "        clearInterval(timer);\n",
       "      }\n",
       "    }, 10, root)\n",
       "  }\n",
       "})(window);"
      ],
      "application/vnd.bokehjs_exec.v0+json": ""
     },
     "metadata": {
      "application/vnd.bokehjs_exec.v0+json": {
       "id": "1340"
      }
     },
     "output_type": "display_data"
    }
   ],
   "source": [
    "# 绘图注释\n",
    "\n",
    "from bokeh.models.annotations import Label\n",
    "# 导入Label模块，注意是annotations中的Label\n",
    "\n",
    "p = figure(x_range=(0,10), y_range=(0,10))\n",
    "p.circle([2, 5, 8], [4, 7, 6], color=\"olive\", size=10)\n",
    "# 绘制散点图\n",
    "\n",
    "label = Label(x=5,y=7,                         # 标注注释位置\n",
    "             x_offset = 20,                    # x偏移，同理y_offset\n",
    "             text = 'Second Point',            # 注释内容\n",
    "             text_font_size = '10pt',          # 字体大小\n",
    "             border_line_color = 'red',background_fill_color = 'gray',background_fill_alpha = 0.5)     # 背景线条颜色、背景颜色、透明度\n",
    "\n",
    "p.add_layout(label)\n",
    "# 绘制注释\n",
    "\n",
    "show(p)"
   ]
  },
  {
   "cell_type": "code",
   "execution_count": 7,
   "metadata": {},
   "outputs": [
    {
     "data": {
      "text/html": [
       "\n",
       "\n",
       "\n",
       "\n",
       "\n",
       "\n",
       "  <div class=\"bk-root\" id=\"d5a74d8f-18df-4f84-8f58-1662eb7952f8\" data-root-id=\"1470\"></div>\n"
      ]
     },
     "metadata": {},
     "output_type": "display_data"
    },
    {
     "data": {
      "application/javascript": [
       "(function(root) {\n",
       "  function embed_document(root) {\n",
       "    \n",
       "  var docs_json = {\"ead728fd-636e-468e-b6b9-42d19374c692\":{\"roots\":{\"references\":[{\"attributes\":{\"below\":[{\"id\":\"1479\",\"type\":\"LinearAxis\"}],\"left\":[{\"id\":\"1484\",\"type\":\"LinearAxis\"}],\"plot_height\":400,\"renderers\":[{\"id\":\"1479\",\"type\":\"LinearAxis\"},{\"id\":\"1483\",\"type\":\"Grid\"},{\"id\":\"1484\",\"type\":\"LinearAxis\"},{\"id\":\"1488\",\"type\":\"Grid\"},{\"id\":\"1497\",\"type\":\"BoxAnnotation\"},{\"id\":\"1507\",\"type\":\"GlyphRenderer\"},{\"id\":\"1510\",\"type\":\"Arrow\"},{\"id\":\"1513\",\"type\":\"Arrow\"},{\"id\":\"1516\",\"type\":\"Arrow\"}],\"title\":{\"id\":\"1555\",\"type\":\"Title\"},\"toolbar\":{\"id\":\"1495\",\"type\":\"Toolbar\"},\"x_range\":{\"id\":\"1471\",\"type\":\"DataRange1d\"},\"x_scale\":{\"id\":\"1475\",\"type\":\"LinearScale\"},\"y_range\":{\"id\":\"1473\",\"type\":\"Range1d\"},\"y_scale\":{\"id\":\"1477\",\"type\":\"LinearScale\"}},\"id\":\"1470\",\"subtype\":\"Figure\",\"type\":\"Plot\"},{\"attributes\":{\"active_drag\":\"auto\",\"active_inspect\":\"auto\",\"active_multi\":null,\"active_scroll\":\"auto\",\"active_tap\":\"auto\",\"tools\":[{\"id\":\"1489\",\"type\":\"PanTool\"},{\"id\":\"1490\",\"type\":\"WheelZoomTool\"},{\"id\":\"1491\",\"type\":\"BoxZoomTool\"},{\"id\":\"1492\",\"type\":\"SaveTool\"},{\"id\":\"1493\",\"type\":\"ResetTool\"},{\"id\":\"1494\",\"type\":\"HelpTool\"}]},\"id\":\"1495\",\"type\":\"Toolbar\"},{\"attributes\":{\"callback\":null,\"end\":5,\"start\":-5},\"id\":\"1473\",\"type\":\"Range1d\"},{\"attributes\":{\"bottom_units\":\"screen\",\"fill_alpha\":{\"value\":0.5},\"fill_color\":{\"value\":\"lightgrey\"},\"left_units\":\"screen\",\"level\":\"overlay\",\"line_alpha\":{\"value\":1.0},\"line_color\":{\"value\":\"black\"},\"line_dash\":[4,4],\"line_width\":{\"value\":2},\"plot\":null,\"render_mode\":\"css\",\"right_units\":\"screen\",\"top_units\":\"screen\"},\"id\":\"1497\",\"type\":\"BoxAnnotation\"},{\"attributes\":{},\"id\":\"1475\",\"type\":\"LinearScale\"},{\"attributes\":{\"callback\":null},\"id\":\"1471\",\"type\":\"DataRange1d\"},{\"attributes\":{},\"id\":\"1477\",\"type\":\"LinearScale\"},{\"attributes\":{\"plot\":null,\"size\":35},\"id\":\"1515\",\"type\":\"VeeHead\"},{\"attributes\":{\"formatter\":{\"id\":\"1556\",\"type\":\"BasicTickFormatter\"},\"plot\":{\"id\":\"1470\",\"subtype\":\"Figure\",\"type\":\"Plot\"},\"ticker\":{\"id\":\"1480\",\"type\":\"BasicTicker\"}},\"id\":\"1479\",\"type\":\"LinearAxis\"},{\"attributes\":{\"end\":{\"id\":\"1512\",\"type\":\"NormalHead\"},\"plot\":{\"id\":\"1470\",\"subtype\":\"Figure\",\"type\":\"Plot\"},\"source\":null,\"start\":null,\"x_end\":{\"value\":0.5},\"x_start\":{\"value\":1},\"y_end\":{\"value\":0.7},\"y_start\":{\"value\":0}},\"id\":\"1513\",\"type\":\"Arrow\"},{\"attributes\":{},\"id\":\"1480\",\"type\":\"BasicTicker\"},{\"attributes\":{},\"id\":\"1561\",\"type\":\"UnionRenderers\"},{\"attributes\":{\"plot\":{\"id\":\"1470\",\"subtype\":\"Figure\",\"type\":\"Plot\"},\"ticker\":{\"id\":\"1480\",\"type\":\"BasicTicker\"}},\"id\":\"1483\",\"type\":\"Grid\"},{\"attributes\":{\"end\":{\"id\":\"1515\",\"type\":\"VeeHead\"},\"line_color\":{\"value\":\"red\"},\"plot\":{\"id\":\"1470\",\"subtype\":\"Figure\",\"type\":\"Plot\"},\"source\":null,\"start\":null,\"x_end\":{\"value\":0},\"x_start\":{\"value\":0.5},\"y_end\":{\"value\":0},\"y_start\":{\"value\":0.7}},\"id\":\"1516\",\"type\":\"Arrow\"},{\"attributes\":{\"formatter\":{\"id\":\"1558\",\"type\":\"BasicTickFormatter\"},\"plot\":{\"id\":\"1470\",\"subtype\":\"Figure\",\"type\":\"Plot\"},\"ticker\":{\"id\":\"1485\",\"type\":\"BasicTicker\"}},\"id\":\"1484\",\"type\":\"LinearAxis\"},{\"attributes\":{\"plot\":null,\"text\":\"\"},\"id\":\"1555\",\"type\":\"Title\"},{\"attributes\":{},\"id\":\"1485\",\"type\":\"BasicTicker\"},{\"attributes\":{},\"id\":\"1556\",\"type\":\"BasicTickFormatter\"},{\"attributes\":{\"dimension\":1,\"plot\":{\"id\":\"1470\",\"subtype\":\"Figure\",\"type\":\"Plot\"},\"ticker\":{\"id\":\"1485\",\"type\":\"BasicTicker\"}},\"id\":\"1488\",\"type\":\"Grid\"},{\"attributes\":{\"line_color\":{\"value\":\"firebrick\"},\"line_width\":{\"value\":4},\"plot\":null},\"id\":\"1509\",\"type\":\"OpenHead\"},{\"attributes\":{},\"id\":\"1558\",\"type\":\"BasicTickFormatter\"},{\"attributes\":{\"fill_color\":{\"value\":\"orange\"},\"plot\":null},\"id\":\"1512\",\"type\":\"NormalHead\"},{\"attributes\":{\"callback\":null,\"data\":{\"fill_color\":[\"red\",\"gray\",\"blue\"],\"line_color\":[\"red\",\"gray\",\"blue\"],\"x\":[0,1,0.5],\"y\":[0.5,1.5,2]},\"selected\":{\"id\":\"1562\",\"type\":\"Selection\"},\"selection_policy\":{\"id\":\"1561\",\"type\":\"UnionRenderers\"}},\"id\":\"1504\",\"type\":\"ColumnDataSource\"},{\"attributes\":{\"source\":{\"id\":\"1504\",\"type\":\"ColumnDataSource\"}},\"id\":\"1508\",\"type\":\"CDSView\"},{\"attributes\":{},\"id\":\"1562\",\"type\":\"Selection\"},{\"attributes\":{\"end\":{\"id\":\"1509\",\"type\":\"OpenHead\"},\"plot\":{\"id\":\"1470\",\"subtype\":\"Figure\",\"type\":\"Plot\"},\"source\":null,\"start\":null,\"x_end\":{\"value\":1},\"x_start\":{\"value\":0},\"y_end\":{\"value\":0},\"y_start\":{\"value\":0}},\"id\":\"1510\",\"type\":\"Arrow\"},{\"attributes\":{},\"id\":\"1489\",\"type\":\"PanTool\"},{\"attributes\":{},\"id\":\"1490\",\"type\":\"WheelZoomTool\"},{\"attributes\":{\"overlay\":{\"id\":\"1497\",\"type\":\"BoxAnnotation\"}},\"id\":\"1491\",\"type\":\"BoxZoomTool\"},{\"attributes\":{\"fill_alpha\":{\"value\":0.1},\"fill_color\":{\"value\":\"#1f77b4\"},\"line_alpha\":{\"value\":0.1},\"line_color\":{\"value\":\"#1f77b4\"},\"radius\":{\"units\":\"data\",\"value\":0.05},\"x\":{\"field\":\"x\"},\"y\":{\"field\":\"y\"}},\"id\":\"1506\",\"type\":\"Circle\"},{\"attributes\":{},\"id\":\"1492\",\"type\":\"SaveTool\"},{\"attributes\":{\"fill_alpha\":{\"value\":0.1},\"fill_color\":{\"field\":\"fill_color\"},\"line_color\":{\"field\":\"line_color\"},\"radius\":{\"units\":\"data\",\"value\":0.05},\"x\":{\"field\":\"x\"},\"y\":{\"field\":\"y\"}},\"id\":\"1505\",\"type\":\"Circle\"},{\"attributes\":{},\"id\":\"1493\",\"type\":\"ResetTool\"},{\"attributes\":{\"data_source\":{\"id\":\"1504\",\"type\":\"ColumnDataSource\"},\"glyph\":{\"id\":\"1505\",\"type\":\"Circle\"},\"hover_glyph\":null,\"muted_glyph\":null,\"nonselection_glyph\":{\"id\":\"1506\",\"type\":\"Circle\"},\"selection_glyph\":null,\"view\":{\"id\":\"1508\",\"type\":\"CDSView\"}},\"id\":\"1507\",\"type\":\"GlyphRenderer\"},{\"attributes\":{},\"id\":\"1494\",\"type\":\"HelpTool\"}],\"root_ids\":[\"1470\"]},\"title\":\"Bokeh Application\",\"version\":\"1.0.4\"}};\n",
       "  var render_items = [{\"docid\":\"ead728fd-636e-468e-b6b9-42d19374c692\",\"roots\":{\"1470\":\"d5a74d8f-18df-4f84-8f58-1662eb7952f8\"}}];\n",
       "  root.Bokeh.embed.embed_items_notebook(docs_json, render_items);\n",
       "\n",
       "  }\n",
       "  if (root.Bokeh !== undefined) {\n",
       "    embed_document(root);\n",
       "  } else {\n",
       "    var attempts = 0;\n",
       "    var timer = setInterval(function(root) {\n",
       "      if (root.Bokeh !== undefined) {\n",
       "        embed_document(root);\n",
       "        clearInterval(timer);\n",
       "      }\n",
       "      attempts++;\n",
       "      if (attempts > 100) {\n",
       "        console.log(\"Bokeh: ERROR: Unable to run BokehJS code because BokehJS library is missing\");\n",
       "        clearInterval(timer);\n",
       "      }\n",
       "    }, 10, root)\n",
       "  }\n",
       "})(window);"
      ],
      "application/vnd.bokehjs_exec.v0+json": ""
     },
     "metadata": {
      "application/vnd.bokehjs_exec.v0+json": {
       "id": "1470"
      }
     },
     "output_type": "display_data"
    }
   ],
   "source": [
    "# 注释箭头\n",
    "\n",
    "from bokeh.models.annotations import Arrow\n",
    "from bokeh.models.arrow_heads import OpenHead, NormalHead, VeeHead   # 三种箭头类型\n",
    "# 导入相关模块\n",
    "\n",
    "p = figure(plot_width=600,plot_height=400,y_range=(-5,5))\n",
    "p.circle(x=[0,1,0.5],y=[0.5,1.5,2],radius=0.05,color=['red','gray','blue'],fill_alpha=0.1)\n",
    "# 创建散点图\n",
    "\n",
    "p.add_layout(Arrow(end=OpenHead(line_color=\"firebrick\", line_width=4),  # 设置箭头类型，及相关参数：OpenHead, NormalHead, VeeHead\n",
    "                   x_start=0, y_start=0, x_end=1, y_end=0))   # 设置箭头矢量方向\n",
    "# 绘制箭头1\n",
    "\n",
    "p.add_layout(Arrow(end=NormalHead(fill_color=\"orange\"),\n",
    "                   x_start=1, y_start=0, x_end=0.5, y_end=0.7))\n",
    "# 绘制箭头2\n",
    "\n",
    "p.add_layout(Arrow(end=VeeHead(size=35), line_color=\"red\",\n",
    "                   x_start=0.5, y_start=0.7, x_end=0, y_end=0))\n",
    "# 绘制箭头3\n",
    "\n",
    "show(p)"
   ]
  },
  {
   "cell_type": "code",
   "execution_count": 8,
   "metadata": {},
   "outputs": [
    {
     "name": "stdout",
     "output_type": "stream",
     "text": [
      "所有调色板名称：\n",
      " ['Accent3', 'Accent4', 'Accent5', 'Accent6', 'Accent7', 'Accent8', 'Blues3', 'Blues4', 'Blues5', 'Blues6', 'Blues7', 'Blues8', 'Blues9', 'BrBG3', 'BrBG4', 'BrBG5', 'BrBG6', 'BrBG7', 'BrBG8', 'BrBG9', 'BrBG10', 'BrBG11', 'BuGn3', 'BuGn4', 'BuGn5', 'BuGn6', 'BuGn7', 'BuGn8', 'BuGn9', 'BuPu3', 'BuPu4', 'BuPu5', 'BuPu6', 'BuPu7', 'BuPu8', 'BuPu9', 'Category10_3', 'Category10_4', 'Category10_5', 'Category10_6', 'Category10_7', 'Category10_8', 'Category10_9', 'Category10_10', 'Category20_3', 'Category20_4', 'Category20_5', 'Category20_6', 'Category20_7', 'Category20_8', 'Category20_9', 'Category20_10', 'Category20_11', 'Category20_12', 'Category20_13', 'Category20_14', 'Category20_15', 'Category20_16', 'Category20_17', 'Category20_18', 'Category20_19', 'Category20_20', 'Category20b3', 'Category20b4', 'Category20b5', 'Category20b6', 'Category20b7', 'Category20b8', 'Category20b9', 'Category20b10', 'Category20b11', 'Category20b12', 'Category20b13', 'Category20b14', 'Category20b15', 'Category20b16', 'Category20b17', 'Category20b18', 'Category20b19', 'Category20b20', 'Category20c3', 'Category20c4', 'Category20c5', 'Category20c6', 'Category20c7', 'Category20c8', 'Category20c9', 'Category20c10', 'Category20c11', 'Category20c12', 'Category20c13', 'Category20c14', 'Category20c15', 'Category20c16', 'Category20c17', 'Category20c18', 'Category20c19', 'Category20c20', 'Colorblind3', 'Colorblind4', 'Colorblind5', 'Colorblind6', 'Colorblind7', 'Colorblind8', 'Dark2_3', 'Dark2_4', 'Dark2_5', 'Dark2_6', 'Dark2_7', 'Dark2_8', 'GnBu3', 'GnBu4', 'GnBu5', 'GnBu6', 'GnBu7', 'GnBu8', 'GnBu9', 'Greens3', 'Greens4', 'Greens5', 'Greens6', 'Greens7', 'Greens8', 'Greens9', 'Greys3', 'Greys4', 'Greys5', 'Greys6', 'Greys7', 'Greys8', 'Greys9', 'Greys256', 'Inferno3', 'Inferno4', 'Inferno5', 'Inferno6', 'Inferno7', 'Inferno8', 'Inferno9', 'Inferno10', 'Inferno11', 'Inferno256', 'Magma3', 'Magma4', 'Magma5', 'Magma6', 'Magma7', 'Magma8', 'Magma9', 'Magma10', 'Magma11', 'Magma256', 'OrRd3', 'OrRd4', 'OrRd5', 'OrRd6', 'OrRd7', 'OrRd8', 'OrRd9', 'Oranges3', 'Oranges4', 'Oranges5', 'Oranges6', 'Oranges7', 'Oranges8', 'Oranges9', 'PRGn3', 'PRGn4', 'PRGn5', 'PRGn6', 'PRGn7', 'PRGn8', 'PRGn9', 'PRGn10', 'PRGn11', 'Paired3', 'Paired4', 'Paired5', 'Paired6', 'Paired7', 'Paired8', 'Paired9', 'Paired10', 'Paired11', 'Paired12', 'Pastel1_3', 'Pastel1_4', 'Pastel1_5', 'Pastel1_6', 'Pastel1_7', 'Pastel1_8', 'Pastel1_9', 'Pastel2_3', 'Pastel2_4', 'Pastel2_5', 'Pastel2_6', 'Pastel2_7', 'Pastel2_8', 'PiYG3', 'PiYG4', 'PiYG5', 'PiYG6', 'PiYG7', 'PiYG8', 'PiYG9', 'PiYG10', 'PiYG11', 'Plasma3', 'Plasma4', 'Plasma5', 'Plasma6', 'Plasma7', 'Plasma8', 'Plasma9', 'Plasma10', 'Plasma11', 'Plasma256', 'PuBu3', 'PuBu4', 'PuBu5', 'PuBu6', 'PuBu7', 'PuBu8', 'PuBu9', 'PuBuGn3', 'PuBuGn4', 'PuBuGn5', 'PuBuGn6', 'PuBuGn7', 'PuBuGn8', 'PuBuGn9', 'PuOr3', 'PuOr4', 'PuOr5', 'PuOr6', 'PuOr7', 'PuOr8', 'PuOr9', 'PuOr10', 'PuOr11', 'PuRd3', 'PuRd4', 'PuRd5', 'PuRd6', 'PuRd7', 'PuRd8', 'PuRd9', 'Purples3', 'Purples4', 'Purples5', 'Purples6', 'Purples7', 'Purples8', 'Purples9', 'RdBu3', 'RdBu4', 'RdBu5', 'RdBu6', 'RdBu7', 'RdBu8', 'RdBu9', 'RdBu10', 'RdBu11', 'RdGy3', 'RdGy4', 'RdGy5', 'RdGy6', 'RdGy7', 'RdGy8', 'RdGy9', 'RdGy10', 'RdGy11', 'RdPu3', 'RdPu4', 'RdPu5', 'RdPu6', 'RdPu7', 'RdPu8', 'RdPu9', 'RdYlBu3', 'RdYlBu4', 'RdYlBu5', 'RdYlBu6', 'RdYlBu7', 'RdYlBu8', 'RdYlBu9', 'RdYlBu10', 'RdYlBu11', 'RdYlGn3', 'RdYlGn4', 'RdYlGn5', 'RdYlGn6', 'RdYlGn7', 'RdYlGn8', 'RdYlGn9', 'RdYlGn10', 'RdYlGn11', 'Reds3', 'Reds4', 'Reds5', 'Reds6', 'Reds7', 'Reds8', 'Reds9', 'Set1_3', 'Set1_4', 'Set1_5', 'Set1_6', 'Set1_7', 'Set1_8', 'Set1_9', 'Set2_3', 'Set2_4', 'Set2_5', 'Set2_6', 'Set2_7', 'Set2_8', 'Set3_3', 'Set3_4', 'Set3_5', 'Set3_6', 'Set3_7', 'Set3_8', 'Set3_9', 'Set3_10', 'Set3_11', 'Set3_12', 'Spectral3', 'Spectral4', 'Spectral5', 'Spectral6', 'Spectral7', 'Spectral8', 'Spectral9', 'Spectral10', 'Spectral11', 'Viridis3', 'Viridis4', 'Viridis5', 'Viridis6', 'Viridis7', 'Viridis8', 'Viridis9', 'Viridis10', 'Viridis11', 'Viridis256', 'YlGn3', 'YlGn4', 'YlGn5', 'YlGn6', 'YlGn7', 'YlGn8', 'YlGn9', 'YlGnBu3', 'YlGnBu4', 'YlGnBu5', 'YlGnBu6', 'YlGnBu7', 'YlGnBu8', 'YlGnBu9', 'YlOrBr3', 'YlOrBr4', 'YlOrBr5', 'YlOrBr6', 'YlOrBr7', 'YlOrBr8', 'YlOrBr9', 'YlOrRd3', 'YlOrRd4', 'YlOrRd5', 'YlOrRd6', 'YlOrRd7', 'YlOrRd8', 'YlOrRd9']\n",
      "-------\n",
      "蓝色调色盘颜色：\n",
      " {3: ['#3182bd', '#9ecae1', '#deebf7'], 4: ['#2171b5', '#6baed6', '#bdd7e7', '#eff3ff'], 5: ['#08519c', '#3182bd', '#6baed6', '#bdd7e7', '#eff3ff'], 6: ['#08519c', '#3182bd', '#6baed6', '#9ecae1', '#c6dbef', '#eff3ff'], 7: ['#084594', '#2171b5', '#4292c6', '#6baed6', '#9ecae1', '#c6dbef', '#eff3ff'], 8: ['#084594', '#2171b5', '#4292c6', '#6baed6', '#9ecae1', '#c6dbef', '#deebf7', '#f7fbff'], 9: ['#08306b', '#08519c', '#2171b5', '#4292c6', '#6baed6', '#9ecae1', '#c6dbef', '#deebf7', '#f7fbff']}\n",
      "-------\n",
      "YlGn调色盘解析为8个颜色，分别为：\n",
      " ['#005a32', '#238443', '#41ab5d', '#78c679', '#addd8e', '#d9f0a3', '#f7fcb9', '#ffffe5']\n"
     ]
    }
   ],
   "source": [
    "# 调色盘\n",
    "# 颜色参考文档：http://bokeh.pydata.org/en/latest/docs/reference/palettes.html\n",
    "# ColorBrewer：http://colorbrewer2.org/#type=sequential&scheme=BuGn&n=3\n",
    "\n",
    "import bokeh.palettes as bp\n",
    "from bokeh.palettes import brewer\n",
    "\n",
    "print('所有调色板名称：\\n',bp.__palettes__)\n",
    "print('-------')\n",
    "# 查看所有调色板名称\n",
    "\n",
    "print('蓝色调色盘颜色：\\n',bp.Blues)\n",
    "print('-------')\n",
    "# 查看蓝色调色盘颜色\n",
    "\n",
    "n = 8\n",
    "colori = brewer['YlGn'][n]   \n",
    "print('YlGn调色盘解析为%i个颜色，分别为：\\n' % n, colori)\n",
    "# 调色盘解析 → 不同颜色解析最多颜色有限"
   ]
  },
  {
   "cell_type": "code",
   "execution_count": null,
   "metadata": {},
   "outputs": [],
   "source": [
    "'''\n",
    "【课程5.4】  散点图\n",
    "\n",
    "① 基本散点图绘制\n",
    "② 散点图颜色、大小设置方法\n",
    "③ 不同符号的散点图\n",
    "\n",
    "'''"
   ]
  },
  {
   "cell_type": "code",
   "execution_count": 9,
   "metadata": {},
   "outputs": [
    {
     "data": {
      "text/html": [
       "\n",
       "\n",
       "\n",
       "\n",
       "\n",
       "\n",
       "  <div class=\"bk-root\" id=\"deb5b198-6b76-42e7-bc76-1d7faa23647e\" data-root-id=\"1617\"></div>\n"
      ]
     },
     "metadata": {},
     "output_type": "display_data"
    },
    {
     "data": {
      "application/javascript": [
       "(function(root) {\n",
       "  function embed_document(root) {\n",
       "    \n",
       "  var docs_json = {\"b8f4c9b8-59f1-4d8a-b571-1b1bbca2b122\":{\"roots\":{\"references\":[{\"attributes\":{\"below\":[{\"id\":\"1626\",\"type\":\"LinearAxis\"}],\"left\":[{\"id\":\"1631\",\"type\":\"LinearAxis\"}],\"plot_height\":400,\"renderers\":[{\"id\":\"1626\",\"type\":\"LinearAxis\"},{\"id\":\"1630\",\"type\":\"Grid\"},{\"id\":\"1631\",\"type\":\"LinearAxis\"},{\"id\":\"1635\",\"type\":\"Grid\"},{\"id\":\"1644\",\"type\":\"BoxAnnotation\"},{\"id\":\"1663\",\"type\":\"Legend\"},{\"id\":\"1654\",\"type\":\"GlyphRenderer\"}],\"title\":{\"id\":\"1657\",\"type\":\"Title\"},\"toolbar\":{\"id\":\"1642\",\"type\":\"Toolbar\"},\"x_range\":{\"id\":\"1618\",\"type\":\"DataRange1d\"},\"x_scale\":{\"id\":\"1622\",\"type\":\"LinearScale\"},\"y_range\":{\"id\":\"1620\",\"type\":\"DataRange1d\"},\"y_scale\":{\"id\":\"1624\",\"type\":\"LinearScale\"}},\"id\":\"1617\",\"subtype\":\"Figure\",\"type\":\"Plot\"},{\"attributes\":{},\"id\":\"1660\",\"type\":\"BasicTickFormatter\"},{\"attributes\":{\"plot\":{\"id\":\"1617\",\"subtype\":\"Figure\",\"type\":\"Plot\"},\"ticker\":{\"id\":\"1627\",\"type\":\"BasicTicker\"}},\"id\":\"1630\",\"type\":\"Grid\"},{\"attributes\":{\"items\":[{\"id\":\"1664\",\"type\":\"LegendItem\"}],\"plot\":{\"id\":\"1617\",\"subtype\":\"Figure\",\"type\":\"Plot\"}},\"id\":\"1663\",\"type\":\"Legend\"},{\"attributes\":{\"fill_alpha\":{\"value\":0.5},\"fill_color\":{\"value\":\"red\"},\"line_alpha\":{\"value\":0.8},\"line_dash\":[6],\"line_width\":{\"value\":2},\"size\":{\"units\":\"screen\",\"value\":10},\"x\":{\"field\":\"x\"},\"y\":{\"field\":\"y\"}},\"id\":\"1652\",\"type\":\"Circle\"},{\"attributes\":{\"formatter\":{\"id\":\"1660\",\"type\":\"BasicTickFormatter\"},\"plot\":{\"id\":\"1617\",\"subtype\":\"Figure\",\"type\":\"Plot\"},\"ticker\":{\"id\":\"1632\",\"type\":\"BasicTicker\"}},\"id\":\"1631\",\"type\":\"LinearAxis\"},{\"attributes\":{\"label\":{\"value\":\"scatter-circle\"},\"renderers\":[{\"id\":\"1654\",\"type\":\"GlyphRenderer\"}]},\"id\":\"1664\",\"type\":\"LegendItem\"},{\"attributes\":{},\"id\":\"1632\",\"type\":\"BasicTicker\"},{\"attributes\":{},\"id\":\"1718\",\"type\":\"Selection\"},{\"attributes\":{\"dimension\":1,\"plot\":{\"id\":\"1617\",\"subtype\":\"Figure\",\"type\":\"Plot\"},\"ticker\":{\"id\":\"1632\",\"type\":\"BasicTicker\"}},\"id\":\"1635\",\"type\":\"Grid\"},{\"attributes\":{\"data_source\":{\"id\":\"1651\",\"type\":\"ColumnDataSource\"},\"glyph\":{\"id\":\"1652\",\"type\":\"Circle\"},\"hover_glyph\":null,\"muted_glyph\":null,\"nonselection_glyph\":{\"id\":\"1653\",\"type\":\"Circle\"},\"selection_glyph\":null,\"view\":{\"id\":\"1655\",\"type\":\"CDSView\"}},\"id\":\"1654\",\"type\":\"GlyphRenderer\"},{\"attributes\":{\"fill_alpha\":{\"value\":0.1},\"fill_color\":{\"value\":\"#1f77b4\"},\"line_alpha\":{\"value\":0.1},\"line_color\":{\"value\":\"#1f77b4\"},\"line_dash\":[6],\"line_width\":{\"value\":2},\"size\":{\"units\":\"screen\",\"value\":10},\"x\":{\"field\":\"x\"},\"y\":{\"field\":\"y\"}},\"id\":\"1653\",\"type\":\"Circle\"},{\"attributes\":{\"source\":{\"id\":\"1651\",\"type\":\"ColumnDataSource\"}},\"id\":\"1655\",\"type\":\"CDSView\"},{\"attributes\":{},\"id\":\"1622\",\"type\":\"LinearScale\"},{\"attributes\":{},\"id\":\"1636\",\"type\":\"PanTool\"},{\"attributes\":{},\"id\":\"1637\",\"type\":\"WheelZoomTool\"},{\"attributes\":{\"overlay\":{\"id\":\"1644\",\"type\":\"BoxAnnotation\"}},\"id\":\"1638\",\"type\":\"BoxZoomTool\"},{\"attributes\":{\"formatter\":{\"id\":\"1658\",\"type\":\"BasicTickFormatter\"},\"plot\":{\"id\":\"1617\",\"subtype\":\"Figure\",\"type\":\"Plot\"},\"ticker\":{\"id\":\"1627\",\"type\":\"BasicTicker\"}},\"id\":\"1626\",\"type\":\"LinearAxis\"},{\"attributes\":{},\"id\":\"1639\",\"type\":\"SaveTool\"},{\"attributes\":{},\"id\":\"1624\",\"type\":\"LinearScale\"},{\"attributes\":{},\"id\":\"1640\",\"type\":\"ResetTool\"},{\"attributes\":{},\"id\":\"1641\",\"type\":\"HelpTool\"},{\"attributes\":{},\"id\":\"1717\",\"type\":\"UnionRenderers\"},{\"attributes\":{\"callback\":null},\"id\":\"1618\",\"type\":\"DataRange1d\"},{\"attributes\":{\"active_drag\":\"auto\",\"active_inspect\":\"auto\",\"active_multi\":null,\"active_scroll\":\"auto\",\"active_tap\":\"auto\",\"tools\":[{\"id\":\"1636\",\"type\":\"PanTool\"},{\"id\":\"1637\",\"type\":\"WheelZoomTool\"},{\"id\":\"1638\",\"type\":\"BoxZoomTool\"},{\"id\":\"1639\",\"type\":\"SaveTool\"},{\"id\":\"1640\",\"type\":\"ResetTool\"},{\"id\":\"1641\",\"type\":\"HelpTool\"}]},\"id\":\"1642\",\"type\":\"Toolbar\"},{\"attributes\":{\"callback\":null},\"id\":\"1620\",\"type\":\"DataRange1d\"},{\"attributes\":{\"bottom_units\":\"screen\",\"fill_alpha\":{\"value\":0.5},\"fill_color\":{\"value\":\"lightgrey\"},\"left_units\":\"screen\",\"level\":\"overlay\",\"line_alpha\":{\"value\":1.0},\"line_color\":{\"value\":\"black\"},\"line_dash\":[4,4],\"line_width\":{\"value\":2},\"plot\":null,\"render_mode\":\"css\",\"right_units\":\"screen\",\"top_units\":\"screen\"},\"id\":\"1644\",\"type\":\"BoxAnnotation\"},{\"attributes\":{\"callback\":null,\"data\":{\"x\":[0,1,2,3,4,5,6,7,8,9,10,11,12,13,14,15,16,17,18,19,20,21,22,23,24,25,26,27,28,29,30,31,32,33,34,35,36,37,38,39,40,41,42,43,44,45,46,47,48,49,50,51,52,53,54,55,56,57,58,59,60,61,62,63,64,65,66,67,68,69,70,71,72,73,74,75,76,77,78,79],\"y\":{\"__ndarray__\":\"1B6uO3F/7j81bUYgrzfsPxV6mgdB8/q/KxI559g88L/z04zkOe7rv0sijpCt+Pm/mB/hE135zr+vch7faoH4P9tIM4AuOc0/9Y+3kySos79qkRZrVhb7P1EGXPn6yeu/Woo4C71N6D/vJeunx2Xhv7C/3NBdteg/SsbkmOn43L/KNbtm15rwP6tV2WTz/fO/RymvIpuzkD9U0EdG+Cz8P4ghi46LLu2/8PjfY1Ro6T/8p4WfyRL2vy/cr+or/PA/EfI8d03H+r9e0uYMD/DWP4oehaZrB+W/4bixuugV6L/eIFm3osHwv9G33f3uF/C/8VXt2yO5/L86/u6APA3rvxDRXN0l8Oa/3SZBrbJL0z/YB+wX4Qv9Pxq69L/LLdA/VteZ6iMA1D8f3bq6/Q71v3Vuzs8yIva/b79trhOl3z9jIOmn6xXtv8zqs+i6z9y/ScIZhcK96L+44+paCJjGP1Yg+r3Hlvq/QNtypZRmwr/uSIZZh27MPzciCnm+yPU/DEGhnroa2r8WXyXGmvPXv4XSw609mO0/fMkSJ19V+T94jXimshzZv8TeB61o5/A/9mMd/s7z8b/xifRxIFHrPxHJynB2dea/e/DxmMYq8D8l5PLjt+bzP+zipMaucdC/p9kkQlLT6j+3v63QMpvfP60K1OBLkvA/KG2xy5Lg6793ddvFJ8H5P7HibTZtW9c/c8u3tKXu8T8gvz4lDY3Zvy9TCB4X0ue/eHfaDuaN779DLk1ZKGrVP8mcVSpZ6dW/4/p1kzvA5T+2Hx0eOKX3P9gOV7kVJwjASVfIIHjmrz+KaZk1/AjlvxkrbDydw9k/K9qIwvzN579Z4kuuLUrkvw==\",\"dtype\":\"float64\",\"shape\":[80]}},\"selected\":{\"id\":\"1718\",\"type\":\"Selection\"},\"selection_policy\":{\"id\":\"1717\",\"type\":\"UnionRenderers\"}},\"id\":\"1651\",\"type\":\"ColumnDataSource\"},{\"attributes\":{\"plot\":null,\"text\":\"\"},\"id\":\"1657\",\"type\":\"Title\"},{\"attributes\":{},\"id\":\"1627\",\"type\":\"BasicTicker\"},{\"attributes\":{},\"id\":\"1658\",\"type\":\"BasicTickFormatter\"}],\"root_ids\":[\"1617\"]},\"title\":\"Bokeh Application\",\"version\":\"1.0.4\"}};\n",
       "  var render_items = [{\"docid\":\"b8f4c9b8-59f1-4d8a-b571-1b1bbca2b122\",\"roots\":{\"1617\":\"deb5b198-6b76-42e7-bc76-1d7faa23647e\"}}];\n",
       "  root.Bokeh.embed.embed_items_notebook(docs_json, render_items);\n",
       "\n",
       "  }\n",
       "  if (root.Bokeh !== undefined) {\n",
       "    embed_document(root);\n",
       "  } else {\n",
       "    var attempts = 0;\n",
       "    var timer = setInterval(function(root) {\n",
       "      if (root.Bokeh !== undefined) {\n",
       "        embed_document(root);\n",
       "        clearInterval(timer);\n",
       "      }\n",
       "      attempts++;\n",
       "      if (attempts > 100) {\n",
       "        console.log(\"Bokeh: ERROR: Unable to run BokehJS code because BokehJS library is missing\");\n",
       "        clearInterval(timer);\n",
       "      }\n",
       "    }, 10, root)\n",
       "  }\n",
       "})(window);"
      ],
      "application/vnd.bokehjs_exec.v0+json": ""
     },
     "metadata": {
      "application/vnd.bokehjs_exec.v0+json": {
       "id": "1617"
      }
     },
     "output_type": "display_data"
    }
   ],
   "source": [
    "# 1、基本散点图绘制\n",
    "\n",
    "s = pd.Series(np.random.randn(80))\n",
    "# 创建数据\n",
    "\n",
    "p = figure(plot_width=600,plot_height=400)\n",
    "p.circle(x=s.index,y=s.values,                           # x，y值，也可以写成：x=s.index, y = s.values\n",
    "        size=10,color='navy',alpha=0.5,      # 点的大小、颜色、透明度（注意，这里的color是线+填充的颜色，同时线和填充可以分别上色，参数如下）\n",
    "        fill_color='red',fill_alpha=0.5,                  # 填充的颜色、透明度\n",
    "        line_color='black',line_alpha=0.8,line_dash='dashed',line_width=2,          # 点边线的颜色、透明度、虚线、宽度\n",
    "         # 同时还有line_cap、line_dash_offset、line_join参数\n",
    "        legend = 'scatter-circle',                               # 设置图例\n",
    "        #radius = 2   # 设置点的半径，和size只能同时选一个\n",
    "        )\n",
    "# 创建散点图，基本参数\n",
    "# bokeh对line和fill是同样的设置方法\n",
    "\n",
    "p.legend.location = 'top_right'\n",
    "# 设置图例位置\n",
    "\n",
    "show(p)"
   ]
  },
  {
   "cell_type": "code",
   "execution_count": 10,
   "metadata": {},
   "outputs": [
    {
     "data": {
      "text/html": [
       "\n",
       "\n",
       "\n",
       "\n",
       "\n",
       "\n",
       "  <div class=\"bk-root\" id=\"4d1ade86-2aef-4c4b-8914-9d0ffd5ae29d\" data-root-id=\"1773\"></div>\n"
      ]
     },
     "metadata": {},
     "output_type": "display_data"
    },
    {
     "data": {
      "application/javascript": [
       "(function(root) {\n",
       "  function embed_document(root) {\n",
       "    \n",
       "  var docs_json = {\"f5c465a9-efca-4366-9f32-52f0127debbe\":{\"roots\":{\"references\":[{\"attributes\":{\"below\":[{\"id\":\"1782\",\"type\":\"LinearAxis\"}],\"left\":[{\"id\":\"1787\",\"type\":\"LinearAxis\"}],\"plot_height\":400,\"renderers\":[{\"id\":\"1782\",\"type\":\"LinearAxis\"},{\"id\":\"1786\",\"type\":\"Grid\"},{\"id\":\"1787\",\"type\":\"LinearAxis\"},{\"id\":\"1791\",\"type\":\"Grid\"},{\"id\":\"1800\",\"type\":\"BoxAnnotation\"},{\"id\":\"1810\",\"type\":\"GlyphRenderer\"}],\"title\":{\"id\":\"1867\",\"type\":\"Title\"},\"toolbar\":{\"id\":\"1798\",\"type\":\"Toolbar\"},\"x_range\":{\"id\":\"1774\",\"type\":\"DataRange1d\"},\"x_scale\":{\"id\":\"1778\",\"type\":\"LinearScale\"},\"y_range\":{\"id\":\"1776\",\"type\":\"DataRange1d\"},\"y_scale\":{\"id\":\"1780\",\"type\":\"LinearScale\"}},\"id\":\"1773\",\"subtype\":\"Figure\",\"type\":\"Plot\"},{\"attributes\":{},\"id\":\"1873\",\"type\":\"UnionRenderers\"},{\"attributes\":{\"callback\":null},\"id\":\"1774\",\"type\":\"DataRange1d\"},{\"attributes\":{},\"id\":\"1874\",\"type\":\"Selection\"},{\"attributes\":{\"overlay\":{\"id\":\"1800\",\"type\":\"BoxAnnotation\"}},\"id\":\"1794\",\"type\":\"BoxZoomTool\"},{\"attributes\":{\"callback\":null},\"id\":\"1776\",\"type\":\"DataRange1d\"},{\"attributes\":{},\"id\":\"1778\",\"type\":\"LinearScale\"},{\"attributes\":{},\"id\":\"1780\",\"type\":\"LinearScale\"},{\"attributes\":{\"fill_alpha\":{\"value\":0.8},\"fill_color\":{\"field\":\"fill_color\"},\"line_color\":{\"value\":\"white\"},\"size\":{\"field\":\"size\",\"units\":\"screen\"},\"x\":{\"field\":\"x\"},\"y\":{\"field\":\"y\"}},\"id\":\"1808\",\"type\":\"Circle\"},{\"attributes\":{\"formatter\":{\"id\":\"1868\",\"type\":\"BasicTickFormatter\"},\"plot\":{\"id\":\"1773\",\"subtype\":\"Figure\",\"type\":\"Plot\"},\"ticker\":{\"id\":\"1783\",\"type\":\"BasicTicker\"}},\"id\":\"1782\",\"type\":\"LinearAxis\"},{\"attributes\":{\"formatter\":{\"id\":\"1870\",\"type\":\"BasicTickFormatter\"},\"plot\":{\"id\":\"1773\",\"subtype\":\"Figure\",\"type\":\"Plot\"},\"ticker\":{\"id\":\"1788\",\"type\":\"BasicTicker\"}},\"id\":\"1787\",\"type\":\"LinearAxis\"},{\"attributes\":{},\"id\":\"1783\",\"type\":\"BasicTicker\"},{\"attributes\":{\"plot\":null,\"text\":\"\"},\"id\":\"1867\",\"type\":\"Title\"},{\"attributes\":{},\"id\":\"1793\",\"type\":\"WheelZoomTool\"},{\"attributes\":{},\"id\":\"1797\",\"type\":\"HelpTool\"},{\"attributes\":{\"active_drag\":\"auto\",\"active_inspect\":\"auto\",\"active_multi\":null,\"active_scroll\":\"auto\",\"active_tap\":\"auto\",\"tools\":[{\"id\":\"1792\",\"type\":\"PanTool\"},{\"id\":\"1793\",\"type\":\"WheelZoomTool\"},{\"id\":\"1794\",\"type\":\"BoxZoomTool\"},{\"id\":\"1795\",\"type\":\"SaveTool\"},{\"id\":\"1796\",\"type\":\"ResetTool\"},{\"id\":\"1797\",\"type\":\"HelpTool\"}]},\"id\":\"1798\",\"type\":\"Toolbar\"},{\"attributes\":{\"fill_alpha\":{\"value\":0.1},\"fill_color\":{\"value\":\"#1f77b4\"},\"line_alpha\":{\"value\":0.1},\"line_color\":{\"value\":\"#1f77b4\"},\"size\":{\"field\":\"size\",\"units\":\"screen\"},\"x\":{\"field\":\"x\"},\"y\":{\"field\":\"y\"}},\"id\":\"1809\",\"type\":\"Circle\"},{\"attributes\":{\"source\":{\"id\":\"1807\",\"type\":\"ColumnDataSource\"}},\"id\":\"1811\",\"type\":\"CDSView\"},{\"attributes\":{\"bottom_units\":\"screen\",\"fill_alpha\":{\"value\":0.5},\"fill_color\":{\"value\":\"lightgrey\"},\"left_units\":\"screen\",\"level\":\"overlay\",\"line_alpha\":{\"value\":1.0},\"line_color\":{\"value\":\"black\"},\"line_dash\":[4,4],\"line_width\":{\"value\":2},\"plot\":null,\"render_mode\":\"css\",\"right_units\":\"screen\",\"top_units\":\"screen\"},\"id\":\"1800\",\"type\":\"BoxAnnotation\"},{\"attributes\":{},\"id\":\"1788\",\"type\":\"BasicTicker\"},{\"attributes\":{\"callback\":null,\"data\":{\"fill_color\":[\"#084594\",\"#6baed6\",\"#9ecae1\",\"#c6dbef\",\"#deebf7\",\"#f7fbff\",\"#f7fbff\",\"#6baed6\",\"#2171b5\",\"#2171b5\",\"#9ecae1\",\"#6baed6\",\"#deebf7\",\"#f7fbff\",\"#9ecae1\",\"#4292c6\",\"#6baed6\",\"#2171b5\",\"#9ecae1\",\"#4292c6\",\"#6baed6\",\"#6baed6\",\"#084594\",\"#f7fbff\",\"#4292c6\",\"#9ecae1\",\"#9ecae1\",\"#f7fbff\",\"#deebf7\",\"#f7fbff\",\"#084594\",\"#4292c6\",\"#4292c6\",\"#2171b5\",\"#9ecae1\",\"#9ecae1\",\"#6baed6\",\"#9ecae1\",\"#6baed6\",\"#6baed6\",\"#2171b5\",\"#084594\",\"#084594\",\"#4292c6\",\"#6baed6\",\"#6baed6\",\"#6baed6\",\"#2171b5\",\"#f7fbff\",\"#9ecae1\",\"#6baed6\",\"#c6dbef\",\"#6baed6\",\"#2171b5\",\"#f7fbff\",\"#f7fbff\",\"#4292c6\",\"#f7fbff\",\"#2171b5\",\"#6baed6\",\"#deebf7\",\"#2171b5\",\"#4292c6\",\"#deebf7\",\"#2171b5\",\"#9ecae1\",\"#f7fbff\",\"#2171b5\",\"#4292c6\",\"#9ecae1\",\"#6baed6\",\"#c6dbef\",\"#4292c6\",\"#9ecae1\",\"#6baed6\",\"#084594\",\"#6baed6\",\"#084594\",\"#2171b5\",\"#c6dbef\",\"#f7fbff\",\"#084594\",\"#2171b5\",\"#084594\",\"#c6dbef\",\"#f7fbff\",\"#f7fbff\",\"#2171b5\",\"#c6dbef\",\"#deebf7\",\"#f7fbff\",\"#6baed6\",\"#9ecae1\",\"#4292c6\",\"#c6dbef\",\"#9ecae1\",\"#2171b5\",\"#deebf7\",\"#f7fbff\",\"#9ecae1\"],\"size\":{\"__ndarray__\":\"EQAAABUAAAAPAAAAGwAAABQAAAAWAAAAEgAAABkAAAAaAAAADAAAABwAAAANAAAAGAAAAAoAAAAVAAAAGQAAABgAAAAaAAAAGQAAABUAAAARAAAADQAAABkAAAASAAAAEwAAABYAAAAMAAAAGwAAAAoAAAAdAAAAHQAAABEAAAAWAAAAEgAAABgAAAAPAAAAGgAAAA4AAAAaAAAADAAAAB0AAAAdAAAAEAAAABcAAAAOAAAAHAAAABwAAAAWAAAAHAAAAA4AAAAWAAAAEgAAABQAAAATAAAAEQAAABkAAAAbAAAADQAAABwAAAAcAAAAGQAAAAsAAAAUAAAAGAAAABAAAAAWAAAACwAAAAwAAAAQAAAAGgAAABgAAAANAAAAEAAAABwAAAAdAAAADAAAABYAAAAcAAAAGwAAABMAAAAUAAAACwAAABEAAAARAAAAFQAAAA0AAAAQAAAADgAAAB0AAAASAAAADQAAABgAAAAMAAAAEgAAAAoAAAASAAAAEAAAABsAAAASAAAADQAAAA==\",\"dtype\":\"int32\",\"shape\":[100]},\"x\":{\"__ndarray__\":\"lTx7NdpI7D8KmbbW4OHWP6+bQmp5W/G/Uz2nBiIQ7j9prV+LXhngP8Cax86Vs9Q/9qrImDNY6b+7UnDI13j0v6HCLW+zoKa/da+3VVfR8D+88LYIMpbFvznZyc0P7PE/8sQohbklz7/I8Jb8j+i7vwNYtB7Pe8A/uSN9vfVV7L/EVkeGCtrtP1PkNwID6+2/UO09UMHd4D8+aQ+MYhjVPzRxI3/UqdW/m+X1dhtG479MjJXSgLTkP1fSYuaXCNw/agtena1F8z+UjtfFeZTfPzx9GgEVxOG/VZIkA1Bt6z9zNmAM2x3Mv2uL5mLZt/e/6tVSs6aE6r9vPR/RJuPgP6ZyFKKn0vQ/9QeZ5t/BAEAR9pl5sBzmP5KbfO01Srk/QO5xH1Ja678c8xItecruv5cPBezxps6/l5W2UI6v5D+XFHSY9o2jP39fDvw5YsI/2lcaEWs22r+SXcKs4uPZv7r5kQOOC+6/o2kvH+WG8T85VJfPzxH3v6uXES9wEvq/AwwidxHm8L/0cXUrjGbuv7lt1g7LBuG/doS75fn8yz90bxq180XNv6OYohsEOsU/HAzJHulj/7+w5MgYXnjxPypw+oDyxua/zn6XYvMS6D9dw/o9CKflPzQG4uUZXde/QuA8GiOI0j/in4xWJbL5P4VDy48llPy/OUMpkTCa+D+nt2tvkBa7vyWD3CF1AIc/5y+y2W87+L9bRD5Zku7qP0YhgpXpZ+o/b/8Rstyj1T/uBDU8pE3WPyOFhUP61fG/P9Og8sPhlT9TZSvB+Dv9P6N+x/lg7/A/pc6nVnKE4z+anA4+bQ//v2+UqC9Bzv0/zflo1byc3j+ToBur88vzPz+H6fgMLOc/V8WC/LaHwz8jqTsutWnRP0fkl6XJObY/CCwqnMeZ/T+9T/o8K+nsP7gdVCBLEPc/wM5OD5912z/kX3h+dAzcvxy+nytzSf8/nZz/jqbnvj/33pgbNd31P+/9y1aDB5A/OFNJPCLS6b8NP94xpdjwP3CyegDxBfe/grIL2wrI6T9v4FySUrHQv7B9+iG52vm/Z4NwVZAVpb8=\",\"dtype\":\"float64\",\"shape\":[100]},\"y\":{\"__ndarray__\":\"HH8K5BoSyT+vfxUZAL8CwArWVTEI6eE/Rvx0ebdP779tjyHVsQLaP5WBUjwLlN+/Jl0Kma306r+eRpc8mHPPPxzxLN8FFfk/McaNtvAB2j+6dV3lgoQJwEUVDD4PU/U/qZpGqtikwL/C7HHAI+b4PyiCcmkciQDAoD1UiVus8b/L+JxYjHoAQGQJt9TOzvm/bRwvAU/R+L8KEwx0Ni/yv094gwvJitQ/UK/yFTW3+D+xU+6povviP1T8Z/mAufU/1e/pCfWg9T87gTQ/iqIFwI1AXT5ct1g/moIxrsOy9z+sDrA56w34P0Nok4CyZeu/JmxdRjkyvT/ZvKzBgfLDP/AvYs9q1e+//HKRd+IA1z8uEY/sgcX3v0A045+fOc2/4z0FSa9r4L/Ho3jJeeDev9xNxAxzbN0/KkpGMJwx3z+njii336nvPw9tI81wAug/DaqKSpQo9z+mFfYx/2HyP4BoypFlbP6/0szXCchY1b+7ppvAqqr2v6jqmqxJC/2/yq/LyJ684T+WPiAOu3TrP/n7z7cbA/I/rbzbXfok2b9LRPAIVzj5v0FfadHSPek/UpRh2vKh/b8c6bsUK+jtP1NEfzXeFvc/wFXE4NVb9b9l9hIla5jqP5sxEm0Vy98/ov+s7egX3r9un83cMKvDv0dEgp6Slby/ky5JGpGB8L8sF+ZLRxQAQHF6HJhNbvG/cN6Zi5Dp4b+53qpLcRnQPx545+LAJ/0/0KKJzonruz9aFwINWr7cP/A6NSjqiu2/d+Bgg3MF4z/ErdrHUWLxvyUQNsTG6Oc/dJRbtDLFs7/1MEf4ENrVP7Cbf1wO5dK/r8CzLdfi5r9/I0S7duTqP5obBcp1D8e/mexgpdit8z9i7A/iDDizP+sZFBByHwTAR50Lc9OAxr91S40C+bj4vx3a7xWMNNE/5S7anMnt2z+klriVXLr2P931JlaSD9m/p/WqHmN/2j/emxrCv8/1v3HLDfj58uw/lGXIKxia5r8SBrP2u+23v+xma2/U69O/tvjGg060ib9hpEYCmnbsv4chNEVLQ+u/Ct6SNAlN0b8=\",\"dtype\":\"float64\",\"shape\":[100]}},\"selected\":{\"id\":\"1874\",\"type\":\"Selection\"},\"selection_policy\":{\"id\":\"1873\",\"type\":\"UnionRenderers\"}},\"id\":\"1807\",\"type\":\"ColumnDataSource\"},{\"attributes\":{\"data_source\":{\"id\":\"1807\",\"type\":\"ColumnDataSource\"},\"glyph\":{\"id\":\"1808\",\"type\":\"Circle\"},\"hover_glyph\":null,\"muted_glyph\":null,\"nonselection_glyph\":{\"id\":\"1809\",\"type\":\"Circle\"},\"selection_glyph\":null,\"view\":{\"id\":\"1811\",\"type\":\"CDSView\"}},\"id\":\"1810\",\"type\":\"GlyphRenderer\"},{\"attributes\":{},\"id\":\"1796\",\"type\":\"ResetTool\"},{\"attributes\":{},\"id\":\"1795\",\"type\":\"SaveTool\"},{\"attributes\":{},\"id\":\"1792\",\"type\":\"PanTool\"},{\"attributes\":{},\"id\":\"1868\",\"type\":\"BasicTickFormatter\"},{\"attributes\":{\"dimension\":1,\"plot\":{\"id\":\"1773\",\"subtype\":\"Figure\",\"type\":\"Plot\"},\"ticker\":{\"id\":\"1788\",\"type\":\"BasicTicker\"}},\"id\":\"1791\",\"type\":\"Grid\"},{\"attributes\":{},\"id\":\"1870\",\"type\":\"BasicTickFormatter\"},{\"attributes\":{\"plot\":{\"id\":\"1773\",\"subtype\":\"Figure\",\"type\":\"Plot\"},\"ticker\":{\"id\":\"1783\",\"type\":\"BasicTicker\"}},\"id\":\"1786\",\"type\":\"Grid\"}],\"root_ids\":[\"1773\"]},\"title\":\"Bokeh Application\",\"version\":\"1.0.4\"}};\n",
       "  var render_items = [{\"docid\":\"f5c465a9-efca-4366-9f32-52f0127debbe\",\"roots\":{\"1773\":\"4d1ade86-2aef-4c4b-8914-9d0ffd5ae29d\"}}];\n",
       "  root.Bokeh.embed.embed_items_notebook(docs_json, render_items);\n",
       "\n",
       "  }\n",
       "  if (root.Bokeh !== undefined) {\n",
       "    embed_document(root);\n",
       "  } else {\n",
       "    var attempts = 0;\n",
       "    var timer = setInterval(function(root) {\n",
       "      if (root.Bokeh !== undefined) {\n",
       "        embed_document(root);\n",
       "        clearInterval(timer);\n",
       "      }\n",
       "      attempts++;\n",
       "      if (attempts > 100) {\n",
       "        console.log(\"Bokeh: ERROR: Unable to run BokehJS code because BokehJS library is missing\");\n",
       "        clearInterval(timer);\n",
       "      }\n",
       "    }, 10, root)\n",
       "  }\n",
       "})(window);"
      ],
      "application/vnd.bokehjs_exec.v0+json": ""
     },
     "metadata": {
      "application/vnd.bokehjs_exec.v0+json": {
       "id": "1773"
      }
     },
     "output_type": "display_data"
    }
   ],
   "source": [
    "# 2、散点图不同 颜色上色/散点大小 的方法\n",
    "# ① 数据中有一列专门用于设置颜色 / 点大小\n",
    "\n",
    "from bokeh.palettes import brewer\n",
    "\n",
    "rng = np.random.RandomState(20)\n",
    "df = pd.DataFrame(rng.randn(100,2),columns=['A','B'])\n",
    "# 创建数据，有2列随机值\n",
    "\n",
    "df['size'] = rng.randint(10,30,100)\n",
    "# 设置点大小字段\n",
    "\n",
    "colormap1 = {1:'red',2:'blue',3:'green'}\n",
    "df['color1'] = [colormap1[x] for x in rng.randint(1,4,100)]              # 调色盘1\n",
    "\n",
    "\n",
    "n = 8\n",
    "colormap2 = brewer['Blues'][n]\n",
    "df['color2'] = [colormap2[x] for x in rng.randint(0,n,100)]              # 调色盘2\n",
    "# 设置颜色字段\n",
    "# 通过字典/列表，识别颜色str\n",
    "# 这里设置了两个调色盘，第二个为蓝色渐变\n",
    "\n",
    "p = figure(plot_width=600,plot_height=400)\n",
    "p.circle(df['A'],df['B'],\n",
    "        line_color = 'white',\n",
    "         fill_color = df['color2'],fill_alpha = 0.8,\n",
    "         size = df['size']\n",
    "        )\n",
    "show(p)"
   ]
  },
  {
   "cell_type": "code",
   "execution_count": 11,
   "metadata": {},
   "outputs": [
    {
     "name": "stdout",
     "output_type": "stream",
     "text": [
      "            A           B  type\n",
      "0  162.434536  -61.175641     6\n",
      "1  -52.817175 -107.296862     0\n",
      "2   86.540763 -230.153870     1\n",
      "3  174.481176  -76.120690     0\n",
      "4   31.903910  -24.937038     5\n"
     ]
    },
    {
     "data": {
      "text/html": [
       "\n",
       "\n",
       "\n",
       "\n",
       "\n",
       "\n",
       "  <div class=\"bk-root\" id=\"5c2c7e6e-678a-4257-b790-ff08b70c4e3d\" data-root-id=\"1929\"></div>\n"
      ]
     },
     "metadata": {},
     "output_type": "display_data"
    },
    {
     "data": {
      "application/javascript": [
       "(function(root) {\n",
       "  function embed_document(root) {\n",
       "    \n",
       "  var docs_json = {\"845620a0-63d7-49fe-a32e-cc90b262e9d8\":{\"roots\":{\"references\":[{\"attributes\":{\"below\":[{\"id\":\"1938\",\"type\":\"LinearAxis\"}],\"left\":[{\"id\":\"1943\",\"type\":\"LinearAxis\"}],\"plot_height\":400,\"renderers\":[{\"id\":\"1938\",\"type\":\"LinearAxis\"},{\"id\":\"1942\",\"type\":\"Grid\"},{\"id\":\"1943\",\"type\":\"LinearAxis\"},{\"id\":\"1947\",\"type\":\"Grid\"},{\"id\":\"1955\",\"type\":\"BoxAnnotation\"},{\"id\":\"1958\",\"type\":\"PolyAnnotation\"},{\"id\":\"1966\",\"type\":\"GlyphRenderer\"},{\"id\":\"1971\",\"type\":\"GlyphRenderer\"},{\"id\":\"1976\",\"type\":\"GlyphRenderer\"},{\"id\":\"1981\",\"type\":\"GlyphRenderer\"},{\"id\":\"1986\",\"type\":\"GlyphRenderer\"},{\"id\":\"1991\",\"type\":\"GlyphRenderer\"},{\"id\":\"1996\",\"type\":\"GlyphRenderer\"}],\"title\":{\"id\":\"2062\",\"type\":\"Title\"},\"toolbar\":{\"id\":\"1953\",\"type\":\"Toolbar\"},\"x_range\":{\"id\":\"1930\",\"type\":\"DataRange1d\"},\"x_scale\":{\"id\":\"1934\",\"type\":\"LinearScale\"},\"y_range\":{\"id\":\"1932\",\"type\":\"DataRange1d\"},\"y_scale\":{\"id\":\"1936\",\"type\":\"LinearScale\"}},\"id\":\"1929\",\"subtype\":\"Figure\",\"type\":\"Plot\"},{\"attributes\":{\"source\":{\"id\":\"1963\",\"type\":\"ColumnDataSource\"}},\"id\":\"1967\",\"type\":\"CDSView\"},{\"attributes\":{},\"id\":\"1934\",\"type\":\"LinearScale\"},{\"attributes\":{\"fill_alpha\":{\"value\":0.5},\"fill_color\":{\"value\":\"orange\"},\"line_alpha\":{\"value\":0.5},\"line_color\":{\"value\":\"orange\"},\"size\":{\"units\":\"screen\",\"value\":20},\"x\":{\"field\":\"x\"},\"y\":{\"field\":\"y\"}},\"id\":\"1979\",\"type\":\"Circle\"},{\"attributes\":{\"callback\":null,\"data\":{\"x\":{\"__ndarray__\":\"GQq6CrDiEED0rGa4bxczQGfqQxgJjzxAUMImliXcUsDQ7H9vgKVJQN4Ff1/XUWtANRNdwz9dKEAvVRkQ/YZBQKmv7sUSCVxAWOkUjPhJK8CTk/Np6M5nQA==\",\"dtype\":\"float64\",\"shape\":[11]},\"y\":{\"__ndarray__\":\"DQlu5AgkTUB2aP8B0UBqQE0nlkjnIFZAqit/L1tSX0D3zkE0Lc89wETRS8zJdGHA0P9Jb7I8XEDiWQuSTmdgwC7GX0jtcURAKO7MDJPPJ8A5+n9Lw8ZbQA==\",\"dtype\":\"float64\",\"shape\":[11]}},\"selected\":{\"id\":\"2082\",\"type\":\"Selection\"},\"selection_policy\":{\"id\":\"2081\",\"type\":\"UnionRenderers\"}},\"id\":\"1993\",\"type\":\"ColumnDataSource\"},{\"attributes\":{},\"id\":\"2077\",\"type\":\"UnionRenderers\"},{\"attributes\":{\"callback\":null,\"data\":{\"x\":{\"__ndarray__\":\"uCCkMploSsC0UhjMZc9lQLghkMP6kyjAP/F6wOctUcAO4AIm0K1SwKS/zdAdkFzA5Q04QwhtSEBmSP6d0p4+wB5jcLX5KWHAsn9Mvoo5Z8CHcoK+UPtdwEnPrEqPFzLAU7XdP1/AXsCcbDyoL6gywNwrbHS0dxFAn/23j1cjTEDyGkGmBhE8QA==\",\"dtype\":\"float64\",\"shape\":[17]},\"y\":{\"__ndarray__\":\"k99gyv/SWsB42exiuQdTwGJ6HqTsZFfA48pL7FAhVcB7PCXP2idlQB3ymDuWd0HAsEAjHYs6HsCh4omnCbNUQHrjeJcUhD9ACCnCJXPnXkBeKOD3aJVVQGiX9xwvMk7AlfpNROGGS0D5IRuAY1kkwKV+DQWloTbAAYWRm94SOECJrT6pvT4dwA==\",\"dtype\":\"float64\",\"shape\":[17]}},\"selected\":{\"id\":\"2072\",\"type\":\"Selection\"},\"selection_policy\":{\"id\":\"2071\",\"type\":\"UnionRenderers\"}},\"id\":\"1968\",\"type\":\"ColumnDataSource\"},{\"attributes\":{\"fill_alpha\":{\"value\":0.1},\"fill_color\":{\"value\":\"#1f77b4\"},\"line_alpha\":{\"value\":0.1},\"line_color\":{\"value\":\"#1f77b4\"},\"size\":{\"units\":\"screen\",\"value\":20},\"x\":{\"field\":\"x\"},\"y\":{\"field\":\"y\"}},\"id\":\"1980\",\"type\":\"Circle\"},{\"attributes\":{},\"id\":\"2078\",\"type\":\"Selection\"},{\"attributes\":{\"data_source\":{\"id\":\"1978\",\"type\":\"ColumnDataSource\"},\"glyph\":{\"id\":\"1979\",\"type\":\"Circle\"},\"hover_glyph\":null,\"muted_glyph\":null,\"nonselection_glyph\":{\"id\":\"1980\",\"type\":\"Circle\"},\"selection_glyph\":null,\"view\":{\"id\":\"1982\",\"type\":\"CDSView\"}},\"id\":\"1981\",\"type\":\"GlyphRenderer\"},{\"attributes\":{},\"id\":\"1936\",\"type\":\"LinearScale\"},{\"attributes\":{\"fill_alpha\":{\"value\":0.5},\"fill_color\":{\"value\":\"goldenrod\"},\"line_alpha\":{\"value\":0.5},\"line_color\":{\"value\":\"goldenrod\"},\"size\":{\"units\":\"screen\",\"value\":20},\"x\":{\"field\":\"x\"},\"y\":{\"field\":\"y\"}},\"id\":\"1994\",\"type\":\"Circle\"},{\"attributes\":{},\"id\":\"2079\",\"type\":\"UnionRenderers\"},{\"attributes\":{\"fill_alpha\":{\"value\":0.5},\"fill_color\":{\"value\":\"red\"},\"line_alpha\":{\"value\":0.5},\"line_color\":{\"value\":\"red\"},\"size\":{\"units\":\"screen\",\"value\":20},\"x\":{\"field\":\"x\"},\"y\":{\"field\":\"y\"}},\"id\":\"1969\",\"type\":\"Circle\"},{\"attributes\":{\"source\":{\"id\":\"1978\",\"type\":\"ColumnDataSource\"}},\"id\":\"1982\",\"type\":\"CDSView\"},{\"attributes\":{},\"id\":\"2080\",\"type\":\"Selection\"},{\"attributes\":{\"active_drag\":\"auto\",\"active_inspect\":\"auto\",\"active_multi\":null,\"active_scroll\":\"auto\",\"active_tap\":\"auto\",\"tools\":[{\"id\":\"1948\",\"type\":\"PanTool\"},{\"id\":\"1949\",\"type\":\"WheelZoomTool\"},{\"id\":\"1950\",\"type\":\"BoxSelectTool\"},{\"id\":\"1951\",\"type\":\"LassoSelectTool\"},{\"id\":\"1952\",\"type\":\"ResetTool\"}]},\"id\":\"1953\",\"type\":\"Toolbar\"},{\"attributes\":{\"fill_alpha\":{\"value\":0.1},\"fill_color\":{\"value\":\"#1f77b4\"},\"line_alpha\":{\"value\":0.1},\"line_color\":{\"value\":\"#1f77b4\"},\"size\":{\"units\":\"screen\",\"value\":20},\"x\":{\"field\":\"x\"},\"y\":{\"field\":\"y\"}},\"id\":\"1995\",\"type\":\"Circle\"},{\"attributes\":{},\"id\":\"1948\",\"type\":\"PanTool\"},{\"attributes\":{\"fill_alpha\":{\"value\":0.1},\"fill_color\":{\"value\":\"#1f77b4\"},\"line_alpha\":{\"value\":0.1},\"line_color\":{\"value\":\"#1f77b4\"},\"size\":{\"units\":\"screen\",\"value\":20},\"x\":{\"field\":\"x\"},\"y\":{\"field\":\"y\"}},\"id\":\"1970\",\"type\":\"Circle\"},{\"attributes\":{\"callback\":null,\"data\":{\"x\":{\"__ndarray__\":\"nGBw0r5GYkDqSbGx8B5AwIX/vnX2g1vACRSTPC6KVkAtcSRjeoVWQKmswvmgSlHALn6KzrZSFEDtvLMwQZA/QKXMABc9xFDAEnv0wwIAT8DwhGyRb19bwJ/VynSNsQPAexSUimAHSkBwKfEs4iAfQFQcdEn9Aj/AA6hckouoWEB2z/dscgBRQHeQwEPjFibA\",\"dtype\":\"float64\",\"shape\":[18]},\"y\":{\"__ndarray__\":\"HaLrRHPAacCMXDNP5TNDwGTsgVM7nlxA6G4gc+0fSUBE8na52xdRwDv08PRx1kPAxHytVYvZT8CzsWo8C0dpwDMd2APR4EJAcYNDr2dzUUCNY5q2MPAwQBAm/ssIYVPAyUPJ7sibXMBax0hxROtOQPXSqhh7b27AI02axndaNUCL1C/C6/o/wG7IpwI83k7A\",\"dtype\":\"float64\",\"shape\":[18]}},\"selected\":{\"id\":\"2078\",\"type\":\"Selection\"},\"selection_policy\":{\"id\":\"2077\",\"type\":\"UnionRenderers\"}},\"id\":\"1983\",\"type\":\"ColumnDataSource\"},{\"attributes\":{},\"id\":\"2081\",\"type\":\"UnionRenderers\"},{\"attributes\":{\"data_source\":{\"id\":\"1993\",\"type\":\"ColumnDataSource\"},\"glyph\":{\"id\":\"1994\",\"type\":\"Circle\"},\"hover_glyph\":null,\"muted_glyph\":null,\"nonselection_glyph\":{\"id\":\"1995\",\"type\":\"Circle\"},\"selection_glyph\":null,\"view\":{\"id\":\"1997\",\"type\":\"CDSView\"}},\"id\":\"1996\",\"type\":\"GlyphRenderer\"},{\"attributes\":{},\"id\":\"1949\",\"type\":\"WheelZoomTool\"},{\"attributes\":{\"data_source\":{\"id\":\"1968\",\"type\":\"ColumnDataSource\"},\"glyph\":{\"id\":\"1969\",\"type\":\"Circle\"},\"hover_glyph\":null,\"muted_glyph\":null,\"nonselection_glyph\":{\"id\":\"1970\",\"type\":\"Circle\"},\"selection_glyph\":null,\"view\":{\"id\":\"1972\",\"type\":\"CDSView\"}},\"id\":\"1971\",\"type\":\"GlyphRenderer\"},{\"attributes\":{},\"id\":\"2082\",\"type\":\"Selection\"},{\"attributes\":{\"source\":{\"id\":\"1993\",\"type\":\"ColumnDataSource\"}},\"id\":\"1997\",\"type\":\"CDSView\"},{\"attributes\":{\"callback\":null,\"overlay\":{\"id\":\"1955\",\"type\":\"BoxAnnotation\"}},\"id\":\"1950\",\"type\":\"BoxSelectTool\"},{\"attributes\":{\"source\":{\"id\":\"1968\",\"type\":\"ColumnDataSource\"}},\"id\":\"1972\",\"type\":\"CDSView\"},{\"attributes\":{\"fill_alpha\":{\"value\":0.5},\"fill_color\":{\"value\":\"darkred\"},\"line_alpha\":{\"value\":0.5},\"line_color\":{\"value\":\"darkred\"},\"size\":{\"units\":\"screen\",\"value\":20},\"x\":{\"field\":\"x\"},\"y\":{\"field\":\"y\"}},\"id\":\"1984\",\"type\":\"Circle\"},{\"attributes\":{\"plot\":null,\"text\":\"\"},\"id\":\"2062\",\"type\":\"Title\"},{\"attributes\":{\"callback\":null,\"overlay\":{\"id\":\"1958\",\"type\":\"PolyAnnotation\"}},\"id\":\"1951\",\"type\":\"LassoSelectTool\"},{\"attributes\":{\"callback\":null,\"data\":{\"x\":{\"__ndarray__\":\"qnUh3JuiVUDIdIjxXb9kQAVHhwcqDWLAFDElt5k7NsCpCm1psSxEQMILj/kneUpAxA/RV9w/N0ACNzkCdxFGQOiCpR7P2knAxbVmd7TCSECbnkRrpJpvQOltJf/DKElAyv9S0a8dTkA=\",\"dtype\":\"float64\",\"shape\":[13]},\"y\":{\"__ndarray__\":\"q70fgOzEbMCLrxYnFY1SQNsrXb0pOUnAyj6eFGgTNMAWj90azq1NQCiut0xNiitAOQuaOVQQUUAsLXes8gckwA3QIcH47FjAxzCwoGZ4McDxnBXhDN04wMS1maRSKmBAI7+TuZwDRUA=\",\"dtype\":\"float64\",\"shape\":[13]}},\"selected\":{\"id\":\"2074\",\"type\":\"Selection\"},\"selection_policy\":{\"id\":\"2073\",\"type\":\"UnionRenderers\"}},\"id\":\"1973\",\"type\":\"ColumnDataSource\"},{\"attributes\":{},\"id\":\"2063\",\"type\":\"BasicTickFormatter\"},{\"attributes\":{},\"id\":\"1952\",\"type\":\"ResetTool\"},{\"attributes\":{\"fill_alpha\":{\"value\":0.1},\"fill_color\":{\"value\":\"#1f77b4\"},\"line_alpha\":{\"value\":0.1},\"line_color\":{\"value\":\"#1f77b4\"},\"size\":{\"units\":\"screen\",\"value\":20},\"x\":{\"field\":\"x\"},\"y\":{\"field\":\"y\"}},\"id\":\"1985\",\"type\":\"Circle\"},{\"attributes\":{\"plot\":{\"id\":\"1929\",\"subtype\":\"Figure\",\"type\":\"Plot\"},\"ticker\":{\"id\":\"1939\",\"type\":\"BasicTicker\"}},\"id\":\"1942\",\"type\":\"Grid\"},{\"attributes\":{},\"id\":\"2065\",\"type\":\"BasicTickFormatter\"},{\"attributes\":{\"data_source\":{\"id\":\"1983\",\"type\":\"ColumnDataSource\"},\"glyph\":{\"id\":\"1984\",\"type\":\"Circle\"},\"hover_glyph\":null,\"muted_glyph\":null,\"nonselection_glyph\":{\"id\":\"1985\",\"type\":\"Circle\"},\"selection_glyph\":null,\"view\":{\"id\":\"1987\",\"type\":\"CDSView\"}},\"id\":\"1986\",\"type\":\"GlyphRenderer\"},{\"attributes\":{},\"id\":\"1944\",\"type\":\"BasicTicker\"},{\"attributes\":{\"fill_alpha\":{\"value\":0.5},\"fill_color\":{\"value\":\"olive\"},\"line_alpha\":{\"value\":0.5},\"line_color\":{\"value\":\"olive\"},\"size\":{\"units\":\"screen\",\"value\":20},\"x\":{\"field\":\"x\"},\"y\":{\"field\":\"y\"}},\"id\":\"1974\",\"type\":\"Circle\"},{\"attributes\":{\"bottom_units\":\"screen\",\"fill_alpha\":{\"value\":0.5},\"fill_color\":{\"value\":\"lightgrey\"},\"left_units\":\"screen\",\"level\":\"overlay\",\"line_alpha\":{\"value\":1.0},\"line_color\":{\"value\":\"black\"},\"line_dash\":[4,4],\"line_width\":{\"value\":2},\"plot\":null,\"render_mode\":\"css\",\"right_units\":\"screen\",\"top_units\":\"screen\"},\"id\":\"1955\",\"type\":\"BoxAnnotation\"},{\"attributes\":{\"callback\":null},\"id\":\"1932\",\"type\":\"DataRange1d\"},{\"attributes\":{\"formatter\":{\"id\":\"2065\",\"type\":\"BasicTickFormatter\"},\"plot\":{\"id\":\"1929\",\"subtype\":\"Figure\",\"type\":\"Plot\"},\"ticker\":{\"id\":\"1944\",\"type\":\"BasicTicker\"}},\"id\":\"1943\",\"type\":\"LinearAxis\"},{\"attributes\":{\"source\":{\"id\":\"1983\",\"type\":\"ColumnDataSource\"}},\"id\":\"1987\",\"type\":\"CDSView\"},{\"attributes\":{},\"id\":\"2069\",\"type\":\"UnionRenderers\"},{\"attributes\":{},\"id\":\"2070\",\"type\":\"Selection\"},{\"attributes\":{\"callback\":null,\"data\":{\"x\":{\"__ndarray__\":\"Hd+02h9YXEBSxCep+cdQwI/v32x++VRA/Aq7C3nUM0BsKu8NE/ldQOxMpUy6LEVAIptXHekLVEDgLmMU37hVQP2oSTp6+FlAU0lSTUQsUMCTJZkv63lQQA==\",\"dtype\":\"float64\",\"shape\":[11]},\"y\":{\"__ndarray__\":\"cb402k1/W8A/0pVya0P0v2XoZqYNR1dATNtQHz7NJ0Bfzv0YAYQyQKr82nyf7x5ANemtyX2gEkDR8kVuosJSQJmmD7pVVmtABRmPH4SJVkCrChd9zVdkwA==\",\"dtype\":\"float64\",\"shape\":[11]}},\"selected\":{\"id\":\"2080\",\"type\":\"Selection\"},\"selection_policy\":{\"id\":\"2079\",\"type\":\"UnionRenderers\"}},\"id\":\"1988\",\"type\":\"ColumnDataSource\"},{\"attributes\":{\"fill_alpha\":{\"value\":0.1},\"fill_color\":{\"value\":\"#1f77b4\"},\"line_alpha\":{\"value\":0.1},\"line_color\":{\"value\":\"#1f77b4\"},\"size\":{\"units\":\"screen\",\"value\":20},\"x\":{\"field\":\"x\"},\"y\":{\"field\":\"y\"}},\"id\":\"1975\",\"type\":\"Circle\"},{\"attributes\":{\"fill_alpha\":{\"value\":0.5},\"fill_color\":{\"value\":\"lightgrey\"},\"level\":\"overlay\",\"line_alpha\":{\"value\":1.0},\"line_color\":{\"value\":\"black\"},\"line_dash\":[4,4],\"line_width\":{\"value\":2},\"plot\":null,\"xs_units\":\"screen\",\"ys_units\":\"screen\"},\"id\":\"1958\",\"type\":\"PolyAnnotation\"},{\"attributes\":{},\"id\":\"2071\",\"type\":\"UnionRenderers\"},{\"attributes\":{\"data_source\":{\"id\":\"1973\",\"type\":\"ColumnDataSource\"},\"glyph\":{\"id\":\"1974\",\"type\":\"Circle\"},\"hover_glyph\":null,\"muted_glyph\":null,\"nonselection_glyph\":{\"id\":\"1975\",\"type\":\"Circle\"},\"selection_glyph\":null,\"view\":{\"id\":\"1977\",\"type\":\"CDSView\"}},\"id\":\"1976\",\"type\":\"GlyphRenderer\"},{\"attributes\":{\"callback\":null,\"data\":{\"x\":{\"__ndarray__\":\"HknPuOdNZEDCs0GAKT4xwAULBmwjCChAdgN4NVwEPkAxxHI/seM0wOhooZZtSlxAfJw28PIAMEAeLpHbbAI3QFMYY7v4pzJAsltfuVMxQcD7KY/hPltGwBKCgbCPg1JAPfNJtwnYX0DVDTp/e1hkQEYy5cT20VNAbAPNNz1ia0DzYKiqqaRgQA==\",\"dtype\":\"float64\",\"shape\":[17]},\"y\":{\"__ndarray__\":\"HkSPanuWTsDKQ187S/JVwK4kXyYz3E5AvogHTMycQcB9InTfxlRNQGCNnu9p/2JADiUNKXvnVUCiqSke3wxTQACF0TypgERACJiccVFwEUCy/W1s2ZxeQNOD5RCv11fAIevDwLmWaEB3pDK6jOZAQDxJuX4xLU/AyV433lq0Z8A7UGfQFLs8wA==\",\"dtype\":\"float64\",\"shape\":[17]}},\"selected\":{\"id\":\"2070\",\"type\":\"Selection\"},\"selection_policy\":{\"id\":\"2069\",\"type\":\"UnionRenderers\"}},\"id\":\"1963\",\"type\":\"ColumnDataSource\"},{\"attributes\":{},\"id\":\"2072\",\"type\":\"Selection\"},{\"attributes\":{\"dimension\":1,\"plot\":{\"id\":\"1929\",\"subtype\":\"Figure\",\"type\":\"Plot\"},\"ticker\":{\"id\":\"1944\",\"type\":\"BasicTicker\"}},\"id\":\"1947\",\"type\":\"Grid\"},{\"attributes\":{\"source\":{\"id\":\"1973\",\"type\":\"ColumnDataSource\"}},\"id\":\"1977\",\"type\":\"CDSView\"},{\"attributes\":{\"fill_alpha\":{\"value\":0.5},\"fill_color\":{\"value\":\"skyblue\"},\"line_alpha\":{\"value\":0.5},\"line_color\":{\"value\":\"skyblue\"},\"size\":{\"units\":\"screen\",\"value\":20},\"x\":{\"field\":\"x\"},\"y\":{\"field\":\"y\"}},\"id\":\"1989\",\"type\":\"Circle\"},{\"attributes\":{\"formatter\":{\"id\":\"2063\",\"type\":\"BasicTickFormatter\"},\"plot\":{\"id\":\"1929\",\"subtype\":\"Figure\",\"type\":\"Plot\"},\"ticker\":{\"id\":\"1939\",\"type\":\"BasicTicker\"}},\"id\":\"1938\",\"type\":\"LinearAxis\"},{\"attributes\":{\"callback\":null},\"id\":\"1930\",\"type\":\"DataRange1d\"},{\"attributes\":{\"fill_alpha\":{\"value\":0.5},\"fill_color\":{\"value\":\"salmon\"},\"line_alpha\":{\"value\":0.5},\"line_color\":{\"value\":\"salmon\"},\"size\":{\"units\":\"screen\",\"value\":20},\"x\":{\"field\":\"x\"},\"y\":{\"field\":\"y\"}},\"id\":\"1964\",\"type\":\"Circle\"},{\"attributes\":{\"callback\":null,\"data\":{\"x\":{\"__ndarray__\":\"aBCznmbnP0C/MpJR78k6wJzFc0bJ7lvAu1LYef0uM8DS5nW5pcNCwLyN15kxnzrAXH/hmm0nVUC5zb8d1/QOwBn4kcXk2vs/IUUfL0LhOEAXgLxDYNBfwCVEjLYqAl1AsTGBOBdGVEA=\",\"dtype\":\"float64\",\"shape\":[13]},\"y\":{\"__ndarray__\":\"86tWseHvOMAoxBzLjIRKQMtXm7cKcTdAEyt1S9MwVsD91JTMv+9PwNJ4sYt1FwpA75ne6uZ8VcAAZYW2eDJkwDyvNHzrDFzAkw/IdAOqPcBAlEBX0lo/QGUyp7uBeUJA1VWP7W0cWkA=\",\"dtype\":\"float64\",\"shape\":[13]}},\"selected\":{\"id\":\"2076\",\"type\":\"Selection\"},\"selection_policy\":{\"id\":\"2075\",\"type\":\"UnionRenderers\"}},\"id\":\"1978\",\"type\":\"ColumnDataSource\"},{\"attributes\":{},\"id\":\"2073\",\"type\":\"UnionRenderers\"},{\"attributes\":{},\"id\":\"2074\",\"type\":\"Selection\"},{\"attributes\":{\"fill_alpha\":{\"value\":0.1},\"fill_color\":{\"value\":\"#1f77b4\"},\"line_alpha\":{\"value\":0.1},\"line_color\":{\"value\":\"#1f77b4\"},\"size\":{\"units\":\"screen\",\"value\":20},\"x\":{\"field\":\"x\"},\"y\":{\"field\":\"y\"}},\"id\":\"1990\",\"type\":\"Circle\"},{\"attributes\":{\"fill_alpha\":{\"value\":0.1},\"fill_color\":{\"value\":\"#1f77b4\"},\"line_alpha\":{\"value\":0.1},\"line_color\":{\"value\":\"#1f77b4\"},\"size\":{\"units\":\"screen\",\"value\":20},\"x\":{\"field\":\"x\"},\"y\":{\"field\":\"y\"}},\"id\":\"1965\",\"type\":\"Circle\"},{\"attributes\":{},\"id\":\"1939\",\"type\":\"BasicTicker\"},{\"attributes\":{},\"id\":\"2075\",\"type\":\"UnionRenderers\"},{\"attributes\":{\"data_source\":{\"id\":\"1988\",\"type\":\"ColumnDataSource\"},\"glyph\":{\"id\":\"1989\",\"type\":\"Circle\"},\"hover_glyph\":null,\"muted_glyph\":null,\"nonselection_glyph\":{\"id\":\"1990\",\"type\":\"Circle\"},\"selection_glyph\":null,\"view\":{\"id\":\"1992\",\"type\":\"CDSView\"}},\"id\":\"1991\",\"type\":\"GlyphRenderer\"},{\"attributes\":{\"data_source\":{\"id\":\"1963\",\"type\":\"ColumnDataSource\"},\"glyph\":{\"id\":\"1964\",\"type\":\"Circle\"},\"hover_glyph\":null,\"muted_glyph\":null,\"nonselection_glyph\":{\"id\":\"1965\",\"type\":\"Circle\"},\"selection_glyph\":null,\"view\":{\"id\":\"1967\",\"type\":\"CDSView\"}},\"id\":\"1966\",\"type\":\"GlyphRenderer\"},{\"attributes\":{},\"id\":\"2076\",\"type\":\"Selection\"},{\"attributes\":{\"source\":{\"id\":\"1988\",\"type\":\"ColumnDataSource\"}},\"id\":\"1992\",\"type\":\"CDSView\"}],\"root_ids\":[\"1929\"]},\"title\":\"Bokeh Application\",\"version\":\"1.0.4\"}};\n",
       "  var render_items = [{\"docid\":\"845620a0-63d7-49fe-a32e-cc90b262e9d8\",\"roots\":{\"1929\":\"5c2c7e6e-678a-4257-b790-ff08b70c4e3d\"}}];\n",
       "  root.Bokeh.embed.embed_items_notebook(docs_json, render_items);\n",
       "\n",
       "  }\n",
       "  if (root.Bokeh !== undefined) {\n",
       "    embed_document(root);\n",
       "  } else {\n",
       "    var attempts = 0;\n",
       "    var timer = setInterval(function(root) {\n",
       "      if (root.Bokeh !== undefined) {\n",
       "        embed_document(root);\n",
       "        clearInterval(timer);\n",
       "      }\n",
       "      attempts++;\n",
       "      if (attempts > 100) {\n",
       "        console.log(\"Bokeh: ERROR: Unable to run BokehJS code because BokehJS library is missing\");\n",
       "        clearInterval(timer);\n",
       "      }\n",
       "    }, 10, root)\n",
       "  }\n",
       "})(window);"
      ],
      "application/vnd.bokehjs_exec.v0+json": ""
     },
     "metadata": {
      "application/vnd.bokehjs_exec.v0+json": {
       "id": "1929"
      }
     },
     "output_type": "display_data"
    }
   ],
   "source": [
    "# 2、散点图不同 颜色上色/散点大小 的方法\n",
    "# ② 遍历数据分开做图\n",
    "\n",
    "rng = np.random.RandomState(1)\n",
    "df = pd.DataFrame(rng.randn(100,2)*100,columns = ['A','B'])\n",
    "df['type'] = rng.randint(0,7,100)\n",
    "print(df.head())\n",
    "# 创建数据\n",
    "\n",
    "colors = [\"red\", \"olive\", \"darkred\", \"goldenrod\", \"skyblue\", \"orange\", \"salmon\"]\n",
    "# 创建颜色列表\n",
    "\n",
    "p = figure(plot_width=600, plot_height=400,tools = \"pan,wheel_zoom,box_select,lasso_select,reset\")\n",
    "\n",
    "for i in df['type'].unique():\n",
    "    p.circle(df['A'][df['type'] == i],df['B'][df['type'] == i],\n",
    "            size = 20,alpha = 0.5,\n",
    "            color = colors[i])\n",
    "# 通过分类设置颜色\n",
    "show(p)"
   ]
  },
  {
   "cell_type": "code",
   "execution_count": 12,
   "metadata": {},
   "outputs": [
    {
     "data": {
      "text/html": [
       "\n",
       "\n",
       "\n",
       "\n",
       "\n",
       "\n",
       "  <div class=\"bk-root\" id=\"f795f116-0a2a-44b6-91ce-d4ac87aed229\" data-root-id=\"2215\"></div>\n"
      ]
     },
     "metadata": {},
     "output_type": "display_data"
    },
    {
     "data": {
      "application/javascript": [
       "(function(root) {\n",
       "  function embed_document(root) {\n",
       "    \n",
       "  var docs_json = {\"84acefed-ea9a-49b2-b7b9-4b97115b835f\":{\"roots\":{\"references\":[{\"attributes\":{\"below\":[{\"id\":\"2224\",\"type\":\"LinearAxis\"}],\"left\":[{\"id\":\"2229\",\"type\":\"LinearAxis\"}],\"plot_height\":400,\"renderers\":[{\"id\":\"2224\",\"type\":\"LinearAxis\"},{\"id\":\"2228\",\"type\":\"Grid\"},{\"id\":\"2229\",\"type\":\"LinearAxis\"},{\"id\":\"2233\",\"type\":\"Grid\"},{\"id\":\"2242\",\"type\":\"BoxAnnotation\"},{\"id\":\"2261\",\"type\":\"Legend\"},{\"id\":\"2252\",\"type\":\"GlyphRenderer\"},{\"id\":\"2266\",\"type\":\"GlyphRenderer\"},{\"id\":\"2281\",\"type\":\"GlyphRenderer\"},{\"id\":\"2298\",\"type\":\"GlyphRenderer\"},{\"id\":\"2317\",\"type\":\"GlyphRenderer\"},{\"id\":\"2338\",\"type\":\"GlyphRenderer\"},{\"id\":\"2361\",\"type\":\"GlyphRenderer\"},{\"id\":\"2386\",\"type\":\"GlyphRenderer\"},{\"id\":\"2413\",\"type\":\"GlyphRenderer\"},{\"id\":\"2442\",\"type\":\"GlyphRenderer\"},{\"id\":\"2473\",\"type\":\"GlyphRenderer\"},{\"id\":\"2506\",\"type\":\"GlyphRenderer\"}],\"title\":{\"id\":\"2255\",\"type\":\"Title\"},\"toolbar\":{\"id\":\"2240\",\"type\":\"Toolbar\"},\"x_range\":{\"id\":\"2216\",\"type\":\"Range1d\"},\"x_scale\":{\"id\":\"2220\",\"type\":\"LinearScale\"},\"y_range\":{\"id\":\"2218\",\"type\":\"Range1d\"},\"y_scale\":{\"id\":\"2222\",\"type\":\"LinearScale\"}},\"id\":\"2215\",\"subtype\":\"Figure\",\"type\":\"Plot\"},{\"attributes\":{\"fill_alpha\":{\"value\":0.5},\"fill_color\":{\"value\":\"#1f77b4\"},\"line_alpha\":{\"value\":0.5},\"line_color\":{\"value\":\"#1f77b4\"},\"size\":{\"units\":\"screen\",\"value\":30},\"x\":{\"value\":2},\"y\":{\"value\":1}},\"id\":\"2359\",\"type\":\"InvertedTriangle\"},{\"attributes\":{\"fill_alpha\":{\"value\":0.1},\"fill_color\":{\"value\":\"#1f77b4\"},\"line_alpha\":{\"value\":0.1},\"line_color\":{\"value\":\"#1f77b4\"},\"size\":{\"units\":\"screen\",\"value\":30},\"x\":{\"value\":2},\"y\":{\"value\":1}},\"id\":\"2360\",\"type\":\"InvertedTriangle\"},{\"attributes\":{\"data_source\":{\"id\":\"2358\",\"type\":\"ColumnDataSource\"},\"glyph\":{\"id\":\"2359\",\"type\":\"InvertedTriangle\"},\"hover_glyph\":null,\"muted_glyph\":null,\"nonselection_glyph\":{\"id\":\"2360\",\"type\":\"InvertedTriangle\"},\"selection_glyph\":null,\"view\":{\"id\":\"2362\",\"type\":\"CDSView\"}},\"id\":\"2361\",\"type\":\"GlyphRenderer\"},{\"attributes\":{\"source\":{\"id\":\"2358\",\"type\":\"ColumnDataSource\"}},\"id\":\"2362\",\"type\":\"CDSView\"},{\"attributes\":{},\"id\":\"2381\",\"type\":\"Selection\"},{\"attributes\":{\"label\":{\"value\":\"inverted_triangle\"},\"renderers\":[{\"id\":\"2361\",\"type\":\"GlyphRenderer\"}]},\"id\":\"2382\",\"type\":\"LegendItem\"},{\"attributes\":{\"callback\":null,\"data\":{},\"selected\":{\"id\":\"2468\",\"type\":\"Selection\"},\"selection_policy\":{\"id\":\"2467\",\"type\":\"UnionRenderers\"}},\"id\":\"2410\",\"type\":\"ColumnDataSource\"},{\"attributes\":{\"fill_alpha\":{\"value\":0.5},\"fill_color\":{\"value\":\"#1f77b4\"},\"line_alpha\":{\"value\":0.5},\"line_color\":{\"value\":\"#1f77b4\"},\"size\":{\"units\":\"screen\",\"value\":30},\"x\":{\"value\":2},\"y\":{\"value\":2}},\"id\":\"2384\",\"type\":\"Square\"},{\"attributes\":{\"fill_alpha\":{\"value\":0.1},\"fill_color\":{\"value\":\"#1f77b4\"},\"line_alpha\":{\"value\":0.1},\"line_color\":{\"value\":\"#1f77b4\"},\"size\":{\"units\":\"screen\",\"value\":30},\"x\":{\"value\":2},\"y\":{\"value\":2}},\"id\":\"2385\",\"type\":\"Square\"},{\"attributes\":{\"data_source\":{\"id\":\"2383\",\"type\":\"ColumnDataSource\"},\"glyph\":{\"id\":\"2384\",\"type\":\"Square\"},\"hover_glyph\":null,\"muted_glyph\":null,\"nonselection_glyph\":{\"id\":\"2385\",\"type\":\"Square\"},\"selection_glyph\":null,\"view\":{\"id\":\"2387\",\"type\":\"CDSView\"}},\"id\":\"2386\",\"type\":\"GlyphRenderer\"},{\"attributes\":{\"source\":{\"id\":\"2383\",\"type\":\"ColumnDataSource\"}},\"id\":\"2387\",\"type\":\"CDSView\"},{\"attributes\":{},\"id\":\"2407\",\"type\":\"UnionRenderers\"},{\"attributes\":{},\"id\":\"2408\",\"type\":\"Selection\"},{\"attributes\":{\"label\":{\"value\":\"square\"},\"renderers\":[{\"id\":\"2386\",\"type\":\"GlyphRenderer\"}]},\"id\":\"2409\",\"type\":\"LegendItem\"},{\"attributes\":{\"callback\":null,\"data\":{},\"selected\":{\"id\":\"2501\",\"type\":\"Selection\"},\"selection_policy\":{\"id\":\"2500\",\"type\":\"UnionRenderers\"}},\"id\":\"2439\",\"type\":\"ColumnDataSource\"},{\"attributes\":{\"fill_alpha\":{\"value\":0.5},\"fill_color\":{\"value\":\"#1f77b4\"},\"line_alpha\":{\"value\":0.5},\"line_color\":{\"value\":\"#1f77b4\"},\"size\":{\"units\":\"screen\",\"value\":30},\"x\":{\"value\":2},\"y\":{\"value\":3}},\"id\":\"2411\",\"type\":\"SquareCross\"},{\"attributes\":{\"fill_alpha\":{\"value\":0.1},\"fill_color\":{\"value\":\"#1f77b4\"},\"line_alpha\":{\"value\":0.1},\"line_color\":{\"value\":\"#1f77b4\"},\"size\":{\"units\":\"screen\",\"value\":30},\"x\":{\"value\":2},\"y\":{\"value\":3}},\"id\":\"2412\",\"type\":\"SquareCross\"},{\"attributes\":{\"data_source\":{\"id\":\"2410\",\"type\":\"ColumnDataSource\"},\"glyph\":{\"id\":\"2411\",\"type\":\"SquareCross\"},\"hover_glyph\":null,\"muted_glyph\":null,\"nonselection_glyph\":{\"id\":\"2412\",\"type\":\"SquareCross\"},\"selection_glyph\":null,\"view\":{\"id\":\"2414\",\"type\":\"CDSView\"}},\"id\":\"2413\",\"type\":\"GlyphRenderer\"},{\"attributes\":{\"source\":{\"id\":\"2410\",\"type\":\"ColumnDataSource\"}},\"id\":\"2414\",\"type\":\"CDSView\"},{\"attributes\":{},\"id\":\"2437\",\"type\":\"Selection\"},{\"attributes\":{\"label\":{\"value\":\"square_cross\"},\"renderers\":[{\"id\":\"2413\",\"type\":\"GlyphRenderer\"}]},\"id\":\"2438\",\"type\":\"LegendItem\"},{\"attributes\":{\"callback\":null,\"data\":{},\"selected\":{\"id\":\"2536\",\"type\":\"Selection\"},\"selection_policy\":{\"id\":\"2535\",\"type\":\"UnionRenderers\"}},\"id\":\"2470\",\"type\":\"ColumnDataSource\"},{\"attributes\":{\"fill_alpha\":{\"value\":0.5},\"fill_color\":{\"value\":\"#1f77b4\"},\"line_alpha\":{\"value\":0.5},\"line_color\":{\"value\":\"#1f77b4\"},\"size\":{\"units\":\"screen\",\"value\":30},\"x\":{\"value\":2},\"y\":{\"value\":4}},\"id\":\"2440\",\"type\":\"SquareX\"},{\"attributes\":{\"fill_alpha\":{\"value\":0.1},\"fill_color\":{\"value\":\"#1f77b4\"},\"line_alpha\":{\"value\":0.1},\"line_color\":{\"value\":\"#1f77b4\"},\"size\":{\"units\":\"screen\",\"value\":30},\"x\":{\"value\":2},\"y\":{\"value\":4}},\"id\":\"2441\",\"type\":\"SquareX\"},{\"attributes\":{\"data_source\":{\"id\":\"2439\",\"type\":\"ColumnDataSource\"},\"glyph\":{\"id\":\"2440\",\"type\":\"SquareX\"},\"hover_glyph\":null,\"muted_glyph\":null,\"nonselection_glyph\":{\"id\":\"2441\",\"type\":\"SquareX\"},\"selection_glyph\":null,\"view\":{\"id\":\"2443\",\"type\":\"CDSView\"}},\"id\":\"2442\",\"type\":\"GlyphRenderer\"},{\"attributes\":{\"source\":{\"id\":\"2439\",\"type\":\"ColumnDataSource\"}},\"id\":\"2443\",\"type\":\"CDSView\"},{\"attributes\":{},\"id\":\"2380\",\"type\":\"UnionRenderers\"},{\"attributes\":{},\"id\":\"2468\",\"type\":\"Selection\"},{\"attributes\":{\"label\":{\"value\":\"square_x\"},\"renderers\":[{\"id\":\"2442\",\"type\":\"GlyphRenderer\"}]},\"id\":\"2469\",\"type\":\"LegendItem\"},{\"attributes\":{\"callback\":null,\"data\":{},\"selected\":{\"id\":\"2653\",\"type\":\"Selection\"},\"selection_policy\":{\"id\":\"2652\",\"type\":\"UnionRenderers\"}},\"id\":\"2503\",\"type\":\"ColumnDataSource\"},{\"attributes\":{\"fill_alpha\":{\"value\":0.5},\"fill_color\":{\"value\":\"#1f77b4\"},\"line_alpha\":{\"value\":0.5},\"line_color\":{\"value\":\"#1f77b4\"},\"size\":{\"units\":\"screen\",\"value\":30},\"x\":{\"value\":2},\"y\":{\"value\":5}},\"id\":\"2471\",\"type\":\"Triangle\"},{\"attributes\":{\"fill_alpha\":{\"value\":0.1},\"fill_color\":{\"value\":\"#1f77b4\"},\"line_alpha\":{\"value\":0.1},\"line_color\":{\"value\":\"#1f77b4\"},\"size\":{\"units\":\"screen\",\"value\":30},\"x\":{\"value\":2},\"y\":{\"value\":5}},\"id\":\"2472\",\"type\":\"Triangle\"},{\"attributes\":{\"data_source\":{\"id\":\"2470\",\"type\":\"ColumnDataSource\"},\"glyph\":{\"id\":\"2471\",\"type\":\"Triangle\"},\"hover_glyph\":null,\"muted_glyph\":null,\"nonselection_glyph\":{\"id\":\"2472\",\"type\":\"Triangle\"},\"selection_glyph\":null,\"view\":{\"id\":\"2474\",\"type\":\"CDSView\"}},\"id\":\"2473\",\"type\":\"GlyphRenderer\"},{\"attributes\":{\"source\":{\"id\":\"2470\",\"type\":\"ColumnDataSource\"}},\"id\":\"2474\",\"type\":\"CDSView\"},{\"attributes\":{},\"id\":\"2500\",\"type\":\"UnionRenderers\"},{\"attributes\":{},\"id\":\"2436\",\"type\":\"UnionRenderers\"},{\"attributes\":{},\"id\":\"2501\",\"type\":\"Selection\"},{\"attributes\":{\"callback\":null,\"data\":{},\"selected\":{\"id\":\"2276\",\"type\":\"Selection\"},\"selection_policy\":{\"id\":\"2275\",\"type\":\"UnionRenderers\"}},\"id\":\"2249\",\"type\":\"ColumnDataSource\"},{\"attributes\":{},\"id\":\"2275\",\"type\":\"UnionRenderers\"},{\"attributes\":{\"label\":{\"value\":\"triangle\"},\"renderers\":[{\"id\":\"2473\",\"type\":\"GlyphRenderer\"}]},\"id\":\"2502\",\"type\":\"LegendItem\"},{\"attributes\":{\"fill_alpha\":{\"value\":0.1},\"fill_color\":{\"value\":\"#1f77b4\"},\"line_alpha\":{\"value\":0.1},\"line_color\":{\"value\":\"#1f77b4\"},\"size\":{\"units\":\"screen\",\"value\":30},\"x\":{\"value\":1},\"y\":{\"value\":1}},\"id\":\"2251\",\"type\":\"CircleCross\"},{\"attributes\":{},\"id\":\"2276\",\"type\":\"Selection\"},{\"attributes\":{\"callback\":null,\"end\":3},\"id\":\"2216\",\"type\":\"Range1d\"},{\"attributes\":{\"label\":{\"value\":\"asterisk\"},\"renderers\":[{\"id\":\"2266\",\"type\":\"GlyphRenderer\"}]},\"id\":\"2277\",\"type\":\"LegendItem\"},{\"attributes\":{\"fill_alpha\":{\"value\":0.5},\"fill_color\":{\"value\":\"#1f77b4\"},\"line_alpha\":{\"value\":0.5},\"line_color\":{\"value\":\"#1f77b4\"},\"size\":{\"units\":\"screen\",\"value\":30},\"x\":{\"value\":2},\"y\":{\"value\":6}},\"id\":\"2504\",\"type\":\"X\"},{\"attributes\":{\"callback\":null,\"end\":7},\"id\":\"2218\",\"type\":\"Range1d\"},{\"attributes\":{\"callback\":null,\"data\":{},\"selected\":{\"id\":\"2333\",\"type\":\"Selection\"},\"selection_policy\":{\"id\":\"2332\",\"type\":\"UnionRenderers\"}},\"id\":\"2295\",\"type\":\"ColumnDataSource\"},{\"attributes\":{\"fill_alpha\":{\"value\":0.1},\"fill_color\":{\"value\":\"#1f77b4\"},\"line_alpha\":{\"value\":0.1},\"line_color\":{\"value\":\"#1f77b4\"},\"size\":{\"units\":\"screen\",\"value\":30},\"x\":{\"value\":2},\"y\":{\"value\":6}},\"id\":\"2505\",\"type\":\"X\"},{\"attributes\":{\"fill_alpha\":{\"value\":0.5},\"fill_color\":{\"value\":\"#1f77b4\"},\"line_alpha\":{\"value\":0.5},\"line_color\":{\"value\":\"#1f77b4\"},\"size\":{\"units\":\"screen\",\"value\":30},\"x\":{\"value\":1},\"y\":{\"value\":3}},\"id\":\"2279\",\"type\":\"CircleX\"},{\"attributes\":{\"data_source\":{\"id\":\"2503\",\"type\":\"ColumnDataSource\"},\"glyph\":{\"id\":\"2504\",\"type\":\"X\"},\"hover_glyph\":null,\"muted_glyph\":null,\"nonselection_glyph\":{\"id\":\"2505\",\"type\":\"X\"},\"selection_glyph\":null,\"view\":{\"id\":\"2507\",\"type\":\"CDSView\"}},\"id\":\"2506\",\"type\":\"GlyphRenderer\"},{\"attributes\":{\"label\":{\"value\":\"cross\"},\"renderers\":[{\"id\":\"2298\",\"type\":\"GlyphRenderer\"}]},\"id\":\"2313\",\"type\":\"LegendItem\"},{\"attributes\":{\"fill_alpha\":{\"value\":0.1},\"fill_color\":{\"value\":\"#1f77b4\"},\"line_alpha\":{\"value\":0.1},\"line_color\":{\"value\":\"#1f77b4\"},\"size\":{\"units\":\"screen\",\"value\":30},\"x\":{\"value\":1},\"y\":{\"value\":3}},\"id\":\"2280\",\"type\":\"CircleX\"},{\"attributes\":{},\"id\":\"2220\",\"type\":\"LinearScale\"},{\"attributes\":{\"source\":{\"id\":\"2503\",\"type\":\"ColumnDataSource\"}},\"id\":\"2507\",\"type\":\"CDSView\"},{\"attributes\":{\"data_source\":{\"id\":\"2278\",\"type\":\"ColumnDataSource\"},\"glyph\":{\"id\":\"2279\",\"type\":\"CircleX\"},\"hover_glyph\":null,\"muted_glyph\":null,\"nonselection_glyph\":{\"id\":\"2280\",\"type\":\"CircleX\"},\"selection_glyph\":null,\"view\":{\"id\":\"2282\",\"type\":\"CDSView\"}},\"id\":\"2281\",\"type\":\"GlyphRenderer\"},{\"attributes\":{},\"id\":\"2222\",\"type\":\"LinearScale\"},{\"attributes\":{},\"id\":\"2535\",\"type\":\"UnionRenderers\"},{\"attributes\":{\"source\":{\"id\":\"2278\",\"type\":\"ColumnDataSource\"}},\"id\":\"2282\",\"type\":\"CDSView\"},{\"attributes\":{\"formatter\":{\"id\":\"2256\",\"type\":\"BasicTickFormatter\"},\"plot\":{\"id\":\"2215\",\"subtype\":\"Figure\",\"type\":\"Plot\"},\"ticker\":{\"id\":\"2225\",\"type\":\"BasicTicker\"}},\"id\":\"2224\",\"type\":\"LinearAxis\"},{\"attributes\":{},\"id\":\"2536\",\"type\":\"Selection\"},{\"attributes\":{},\"id\":\"2292\",\"type\":\"UnionRenderers\"},{\"attributes\":{},\"id\":\"2225\",\"type\":\"BasicTicker\"},{\"attributes\":{\"label\":{\"value\":\"x\"},\"renderers\":[{\"id\":\"2506\",\"type\":\"GlyphRenderer\"}]},\"id\":\"2537\",\"type\":\"LegendItem\"},{\"attributes\":{},\"id\":\"2293\",\"type\":\"Selection\"},{\"attributes\":{\"plot\":{\"id\":\"2215\",\"subtype\":\"Figure\",\"type\":\"Plot\"},\"ticker\":{\"id\":\"2225\",\"type\":\"BasicTicker\"}},\"id\":\"2228\",\"type\":\"Grid\"},{\"attributes\":{},\"id\":\"2467\",\"type\":\"UnionRenderers\"},{\"attributes\":{},\"id\":\"2652\",\"type\":\"UnionRenderers\"},{\"attributes\":{\"formatter\":{\"id\":\"2258\",\"type\":\"BasicTickFormatter\"},\"plot\":{\"id\":\"2215\",\"subtype\":\"Figure\",\"type\":\"Plot\"},\"ticker\":{\"id\":\"2230\",\"type\":\"BasicTicker\"}},\"id\":\"2229\",\"type\":\"LinearAxis\"},{\"attributes\":{\"label\":{\"value\":\"circle_x\"},\"renderers\":[{\"id\":\"2281\",\"type\":\"GlyphRenderer\"}]},\"id\":\"2294\",\"type\":\"LegendItem\"},{\"attributes\":{\"source\":{\"id\":\"2263\",\"type\":\"ColumnDataSource\"}},\"id\":\"2267\",\"type\":\"CDSView\"},{\"attributes\":{},\"id\":\"2653\",\"type\":\"Selection\"},{\"attributes\":{},\"id\":\"2230\",\"type\":\"BasicTicker\"},{\"attributes\":{\"callback\":null,\"data\":{},\"selected\":{\"id\":\"2356\",\"type\":\"Selection\"},\"selection_policy\":{\"id\":\"2355\",\"type\":\"UnionRenderers\"}},\"id\":\"2314\",\"type\":\"ColumnDataSource\"},{\"attributes\":{\"dimension\":1,\"plot\":{\"id\":\"2215\",\"subtype\":\"Figure\",\"type\":\"Plot\"},\"ticker\":{\"id\":\"2230\",\"type\":\"BasicTicker\"}},\"id\":\"2233\",\"type\":\"Grid\"},{\"attributes\":{\"fill_alpha\":{\"value\":0.5},\"fill_color\":{\"value\":\"#1f77b4\"},\"line_alpha\":{\"value\":0.5},\"line_color\":{\"value\":\"#1f77b4\"},\"size\":{\"units\":\"screen\",\"value\":30},\"x\":{\"value\":1},\"y\":{\"value\":4}},\"id\":\"2296\",\"type\":\"Cross\"},{\"attributes\":{\"fill_alpha\":{\"value\":0.1},\"fill_color\":{\"value\":\"#1f77b4\"},\"line_alpha\":{\"value\":0.1},\"line_color\":{\"value\":\"#1f77b4\"},\"size\":{\"units\":\"screen\",\"value\":30},\"x\":{\"value\":1},\"y\":{\"value\":4}},\"id\":\"2297\",\"type\":\"Cross\"},{\"attributes\":{\"fill_alpha\":{\"value\":0.5},\"fill_color\":{\"value\":\"#1f77b4\"},\"line_alpha\":{\"value\":0.5},\"line_color\":{\"value\":\"#1f77b4\"},\"size\":{\"units\":\"screen\",\"value\":30},\"x\":{\"value\":1},\"y\":{\"value\":1}},\"id\":\"2250\",\"type\":\"CircleCross\"},{\"attributes\":{\"data_source\":{\"id\":\"2295\",\"type\":\"ColumnDataSource\"},\"glyph\":{\"id\":\"2296\",\"type\":\"Cross\"},\"hover_glyph\":null,\"muted_glyph\":null,\"nonselection_glyph\":{\"id\":\"2297\",\"type\":\"Cross\"},\"selection_glyph\":null,\"view\":{\"id\":\"2299\",\"type\":\"CDSView\"}},\"id\":\"2298\",\"type\":\"GlyphRenderer\"},{\"attributes\":{\"callback\":null,\"data\":{},\"selected\":{\"id\":\"2293\",\"type\":\"Selection\"},\"selection_policy\":{\"id\":\"2292\",\"type\":\"UnionRenderers\"}},\"id\":\"2263\",\"type\":\"ColumnDataSource\"},{\"attributes\":{\"data_source\":{\"id\":\"2249\",\"type\":\"ColumnDataSource\"},\"glyph\":{\"id\":\"2250\",\"type\":\"CircleCross\"},\"hover_glyph\":null,\"muted_glyph\":null,\"nonselection_glyph\":{\"id\":\"2251\",\"type\":\"CircleCross\"},\"selection_glyph\":null,\"view\":{\"id\":\"2253\",\"type\":\"CDSView\"}},\"id\":\"2252\",\"type\":\"GlyphRenderer\"},{\"attributes\":{\"source\":{\"id\":\"2295\",\"type\":\"ColumnDataSource\"}},\"id\":\"2299\",\"type\":\"CDSView\"},{\"attributes\":{},\"id\":\"2234\",\"type\":\"PanTool\"},{\"attributes\":{},\"id\":\"2311\",\"type\":\"UnionRenderers\"},{\"attributes\":{},\"id\":\"2235\",\"type\":\"WheelZoomTool\"},{\"attributes\":{},\"id\":\"2312\",\"type\":\"Selection\"},{\"attributes\":{\"overlay\":{\"id\":\"2242\",\"type\":\"BoxAnnotation\"}},\"id\":\"2236\",\"type\":\"BoxZoomTool\"},{\"attributes\":{},\"id\":\"2237\",\"type\":\"SaveTool\"},{\"attributes\":{\"callback\":null,\"data\":{},\"selected\":{\"id\":\"2381\",\"type\":\"Selection\"},\"selection_policy\":{\"id\":\"2380\",\"type\":\"UnionRenderers\"}},\"id\":\"2335\",\"type\":\"ColumnDataSource\"},{\"attributes\":{},\"id\":\"2238\",\"type\":\"ResetTool\"},{\"attributes\":{\"fill_alpha\":{\"value\":0.5},\"fill_color\":{\"value\":\"#1f77b4\"},\"line_alpha\":{\"value\":0.5},\"line_color\":{\"value\":\"#1f77b4\"},\"size\":{\"units\":\"screen\",\"value\":30},\"x\":{\"value\":1},\"y\":{\"value\":5}},\"id\":\"2315\",\"type\":\"Diamond\"},{\"attributes\":{},\"id\":\"2239\",\"type\":\"HelpTool\"},{\"attributes\":{\"fill_alpha\":{\"value\":0.1},\"fill_color\":{\"value\":\"#1f77b4\"},\"line_alpha\":{\"value\":0.1},\"line_color\":{\"value\":\"#1f77b4\"},\"size\":{\"units\":\"screen\",\"value\":30},\"x\":{\"value\":1},\"y\":{\"value\":5}},\"id\":\"2316\",\"type\":\"Diamond\"},{\"attributes\":{\"active_drag\":\"auto\",\"active_inspect\":\"auto\",\"active_multi\":null,\"active_scroll\":\"auto\",\"active_tap\":\"auto\",\"tools\":[{\"id\":\"2234\",\"type\":\"PanTool\"},{\"id\":\"2235\",\"type\":\"WheelZoomTool\"},{\"id\":\"2236\",\"type\":\"BoxZoomTool\"},{\"id\":\"2237\",\"type\":\"SaveTool\"},{\"id\":\"2238\",\"type\":\"ResetTool\"},{\"id\":\"2239\",\"type\":\"HelpTool\"}]},\"id\":\"2240\",\"type\":\"Toolbar\"},{\"attributes\":{\"data_source\":{\"id\":\"2314\",\"type\":\"ColumnDataSource\"},\"glyph\":{\"id\":\"2315\",\"type\":\"Diamond\"},\"hover_glyph\":null,\"muted_glyph\":null,\"nonselection_glyph\":{\"id\":\"2316\",\"type\":\"Diamond\"},\"selection_glyph\":null,\"view\":{\"id\":\"2318\",\"type\":\"CDSView\"}},\"id\":\"2317\",\"type\":\"GlyphRenderer\"},{\"attributes\":{\"source\":{\"id\":\"2314\",\"type\":\"ColumnDataSource\"}},\"id\":\"2318\",\"type\":\"CDSView\"},{\"attributes\":{\"bottom_units\":\"screen\",\"fill_alpha\":{\"value\":0.5},\"fill_color\":{\"value\":\"lightgrey\"},\"left_units\":\"screen\",\"level\":\"overlay\",\"line_alpha\":{\"value\":1.0},\"line_color\":{\"value\":\"black\"},\"line_dash\":[4,4],\"line_width\":{\"value\":2},\"plot\":null,\"render_mode\":\"css\",\"right_units\":\"screen\",\"top_units\":\"screen\"},\"id\":\"2242\",\"type\":\"BoxAnnotation\"},{\"attributes\":{},\"id\":\"2332\",\"type\":\"UnionRenderers\"},{\"attributes\":{\"source\":{\"id\":\"2249\",\"type\":\"ColumnDataSource\"}},\"id\":\"2253\",\"type\":\"CDSView\"},{\"attributes\":{},\"id\":\"2333\",\"type\":\"Selection\"},{\"attributes\":{\"plot\":null,\"text\":\"\"},\"id\":\"2255\",\"type\":\"Title\"},{\"attributes\":{\"label\":{\"value\":\"diamond\"},\"renderers\":[{\"id\":\"2317\",\"type\":\"GlyphRenderer\"}]},\"id\":\"2334\",\"type\":\"LegendItem\"},{\"attributes\":{},\"id\":\"2256\",\"type\":\"BasicTickFormatter\"},{\"attributes\":{\"callback\":null,\"data\":{},\"selected\":{\"id\":\"2408\",\"type\":\"Selection\"},\"selection_policy\":{\"id\":\"2407\",\"type\":\"UnionRenderers\"}},\"id\":\"2358\",\"type\":\"ColumnDataSource\"},{\"attributes\":{},\"id\":\"2258\",\"type\":\"BasicTickFormatter\"},{\"attributes\":{\"fill_alpha\":{\"value\":0.5},\"fill_color\":{\"value\":\"#1f77b4\"},\"line_alpha\":{\"value\":0.5},\"line_color\":{\"value\":\"#1f77b4\"},\"size\":{\"units\":\"screen\",\"value\":30},\"x\":{\"value\":1},\"y\":{\"value\":6}},\"id\":\"2336\",\"type\":\"DiamondCross\"},{\"attributes\":{\"items\":[{\"id\":\"2262\",\"type\":\"LegendItem\"},{\"id\":\"2277\",\"type\":\"LegendItem\"},{\"id\":\"2294\",\"type\":\"LegendItem\"},{\"id\":\"2313\",\"type\":\"LegendItem\"},{\"id\":\"2334\",\"type\":\"LegendItem\"},{\"id\":\"2357\",\"type\":\"LegendItem\"},{\"id\":\"2382\",\"type\":\"LegendItem\"},{\"id\":\"2409\",\"type\":\"LegendItem\"},{\"id\":\"2438\",\"type\":\"LegendItem\"},{\"id\":\"2469\",\"type\":\"LegendItem\"},{\"id\":\"2502\",\"type\":\"LegendItem\"},{\"id\":\"2537\",\"type\":\"LegendItem\"}],\"location\":\"bottom_right\",\"plot\":{\"id\":\"2215\",\"subtype\":\"Figure\",\"type\":\"Plot\"}},\"id\":\"2261\",\"type\":\"Legend\"},{\"attributes\":{\"fill_alpha\":{\"value\":0.1},\"fill_color\":{\"value\":\"#1f77b4\"},\"line_alpha\":{\"value\":0.1},\"line_color\":{\"value\":\"#1f77b4\"},\"size\":{\"units\":\"screen\",\"value\":30},\"x\":{\"value\":1},\"y\":{\"value\":6}},\"id\":\"2337\",\"type\":\"DiamondCross\"},{\"attributes\":{\"data_source\":{\"id\":\"2335\",\"type\":\"ColumnDataSource\"},\"glyph\":{\"id\":\"2336\",\"type\":\"DiamondCross\"},\"hover_glyph\":null,\"muted_glyph\":null,\"nonselection_glyph\":{\"id\":\"2337\",\"type\":\"DiamondCross\"},\"selection_glyph\":null,\"view\":{\"id\":\"2339\",\"type\":\"CDSView\"}},\"id\":\"2338\",\"type\":\"GlyphRenderer\"},{\"attributes\":{\"label\":{\"value\":\"circle_cross\"},\"renderers\":[{\"id\":\"2252\",\"type\":\"GlyphRenderer\"}]},\"id\":\"2262\",\"type\":\"LegendItem\"},{\"attributes\":{\"callback\":null,\"data\":{},\"selected\":{\"id\":\"2312\",\"type\":\"Selection\"},\"selection_policy\":{\"id\":\"2311\",\"type\":\"UnionRenderers\"}},\"id\":\"2278\",\"type\":\"ColumnDataSource\"},{\"attributes\":{\"source\":{\"id\":\"2335\",\"type\":\"ColumnDataSource\"}},\"id\":\"2339\",\"type\":\"CDSView\"},{\"attributes\":{\"fill_alpha\":{\"value\":0.5},\"fill_color\":{\"value\":\"#1f77b4\"},\"line_alpha\":{\"value\":0.5},\"line_color\":{\"value\":\"#1f77b4\"},\"size\":{\"units\":\"screen\",\"value\":30},\"x\":{\"value\":1},\"y\":{\"value\":2}},\"id\":\"2264\",\"type\":\"Asterisk\"},{\"attributes\":{},\"id\":\"2355\",\"type\":\"UnionRenderers\"},{\"attributes\":{\"fill_alpha\":{\"value\":0.1},\"fill_color\":{\"value\":\"#1f77b4\"},\"line_alpha\":{\"value\":0.1},\"line_color\":{\"value\":\"#1f77b4\"},\"size\":{\"units\":\"screen\",\"value\":30},\"x\":{\"value\":1},\"y\":{\"value\":2}},\"id\":\"2265\",\"type\":\"Asterisk\"},{\"attributes\":{},\"id\":\"2356\",\"type\":\"Selection\"},{\"attributes\":{\"data_source\":{\"id\":\"2263\",\"type\":\"ColumnDataSource\"},\"glyph\":{\"id\":\"2264\",\"type\":\"Asterisk\"},\"hover_glyph\":null,\"muted_glyph\":null,\"nonselection_glyph\":{\"id\":\"2265\",\"type\":\"Asterisk\"},\"selection_glyph\":null,\"view\":{\"id\":\"2267\",\"type\":\"CDSView\"}},\"id\":\"2266\",\"type\":\"GlyphRenderer\"},{\"attributes\":{\"label\":{\"value\":\"diamond_cross\"},\"renderers\":[{\"id\":\"2338\",\"type\":\"GlyphRenderer\"}]},\"id\":\"2357\",\"type\":\"LegendItem\"},{\"attributes\":{\"callback\":null,\"data\":{},\"selected\":{\"id\":\"2437\",\"type\":\"Selection\"},\"selection_policy\":{\"id\":\"2436\",\"type\":\"UnionRenderers\"}},\"id\":\"2383\",\"type\":\"ColumnDataSource\"}],\"root_ids\":[\"2215\"]},\"title\":\"Bokeh Application\",\"version\":\"1.0.4\"}};\n",
       "  var render_items = [{\"docid\":\"84acefed-ea9a-49b2-b7b9-4b97115b835f\",\"roots\":{\"2215\":\"f795f116-0a2a-44b6-91ce-d4ac87aed229\"}}];\n",
       "  root.Bokeh.embed.embed_items_notebook(docs_json, render_items);\n",
       "\n",
       "  }\n",
       "  if (root.Bokeh !== undefined) {\n",
       "    embed_document(root);\n",
       "  } else {\n",
       "    var attempts = 0;\n",
       "    var timer = setInterval(function(root) {\n",
       "      if (root.Bokeh !== undefined) {\n",
       "        embed_document(root);\n",
       "        clearInterval(timer);\n",
       "      }\n",
       "      attempts++;\n",
       "      if (attempts > 100) {\n",
       "        console.log(\"Bokeh: ERROR: Unable to run BokehJS code because BokehJS library is missing\");\n",
       "        clearInterval(timer);\n",
       "      }\n",
       "    }, 10, root)\n",
       "  }\n",
       "})(window);"
      ],
      "application/vnd.bokehjs_exec.v0+json": ""
     },
     "metadata": {
      "application/vnd.bokehjs_exec.v0+json": {
       "id": "2215"
      }
     },
     "output_type": "display_data"
    }
   ],
   "source": [
    "# 3、不同符号的散点图\n",
    "# asterisk(), circle(), circle_cross(), circle_x(), cross(), diamond(), diamond_cross(), inverted_triangle()\n",
    "# square(), square_cross(), square_x(), triangle(), x()\n",
    "\n",
    "p = figure(plot_width=600, plot_height=400,x_range = [0,3], y_range = [0,7])\n",
    "\n",
    "p.circle_cross(1, 1, size = 30, alpha = 0.5, legend = 'circle_cross')\n",
    "p.asterisk(1, 2, size = 30, alpha = 0.5, legend = 'asterisk')\n",
    "p.circle_x(1, 3, size = 30, alpha = 0.5, legend = 'circle_x')\n",
    "p.cross(1, 4, size = 30, alpha = 0.5, legend = 'cross')\n",
    "p.diamond(1, 5, size = 30, alpha = 0.5, legend = 'diamond')\n",
    "p.diamond_cross(1, 6, size = 30, alpha = 0.5, legend = 'diamond_cross')\n",
    "p.inverted_triangle(2, 1, size = 30, alpha = 0.5, legend = 'inverted_triangle')\n",
    "p.square(2, 2, size = 30, alpha = 0.5, legend = 'square')\n",
    "p.square_cross(2, 3, size = 30, alpha = 0.5, legend = 'square_cross')\n",
    "p.square_x(2, 4, size = 30, alpha = 0.5, legend = 'square_x')\n",
    "p.triangle(2, 5, size = 30, alpha = 0.5, legend = 'triangle')\n",
    "p.x(2, 6, size = 30, alpha = 0.5, legend = 'x')\n",
    "\n",
    "p.legend.location = \"bottom_right\"\n",
    "# 设置图例位置\n",
    "\n",
    "show(p)\n",
    "# 详细参数可参考文档：http://bokeh.pydata.org/en/latest/docs/reference/plotting.html#bokeh.plotting.figure.Figure.circle"
   ]
  },
  {
   "cell_type": "code",
   "execution_count": 13,
   "metadata": {},
   "outputs": [
    {
     "data": {
      "text/html": [
       "\n",
       "\n",
       "\n",
       "\n",
       "\n",
       "\n",
       "  <div class=\"bk-root\" id=\"4e9ce78f-b077-4e88-9228-4ecde67b0488\" data-root-id=\"2841\"></div>\n"
      ]
     },
     "metadata": {},
     "output_type": "display_data"
    },
    {
     "data": {
      "application/javascript": [
       "(function(root) {\n",
       "  function embed_document(root) {\n",
       "    \n",
       "  var docs_json = {\"33cebfc0-5b33-4cb6-bcda-b8b8b86f36fb\":{\"roots\":{\"references\":[{\"attributes\":{\"below\":[{\"id\":\"2850\",\"type\":\"LinearAxis\"}],\"left\":[{\"id\":\"2855\",\"type\":\"LinearAxis\"}],\"plot_height\":400,\"renderers\":[{\"id\":\"2850\",\"type\":\"LinearAxis\"},{\"id\":\"2854\",\"type\":\"Grid\"},{\"id\":\"2855\",\"type\":\"LinearAxis\"},{\"id\":\"2859\",\"type\":\"Grid\"},{\"id\":\"2868\",\"type\":\"BoxAnnotation\"},{\"id\":\"2878\",\"type\":\"GlyphRenderer\"},{\"id\":\"2883\",\"type\":\"GlyphRenderer\"}],\"title\":{\"id\":\"3002\",\"type\":\"Title\"},\"toolbar\":{\"id\":\"2866\",\"type\":\"Toolbar\"},\"x_range\":{\"id\":\"2842\",\"type\":\"DataRange1d\"},\"x_scale\":{\"id\":\"2846\",\"type\":\"LinearScale\"},\"y_range\":{\"id\":\"2844\",\"type\":\"DataRange1d\"},\"y_scale\":{\"id\":\"2848\",\"type\":\"LinearScale\"}},\"id\":\"2841\",\"subtype\":\"Figure\",\"type\":\"Plot\"},{\"attributes\":{\"callback\":null},\"id\":\"2844\",\"type\":\"DataRange1d\"},{\"attributes\":{},\"id\":\"2860\",\"type\":\"PanTool\"},{\"attributes\":{\"fill_alpha\":{\"value\":0.1},\"fill_color\":{\"value\":\"#1f77b4\"},\"line_alpha\":{\"value\":0.1},\"line_color\":{\"value\":\"#1f77b4\"},\"size\":{\"units\":\"screen\",\"value\":2},\"x\":{\"field\":\"index\"},\"y\":{\"field\":\"value\"}},\"id\":\"2882\",\"type\":\"Circle\"},{\"attributes\":{\"fill_alpha\":{\"value\":0.8},\"fill_color\":{\"value\":\"red\"},\"line_alpha\":{\"value\":0.8},\"line_color\":{\"value\":\"red\"},\"size\":{\"units\":\"screen\",\"value\":2},\"x\":{\"field\":\"index\"},\"y\":{\"field\":\"value\"}},\"id\":\"2881\",\"type\":\"Circle\"},{\"attributes\":{\"callback\":null,\"data\":{\"index\":[0,1,2,3,4,5,6,7,8,9,10,11,12,13,14,15,16,17,18,19,20,21,22,23,24,25,26,27,28,29,30,31,32,33,34,35,36,37,38,39,40,41,42,43,44,45,46,47,48,49,50,51,52,53,54,55,56,57,58,59,60,61,62,63,64,65,66,67,68,69,70,71,72,73,74,75,76,77,78,79,80,81,82,83,84,85,86,87,88,89,90,91,92,93,94,95,96,97,98,99],\"value\":{\"__ndarray__\":\"2yxS2zov8L8EWN/scwzSPxxo6d0GrgNArJtC0dtDBUAEbaL5eSL9P3ri3VpgXO4/qnACtrMD4z8jmk+hT0nfP3D2cVqjD+O/fpX4JX7Q1b/aLPoxYje/v7MhcJcQX/a/CsQJ0xxuB8B3Q6pa2nAIwOYFPdcHjwXA7ln9oLfJ/7+eKNi/BWQEwLxtILrpuQTAtkaElkKY+L9JjPAHIqwCwJPnjMnCdQnAt8TibAarCsDoqtwIM1YNwJv8OLAduwHAIjMpSzqB/r/eX0c1fiH2vwvEFx+rEvq/PugdGDTN/b8Af+M2z27Qv6wxqP1TTOy/L5rPj3ip5b80aIwJ2Y37v7DuAg1t3uq/79G19MLQ7L8FxvWTVg7sv9sJHHmLZ+6/+vRp3s3B0D/kBw2240fsPwEpTz6LAuI/14pSndcJ6D9t2HaAF5H7P0RKI1bYWv4/AEtxz26V9b8AkN8A4mVQv3Bu3Kegqtq/9EihpH/2/j9PRnr8OTIGQCacj3GjVQdADNAgLVod8T88BZ4lpK7hP76fyY9kgNC/6tNIS/oP478kAKuONU3zvw0U2stD0wbABC/Uz7O+978lBjAh2WAJwB39Xb5aKwvAoGnskf+1DsA30lT0Jh4MwNhb8xt7rAXAqQjswwCoDMBPTjVBKmwBwOD32vojYMC/bmiizmOu2T80kpNzMIX4P++jgJ09uPI/aLHDetJUAEBTnrcZEKv7P0xLos8w0/A/6DirkuVww78tWw6jYBbzP+WKo/mvMe4/HoMU83r//T9wP/t43uQMQOgArwADXBNAC3ucuquoEUB56QYlgFgYQLxvBdscrRxAMAZBpZaTHUAIzxdOhHEgQECM1yx5pCBA8aRhax0RHkDwW+xMj6cVQOSETL8QoRpABux5Pw+ZFUAQhDFtk98UQACLlZqTXRZAyQOUS+Y/FkCECj0Ll2gaQFWaJYOToRpAdpl0pcxlHEDjdiEgbicgQJvxvAxqch9AQ46m7Tn1H0ACb+U3e6sfQCmhoFAUTiFAfifBDcN8IkC4XWGRs7AkQF584I5LAShAr56Z6cPbKUA=\",\"dtype\":\"float64\",\"shape\":[100]}},\"selected\":{\"id\":\"3009\",\"type\":\"Selection\"},\"selection_policy\":{\"id\":\"3008\",\"type\":\"UnionRenderers\"}},\"id\":\"2840\",\"type\":\"ColumnDataSource\"},{\"attributes\":{\"active_drag\":\"auto\",\"active_inspect\":\"auto\",\"active_multi\":null,\"active_scroll\":\"auto\",\"active_tap\":\"auto\",\"tools\":[{\"id\":\"2860\",\"type\":\"PanTool\"},{\"id\":\"2861\",\"type\":\"WheelZoomTool\"},{\"id\":\"2862\",\"type\":\"BoxZoomTool\"},{\"id\":\"2863\",\"type\":\"SaveTool\"},{\"id\":\"2864\",\"type\":\"ResetTool\"},{\"id\":\"2865\",\"type\":\"HelpTool\"}]},\"id\":\"2866\",\"type\":\"Toolbar\"},{\"attributes\":{\"data_source\":{\"id\":\"2840\",\"type\":\"ColumnDataSource\"},\"glyph\":{\"id\":\"2876\",\"type\":\"Line\"},\"hover_glyph\":null,\"muted_glyph\":null,\"nonselection_glyph\":{\"id\":\"2877\",\"type\":\"Line\"},\"selection_glyph\":null,\"view\":{\"id\":\"2879\",\"type\":\"CDSView\"}},\"id\":\"2878\",\"type\":\"GlyphRenderer\"},{\"attributes\":{},\"id\":\"3003\",\"type\":\"BasicTickFormatter\"},{\"attributes\":{\"plot\":null,\"text\":\"\"},\"id\":\"3002\",\"type\":\"Title\"},{\"attributes\":{},\"id\":\"2861\",\"type\":\"WheelZoomTool\"},{\"attributes\":{},\"id\":\"2865\",\"type\":\"HelpTool\"},{\"attributes\":{\"overlay\":{\"id\":\"2868\",\"type\":\"BoxAnnotation\"}},\"id\":\"2862\",\"type\":\"BoxZoomTool\"},{\"attributes\":{\"formatter\":{\"id\":\"3003\",\"type\":\"BasicTickFormatter\"},\"plot\":{\"id\":\"2841\",\"subtype\":\"Figure\",\"type\":\"Plot\"},\"ticker\":{\"id\":\"2851\",\"type\":\"BasicTicker\"}},\"id\":\"2850\",\"type\":\"LinearAxis\"},{\"attributes\":{},\"id\":\"2856\",\"type\":\"BasicTicker\"},{\"attributes\":{\"callback\":null},\"id\":\"2842\",\"type\":\"DataRange1d\"},{\"attributes\":{\"source\":{\"id\":\"2840\",\"type\":\"ColumnDataSource\"}},\"id\":\"2879\",\"type\":\"CDSView\"},{\"attributes\":{\"formatter\":{\"id\":\"3005\",\"type\":\"BasicTickFormatter\"},\"plot\":{\"id\":\"2841\",\"subtype\":\"Figure\",\"type\":\"Plot\"},\"ticker\":{\"id\":\"2856\",\"type\":\"BasicTicker\"}},\"id\":\"2855\",\"type\":\"LinearAxis\"},{\"attributes\":{},\"id\":\"3008\",\"type\":\"UnionRenderers\"},{\"attributes\":{\"plot\":{\"id\":\"2841\",\"subtype\":\"Figure\",\"type\":\"Plot\"},\"ticker\":{\"id\":\"2851\",\"type\":\"BasicTicker\"}},\"id\":\"2854\",\"type\":\"Grid\"},{\"attributes\":{},\"id\":\"3005\",\"type\":\"BasicTickFormatter\"},{\"attributes\":{\"dimension\":1,\"plot\":{\"id\":\"2841\",\"subtype\":\"Figure\",\"type\":\"Plot\"},\"ticker\":{\"id\":\"2856\",\"type\":\"BasicTicker\"}},\"id\":\"2859\",\"type\":\"Grid\"},{\"attributes\":{\"line_alpha\":0.1,\"line_color\":\"#1f77b4\",\"line_dash\":[10,4],\"x\":{\"field\":\"index\"},\"y\":{\"field\":\"value\"}},\"id\":\"2877\",\"type\":\"Line\"},{\"attributes\":{\"source\":{\"id\":\"2840\",\"type\":\"ColumnDataSource\"}},\"id\":\"2884\",\"type\":\"CDSView\"},{\"attributes\":{\"line_alpha\":0.8,\"line_dash\":[10,4],\"x\":{\"field\":\"index\"},\"y\":{\"field\":\"value\"}},\"id\":\"2876\",\"type\":\"Line\"},{\"attributes\":{},\"id\":\"2863\",\"type\":\"SaveTool\"},{\"attributes\":{},\"id\":\"3009\",\"type\":\"Selection\"},{\"attributes\":{},\"id\":\"2851\",\"type\":\"BasicTicker\"},{\"attributes\":{},\"id\":\"2864\",\"type\":\"ResetTool\"},{\"attributes\":{},\"id\":\"2848\",\"type\":\"LinearScale\"},{\"attributes\":{},\"id\":\"2846\",\"type\":\"LinearScale\"},{\"attributes\":{\"bottom_units\":\"screen\",\"fill_alpha\":{\"value\":0.5},\"fill_color\":{\"value\":\"lightgrey\"},\"left_units\":\"screen\",\"level\":\"overlay\",\"line_alpha\":{\"value\":1.0},\"line_color\":{\"value\":\"black\"},\"line_dash\":[4,4],\"line_width\":{\"value\":2},\"plot\":null,\"render_mode\":\"css\",\"right_units\":\"screen\",\"top_units\":\"screen\"},\"id\":\"2868\",\"type\":\"BoxAnnotation\"},{\"attributes\":{\"data_source\":{\"id\":\"2840\",\"type\":\"ColumnDataSource\"},\"glyph\":{\"id\":\"2881\",\"type\":\"Circle\"},\"hover_glyph\":null,\"muted_glyph\":null,\"nonselection_glyph\":{\"id\":\"2882\",\"type\":\"Circle\"},\"selection_glyph\":null,\"view\":{\"id\":\"2884\",\"type\":\"CDSView\"}},\"id\":\"2883\",\"type\":\"GlyphRenderer\"}],\"root_ids\":[\"2841\"]},\"title\":\"Bokeh Application\",\"version\":\"1.0.4\"}};\n",
       "  var render_items = [{\"docid\":\"33cebfc0-5b33-4cb6-bcda-b8b8b86f36fb\",\"roots\":{\"2841\":\"4e9ce78f-b077-4e88-9228-4ecde67b0488\"}}];\n",
       "  root.Bokeh.embed.embed_items_notebook(docs_json, render_items);\n",
       "\n",
       "  }\n",
       "  if (root.Bokeh !== undefined) {\n",
       "    embed_document(root);\n",
       "  } else {\n",
       "    var attempts = 0;\n",
       "    var timer = setInterval(function(root) {\n",
       "      if (root.Bokeh !== undefined) {\n",
       "        embed_document(root);\n",
       "        clearInterval(timer);\n",
       "      }\n",
       "      attempts++;\n",
       "      if (attempts > 100) {\n",
       "        console.log(\"Bokeh: ERROR: Unable to run BokehJS code because BokehJS library is missing\");\n",
       "        clearInterval(timer);\n",
       "      }\n",
       "    }, 10, root)\n",
       "  }\n",
       "})(window);"
      ],
      "application/vnd.bokehjs_exec.v0+json": ""
     },
     "metadata": {
      "application/vnd.bokehjs_exec.v0+json": {
       "id": "2841"
      }
     },
     "output_type": "display_data"
    }
   ],
   "source": [
    "# 1、折线图 - 单线图\n",
    "\n",
    "from bokeh.models import ColumnDataSource\n",
    "# 导入ColumnDataSource模块\n",
    "# 将数据存储为ColumnDataSource对象\n",
    "# 参考文档：http://bokeh.pydata.org/en/latest/docs/user_guide/data.html\n",
    "# 可以将dict、Dataframe、group对象转化为ColumnDataSource对象\n",
    "\n",
    "df = pd.DataFrame({'value':np.random.randn(100).cumsum()})\n",
    "# 创建数据\n",
    "df.index.name = 'index'\n",
    "source = ColumnDataSource(data=df)\n",
    "# 转化为ColumnDataSource对象\n",
    "# 这里注意了，index和columns都必须有名称字段\n",
    "\n",
    "p = figure(plot_width=600, plot_height=400)\n",
    "p.line(x='index',y='value',source = source,     # 设置x，y值, source → 数据源\n",
    "       line_width=1, line_alpha = 0.8, line_color = 'black',line_dash = [10,4])   # 线型基本设置\n",
    "# 绘制折线图\n",
    "\n",
    "p.circle(x='index',y='value',source=source,\n",
    "        size = 2,color = 'red',alpha = 0.8)\n",
    "# 绘制折点\n",
    "\n",
    "show(p)"
   ]
  },
  {
   "cell_type": "code",
   "execution_count": 14,
   "metadata": {},
   "outputs": [
    {
     "data": {
      "text/html": [
       "\n",
       "\n",
       "\n",
       "\n",
       "\n",
       "\n",
       "  <div class=\"bk-root\" id=\"d2afe35c-5ce1-4963-8f56-fd534bdf2314\" data-root-id=\"3064\"></div>\n"
      ]
     },
     "metadata": {},
     "output_type": "display_data"
    },
    {
     "data": {
      "application/javascript": [
       "(function(root) {\n",
       "  function embed_document(root) {\n",
       "    \n",
       "  var docs_json = {\"bd7c6109-196f-4620-81ef-316ec43431e3\":{\"roots\":{\"references\":[{\"attributes\":{\"below\":[{\"id\":\"3073\",\"type\":\"LinearAxis\"}],\"left\":[{\"id\":\"3078\",\"type\":\"LinearAxis\"}],\"plot_height\":400,\"renderers\":[{\"id\":\"3073\",\"type\":\"LinearAxis\"},{\"id\":\"3077\",\"type\":\"Grid\"},{\"id\":\"3078\",\"type\":\"LinearAxis\"},{\"id\":\"3082\",\"type\":\"Grid\"},{\"id\":\"3091\",\"type\":\"BoxAnnotation\"},{\"id\":\"3101\",\"type\":\"GlyphRenderer\"}],\"title\":{\"id\":\"3229\",\"type\":\"Title\"},\"toolbar\":{\"id\":\"3089\",\"type\":\"Toolbar\"},\"x_range\":{\"id\":\"3065\",\"type\":\"DataRange1d\"},\"x_scale\":{\"id\":\"3069\",\"type\":\"LinearScale\"},\"y_range\":{\"id\":\"3067\",\"type\":\"DataRange1d\"},\"y_scale\":{\"id\":\"3071\",\"type\":\"LinearScale\"}},\"id\":\"3064\",\"subtype\":\"Figure\",\"type\":\"Plot\"},{\"attributes\":{},\"id\":\"3087\",\"type\":\"ResetTool\"},{\"attributes\":{\"source\":{\"id\":\"3098\",\"type\":\"ColumnDataSource\"}},\"id\":\"3102\",\"type\":\"CDSView\"},{\"attributes\":{\"callback\":null,\"data\":{\"line_alpha\":[0.8,0.6],\"line_color\":[\"firebrick\",\"navy\"],\"line_width\":[2,1],\"xs\":[[0,1,2,3,4,5,6,7,8,9,10,11,12,13,14,15,16,17,18,19,20,21,22,23,24,25,26,27,28,29,30,31,32,33,34,35,36,37,38,39,40,41,42,43,44,45,46,47,48,49,50,51,52,53,54,55,56,57,58,59,60,61,62,63,64,65,66,67,68,69,70,71,72,73,74,75,76,77,78,79,80,81,82,83,84,85,86,87,88,89,90,91,92,93,94,95,96,97,98,99],[0,1,2,3,4,5,6,7,8,9,10,11,12,13,14,15,16,17,18,19,20,21,22,23,24,25,26,27,28,29,30,31,32,33,34,35,36,37,38,39,40,41,42,43,44,45,46,47,48,49,50,51,52,53,54,55,56,57,58,59,60,61,62,63,64,65,66,67,68,69,70,71,72,73,74,75,76,77,78,79,80,81,82,83,84,85,86,87,88,89,90,91,92,93,94,95,96,97,98,99]],\"ys\":[[-1.2065750208986574,-0.47195866903193384,-0.8410173090522137,-1.1912114451775855,0.2713274804278505,-0.478373567507168,0.2545397838777629,-1.075744912013128,0.9284594236922863,2.712121611493357,2.3071016463048526,0.9726686925914456,-0.20450108275140066,0.5208326517851946,-1.669185309953336,-2.592231082153878,-0.48908810935324665,-3.312173589276739,-1.7310730860822845,-2.423350819567342,-1.835973650765756,-0.19682701787847257,0.5511802718208846,0.7575786166487356,1.4677747255702125,2.2394140974805836,2.427572777905062,2.959216521223313,3.54354461137866,3.463936290620833,4.999407398965248,4.6365876309404195,4.073984202608759,3.280457271892961,4.086404011561064,5.398840167558823,5.747339126199547,5.880670296426692,5.585264661241766,4.8467866503362975,3.485392106142205,3.9390585084975003,3.8223895135603705,3.2975953777199427,4.132826993468928,4.561189211264296,3.6530353921478556,3.8255079464421136,3.7860809231998585,3.680173577571829,3.2355817408846868,3.1550625367663785,2.0561266576689237,1.8907540763407715,0.4873500719742674,0.0699066329021496,0.8269011158927616,0.20545987749867745,-1.6071905533424933,-1.2341952343276188,-1.1060032119546352,-0.979400225580372,-2.7781773312480134,-1.6835389240411327,-2.3740498386767084,-1.935981664618719,-1.1747357985021343,-0.9025156330554331,0.8705270259273581,2.0544221583759184,2.6360014210709712,1.8659210458731461,1.4804017211020624,0.7911785981889156,0.1921278327042094,-0.2574272345277036,0.48299924771054054,0.44124408151494665,0.3486392489843958,-0.23678807154705228,-1.2944063537705934,-0.5876507730078728,0.28993138111691197,0.6789848059685579,1.621464967033909,1.0874256224808656,0.4707229432854534,0.7422560410709786,1.7292963701800383,3.1477590825940363,3.49736360808093,1.6866176896557183,3.3361242056744174,2.734901373984898,3.087324495085793,2.0521631847126383,2.8101727837737505,2.4824962829881443,1.418118919660969,1.3281082368999848],[1.1797699913649133,0.5688207964127336,2.273319089380768,2.073632418249092,2.9419145879407003,3.1502129067140947,2.426687279432998,4.066353912384916,3.6453657082642317,5.297531258779907,3.3298253931408928,3.7964687999517768,4.691669488130869,6.446559027791829,4.2408218423278266,2.3429543095110548,0.6249982591690832,1.6073384188112194,2.4074192877353084,3.2274543155708546,3.0832229237946107,2.660043294351303,1.8495661709467757,2.689740817463012,2.454649884777988,3.099835082758667,3.2486461705290313,3.4069421802208897,3.421525203122837,3.071742269476523,2.9211853477843546,3.349520074995164,4.208866475515915,3.8619830590824162,3.5974071661430043,4.30606444255873,5.666838829704549,6.035747900069674,4.837339248806146,4.795155619051521,4.265537805784889,2.7836997929763294,4.116683473344736,4.741639241724037,4.061671302986348,4.925254284899593,4.465922232123496,3.2001314060589228,3.866169031782438,1.926292533557843,1.9315260080672663,1.3874108147226403,1.0052285775806808,3.3182845200633375,2.5376339511283375,3.2033793832332895,2.46827152186224,2.864789476433627,1.838318453264404,1.0040986689690345,0.4626866553362997,-0.663401541147855,0.5760005186780682,-0.027405526109483103,-0.09261278338294308,-0.6789548646771341,-0.6812600648809879,-0.3914091709635178,-0.14796415742564312,-2.5744438250942174,-2.278952882099719,-2.992915606933362,-3.853977813670215,-3.0433801054971856,-3.341209530297199,-3.550309708290854,-3.655641895420184,-3.732962893908879,-4.858510906533054,-5.589396116874605,-4.386725613827082,-5.016039880442335,-6.02908102173706,-5.76511744120253,-6.189237771037112,-7.531690771044821,-8.343042177531473,-7.662320082744692,-8.672828968986323,-9.043958857424375,-7.3529836087941405,-6.675919587925879,-5.8405046112184795,-6.742290582974,-7.7792945596995144,-7.998142212010297,-4.112887299505763,-3.279342086168539,-4.317242955588762,-5.60004768424357]]},\"selected\":{\"id\":\"3236\",\"type\":\"Selection\"},\"selection_policy\":{\"id\":\"3235\",\"type\":\"UnionRenderers\"}},\"id\":\"3098\",\"type\":\"ColumnDataSource\"},{\"attributes\":{\"callback\":null},\"id\":\"3065\",\"type\":\"DataRange1d\"},{\"attributes\":{},\"id\":\"3084\",\"type\":\"WheelZoomTool\"},{\"attributes\":{\"overlay\":{\"id\":\"3091\",\"type\":\"BoxAnnotation\"}},\"id\":\"3085\",\"type\":\"BoxZoomTool\"},{\"attributes\":{},\"id\":\"3086\",\"type\":\"SaveTool\"},{\"attributes\":{},\"id\":\"3088\",\"type\":\"HelpTool\"},{\"attributes\":{\"bottom_units\":\"screen\",\"fill_alpha\":{\"value\":0.5},\"fill_color\":{\"value\":\"lightgrey\"},\"left_units\":\"screen\",\"level\":\"overlay\",\"line_alpha\":{\"value\":1.0},\"line_color\":{\"value\":\"black\"},\"line_dash\":[4,4],\"line_width\":{\"value\":2},\"plot\":null,\"render_mode\":\"css\",\"right_units\":\"screen\",\"top_units\":\"screen\"},\"id\":\"3091\",\"type\":\"BoxAnnotation\"},{\"attributes\":{},\"id\":\"3235\",\"type\":\"UnionRenderers\"},{\"attributes\":{},\"id\":\"3236\",\"type\":\"Selection\"},{\"attributes\":{},\"id\":\"3074\",\"type\":\"BasicTicker\"},{\"attributes\":{},\"id\":\"3232\",\"type\":\"BasicTickFormatter\"},{\"attributes\":{\"formatter\":{\"id\":\"3230\",\"type\":\"BasicTickFormatter\"},\"plot\":{\"id\":\"3064\",\"subtype\":\"Figure\",\"type\":\"Plot\"},\"ticker\":{\"id\":\"3074\",\"type\":\"BasicTicker\"}},\"id\":\"3073\",\"type\":\"LinearAxis\"},{\"attributes\":{},\"id\":\"3230\",\"type\":\"BasicTickFormatter\"},{\"attributes\":{\"line_alpha\":{\"value\":0.1},\"line_color\":{\"value\":\"#1f77b4\"},\"line_width\":{\"field\":\"line_width\"},\"xs\":{\"field\":\"xs\"},\"ys\":{\"field\":\"ys\"}},\"id\":\"3100\",\"type\":\"MultiLine\"},{\"attributes\":{\"plot\":{\"id\":\"3064\",\"subtype\":\"Figure\",\"type\":\"Plot\"},\"ticker\":{\"id\":\"3074\",\"type\":\"BasicTicker\"}},\"id\":\"3077\",\"type\":\"Grid\"},{\"attributes\":{},\"id\":\"3069\",\"type\":\"LinearScale\"},{\"attributes\":{},\"id\":\"3079\",\"type\":\"BasicTicker\"},{\"attributes\":{\"active_drag\":\"auto\",\"active_inspect\":\"auto\",\"active_multi\":null,\"active_scroll\":\"auto\",\"active_tap\":\"auto\",\"tools\":[{\"id\":\"3083\",\"type\":\"PanTool\"},{\"id\":\"3084\",\"type\":\"WheelZoomTool\"},{\"id\":\"3085\",\"type\":\"BoxZoomTool\"},{\"id\":\"3086\",\"type\":\"SaveTool\"},{\"id\":\"3087\",\"type\":\"ResetTool\"},{\"id\":\"3088\",\"type\":\"HelpTool\"}]},\"id\":\"3089\",\"type\":\"Toolbar\"},{\"attributes\":{\"line_alpha\":{\"field\":\"line_alpha\"},\"line_color\":{\"field\":\"line_color\"},\"line_width\":{\"field\":\"line_width\"},\"xs\":{\"field\":\"xs\"},\"ys\":{\"field\":\"ys\"}},\"id\":\"3099\",\"type\":\"MultiLine\"},{\"attributes\":{\"dimension\":1,\"plot\":{\"id\":\"3064\",\"subtype\":\"Figure\",\"type\":\"Plot\"},\"ticker\":{\"id\":\"3079\",\"type\":\"BasicTicker\"}},\"id\":\"3082\",\"type\":\"Grid\"},{\"attributes\":{},\"id\":\"3083\",\"type\":\"PanTool\"},{\"attributes\":{\"data_source\":{\"id\":\"3098\",\"type\":\"ColumnDataSource\"},\"glyph\":{\"id\":\"3099\",\"type\":\"MultiLine\"},\"hover_glyph\":null,\"muted_glyph\":null,\"nonselection_glyph\":{\"id\":\"3100\",\"type\":\"MultiLine\"},\"selection_glyph\":null,\"view\":{\"id\":\"3102\",\"type\":\"CDSView\"}},\"id\":\"3101\",\"type\":\"GlyphRenderer\"},{\"attributes\":{\"plot\":null,\"text\":\"\"},\"id\":\"3229\",\"type\":\"Title\"},{\"attributes\":{\"callback\":null},\"id\":\"3067\",\"type\":\"DataRange1d\"},{\"attributes\":{\"formatter\":{\"id\":\"3232\",\"type\":\"BasicTickFormatter\"},\"plot\":{\"id\":\"3064\",\"subtype\":\"Figure\",\"type\":\"Plot\"},\"ticker\":{\"id\":\"3079\",\"type\":\"BasicTicker\"}},\"id\":\"3078\",\"type\":\"LinearAxis\"},{\"attributes\":{},\"id\":\"3071\",\"type\":\"LinearScale\"}],\"root_ids\":[\"3064\"]},\"title\":\"Bokeh Application\",\"version\":\"1.0.4\"}};\n",
       "  var render_items = [{\"docid\":\"bd7c6109-196f-4620-81ef-316ec43431e3\",\"roots\":{\"3064\":\"d2afe35c-5ce1-4963-8f56-fd534bdf2314\"}}];\n",
       "  root.Bokeh.embed.embed_items_notebook(docs_json, render_items);\n",
       "\n",
       "  }\n",
       "  if (root.Bokeh !== undefined) {\n",
       "    embed_document(root);\n",
       "  } else {\n",
       "    var attempts = 0;\n",
       "    var timer = setInterval(function(root) {\n",
       "      if (root.Bokeh !== undefined) {\n",
       "        embed_document(root);\n",
       "        clearInterval(timer);\n",
       "      }\n",
       "      attempts++;\n",
       "      if (attempts > 100) {\n",
       "        console.log(\"Bokeh: ERROR: Unable to run BokehJS code because BokehJS library is missing\");\n",
       "        clearInterval(timer);\n",
       "      }\n",
       "    }, 10, root)\n",
       "  }\n",
       "})(window);"
      ],
      "application/vnd.bokehjs_exec.v0+json": ""
     },
     "metadata": {
      "application/vnd.bokehjs_exec.v0+json": {
       "id": "3064"
      }
     },
     "output_type": "display_data"
    }
   ],
   "source": [
    "# 1、折线图 - 多线图\n",
    "# ① multi_line\n",
    "\n",
    "df = pd.DataFrame({'A':np.random.randn(100).cumsum(),\"B\":np.random.randn(100).cumsum()})\n",
    "# 创建数据\n",
    "\n",
    "p = figure(plot_width=600, plot_height=400)\n",
    "p.multi_line([df.index, df.index], [df['A'], df['B']],   # 注意x，y值的设置 → [x1,x2,x3,..], [y1,y2,y3,...]\n",
    "             color=[\"firebrick\", \"navy\"],    # 可同时设置 → color= \"firebrick\"\n",
    "             alpha=[0.8, 0.6],     # 可同时设置 → alpha = 0.6\n",
    "             line_width=[2,1],     # 可同时设置 → line_width = 2\n",
    "            )\n",
    "# 绘制多段线\n",
    "# 这里由于需要输入具体值，故直接用dataframe，或者dict即可\n",
    "\n",
    "show(p)"
   ]
  },
  {
   "cell_type": "code",
   "execution_count": 15,
   "metadata": {},
   "outputs": [
    {
     "data": {
      "text/html": [
       "\n",
       "\n",
       "\n",
       "\n",
       "\n",
       "\n",
       "  <div class=\"bk-root\" id=\"89949817-c00a-4214-af4f-8101965f11b9\" data-root-id=\"3292\"></div>\n"
      ]
     },
     "metadata": {},
     "output_type": "display_data"
    },
    {
     "data": {
      "application/javascript": [
       "(function(root) {\n",
       "  function embed_document(root) {\n",
       "    \n",
       "  var docs_json = {\"d8cf07f3-3706-4af4-a8e3-ac3247ae1f25\":{\"roots\":{\"references\":[{\"attributes\":{\"below\":[{\"id\":\"3302\",\"type\":\"LinearAxis\"}],\"left\":[{\"id\":\"3307\",\"type\":\"LogAxis\"}],\"renderers\":[{\"id\":\"3302\",\"type\":\"LinearAxis\"},{\"id\":\"3306\",\"type\":\"Grid\"},{\"id\":\"3307\",\"type\":\"LogAxis\"},{\"id\":\"3311\",\"type\":\"Grid\"},{\"id\":\"3320\",\"type\":\"BoxAnnotation\"},{\"id\":\"3338\",\"type\":\"Legend\"},{\"id\":\"3330\",\"type\":\"GlyphRenderer\"},{\"id\":\"3343\",\"type\":\"GlyphRenderer\"},{\"id\":\"3357\",\"type\":\"GlyphRenderer\"},{\"id\":\"3372\",\"type\":\"GlyphRenderer\"},{\"id\":\"3390\",\"type\":\"GlyphRenderer\"},{\"id\":\"3409\",\"type\":\"GlyphRenderer\"},{\"id\":\"3431\",\"type\":\"GlyphRenderer\"},{\"id\":\"3455\",\"type\":\"GlyphRenderer\"}],\"title\":{\"id\":\"3291\",\"type\":\"Title\"},\"toolbar\":{\"id\":\"3318\",\"type\":\"Toolbar\"},\"x_range\":{\"id\":\"3294\",\"type\":\"DataRange1d\"},\"x_scale\":{\"id\":\"3298\",\"type\":\"LinearScale\"},\"y_range\":{\"id\":\"3296\",\"type\":\"Range1d\"},\"y_scale\":{\"id\":\"3300\",\"type\":\"LogScale\"}},\"id\":\"3292\",\"subtype\":\"Figure\",\"type\":\"Plot\"},{\"attributes\":{\"label\":{\"value\":\"y=x\"},\"renderers\":[{\"id\":\"3343\",\"type\":\"GlyphRenderer\"},{\"id\":\"3357\",\"type\":\"GlyphRenderer\"}]},\"id\":\"3353\",\"type\":\"LegendItem\"},{\"attributes\":{\"label\":{\"value\":\"y=x**x\"},\"renderers\":[{\"id\":\"3431\",\"type\":\"GlyphRenderer\"}]},\"id\":\"3451\",\"type\":\"LegendItem\"},{\"attributes\":{\"fill_color\":{\"value\":null},\"line_color\":{\"value\":\"green\"},\"x\":{\"field\":\"x\"},\"y\":{\"field\":\"y\"}},\"id\":\"3388\",\"type\":\"Circle\"},{\"attributes\":{\"fill_color\":{\"value\":\"#1f77b4\"},\"line_color\":{\"value\":\"#1f77b4\"},\"x\":{\"field\":\"x\"},\"y\":{\"field\":\"y\"}},\"id\":\"3355\",\"type\":\"Circle\"},{\"attributes\":{\"line_color\":\"coral\",\"line_dash\":[6],\"line_width\":2,\"x\":{\"field\":\"x\"},\"y\":{\"field\":\"y\"}},\"id\":\"3453\",\"type\":\"Line\"},{\"attributes\":{\"callback\":null,\"data\":{\"x\":{\"__ndarray__\":\"mpmZmZmZuT/OvX+HpiLDP86uMkKAeMk/z5/l/FnOzz9oSMzbGRLTP+jAJbkGPdY/aDl/lvNn2T/qsdhz4JLcP2oqMlHNvd8/ddFFF1104T+1jfKF0wnjP/VJn/RJn+Q/NQZMY8A05j91wvjRNsrnP7Z+pUCtX+k/9jpSryP16j829/4dmorsP3azq4wQIO4/tm9Y+4a17z/8lQK1fqXwPxz0WOw5cPE/PFKvI/U68j9csAVbsAXzP3wOXJJr0PM/nGyyySab9D+8yggB4mX1P9woXzidMPY//Ya1b1j79j8d5QunE8b3Pz1DYt7OkPg/XaG4FYpb+T99/w5NRSb6P51dZYQA8fo/vbu7u7u7+z/dGRLzdob8P/13aCoyUf0/Hda+Ye0b/j89NBWZqOb+P16Sa9Bjsf8/P/jggw8+AEBPJ4wfbaMAQF9WN7vKCAFAb4XiVihuAUB/tI3yhdMBQI/jOI7jOAJAnxLkKUGeAkCvQY/FngMDQL9wOmH8aANAz5/l/FnOA0DfzpCYtzMEQO/9OzQVmQRA/yznz3L+BEAPXJJr0GMFQB+LPQcuyQVAMLrooosuBkBA6ZM+6ZMGQFAYP9pG+QZAYEfqdaReB0BwdpURAsQHQIClQK1fKQhAkNTrSL2OCECgA5fkGvQIQLAyQoB4WQlAwGHtG9a+CUDQkJi3MyQKQOC/Q1ORiQpA8O7u7u7uCkAAHpqKTFQLQBBNRSaquQtAIHzwwQcfDEAwq5tdZYQMQEDaRvnC6QxAUAnylCBPDUBgOJ0wfrQNQHBnSMzbGQ5AgZbzZzl/DkCRxZ4Dl+QOQKH0SZ/0SQ9AsSP1OlKvD0BgKVDrVwoQQOjAJbkGPRBAcFj7hrVvEED479BUZKIQQICHpiIT1RBACB988MEHEUCQtlG+cDoRQBhOJ4wfbRFAoOX8Wc6fEUAofdInfdIRQLAUqPUrBRJAOKx9w9o3EkDAQ1ORiWoSQEjbKF84nRJA0HL+LOfPEkBYCtT6lQITQOChqchENRNAaDl/lvNnE0Dw0FRkopoTQHhoKjJRzRNAAAAAAAAAFEA=\",\"dtype\":\"float64\",\"shape\":[100]},\"y\":{\"__ndarray__\":\"D0lIYhM91D8QPZjjzb7YPzK64wifjNw/GXn6VSPn3z//ye9jz3fhP16ivPPv3OI/DfNMwmkp5D9W5tY7u2HlPwwBnbAqieY/tAshZjGi5z8jQ5ybu67oP7E4kPFQsOk/hczrDC+o6j/0iwzLW5frP5k2qxOyfuw/0YpNHOte7T/e9yZApTjuP6j3dSdpDO8/c6shuq3a7z8NtseY7VHwP2lp98EmtPA/GIsYKSsU8T9PAyw7H3LxP25i6aMjzvE/hhwD01Uo8j8TapBq0IDyP2srOpur1/I/LTC4cf0s8z9FEmIY2oDzP2TM/g5U0/M/XK6KWnwk9D+ErVKuYnT0PwBsf48Vw/Q/97f0c6IQ9T9mEkDdFV31P5RXL3B7qPU/qeqNCd7y9T/qSnHQRzz2P0WZbEbChPY/8HH0VVbM9j8E7TBfDBP3P+4VckPsWPc/r0xzb/2d9z9sfJPkRuL3PzCgIkHPJfg/fX7gx5xo+D9srcRmtar4P/OyJL0e7Pg/WVVKId4s+T8X2Yml+Gz5P5Tq5RxzrPk/MzxNH1Lr+T9+aXwNmin6P9BrjRRPZ/o/HdU8MXWk+j+cEuwyEOH6Py0mZ74jHfs/oI1zULNY+z9zbi1AwpP7PyeQN8FTzvs/7DPC5WoI/D/9a2ygCkL8P1Q1A8Y1e/w/FUIhD++z/D8sGLIZOez8P2DlWmoWJP0/Ty/LbYlb/T87Ufd5lJL9P++KPs85yf0/ODp+mXv//T8MsxPxWzX+PxgJztvcav4/Qf/QTQCg/j+9NmoqyNT+PwKf2UQ2Cf8/6REOYUw9/z+N81Y0DHH/P5KbC2Z3pP8/Mj0pkI/X/z9y+vMfKwUAQHrKI3tmHgBAK19KlHo3AED5Y3MgaFAAQFt2S88vaQBAoZdYS9KBAEAOrS86UJoAQJs9pzyqsgBAepkH7+DKAEAllDjp9OIAQMf27L7m+gBARc7L/7YSAUCEtZc3ZioBQF46VO70QQFAl3lpqGNZAUA3DMbmsnABQNte/ybjhwFA/Ylw4/SeAUCcwFeT6LUBQFhp8qq+zAFAqPSXm3fjAUA=\",\"dtype\":\"float64\",\"shape\":[100]}},\"selected\":{\"id\":\"3352\",\"type\":\"Selection\"},\"selection_policy\":{\"id\":\"3351\",\"type\":\"UnionRenderers\"}},\"id\":\"3327\",\"type\":\"ColumnDataSource\"},{\"attributes\":{\"fill_alpha\":{\"value\":0.1},\"fill_color\":{\"value\":\"#1f77b4\"},\"line_alpha\":{\"value\":0.1},\"line_color\":{\"value\":\"#1f77b4\"},\"x\":{\"field\":\"x\"},\"y\":{\"field\":\"y\"}},\"id\":\"3356\",\"type\":\"Circle\"},{\"attributes\":{\"line_alpha\":0.1,\"line_color\":\"#1f77b4\",\"line_dash\":[6],\"line_width\":2,\"x\":{\"field\":\"x\"},\"y\":{\"field\":\"y\"}},\"id\":\"3454\",\"type\":\"Line\"},{\"attributes\":{\"plot\":null,\"text\":\"log axis example\"},\"id\":\"3291\",\"type\":\"Title\"},{\"attributes\":{\"data_source\":{\"id\":\"3354\",\"type\":\"ColumnDataSource\"},\"glyph\":{\"id\":\"3355\",\"type\":\"Circle\"},\"hover_glyph\":null,\"muted_glyph\":null,\"nonselection_glyph\":{\"id\":\"3356\",\"type\":\"Circle\"},\"selection_glyph\":null,\"view\":{\"id\":\"3358\",\"type\":\"CDSView\"}},\"id\":\"3357\",\"type\":\"GlyphRenderer\"},{\"attributes\":{\"data_source\":{\"id\":\"3452\",\"type\":\"ColumnDataSource\"},\"glyph\":{\"id\":\"3453\",\"type\":\"Line\"},\"hover_glyph\":null,\"muted_glyph\":null,\"nonselection_glyph\":{\"id\":\"3454\",\"type\":\"Line\"},\"selection_glyph\":null,\"view\":{\"id\":\"3456\",\"type\":\"CDSView\"}},\"id\":\"3455\",\"type\":\"GlyphRenderer\"},{\"attributes\":{\"callback\":null},\"id\":\"3294\",\"type\":\"DataRange1d\"},{\"attributes\":{\"source\":{\"id\":\"3354\",\"type\":\"ColumnDataSource\"}},\"id\":\"3358\",\"type\":\"CDSView\"},{\"attributes\":{\"source\":{\"id\":\"3452\",\"type\":\"ColumnDataSource\"}},\"id\":\"3456\",\"type\":\"CDSView\"},{\"attributes\":{\"callback\":null,\"end\":10000000000000000000000,\"start\":0.001},\"id\":\"3296\",\"type\":\"Range1d\"},{\"attributes\":{},\"id\":\"3367\",\"type\":\"UnionRenderers\"},{\"attributes\":{},\"id\":\"3475\",\"type\":\"UnionRenderers\"},{\"attributes\":{},\"id\":\"3368\",\"type\":\"Selection\"},{\"attributes\":{},\"id\":\"3476\",\"type\":\"Selection\"},{\"attributes\":{\"plot\":{\"id\":\"3292\",\"subtype\":\"Figure\",\"type\":\"Plot\"},\"ticker\":{\"id\":\"3303\",\"type\":\"BasicTicker\"}},\"id\":\"3306\",\"type\":\"Grid\"},{\"attributes\":{\"label\":{\"value\":\"y=10^(x^2)\"},\"renderers\":[{\"id\":\"3455\",\"type\":\"GlyphRenderer\"}]},\"id\":\"3477\",\"type\":\"LegendItem\"},{\"attributes\":{\"callback\":null,\"data\":{\"x\":{\"__ndarray__\":\"mpmZmZmZuT/OvX+HpiLDP86uMkKAeMk/z5/l/FnOzz9oSMzbGRLTP+jAJbkGPdY/aDl/lvNn2T/qsdhz4JLcP2oqMlHNvd8/ddFFF1104T+1jfKF0wnjP/VJn/RJn+Q/NQZMY8A05j91wvjRNsrnP7Z+pUCtX+k/9jpSryP16j829/4dmorsP3azq4wQIO4/tm9Y+4a17z/8lQK1fqXwPxz0WOw5cPE/PFKvI/U68j9csAVbsAXzP3wOXJJr0PM/nGyyySab9D+8yggB4mX1P9woXzidMPY//Ya1b1j79j8d5QunE8b3Pz1DYt7OkPg/XaG4FYpb+T99/w5NRSb6P51dZYQA8fo/vbu7u7u7+z/dGRLzdob8P/13aCoyUf0/Hda+Ye0b/j89NBWZqOb+P16Sa9Bjsf8/P/jggw8+AEBPJ4wfbaMAQF9WN7vKCAFAb4XiVihuAUB/tI3yhdMBQI/jOI7jOAJAnxLkKUGeAkCvQY/FngMDQL9wOmH8aANAz5/l/FnOA0DfzpCYtzMEQO/9OzQVmQRA/yznz3L+BEAPXJJr0GMFQB+LPQcuyQVAMLrooosuBkBA6ZM+6ZMGQFAYP9pG+QZAYEfqdaReB0BwdpURAsQHQIClQK1fKQhAkNTrSL2OCECgA5fkGvQIQLAyQoB4WQlAwGHtG9a+CUDQkJi3MyQKQOC/Q1ORiQpA8O7u7u7uCkAAHpqKTFQLQBBNRSaquQtAIHzwwQcfDEAwq5tdZYQMQEDaRvnC6QxAUAnylCBPDUBgOJ0wfrQNQHBnSMzbGQ5AgZbzZzl/DkCRxZ4Dl+QOQKH0SZ/0SQ9AsSP1OlKvD0BgKVDrVwoQQOjAJbkGPRBAcFj7hrVvEED479BUZKIQQICHpiIT1RBACB988MEHEUCQtlG+cDoRQBhOJ4wfbRFAoOX8Wc6fEUAofdInfdIRQLAUqPUrBRJAOKx9w9o3EkDAQ1ORiWoSQEjbKF84nRJA0HL+LOfPEkBYCtT6lQITQOChqchENRNAaDl/lvNnE0Dw0FRkopoTQHhoKjJRzRNAAAAAAAAAFEA=\",\"dtype\":\"float64\",\"shape\":[100]},\"y\":{\"__ndarray__\":\"fBSuR+F6hD/GgVSMluKWP1+/YSsORqQ/lwCSAQGdrz9Egl3kEbu2P5hlbkC76L4/JNV9Sr4rxD8uqALxqoPJP+OrxZMjfM8/I3BjGZQK0z+sIgNnXKfWP4ztwbJqlNo/w9Cf/L7R3j8pZk6irK/hPx1wXMWcHuQ/OwZ656+15j+FKKcI5nTpP/rW4yg/XOw/mxEwSLtr7z827EUzrVHxP7KV+0GOAfM/RAU50IDF9D/sOv7dhJ32P6k2S2uaifg/fPgfeMGJ+j9lgHwE+p38P2TOYBBExv4/PnHmzU+BAEBTXmBThqkBQHMunpjF2wJAnuGfnQ0YBEDUd2ViXl4FQBXx7ua3rgZAYU08KxoJCEC3jE0vhW0JQBmvIvP42wpAhbS7dnVUDED8nBi6+tYNQIBoOb2IYw9AhwsPwA99EEBTVGOBX00RQKSOmaKzIhJAe7qxIwz9EkDX16sEadwTQLnmh0XKwBRAIOdF5i+qFUAN2eXmmZgWQH+8Z0cIjBdAd5HLB3uEGED0VxEo8oEZQPYPOahthBpAfrlCiO2LG0CLVC7IcZgcQB7h+2f6qR1AOV+rZ4fAHkDXzjzHGNwfQP0XWENXfiBAUcECUyQRIUBoY56Sc6YhQEL+KgJFPiJA3pGooZjYIkA+HhdxbnUjQGCjdnDGFCRARCHHn6C2JEDrlwj//FolQFYHO47bASZAgm9eTTyrJkBy0HI8H1cnQCQqeFuEBShAmXxuqmu2KEDRx1Up1WkpQMsLLtjAHypAiEj3ti7YKkAIfrHFHpMrQEusXASRUCxAUtP4coUQLUAa84UR/NItQKULBOD0ly5A8hxz3m9fL0CAk2mGthQwQOoUkjX2ejBAtRKz/HbiMEDhjMzbOEsxQG6D3tI7tTFAXfbo4X8gMkCt5esIBY0yQF9R50fL+jJAcjnbntJpM0DmnccNG9ozQLx+rJSkSzRA89uJM2++NECMtV/qejI1QIULLrnHpzVA4d30n1UeNkCdLLSeJJY2QLv3a7U0DzdAOj8c5IWJN0AbA8UqGAU4QF1DZonrgThAAAAAAAAAOUA=\",\"dtype\":\"float64\",\"shape\":[100]}},\"selected\":{\"id\":\"3426\",\"type\":\"Selection\"},\"selection_policy\":{\"id\":\"3425\",\"type\":\"UnionRenderers\"}},\"id\":\"3387\",\"type\":\"ColumnDataSource\"},{\"attributes\":{\"axis_label\":\"Values(log scale)\",\"formatter\":{\"id\":\"3335\",\"type\":\"LogTickFormatter\"},\"plot\":{\"id\":\"3292\",\"subtype\":\"Figure\",\"type\":\"Plot\"},\"ticker\":{\"id\":\"3308\",\"type\":\"LogTicker\"}},\"id\":\"3307\",\"type\":\"LogAxis\"},{\"attributes\":{\"line_color\":\"#1f77b4\",\"x\":{\"field\":\"x\"},\"y\":{\"field\":\"y\"}},\"id\":\"3370\",\"type\":\"Line\"},{\"attributes\":{\"num_minor_ticks\":10},\"id\":\"3308\",\"type\":\"LogTicker\"},{\"attributes\":{\"line_alpha\":0.1,\"line_color\":\"#1f77b4\",\"x\":{\"field\":\"x\"},\"y\":{\"field\":\"y\"}},\"id\":\"3371\",\"type\":\"Line\"},{\"attributes\":{},\"id\":\"3633\",\"type\":\"Selection\"},{\"attributes\":{\"dimension\":1,\"plot\":{\"id\":\"3292\",\"subtype\":\"Figure\",\"type\":\"Plot\"},\"ticker\":{\"id\":\"3308\",\"type\":\"LogTicker\"}},\"id\":\"3311\",\"type\":\"Grid\"},{\"attributes\":{\"data_source\":{\"id\":\"3369\",\"type\":\"ColumnDataSource\"},\"glyph\":{\"id\":\"3370\",\"type\":\"Line\"},\"hover_glyph\":null,\"muted_glyph\":null,\"nonselection_glyph\":{\"id\":\"3371\",\"type\":\"Line\"},\"selection_glyph\":null,\"view\":{\"id\":\"3373\",\"type\":\"CDSView\"}},\"id\":\"3372\",\"type\":\"GlyphRenderer\"},{\"attributes\":{\"line_alpha\":0.1,\"line_color\":\"#1f77b4\",\"line_dash\":[2,4,6,4],\"x\":{\"field\":\"x\"},\"y\":{\"field\":\"y\"}},\"id\":\"3329\",\"type\":\"Line\"},{\"attributes\":{\"source\":{\"id\":\"3369\",\"type\":\"ColumnDataSource\"}},\"id\":\"3373\",\"type\":\"CDSView\"},{\"attributes\":{\"line_color\":\"tomato\",\"line_dash\":[2,4,6,4],\"x\":{\"field\":\"x\"},\"y\":{\"field\":\"y\"}},\"id\":\"3328\",\"type\":\"Line\"},{\"attributes\":{},\"id\":\"3384\",\"type\":\"UnionRenderers\"},{\"attributes\":{\"callback\":null,\"data\":{\"x\":{\"__ndarray__\":\"mpmZmZmZuT/OvX+HpiLDP86uMkKAeMk/z5/l/FnOzz9oSMzbGRLTP+jAJbkGPdY/aDl/lvNn2T/qsdhz4JLcP2oqMlHNvd8/ddFFF1104T+1jfKF0wnjP/VJn/RJn+Q/NQZMY8A05j91wvjRNsrnP7Z+pUCtX+k/9jpSryP16j829/4dmorsP3azq4wQIO4/tm9Y+4a17z/8lQK1fqXwPxz0WOw5cPE/PFKvI/U68j9csAVbsAXzP3wOXJJr0PM/nGyyySab9D+8yggB4mX1P9woXzidMPY//Ya1b1j79j8d5QunE8b3Pz1DYt7OkPg/XaG4FYpb+T99/w5NRSb6P51dZYQA8fo/vbu7u7u7+z/dGRLzdob8P/13aCoyUf0/Hda+Ye0b/j89NBWZqOb+P16Sa9Bjsf8/P/jggw8+AEBPJ4wfbaMAQF9WN7vKCAFAb4XiVihuAUB/tI3yhdMBQI/jOI7jOAJAnxLkKUGeAkCvQY/FngMDQL9wOmH8aANAz5/l/FnOA0DfzpCYtzMEQO/9OzQVmQRA/yznz3L+BEAPXJJr0GMFQB+LPQcuyQVAMLrooosuBkBA6ZM+6ZMGQFAYP9pG+QZAYEfqdaReB0BwdpURAsQHQIClQK1fKQhAkNTrSL2OCECgA5fkGvQIQLAyQoB4WQlAwGHtG9a+CUDQkJi3MyQKQOC/Q1ORiQpA8O7u7u7uCkAAHpqKTFQLQBBNRSaquQtAIHzwwQcfDEAwq5tdZYQMQEDaRvnC6QxAUAnylCBPDUBgOJ0wfrQNQHBnSMzbGQ5AgZbzZzl/DkCRxZ4Dl+QOQKH0SZ/0SQ9AsSP1OlKvD0BgKVDrVwoQQOjAJbkGPRBAcFj7hrVvEED479BUZKIQQICHpiIT1RBACB988MEHEUCQtlG+cDoRQBhOJ4wfbRFAoOX8Wc6fEUAofdInfdIRQLAUqPUrBRJAOKx9w9o3EkDAQ1ORiWoSQEjbKF84nRJA0HL+LOfPEkBYCtT6lQITQOChqchENRNAaDl/lvNnE0Dw0FRkopoTQHhoKjJRzRNAAAAAAAAAFEA=\",\"dtype\":\"float64\",\"shape\":[100]},\"y\":{\"__ndarray__\":\"mpmZmZmZuT/OvX+HpiLDP86uMkKAeMk/z5/l/FnOzz9oSMzbGRLTP+jAJbkGPdY/aDl/lvNn2T/qsdhz4JLcP2oqMlHNvd8/ddFFF1104T+1jfKF0wnjP/VJn/RJn+Q/NQZMY8A05j91wvjRNsrnP7Z+pUCtX+k/9jpSryP16j829/4dmorsP3azq4wQIO4/tm9Y+4a17z/8lQK1fqXwPxz0WOw5cPE/PFKvI/U68j9csAVbsAXzP3wOXJJr0PM/nGyyySab9D+8yggB4mX1P9woXzidMPY//Ya1b1j79j8d5QunE8b3Pz1DYt7OkPg/XaG4FYpb+T99/w5NRSb6P51dZYQA8fo/vbu7u7u7+z/dGRLzdob8P/13aCoyUf0/Hda+Ye0b/j89NBWZqOb+P16Sa9Bjsf8/P/jggw8+AEBPJ4wfbaMAQF9WN7vKCAFAb4XiVihuAUB/tI3yhdMBQI/jOI7jOAJAnxLkKUGeAkCvQY/FngMDQL9wOmH8aANAz5/l/FnOA0DfzpCYtzMEQO/9OzQVmQRA/yznz3L+BEAPXJJr0GMFQB+LPQcuyQVAMLrooosuBkBA6ZM+6ZMGQFAYP9pG+QZAYEfqdaReB0BwdpURAsQHQIClQK1fKQhAkNTrSL2OCECgA5fkGvQIQLAyQoB4WQlAwGHtG9a+CUDQkJi3MyQKQOC/Q1ORiQpA8O7u7u7uCkAAHpqKTFQLQBBNRSaquQtAIHzwwQcfDEAwq5tdZYQMQEDaRvnC6QxAUAnylCBPDUBgOJ0wfrQNQHBnSMzbGQ5AgZbzZzl/DkCRxZ4Dl+QOQKH0SZ/0SQ9AsSP1OlKvD0BgKVDrVwoQQOjAJbkGPRBAcFj7hrVvEED479BUZKIQQICHpiIT1RBACB988MEHEUCQtlG+cDoRQBhOJ4wfbRFAoOX8Wc6fEUAofdInfdIRQLAUqPUrBRJAOKx9w9o3EkDAQ1ORiWoSQEjbKF84nRJA0HL+LOfPEkBYCtT6lQITQOChqchENRNAaDl/lvNnE0Dw0FRkopoTQHhoKjJRzRNAAAAAAAAAFEA=\",\"dtype\":\"float64\",\"shape\":[100]}},\"selected\":{\"id\":\"3368\",\"type\":\"Selection\"},\"selection_policy\":{\"id\":\"3367\",\"type\":\"UnionRenderers\"}},\"id\":\"3340\",\"type\":\"ColumnDataSource\"},{\"attributes\":{},\"id\":\"3385\",\"type\":\"Selection\"},{\"attributes\":{},\"id\":\"3312\",\"type\":\"PanTool\"},{\"attributes\":{\"label\":{\"value\":\"y=x**2\"},\"renderers\":[{\"id\":\"3372\",\"type\":\"GlyphRenderer\"},{\"id\":\"3390\",\"type\":\"GlyphRenderer\"}]},\"id\":\"3386\",\"type\":\"LegendItem\"},{\"attributes\":{},\"id\":\"3313\",\"type\":\"WheelZoomTool\"},{\"attributes\":{\"callback\":null,\"data\":{\"x\":{\"__ndarray__\":\"mpmZmZmZuT/OvX+HpiLDP86uMkKAeMk/z5/l/FnOzz9oSMzbGRLTP+jAJbkGPdY/aDl/lvNn2T/qsdhz4JLcP2oqMlHNvd8/ddFFF1104T+1jfKF0wnjP/VJn/RJn+Q/NQZMY8A05j91wvjRNsrnP7Z+pUCtX+k/9jpSryP16j829/4dmorsP3azq4wQIO4/tm9Y+4a17z/8lQK1fqXwPxz0WOw5cPE/PFKvI/U68j9csAVbsAXzP3wOXJJr0PM/nGyyySab9D+8yggB4mX1P9woXzidMPY//Ya1b1j79j8d5QunE8b3Pz1DYt7OkPg/XaG4FYpb+T99/w5NRSb6P51dZYQA8fo/vbu7u7u7+z/dGRLzdob8P/13aCoyUf0/Hda+Ye0b/j89NBWZqOb+P16Sa9Bjsf8/P/jggw8+AEBPJ4wfbaMAQF9WN7vKCAFAb4XiVihuAUB/tI3yhdMBQI/jOI7jOAJAnxLkKUGeAkCvQY/FngMDQL9wOmH8aANAz5/l/FnOA0DfzpCYtzMEQO/9OzQVmQRA/yznz3L+BEAPXJJr0GMFQB+LPQcuyQVAMLrooosuBkBA6ZM+6ZMGQFAYP9pG+QZAYEfqdaReB0BwdpURAsQHQIClQK1fKQhAkNTrSL2OCECgA5fkGvQIQLAyQoB4WQlAwGHtG9a+CUDQkJi3MyQKQOC/Q1ORiQpA8O7u7u7uCkAAHpqKTFQLQBBNRSaquQtAIHzwwQcfDEAwq5tdZYQMQEDaRvnC6QxAUAnylCBPDUBgOJ0wfrQNQHBnSMzbGQ5AgZbzZzl/DkCRxZ4Dl+QOQKH0SZ/0SQ9AsSP1OlKvD0BgKVDrVwoQQOjAJbkGPRBAcFj7hrVvEED479BUZKIQQICHpiIT1RBACB988MEHEUCQtlG+cDoRQBhOJ4wfbRFAoOX8Wc6fEUAofdInfdIRQLAUqPUrBRJAOKx9w9o3EkDAQ1ORiWoSQEjbKF84nRJA0HL+LOfPEkBYCtT6lQITQOChqchENRNAaDl/lvNnE0Dw0FRkopoTQHhoKjJRzRNAAAAAAAAAFEA=\",\"dtype\":\"float64\",\"shape\":[100]},\"y\":{\"__ndarray__\":\"AAAAAAAA8D9CrV8pUOv3P4Jav1Kg1v8/4YMPPvjgA0CCWr9SoNYHQCIxb2dIzAtAwgcffPDBD0Ayb2dIzNsRQIJav1Kg1hNA0kUXXXTRFUAiMW9nSMwXQHIcx3EcxxlAwgcffPDBG0AS83aGxLwdQGTezpCYtx9A2mSTTTbZIECCWr9SoNYhQCpQ61cK1CJA0kUXXXTRI0B7O0Ni3s4kQCMxb2dIzCVAyyabbLLJJkBzHMdxHMcnQBsS83aGxChAwwcffPDBKUBr/UqBWr8qQBPzdobEvCtAvOiiiy66LEBk3s6QmLctQAzU+pUCtS5AtMkmm2yyL0CuXylQ61cwQIJav1Kg1jBAVlVVVVVVMUAqUOtXCtQxQP5KgVq/UjJA0kUXXXTRMkCmQK1fKVAzQHs7Q2LezjNATzbZZJNNNEAjMW9nSMw0QPcrBWr9SjVAyyabbLLJNUCfITFvZ0g2QHMcx3EcxzZARxdddNFFN0AbEvN2hsQ3QO8MiXk7QzhAwwcffPDBOECXArV+pUA5QGv9SoFavzlAP/jggw8+OkAT83aGxLw6QOftDIl5OztAvOiiiy66O0CQ4ziO4zg8QGTezpCYtzxAONlkk002PUAM1PqVArU9QODOkJi3Mz5AtMkmm2yyPkCIxLydITE/QFy/UqDWrz9AGF100UUXQECCWr9SoFZAQOxXCtT6lUBAVlVVVVXVQEDAUqDWrxRBQCpQ61cKVEFAlE022WSTQUD+SoFav9JBQGhIzNsZEkJA0kUXXXRRQkA8Q2LezpBCQKZArV8p0EJAET744IMPQ0B7O0Ni3k5DQOU4juM4jkNATzbZZJPNQ0C4MyTm7QxEQCIxb2dITERAjC666KKLRED2KwVq/cpEQGApUOtXCkVAyiabbLJJRUA0JObtDIlFQJ4hMW9nyEVACB988MEHRkByHMdxHEdGQNwZEvN2hkZARhdddNHFRkCwFKj1KwVHQBoS83aGREdAhA8++OCDR0DuDIl5O8NHQFgK1PqVAkhAwgcffPBBSEAsBWr9SoFIQJYCtX6lwEhAAAAAAAAASUA=\",\"dtype\":\"float64\",\"shape\":[100]}},\"selected\":{\"id\":\"3450\",\"type\":\"Selection\"},\"selection_policy\":{\"id\":\"3449\",\"type\":\"UnionRenderers\"}},\"id\":\"3406\",\"type\":\"ColumnDataSource\"},{\"attributes\":{\"overlay\":{\"id\":\"3320\",\"type\":\"BoxAnnotation\"}},\"id\":\"3314\",\"type\":\"BoxZoomTool\"},{\"attributes\":{\"fill_alpha\":{\"value\":0.1},\"fill_color\":{\"value\":\"#1f77b4\"},\"line_alpha\":{\"value\":0.1},\"line_color\":{\"value\":\"#1f77b4\"},\"x\":{\"field\":\"x\"},\"y\":{\"field\":\"y\"}},\"id\":\"3389\",\"type\":\"Circle\"},{\"attributes\":{},\"id\":\"3315\",\"type\":\"SaveTool\"},{\"attributes\":{\"data_source\":{\"id\":\"3387\",\"type\":\"ColumnDataSource\"},\"glyph\":{\"id\":\"3388\",\"type\":\"Circle\"},\"hover_glyph\":null,\"muted_glyph\":null,\"nonselection_glyph\":{\"id\":\"3389\",\"type\":\"Circle\"},\"selection_glyph\":null,\"view\":{\"id\":\"3391\",\"type\":\"CDSView\"}},\"id\":\"3390\",\"type\":\"GlyphRenderer\"},{\"attributes\":{},\"id\":\"3316\",\"type\":\"ResetTool\"},{\"attributes\":{},\"id\":\"3317\",\"type\":\"HelpTool\"},{\"attributes\":{\"source\":{\"id\":\"3387\",\"type\":\"ColumnDataSource\"}},\"id\":\"3391\",\"type\":\"CDSView\"},{\"attributes\":{\"active_drag\":\"auto\",\"active_inspect\":\"auto\",\"active_multi\":null,\"active_scroll\":\"auto\",\"active_tap\":\"auto\",\"tools\":[{\"id\":\"3312\",\"type\":\"PanTool\"},{\"id\":\"3313\",\"type\":\"WheelZoomTool\"},{\"id\":\"3314\",\"type\":\"BoxZoomTool\"},{\"id\":\"3315\",\"type\":\"SaveTool\"},{\"id\":\"3316\",\"type\":\"ResetTool\"},{\"id\":\"3317\",\"type\":\"HelpTool\"}]},\"id\":\"3318\",\"type\":\"Toolbar\"},{\"attributes\":{},\"id\":\"3404\",\"type\":\"UnionRenderers\"},{\"attributes\":{\"data_source\":{\"id\":\"3327\",\"type\":\"ColumnDataSource\"},\"glyph\":{\"id\":\"3328\",\"type\":\"Line\"},\"hover_glyph\":null,\"muted_glyph\":null,\"nonselection_glyph\":{\"id\":\"3329\",\"type\":\"Line\"},\"selection_glyph\":null,\"view\":{\"id\":\"3331\",\"type\":\"CDSView\"}},\"id\":\"3330\",\"type\":\"GlyphRenderer\"},{\"attributes\":{},\"id\":\"3425\",\"type\":\"UnionRenderers\"},{\"attributes\":{},\"id\":\"3405\",\"type\":\"Selection\"},{\"attributes\":{\"bottom_units\":\"screen\",\"fill_alpha\":{\"value\":0.5},\"fill_color\":{\"value\":\"lightgrey\"},\"left_units\":\"screen\",\"level\":\"overlay\",\"line_alpha\":{\"value\":1.0},\"line_color\":{\"value\":\"black\"},\"line_dash\":[4,4],\"line_width\":{\"value\":2},\"plot\":null,\"render_mode\":\"css\",\"right_units\":\"screen\",\"top_units\":\"screen\"},\"id\":\"3320\",\"type\":\"BoxAnnotation\"},{\"attributes\":{\"callback\":null,\"data\":{\"x\":{\"__ndarray__\":\"mpmZmZmZuT/OvX+HpiLDP86uMkKAeMk/z5/l/FnOzz9oSMzbGRLTP+jAJbkGPdY/aDl/lvNn2T/qsdhz4JLcP2oqMlHNvd8/ddFFF1104T+1jfKF0wnjP/VJn/RJn+Q/NQZMY8A05j91wvjRNsrnP7Z+pUCtX+k/9jpSryP16j829/4dmorsP3azq4wQIO4/tm9Y+4a17z/8lQK1fqXwPxz0WOw5cPE/PFKvI/U68j9csAVbsAXzP3wOXJJr0PM/nGyyySab9D+8yggB4mX1P9woXzidMPY//Ya1b1j79j8d5QunE8b3Pz1DYt7OkPg/XaG4FYpb+T99/w5NRSb6P51dZYQA8fo/vbu7u7u7+z/dGRLzdob8P/13aCoyUf0/Hda+Ye0b/j89NBWZqOb+P16Sa9Bjsf8/P/jggw8+AEBPJ4wfbaMAQF9WN7vKCAFAb4XiVihuAUB/tI3yhdMBQI/jOI7jOAJAnxLkKUGeAkCvQY/FngMDQL9wOmH8aANAz5/l/FnOA0DfzpCYtzMEQO/9OzQVmQRA/yznz3L+BEAPXJJr0GMFQB+LPQcuyQVAMLrooosuBkBA6ZM+6ZMGQFAYP9pG+QZAYEfqdaReB0BwdpURAsQHQIClQK1fKQhAkNTrSL2OCECgA5fkGvQIQLAyQoB4WQlAwGHtG9a+CUDQkJi3MyQKQOC/Q1ORiQpA8O7u7u7uCkAAHpqKTFQLQBBNRSaquQtAIHzwwQcfDEAwq5tdZYQMQEDaRvnC6QxAUAnylCBPDUBgOJ0wfrQNQHBnSMzbGQ5AgZbzZzl/DkCRxZ4Dl+QOQKH0SZ/0SQ9AsSP1OlKvD0BgKVDrVwoQQOjAJbkGPRBAcFj7hrVvEED479BUZKIQQICHpiIT1RBACB988MEHEUCQtlG+cDoRQBhOJ4wfbRFAoOX8Wc6fEUAofdInfdIRQLAUqPUrBRJAOKx9w9o3EkDAQ1ORiWoSQEjbKF84nRJA0HL+LOfPEkBYCtT6lQITQOChqchENRNAaDl/lvNnE0Dw0FRkopoTQHhoKjJRzRNAAAAAAAAAFEA=\",\"dtype\":\"float64\",\"shape\":[100]},\"y\":{\"__ndarray__\":\"NMTNCyNr6T8r5WwH9hXoP7RYP/sQNec/7fGLawmk5j+I66bM8k7mP5plZ0HHKeY/ledPId4s5j/+6iz3NVPmPyZU30GJmeY/o0ZCk8b95j9GLJjqvX7nP2g2S53sG+g/Fjm4zlvV6D9guc69iqvpP7rA6/Zgn+o/dVAqBCay6z+H2OgcfeXsP+ciCeFjO+4/PeBhhDO27z+AERgEUqzwP84QjqPokvE/dKHT2aCQ8j90UHBed6fzP6YcWm6n2fQ/FsTjr7Ap9j+pH+AAXpr3PyweaEHNLvk/+pyCMnjq+j+SEsiEPtH8Pwl8Kzhx5/4/JM+9ue+YAEBzvAqA8toBQJfOYU69PANAz6IDMaTBBEBKSBU9XW0GQNF/UjwMRAhASARb009KCkDg0WlTUIUMQL9Z7G7Q+g5AUQr/B6DYEECIVDLM6FcSQPkeOO5I/xNAvTijmkHTFUBgc+cJ3tgXQJvq98XEFRpAg5skMEuQHEBLvLiUi08fQJJTTRK/LSFAyC+6nIreIkDJ1XirLr8kQMni07VQ1SZA1fJG80knKUAZynGlPrwrQG+KLoI4nC5AsFU4ViLoMEC+uiTdSrEyQOhlNyxVrzRAv38gmLzoNkD1LHhm0WQ5QBMfvyvVKzxAeoc2EBtHP0BCoGdElmBBQJSK9JL5UkNATmCOGHSBRUDZeyV3pfNHQIQEmDkvskpAVGMxFtjGTUCtxOgTWp5QQNZJoGopkFJAG+KonPm/VEAWQNf+3zVXQFQGCN8J+1lAT6KHmeMZXUA799akIk9gQC2LRvTSSmJA5NAd5qqHZEACUmHPYA5nQI4X6obf6GlAbqmBUnIibUAMaxKf+2NwQC7sWGkMdHJAXFBUI8jJdEDBDGq3uG53QKXoTfPAbXpATm23kE7TfUAlu1vWydaAQEs2K2dkBoNAEtzjZLyBhUCWvZQAbFOIQLwvzF+Uh4tAjjxSWBcsj0B9r5zxbKiRQGyZdE8IBJRAqibV9kuzlkBHy1q+LMKZQNkuIKRgPp1AE+dDIdGboEDa0mpO/9+iQJAvonAXdqVAAAAAAABqqEA=\",\"dtype\":\"float64\",\"shape\":[100]}},\"selected\":{\"id\":\"3476\",\"type\":\"Selection\"},\"selection_policy\":{\"id\":\"3475\",\"type\":\"UnionRenderers\"}},\"id\":\"3428\",\"type\":\"ColumnDataSource\"},{\"attributes\":{\"source\":{\"id\":\"3327\",\"type\":\"ColumnDataSource\"}},\"id\":\"3331\",\"type\":\"CDSView\"},{\"attributes\":{\"axis_label\":\"Domain\",\"formatter\":{\"id\":\"3333\",\"type\":\"BasicTickFormatter\"},\"plot\":{\"id\":\"3292\",\"subtype\":\"Figure\",\"type\":\"Plot\"},\"ticker\":{\"id\":\"3303\",\"type\":\"BasicTicker\"}},\"id\":\"3302\",\"type\":\"LinearAxis\"},{\"attributes\":{\"line_color\":\"gold\",\"line_width\":2,\"x\":{\"field\":\"x\"},\"y\":{\"field\":\"y\"}},\"id\":\"3407\",\"type\":\"Line\"},{\"attributes\":{},\"id\":\"3333\",\"type\":\"BasicTickFormatter\"},{\"attributes\":{\"line_alpha\":0.1,\"line_color\":\"#1f77b4\",\"line_width\":2,\"x\":{\"field\":\"x\"},\"y\":{\"field\":\"y\"}},\"id\":\"3408\",\"type\":\"Line\"},{\"attributes\":{\"ticker\":null},\"id\":\"3335\",\"type\":\"LogTickFormatter\"},{\"attributes\":{\"data_source\":{\"id\":\"3406\",\"type\":\"ColumnDataSource\"},\"glyph\":{\"id\":\"3407\",\"type\":\"Line\"},\"hover_glyph\":null,\"muted_glyph\":null,\"nonselection_glyph\":{\"id\":\"3408\",\"type\":\"Line\"},\"selection_glyph\":null,\"view\":{\"id\":\"3410\",\"type\":\"CDSView\"}},\"id\":\"3409\",\"type\":\"GlyphRenderer\"},{\"attributes\":{\"label\":{\"value\":\"y=sqrt(x)\"},\"renderers\":[{\"id\":\"3330\",\"type\":\"GlyphRenderer\"}]},\"id\":\"3339\",\"type\":\"LegendItem\"},{\"attributes\":{\"source\":{\"id\":\"3406\",\"type\":\"ColumnDataSource\"}},\"id\":\"3410\",\"type\":\"CDSView\"},{\"attributes\":{},\"id\":\"3426\",\"type\":\"Selection\"},{\"attributes\":{},\"id\":\"3632\",\"type\":\"UnionRenderers\"},{\"attributes\":{\"label\":{\"value\":\"y=10*x\"},\"renderers\":[{\"id\":\"3409\",\"type\":\"GlyphRenderer\"}]},\"id\":\"3427\",\"type\":\"LegendItem\"},{\"attributes\":{\"callback\":null,\"data\":{\"x\":{\"__ndarray__\":\"mpmZmZmZuT/OvX+HpiLDP86uMkKAeMk/z5/l/FnOzz9oSMzbGRLTP+jAJbkGPdY/aDl/lvNn2T/qsdhz4JLcP2oqMlHNvd8/ddFFF1104T+1jfKF0wnjP/VJn/RJn+Q/NQZMY8A05j91wvjRNsrnP7Z+pUCtX+k/9jpSryP16j829/4dmorsP3azq4wQIO4/tm9Y+4a17z/8lQK1fqXwPxz0WOw5cPE/PFKvI/U68j9csAVbsAXzP3wOXJJr0PM/nGyyySab9D+8yggB4mX1P9woXzidMPY//Ya1b1j79j8d5QunE8b3Pz1DYt7OkPg/XaG4FYpb+T99/w5NRSb6P51dZYQA8fo/vbu7u7u7+z/dGRLzdob8P/13aCoyUf0/Hda+Ye0b/j89NBWZqOb+P16Sa9Bjsf8/P/jggw8+AEBPJ4wfbaMAQF9WN7vKCAFAb4XiVihuAUB/tI3yhdMBQI/jOI7jOAJAnxLkKUGeAkCvQY/FngMDQL9wOmH8aANAz5/l/FnOA0DfzpCYtzMEQO/9OzQVmQRA/yznz3L+BEAPXJJr0GMFQB+LPQcuyQVAMLrooosuBkBA6ZM+6ZMGQFAYP9pG+QZAYEfqdaReB0BwdpURAsQHQIClQK1fKQhAkNTrSL2OCECgA5fkGvQIQLAyQoB4WQlAwGHtG9a+CUDQkJi3MyQKQOC/Q1ORiQpA8O7u7u7uCkAAHpqKTFQLQBBNRSaquQtAIHzwwQcfDEAwq5tdZYQMQEDaRvnC6QxAUAnylCBPDUBgOJ0wfrQNQHBnSMzbGQ5AgZbzZzl/DkCRxZ4Dl+QOQKH0SZ/0SQ9AsSP1OlKvD0BgKVDrVwoQQOjAJbkGPRBAcFj7hrVvEED479BUZKIQQICHpiIT1RBACB988MEHEUCQtlG+cDoRQBhOJ4wfbRFAoOX8Wc6fEUAofdInfdIRQLAUqPUrBRJAOKx9w9o3EkDAQ1ORiWoSQEjbKF84nRJA0HL+LOfPEkBYCtT6lQITQOChqchENRNAaDl/lvNnE0Dw0FRkopoTQHhoKjJRzRNAAAAAAAAAFEA=\",\"dtype\":\"float64\",\"shape\":[100]},\"y\":{\"__ndarray__\":\"fBSuR+F6hD/GgVSMluKWP1+/YSsORqQ/lwCSAQGdrz9Egl3kEbu2P5hlbkC76L4/JNV9Sr4rxD8uqALxqoPJP+OrxZMjfM8/I3BjGZQK0z+sIgNnXKfWP4ztwbJqlNo/w9Cf/L7R3j8pZk6irK/hPx1wXMWcHuQ/OwZ656+15j+FKKcI5nTpP/rW4yg/XOw/mxEwSLtr7z827EUzrVHxP7KV+0GOAfM/RAU50IDF9D/sOv7dhJ32P6k2S2uaifg/fPgfeMGJ+j9lgHwE+p38P2TOYBBExv4/PnHmzU+BAEBTXmBThqkBQHMunpjF2wJAnuGfnQ0YBEDUd2ViXl4FQBXx7ua3rgZAYU08KxoJCEC3jE0vhW0JQBmvIvP42wpAhbS7dnVUDED8nBi6+tYNQIBoOb2IYw9AhwsPwA99EEBTVGOBX00RQKSOmaKzIhJAe7qxIwz9EkDX16sEadwTQLnmh0XKwBRAIOdF5i+qFUAN2eXmmZgWQH+8Z0cIjBdAd5HLB3uEGED0VxEo8oEZQPYPOahthBpAfrlCiO2LG0CLVC7IcZgcQB7h+2f6qR1AOV+rZ4fAHkDXzjzHGNwfQP0XWENXfiBAUcECUyQRIUBoY56Sc6YhQEL+KgJFPiJA3pGooZjYIkA+HhdxbnUjQGCjdnDGFCRARCHHn6C2JEDrlwj//FolQFYHO47bASZAgm9eTTyrJkBy0HI8H1cnQCQqeFuEBShAmXxuqmu2KEDRx1Up1WkpQMsLLtjAHypAiEj3ti7YKkAIfrHFHpMrQEusXASRUCxAUtP4coUQLUAa84UR/NItQKULBOD0ly5A8hxz3m9fL0CAk2mGthQwQOoUkjX2ejBAtRKz/HbiMEDhjMzbOEsxQG6D3tI7tTFAXfbo4X8gMkCt5esIBY0yQF9R50fL+jJAcjnbntJpM0DmnccNG9ozQLx+rJSkSzRA89uJM2++NECMtV/qejI1QIULLrnHpzVA4d30n1UeNkCdLLSeJJY2QLv3a7U0DzdAOj8c5IWJN0AbA8UqGAU4QF1DZonrgThAAAAAAAAAOUA=\",\"dtype\":\"float64\",\"shape\":[100]}},\"selected\":{\"id\":\"3405\",\"type\":\"Selection\"},\"selection_policy\":{\"id\":\"3404\",\"type\":\"UnionRenderers\"}},\"id\":\"3369\",\"type\":\"ColumnDataSource\"},{\"attributes\":{\"callback\":null,\"data\":{\"x\":{\"__ndarray__\":\"mpmZmZmZuT/OvX+HpiLDP86uMkKAeMk/z5/l/FnOzz9oSMzbGRLTP+jAJbkGPdY/aDl/lvNn2T/qsdhz4JLcP2oqMlHNvd8/ddFFF1104T+1jfKF0wnjP/VJn/RJn+Q/NQZMY8A05j91wvjRNsrnP7Z+pUCtX+k/9jpSryP16j829/4dmorsP3azq4wQIO4/tm9Y+4a17z/8lQK1fqXwPxz0WOw5cPE/PFKvI/U68j9csAVbsAXzP3wOXJJr0PM/nGyyySab9D+8yggB4mX1P9woXzidMPY//Ya1b1j79j8d5QunE8b3Pz1DYt7OkPg/XaG4FYpb+T99/w5NRSb6P51dZYQA8fo/vbu7u7u7+z/dGRLzdob8P/13aCoyUf0/Hda+Ye0b/j89NBWZqOb+P16Sa9Bjsf8/P/jggw8+AEBPJ4wfbaMAQF9WN7vKCAFAb4XiVihuAUB/tI3yhdMBQI/jOI7jOAJAnxLkKUGeAkCvQY/FngMDQL9wOmH8aANAz5/l/FnOA0DfzpCYtzMEQO/9OzQVmQRA/yznz3L+BEAPXJJr0GMFQB+LPQcuyQVAMLrooosuBkBA6ZM+6ZMGQFAYP9pG+QZAYEfqdaReB0BwdpURAsQHQIClQK1fKQhAkNTrSL2OCECgA5fkGvQIQLAyQoB4WQlAwGHtG9a+CUDQkJi3MyQKQOC/Q1ORiQpA8O7u7u7uCkAAHpqKTFQLQBBNRSaquQtAIHzwwQcfDEAwq5tdZYQMQEDaRvnC6QxAUAnylCBPDUBgOJ0wfrQNQHBnSMzbGQ5AgZbzZzl/DkCRxZ4Dl+QOQKH0SZ/0SQ9AsSP1OlKvD0BgKVDrVwoQQOjAJbkGPRBAcFj7hrVvEED479BUZKIQQICHpiIT1RBACB988MEHEUCQtlG+cDoRQBhOJ4wfbRFAoOX8Wc6fEUAofdInfdIRQLAUqPUrBRJAOKx9w9o3EkDAQ1ORiWoSQEjbKF84nRJA0HL+LOfPEkBYCtT6lQITQOChqchENRNAaDl/lvNnE0Dw0FRkopoTQHhoKjJRzRNAAAAAAAAAFEA=\",\"dtype\":\"float64\",\"shape\":[100]},\"y\":{\"__ndarray__\":\"mpmZmZmZuT/OvX+HpiLDP86uMkKAeMk/z5/l/FnOzz9oSMzbGRLTP+jAJbkGPdY/aDl/lvNn2T/qsdhz4JLcP2oqMlHNvd8/ddFFF1104T+1jfKF0wnjP/VJn/RJn+Q/NQZMY8A05j91wvjRNsrnP7Z+pUCtX+k/9jpSryP16j829/4dmorsP3azq4wQIO4/tm9Y+4a17z/8lQK1fqXwPxz0WOw5cPE/PFKvI/U68j9csAVbsAXzP3wOXJJr0PM/nGyyySab9D+8yggB4mX1P9woXzidMPY//Ya1b1j79j8d5QunE8b3Pz1DYt7OkPg/XaG4FYpb+T99/w5NRSb6P51dZYQA8fo/vbu7u7u7+z/dGRLzdob8P/13aCoyUf0/Hda+Ye0b/j89NBWZqOb+P16Sa9Bjsf8/P/jggw8+AEBPJ4wfbaMAQF9WN7vKCAFAb4XiVihuAUB/tI3yhdMBQI/jOI7jOAJAnxLkKUGeAkCvQY/FngMDQL9wOmH8aANAz5/l/FnOA0DfzpCYtzMEQO/9OzQVmQRA/yznz3L+BEAPXJJr0GMFQB+LPQcuyQVAMLrooosuBkBA6ZM+6ZMGQFAYP9pG+QZAYEfqdaReB0BwdpURAsQHQIClQK1fKQhAkNTrSL2OCECgA5fkGvQIQLAyQoB4WQlAwGHtG9a+CUDQkJi3MyQKQOC/Q1ORiQpA8O7u7u7uCkAAHpqKTFQLQBBNRSaquQtAIHzwwQcfDEAwq5tdZYQMQEDaRvnC6QxAUAnylCBPDUBgOJ0wfrQNQHBnSMzbGQ5AgZbzZzl/DkCRxZ4Dl+QOQKH0SZ/0SQ9AsSP1OlKvD0BgKVDrVwoQQOjAJbkGPRBAcFj7hrVvEED479BUZKIQQICHpiIT1RBACB988MEHEUCQtlG+cDoRQBhOJ4wfbRFAoOX8Wc6fEUAofdInfdIRQLAUqPUrBRJAOKx9w9o3EkDAQ1ORiWoSQEjbKF84nRJA0HL+LOfPEkBYCtT6lQITQOChqchENRNAaDl/lvNnE0Dw0FRkopoTQHhoKjJRzRNAAAAAAAAAFEA=\",\"dtype\":\"float64\",\"shape\":[100]}},\"selected\":{\"id\":\"3385\",\"type\":\"Selection\"},\"selection_policy\":{\"id\":\"3384\",\"type\":\"UnionRenderers\"}},\"id\":\"3354\",\"type\":\"ColumnDataSource\"},{\"attributes\":{\"callback\":null,\"data\":{\"x\":{\"__ndarray__\":\"mpmZmZmZuT/OvX+HpiLDP86uMkKAeMk/z5/l/FnOzz9oSMzbGRLTP+jAJbkGPdY/aDl/lvNn2T/qsdhz4JLcP2oqMlHNvd8/ddFFF1104T+1jfKF0wnjP/VJn/RJn+Q/NQZMY8A05j91wvjRNsrnP7Z+pUCtX+k/9jpSryP16j829/4dmorsP3azq4wQIO4/tm9Y+4a17z/8lQK1fqXwPxz0WOw5cPE/PFKvI/U68j9csAVbsAXzP3wOXJJr0PM/nGyyySab9D+8yggB4mX1P9woXzidMPY//Ya1b1j79j8d5QunE8b3Pz1DYt7OkPg/XaG4FYpb+T99/w5NRSb6P51dZYQA8fo/vbu7u7u7+z/dGRLzdob8P/13aCoyUf0/Hda+Ye0b/j89NBWZqOb+P16Sa9Bjsf8/P/jggw8+AEBPJ4wfbaMAQF9WN7vKCAFAb4XiVihuAUB/tI3yhdMBQI/jOI7jOAJAnxLkKUGeAkCvQY/FngMDQL9wOmH8aANAz5/l/FnOA0DfzpCYtzMEQO/9OzQVmQRA/yznz3L+BEAPXJJr0GMFQB+LPQcuyQVAMLrooosuBkBA6ZM+6ZMGQFAYP9pG+QZAYEfqdaReB0BwdpURAsQHQIClQK1fKQhAkNTrSL2OCECgA5fkGvQIQLAyQoB4WQlAwGHtG9a+CUDQkJi3MyQKQOC/Q1ORiQpA8O7u7u7uCkAAHpqKTFQLQBBNRSaquQtAIHzwwQcfDEAwq5tdZYQMQEDaRvnC6QxAUAnylCBPDUBgOJ0wfrQNQHBnSMzbGQ5AgZbzZzl/DkCRxZ4Dl+QOQKH0SZ/0SQ9AsSP1OlKvD0BgKVDrVwoQQOjAJbkGPRBAcFj7hrVvEED479BUZKIQQICHpiIT1RBACB988MEHEUCQtlG+cDoRQBhOJ4wfbRFAoOX8Wc6fEUAofdInfdIRQLAUqPUrBRJAOKx9w9o3EkDAQ1ORiWoSQEjbKF84nRJA0HL+LOfPEkBYCtT6lQITQOChqchENRNAaDl/lvNnE0Dw0FRkopoTQHhoKjJRzRNAAAAAAAAAFEA=\",\"dtype\":\"float64\",\"shape\":[100]},\"y\":{\"__ndarray__\":\"LCYBeWhf8D9YMo0XTNjwP7lwLUUCh/E/NjZCrMRx8j87ZNvsLqHzP+s6F4zFIPU/YAoDerD/9j+XyDq0uVH5P0MCUFynMPw/TRHUKBK+/z+8f05U8xICQA0App3p0ARAcZq3UwA/CECU6ZL4zY8MQIFhtex8AxFAP6btxtB/FEBKjPbKsfoYQGM2kHGfyB5AMZpbeAIvI0AH5FKJSC4oQIYxvnNS0y5AiHHCVfbeM0C9O/c5zOg5QOW5WYFAFUFAJuWASVPIRkBm4ubKcbpOQH4/7XEv9VRADuRKK4PpXEBjRQHMRytkQDSIFrOEdWxANGXnGldOdECK2v+QXk59QI2vcbE4Y4VAeoIUQEqSj0DzJrXrC5GXQMXu6N55yqFABtZBY48qq0BNolG88/m0QIE0fTFxYcBAtutQNLLfyUCPyYwgiarUQF14O/2kseBAHGzPk8BG60AR7qUTUYn2QDQya/DT1AJBEgzOQ/PTD0EtCEvtxTMbQSlVrNU4gydBCZrJvtCNNEHvLeFb5itCQSWl2HpXP1BB9xUmlEJiXUGkaOoFQt9qQUBCEYqY2nhBMtlXhIA/h0FIwsH6IP6VQYUylEGJCqVBAZ+ndvNbtEF9K1xSPezDQeyPmeGLt9NBstmtihK840HfyIy9+PnzQYI/tDJccwRCHtS25m8sFUKfdupPuismQtnPVt13ejdCRZGI5yklSUKTfq80XjxbQqfO8X3A1W1Cfi4jU8eGgEJPL1U5SYSSQnKjp+9o+6RCBDpeyJ0LuEJ6oL8YWd7LQjRq+AFBVeBCKHUzg6Zc80KX55M5gTYHQyX22z1FJRxDefJ5c75BMUPhskwkvGZFQyjaa1mg11pDdqC5HDYGcUMsRNBD9taFQ7zVXEjHVZxDvV7SUPSWskNBaeCWN6vIQ1MK4gW+jeBDUmAb4uJ39kNvBEh2m9cORMzBz6igaCVEHdjoee0OPkSJtWQLN1dVRJ1sFjyEpW5EdLhNtDxBhkRmx7muJFigRHoUFimIR7hEeEGiGvQ80kTHykxO/LXrRAshCGZtSgVFkQIoLCqLIEU=\",\"dtype\":\"float64\",\"shape\":[100]}},\"selected\":{\"id\":\"3633\",\"type\":\"Selection\"},\"selection_policy\":{\"id\":\"3632\",\"type\":\"UnionRenderers\"}},\"id\":\"3452\",\"type\":\"ColumnDataSource\"},{\"attributes\":{\"line_color\":\"#1f77b4\",\"x\":{\"field\":\"x\"},\"y\":{\"field\":\"y\"}},\"id\":\"3341\",\"type\":\"Line\"},{\"attributes\":{\"line_color\":\"indigo\",\"line_dash\":[2,4],\"line_width\":2,\"x\":{\"field\":\"x\"},\"y\":{\"field\":\"y\"}},\"id\":\"3429\",\"type\":\"Line\"},{\"attributes\":{\"line_alpha\":0.1,\"line_color\":\"#1f77b4\",\"x\":{\"field\":\"x\"},\"y\":{\"field\":\"y\"}},\"id\":\"3342\",\"type\":\"Line\"},{\"attributes\":{\"line_alpha\":0.1,\"line_color\":\"#1f77b4\",\"line_dash\":[2,4],\"line_width\":2,\"x\":{\"field\":\"x\"},\"y\":{\"field\":\"y\"}},\"id\":\"3430\",\"type\":\"Line\"},{\"attributes\":{\"data_source\":{\"id\":\"3340\",\"type\":\"ColumnDataSource\"},\"glyph\":{\"id\":\"3341\",\"type\":\"Line\"},\"hover_glyph\":null,\"muted_glyph\":null,\"nonselection_glyph\":{\"id\":\"3342\",\"type\":\"Line\"},\"selection_glyph\":null,\"view\":{\"id\":\"3344\",\"type\":\"CDSView\"}},\"id\":\"3343\",\"type\":\"GlyphRenderer\"},{\"attributes\":{\"data_source\":{\"id\":\"3428\",\"type\":\"ColumnDataSource\"},\"glyph\":{\"id\":\"3429\",\"type\":\"Line\"},\"hover_glyph\":null,\"muted_glyph\":null,\"nonselection_glyph\":{\"id\":\"3430\",\"type\":\"Line\"},\"selection_glyph\":null,\"view\":{\"id\":\"3432\",\"type\":\"CDSView\"}},\"id\":\"3431\",\"type\":\"GlyphRenderer\"},{\"attributes\":{\"source\":{\"id\":\"3340\",\"type\":\"ColumnDataSource\"}},\"id\":\"3344\",\"type\":\"CDSView\"},{\"attributes\":{\"source\":{\"id\":\"3428\",\"type\":\"ColumnDataSource\"}},\"id\":\"3432\",\"type\":\"CDSView\"},{\"attributes\":{},\"id\":\"3351\",\"type\":\"UnionRenderers\"},{\"attributes\":{},\"id\":\"3449\",\"type\":\"UnionRenderers\"},{\"attributes\":{},\"id\":\"3352\",\"type\":\"Selection\"},{\"attributes\":{},\"id\":\"3450\",\"type\":\"Selection\"},{\"attributes\":{},\"id\":\"3300\",\"type\":\"LogScale\"},{\"attributes\":{},\"id\":\"3303\",\"type\":\"BasicTicker\"},{\"attributes\":{},\"id\":\"3298\",\"type\":\"LinearScale\"},{\"attributes\":{\"items\":[{\"id\":\"3339\",\"type\":\"LegendItem\"},{\"id\":\"3353\",\"type\":\"LegendItem\"},{\"id\":\"3386\",\"type\":\"LegendItem\"},{\"id\":\"3427\",\"type\":\"LegendItem\"},{\"id\":\"3451\",\"type\":\"LegendItem\"},{\"id\":\"3477\",\"type\":\"LegendItem\"}],\"location\":\"top_left\",\"plot\":{\"id\":\"3292\",\"subtype\":\"Figure\",\"type\":\"Plot\"}},\"id\":\"3338\",\"type\":\"Legend\"}],\"root_ids\":[\"3292\"]},\"title\":\"Bokeh Application\",\"version\":\"1.0.4\"}};\n",
       "  var render_items = [{\"docid\":\"d8cf07f3-3706-4af4-a8e3-ac3247ae1f25\",\"roots\":{\"3292\":\"89949817-c00a-4214-af4f-8101965f11b9\"}}];\n",
       "  root.Bokeh.embed.embed_items_notebook(docs_json, render_items);\n",
       "\n",
       "  }\n",
       "  if (root.Bokeh !== undefined) {\n",
       "    embed_document(root);\n",
       "  } else {\n",
       "    var attempts = 0;\n",
       "    var timer = setInterval(function(root) {\n",
       "      if (root.Bokeh !== undefined) {\n",
       "        embed_document(root);\n",
       "        clearInterval(timer);\n",
       "      }\n",
       "      attempts++;\n",
       "      if (attempts > 100) {\n",
       "        console.log(\"Bokeh: ERROR: Unable to run BokehJS code because BokehJS library is missing\");\n",
       "        clearInterval(timer);\n",
       "      }\n",
       "    }, 10, root)\n",
       "  }\n",
       "})(window);"
      ],
      "application/vnd.bokehjs_exec.v0+json": ""
     },
     "metadata": {
      "application/vnd.bokehjs_exec.v0+json": {
       "id": "3292"
      }
     },
     "output_type": "display_data"
    }
   ],
   "source": [
    "# 1、折线图 - 多线图\n",
    "# ② 多个line\n",
    "\n",
    "x = np.linspace(0.1,5,100)\n",
    "\n",
    "p = figure(title = 'log axis example',y_axis_type = 'log',y_range=(0.001,10**22))\n",
    "# 这里设置对数坐标轴\n",
    "\n",
    "p.line(x,np.sqrt(x),legend = 'y=sqrt(x)',line_color = 'tomato',line_dash = 'dotdash')\n",
    "# line1\n",
    "\n",
    "p.line(x,x,legend='y=x')\n",
    "p.circle(x,x,legend='y=x')\n",
    "# line2，折线图+散点图\n",
    "\n",
    "p.line(x,x**2,legend='y=x**2')\n",
    "p.circle(x,x**2,legend='y=x**2',fill_color = None,line_color = 'green')\n",
    "# line3\n",
    "\n",
    "p.line(x,10*x,legend='y=10*x',line_color = 'gold',line_width = 2)\n",
    "# line4\n",
    "\n",
    "p.line(x,x**x,legend='y=x**x',line_dash = 'dotted',line_color = 'indigo',line_width=2)\n",
    "# line5\n",
    "\n",
    "p.line(x, 10**(x**2), legend=\"y=10^(x^2)\",line_color=\"coral\", line_dash=\"dashed\", line_width=2)\n",
    "# line6\n",
    "\n",
    "p.legend.location = 'top_left'\n",
    "p.xaxis.axis_label = 'Domain'\n",
    "p.yaxis.axis_label = 'Values(log scale)'\n",
    "# 设置图例及label\n",
    "show(p)"
   ]
  },
  {
   "cell_type": "code",
   "execution_count": 16,
   "metadata": {},
   "outputs": [
    {
     "data": {
      "text/html": [
       "\n",
       "\n",
       "\n",
       "\n",
       "\n",
       "\n",
       "  <div class=\"bk-root\" id=\"6335c475-059f-46a8-98c7-fdb2775b462a\" data-root-id=\"3766\"></div>\n"
      ]
     },
     "metadata": {},
     "output_type": "display_data"
    },
    {
     "data": {
      "application/javascript": [
       "(function(root) {\n",
       "  function embed_document(root) {\n",
       "    \n",
       "  var docs_json = {\"32fc49e1-b0e4-4468-b02c-d28b39bf4cc6\":{\"roots\":{\"references\":[{\"attributes\":{\"below\":[{\"id\":\"3775\",\"type\":\"LinearAxis\"}],\"left\":[{\"id\":\"3780\",\"type\":\"LinearAxis\"}],\"plot_height\":400,\"renderers\":[{\"id\":\"3775\",\"type\":\"LinearAxis\"},{\"id\":\"3779\",\"type\":\"Grid\"},{\"id\":\"3780\",\"type\":\"LinearAxis\"},{\"id\":\"3784\",\"type\":\"Grid\"},{\"id\":\"3793\",\"type\":\"BoxAnnotation\"},{\"id\":\"3803\",\"type\":\"GlyphRenderer\"},{\"id\":\"3808\",\"type\":\"GlyphRenderer\"}],\"title\":{\"id\":\"3967\",\"type\":\"Title\"},\"toolbar\":{\"id\":\"3791\",\"type\":\"Toolbar\"},\"x_range\":{\"id\":\"3767\",\"type\":\"DataRange1d\"},\"x_scale\":{\"id\":\"3771\",\"type\":\"LinearScale\"},\"y_range\":{\"id\":\"3769\",\"type\":\"DataRange1d\"},\"y_scale\":{\"id\":\"3773\",\"type\":\"LinearScale\"}},\"id\":\"3766\",\"subtype\":\"Figure\",\"type\":\"Plot\"},{\"attributes\":{},\"id\":\"3776\",\"type\":\"BasicTicker\"},{\"attributes\":{\"active_drag\":\"auto\",\"active_inspect\":\"auto\",\"active_multi\":null,\"active_scroll\":\"auto\",\"active_tap\":\"auto\",\"tools\":[{\"id\":\"3785\",\"type\":\"PanTool\"},{\"id\":\"3786\",\"type\":\"WheelZoomTool\"},{\"id\":\"3787\",\"type\":\"BoxZoomTool\"},{\"id\":\"3788\",\"type\":\"SaveTool\"},{\"id\":\"3789\",\"type\":\"ResetTool\"},{\"id\":\"3790\",\"type\":\"HelpTool\"}]},\"id\":\"3791\",\"type\":\"Toolbar\"},{\"attributes\":{\"plot\":{\"id\":\"3766\",\"subtype\":\"Figure\",\"type\":\"Plot\"},\"ticker\":{\"id\":\"3776\",\"type\":\"BasicTicker\"}},\"id\":\"3779\",\"type\":\"Grid\"},{\"attributes\":{\"plot\":null,\"text\":\"\"},\"id\":\"3967\",\"type\":\"Title\"},{\"attributes\":{\"bottom_units\":\"screen\",\"fill_alpha\":{\"value\":0.5},\"fill_color\":{\"value\":\"lightgrey\"},\"left_units\":\"screen\",\"level\":\"overlay\",\"line_alpha\":{\"value\":1.0},\"line_color\":{\"value\":\"black\"},\"line_dash\":[4,4],\"line_width\":{\"value\":2},\"plot\":null,\"render_mode\":\"css\",\"right_units\":\"screen\",\"top_units\":\"screen\"},\"id\":\"3793\",\"type\":\"BoxAnnotation\"},{\"attributes\":{},\"id\":\"3781\",\"type\":\"BasicTicker\"},{\"attributes\":{\"source\":{\"id\":\"3800\",\"type\":\"ColumnDataSource\"}},\"id\":\"3804\",\"type\":\"CDSView\"},{\"attributes\":{\"dimension\":1,\"plot\":{\"id\":\"3766\",\"subtype\":\"Figure\",\"type\":\"Plot\"},\"ticker\":{\"id\":\"3781\",\"type\":\"BasicTicker\"}},\"id\":\"3784\",\"type\":\"Grid\"},{\"attributes\":{\"fill_alpha\":{\"value\":0.8},\"fill_color\":{\"value\":\"red\"},\"line_alpha\":{\"value\":0.8},\"line_color\":{\"value\":\"red\"},\"size\":{\"units\":\"screen\",\"value\":5},\"x\":{\"field\":\"x\"},\"y\":{\"field\":\"y\"}},\"id\":\"3806\",\"type\":\"Circle\"},{\"attributes\":{},\"id\":\"3785\",\"type\":\"PanTool\"},{\"attributes\":{\"fill_alpha\":{\"value\":0.1},\"fill_color\":{\"value\":\"#1f77b4\"},\"line_alpha\":{\"value\":0.1},\"line_color\":{\"value\":\"#1f77b4\"},\"size\":{\"units\":\"screen\",\"value\":5},\"x\":{\"field\":\"x\"},\"y\":{\"field\":\"y\"}},\"id\":\"3807\",\"type\":\"Circle\"},{\"attributes\":{\"data_source\":{\"id\":\"3800\",\"type\":\"ColumnDataSource\"},\"glyph\":{\"id\":\"3801\",\"type\":\"Patch\"},\"hover_glyph\":null,\"muted_glyph\":null,\"nonselection_glyph\":{\"id\":\"3802\",\"type\":\"Patch\"},\"selection_glyph\":null,\"view\":{\"id\":\"3804\",\"type\":\"CDSView\"}},\"id\":\"3803\",\"type\":\"GlyphRenderer\"},{\"attributes\":{\"data_source\":{\"id\":\"3805\",\"type\":\"ColumnDataSource\"},\"glyph\":{\"id\":\"3806\",\"type\":\"Circle\"},\"hover_glyph\":null,\"muted_glyph\":null,\"nonselection_glyph\":{\"id\":\"3807\",\"type\":\"Circle\"},\"selection_glyph\":null,\"view\":{\"id\":\"3809\",\"type\":\"CDSView\"}},\"id\":\"3808\",\"type\":\"GlyphRenderer\"},{\"attributes\":{},\"id\":\"3790\",\"type\":\"HelpTool\"},{\"attributes\":{\"source\":{\"id\":\"3805\",\"type\":\"ColumnDataSource\"}},\"id\":\"3809\",\"type\":\"CDSView\"},{\"attributes\":{\"callback\":null,\"data\":{\"x\":[0,1,2,3,4,5,6,7,8,9,10,11,12,13,14,15,16,17,18,19,20,21,22,23,24,25,26,27,28,29,30,31,32,33,34,35,36,37,38,39,40,41,42,43,44,45,46,47,48,49,50,51,52,53,54,55,56,57,58,59,60,61,62,63,64,65,66,67,68,69,70,71,72,73,74,75,76,77,78,79,80,81,82,83,84,85,86,87,88,89,90,91,92,93,94,95,96,97,98,99],\"y\":{\"__ndarray__\":\"AAAAAAAAAAC3TrHQNpT+P/oNAP1GSAlAGv39U2XBD0BNlD5fVsIJQOljNbvnVQtAbmpDwjHQEUBcUaCTiDAQQBnlqJOALQ5A7FZYFeJABkBRhd5EE7EMQPKCOn+IhwxA4/tl+GyoCUCy8iWbjeIFQMFYa+sD8Pc/h+TGRz2GCkDepowByQQQQB64RjtbNBNANzJetX1mE0C6x+sBLZMQQPqEiRFpsQ5AqJbSoMyaBED+o/BzICQBQI9GWyvnrgZAkADjWIjr1T+wOgfWD/fqP9w1+jKz1/o/U9F3UYoBAEDctsjktG0MQHjXYyW8bAVAlhpLhuVlEUByjX/0FQ4IQDUHHMbH3Q5A1nDIoe2NFEBY31F/vZwQQGdhNLq07Q9A3OR6kJn+EUBGEWBGZkwPQAa/jvRPfxJAr2F/zCsRE0CDwCGoA+cSQGf9uyd6NhdA+iDj+Nq+D0D/fvx9wQEXQEgzMNf4RxRAJAh/+c4VE0DNC84JA9ocQOyFlx6ZahdA2XOUlVU0GkCrLPNS+CEcQG5LpudKTRlAzSMG9fTCGEC6EFkB+NkUQKFdMtGaRRlAAH9BJmWSGEAPo4M4EzwYQEkeS4hJcBxAUA87+7rEEUCCc9sN4A8TQMuGNy24Qg9ACXhCsxj+E0Cm8ZhMIfwbQGRGnzfc1B1AP2ObySR0IEBXWnYxvtEgQLkaU6qpUSBA9OWj3kz8GUB7ZlXr4QgVQDSNgas0fBNAjGCPN5+PG0AZJKmrEAgfQJ2ZNuYyehlAftSIrxY6HUD2enz0cdMZQIj+3glayRZAdpA9xRI8GUBeOif3PcIWQFfh1xDc8RRAZJjsg8BnEkDL8DUwZgsVQBWKhpl6KhdAyzb8f7H7GkBlBf2V9hobQOJ5/f95qhVAMwBcxKxkGUAh1q7QBogbQO2N4yUzmSBAFMbxhaR3IkBbqrD6vTQiQFL8NqVXBh9AuFUIzOZDGUC+InUkTKIXQD0F7fnQ1BdA3C/GiYeSEEDgxp9FFbsLQCLs17C6VAdAiHKB3WtcBkBMH1Os+S3jP7EHwhxL3vE/AAAAAAAAAAA=\",\"dtype\":\"float64\",\"shape\":[100]}},\"selected\":{\"id\":\"3974\",\"type\":\"Selection\"},\"selection_policy\":{\"id\":\"3973\",\"type\":\"UnionRenderers\"}},\"id\":\"3800\",\"type\":\"ColumnDataSource\"},{\"attributes\":{},\"id\":\"3976\",\"type\":\"Selection\"},{\"attributes\":{\"callback\":null,\"data\":{\"x\":[0,1,2,3,4,5,6,7,8,9,10,11,12,13,14,15,16,17,18,19,20,21,22,23,24,25,26,27,28,29,30,31,32,33,34,35,36,37,38,39,40,41,42,43,44,45,46,47,48,49,50,51,52,53,54,55,56,57,58,59,60,61,62,63,64,65,66,67,68,69,70,71,72,73,74,75,76,77,78,79,80,81,82,83,84,85,86,87,88,89,90,91,92,93,94,95,96,97,98,99],\"y\":{\"__ndarray__\":\"AAAAAAAAAAC3TrHQNpT+P/oNAP1GSAlAGv39U2XBD0BNlD5fVsIJQOljNbvnVQtAbmpDwjHQEUBcUaCTiDAQQBnlqJOALQ5A7FZYFeJABkBRhd5EE7EMQPKCOn+IhwxA4/tl+GyoCUCy8iWbjeIFQMFYa+sD8Pc/h+TGRz2GCkDepowByQQQQB64RjtbNBNANzJetX1mE0C6x+sBLZMQQPqEiRFpsQ5AqJbSoMyaBED+o/BzICQBQI9GWyvnrgZAkADjWIjr1T+wOgfWD/fqP9w1+jKz1/o/U9F3UYoBAEDctsjktG0MQHjXYyW8bAVAlhpLhuVlEUByjX/0FQ4IQDUHHMbH3Q5A1nDIoe2NFEBY31F/vZwQQGdhNLq07Q9A3OR6kJn+EUBGEWBGZkwPQAa/jvRPfxJAr2F/zCsRE0CDwCGoA+cSQGf9uyd6NhdA+iDj+Nq+D0D/fvx9wQEXQEgzMNf4RxRAJAh/+c4VE0DNC84JA9ocQOyFlx6ZahdA2XOUlVU0GkCrLPNS+CEcQG5LpudKTRlAzSMG9fTCGEC6EFkB+NkUQKFdMtGaRRlAAH9BJmWSGEAPo4M4EzwYQEkeS4hJcBxAUA87+7rEEUCCc9sN4A8TQMuGNy24Qg9ACXhCsxj+E0Cm8ZhMIfwbQGRGnzfc1B1AP2ObySR0IEBXWnYxvtEgQLkaU6qpUSBA9OWj3kz8GUB7ZlXr4QgVQDSNgas0fBNAjGCPN5+PG0AZJKmrEAgfQJ2ZNuYyehlAftSIrxY6HUD2enz0cdMZQIj+3glayRZAdpA9xRI8GUBeOif3PcIWQFfh1xDc8RRAZJjsg8BnEkDL8DUwZgsVQBWKhpl6KhdAyzb8f7H7GkBlBf2V9hobQOJ5/f95qhVAMwBcxKxkGUAh1q7QBogbQO2N4yUzmSBAFMbxhaR3IkBbqrD6vTQiQFL8NqVXBh9AuFUIzOZDGUC+InUkTKIXQD0F7fnQ1BdA3C/GiYeSEEDgxp9FFbsLQCLs17C6VAdAiHKB3WtcBkBMH1Os+S3jP7EHwhxL3vE/AAAAAAAAAAA=\",\"dtype\":\"float64\",\"shape\":[100]}},\"selected\":{\"id\":\"3976\",\"type\":\"Selection\"},\"selection_policy\":{\"id\":\"3975\",\"type\":\"UnionRenderers\"}},\"id\":\"3805\",\"type\":\"ColumnDataSource\"},{\"attributes\":{\"callback\":null},\"id\":\"3767\",\"type\":\"DataRange1d\"},{\"attributes\":{\"callback\":null},\"id\":\"3769\",\"type\":\"DataRange1d\"},{\"attributes\":{\"formatter\":{\"id\":\"3970\",\"type\":\"BasicTickFormatter\"},\"plot\":{\"id\":\"3766\",\"subtype\":\"Figure\",\"type\":\"Plot\"},\"ticker\":{\"id\":\"3781\",\"type\":\"BasicTicker\"}},\"id\":\"3780\",\"type\":\"LinearAxis\"},{\"attributes\":{},\"id\":\"3968\",\"type\":\"BasicTickFormatter\"},{\"attributes\":{},\"id\":\"3975\",\"type\":\"UnionRenderers\"},{\"attributes\":{},\"id\":\"3970\",\"type\":\"BasicTickFormatter\"},{\"attributes\":{\"formatter\":{\"id\":\"3968\",\"type\":\"BasicTickFormatter\"},\"plot\":{\"id\":\"3766\",\"subtype\":\"Figure\",\"type\":\"Plot\"},\"ticker\":{\"id\":\"3776\",\"type\":\"BasicTicker\"}},\"id\":\"3775\",\"type\":\"LinearAxis\"},{\"attributes\":{\"fill_alpha\":0.2,\"fill_color\":\"black\",\"line_alpha\":0.8,\"line_dash\":[10,4],\"x\":{\"field\":\"x\"},\"y\":{\"field\":\"y\"}},\"id\":\"3801\",\"type\":\"Patch\"},{\"attributes\":{},\"id\":\"3973\",\"type\":\"UnionRenderers\"},{\"attributes\":{},\"id\":\"3773\",\"type\":\"LinearScale\"},{\"attributes\":{},\"id\":\"3974\",\"type\":\"Selection\"},{\"attributes\":{},\"id\":\"3786\",\"type\":\"WheelZoomTool\"},{\"attributes\":{\"overlay\":{\"id\":\"3793\",\"type\":\"BoxAnnotation\"}},\"id\":\"3787\",\"type\":\"BoxZoomTool\"},{\"attributes\":{},\"id\":\"3789\",\"type\":\"ResetTool\"},{\"attributes\":{},\"id\":\"3788\",\"type\":\"SaveTool\"},{\"attributes\":{},\"id\":\"3771\",\"type\":\"LinearScale\"},{\"attributes\":{\"fill_alpha\":0.1,\"fill_color\":\"#1f77b4\",\"line_alpha\":0.1,\"line_color\":\"#1f77b4\",\"line_dash\":[10,4],\"x\":{\"field\":\"x\"},\"y\":{\"field\":\"y\"}},\"id\":\"3802\",\"type\":\"Patch\"}],\"root_ids\":[\"3766\"]},\"title\":\"Bokeh Application\",\"version\":\"1.0.4\"}};\n",
       "  var render_items = [{\"docid\":\"32fc49e1-b0e4-4468-b02c-d28b39bf4cc6\",\"roots\":{\"3766\":\"6335c475-059f-46a8-98c7-fdb2775b462a\"}}];\n",
       "  root.Bokeh.embed.embed_items_notebook(docs_json, render_items);\n",
       "\n",
       "  }\n",
       "  if (root.Bokeh !== undefined) {\n",
       "    embed_document(root);\n",
       "  } else {\n",
       "    var attempts = 0;\n",
       "    var timer = setInterval(function(root) {\n",
       "      if (root.Bokeh !== undefined) {\n",
       "        embed_document(root);\n",
       "        clearInterval(timer);\n",
       "      }\n",
       "      attempts++;\n",
       "      if (attempts > 100) {\n",
       "        console.log(\"Bokeh: ERROR: Unable to run BokehJS code because BokehJS library is missing\");\n",
       "        clearInterval(timer);\n",
       "      }\n",
       "    }, 10, root)\n",
       "  }\n",
       "})(window);"
      ],
      "application/vnd.bokehjs_exec.v0+json": ""
     },
     "metadata": {
      "application/vnd.bokehjs_exec.v0+json": {
       "id": "3766"
      }
     },
     "output_type": "display_data"
    }
   ],
   "source": [
    "# 2、面积图 - 单维度面积图\n",
    "\n",
    "s = pd.Series(np.random.randn(100).cumsum())\n",
    "s.iloc[0] = 0\n",
    "s.iloc[-1] = 0\n",
    "# 创建数据\n",
    "# 注意设定起始值和终点值为最低点\n",
    "\n",
    "p = figure(plot_width=600,plot_height=400)\n",
    "p.patch(s.index,s.values,\n",
    "       line_width=1, line_alpha = 0.8, line_color = 'black',line_dash = [10,4],   # 线型基本设置\n",
    "        fill_color = 'black',fill_alpha = 0.2\n",
    "       )\n",
    "# 绘制面积图\n",
    "# .patch将会把所有点连接成一个闭合面\n",
    "\n",
    "p.circle(s.index,s.values,color = 'red',size = 5,alpha = 0.8)\n",
    "# 绘制折点\n",
    "\n",
    "show(p)"
   ]
  },
  {
   "cell_type": "code",
   "execution_count": 17,
   "metadata": {},
   "outputs": [
    {
     "data": {
      "text/html": [
       "\n",
       "\n",
       "\n",
       "\n",
       "\n",
       "\n",
       "  <div class=\"bk-root\" id=\"74d83b1f-ab7c-4b1c-86da-95efdb23fb7a\" data-root-id=\"4043\"></div>\n"
      ]
     },
     "metadata": {},
     "output_type": "display_data"
    },
    {
     "data": {
      "application/javascript": [
       "(function(root) {\n",
       "  function embed_document(root) {\n",
       "    \n",
       "  var docs_json = {\"118ac49b-ddc0-4af4-aae5-d46f60e32e33\":{\"roots\":{\"references\":[{\"attributes\":{\"below\":[{\"id\":\"4052\",\"type\":\"LinearAxis\"}],\"left\":[{\"id\":\"4057\",\"type\":\"LinearAxis\"}],\"renderers\":[{\"id\":\"4052\",\"type\":\"LinearAxis\"},{\"id\":\"4056\",\"type\":\"Grid\"},{\"id\":\"4057\",\"type\":\"LinearAxis\"},{\"id\":\"4061\",\"type\":\"Grid\"},{\"id\":\"4070\",\"type\":\"BoxAnnotation\"},{\"id\":\"4080\",\"type\":\"GlyphRenderer\"}],\"title\":{\"id\":\"4250\",\"type\":\"Title\"},\"toolbar\":{\"id\":\"4068\",\"type\":\"Toolbar\"},\"x_range\":{\"id\":\"4044\",\"type\":\"Range1d\"},\"x_scale\":{\"id\":\"4048\",\"type\":\"LinearScale\"},\"y_range\":{\"id\":\"4046\",\"type\":\"Range1d\"},\"y_scale\":{\"id\":\"4050\",\"type\":\"LinearScale\"}},\"id\":\"4043\",\"subtype\":\"Figure\",\"type\":\"Plot\"},{\"attributes\":{\"active_drag\":\"auto\",\"active_inspect\":\"auto\",\"active_multi\":null,\"active_scroll\":\"auto\",\"active_tap\":\"auto\",\"tools\":[{\"id\":\"4062\",\"type\":\"PanTool\"},{\"id\":\"4063\",\"type\":\"WheelZoomTool\"},{\"id\":\"4064\",\"type\":\"BoxZoomTool\"},{\"id\":\"4065\",\"type\":\"SaveTool\"},{\"id\":\"4066\",\"type\":\"ResetTool\"},{\"id\":\"4067\",\"type\":\"HelpTool\"}]},\"id\":\"4068\",\"type\":\"Toolbar\"},{\"attributes\":{},\"id\":\"4067\",\"type\":\"HelpTool\"},{\"attributes\":{\"bottom_units\":\"screen\",\"fill_alpha\":{\"value\":0.5},\"fill_color\":{\"value\":\"lightgrey\"},\"left_units\":\"screen\",\"level\":\"overlay\",\"line_alpha\":{\"value\":1.0},\"line_color\":{\"value\":\"black\"},\"line_dash\":[4,4],\"line_width\":{\"value\":2},\"plot\":null,\"render_mode\":\"css\",\"right_units\":\"screen\",\"top_units\":\"screen\"},\"id\":\"4070\",\"type\":\"BoxAnnotation\"},{\"attributes\":{},\"id\":\"4251\",\"type\":\"BasicTickFormatter\"},{\"attributes\":{\"plot\":null,\"text\":\"\"},\"id\":\"4250\",\"type\":\"Title\"},{\"attributes\":{\"fill_alpha\":{\"value\":0.8},\"fill_color\":{\"field\":\"fill_color\"},\"line_alpha\":{\"value\":0.8},\"line_color\":{\"value\":null},\"xs\":{\"field\":\"xs\"},\"ys\":{\"field\":\"ys\"}},\"id\":\"4078\",\"type\":\"Patches\"},{\"attributes\":{\"formatter\":{\"id\":\"4253\",\"type\":\"BasicTickFormatter\"},\"plot\":{\"id\":\"4043\",\"subtype\":\"Figure\",\"type\":\"Plot\"},\"ticker\":{\"id\":\"4058\",\"type\":\"BasicTicker\"}},\"id\":\"4057\",\"type\":\"LinearAxis\"},{\"attributes\":{\"fill_alpha\":{\"value\":0.1},\"fill_color\":{\"value\":\"#1f77b4\"},\"line_alpha\":{\"value\":0.1},\"line_color\":{\"value\":\"#1f77b4\"},\"xs\":{\"field\":\"xs\"},\"ys\":{\"field\":\"ys\"}},\"id\":\"4079\",\"type\":\"Patches\"},{\"attributes\":{},\"id\":\"4058\",\"type\":\"BasicTicker\"},{\"attributes\":{\"data_source\":{\"id\":\"4077\",\"type\":\"ColumnDataSource\"},\"glyph\":{\"id\":\"4078\",\"type\":\"Patches\"},\"hover_glyph\":null,\"muted_glyph\":null,\"nonselection_glyph\":{\"id\":\"4079\",\"type\":\"Patches\"},\"selection_glyph\":null,\"view\":{\"id\":\"4081\",\"type\":\"CDSView\"}},\"id\":\"4080\",\"type\":\"GlyphRenderer\"},{\"attributes\":{\"callback\":null,\"data\":{\"fill_color\":[\"#5e4fa2\",\"#3288bd\",\"#66c2a5\",\"#abdda4\",\"#e6f598\",\"#fee08b\",\"#fdae61\",\"#f46d43\",\"#d53e4f\",\"#9e0142\"],\"xs\":[[19,18,17,16,15,14,13,12,11,10,9,8,7,6,5,4,3,2,1,0,0,1,2,3,4,5,6,7,8,9,10,11,12,13,14,15,16,17,18,19],[19,18,17,16,15,14,13,12,11,10,9,8,7,6,5,4,3,2,1,0,0,1,2,3,4,5,6,7,8,9,10,11,12,13,14,15,16,17,18,19],[19,18,17,16,15,14,13,12,11,10,9,8,7,6,5,4,3,2,1,0,0,1,2,3,4,5,6,7,8,9,10,11,12,13,14,15,16,17,18,19],[19,18,17,16,15,14,13,12,11,10,9,8,7,6,5,4,3,2,1,0,0,1,2,3,4,5,6,7,8,9,10,11,12,13,14,15,16,17,18,19],[19,18,17,16,15,14,13,12,11,10,9,8,7,6,5,4,3,2,1,0,0,1,2,3,4,5,6,7,8,9,10,11,12,13,14,15,16,17,18,19],[19,18,17,16,15,14,13,12,11,10,9,8,7,6,5,4,3,2,1,0,0,1,2,3,4,5,6,7,8,9,10,11,12,13,14,15,16,17,18,19],[19,18,17,16,15,14,13,12,11,10,9,8,7,6,5,4,3,2,1,0,0,1,2,3,4,5,6,7,8,9,10,11,12,13,14,15,16,17,18,19],[19,18,17,16,15,14,13,12,11,10,9,8,7,6,5,4,3,2,1,0,0,1,2,3,4,5,6,7,8,9,10,11,12,13,14,15,16,17,18,19],[19,18,17,16,15,14,13,12,11,10,9,8,7,6,5,4,3,2,1,0,0,1,2,3,4,5,6,7,8,9,10,11,12,13,14,15,16,17,18,19],[19,18,17,16,15,14,13,12,11,10,9,8,7,6,5,4,3,2,1,0,0,1,2,3,4,5,6,7,8,9,10,11,12,13,14,15,16,17,18,19]],\"ys\":[{\"__ndarray__\":\"AAAAAAAAAAAAAAAAAAAAAAAAAAAAAAAAAAAAAAAAAAAAAAAAAAAAAAAAAAAAAAAAAAAAAAAAAAAAAAAAAAAAAAAAAAAAAAAAAAAAAAAAAAAAAAAAAAAAAAAAAAAAAAAAAAAAAAAAAAAAAAAAAAAAAAAAAAAAAAAAAAAAAAAAAAAAAAAAAAAAAAAAAAAAAAAAAAAAAAAAAAAAAAAAAAAAAAAAAAAAgEdAAAAAAACAVUAAAAAAAIBDQAAAAAAAQFJAAAAAAAAAN0AAAAAAAAAqQAAAAAAAADlAAAAAAABAU0AAAAAAAAA0QAAAAAAAgFhAAAAAAADAV0AAAAAAAIBVQAAAAAAAADdAAAAAAADAUkAAAAAAAABTQAAAAAAAAEBAAAAAAABAV0AAAAAAAAA5QAAAAAAAwFVAAAAAAACAS0A=\",\"dtype\":\"float64\",\"shape\":[40]},{\"__ndarray__\":\"AAAAAACAS0AAAAAAAMBVQAAAAAAAADlAAAAAAABAV0AAAAAAAABAQAAAAAAAAFNAAAAAAADAUkAAAAAAAAA3QAAAAAAAgFVAAAAAAADAV0AAAAAAAIBYQAAAAAAAADRAAAAAAABAU0AAAAAAAAA5QAAAAAAAACpAAAAAAAAAN0AAAAAAAEBSQAAAAAAAgENAAAAAAACAVUAAAAAAAIBHQAAAAAAAQFFAAAAAAADgZEAAAAAAAIBPQAAAAAAAAGJAAAAAAAAAVEAAAAAAAMBWQAAAAAAAwFhAAAAAAACAW0AAAAAAAIBKQAAAAAAAYGBAAAAAAADgZUAAAAAAAGBhQAAAAAAAgEVAAAAAAAAgYkAAAAAAAKBjQAAAAAAAgEtAAAAAAAAAYEAAAAAAAIBNQAAAAAAAQGJAAAAAAACAYEA=\",\"dtype\":\"float64\",\"shape\":[40]},{\"__ndarray__\":\"AAAAAACAYEAAAAAAAEBiQAAAAAAAgE1AAAAAAAAAYEAAAAAAAIBLQAAAAAAAoGNAAAAAAAAgYkAAAAAAAIBFQAAAAAAAYGFAAAAAAADgZUAAAAAAAGBgQAAAAAAAgEpAAAAAAACAW0AAAAAAAMBYQAAAAAAAwFZAAAAAAAAAVEAAAAAAAABiQAAAAAAAgE9AAAAAAADgZEAAAAAAAEBRQAAAAAAA4GJAAAAAAADgZkAAAAAAAMBeQAAAAAAAAGZAAAAAAABAZEAAAAAAAEBfQAAAAAAAIGZAAAAAAABgYkAAAAAAAIBTQAAAAAAAgGhAAAAAAABgZ0AAAAAAACBlQAAAAAAAAFNAAAAAAABgZkAAAAAAAOBqQAAAAAAAgF1AAAAAAAAAY0AAAAAAAIBTQAAAAAAAYGlAAAAAAAAAakA=\",\"dtype\":\"float64\",\"shape\":[40]},{\"__ndarray__\":\"AAAAAAAAakAAAAAAAGBpQAAAAAAAgFNAAAAAAAAAY0AAAAAAAIBdQAAAAAAA4GpAAAAAAABgZkAAAAAAAABTQAAAAAAAIGVAAAAAAABgZ0AAAAAAAIBoQAAAAAAAgFNAAAAAAABgYkAAAAAAACBmQAAAAAAAQF9AAAAAAABAZEAAAAAAAABmQAAAAAAAwF5AAAAAAADgZkAAAAAAAOBiQAAAAAAAQGVAAAAAAABAa0AAAAAAACBpQAAAAAAAYG5AAAAAAABAaUAAAAAAAEBmQAAAAAAAgGpAAAAAAABAaEAAAAAAAOBlQAAAAAAA8HBAAAAAAAAQcUAAAAAAACBqQAAAAAAA4GRAAAAAAADwcEAAAAAAAHBxQAAAAAAAgGpAAAAAAADgZUAAAAAAAEBjQAAAAAAAIHJAAAAAAACAckA=\",\"dtype\":\"float64\",\"shape\":[40]},{\"__ndarray__\":\"AAAAAACAckAAAAAAACByQAAAAAAAQGNAAAAAAADgZUAAAAAAAIBqQAAAAAAAcHFAAAAAAADwcEAAAAAAAOBkQAAAAAAAIGpAAAAAAAAQcUAAAAAAAPBwQAAAAAAA4GVAAAAAAABAaEAAAAAAAIBqQAAAAAAAQGZAAAAAAABAaUAAAAAAAGBuQAAAAAAAIGlAAAAAAABAa0AAAAAAAEBlQAAAAAAA4G9AAAAAAABgcUAAAAAAAKByQAAAAAAAwG9AAAAAAACwcUAAAAAAAIBwQAAAAAAAUHNAAAAAAABQcEAAAAAAAEBqQAAAAAAAYHZAAAAAAAAAc0AAAAAAAOBvQAAAAAAAAGdAAAAAAACwcUAAAAAAAABzQAAAAAAAAG1AAAAAAADQcEAAAAAAAGBtQAAAAAAAQHVAAAAAAAAAdkA=\",\"dtype\":\"float64\",\"shape\":[40]},{\"__ndarray__\":\"AAAAAAAAdkAAAAAAAEB1QAAAAAAAYG1AAAAAAADQcEAAAAAAAABtQAAAAAAAAHNAAAAAAACwcUAAAAAAAABnQAAAAAAA4G9AAAAAAAAAc0AAAAAAAGB2QAAAAAAAQGpAAAAAAABQcEAAAAAAAFBzQAAAAAAAgHBAAAAAAACwcUAAAAAAAMBvQAAAAAAAoHJAAAAAAABgcUAAAAAAAOBvQAAAAAAA4HBAAAAAAABAc0AAAAAAALB4QAAAAAAAgHBAAAAAAACAckAAAAAAAMByQAAAAAAAYHRAAAAAAAAgdkAAAAAAADByQAAAAAAAMHdAAAAAAABQeEAAAAAAAABxQAAAAAAAQGtAAAAAAADwckAAAAAAAPBzQAAAAAAAkHJAAAAAAAAgdEAAAAAAAKByQAAAAAAAwHpAAAAAAACgdkA=\",\"dtype\":\"float64\",\"shape\":[40]},{\"__ndarray__\":\"AAAAAACgdkAAAAAAAMB6QAAAAAAAoHJAAAAAAAAgdEAAAAAAAJByQAAAAAAA8HNAAAAAAADwckAAAAAAAEBrQAAAAAAAAHFAAAAAAABQeEAAAAAAADB3QAAAAAAAMHJAAAAAAAAgdkAAAAAAAGB0QAAAAAAAwHJAAAAAAACAckAAAAAAAIBwQAAAAAAAsHhAAAAAAABAc0AAAAAAAOBwQAAAAAAAcHZAAAAAAAAAdUAAAAAAALB+QAAAAAAA4HRAAAAAAACAd0AAAAAAAKB2QAAAAAAAoHZAAAAAAAAgeUAAAAAAAHB3QAAAAAAA0HdAAAAAAABgeUAAAAAAAHB0QAAAAAAA4HJAAAAAAADwdkAAAAAAAKB1QAAAAAAAAHdAAAAAAAAgdUAAAAAAAJB3QAAAAAAAMH5AAAAAAAAQeUA=\",\"dtype\":\"float64\",\"shape\":[40]},{\"__ndarray__\":\"AAAAAAAQeUAAAAAAADB+QAAAAAAAkHdAAAAAAAAgdUAAAAAAAAB3QAAAAAAAoHVAAAAAAADwdkAAAAAAAOByQAAAAAAAcHRAAAAAAABgeUAAAAAAANB3QAAAAAAAcHdAAAAAAAAgeUAAAAAAAKB2QAAAAAAAoHZAAAAAAACAd0AAAAAAAOB0QAAAAAAAsH5AAAAAAAAAdUAAAAAAAHB2QAAAAAAAEHtAAAAAAADgekAAAAAAABCAQAAAAAAAkHpAAAAAAABweUAAAAAAAEB8QAAAAAAA0HhAAAAAAABAekAAAAAAAPB7QAAAAAAAQH1AAAAAAADQfkAAAAAAAFB5QAAAAAAAwHRAAAAAAACwfEAAAAAAAOB4QAAAAAAAIHtAAAAAAACQekAAAAAAAHB6QAAAAAAAIIJAAAAAAACgfUA=\",\"dtype\":\"float64\",\"shape\":[40]},{\"__ndarray__\":\"AAAAAACgfUAAAAAAACCCQAAAAAAAcHpAAAAAAACQekAAAAAAACB7QAAAAAAA4HhAAAAAAACwfEAAAAAAAMB0QAAAAAAAUHlAAAAAAADQfkAAAAAAAEB9QAAAAAAA8HtAAAAAAABAekAAAAAAANB4QAAAAAAAQHxAAAAAAABweUAAAAAAAJB6QAAAAAAAEIBAAAAAAADgekAAAAAAABB7QAAAAAAAsHxAAAAAAAAwfEAAAAAAAKiAQAAAAAAAsHtAAAAAAAAgfUAAAAAAAHB/QAAAAAAA0HpAAAAAAADgfEAAAAAAAHB/QAAAAAAAQH5AAAAAAAD4gUAAAAAAAIB9QAAAAAAAYHdAAAAAAABYgUAAAAAAAMB6QAAAAAAAqIBAAAAAAACwfkAAAAAAAGB8QAAAAAAA8IJAAAAAAAB4gUA=\",\"dtype\":\"float64\",\"shape\":[40]},{\"__ndarray__\":\"AAAAAAB4gUAAAAAAAPCCQAAAAAAAYHxAAAAAAACwfkAAAAAAAKiAQAAAAAAAwHpAAAAAAABYgUAAAAAAAGB3QAAAAAAAgH1AAAAAAAD4gUAAAAAAAEB+QAAAAAAAcH9AAAAAAADgfEAAAAAAANB6QAAAAAAAcH9AAAAAAAAgfUAAAAAAALB7QAAAAAAAqIBAAAAAAAAwfEAAAAAAALB8QAAAAAAAYH1AAAAAAACQfkAAAAAAADCBQAAAAAAA6IBAAAAAAACogEAAAAAAAJiCQAAAAAAAAHxAAAAAAACgf0AAAAAAAAiBQAAAAAAAEIFAAAAAAACghEAAAAAAAKCBQAAAAAAAwHhAAAAAAADYg0AAAAAAAGB+QAAAAAAAoIFAAAAAAACAgUAAAAAAAIB/QAAAAAAAIIRAAAAAAADggkA=\",\"dtype\":\"float64\",\"shape\":[40]}]},\"selected\":{\"id\":\"4257\",\"type\":\"Selection\"},\"selection_policy\":{\"id\":\"4256\",\"type\":\"UnionRenderers\"}},\"id\":\"4077\",\"type\":\"ColumnDataSource\"},{\"attributes\":{\"dimension\":1,\"plot\":{\"id\":\"4043\",\"subtype\":\"Figure\",\"type\":\"Plot\"},\"ticker\":{\"id\":\"4058\",\"type\":\"BasicTicker\"}},\"id\":\"4061\",\"type\":\"Grid\"},{\"attributes\":{\"source\":{\"id\":\"4077\",\"type\":\"ColumnDataSource\"}},\"id\":\"4081\",\"type\":\"CDSView\"},{\"attributes\":{\"plot\":{\"id\":\"4043\",\"subtype\":\"Figure\",\"type\":\"Plot\"},\"ticker\":{\"id\":\"4053\",\"type\":\"BasicTicker\"}},\"id\":\"4056\",\"type\":\"Grid\"},{\"attributes\":{\"callback\":null,\"end\":700},\"id\":\"4046\",\"type\":\"Range1d\"},{\"attributes\":{},\"id\":\"4253\",\"type\":\"BasicTickFormatter\"},{\"attributes\":{},\"id\":\"4256\",\"type\":\"UnionRenderers\"},{\"attributes\":{},\"id\":\"4062\",\"type\":\"PanTool\"},{\"attributes\":{\"callback\":null,\"end\":19},\"id\":\"4044\",\"type\":\"Range1d\"},{\"attributes\":{},\"id\":\"4257\",\"type\":\"Selection\"},{\"attributes\":{},\"id\":\"4063\",\"type\":\"WheelZoomTool\"},{\"attributes\":{\"formatter\":{\"id\":\"4251\",\"type\":\"BasicTickFormatter\"},\"plot\":{\"id\":\"4043\",\"subtype\":\"Figure\",\"type\":\"Plot\"},\"ticker\":{\"id\":\"4053\",\"type\":\"BasicTicker\"}},\"id\":\"4052\",\"type\":\"LinearAxis\"},{\"attributes\":{},\"id\":\"4053\",\"type\":\"BasicTicker\"},{\"attributes\":{\"overlay\":{\"id\":\"4070\",\"type\":\"BoxAnnotation\"}},\"id\":\"4064\",\"type\":\"BoxZoomTool\"},{\"attributes\":{},\"id\":\"4050\",\"type\":\"LinearScale\"},{\"attributes\":{},\"id\":\"4065\",\"type\":\"SaveTool\"},{\"attributes\":{},\"id\":\"4048\",\"type\":\"LinearScale\"},{\"attributes\":{},\"id\":\"4066\",\"type\":\"ResetTool\"}],\"root_ids\":[\"4043\"]},\"title\":\"Bokeh Application\",\"version\":\"1.0.4\"}};\n",
       "  var render_items = [{\"docid\":\"118ac49b-ddc0-4af4-aae5-d46f60e32e33\",\"roots\":{\"4043\":\"74d83b1f-ab7c-4b1c-86da-95efdb23fb7a\"}}];\n",
       "  root.Bokeh.embed.embed_items_notebook(docs_json, render_items);\n",
       "\n",
       "  }\n",
       "  if (root.Bokeh !== undefined) {\n",
       "    embed_document(root);\n",
       "  } else {\n",
       "    var attempts = 0;\n",
       "    var timer = setInterval(function(root) {\n",
       "      if (root.Bokeh !== undefined) {\n",
       "        embed_document(root);\n",
       "        clearInterval(timer);\n",
       "      }\n",
       "      attempts++;\n",
       "      if (attempts > 100) {\n",
       "        console.log(\"Bokeh: ERROR: Unable to run BokehJS code because BokehJS library is missing\");\n",
       "        clearInterval(timer);\n",
       "      }\n",
       "    }, 10, root)\n",
       "  }\n",
       "})(window);"
      ],
      "application/vnd.bokehjs_exec.v0+json": ""
     },
     "metadata": {
      "application/vnd.bokehjs_exec.v0+json": {
       "id": "4043"
      }
     },
     "output_type": "display_data"
    }
   ],
   "source": [
    "# 2、面积图 - 面积堆叠图\n",
    "\n",
    "from bokeh.palettes import brewer\n",
    "# 导入brewer模块\n",
    "\n",
    "N = 20\n",
    "cats = 10\n",
    "rng = np.random.RandomState(1)\n",
    "df = pd.DataFrame(rng.randint(10, 100, size=(N, cats))).add_prefix('y')\n",
    "# 创建数据，shape为（20，10）\n",
    "\n",
    "df_top = df.cumsum(axis=1)   # 每一个堆叠面积图的最高点\n",
    "df_bottom = df_top.shift(axis=1).fillna({'y0': 0})[::-1]    # 每一个堆叠面积图的最低点，并反向\n",
    "df_stack = pd.concat([df_bottom, df_top], ignore_index=True)   # 数据合并，每一组数据都是一个可以围合成一个面的散点集合\n",
    "# 得到堆叠面积数据\n",
    "\n",
    "colors = brewer['Spectral'][df_stack.shape[1]]    # 根据变量数拆分颜色\n",
    "x = np.hstack((df.index[::-1], df.index))         # 得到围合顺序的index，这里由于一列是20个元素，所以连接成面需要40个点\n",
    "\n",
    "p = figure(x_range=(0, N-1), y_range=(0, 700))\n",
    "p.patches([x] * df_stack.shape[1],                       # 得到10组index\n",
    "          [df_stack[c].values for c in df_stack],     # c为df_stack的列名，这里得到10组对应的valyes\n",
    "          color=colors, alpha=0.8, line_color=None)   # 设置其他参数\n",
    "\n",
    "show(p)"
   ]
  },
  {
   "cell_type": "code",
   "execution_count": null,
   "metadata": {},
   "outputs": [],
   "source": [
    "'''\n",
    "【课程5.6】  柱状图/堆叠图/直方图\n",
    "\n",
    "① 单系列柱状图\n",
    "② 多系列柱状图\n",
    "③ 堆叠图\n",
    "④ 直方图\n",
    "\n",
    "'''"
   ]
  },
  {
   "cell_type": "code",
   "execution_count": 18,
   "metadata": {},
   "outputs": [
    {
     "data": {
      "text/html": [
       "\n",
       "\n",
       "\n",
       "\n",
       "\n",
       "\n",
       "  <div class=\"bk-root\" id=\"27269e03-d12e-4ea2-b314-140a64b9f5ca\" data-root-id=\"4312\"></div>\n"
      ]
     },
     "metadata": {},
     "output_type": "display_data"
    },
    {
     "data": {
      "application/javascript": [
       "(function(root) {\n",
       "  function embed_document(root) {\n",
       "    \n",
       "  var docs_json = {\"fc8acbef-1da7-4596-bd17-122850ff8c5b\":{\"roots\":{\"references\":[{\"attributes\":{\"below\":[{\"id\":\"4321\",\"type\":\"LinearAxis\"}],\"left\":[{\"id\":\"4326\",\"type\":\"LinearAxis\"}],\"plot_height\":400,\"renderers\":[{\"id\":\"4321\",\"type\":\"LinearAxis\"},{\"id\":\"4325\",\"type\":\"Grid\"},{\"id\":\"4326\",\"type\":\"LinearAxis\"},{\"id\":\"4330\",\"type\":\"Grid\"},{\"id\":\"4339\",\"type\":\"BoxAnnotation\"},{\"id\":\"4349\",\"type\":\"GlyphRenderer\"}],\"title\":{\"id\":\"4528\",\"type\":\"Title\"},\"toolbar\":{\"id\":\"4337\",\"type\":\"Toolbar\"},\"x_range\":{\"id\":\"4313\",\"type\":\"DataRange1d\"},\"x_scale\":{\"id\":\"4317\",\"type\":\"LinearScale\"},\"y_range\":{\"id\":\"4315\",\"type\":\"DataRange1d\"},\"y_scale\":{\"id\":\"4319\",\"type\":\"LinearScale\"}},\"id\":\"4312\",\"subtype\":\"Figure\",\"type\":\"Plot\"},{\"attributes\":{},\"id\":\"4534\",\"type\":\"UnionRenderers\"},{\"attributes\":{},\"id\":\"4317\",\"type\":\"LinearScale\"},{\"attributes\":{\"callback\":null,\"data\":{\"fill_color\":[\"red\",\"green\",\"blue\"],\"top\":[1.2,2.5,3.7],\"x\":[1,2,3]},\"selected\":{\"id\":\"4535\",\"type\":\"Selection\"},\"selection_policy\":{\"id\":\"4534\",\"type\":\"UnionRenderers\"}},\"id\":\"4346\",\"type\":\"ColumnDataSource\"},{\"attributes\":{\"fill_alpha\":{\"value\":0.5},\"fill_color\":{\"field\":\"fill_color\"},\"line_alpha\":{\"value\":0.5},\"line_dash\":[6,4],\"line_width\":{\"value\":2},\"top\":{\"field\":\"top\"},\"width\":{\"value\":0.5},\"x\":{\"field\":\"x\"}},\"id\":\"4347\",\"type\":\"VBar\"},{\"attributes\":{},\"id\":\"4334\",\"type\":\"SaveTool\"},{\"attributes\":{\"data_source\":{\"id\":\"4346\",\"type\":\"ColumnDataSource\"},\"glyph\":{\"id\":\"4347\",\"type\":\"VBar\"},\"hover_glyph\":null,\"muted_glyph\":null,\"nonselection_glyph\":{\"id\":\"4348\",\"type\":\"VBar\"},\"selection_glyph\":null,\"view\":{\"id\":\"4350\",\"type\":\"CDSView\"}},\"id\":\"4349\",\"type\":\"GlyphRenderer\"},{\"attributes\":{},\"id\":\"4529\",\"type\":\"BasicTickFormatter\"},{\"attributes\":{\"formatter\":{\"id\":\"4531\",\"type\":\"BasicTickFormatter\"},\"plot\":{\"id\":\"4312\",\"subtype\":\"Figure\",\"type\":\"Plot\"},\"ticker\":{\"id\":\"4327\",\"type\":\"BasicTicker\"}},\"id\":\"4326\",\"type\":\"LinearAxis\"},{\"attributes\":{},\"id\":\"4322\",\"type\":\"BasicTicker\"},{\"attributes\":{\"callback\":null},\"id\":\"4313\",\"type\":\"DataRange1d\"},{\"attributes\":{},\"id\":\"4331\",\"type\":\"PanTool\"},{\"attributes\":{},\"id\":\"4335\",\"type\":\"ResetTool\"},{\"attributes\":{},\"id\":\"4319\",\"type\":\"LinearScale\"},{\"attributes\":{},\"id\":\"4535\",\"type\":\"Selection\"},{\"attributes\":{\"plot\":{\"id\":\"4312\",\"subtype\":\"Figure\",\"type\":\"Plot\"},\"ticker\":{\"id\":\"4322\",\"type\":\"BasicTicker\"}},\"id\":\"4325\",\"type\":\"Grid\"},{\"attributes\":{\"active_drag\":\"auto\",\"active_inspect\":\"auto\",\"active_multi\":null,\"active_scroll\":\"auto\",\"active_tap\":\"auto\",\"tools\":[{\"id\":\"4331\",\"type\":\"PanTool\"},{\"id\":\"4332\",\"type\":\"WheelZoomTool\"},{\"id\":\"4333\",\"type\":\"BoxZoomTool\"},{\"id\":\"4334\",\"type\":\"SaveTool\"},{\"id\":\"4335\",\"type\":\"ResetTool\"},{\"id\":\"4336\",\"type\":\"HelpTool\"}]},\"id\":\"4337\",\"type\":\"Toolbar\"},{\"attributes\":{\"callback\":null},\"id\":\"4315\",\"type\":\"DataRange1d\"},{\"attributes\":{\"bottom_units\":\"screen\",\"fill_alpha\":{\"value\":0.5},\"fill_color\":{\"value\":\"lightgrey\"},\"left_units\":\"screen\",\"level\":\"overlay\",\"line_alpha\":{\"value\":1.0},\"line_color\":{\"value\":\"black\"},\"line_dash\":[4,4],\"line_width\":{\"value\":2},\"plot\":null,\"render_mode\":\"css\",\"right_units\":\"screen\",\"top_units\":\"screen\"},\"id\":\"4339\",\"type\":\"BoxAnnotation\"},{\"attributes\":{\"overlay\":{\"id\":\"4339\",\"type\":\"BoxAnnotation\"}},\"id\":\"4333\",\"type\":\"BoxZoomTool\"},{\"attributes\":{},\"id\":\"4327\",\"type\":\"BasicTicker\"},{\"attributes\":{\"source\":{\"id\":\"4346\",\"type\":\"ColumnDataSource\"}},\"id\":\"4350\",\"type\":\"CDSView\"},{\"attributes\":{\"fill_alpha\":{\"value\":0.1},\"fill_color\":{\"value\":\"#1f77b4\"},\"line_alpha\":{\"value\":0.1},\"line_color\":{\"value\":\"#1f77b4\"},\"line_dash\":[6,4],\"line_width\":{\"value\":2},\"top\":{\"field\":\"top\"},\"width\":{\"value\":0.5},\"x\":{\"field\":\"x\"}},\"id\":\"4348\",\"type\":\"VBar\"},{\"attributes\":{},\"id\":\"4336\",\"type\":\"HelpTool\"},{\"attributes\":{},\"id\":\"4332\",\"type\":\"WheelZoomTool\"},{\"attributes\":{},\"id\":\"4531\",\"type\":\"BasicTickFormatter\"},{\"attributes\":{\"plot\":null,\"text\":\"\"},\"id\":\"4528\",\"type\":\"Title\"},{\"attributes\":{\"dimension\":1,\"plot\":{\"id\":\"4312\",\"subtype\":\"Figure\",\"type\":\"Plot\"},\"ticker\":{\"id\":\"4327\",\"type\":\"BasicTicker\"}},\"id\":\"4330\",\"type\":\"Grid\"},{\"attributes\":{\"formatter\":{\"id\":\"4529\",\"type\":\"BasicTickFormatter\"},\"plot\":{\"id\":\"4312\",\"subtype\":\"Figure\",\"type\":\"Plot\"},\"ticker\":{\"id\":\"4322\",\"type\":\"BasicTicker\"}},\"id\":\"4321\",\"type\":\"LinearAxis\"}],\"root_ids\":[\"4312\"]},\"title\":\"Bokeh Application\",\"version\":\"1.0.4\"}};\n",
       "  var render_items = [{\"docid\":\"fc8acbef-1da7-4596-bd17-122850ff8c5b\",\"roots\":{\"4312\":\"27269e03-d12e-4ea2-b314-140a64b9f5ca\"}}];\n",
       "  root.Bokeh.embed.embed_items_notebook(docs_json, render_items);\n",
       "\n",
       "  }\n",
       "  if (root.Bokeh !== undefined) {\n",
       "    embed_document(root);\n",
       "  } else {\n",
       "    var attempts = 0;\n",
       "    var timer = setInterval(function(root) {\n",
       "      if (root.Bokeh !== undefined) {\n",
       "        embed_document(root);\n",
       "        clearInterval(timer);\n",
       "      }\n",
       "      attempts++;\n",
       "      if (attempts > 100) {\n",
       "        console.log(\"Bokeh: ERROR: Unable to run BokehJS code because BokehJS library is missing\");\n",
       "        clearInterval(timer);\n",
       "      }\n",
       "    }, 10, root)\n",
       "  }\n",
       "})(window);"
      ],
      "application/vnd.bokehjs_exec.v0+json": ""
     },
     "metadata": {
      "application/vnd.bokehjs_exec.v0+json": {
       "id": "4312"
      }
     },
     "output_type": "display_data"
    }
   ],
   "source": [
    "# 1、单系列柱状图\n",
    "# vbar\n",
    "\n",
    "p = figure(plot_width=600,plot_height=400)\n",
    "p.vbar(x=[1,2,3],width = 0.5,bottom = 0,top = [1.2,2.5,3.7],     # x：横轴坐标，width：宽度，bottom：底高度，top：顶高度\n",
    "      color = ['red','green','blue'],alpha = 0.5,                # 整体颜色设置，也可单独设置 → color=\"firebrick\"\n",
    "      line_width = 2,line_color = 'black',line_alpha = 0.5,line_dash = [6,4],         # 单独设置线参数\n",
    "      #fill_color = 'red',fill_alpha = 0.5)                   # 单独设置填充颜色参数\n",
    "      )\n",
    "# 绘制竖向柱状图\n",
    "\n",
    "show(p)"
   ]
  },
  {
   "cell_type": "code",
   "execution_count": 19,
   "metadata": {},
   "outputs": [
    {
     "data": {
      "text/html": [
       "\n",
       "\n",
       "\n",
       "\n",
       "\n",
       "\n",
       "  <div class=\"bk-root\" id=\"d3b10787-85be-4f53-8bc4-e2aea8f46028\" data-root-id=\"4590\"></div>\n"
      ]
     },
     "metadata": {},
     "output_type": "display_data"
    },
    {
     "data": {
      "application/javascript": [
       "(function(root) {\n",
       "  function embed_document(root) {\n",
       "    \n",
       "  var docs_json = {\"c10848a2-fbb4-403c-af18-96a63479882e\":{\"roots\":{\"references\":[{\"attributes\":{\"below\":[{\"id\":\"4599\",\"type\":\"LinearAxis\"}],\"left\":[{\"id\":\"4604\",\"type\":\"LinearAxis\"}],\"plot_height\":400,\"renderers\":[{\"id\":\"4599\",\"type\":\"LinearAxis\"},{\"id\":\"4603\",\"type\":\"Grid\"},{\"id\":\"4604\",\"type\":\"LinearAxis\"},{\"id\":\"4608\",\"type\":\"Grid\"},{\"id\":\"4617\",\"type\":\"BoxAnnotation\"},{\"id\":\"4627\",\"type\":\"GlyphRenderer\"}],\"title\":{\"id\":\"4815\",\"type\":\"Title\"},\"toolbar\":{\"id\":\"4615\",\"type\":\"Toolbar\"},\"x_range\":{\"id\":\"4591\",\"type\":\"DataRange1d\"},\"x_scale\":{\"id\":\"4595\",\"type\":\"LinearScale\"},\"y_range\":{\"id\":\"4593\",\"type\":\"DataRange1d\"},\"y_scale\":{\"id\":\"4597\",\"type\":\"LinearScale\"}},\"id\":\"4590\",\"subtype\":\"Figure\",\"type\":\"Plot\"},{\"attributes\":{\"plot\":null,\"text\":\"\"},\"id\":\"4815\",\"type\":\"Title\"},{\"attributes\":{},\"id\":\"4821\",\"type\":\"UnionRenderers\"},{\"attributes\":{},\"id\":\"4597\",\"type\":\"LinearScale\"},{\"attributes\":{\"plot\":{\"id\":\"4590\",\"subtype\":\"Figure\",\"type\":\"Plot\"},\"ticker\":{\"id\":\"4600\",\"type\":\"BasicTicker\"}},\"id\":\"4603\",\"type\":\"Grid\"},{\"attributes\":{},\"id\":\"4614\",\"type\":\"HelpTool\"},{\"attributes\":{\"callback\":null,\"data\":{\"fill_color\":[\"red\",\"green\",\"blue\"],\"line_color\":[\"red\",\"green\",\"blue\"],\"right\":[1.2,2.5,3.7],\"y\":[1,2,3]},\"selected\":{\"id\":\"4822\",\"type\":\"Selection\"},\"selection_policy\":{\"id\":\"4821\",\"type\":\"UnionRenderers\"}},\"id\":\"4624\",\"type\":\"ColumnDataSource\"},{\"attributes\":{\"active_drag\":\"auto\",\"active_inspect\":\"auto\",\"active_multi\":null,\"active_scroll\":\"auto\",\"active_tap\":\"auto\",\"tools\":[{\"id\":\"4609\",\"type\":\"PanTool\"},{\"id\":\"4610\",\"type\":\"WheelZoomTool\"},{\"id\":\"4611\",\"type\":\"BoxZoomTool\"},{\"id\":\"4612\",\"type\":\"SaveTool\"},{\"id\":\"4613\",\"type\":\"ResetTool\"},{\"id\":\"4614\",\"type\":\"HelpTool\"}]},\"id\":\"4615\",\"type\":\"Toolbar\"},{\"attributes\":{},\"id\":\"4595\",\"type\":\"LinearScale\"},{\"attributes\":{\"formatter\":{\"id\":\"4818\",\"type\":\"BasicTickFormatter\"},\"plot\":{\"id\":\"4590\",\"subtype\":\"Figure\",\"type\":\"Plot\"},\"ticker\":{\"id\":\"4605\",\"type\":\"BasicTicker\"}},\"id\":\"4604\",\"type\":\"LinearAxis\"},{\"attributes\":{},\"id\":\"4613\",\"type\":\"ResetTool\"},{\"attributes\":{\"data_source\":{\"id\":\"4624\",\"type\":\"ColumnDataSource\"},\"glyph\":{\"id\":\"4625\",\"type\":\"HBar\"},\"hover_glyph\":null,\"muted_glyph\":null,\"nonselection_glyph\":{\"id\":\"4626\",\"type\":\"HBar\"},\"selection_glyph\":null,\"view\":{\"id\":\"4628\",\"type\":\"CDSView\"}},\"id\":\"4627\",\"type\":\"GlyphRenderer\"},{\"attributes\":{},\"id\":\"4605\",\"type\":\"BasicTicker\"},{\"attributes\":{\"fill_alpha\":{\"value\":0.1},\"fill_color\":{\"value\":\"#1f77b4\"},\"height\":{\"value\":0.5},\"line_alpha\":{\"value\":0.1},\"line_color\":{\"value\":\"#1f77b4\"},\"right\":{\"field\":\"right\"},\"y\":{\"field\":\"y\"}},\"id\":\"4626\",\"type\":\"HBar\"},{\"attributes\":{},\"id\":\"4612\",\"type\":\"SaveTool\"},{\"attributes\":{\"fill_alpha\":{\"value\":0.5},\"fill_color\":{\"field\":\"fill_color\"},\"height\":{\"value\":0.5},\"line_alpha\":{\"value\":0.5},\"line_color\":{\"field\":\"line_color\"},\"right\":{\"field\":\"right\"},\"y\":{\"field\":\"y\"}},\"id\":\"4625\",\"type\":\"HBar\"},{\"attributes\":{\"source\":{\"id\":\"4624\",\"type\":\"ColumnDataSource\"}},\"id\":\"4628\",\"type\":\"CDSView\"},{\"attributes\":{\"bottom_units\":\"screen\",\"fill_alpha\":{\"value\":0.5},\"fill_color\":{\"value\":\"lightgrey\"},\"left_units\":\"screen\",\"level\":\"overlay\",\"line_alpha\":{\"value\":1.0},\"line_color\":{\"value\":\"black\"},\"line_dash\":[4,4],\"line_width\":{\"value\":2},\"plot\":null,\"render_mode\":\"css\",\"right_units\":\"screen\",\"top_units\":\"screen\"},\"id\":\"4617\",\"type\":\"BoxAnnotation\"},{\"attributes\":{\"formatter\":{\"id\":\"4816\",\"type\":\"BasicTickFormatter\"},\"plot\":{\"id\":\"4590\",\"subtype\":\"Figure\",\"type\":\"Plot\"},\"ticker\":{\"id\":\"4600\",\"type\":\"BasicTicker\"}},\"id\":\"4599\",\"type\":\"LinearAxis\"},{\"attributes\":{\"dimension\":1,\"plot\":{\"id\":\"4590\",\"subtype\":\"Figure\",\"type\":\"Plot\"},\"ticker\":{\"id\":\"4605\",\"type\":\"BasicTicker\"}},\"id\":\"4608\",\"type\":\"Grid\"},{\"attributes\":{\"callback\":null},\"id\":\"4591\",\"type\":\"DataRange1d\"},{\"attributes\":{},\"id\":\"4600\",\"type\":\"BasicTicker\"},{\"attributes\":{},\"id\":\"4816\",\"type\":\"BasicTickFormatter\"},{\"attributes\":{},\"id\":\"4818\",\"type\":\"BasicTickFormatter\"},{\"attributes\":{},\"id\":\"4822\",\"type\":\"Selection\"},{\"attributes\":{\"callback\":null},\"id\":\"4593\",\"type\":\"DataRange1d\"},{\"attributes\":{},\"id\":\"4610\",\"type\":\"WheelZoomTool\"},{\"attributes\":{},\"id\":\"4609\",\"type\":\"PanTool\"},{\"attributes\":{\"overlay\":{\"id\":\"4617\",\"type\":\"BoxAnnotation\"}},\"id\":\"4611\",\"type\":\"BoxZoomTool\"}],\"root_ids\":[\"4590\"]},\"title\":\"Bokeh Application\",\"version\":\"1.0.4\"}};\n",
       "  var render_items = [{\"docid\":\"c10848a2-fbb4-403c-af18-96a63479882e\",\"roots\":{\"4590\":\"d3b10787-85be-4f53-8bc4-e2aea8f46028\"}}];\n",
       "  root.Bokeh.embed.embed_items_notebook(docs_json, render_items);\n",
       "\n",
       "  }\n",
       "  if (root.Bokeh !== undefined) {\n",
       "    embed_document(root);\n",
       "  } else {\n",
       "    var attempts = 0;\n",
       "    var timer = setInterval(function(root) {\n",
       "      if (root.Bokeh !== undefined) {\n",
       "        embed_document(root);\n",
       "        clearInterval(timer);\n",
       "      }\n",
       "      attempts++;\n",
       "      if (attempts > 100) {\n",
       "        console.log(\"Bokeh: ERROR: Unable to run BokehJS code because BokehJS library is missing\");\n",
       "        clearInterval(timer);\n",
       "      }\n",
       "    }, 10, root)\n",
       "  }\n",
       "})(window);"
      ],
      "application/vnd.bokehjs_exec.v0+json": ""
     },
     "metadata": {
      "application/vnd.bokehjs_exec.v0+json": {
       "id": "4590"
      }
     },
     "output_type": "display_data"
    }
   ],
   "source": [
    "# 1、单系列柱状图\n",
    "# hbar\n",
    "\n",
    "p = figure(plot_width=600,plot_height=400)\n",
    "p.hbar(y=[1,2,3],height = 0.5,right = [1.2,2.5,3.7],left = 0,     # y：纵轴坐标，height：厚度，left：左边最小值，right：右边最大值\n",
    "      color = ['red','green','blue'],alpha = 0.5)     \n",
    "# 绘制横向柱状图\n",
    "show(p)"
   ]
  },
  {
   "cell_type": "code",
   "execution_count": 20,
   "metadata": {},
   "outputs": [
    {
     "data": {
      "text/html": [
       "\n",
       "\n",
       "\n",
       "\n",
       "\n",
       "\n",
       "  <div class=\"bk-root\" id=\"86ab65e1-ca6d-4f54-adcb-07eda6161897\" data-root-id=\"4879\"></div>\n"
      ]
     },
     "metadata": {},
     "output_type": "display_data"
    },
    {
     "data": {
      "application/javascript": [
       "(function(root) {\n",
       "  function embed_document(root) {\n",
       "    \n",
       "  var docs_json = {\"6d041f37-f5d4-402e-a707-daa6a6c7427b\":{\"roots\":{\"references\":[{\"attributes\":{\"below\":[{\"id\":\"4889\",\"type\":\"CategoricalAxis\"}],\"left\":[{\"id\":\"4893\",\"type\":\"LinearAxis\"}],\"plot_height\":400,\"renderers\":[{\"id\":\"4889\",\"type\":\"CategoricalAxis\"},{\"id\":\"4892\",\"type\":\"Grid\"},{\"id\":\"4893\",\"type\":\"LinearAxis\"},{\"id\":\"4897\",\"type\":\"Grid\"},{\"id\":\"4906\",\"type\":\"BoxAnnotation\"},{\"id\":\"4925\",\"type\":\"Legend\"},{\"id\":\"4917\",\"type\":\"GlyphRenderer\"}],\"title\":{\"id\":\"4878\",\"type\":\"Title\"},\"toolbar\":{\"id\":\"4904\",\"type\":\"Toolbar\"},\"x_range\":{\"id\":\"4881\",\"type\":\"FactorRange\"},\"x_scale\":{\"id\":\"4885\",\"type\":\"CategoricalScale\"},\"y_range\":{\"id\":\"4883\",\"type\":\"Range1d\"},\"y_scale\":{\"id\":\"4887\",\"type\":\"LinearScale\"}},\"id\":\"4879\",\"subtype\":\"Figure\",\"type\":\"Plot\"},{\"attributes\":{\"factors\":[\"Apples\",\"Pears\",\"Nectarines\",\"Plums\",\"Grapes\",\"Strawberries\"],\"palette\":[\"#3288bd\",\"#99d594\",\"#e6f598\",\"#fee08b\",\"#fc8d59\",\"#d53e4f\"]},\"id\":\"4913\",\"type\":\"CategoricalColorMapper\"},{\"attributes\":{\"plot\":null,\"text\":\"Fruits counts\"},\"id\":\"4878\",\"type\":\"Title\"},{\"attributes\":{},\"id\":\"4898\",\"type\":\"PanTool\"},{\"attributes\":{\"fill_alpha\":{\"value\":0.1},\"fill_color\":{\"value\":\"#1f77b4\"},\"line_alpha\":{\"value\":0.1},\"line_color\":{\"value\":\"#1f77b4\"},\"top\":{\"field\":\"counts\"},\"width\":{\"value\":0.8},\"x\":{\"field\":\"fruits\"}},\"id\":\"4916\",\"type\":\"VBar\"},{\"attributes\":{},\"id\":\"5128\",\"type\":\"Selection\"},{\"attributes\":{\"overlay\":{\"id\":\"4906\",\"type\":\"BoxAnnotation\"}},\"id\":\"4900\",\"type\":\"BoxZoomTool\"},{\"attributes\":{\"dimension\":1,\"plot\":{\"id\":\"4879\",\"subtype\":\"Figure\",\"type\":\"Plot\"},\"ticker\":{\"id\":\"4894\",\"type\":\"BasicTicker\"}},\"id\":\"4897\",\"type\":\"Grid\"},{\"attributes\":{},\"id\":\"4899\",\"type\":\"WheelZoomTool\"},{\"attributes\":{},\"id\":\"4901\",\"type\":\"SaveTool\"},{\"attributes\":{\"formatter\":{\"id\":\"4920\",\"type\":\"CategoricalTickFormatter\"},\"plot\":{\"id\":\"4879\",\"subtype\":\"Figure\",\"type\":\"Plot\"},\"ticker\":{\"id\":\"4890\",\"type\":\"CategoricalTicker\"}},\"id\":\"4889\",\"type\":\"CategoricalAxis\"},{\"attributes\":{},\"id\":\"4902\",\"type\":\"ResetTool\"},{\"attributes\":{\"bottom_units\":\"screen\",\"fill_alpha\":{\"value\":0.5},\"fill_color\":{\"value\":\"lightgrey\"},\"left_units\":\"screen\",\"level\":\"overlay\",\"line_alpha\":{\"value\":1.0},\"line_color\":{\"value\":\"black\"},\"line_dash\":[4,4],\"line_width\":{\"value\":2},\"plot\":null,\"render_mode\":\"css\",\"right_units\":\"screen\",\"top_units\":\"screen\"},\"id\":\"4906\",\"type\":\"BoxAnnotation\"},{\"attributes\":{},\"id\":\"4922\",\"type\":\"BasicTickFormatter\"},{\"attributes\":{},\"id\":\"4894\",\"type\":\"BasicTicker\"},{\"attributes\":{},\"id\":\"4903\",\"type\":\"HelpTool\"},{\"attributes\":{},\"id\":\"4887\",\"type\":\"LinearScale\"},{\"attributes\":{\"active_drag\":\"auto\",\"active_inspect\":\"auto\",\"active_multi\":null,\"active_scroll\":\"auto\",\"active_tap\":\"auto\",\"tools\":[{\"id\":\"4898\",\"type\":\"PanTool\"},{\"id\":\"4899\",\"type\":\"WheelZoomTool\"},{\"id\":\"4900\",\"type\":\"BoxZoomTool\"},{\"id\":\"4901\",\"type\":\"SaveTool\"},{\"id\":\"4902\",\"type\":\"ResetTool\"},{\"id\":\"4903\",\"type\":\"HelpTool\"}]},\"id\":\"4904\",\"type\":\"Toolbar\"},{\"attributes\":{\"items\":[{\"id\":\"4926\",\"type\":\"LegendItem\"}],\"location\":\"top_center\",\"orientation\":\"horizontal\",\"plot\":{\"id\":\"4879\",\"subtype\":\"Figure\",\"type\":\"Plot\"}},\"id\":\"4925\",\"type\":\"Legend\"},{\"attributes\":{\"formatter\":{\"id\":\"4922\",\"type\":\"BasicTickFormatter\"},\"plot\":{\"id\":\"4879\",\"subtype\":\"Figure\",\"type\":\"Plot\"},\"ticker\":{\"id\":\"4894\",\"type\":\"BasicTicker\"}},\"id\":\"4893\",\"type\":\"LinearAxis\"},{\"attributes\":{},\"id\":\"5127\",\"type\":\"UnionRenderers\"},{\"attributes\":{\"source\":{\"id\":\"4877\",\"type\":\"ColumnDataSource\"}},\"id\":\"4918\",\"type\":\"CDSView\"},{\"attributes\":{\"data_source\":{\"id\":\"4877\",\"type\":\"ColumnDataSource\"},\"glyph\":{\"id\":\"4915\",\"type\":\"VBar\"},\"hover_glyph\":null,\"muted_glyph\":null,\"nonselection_glyph\":{\"id\":\"4916\",\"type\":\"VBar\"},\"selection_glyph\":null,\"view\":{\"id\":\"4918\",\"type\":\"CDSView\"}},\"id\":\"4917\",\"type\":\"GlyphRenderer\"},{\"attributes\":{},\"id\":\"4920\",\"type\":\"CategoricalTickFormatter\"},{\"attributes\":{},\"id\":\"4885\",\"type\":\"CategoricalScale\"},{\"attributes\":{\"callback\":null,\"end\":9},\"id\":\"4883\",\"type\":\"Range1d\"},{\"attributes\":{\"callback\":null,\"data\":{\"counts\":[5,3,4,2,4,6],\"fruits\":[\"Apples\",\"Pears\",\"Nectarines\",\"Plums\",\"Grapes\",\"Strawberries\"]},\"selected\":{\"id\":\"5128\",\"type\":\"Selection\"},\"selection_policy\":{\"id\":\"5127\",\"type\":\"UnionRenderers\"}},\"id\":\"4877\",\"type\":\"ColumnDataSource\"},{\"attributes\":{\"callback\":null,\"factors\":[\"Apples\",\"Pears\",\"Nectarines\",\"Plums\",\"Grapes\",\"Strawberries\"]},\"id\":\"4881\",\"type\":\"FactorRange\"},{\"attributes\":{},\"id\":\"4890\",\"type\":\"CategoricalTicker\"},{\"attributes\":{\"fill_alpha\":{\"value\":0.5},\"fill_color\":{\"field\":\"fruits\",\"transform\":{\"id\":\"4913\",\"type\":\"CategoricalColorMapper\"}},\"line_alpha\":{\"value\":0.5},\"line_color\":{\"field\":\"fruits\",\"transform\":{\"id\":\"4913\",\"type\":\"CategoricalColorMapper\"}},\"top\":{\"field\":\"counts\"},\"width\":{\"value\":0.8},\"x\":{\"field\":\"fruits\"}},\"id\":\"4915\",\"type\":\"VBar\"},{\"attributes\":{\"grid_line_color\":{\"value\":null},\"plot\":{\"id\":\"4879\",\"subtype\":\"Figure\",\"type\":\"Plot\"},\"ticker\":{\"id\":\"4890\",\"type\":\"CategoricalTicker\"}},\"id\":\"4892\",\"type\":\"Grid\"},{\"attributes\":{\"label\":{\"field\":\"fruits\"},\"renderers\":[{\"id\":\"4917\",\"type\":\"GlyphRenderer\"}]},\"id\":\"4926\",\"type\":\"LegendItem\"}],\"root_ids\":[\"4879\"]},\"title\":\"Bokeh Application\",\"version\":\"1.0.4\"}};\n",
       "  var render_items = [{\"docid\":\"6d041f37-f5d4-402e-a707-daa6a6c7427b\",\"roots\":{\"4879\":\"86ab65e1-ca6d-4f54-adcb-07eda6161897\"}}];\n",
       "  root.Bokeh.embed.embed_items_notebook(docs_json, render_items);\n",
       "\n",
       "  }\n",
       "  if (root.Bokeh !== undefined) {\n",
       "    embed_document(root);\n",
       "  } else {\n",
       "    var attempts = 0;\n",
       "    var timer = setInterval(function(root) {\n",
       "      if (root.Bokeh !== undefined) {\n",
       "        embed_document(root);\n",
       "        clearInterval(timer);\n",
       "      }\n",
       "      attempts++;\n",
       "      if (attempts > 100) {\n",
       "        console.log(\"Bokeh: ERROR: Unable to run BokehJS code because BokehJS library is missing\");\n",
       "        clearInterval(timer);\n",
       "      }\n",
       "    }, 10, root)\n",
       "  }\n",
       "})(window);"
      ],
      "application/vnd.bokehjs_exec.v0+json": ""
     },
     "metadata": {
      "application/vnd.bokehjs_exec.v0+json": {
       "id": "4879"
      }
     },
     "output_type": "display_data"
    }
   ],
   "source": [
    "# 1、单系列柱状图 - 分类设置标签\n",
    "# ColumnDataSource\n",
    "\n",
    "from bokeh.palettes import Spectral6\n",
    "from bokeh.transform import factor_cmap\n",
    "# 导入相关模块\n",
    "\n",
    "fruits = ['Apples', 'Pears', 'Nectarines', 'Plums', 'Grapes', 'Strawberries']\n",
    "counts = [5, 3, 4, 2, 4, 6]\n",
    "source = ColumnDataSource(data=dict(fruits=fruits, counts=counts))\n",
    "colors = [ \"salmon\", \"olive\", \"darkred\", \"goldenrod\", \"skyblue\", \"orange\"]\n",
    "# 创建一个包含标签的data，对象类型为ColumnDataSource\n",
    "\n",
    "p = figure(plot_width=600,plot_height=400,x_range = fruits,y_range = (0,9),title = 'Fruits counts')\n",
    "p.vbar(x='fruits',top='counts',source=source,\n",
    "      width = 0.8,alpha = 0.5,\n",
    "      color = factor_cmap('fruits',palette=Spectral6, factors=fruits),\n",
    "      legend = 'fruits')\n",
    "# 绘制柱状图，横轴直接显示标签\n",
    "# factor_cmap(field_name, palette, factors, start=0, end=None, nan_color='gray')：颜色转换模块，生成一个颜色转换对象\n",
    "# field_name：分类名称\n",
    "# palette：调色盘\n",
    "# factors：用于在调色盘中分颜色的参数\n",
    "# 参考文档：http://bokeh.pydata.org/en/latest/docs/reference/transform.html\n",
    "\n",
    "p.xgrid.grid_line_color = None\n",
    "p.legend.orientation = \"horizontal\"\n",
    "p.legend.location = \"top_center\"\n",
    "# 其他参数设置\n",
    "show(p)"
   ]
  },
  {
   "cell_type": "code",
   "execution_count": 21,
   "metadata": {},
   "outputs": [
    {
     "name": "stdout",
     "output_type": "stream",
     "text": [
      "{'index': ['Apples', 'Pears', 'Nectarines', 'Plums', 'Grapes', 'Strawberries'], '2015': [2, 1, 4, 3, 2, 4], '2016': [5, 3, 3, 2, 4, 6], '2017': [3, 2, 4, 4, 5, 3]}\n"
     ]
    },
    {
     "data": {
      "text/html": [
       "\n",
       "\n",
       "\n",
       "\n",
       "\n",
       "\n",
       "  <div class=\"bk-root\" id=\"398b847f-d215-42ce-80e3-1e5892e05aa3\" data-root-id=\"5179\"></div>\n"
      ]
     },
     "metadata": {},
     "output_type": "display_data"
    },
    {
     "data": {
      "application/javascript": [
       "(function(root) {\n",
       "  function embed_document(root) {\n",
       "    \n",
       "  var docs_json = {\"e8562f57-a43a-43a0-a707-9316d5e7bcf0\":{\"roots\":{\"references\":[{\"attributes\":{\"below\":[{\"id\":\"5189\",\"type\":\"CategoricalAxis\"}],\"left\":[{\"id\":\"5193\",\"type\":\"LinearAxis\"}],\"plot_height\":350,\"renderers\":[{\"id\":\"5189\",\"type\":\"CategoricalAxis\"},{\"id\":\"5192\",\"type\":\"Grid\"},{\"id\":\"5193\",\"type\":\"LinearAxis\"},{\"id\":\"5197\",\"type\":\"Grid\"},{\"id\":\"5210\",\"type\":\"Legend\"},{\"id\":\"5203\",\"type\":\"GlyphRenderer\"},{\"id\":\"5216\",\"type\":\"GlyphRenderer\"},{\"id\":\"5230\",\"type\":\"GlyphRenderer\"}],\"title\":{\"id\":\"5178\",\"type\":\"Title\"},\"toolbar\":{\"id\":\"5198\",\"type\":\"Toolbar\"},\"x_range\":{\"id\":\"5181\",\"type\":\"FactorRange\"},\"x_scale\":{\"id\":\"5185\",\"type\":\"CategoricalScale\"},\"y_range\":{\"id\":\"5183\",\"type\":\"Range1d\"},\"y_scale\":{\"id\":\"5187\",\"type\":\"LinearScale\"}},\"id\":\"5179\",\"subtype\":\"Figure\",\"type\":\"Plot\"},{\"attributes\":{\"label\":{\"value\":\"2017\"},\"renderers\":[{\"id\":\"5230\",\"type\":\"GlyphRenderer\"}]},\"id\":\"5239\",\"type\":\"LegendItem\"},{\"attributes\":{\"source\":{\"id\":\"5177\",\"type\":\"ColumnDataSource\"}},\"id\":\"5231\",\"type\":\"CDSView\"},{\"attributes\":{\"fill_color\":{\"value\":\"#e84d60\"},\"line_color\":{\"value\":\"#e84d60\"},\"top\":{\"field\":\"2017\"},\"width\":{\"value\":0.2},\"x\":{\"field\":\"index\",\"transform\":{\"id\":\"5226\",\"type\":\"Dodge\"}}},\"id\":\"5228\",\"type\":\"VBar\"},{\"attributes\":{},\"id\":\"5223\",\"type\":\"UnionRenderers\"},{\"attributes\":{\"dimension\":1,\"plot\":{\"id\":\"5179\",\"subtype\":\"Figure\",\"type\":\"Plot\"},\"ticker\":{\"id\":\"5194\",\"type\":\"BasicTicker\"}},\"id\":\"5197\",\"type\":\"Grid\"},{\"attributes\":{\"range\":{\"id\":\"5181\",\"type\":\"FactorRange\"},\"value\":-0.25},\"id\":\"5199\",\"type\":\"Dodge\"},{\"attributes\":{\"fill_alpha\":{\"value\":0.1},\"fill_color\":{\"value\":\"#1f77b4\"},\"line_alpha\":{\"value\":0.1},\"line_color\":{\"value\":\"#1f77b4\"},\"top\":{\"field\":\"2015\"},\"width\":{\"value\":0.2},\"x\":{\"field\":\"index\",\"transform\":{\"id\":\"5199\",\"type\":\"Dodge\"}}},\"id\":\"5202\",\"type\":\"VBar\"},{\"attributes\":{\"callback\":null,\"data\":{\"2015\":[2,1,4,3,2,4],\"2016\":[5,3,3,2,4,6],\"2017\":[3,2,4,4,5,3],\"index\":[\"Apples\",\"Pears\",\"Nectarines\",\"Plums\",\"Grapes\",\"Strawberries\"]},\"selected\":{\"id\":\"5224\",\"type\":\"Selection\"},\"selection_policy\":{\"id\":\"5223\",\"type\":\"UnionRenderers\"}},\"id\":\"5177\",\"type\":\"ColumnDataSource\"},{\"attributes\":{},\"id\":\"5194\",\"type\":\"BasicTicker\"},{\"attributes\":{\"data_source\":{\"id\":\"5177\",\"type\":\"ColumnDataSource\"},\"glyph\":{\"id\":\"5214\",\"type\":\"VBar\"},\"hover_glyph\":null,\"muted_glyph\":null,\"nonselection_glyph\":{\"id\":\"5215\",\"type\":\"VBar\"},\"selection_glyph\":null,\"view\":{\"id\":\"5217\",\"type\":\"CDSView\"}},\"id\":\"5216\",\"type\":\"GlyphRenderer\"},{\"attributes\":{\"fill_alpha\":{\"value\":0.1},\"fill_color\":{\"value\":\"#1f77b4\"},\"line_alpha\":{\"value\":0.1},\"line_color\":{\"value\":\"#1f77b4\"},\"top\":{\"field\":\"2016\"},\"width\":{\"value\":0.2},\"x\":{\"field\":\"index\",\"transform\":{\"id\":\"5212\",\"type\":\"Dodge\"}}},\"id\":\"5215\",\"type\":\"VBar\"},{\"attributes\":{},\"id\":\"5190\",\"type\":\"CategoricalTicker\"},{\"attributes\":{},\"id\":\"5187\",\"type\":\"LinearScale\"},{\"attributes\":{\"fill_alpha\":{\"value\":0.1},\"fill_color\":{\"value\":\"#1f77b4\"},\"line_alpha\":{\"value\":0.1},\"line_color\":{\"value\":\"#1f77b4\"},\"top\":{\"field\":\"2017\"},\"width\":{\"value\":0.2},\"x\":{\"field\":\"index\",\"transform\":{\"id\":\"5226\",\"type\":\"Dodge\"}}},\"id\":\"5229\",\"type\":\"VBar\"},{\"attributes\":{},\"id\":\"5208\",\"type\":\"BasicTickFormatter\"},{\"attributes\":{\"fill_color\":{\"value\":\"#718dbf\"},\"line_color\":{\"value\":\"#718dbf\"},\"top\":{\"field\":\"2016\"},\"width\":{\"value\":0.2},\"x\":{\"field\":\"index\",\"transform\":{\"id\":\"5212\",\"type\":\"Dodge\"}}},\"id\":\"5214\",\"type\":\"VBar\"},{\"attributes\":{},\"id\":\"5185\",\"type\":\"CategoricalScale\"},{\"attributes\":{\"data_source\":{\"id\":\"5177\",\"type\":\"ColumnDataSource\"},\"glyph\":{\"id\":\"5228\",\"type\":\"VBar\"},\"hover_glyph\":null,\"muted_glyph\":null,\"nonselection_glyph\":{\"id\":\"5229\",\"type\":\"VBar\"},\"selection_glyph\":null,\"view\":{\"id\":\"5231\",\"type\":\"CDSView\"}},\"id\":\"5230\",\"type\":\"GlyphRenderer\"},{\"attributes\":{\"label\":{\"value\":\"2015\"},\"renderers\":[{\"id\":\"5203\",\"type\":\"GlyphRenderer\"}]},\"id\":\"5211\",\"type\":\"LegendItem\"},{\"attributes\":{\"range\":{\"id\":\"5181\",\"type\":\"FactorRange\"},\"value\":0.25},\"id\":\"5226\",\"type\":\"Dodge\"},{\"attributes\":{},\"id\":\"5224\",\"type\":\"Selection\"},{\"attributes\":{\"active_drag\":\"auto\",\"active_inspect\":\"auto\",\"active_multi\":null,\"active_scroll\":\"auto\",\"active_tap\":\"auto\"},\"id\":\"5198\",\"type\":\"Toolbar\"},{\"attributes\":{\"callback\":null,\"factors\":[\"Apples\",\"Pears\",\"Nectarines\",\"Plums\",\"Grapes\",\"Strawberries\"]},\"id\":\"5181\",\"type\":\"FactorRange\"},{\"attributes\":{\"formatter\":{\"id\":\"5206\",\"type\":\"CategoricalTickFormatter\"},\"plot\":{\"id\":\"5179\",\"subtype\":\"Figure\",\"type\":\"Plot\"},\"ticker\":{\"id\":\"5190\",\"type\":\"CategoricalTicker\"}},\"id\":\"5189\",\"type\":\"CategoricalAxis\"},{\"attributes\":{\"source\":{\"id\":\"5177\",\"type\":\"ColumnDataSource\"}},\"id\":\"5217\",\"type\":\"CDSView\"},{\"attributes\":{\"items\":[{\"id\":\"5211\",\"type\":\"LegendItem\"},{\"id\":\"5225\",\"type\":\"LegendItem\"},{\"id\":\"5239\",\"type\":\"LegendItem\"}],\"location\":\"top_left\",\"orientation\":\"horizontal\",\"plot\":{\"id\":\"5179\",\"subtype\":\"Figure\",\"type\":\"Plot\"}},\"id\":\"5210\",\"type\":\"Legend\"},{\"attributes\":{\"range\":{\"id\":\"5181\",\"type\":\"FactorRange\"}},\"id\":\"5212\",\"type\":\"Dodge\"},{\"attributes\":{\"source\":{\"id\":\"5177\",\"type\":\"ColumnDataSource\"}},\"id\":\"5204\",\"type\":\"CDSView\"},{\"attributes\":{\"plot\":null,\"text\":\"Fruit Counts by Year\"},\"id\":\"5178\",\"type\":\"Title\"},{\"attributes\":{\"fill_color\":{\"value\":\"#c9d9d3\"},\"line_color\":{\"value\":\"#c9d9d3\"},\"top\":{\"field\":\"2015\"},\"width\":{\"value\":0.2},\"x\":{\"field\":\"index\",\"transform\":{\"id\":\"5199\",\"type\":\"Dodge\"}}},\"id\":\"5201\",\"type\":\"VBar\"},{\"attributes\":{\"formatter\":{\"id\":\"5208\",\"type\":\"BasicTickFormatter\"},\"plot\":{\"id\":\"5179\",\"subtype\":\"Figure\",\"type\":\"Plot\"},\"ticker\":{\"id\":\"5194\",\"type\":\"BasicTicker\"}},\"id\":\"5193\",\"type\":\"LinearAxis\"},{\"attributes\":{},\"id\":\"5206\",\"type\":\"CategoricalTickFormatter\"},{\"attributes\":{\"callback\":null,\"end\":10},\"id\":\"5183\",\"type\":\"Range1d\"},{\"attributes\":{\"label\":{\"value\":\"2016\"},\"renderers\":[{\"id\":\"5216\",\"type\":\"GlyphRenderer\"}]},\"id\":\"5225\",\"type\":\"LegendItem\"},{\"attributes\":{\"grid_line_color\":{\"value\":null},\"plot\":{\"id\":\"5179\",\"subtype\":\"Figure\",\"type\":\"Plot\"},\"ticker\":{\"id\":\"5190\",\"type\":\"CategoricalTicker\"}},\"id\":\"5192\",\"type\":\"Grid\"},{\"attributes\":{\"data_source\":{\"id\":\"5177\",\"type\":\"ColumnDataSource\"},\"glyph\":{\"id\":\"5201\",\"type\":\"VBar\"},\"hover_glyph\":null,\"muted_glyph\":null,\"nonselection_glyph\":{\"id\":\"5202\",\"type\":\"VBar\"},\"selection_glyph\":null,\"view\":{\"id\":\"5204\",\"type\":\"CDSView\"}},\"id\":\"5203\",\"type\":\"GlyphRenderer\"}],\"root_ids\":[\"5179\"]},\"title\":\"Bokeh Application\",\"version\":\"1.0.4\"}};\n",
       "  var render_items = [{\"docid\":\"e8562f57-a43a-43a0-a707-9316d5e7bcf0\",\"roots\":{\"5179\":\"398b847f-d215-42ce-80e3-1e5892e05aa3\"}}];\n",
       "  root.Bokeh.embed.embed_items_notebook(docs_json, render_items);\n",
       "\n",
       "  }\n",
       "  if (root.Bokeh !== undefined) {\n",
       "    embed_document(root);\n",
       "  } else {\n",
       "    var attempts = 0;\n",
       "    var timer = setInterval(function(root) {\n",
       "      if (root.Bokeh !== undefined) {\n",
       "        embed_document(root);\n",
       "        clearInterval(timer);\n",
       "      }\n",
       "      attempts++;\n",
       "      if (attempts > 100) {\n",
       "        console.log(\"Bokeh: ERROR: Unable to run BokehJS code because BokehJS library is missing\");\n",
       "        clearInterval(timer);\n",
       "      }\n",
       "    }, 10, root)\n",
       "  }\n",
       "})(window);"
      ],
      "application/vnd.bokehjs_exec.v0+json": ""
     },
     "metadata": {
      "application/vnd.bokehjs_exec.v0+json": {
       "id": "5179"
      }
     },
     "output_type": "display_data"
    }
   ],
   "source": [
    "# 2、多系列柱状图\n",
    "# vbar\n",
    "\n",
    "from bokeh.transform import dodge\n",
    "from bokeh.core.properties import value\n",
    "# 导入dodge、value模块\n",
    "\n",
    "df = pd.DataFrame({'2015':[2,1,4,3,2,4],'2016':[5,3,3,2,4,6],'2017':[3,2,4,4,5,3]},\n",
    "                 index=['Apples', 'Pears', 'Nectarines', 'Plums', 'Grapes', 'Strawberries'])\n",
    "fruits = df.index.tolist()\n",
    "years = df.columns.tolist()\n",
    "data = {'index':fruits}\n",
    "for year in years:\n",
    "    data[year] = df[year].tolist()\n",
    "print(data)\n",
    "# 生成数据，数据格式为dict\n",
    "\n",
    "source = ColumnDataSource(data=data)\n",
    "# 将数据转化为ColumnDataSource对象\n",
    "\n",
    "\n",
    "p = figure(x_range=fruits, y_range=(0, 10), plot_height=350, title=\"Fruit Counts by Year\",tools=\"\")\n",
    "\n",
    "p.vbar(x=dodge('index', -0.25, range=p.x_range), top='2015', width=0.2, source=source,color=\"#c9d9d3\", legend=value(\"2015\"))\n",
    "p.vbar(x=dodge('index',  0.0,  range=p.x_range), top='2016', width=0.2, source=source,color=\"#718dbf\", legend=value(\"2016\"))\n",
    "p.vbar(x=dodge('index',  0.25, range=p.x_range), top='2017', width=0.2, source=source,color=\"#e84d60\", legend=value(\"2017\"))\n",
    "# 绘制多系列柱状图\n",
    "# dodge(field_name, value, range=None) → 转换成一个可分组的对象，value为元素的位置（配合width设置）\n",
    "# value(val, transform=None) → 按照年份分为dict\n",
    "\n",
    "p.xgrid.grid_line_color = None\n",
    "p.legend.location = \"top_left\"\n",
    "p.legend.orientation = \"horizontal\"\n",
    "# 其他参数设置\n",
    "\n",
    "show(p)"
   ]
  },
  {
   "cell_type": "code",
   "execution_count": 22,
   "metadata": {},
   "outputs": [
    {
     "data": {
      "text/html": [
       "\n",
       "\n",
       "\n",
       "\n",
       "\n",
       "\n",
       "  <div class=\"bk-root\" id=\"68aa6940-5cc5-489e-a42b-ce3e1a50ec08\" data-root-id=\"5493\"></div>\n"
      ]
     },
     "metadata": {},
     "output_type": "display_data"
    },
    {
     "data": {
      "application/javascript": [
       "(function(root) {\n",
       "  function embed_document(root) {\n",
       "    \n",
       "  var docs_json = {\"5a8584fa-89f7-4b90-a06b-86341fad3b5a\":{\"roots\":{\"references\":[{\"attributes\":{\"below\":[{\"id\":\"5503\",\"type\":\"CategoricalAxis\"}],\"left\":[{\"id\":\"5507\",\"type\":\"LinearAxis\"}],\"outline_line_color\":{\"value\":null},\"plot_height\":350,\"renderers\":[{\"id\":\"5503\",\"type\":\"CategoricalAxis\"},{\"id\":\"5506\",\"type\":\"Grid\"},{\"id\":\"5507\",\"type\":\"LinearAxis\"},{\"id\":\"5511\",\"type\":\"Grid\"},{\"id\":\"5520\",\"type\":\"BoxAnnotation\"},{\"id\":\"5544\",\"type\":\"Legend\"},{\"id\":\"5536\",\"type\":\"GlyphRenderer\"},{\"id\":\"5549\",\"type\":\"GlyphRenderer\"},{\"id\":\"5563\",\"type\":\"GlyphRenderer\"}],\"title\":{\"id\":\"5492\",\"type\":\"Title\"},\"toolbar\":{\"id\":\"5518\",\"type\":\"Toolbar\"},\"x_range\":{\"id\":\"5495\",\"type\":\"FactorRange\"},\"x_scale\":{\"id\":\"5499\",\"type\":\"CategoricalScale\"},\"y_range\":{\"id\":\"5497\",\"type\":\"DataRange1d\"},\"y_scale\":{\"id\":\"5501\",\"type\":\"LinearScale\"}},\"id\":\"5493\",\"subtype\":\"Figure\",\"type\":\"Plot\"},{\"attributes\":{\"fields\":[]},\"id\":\"5527\",\"type\":\"Stack\"},{\"attributes\":{},\"id\":\"5513\",\"type\":\"WheelZoomTool\"},{\"attributes\":{},\"id\":\"5515\",\"type\":\"SaveTool\"},{\"attributes\":{},\"id\":\"5557\",\"type\":\"UnionRenderers\"},{\"attributes\":{\"bottom_units\":\"screen\",\"fill_alpha\":{\"value\":0.5},\"fill_color\":{\"value\":\"lightgrey\"},\"left_units\":\"screen\",\"level\":\"overlay\",\"line_alpha\":{\"value\":1.0},\"line_color\":{\"value\":\"black\"},\"line_dash\":[4,4],\"line_width\":{\"value\":2},\"plot\":null,\"render_mode\":\"css\",\"right_units\":\"screen\",\"top_units\":\"screen\"},\"id\":\"5520\",\"type\":\"BoxAnnotation\"},{\"attributes\":{},\"id\":\"5517\",\"type\":\"HelpTool\"},{\"attributes\":{\"label\":{\"value\":\"2016\"},\"renderers\":[{\"id\":\"5549\",\"type\":\"GlyphRenderer\"}]},\"id\":\"5559\",\"type\":\"LegendItem\"},{\"attributes\":{\"callback\":null,\"factors\":[\"Apples\",\"Pears\",\"Nectarines\",\"Plums\",\"Grapes\",\"Strawberries\"]},\"id\":\"5495\",\"type\":\"FactorRange\"},{\"attributes\":{\"data_source\":{\"id\":\"5491\",\"type\":\"ColumnDataSource\"},\"glyph\":{\"id\":\"5534\",\"type\":\"VBar\"},\"hover_glyph\":null,\"muted_glyph\":null,\"name\":\"2015\",\"nonselection_glyph\":{\"id\":\"5535\",\"type\":\"VBar\"},\"selection_glyph\":null,\"view\":{\"id\":\"5537\",\"type\":\"CDSView\"}},\"id\":\"5536\",\"type\":\"GlyphRenderer\"},{\"attributes\":{\"source\":{\"id\":\"5491\",\"type\":\"ColumnDataSource\"}},\"id\":\"5550\",\"type\":\"CDSView\"},{\"attributes\":{},\"id\":\"5516\",\"type\":\"ResetTool\"},{\"attributes\":{\"fields\":[\"2015\",\"2016\"]},\"id\":\"5530\",\"type\":\"Stack\"},{\"attributes\":{\"grid_line_color\":{\"value\":null},\"plot\":{\"id\":\"5493\",\"subtype\":\"Figure\",\"type\":\"Plot\"},\"ticker\":{\"id\":\"5504\",\"type\":\"CategoricalTicker\"}},\"id\":\"5506\",\"type\":\"Grid\"},{\"attributes\":{\"fields\":[\"2015\"]},\"id\":\"5528\",\"type\":\"Stack\"},{\"attributes\":{},\"id\":\"5504\",\"type\":\"CategoricalTicker\"},{\"attributes\":{\"active_drag\":\"auto\",\"active_inspect\":\"auto\",\"active_multi\":null,\"active_scroll\":\"auto\",\"active_tap\":\"auto\",\"tools\":[{\"id\":\"5512\",\"type\":\"PanTool\"},{\"id\":\"5513\",\"type\":\"WheelZoomTool\"},{\"id\":\"5514\",\"type\":\"BoxZoomTool\"},{\"id\":\"5515\",\"type\":\"SaveTool\"},{\"id\":\"5516\",\"type\":\"ResetTool\"},{\"id\":\"5517\",\"type\":\"HelpTool\"}]},\"id\":\"5518\",\"type\":\"Toolbar\"},{\"attributes\":{\"label\":{\"value\":\"2017\"},\"renderers\":[{\"id\":\"5563\",\"type\":\"GlyphRenderer\"}]},\"id\":\"5573\",\"type\":\"LegendItem\"},{\"attributes\":{\"fields\":[\"2015\",\"2016\"]},\"id\":\"5531\",\"type\":\"Stack\"},{\"attributes\":{},\"id\":\"5539\",\"type\":\"CategoricalTickFormatter\"},{\"attributes\":{\"formatter\":{\"id\":\"5539\",\"type\":\"CategoricalTickFormatter\"},\"minor_tick_line_color\":{\"value\":null},\"plot\":{\"id\":\"5493\",\"subtype\":\"Figure\",\"type\":\"Plot\"},\"ticker\":{\"id\":\"5504\",\"type\":\"CategoricalTicker\"}},\"id\":\"5503\",\"type\":\"CategoricalAxis\"},{\"attributes\":{},\"id\":\"5512\",\"type\":\"PanTool\"},{\"attributes\":{},\"id\":\"5501\",\"type\":\"LinearScale\"},{\"attributes\":{\"items\":[{\"id\":\"5545\",\"type\":\"LegendItem\"},{\"id\":\"5559\",\"type\":\"LegendItem\"},{\"id\":\"5573\",\"type\":\"LegendItem\"}],\"location\":\"top_left\",\"orientation\":\"horizontal\",\"plot\":{\"id\":\"5493\",\"subtype\":\"Figure\",\"type\":\"Plot\"}},\"id\":\"5544\",\"type\":\"Legend\"},{\"attributes\":{\"bottom\":{\"expr\":{\"id\":\"5527\",\"type\":\"Stack\"}},\"fill_color\":{\"value\":\"#c9d9d3\"},\"line_color\":{\"value\":\"#c9d9d3\"},\"top\":{\"expr\":{\"id\":\"5528\",\"type\":\"Stack\"}},\"width\":{\"value\":0.9},\"x\":{\"field\":\"fruits\"}},\"id\":\"5534\",\"type\":\"VBar\"},{\"attributes\":{},\"id\":\"5499\",\"type\":\"CategoricalScale\"},{\"attributes\":{},\"id\":\"5541\",\"type\":\"BasicTickFormatter\"},{\"attributes\":{\"data_source\":{\"id\":\"5491\",\"type\":\"ColumnDataSource\"},\"glyph\":{\"id\":\"5561\",\"type\":\"VBar\"},\"hover_glyph\":null,\"muted_glyph\":null,\"name\":\"2017\",\"nonselection_glyph\":{\"id\":\"5562\",\"type\":\"VBar\"},\"selection_glyph\":null,\"view\":{\"id\":\"5564\",\"type\":\"CDSView\"}},\"id\":\"5563\",\"type\":\"GlyphRenderer\"},{\"attributes\":{\"bottom\":{\"expr\":{\"id\":\"5527\",\"type\":\"Stack\"}},\"fill_alpha\":{\"value\":0.1},\"fill_color\":{\"value\":\"#1f77b4\"},\"line_alpha\":{\"value\":0.1},\"line_color\":{\"value\":\"#1f77b4\"},\"top\":{\"expr\":{\"id\":\"5528\",\"type\":\"Stack\"}},\"width\":{\"value\":0.9},\"x\":{\"field\":\"fruits\"}},\"id\":\"5535\",\"type\":\"VBar\"},{\"attributes\":{\"source\":{\"id\":\"5491\",\"type\":\"ColumnDataSource\"}},\"id\":\"5537\",\"type\":\"CDSView\"},{\"attributes\":{\"label\":{\"value\":\"2015\"},\"renderers\":[{\"id\":\"5536\",\"type\":\"GlyphRenderer\"}]},\"id\":\"5545\",\"type\":\"LegendItem\"},{\"attributes\":{\"formatter\":{\"id\":\"5541\",\"type\":\"BasicTickFormatter\"},\"minor_tick_line_color\":{\"value\":null},\"plot\":{\"id\":\"5493\",\"subtype\":\"Figure\",\"type\":\"Plot\"},\"ticker\":{\"id\":\"5508\",\"type\":\"BasicTicker\"}},\"id\":\"5507\",\"type\":\"LinearAxis\"},{\"attributes\":{\"fields\":[\"2015\"]},\"id\":\"5529\",\"type\":\"Stack\"},{\"attributes\":{\"data_source\":{\"id\":\"5491\",\"type\":\"ColumnDataSource\"},\"glyph\":{\"id\":\"5547\",\"type\":\"VBar\"},\"hover_glyph\":null,\"muted_glyph\":null,\"name\":\"2016\",\"nonselection_glyph\":{\"id\":\"5548\",\"type\":\"VBar\"},\"selection_glyph\":null,\"view\":{\"id\":\"5550\",\"type\":\"CDSView\"}},\"id\":\"5549\",\"type\":\"GlyphRenderer\"},{\"attributes\":{\"plot\":null,\"text\":\"Fruit Counts by Year\"},\"id\":\"5492\",\"type\":\"Title\"},{\"attributes\":{\"callback\":null},\"id\":\"5497\",\"type\":\"DataRange1d\"},{\"attributes\":{\"source\":{\"id\":\"5491\",\"type\":\"ColumnDataSource\"}},\"id\":\"5564\",\"type\":\"CDSView\"},{\"attributes\":{\"callback\":null,\"data\":{\"2015\":[2,1,4,3,2,4],\"2016\":[5,3,4,2,4,6],\"2017\":[3,2,4,4,5,3],\"fruits\":[\"Apples\",\"Pears\",\"Nectarines\",\"Plums\",\"Grapes\",\"Strawberries\"]},\"selected\":{\"id\":\"5558\",\"type\":\"Selection\"},\"selection_policy\":{\"id\":\"5557\",\"type\":\"UnionRenderers\"}},\"id\":\"5491\",\"type\":\"ColumnDataSource\"},{\"attributes\":{\"bottom\":{\"expr\":{\"id\":\"5531\",\"type\":\"Stack\"}},\"fill_color\":{\"value\":\"#e84d60\"},\"line_color\":{\"value\":\"#e84d60\"},\"top\":{\"expr\":{\"id\":\"5532\",\"type\":\"Stack\"}},\"width\":{\"value\":0.9},\"x\":{\"field\":\"fruits\"}},\"id\":\"5561\",\"type\":\"VBar\"},{\"attributes\":{\"fields\":[\"2015\",\"2016\",\"2017\"]},\"id\":\"5532\",\"type\":\"Stack\"},{\"attributes\":{},\"id\":\"5558\",\"type\":\"Selection\"},{\"attributes\":{\"dimension\":1,\"plot\":{\"id\":\"5493\",\"subtype\":\"Figure\",\"type\":\"Plot\"},\"ticker\":{\"id\":\"5508\",\"type\":\"BasicTicker\"}},\"id\":\"5511\",\"type\":\"Grid\"},{\"attributes\":{\"bottom\":{\"expr\":{\"id\":\"5531\",\"type\":\"Stack\"}},\"fill_alpha\":{\"value\":0.1},\"fill_color\":{\"value\":\"#1f77b4\"},\"line_alpha\":{\"value\":0.1},\"line_color\":{\"value\":\"#1f77b4\"},\"top\":{\"expr\":{\"id\":\"5532\",\"type\":\"Stack\"}},\"width\":{\"value\":0.9},\"x\":{\"field\":\"fruits\"}},\"id\":\"5562\",\"type\":\"VBar\"},{\"attributes\":{},\"id\":\"5508\",\"type\":\"BasicTicker\"},{\"attributes\":{\"overlay\":{\"id\":\"5520\",\"type\":\"BoxAnnotation\"}},\"id\":\"5514\",\"type\":\"BoxZoomTool\"},{\"attributes\":{\"bottom\":{\"expr\":{\"id\":\"5529\",\"type\":\"Stack\"}},\"fill_alpha\":{\"value\":0.1},\"fill_color\":{\"value\":\"#1f77b4\"},\"line_alpha\":{\"value\":0.1},\"line_color\":{\"value\":\"#1f77b4\"},\"top\":{\"expr\":{\"id\":\"5530\",\"type\":\"Stack\"}},\"width\":{\"value\":0.9},\"x\":{\"field\":\"fruits\"}},\"id\":\"5548\",\"type\":\"VBar\"},{\"attributes\":{\"bottom\":{\"expr\":{\"id\":\"5529\",\"type\":\"Stack\"}},\"fill_color\":{\"value\":\"#718dbf\"},\"line_color\":{\"value\":\"#718dbf\"},\"top\":{\"expr\":{\"id\":\"5530\",\"type\":\"Stack\"}},\"width\":{\"value\":0.9},\"x\":{\"field\":\"fruits\"}},\"id\":\"5547\",\"type\":\"VBar\"}],\"root_ids\":[\"5493\"]},\"title\":\"Bokeh Application\",\"version\":\"1.0.4\"}};\n",
       "  var render_items = [{\"docid\":\"5a8584fa-89f7-4b90-a06b-86341fad3b5a\",\"roots\":{\"5493\":\"68aa6940-5cc5-489e-a42b-ce3e1a50ec08\"}}];\n",
       "  root.Bokeh.embed.embed_items_notebook(docs_json, render_items);\n",
       "\n",
       "  }\n",
       "  if (root.Bokeh !== undefined) {\n",
       "    embed_document(root);\n",
       "  } else {\n",
       "    var attempts = 0;\n",
       "    var timer = setInterval(function(root) {\n",
       "      if (root.Bokeh !== undefined) {\n",
       "        embed_document(root);\n",
       "        clearInterval(timer);\n",
       "      }\n",
       "      attempts++;\n",
       "      if (attempts > 100) {\n",
       "        console.log(\"Bokeh: ERROR: Unable to run BokehJS code because BokehJS library is missing\");\n",
       "        clearInterval(timer);\n",
       "      }\n",
       "    }, 10, root)\n",
       "  }\n",
       "})(window);"
      ],
      "application/vnd.bokehjs_exec.v0+json": ""
     },
     "metadata": {
      "application/vnd.bokehjs_exec.v0+json": {
       "id": "5493"
      }
     },
     "output_type": "display_data"
    }
   ],
   "source": [
    "# 3、堆叠图\n",
    "\n",
    "from bokeh.core.properties import value\n",
    "# 导入value模块\n",
    "\n",
    "fruits = ['Apples', 'Pears', 'Nectarines', 'Plums', 'Grapes', 'Strawberries']\n",
    "years = [\"2015\", \"2016\", \"2017\"]\n",
    "colors = [\"#c9d9d3\", \"#718dbf\", \"#e84d60\"]\n",
    "data = {'fruits' : fruits,\n",
    "        '2015'   : [2, 1, 4, 3, 2, 4],\n",
    "        '2016'   : [5, 3, 4, 2, 4, 6],\n",
    "        '2017'   : [3, 2, 4, 4, 5, 3]}\n",
    "source = ColumnDataSource(data=data)\n",
    "# 创建数据\n",
    "\n",
    "p = figure(x_range=fruits,plot_height=350,title = 'Fruit Counts by Year')\n",
    "renderers = p.vbar_stack(years,          # 设置堆叠值，这里source中包含了不同年份的值，years变量用于识别不同堆叠层\n",
    "                         x='fruits',     # 设置x坐标\n",
    "                         source=source,\n",
    "                         width=0.9, color=colors,\n",
    "                         legend=[value(x) for x in years], name=years)\n",
    "# 绘制堆叠图\n",
    "# 注意第一个参数需要放years\n",
    "\n",
    "p.xgrid.grid_line_color = None\n",
    "p.axis.minor_tick_line_color = None\n",
    "p.outline_line_color = None\n",
    "p.legend.location = \"top_left\"\n",
    "p.legend.orientation = \"horizontal\"\n",
    "# 设置其他参数\n",
    "\n",
    "show(p)"
   ]
  },
  {
   "cell_type": "code",
   "execution_count": 23,
   "metadata": {},
   "outputs": [
    {
     "data": {
      "text/html": [
       "\n",
       "\n",
       "\n",
       "\n",
       "\n",
       "\n",
       "  <div class=\"bk-root\" id=\"86501a86-3481-43db-a189-9ec0677cbfac\" data-root-id=\"5840\"></div>\n"
      ]
     },
     "metadata": {},
     "output_type": "display_data"
    },
    {
     "data": {
      "application/javascript": [
       "(function(root) {\n",
       "  function embed_document(root) {\n",
       "    \n",
       "  var docs_json = {\"5fae80df-ce02-43b5-80fd-1b15f2d17c45\":{\"roots\":{\"references\":[{\"attributes\":{\"below\":[{\"id\":\"5850\",\"type\":\"LinearAxis\"}],\"left\":[{\"id\":\"5855\",\"type\":\"CategoricalAxis\"}],\"outline_line_color\":{\"value\":null},\"plot_height\":350,\"renderers\":[{\"id\":\"5850\",\"type\":\"LinearAxis\"},{\"id\":\"5854\",\"type\":\"Grid\"},{\"id\":\"5855\",\"type\":\"CategoricalAxis\"},{\"id\":\"5858\",\"type\":\"Grid\"},{\"id\":\"5867\",\"type\":\"BoxAnnotation\"},{\"id\":\"5892\",\"type\":\"Legend\"},{\"id\":\"5884\",\"type\":\"GlyphRenderer\"},{\"id\":\"5897\",\"type\":\"GlyphRenderer\"},{\"id\":\"5911\",\"type\":\"GlyphRenderer\"},{\"id\":\"5932\",\"type\":\"GlyphRenderer\"},{\"id\":\"5946\",\"type\":\"GlyphRenderer\"},{\"id\":\"5962\",\"type\":\"GlyphRenderer\"}],\"title\":{\"id\":\"5839\",\"type\":\"Title\"},\"toolbar\":{\"id\":\"5865\",\"type\":\"Toolbar\"},\"x_range\":{\"id\":\"5842\",\"type\":\"Range1d\"},\"x_scale\":{\"id\":\"5846\",\"type\":\"LinearScale\"},\"y_range\":{\"id\":\"5844\",\"type\":\"FactorRange\"},\"y_scale\":{\"id\":\"5848\",\"type\":\"CategoricalScale\"}},\"id\":\"5840\",\"subtype\":\"Figure\",\"type\":\"Plot\"},{\"attributes\":{},\"id\":\"5889\",\"type\":\"CategoricalTickFormatter\"},{\"attributes\":{},\"id\":\"5956\",\"type\":\"UnionRenderers\"},{\"attributes\":{\"fill_color\":{\"value\":\"#e34a33\"},\"height\":{\"value\":0.9},\"left\":{\"expr\":{\"id\":\"5923\",\"type\":\"Stack\"}},\"line_color\":{\"value\":\"#e34a33\"},\"right\":{\"expr\":{\"id\":\"5924\",\"type\":\"Stack\"}},\"y\":{\"field\":\"fruits\"}},\"id\":\"5930\",\"type\":\"HBar\"},{\"attributes\":{},\"id\":\"5906\",\"type\":\"Selection\"},{\"attributes\":{\"data_source\":{\"id\":\"5922\",\"type\":\"ColumnDataSource\"},\"glyph\":{\"id\":\"5930\",\"type\":\"HBar\"},\"hover_glyph\":null,\"muted_glyph\":null,\"name\":\"2015\",\"nonselection_glyph\":{\"id\":\"5931\",\"type\":\"HBar\"},\"selection_glyph\":null,\"view\":{\"id\":\"5933\",\"type\":\"CDSView\"}},\"id\":\"5932\",\"type\":\"GlyphRenderer\"},{\"attributes\":{},\"id\":\"5957\",\"type\":\"Selection\"},{\"attributes\":{},\"id\":\"5851\",\"type\":\"BasicTicker\"},{\"attributes\":{},\"id\":\"5905\",\"type\":\"UnionRenderers\"},{\"attributes\":{\"overlay\":{\"id\":\"5867\",\"type\":\"BoxAnnotation\"}},\"id\":\"5861\",\"type\":\"BoxZoomTool\"},{\"attributes\":{\"label\":{\"value\":\"2016 imports\"},\"renderers\":[{\"id\":\"5946\",\"type\":\"GlyphRenderer\"}]},\"id\":\"5958\",\"type\":\"LegendItem\"},{\"attributes\":{\"source\":{\"id\":\"5874\",\"type\":\"ColumnDataSource\"}},\"id\":\"5885\",\"type\":\"CDSView\"},{\"attributes\":{\"source\":{\"id\":\"5922\",\"type\":\"ColumnDataSource\"}},\"id\":\"5947\",\"type\":\"CDSView\"},{\"attributes\":{\"fields\":[]},\"id\":\"5923\",\"type\":\"Stack\"},{\"attributes\":{},\"id\":\"5846\",\"type\":\"LinearScale\"},{\"attributes\":{\"fill_alpha\":{\"value\":0.1},\"fill_color\":{\"value\":\"#1f77b4\"},\"height\":{\"value\":0.9},\"left\":{\"expr\":{\"id\":\"5875\",\"type\":\"Stack\"}},\"line_alpha\":{\"value\":0.1},\"line_color\":{\"value\":\"#1f77b4\"},\"right\":{\"expr\":{\"id\":\"5876\",\"type\":\"Stack\"}},\"y\":{\"field\":\"fruits\"}},\"id\":\"5883\",\"type\":\"HBar\"},{\"attributes\":{\"fill_color\":{\"value\":\"#a8ddb5\"},\"height\":{\"value\":0.9},\"left\":{\"expr\":{\"id\":\"5877\",\"type\":\"Stack\"}},\"line_color\":{\"value\":\"#a8ddb5\"},\"right\":{\"expr\":{\"id\":\"5878\",\"type\":\"Stack\"}},\"y\":{\"field\":\"fruits\"}},\"id\":\"5895\",\"type\":\"HBar\"},{\"attributes\":{\"fill_alpha\":{\"value\":0.1},\"fill_color\":{\"value\":\"#1f77b4\"},\"height\":{\"value\":0.9},\"left\":{\"expr\":{\"id\":\"5877\",\"type\":\"Stack\"}},\"line_alpha\":{\"value\":0.1},\"line_color\":{\"value\":\"#1f77b4\"},\"right\":{\"expr\":{\"id\":\"5878\",\"type\":\"Stack\"}},\"y\":{\"field\":\"fruits\"}},\"id\":\"5896\",\"type\":\"HBar\"},{\"attributes\":{\"fields\":[\"2015\",\"2016\"]},\"id\":\"5927\",\"type\":\"Stack\"},{\"attributes\":{\"fill_color\":{\"value\":\"#fee8c8\"},\"height\":{\"value\":0.9},\"left\":{\"expr\":{\"id\":\"5927\",\"type\":\"Stack\"}},\"line_color\":{\"value\":\"#fee8c8\"},\"right\":{\"expr\":{\"id\":\"5928\",\"type\":\"Stack\"}},\"y\":{\"field\":\"fruits\"}},\"id\":\"5960\",\"type\":\"HBar\"},{\"attributes\":{\"fields\":[\"2015\",\"2016\"]},\"id\":\"5878\",\"type\":\"Stack\"},{\"attributes\":{\"fill_alpha\":{\"value\":0.1},\"fill_color\":{\"value\":\"#1f77b4\"},\"height\":{\"value\":0.9},\"left\":{\"expr\":{\"id\":\"5923\",\"type\":\"Stack\"}},\"line_alpha\":{\"value\":0.1},\"line_color\":{\"value\":\"#1f77b4\"},\"right\":{\"expr\":{\"id\":\"5924\",\"type\":\"Stack\"}},\"y\":{\"field\":\"fruits\"}},\"id\":\"5931\",\"type\":\"HBar\"},{\"attributes\":{\"fill_alpha\":{\"value\":0.1},\"fill_color\":{\"value\":\"#1f77b4\"},\"height\":{\"value\":0.9},\"left\":{\"expr\":{\"id\":\"5925\",\"type\":\"Stack\"}},\"line_alpha\":{\"value\":0.1},\"line_color\":{\"value\":\"#1f77b4\"},\"right\":{\"expr\":{\"id\":\"5926\",\"type\":\"Stack\"}},\"y\":{\"field\":\"fruits\"}},\"id\":\"5945\",\"type\":\"HBar\"},{\"attributes\":{\"fill_alpha\":{\"value\":0.1},\"fill_color\":{\"value\":\"#1f77b4\"},\"height\":{\"value\":0.9},\"left\":{\"expr\":{\"id\":\"5927\",\"type\":\"Stack\"}},\"line_alpha\":{\"value\":0.1},\"line_color\":{\"value\":\"#1f77b4\"},\"right\":{\"expr\":{\"id\":\"5928\",\"type\":\"Stack\"}},\"y\":{\"field\":\"fruits\"}},\"id\":\"5961\",\"type\":\"HBar\"},{\"attributes\":{\"data_source\":{\"id\":\"5922\",\"type\":\"ColumnDataSource\"},\"glyph\":{\"id\":\"5960\",\"type\":\"HBar\"},\"hover_glyph\":null,\"muted_glyph\":null,\"name\":\"2017\",\"nonselection_glyph\":{\"id\":\"5961\",\"type\":\"HBar\"},\"selection_glyph\":null,\"view\":{\"id\":\"5963\",\"type\":\"CDSView\"}},\"id\":\"5962\",\"type\":\"GlyphRenderer\"},{\"attributes\":{\"fields\":[\"2015\",\"2016\",\"2017\"]},\"id\":\"5880\",\"type\":\"Stack\"},{\"attributes\":{\"label\":{\"value\":\"2016 exports\"},\"renderers\":[{\"id\":\"5897\",\"type\":\"GlyphRenderer\"}]},\"id\":\"5907\",\"type\":\"LegendItem\"},{\"attributes\":{\"source\":{\"id\":\"5922\",\"type\":\"ColumnDataSource\"}},\"id\":\"5963\",\"type\":\"CDSView\"},{\"attributes\":{\"active_drag\":\"auto\",\"active_inspect\":\"auto\",\"active_multi\":null,\"active_scroll\":\"auto\",\"active_tap\":\"auto\",\"tools\":[{\"id\":\"5859\",\"type\":\"PanTool\"},{\"id\":\"5860\",\"type\":\"WheelZoomTool\"},{\"id\":\"5861\",\"type\":\"BoxZoomTool\"},{\"id\":\"5862\",\"type\":\"SaveTool\"},{\"id\":\"5863\",\"type\":\"ResetTool\"},{\"id\":\"5864\",\"type\":\"HelpTool\"}]},\"id\":\"5865\",\"type\":\"Toolbar\"},{\"attributes\":{\"data_source\":{\"id\":\"5874\",\"type\":\"ColumnDataSource\"},\"glyph\":{\"id\":\"5909\",\"type\":\"HBar\"},\"hover_glyph\":null,\"muted_glyph\":null,\"name\":\"2017\",\"nonselection_glyph\":{\"id\":\"5910\",\"type\":\"HBar\"},\"selection_glyph\":null,\"view\":{\"id\":\"5912\",\"type\":\"CDSView\"}},\"id\":\"5911\",\"type\":\"GlyphRenderer\"},{\"attributes\":{\"label\":{\"value\":\"2015 exports\"},\"renderers\":[{\"id\":\"5884\",\"type\":\"GlyphRenderer\"}]},\"id\":\"5893\",\"type\":\"LegendItem\"},{\"attributes\":{\"fields\":[\"2015\",\"2016\",\"2017\"]},\"id\":\"5928\",\"type\":\"Stack\"},{\"attributes\":{\"bottom_units\":\"screen\",\"fill_alpha\":{\"value\":0.5},\"fill_color\":{\"value\":\"lightgrey\"},\"left_units\":\"screen\",\"level\":\"overlay\",\"line_alpha\":{\"value\":1.0},\"line_color\":{\"value\":\"black\"},\"line_dash\":[4,4],\"line_width\":{\"value\":2},\"plot\":null,\"render_mode\":\"css\",\"right_units\":\"screen\",\"top_units\":\"screen\"},\"id\":\"5867\",\"type\":\"BoxAnnotation\"},{\"attributes\":{},\"id\":\"5862\",\"type\":\"SaveTool\"},{\"attributes\":{\"label\":{\"value\":\"2015 imports\"},\"renderers\":[{\"id\":\"5932\",\"type\":\"GlyphRenderer\"}]},\"id\":\"5942\",\"type\":\"LegendItem\"},{\"attributes\":{\"plot\":{\"id\":\"5840\",\"subtype\":\"Figure\",\"type\":\"Plot\"},\"ticker\":{\"id\":\"5851\",\"type\":\"BasicTicker\"}},\"id\":\"5854\",\"type\":\"Grid\"},{\"attributes\":{},\"id\":\"5863\",\"type\":\"ResetTool\"},{\"attributes\":{\"fields\":[\"2015\",\"2016\"]},\"id\":\"5926\",\"type\":\"Stack\"},{\"attributes\":{\"fill_alpha\":{\"value\":0.1},\"fill_color\":{\"value\":\"#1f77b4\"},\"height\":{\"value\":0.9},\"left\":{\"expr\":{\"id\":\"5879\",\"type\":\"Stack\"}},\"line_alpha\":{\"value\":0.1},\"line_color\":{\"value\":\"#1f77b4\"},\"right\":{\"expr\":{\"id\":\"5880\",\"type\":\"Stack\"}},\"y\":{\"field\":\"fruits\"}},\"id\":\"5910\",\"type\":\"HBar\"},{\"attributes\":{},\"id\":\"5859\",\"type\":\"PanTool\"},{\"attributes\":{\"fill_color\":{\"value\":\"#e0f3db\"},\"height\":{\"value\":0.9},\"left\":{\"expr\":{\"id\":\"5879\",\"type\":\"Stack\"}},\"line_color\":{\"value\":\"#e0f3db\"},\"right\":{\"expr\":{\"id\":\"5880\",\"type\":\"Stack\"}},\"y\":{\"field\":\"fruits\"}},\"id\":\"5909\",\"type\":\"HBar\"},{\"attributes\":{\"source\":{\"id\":\"5874\",\"type\":\"ColumnDataSource\"}},\"id\":\"5898\",\"type\":\"CDSView\"},{\"attributes\":{\"formatter\":{\"id\":\"5889\",\"type\":\"CategoricalTickFormatter\"},\"minor_tick_line_color\":{\"value\":null},\"plot\":{\"id\":\"5840\",\"subtype\":\"Figure\",\"type\":\"Plot\"},\"ticker\":{\"id\":\"5856\",\"type\":\"CategoricalTicker\"}},\"id\":\"5855\",\"type\":\"CategoricalAxis\"},{\"attributes\":{\"fields\":[\"2015\",\"2016\"]},\"id\":\"5879\",\"type\":\"Stack\"},{\"attributes\":{},\"id\":\"5860\",\"type\":\"WheelZoomTool\"},{\"attributes\":{\"source\":{\"id\":\"5874\",\"type\":\"ColumnDataSource\"}},\"id\":\"5912\",\"type\":\"CDSView\"},{\"attributes\":{\"fields\":[\"2015\"]},\"id\":\"5877\",\"type\":\"Stack\"},{\"attributes\":{},\"id\":\"5848\",\"type\":\"CategoricalScale\"},{\"attributes\":{},\"id\":\"5887\",\"type\":\"BasicTickFormatter\"},{\"attributes\":{\"fields\":[\"2015\"]},\"id\":\"5876\",\"type\":\"Stack\"},{\"attributes\":{\"data_source\":{\"id\":\"5922\",\"type\":\"ColumnDataSource\"},\"glyph\":{\"id\":\"5944\",\"type\":\"HBar\"},\"hover_glyph\":null,\"muted_glyph\":null,\"name\":\"2016\",\"nonselection_glyph\":{\"id\":\"5945\",\"type\":\"HBar\"},\"selection_glyph\":null,\"view\":{\"id\":\"5947\",\"type\":\"CDSView\"}},\"id\":\"5946\",\"type\":\"GlyphRenderer\"},{\"attributes\":{\"fields\":[]},\"id\":\"5875\",\"type\":\"Stack\"},{\"attributes\":{\"fill_color\":{\"value\":\"#43a2ca\"},\"height\":{\"value\":0.9},\"left\":{\"expr\":{\"id\":\"5875\",\"type\":\"Stack\"}},\"line_color\":{\"value\":\"#43a2ca\"},\"right\":{\"expr\":{\"id\":\"5876\",\"type\":\"Stack\"}},\"y\":{\"field\":\"fruits\"}},\"id\":\"5882\",\"type\":\"HBar\"},{\"attributes\":{},\"id\":\"5856\",\"type\":\"CategoricalTicker\"},{\"attributes\":{\"label\":{\"value\":\"2017 exports\"},\"renderers\":[{\"id\":\"5911\",\"type\":\"GlyphRenderer\"}]},\"id\":\"5921\",\"type\":\"LegendItem\"},{\"attributes\":{\"callback\":null,\"data\":{\"2015\":[2,1,4,3,2,4],\"2016\":[5,3,4,2,4,6],\"2017\":[3,2,4,4,5,3],\"fruits\":[\"Apples\",\"Pears\",\"Nectarines\",\"Plums\",\"Grapes\",\"Strawberries\"]},\"selected\":{\"id\":\"5906\",\"type\":\"Selection\"},\"selection_policy\":{\"id\":\"5905\",\"type\":\"UnionRenderers\"}},\"id\":\"5874\",\"type\":\"ColumnDataSource\"},{\"attributes\":{\"source\":{\"id\":\"5922\",\"type\":\"ColumnDataSource\"}},\"id\":\"5933\",\"type\":\"CDSView\"},{\"attributes\":{\"fields\":[\"2015\"]},\"id\":\"5925\",\"type\":\"Stack\"},{\"attributes\":{\"items\":[{\"id\":\"5893\",\"type\":\"LegendItem\"},{\"id\":\"5907\",\"type\":\"LegendItem\"},{\"id\":\"5921\",\"type\":\"LegendItem\"},{\"id\":\"5942\",\"type\":\"LegendItem\"},{\"id\":\"5958\",\"type\":\"LegendItem\"},{\"id\":\"5974\",\"type\":\"LegendItem\"}],\"location\":\"top_left\",\"plot\":{\"id\":\"5840\",\"subtype\":\"Figure\",\"type\":\"Plot\"}},\"id\":\"5892\",\"type\":\"Legend\"},{\"attributes\":{\"formatter\":{\"id\":\"5887\",\"type\":\"BasicTickFormatter\"},\"minor_tick_line_color\":{\"value\":null},\"plot\":{\"id\":\"5840\",\"subtype\":\"Figure\",\"type\":\"Plot\"},\"ticker\":{\"id\":\"5851\",\"type\":\"BasicTicker\"}},\"id\":\"5850\",\"type\":\"LinearAxis\"},{\"attributes\":{\"callback\":null,\"end\":16,\"start\":-16},\"id\":\"5842\",\"type\":\"Range1d\"},{\"attributes\":{\"data_source\":{\"id\":\"5874\",\"type\":\"ColumnDataSource\"},\"glyph\":{\"id\":\"5882\",\"type\":\"HBar\"},\"hover_glyph\":null,\"muted_glyph\":null,\"name\":\"2015\",\"nonselection_glyph\":{\"id\":\"5883\",\"type\":\"HBar\"},\"selection_glyph\":null,\"view\":{\"id\":\"5885\",\"type\":\"CDSView\"}},\"id\":\"5884\",\"type\":\"GlyphRenderer\"},{\"attributes\":{\"label\":{\"value\":\"2017 imports\"},\"renderers\":[{\"id\":\"5962\",\"type\":\"GlyphRenderer\"}]},\"id\":\"5974\",\"type\":\"LegendItem\"},{\"attributes\":{\"callback\":null,\"data\":{\"2015\":[-1,0,-1,-3,-2,-1],\"2016\":[-2,-1,-3,-1,-2,-2],\"2017\":[-1,-2,-1,0,-2,-2],\"fruits\":[\"Apples\",\"Pears\",\"Nectarines\",\"Plums\",\"Grapes\",\"Strawberries\"]},\"selected\":{\"id\":\"5957\",\"type\":\"Selection\"},\"selection_policy\":{\"id\":\"5956\",\"type\":\"UnionRenderers\"}},\"id\":\"5922\",\"type\":\"ColumnDataSource\"},{\"attributes\":{},\"id\":\"5864\",\"type\":\"HelpTool\"},{\"attributes\":{\"fill_color\":{\"value\":\"#fdbb84\"},\"height\":{\"value\":0.9},\"left\":{\"expr\":{\"id\":\"5925\",\"type\":\"Stack\"}},\"line_color\":{\"value\":\"#fdbb84\"},\"right\":{\"expr\":{\"id\":\"5926\",\"type\":\"Stack\"}},\"y\":{\"field\":\"fruits\"}},\"id\":\"5944\",\"type\":\"HBar\"},{\"attributes\":{\"fields\":[\"2015\"]},\"id\":\"5924\",\"type\":\"Stack\"},{\"attributes\":{\"callback\":null,\"factors\":[\"Apples\",\"Pears\",\"Nectarines\",\"Plums\",\"Grapes\",\"Strawberries\"],\"range_padding\":0.2},\"id\":\"5844\",\"type\":\"FactorRange\"},{\"attributes\":{\"plot\":null,\"text\":\"Fruit import/export, by year\"},\"id\":\"5839\",\"type\":\"Title\"},{\"attributes\":{\"data_source\":{\"id\":\"5874\",\"type\":\"ColumnDataSource\"},\"glyph\":{\"id\":\"5895\",\"type\":\"HBar\"},\"hover_glyph\":null,\"muted_glyph\":null,\"name\":\"2016\",\"nonselection_glyph\":{\"id\":\"5896\",\"type\":\"HBar\"},\"selection_glyph\":null,\"view\":{\"id\":\"5898\",\"type\":\"CDSView\"}},\"id\":\"5897\",\"type\":\"GlyphRenderer\"},{\"attributes\":{\"dimension\":1,\"grid_line_color\":{\"value\":null},\"plot\":{\"id\":\"5840\",\"subtype\":\"Figure\",\"type\":\"Plot\"},\"ticker\":{\"id\":\"5856\",\"type\":\"CategoricalTicker\"}},\"id\":\"5858\",\"type\":\"Grid\"}],\"root_ids\":[\"5840\"]},\"title\":\"Bokeh Application\",\"version\":\"1.0.4\"}};\n",
       "  var render_items = [{\"docid\":\"5fae80df-ce02-43b5-80fd-1b15f2d17c45\",\"roots\":{\"5840\":\"86501a86-3481-43db-a189-9ec0677cbfac\"}}];\n",
       "  root.Bokeh.embed.embed_items_notebook(docs_json, render_items);\n",
       "\n",
       "  }\n",
       "  if (root.Bokeh !== undefined) {\n",
       "    embed_document(root);\n",
       "  } else {\n",
       "    var attempts = 0;\n",
       "    var timer = setInterval(function(root) {\n",
       "      if (root.Bokeh !== undefined) {\n",
       "        embed_document(root);\n",
       "        clearInterval(timer);\n",
       "      }\n",
       "      attempts++;\n",
       "      if (attempts > 100) {\n",
       "        console.log(\"Bokeh: ERROR: Unable to run BokehJS code because BokehJS library is missing\");\n",
       "        clearInterval(timer);\n",
       "      }\n",
       "    }, 10, root)\n",
       "  }\n",
       "})(window);"
      ],
      "application/vnd.bokehjs_exec.v0+json": ""
     },
     "metadata": {
      "application/vnd.bokehjs_exec.v0+json": {
       "id": "5840"
      }
     },
     "output_type": "display_data"
    }
   ],
   "source": [
    "# 3、堆叠图\n",
    "\n",
    "from bokeh.palettes import GnBu3, OrRd3\n",
    "# 导入颜色模块\n",
    "\n",
    "fruits = ['Apples', 'Pears', 'Nectarines', 'Plums', 'Grapes', 'Strawberries']\n",
    "years = [\"2015\", \"2016\", \"2017\"]\n",
    "exports = {'fruits' : fruits,\n",
    "           '2015'   : [2, 1, 4, 3, 2, 4],\n",
    "           '2016'   : [5, 3, 4, 2, 4, 6],\n",
    "           '2017'   : [3, 2, 4, 4, 5, 3]}\n",
    "imports = {'fruits' : fruits,\n",
    "           '2015'   : [-1, 0, -1, -3, -2, -1],\n",
    "           '2016'   : [-2, -1, -3, -1, -2, -2],\n",
    "           '2017'   : [-1, -2, -1, 0, -2, -2]}\n",
    "\n",
    "p = figure(y_range=fruits, plot_height=350, x_range=(-16, 16), title=\"Fruit import/export, by year\")\n",
    "\n",
    "p.hbar_stack(years, y='fruits', height=0.9, color=GnBu3, source=ColumnDataSource(exports),\n",
    "             legend=[\"%s exports\" % x for x in years])      # 绘制出口数据堆叠图\n",
    "\n",
    "p.hbar_stack(years, y='fruits', height=0.9, color=OrRd3, source=ColumnDataSource(imports),\n",
    "             legend=[\"%s imports\" % x for x in years])      # 绘制进口数据堆叠图，这里值为负值\n",
    "\n",
    "p.y_range.range_padding = 0.2     # 调整边界间隔\n",
    "p.ygrid.grid_line_color = None   \n",
    "p.legend.location = \"top_left\"\n",
    "p.axis.minor_tick_line_color = None\n",
    "p.outline_line_color = None\n",
    "# 设置其他参数\n",
    "\n",
    "show(p)"
   ]
  },
  {
   "cell_type": "code",
   "execution_count": 24,
   "metadata": {},
   "outputs": [
    {
     "name": "stdout",
     "output_type": "stream",
     "text": [
      "            value\n",
      "index            \n",
      "0      -52.130105\n",
      "1      -54.627828\n",
      "2     -112.921748\n",
      "3      -21.712898\n",
      "4      -10.644461\n",
      "[ 3  1  3  8 21]\n",
      "[-336.84814776 -304.60180821 -272.35546867 -240.10912912 -207.86278958\n",
      " -175.61645003 -143.37011048 -111.12377094  -78.87743139  -46.63109185\n",
      "  -14.3847523    17.86158725   50.10792679   82.35426634  114.60060588\n",
      "  146.84694543  179.09328497  211.33962452  243.58596407  275.83230361\n",
      "  308.07864316]\n"
     ]
    },
    {
     "data": {
      "text/html": [
       "\n",
       "\n",
       "\n",
       "\n",
       "\n",
       "\n",
       "  <div class=\"bk-root\" id=\"d7e0ca13-c93b-4d33-937f-69ff0316067c\" data-root-id=\"6263\"></div>\n"
      ]
     },
     "metadata": {},
     "output_type": "display_data"
    },
    {
     "data": {
      "application/javascript": [
       "(function(root) {\n",
       "  function embed_document(root) {\n",
       "    \n",
       "  var docs_json = {\"6573f5aa-5433-41c5-8d70-718f79672195\":{\"roots\":{\"references\":[{\"attributes\":{\"background_fill_color\":{\"value\":\"#E8DDCB\"},\"below\":[{\"id\":\"6273\",\"type\":\"LinearAxis\"}],\"left\":[{\"id\":\"6278\",\"type\":\"LinearAxis\"}],\"renderers\":[{\"id\":\"6273\",\"type\":\"LinearAxis\"},{\"id\":\"6277\",\"type\":\"Grid\"},{\"id\":\"6278\",\"type\":\"LinearAxis\"},{\"id\":\"6282\",\"type\":\"Grid\"},{\"id\":\"6289\",\"type\":\"GlyphRenderer\"}],\"title\":{\"id\":\"6262\",\"type\":\"Title\"},\"toolbar\":{\"id\":\"6284\",\"type\":\"Toolbar\"},\"x_range\":{\"id\":\"6265\",\"type\":\"DataRange1d\"},\"x_scale\":{\"id\":\"6269\",\"type\":\"LinearScale\"},\"y_range\":{\"id\":\"6267\",\"type\":\"DataRange1d\"},\"y_scale\":{\"id\":\"6271\",\"type\":\"LinearScale\"}},\"id\":\"6263\",\"subtype\":\"Figure\",\"type\":\"Plot\"},{\"attributes\":{\"data_source\":{\"id\":\"6286\",\"type\":\"ColumnDataSource\"},\"glyph\":{\"id\":\"6287\",\"type\":\"Quad\"},\"hover_glyph\":null,\"muted_glyph\":null,\"nonselection_glyph\":{\"id\":\"6288\",\"type\":\"Quad\"},\"selection_glyph\":null,\"view\":{\"id\":\"6290\",\"type\":\"CDSView\"}},\"id\":\"6289\",\"type\":\"GlyphRenderer\"},{\"attributes\":{\"callback\":null},\"id\":\"6267\",\"type\":\"DataRange1d\"},{\"attributes\":{\"dimension\":1,\"plot\":{\"id\":\"6263\",\"subtype\":\"Figure\",\"type\":\"Plot\"},\"ticker\":{\"id\":\"6279\",\"type\":\"BasicTicker\"}},\"id\":\"6282\",\"type\":\"Grid\"},{\"attributes\":{},\"id\":\"6523\",\"type\":\"UnionRenderers\"},{\"attributes\":{\"callback\":null},\"id\":\"6265\",\"type\":\"DataRange1d\"},{\"attributes\":{},\"id\":\"6519\",\"type\":\"BasicTickFormatter\"},{\"attributes\":{\"plot\":{\"id\":\"6263\",\"subtype\":\"Figure\",\"type\":\"Plot\"},\"ticker\":{\"id\":\"6274\",\"type\":\"BasicTicker\"}},\"id\":\"6277\",\"type\":\"Grid\"},{\"attributes\":{},\"id\":\"6521\",\"type\":\"BasicTickFormatter\"},{\"attributes\":{},\"id\":\"6271\",\"type\":\"LinearScale\"},{\"attributes\":{\"formatter\":{\"id\":\"6521\",\"type\":\"BasicTickFormatter\"},\"plot\":{\"id\":\"6263\",\"subtype\":\"Figure\",\"type\":\"Plot\"},\"ticker\":{\"id\":\"6279\",\"type\":\"BasicTicker\"}},\"id\":\"6278\",\"type\":\"LinearAxis\"},{\"attributes\":{\"active_drag\":\"auto\",\"active_inspect\":\"auto\",\"active_multi\":null,\"active_scroll\":\"auto\",\"active_tap\":\"auto\",\"tools\":[{\"id\":\"6283\",\"type\":\"SaveTool\"}]},\"id\":\"6284\",\"type\":\"Toolbar\"},{\"attributes\":{\"bottom\":{\"value\":0},\"fill_color\":{\"value\":\"#036564\"},\"left\":{\"field\":\"left\"},\"line_color\":{\"value\":\"#033649\"},\"right\":{\"field\":\"right\"},\"top\":{\"field\":\"top\"}},\"id\":\"6287\",\"type\":\"Quad\"},{\"attributes\":{},\"id\":\"6269\",\"type\":\"LinearScale\"},{\"attributes\":{\"plot\":null,\"text\":\"HIST\"},\"id\":\"6262\",\"type\":\"Title\"},{\"attributes\":{},\"id\":\"6274\",\"type\":\"BasicTicker\"},{\"attributes\":{\"source\":{\"id\":\"6286\",\"type\":\"ColumnDataSource\"}},\"id\":\"6290\",\"type\":\"CDSView\"},{\"attributes\":{},\"id\":\"6279\",\"type\":\"BasicTicker\"},{\"attributes\":{\"formatter\":{\"id\":\"6519\",\"type\":\"BasicTickFormatter\"},\"plot\":{\"id\":\"6263\",\"subtype\":\"Figure\",\"type\":\"Plot\"},\"ticker\":{\"id\":\"6274\",\"type\":\"BasicTicker\"}},\"id\":\"6273\",\"type\":\"LinearAxis\"},{\"attributes\":{\"bottom\":{\"value\":0},\"fill_alpha\":{\"value\":0.1},\"fill_color\":{\"value\":\"#1f77b4\"},\"left\":{\"field\":\"left\"},\"line_alpha\":{\"value\":0.1},\"line_color\":{\"value\":\"#1f77b4\"},\"right\":{\"field\":\"right\"},\"top\":{\"field\":\"top\"}},\"id\":\"6288\",\"type\":\"Quad\"},{\"attributes\":{},\"id\":\"6283\",\"type\":\"SaveTool\"},{\"attributes\":{},\"id\":\"6524\",\"type\":\"Selection\"},{\"attributes\":{\"callback\":null,\"data\":{\"left\":{\"__ndarray__\":\"uJ5iA5INdcC0SaYBoQlzwLD06f+vBXHAWD9b/H0DbsBQleL4m/tpwEjrafW582XAQEHx8dfrYcBwLvHc68dbwGDa/9UnuFPAoAwdnsdQR8AAkulA/sQswECHUPuQ3DFAwOuKi9ANSUDwybZMrJZUQAAeqFNwplxACLlMLRpbYkAQY8Uw/GJmQBgNPjTeampAILe2N8BybkCUsJcdUT1xQA==\",\"dtype\":\"float64\",\"shape\":[20]},\"right\":{\"__ndarray__\":\"tEmmAaEJc8Cw9On/rwVxwFg/W/x9A27AUJXi+Jv7acBI62n1ufNlwEBB8fHX62HAcC7x3OvHW8Bg2v/VJ7hTwKAMHZ7HUEfAAJLpQP7ELMBAh1D7kNwxQMDriovQDUlA8Mm2TKyWVEAAHqhTcKZcQAi5TC0aW2JAEGPFMPxiZkAYDT403mpqQCC3tjfAcm5AlLCXHVE9cUCXBVQfQkFzQA==\",\"dtype\":\"float64\",\"shape\":[20]},\"top\":[3,1,3,8,21,26,63,92,95,123,125,139,105,70,48,36,19,15,6,2]},\"selected\":{\"id\":\"6524\",\"type\":\"Selection\"},\"selection_policy\":{\"id\":\"6523\",\"type\":\"UnionRenderers\"}},\"id\":\"6286\",\"type\":\"ColumnDataSource\"}],\"root_ids\":[\"6263\"]},\"title\":\"Bokeh Application\",\"version\":\"1.0.4\"}};\n",
       "  var render_items = [{\"docid\":\"6573f5aa-5433-41c5-8d70-718f79672195\",\"roots\":{\"6263\":\"d7e0ca13-c93b-4d33-937f-69ff0316067c\"}}];\n",
       "  root.Bokeh.embed.embed_items_notebook(docs_json, render_items);\n",
       "\n",
       "  }\n",
       "  if (root.Bokeh !== undefined) {\n",
       "    embed_document(root);\n",
       "  } else {\n",
       "    var attempts = 0;\n",
       "    var timer = setInterval(function(root) {\n",
       "      if (root.Bokeh !== undefined) {\n",
       "        embed_document(root);\n",
       "        clearInterval(timer);\n",
       "      }\n",
       "      attempts++;\n",
       "      if (attempts > 100) {\n",
       "        console.log(\"Bokeh: ERROR: Unable to run BokehJS code because BokehJS library is missing\");\n",
       "        clearInterval(timer);\n",
       "      }\n",
       "    }, 10, root)\n",
       "  }\n",
       "})(window);"
      ],
      "application/vnd.bokehjs_exec.v0+json": ""
     },
     "metadata": {
      "application/vnd.bokehjs_exec.v0+json": {
       "id": "6263"
      }
     },
     "output_type": "display_data"
    }
   ],
   "source": [
    "# 4、直方图\n",
    "# np.histogram + figure.quad()\n",
    "# 不需要构建ColumnDataSource对象\n",
    "\n",
    "df = pd.DataFrame({'value': np.random.randn(1000)*100})\n",
    "df.index.name = 'index'\n",
    "print(df.head())\n",
    "# 创建数据\n",
    "\n",
    "hist, edges = np.histogram(df['value'],bins=20)\n",
    "print(hist[:5])\n",
    "print(edges)\n",
    "# 将数据解析成直方图统计格式\n",
    "# 高阶函数np.histogram(a, bins=10, range=None, weights=None, density=None) \n",
    "# a：数据\n",
    "# bins：箱数\n",
    "# range：最大最小值的范围，如果不设定则为(a.min(), a.max())\n",
    "# weights：权重\n",
    "# density：为True则返回“频率”，为False则返回“计数”\n",
    "# 返回值1 - hist：每个箱子的统计值（top）\n",
    "# 返回值2 - edges：每个箱子的位置坐标，这里n个bins将会有n+1个edges\n",
    "\n",
    "p = figure(title=\"HIST\", tools=\"save\",background_fill_color=\"#E8DDCB\")\n",
    "p.quad(top=hist, bottom=0, left=edges[:-1], right=edges[1:],   # 分别代表每个柱子的四边值\n",
    "        fill_color=\"#036564\", line_color=\"#033649\")\n",
    "# figure.quad绘制直方图\n",
    "\n",
    "show(p)"
   ]
  },
  {
   "cell_type": "code",
   "execution_count": null,
   "metadata": {},
   "outputs": [],
   "source": [
    "'''\n",
    "【课程5.7】  绘图表达进阶操作\n",
    "\n",
    "① 轴线设置\n",
    "② 浮动设置\n",
    "③ 多图表设置\n",
    "\n",
    "'''"
   ]
  },
  {
   "cell_type": "code",
   "execution_count": 25,
   "metadata": {},
   "outputs": [
    {
     "data": {
      "text/html": [
       "\n",
       "\n",
       "\n",
       "\n",
       "\n",
       "\n",
       "  <div class=\"bk-root\" id=\"9b8c115e-4599-4a6b-bd29-3f73025efe2a\" data-root-id=\"6569\"></div>\n"
      ]
     },
     "metadata": {},
     "output_type": "display_data"
    },
    {
     "data": {
      "application/javascript": [
       "(function(root) {\n",
       "  function embed_document(root) {\n",
       "    \n",
       "  var docs_json = {\"c09f5769-43f6-4c82-9fb8-f257e977be11\":{\"roots\":{\"references\":[{\"attributes\":{\"below\":[{\"id\":\"6579\",\"type\":\"CategoricalAxis\"}],\"left\":[{\"id\":\"6583\",\"type\":\"LinearAxis\"}],\"plot_height\":400,\"renderers\":[{\"id\":\"6579\",\"type\":\"CategoricalAxis\"},{\"id\":\"6582\",\"type\":\"Grid\"},{\"id\":\"6583\",\"type\":\"LinearAxis\"},{\"id\":\"6587\",\"type\":\"Grid\"},{\"id\":\"6592\",\"type\":\"GlyphRenderer\"}],\"title\":{\"id\":\"6568\",\"type\":\"Title\"},\"toolbar\":{\"id\":\"6588\",\"type\":\"Toolbar\"},\"x_range\":{\"id\":\"6571\",\"type\":\"FactorRange\"},\"x_scale\":{\"id\":\"6575\",\"type\":\"CategoricalScale\"},\"y_range\":{\"id\":\"6573\",\"type\":\"Range1d\"},\"y_scale\":{\"id\":\"6577\",\"type\":\"LinearScale\"}},\"id\":\"6569\",\"subtype\":\"Figure\",\"type\":\"Plot\"},{\"attributes\":{\"fill_alpha\":{\"value\":0.1},\"fill_color\":{\"value\":\"#1f77b4\"},\"line_alpha\":{\"value\":0.1},\"line_color\":{\"value\":\"#1f77b4\"},\"line_dash\":[2,4],\"size\":{\"units\":\"screen\",\"value\":20},\"x\":{\"field\":\"name\"},\"y\":{\"field\":\"score\"}},\"id\":\"6591\",\"type\":\"Circle\"},{\"attributes\":{},\"id\":\"6834\",\"type\":\"Selection\"},{\"attributes\":{},\"id\":\"6575\",\"type\":\"CategoricalScale\"},{\"attributes\":{\"plot\":{\"id\":\"6569\",\"subtype\":\"Figure\",\"type\":\"Plot\"},\"ticker\":{\"id\":\"6580\",\"type\":\"CategoricalTicker\"}},\"id\":\"6582\",\"type\":\"Grid\"},{\"attributes\":{\"callback\":null,\"factors\":[\"\\u5c0f\\u660e\",\"\\u5c0f\\u738b\",\"\\u5c0f\\u5f20\",\"\\u5c0f\\u7ea2\",\"\\u5c0f\\u7ea2\\u5e3d\"]},\"id\":\"6571\",\"type\":\"FactorRange\"},{\"attributes\":{},\"id\":\"6833\",\"type\":\"UnionRenderers\"},{\"attributes\":{},\"id\":\"6829\",\"type\":\"CategoricalTickFormatter\"},{\"attributes\":{\"formatter\":{\"id\":\"6831\",\"type\":\"BasicTickFormatter\"},\"plot\":{\"id\":\"6569\",\"subtype\":\"Figure\",\"type\":\"Plot\"},\"ticker\":{\"id\":\"6584\",\"type\":\"BasicTicker\"}},\"id\":\"6583\",\"type\":\"LinearAxis\"},{\"attributes\":{\"callback\":null,\"data\":{\"name\":[\"\\u5c0f\\u660e\",\"\\u5c0f\\u738b\",\"\\u5c0f\\u5f20\",\"\\u5c0f\\u7ea2\",\"\\u5c0f\\u7ea2\\u5e3d\"],\"score\":[98,86,74,67,87]},\"selected\":{\"id\":\"6834\",\"type\":\"Selection\"},\"selection_policy\":{\"id\":\"6833\",\"type\":\"UnionRenderers\"}},\"id\":\"6567\",\"type\":\"ColumnDataSource\"},{\"attributes\":{},\"id\":\"6584\",\"type\":\"BasicTicker\"},{\"attributes\":{\"dimension\":1,\"plot\":{\"id\":\"6569\",\"subtype\":\"Figure\",\"type\":\"Plot\"},\"ticker\":{\"id\":\"6584\",\"type\":\"BasicTicker\"}},\"id\":\"6587\",\"type\":\"Grid\"},{\"attributes\":{},\"id\":\"6831\",\"type\":\"BasicTickFormatter\"},{\"attributes\":{},\"id\":\"6577\",\"type\":\"LinearScale\"},{\"attributes\":{\"plot\":null,\"text\":\"\\u8003\\u8bd5\\u6210\\u7ee9\"},\"id\":\"6568\",\"type\":\"Title\"},{\"attributes\":{\"formatter\":{\"id\":\"6829\",\"type\":\"CategoricalTickFormatter\"},\"plot\":{\"id\":\"6569\",\"subtype\":\"Figure\",\"type\":\"Plot\"},\"ticker\":{\"id\":\"6580\",\"type\":\"CategoricalTicker\"}},\"id\":\"6579\",\"type\":\"CategoricalAxis\"},{\"attributes\":{},\"id\":\"6580\",\"type\":\"CategoricalTicker\"},{\"attributes\":{\"source\":{\"id\":\"6567\",\"type\":\"ColumnDataSource\"}},\"id\":\"6593\",\"type\":\"CDSView\"},{\"attributes\":{\"active_drag\":\"auto\",\"active_inspect\":\"auto\",\"active_multi\":null,\"active_scroll\":\"auto\",\"active_tap\":\"auto\"},\"id\":\"6588\",\"type\":\"Toolbar\"},{\"attributes\":{\"fill_alpha\":{\"value\":0.5},\"fill_color\":{\"value\":\"red\"},\"line_dash\":[2,4],\"size\":{\"units\":\"screen\",\"value\":20},\"x\":{\"field\":\"name\"},\"y\":{\"field\":\"score\"}},\"id\":\"6590\",\"type\":\"Circle\"},{\"attributes\":{\"callback\":null,\"end\":100,\"start\":60},\"id\":\"6573\",\"type\":\"Range1d\"},{\"attributes\":{\"data_source\":{\"id\":\"6567\",\"type\":\"ColumnDataSource\"},\"glyph\":{\"id\":\"6590\",\"type\":\"Circle\"},\"hover_glyph\":null,\"muted_glyph\":null,\"nonselection_glyph\":{\"id\":\"6591\",\"type\":\"Circle\"},\"selection_glyph\":null,\"view\":{\"id\":\"6593\",\"type\":\"CDSView\"}},\"id\":\"6592\",\"type\":\"GlyphRenderer\"}],\"root_ids\":[\"6569\"]},\"title\":\"Bokeh Application\",\"version\":\"1.0.4\"}};\n",
       "  var render_items = [{\"docid\":\"c09f5769-43f6-4c82-9fb8-f257e977be11\",\"roots\":{\"6569\":\"9b8c115e-4599-4a6b-bd29-3f73025efe2a\"}}];\n",
       "  root.Bokeh.embed.embed_items_notebook(docs_json, render_items);\n",
       "\n",
       "  }\n",
       "  if (root.Bokeh !== undefined) {\n",
       "    embed_document(root);\n",
       "  } else {\n",
       "    var attempts = 0;\n",
       "    var timer = setInterval(function(root) {\n",
       "      if (root.Bokeh !== undefined) {\n",
       "        embed_document(root);\n",
       "        clearInterval(timer);\n",
       "      }\n",
       "      attempts++;\n",
       "      if (attempts > 100) {\n",
       "        console.log(\"Bokeh: ERROR: Unable to run BokehJS code because BokehJS library is missing\");\n",
       "        clearInterval(timer);\n",
       "      }\n",
       "    }, 10, root)\n",
       "  }\n",
       "})(window);"
      ],
      "application/vnd.bokehjs_exec.v0+json": ""
     },
     "metadata": {
      "application/vnd.bokehjs_exec.v0+json": {
       "id": "6569"
      }
     },
     "output_type": "display_data"
    }
   ],
   "source": [
    "# 1、轴线标签设置\n",
    "# 设置字符串\n",
    "\n",
    "df = pd.DataFrame({'score':[98,86,74,67,87]},index = ['小明','小王','小张','小红','小红帽'])\n",
    "df.index.name = 'name'\n",
    "#print(df)\n",
    "# 创建数据\n",
    "source = ColumnDataSource(df)\n",
    "\n",
    "name = df.index.tolist()      # 提取name\n",
    "\n",
    "p = figure(x_range=name,y_range=(60,100),plot_height = 400,title = '考试成绩',tools = '')\n",
    "# 通过x_range设置横轴标签，这里提取成list\n",
    "p.circle(x='name',y='score',source=source,\n",
    "        size = 20,line_color = 'black',line_dash = 'dotted',\n",
    "        fill_color = 'red',fill_alpha = 0.5)\n",
    "show(p)"
   ]
  },
  {
   "cell_type": "code",
   "execution_count": 26,
   "metadata": {},
   "outputs": [
    {
     "ename": "TypeError",
     "evalue": "index is not a valid DatetimeIndex or PeriodIndex",
     "output_type": "error",
     "traceback": [
      "\u001b[1;31m---------------------------------------------------------------------------\u001b[0m",
      "\u001b[1;31mTypeError\u001b[0m                                 Traceback (most recent call last)",
      "\u001b[1;32m<ipython-input-26-8ba3be794073>\u001b[0m in \u001b[0;36m<module>\u001b[1;34m\u001b[0m\n\u001b[0;32m      3\u001b[0m \u001b[1;31m# Dataframe DatetimeIndex + x_axis_type\u001b[0m\u001b[1;33m\u001b[0m\u001b[1;33m\u001b[0m\u001b[1;33m\u001b[0m\u001b[0m\n\u001b[0;32m      4\u001b[0m \u001b[1;33m\u001b[0m\u001b[0m\n\u001b[1;32m----> 5\u001b[1;33m \u001b[1;32mfrom\u001b[0m \u001b[0mbokeh\u001b[0m\u001b[1;33m.\u001b[0m\u001b[0msampledata\u001b[0m\u001b[1;33m.\u001b[0m\u001b[0mcommits\u001b[0m \u001b[1;32mimport\u001b[0m \u001b[0mdata\u001b[0m\u001b[1;33m\u001b[0m\u001b[1;33m\u001b[0m\u001b[0m\n\u001b[0m\u001b[0;32m      6\u001b[0m \u001b[0mprint\u001b[0m\u001b[1;33m(\u001b[0m\u001b[0mdata\u001b[0m\u001b[1;33m.\u001b[0m\u001b[0mhead\u001b[0m\u001b[1;33m(\u001b[0m\u001b[1;33m)\u001b[0m\u001b[1;33m)\u001b[0m\u001b[1;33m\u001b[0m\u001b[1;33m\u001b[0m\u001b[0m\n\u001b[0;32m      7\u001b[0m \u001b[0mprint\u001b[0m\u001b[1;33m(\u001b[0m\u001b[0mtype\u001b[0m\u001b[1;33m(\u001b[0m\u001b[0mdata\u001b[0m\u001b[1;33m.\u001b[0m\u001b[0mindex\u001b[0m\u001b[1;33m)\u001b[0m\u001b[1;33m)\u001b[0m\u001b[1;33m\u001b[0m\u001b[1;33m\u001b[0m\u001b[0m\n",
      "\u001b[1;32mC:\\ProgramData\\Anaconda3\\lib\\site-packages\\bokeh\\sampledata\\commits.py\u001b[0m in \u001b[0;36m<module>\u001b[1;34m\u001b[0m\n\u001b[0;32m     61\u001b[0m \u001b[1;31m#-----------------------------------------------------------------------------\u001b[0m\u001b[1;33m\u001b[0m\u001b[1;33m\u001b[0m\u001b[1;33m\u001b[0m\u001b[0m\n\u001b[0;32m     62\u001b[0m \u001b[1;33m\u001b[0m\u001b[0m\n\u001b[1;32m---> 63\u001b[1;33m \u001b[0mdata\u001b[0m \u001b[1;33m=\u001b[0m \u001b[0m_read_data\u001b[0m\u001b[1;33m(\u001b[0m\u001b[1;33m)\u001b[0m\u001b[1;33m\u001b[0m\u001b[1;33m\u001b[0m\u001b[0m\n\u001b[0m",
      "\u001b[1;32mC:\\ProgramData\\Anaconda3\\lib\\site-packages\\bokeh\\sampledata\\commits.py\u001b[0m in \u001b[0;36m_read_data\u001b[1;34m()\u001b[0m\n\u001b[0;32m     53\u001b[0m     '''\n\u001b[0;32m     54\u001b[0m     \u001b[0mdata\u001b[0m \u001b[1;33m=\u001b[0m \u001b[0mpackage_csv\u001b[0m\u001b[1;33m(\u001b[0m\u001b[1;34m'commits'\u001b[0m\u001b[1;33m,\u001b[0m \u001b[1;34m'commits.txt.gz'\u001b[0m\u001b[1;33m,\u001b[0m \u001b[0mparse_dates\u001b[0m\u001b[1;33m=\u001b[0m\u001b[1;32mTrue\u001b[0m\u001b[1;33m,\u001b[0m \u001b[0mheader\u001b[0m\u001b[1;33m=\u001b[0m\u001b[1;32mNone\u001b[0m\u001b[1;33m,\u001b[0m \u001b[0mnames\u001b[0m\u001b[1;33m=\u001b[0m\u001b[1;33m[\u001b[0m\u001b[1;34m'day'\u001b[0m\u001b[1;33m,\u001b[0m \u001b[1;34m'datetime'\u001b[0m\u001b[1;33m]\u001b[0m\u001b[1;33m,\u001b[0m \u001b[0mindex_col\u001b[0m\u001b[1;33m=\u001b[0m\u001b[1;34m'datetime'\u001b[0m\u001b[1;33m)\u001b[0m\u001b[1;33m\u001b[0m\u001b[1;33m\u001b[0m\u001b[0m\n\u001b[1;32m---> 55\u001b[1;33m     \u001b[0mdata\u001b[0m \u001b[1;33m=\u001b[0m \u001b[0mdata\u001b[0m\u001b[1;33m.\u001b[0m\u001b[0mtz_localize\u001b[0m\u001b[1;33m(\u001b[0m\u001b[1;34m'GMT'\u001b[0m\u001b[1;33m)\u001b[0m\u001b[1;33m.\u001b[0m\u001b[0mtz_convert\u001b[0m\u001b[1;33m(\u001b[0m\u001b[1;34m'US/Central'\u001b[0m\u001b[1;33m)\u001b[0m\u001b[1;33m\u001b[0m\u001b[1;33m\u001b[0m\u001b[0m\n\u001b[0m\u001b[0;32m     56\u001b[0m     \u001b[0mdata\u001b[0m\u001b[1;33m[\u001b[0m\u001b[1;34m'time'\u001b[0m\u001b[1;33m]\u001b[0m \u001b[1;33m=\u001b[0m \u001b[0mdata\u001b[0m\u001b[1;33m.\u001b[0m\u001b[0mindex\u001b[0m\u001b[1;33m.\u001b[0m\u001b[0mtime\u001b[0m\u001b[1;33m\u001b[0m\u001b[1;33m\u001b[0m\u001b[0m\n\u001b[0;32m     57\u001b[0m     \u001b[1;32mreturn\u001b[0m \u001b[0mdata\u001b[0m\u001b[1;33m\u001b[0m\u001b[1;33m\u001b[0m\u001b[0m\n",
      "\u001b[1;32mC:\\ProgramData\\Anaconda3\\lib\\site-packages\\pandas\\core\\generic.py\u001b[0m in \u001b[0;36mtz_localize\u001b[1;34m(self, tz, axis, level, copy, ambiguous, nonexistent)\u001b[0m\n\u001b[0;32m   9405\u001b[0m             \u001b[1;32mif\u001b[0m \u001b[0mlevel\u001b[0m \u001b[1;32mnot\u001b[0m \u001b[1;32min\u001b[0m \u001b[1;33m(\u001b[0m\u001b[1;32mNone\u001b[0m\u001b[1;33m,\u001b[0m \u001b[1;36m0\u001b[0m\u001b[1;33m,\u001b[0m \u001b[0max\u001b[0m\u001b[1;33m.\u001b[0m\u001b[0mname\u001b[0m\u001b[1;33m)\u001b[0m\u001b[1;33m:\u001b[0m\u001b[1;33m\u001b[0m\u001b[1;33m\u001b[0m\u001b[0m\n\u001b[0;32m   9406\u001b[0m                 \u001b[1;32mraise\u001b[0m \u001b[0mValueError\u001b[0m\u001b[1;33m(\u001b[0m\u001b[1;34m\"The level {0} is not valid\"\u001b[0m\u001b[1;33m.\u001b[0m\u001b[0mformat\u001b[0m\u001b[1;33m(\u001b[0m\u001b[0mlevel\u001b[0m\u001b[1;33m)\u001b[0m\u001b[1;33m)\u001b[0m\u001b[1;33m\u001b[0m\u001b[1;33m\u001b[0m\u001b[0m\n\u001b[1;32m-> 9407\u001b[1;33m             \u001b[0max\u001b[0m \u001b[1;33m=\u001b[0m \u001b[0m_tz_localize\u001b[0m\u001b[1;33m(\u001b[0m\u001b[0max\u001b[0m\u001b[1;33m,\u001b[0m \u001b[0mtz\u001b[0m\u001b[1;33m,\u001b[0m \u001b[0mambiguous\u001b[0m\u001b[1;33m,\u001b[0m \u001b[0mnonexistent\u001b[0m\u001b[1;33m)\u001b[0m\u001b[1;33m\u001b[0m\u001b[1;33m\u001b[0m\u001b[0m\n\u001b[0m\u001b[0;32m   9408\u001b[0m \u001b[1;33m\u001b[0m\u001b[0m\n\u001b[0;32m   9409\u001b[0m         \u001b[0mresult\u001b[0m \u001b[1;33m=\u001b[0m \u001b[0mself\u001b[0m\u001b[1;33m.\u001b[0m\u001b[0m_constructor\u001b[0m\u001b[1;33m(\u001b[0m\u001b[0mself\u001b[0m\u001b[1;33m.\u001b[0m\u001b[0m_data\u001b[0m\u001b[1;33m,\u001b[0m \u001b[0mcopy\u001b[0m\u001b[1;33m=\u001b[0m\u001b[0mcopy\u001b[0m\u001b[1;33m)\u001b[0m\u001b[1;33m\u001b[0m\u001b[1;33m\u001b[0m\u001b[0m\n",
      "\u001b[1;32mC:\\ProgramData\\Anaconda3\\lib\\site-packages\\pandas\\core\\generic.py\u001b[0m in \u001b[0;36m_tz_localize\u001b[1;34m(ax, tz, ambiguous, nonexistent)\u001b[0m\n\u001b[0;32m   9385\u001b[0m                     \u001b[0max_name\u001b[0m \u001b[1;33m=\u001b[0m \u001b[0mself\u001b[0m\u001b[1;33m.\u001b[0m\u001b[0m_get_axis_name\u001b[0m\u001b[1;33m(\u001b[0m\u001b[0maxis\u001b[0m\u001b[1;33m)\u001b[0m\u001b[1;33m\u001b[0m\u001b[1;33m\u001b[0m\u001b[0m\n\u001b[0;32m   9386\u001b[0m                     raise TypeError('%s is not a valid DatetimeIndex or '\n\u001b[1;32m-> 9387\u001b[1;33m                                     'PeriodIndex' % ax_name)\n\u001b[0m\u001b[0;32m   9388\u001b[0m                 \u001b[1;32melse\u001b[0m\u001b[1;33m:\u001b[0m\u001b[1;33m\u001b[0m\u001b[1;33m\u001b[0m\u001b[0m\n\u001b[0;32m   9389\u001b[0m                     \u001b[0max\u001b[0m \u001b[1;33m=\u001b[0m \u001b[0mDatetimeIndex\u001b[0m\u001b[1;33m(\u001b[0m\u001b[1;33m[\u001b[0m\u001b[1;33m]\u001b[0m\u001b[1;33m,\u001b[0m \u001b[0mtz\u001b[0m\u001b[1;33m=\u001b[0m\u001b[0mtz\u001b[0m\u001b[1;33m)\u001b[0m\u001b[1;33m\u001b[0m\u001b[1;33m\u001b[0m\u001b[0m\n",
      "\u001b[1;31mTypeError\u001b[0m: index is not a valid DatetimeIndex or PeriodIndex"
     ]
    }
   ],
   "source": [
    "# 1、轴线标签设置\n",
    "# 时间序列设置\n",
    "# Dataframe DatetimeIndex + x_axis_type\n",
    "\n",
    "from bokeh.sampledata.commits import data\n",
    "print(data.head())\n",
    "print(type(data.index))\n",
    "# 导入数据，查看数据\n",
    "# 这里index为时间序列\n",
    "\n",
    "DAYS = ['Sun', 'Sat', 'Fri', 'Thu', 'Wed', 'Tue', 'Mon']\n",
    "source = ColumnDataSource(data)\n",
    "# 转化为ColumnDataSource对象\n",
    "\n",
    "p = figure(plot_width=800, plot_height=600, \n",
    "           y_range=DAYS,                     # 设置图表的y轴刻度分类\n",
    "           x_axis_type='datetime',           # 设置x轴类型 → 时间序列\n",
    "           title=\"Commits by Time of Day (US/Central) 2012-2016\")\n",
    "\n",
    "p.circle(x='time', y='day',  source=source, alpha=0.2)\n",
    "# 生成散点图\n",
    "\n",
    "p.ygrid.grid_line_color = None\n",
    "# 设置其他参数\n",
    "\n",
    "show(p)"
   ]
  },
  {
   "cell_type": "code",
   "execution_count": 27,
   "metadata": {},
   "outputs": [
    {
     "data": {
      "text/html": [
       "\n",
       "\n",
       "\n",
       "\n",
       "\n",
       "\n",
       "  <div class=\"bk-root\" id=\"6d6ef500-8c60-4be9-9086-d732d9cb7a3a\" data-root-id=\"6877\"></div>\n"
      ]
     },
     "metadata": {},
     "output_type": "display_data"
    },
    {
     "data": {
      "application/javascript": [
       "(function(root) {\n",
       "  function embed_document(root) {\n",
       "    \n",
       "  var docs_json = {\"86c85986-b0b1-46dd-afa0-69477898d105\":{\"roots\":{\"references\":[{\"attributes\":{\"below\":[{\"id\":\"6886\",\"type\":\"LinearAxis\"}],\"left\":[{\"id\":\"6891\",\"type\":\"LogAxis\"}],\"plot_height\":400,\"renderers\":[{\"id\":\"6886\",\"type\":\"LinearAxis\"},{\"id\":\"6890\",\"type\":\"Grid\"},{\"id\":\"6891\",\"type\":\"LogAxis\"},{\"id\":\"6895\",\"type\":\"Grid\"},{\"id\":\"6904\",\"type\":\"BoxAnnotation\"},{\"id\":\"6914\",\"type\":\"GlyphRenderer\"},{\"id\":\"6919\",\"type\":\"GlyphRenderer\"}],\"title\":{\"id\":\"7163\",\"type\":\"Title\"},\"toolbar\":{\"id\":\"6902\",\"type\":\"Toolbar\"},\"x_range\":{\"id\":\"6878\",\"type\":\"DataRange1d\"},\"x_scale\":{\"id\":\"6882\",\"type\":\"LinearScale\"},\"y_range\":{\"id\":\"6880\",\"type\":\"DataRange1d\"},\"y_scale\":{\"id\":\"6884\",\"type\":\"LogScale\"}},\"id\":\"6877\",\"subtype\":\"Figure\",\"type\":\"Plot\"},{\"attributes\":{},\"id\":\"7172\",\"type\":\"Selection\"},{\"attributes\":{\"ticker\":null},\"id\":\"7166\",\"type\":\"LogTickFormatter\"},{\"attributes\":{\"overlay\":{\"id\":\"6904\",\"type\":\"BoxAnnotation\"}},\"id\":\"6898\",\"type\":\"BoxZoomTool\"},{\"attributes\":{\"callback\":null,\"data\":{\"x\":[0.1,0.5,1.0,1.5,2.0,2.5,3.0],\"y\":[1.2589254117941673,3.1622776601683795,10.0,31.622776601683793,100.0,316.22776601683796,1000.0]},\"selected\":{\"id\":\"7172\",\"type\":\"Selection\"},\"selection_policy\":{\"id\":\"7171\",\"type\":\"UnionRenderers\"}},\"id\":\"6916\",\"type\":\"ColumnDataSource\"},{\"attributes\":{},\"id\":\"7171\",\"type\":\"UnionRenderers\"},{\"attributes\":{\"source\":{\"id\":\"6916\",\"type\":\"ColumnDataSource\"}},\"id\":\"6920\",\"type\":\"CDSView\"},{\"attributes\":{\"line_color\":\"#1f77b4\",\"line_width\":2,\"x\":{\"field\":\"x\"},\"y\":{\"field\":\"y\"}},\"id\":\"6912\",\"type\":\"Line\"},{\"attributes\":{},\"id\":\"6901\",\"type\":\"HelpTool\"},{\"attributes\":{\"formatter\":{\"id\":\"7164\",\"type\":\"BasicTickFormatter\"},\"plot\":{\"id\":\"6877\",\"subtype\":\"Figure\",\"type\":\"Plot\"},\"ticker\":{\"id\":\"6887\",\"type\":\"BasicTicker\"}},\"id\":\"6886\",\"type\":\"LinearAxis\"},{\"attributes\":{},\"id\":\"6897\",\"type\":\"WheelZoomTool\"},{\"attributes\":{\"bottom_units\":\"screen\",\"fill_alpha\":{\"value\":0.5},\"fill_color\":{\"value\":\"lightgrey\"},\"left_units\":\"screen\",\"level\":\"overlay\",\"line_alpha\":{\"value\":1.0},\"line_color\":{\"value\":\"black\"},\"line_dash\":[4,4],\"line_width\":{\"value\":2},\"plot\":null,\"render_mode\":\"css\",\"right_units\":\"screen\",\"top_units\":\"screen\"},\"id\":\"6904\",\"type\":\"BoxAnnotation\"},{\"attributes\":{},\"id\":\"7170\",\"type\":\"Selection\"},{\"attributes\":{\"plot\":null,\"text\":\"\"},\"id\":\"7163\",\"type\":\"Title\"},{\"attributes\":{\"callback\":null,\"data\":{\"x\":[0.1,0.5,1.0,1.5,2.0,2.5,3.0],\"y\":[1.2589254117941673,3.1622776601683795,10.0,31.622776601683793,100.0,316.22776601683796,1000.0]},\"selected\":{\"id\":\"7170\",\"type\":\"Selection\"},\"selection_policy\":{\"id\":\"7169\",\"type\":\"UnionRenderers\"}},\"id\":\"6911\",\"type\":\"ColumnDataSource\"},{\"attributes\":{},\"id\":\"6896\",\"type\":\"PanTool\"},{\"attributes\":{\"dimension\":1,\"plot\":{\"id\":\"6877\",\"subtype\":\"Figure\",\"type\":\"Plot\"},\"ticker\":{\"id\":\"6892\",\"type\":\"LogTicker\"}},\"id\":\"6895\",\"type\":\"Grid\"},{\"attributes\":{},\"id\":\"6900\",\"type\":\"ResetTool\"},{\"attributes\":{\"source\":{\"id\":\"6911\",\"type\":\"ColumnDataSource\"}},\"id\":\"6915\",\"type\":\"CDSView\"},{\"attributes\":{\"data_source\":{\"id\":\"6911\",\"type\":\"ColumnDataSource\"},\"glyph\":{\"id\":\"6912\",\"type\":\"Line\"},\"hover_glyph\":null,\"muted_glyph\":null,\"nonselection_glyph\":{\"id\":\"6913\",\"type\":\"Line\"},\"selection_glyph\":null,\"view\":{\"id\":\"6915\",\"type\":\"CDSView\"}},\"id\":\"6914\",\"type\":\"GlyphRenderer\"},{\"attributes\":{\"line_alpha\":0.1,\"line_color\":\"#1f77b4\",\"line_width\":2,\"x\":{\"field\":\"x\"},\"y\":{\"field\":\"y\"}},\"id\":\"6913\",\"type\":\"Line\"},{\"attributes\":{\"num_minor_ticks\":10},\"id\":\"6892\",\"type\":\"LogTicker\"},{\"attributes\":{\"fill_alpha\":{\"value\":0.5},\"fill_color\":{\"value\":\"white\"},\"line_alpha\":{\"value\":0.5},\"line_color\":{\"value\":\"red\"},\"size\":{\"units\":\"screen\",\"value\":10},\"x\":{\"field\":\"x\"},\"y\":{\"field\":\"y\"}},\"id\":\"6917\",\"type\":\"Circle\"},{\"attributes\":{\"callback\":null},\"id\":\"6878\",\"type\":\"DataRange1d\"},{\"attributes\":{\"fill_alpha\":{\"value\":0.1},\"fill_color\":{\"value\":\"#1f77b4\"},\"line_alpha\":{\"value\":0.1},\"line_color\":{\"value\":\"#1f77b4\"},\"size\":{\"units\":\"screen\",\"value\":10},\"x\":{\"field\":\"x\"},\"y\":{\"field\":\"y\"}},\"id\":\"6918\",\"type\":\"Circle\"},{\"attributes\":{\"callback\":null},\"id\":\"6880\",\"type\":\"DataRange1d\"},{\"attributes\":{\"data_source\":{\"id\":\"6916\",\"type\":\"ColumnDataSource\"},\"glyph\":{\"id\":\"6917\",\"type\":\"Circle\"},\"hover_glyph\":null,\"muted_glyph\":null,\"nonselection_glyph\":{\"id\":\"6918\",\"type\":\"Circle\"},\"selection_glyph\":null,\"view\":{\"id\":\"6920\",\"type\":\"CDSView\"}},\"id\":\"6919\",\"type\":\"GlyphRenderer\"},{\"attributes\":{\"formatter\":{\"id\":\"7166\",\"type\":\"LogTickFormatter\"},\"plot\":{\"id\":\"6877\",\"subtype\":\"Figure\",\"type\":\"Plot\"},\"ticker\":{\"id\":\"6892\",\"type\":\"LogTicker\"}},\"id\":\"6891\",\"type\":\"LogAxis\"},{\"attributes\":{\"active_drag\":\"auto\",\"active_inspect\":\"auto\",\"active_multi\":null,\"active_scroll\":\"auto\",\"active_tap\":\"auto\",\"tools\":[{\"id\":\"6896\",\"type\":\"PanTool\"},{\"id\":\"6897\",\"type\":\"WheelZoomTool\"},{\"id\":\"6898\",\"type\":\"BoxZoomTool\"},{\"id\":\"6899\",\"type\":\"SaveTool\"},{\"id\":\"6900\",\"type\":\"ResetTool\"},{\"id\":\"6901\",\"type\":\"HelpTool\"}]},\"id\":\"6902\",\"type\":\"Toolbar\"},{\"attributes\":{},\"id\":\"7169\",\"type\":\"UnionRenderers\"},{\"attributes\":{},\"id\":\"6899\",\"type\":\"SaveTool\"},{\"attributes\":{},\"id\":\"6884\",\"type\":\"LogScale\"},{\"attributes\":{},\"id\":\"7164\",\"type\":\"BasicTickFormatter\"},{\"attributes\":{},\"id\":\"6882\",\"type\":\"LinearScale\"},{\"attributes\":{},\"id\":\"6887\",\"type\":\"BasicTicker\"},{\"attributes\":{\"plot\":{\"id\":\"6877\",\"subtype\":\"Figure\",\"type\":\"Plot\"},\"ticker\":{\"id\":\"6887\",\"type\":\"BasicTicker\"}},\"id\":\"6890\",\"type\":\"Grid\"}],\"root_ids\":[\"6877\"]},\"title\":\"Bokeh Application\",\"version\":\"1.0.4\"}};\n",
       "  var render_items = [{\"docid\":\"86c85986-b0b1-46dd-afa0-69477898d105\",\"roots\":{\"6877\":\"6d6ef500-8c60-4be9-9086-d732d9cb7a3a\"}}];\n",
       "  root.Bokeh.embed.embed_items_notebook(docs_json, render_items);\n",
       "\n",
       "  }\n",
       "  if (root.Bokeh !== undefined) {\n",
       "    embed_document(root);\n",
       "  } else {\n",
       "    var attempts = 0;\n",
       "    var timer = setInterval(function(root) {\n",
       "      if (root.Bokeh !== undefined) {\n",
       "        embed_document(root);\n",
       "        clearInterval(timer);\n",
       "      }\n",
       "      attempts++;\n",
       "      if (attempts > 100) {\n",
       "        console.log(\"Bokeh: ERROR: Unable to run BokehJS code because BokehJS library is missing\");\n",
       "        clearInterval(timer);\n",
       "      }\n",
       "    }, 10, root)\n",
       "  }\n",
       "})(window);"
      ],
      "application/vnd.bokehjs_exec.v0+json": ""
     },
     "metadata": {
      "application/vnd.bokehjs_exec.v0+json": {
       "id": "6877"
      }
     },
     "output_type": "display_data"
    }
   ],
   "source": [
    "# 1、轴线标签设置\n",
    "# 设置对数坐标轴\n",
    "\n",
    "x = [0.1, 0.5, 1.0, 1.5, 2.0, 2.5, 3.0]\n",
    "y = [10**xx for xx in x]\n",
    "# 创建数据\n",
    "\n",
    "p = figure(plot_width=600,plot_height=400,\n",
    "          y_axis_type = 'log')\n",
    "# y_axis_type=\"log\" → 对数坐标轴\n",
    "\n",
    "p.line(x,y,line_width=2)\n",
    "p.circle(x,y,fill_color = 'white',color = 'red',alpha = 0.5,size = 10)\n",
    "\n",
    "show(p)"
   ]
  },
  {
   "cell_type": "code",
   "execution_count": 28,
   "metadata": {},
   "outputs": [
    {
     "name": "stderr",
     "output_type": "stream",
     "text": [
      "ERROR:bokeh.core.validation.check:E-1001 (BAD_COLUMN_NAME): Glyph refers to nonexistent column name. This could either be due to a misspelling or typo, or due to an expected column being missing. : key \"x\" value \"time\", key \"y\" value \"day\" [renderer: GlyphRenderer(id='7279', ...)]\n"
     ]
    },
    {
     "data": {
      "text/html": [
       "\n",
       "\n",
       "\n",
       "\n",
       "\n",
       "\n",
       "  <div class=\"bk-root\" id=\"5189327c-90c0-402c-9aa5-d019d1047a7b\" data-root-id=\"7241\"></div>\n"
      ]
     },
     "metadata": {},
     "output_type": "display_data"
    },
    {
     "data": {
      "application/javascript": [
       "(function(root) {\n",
       "  function embed_document(root) {\n",
       "    \n",
       "  var docs_json = {\"69d3ab0a-c608-4756-8c4d-373fd33983dd\":{\"roots\":{\"references\":[{\"attributes\":{\"below\":[{\"id\":\"7251\",\"type\":\"DatetimeAxis\"}],\"left\":[{\"id\":\"7256\",\"type\":\"CategoricalAxis\"}],\"plot_width\":800,\"renderers\":[{\"id\":\"7251\",\"type\":\"DatetimeAxis\"},{\"id\":\"7255\",\"type\":\"Grid\"},{\"id\":\"7256\",\"type\":\"CategoricalAxis\"},{\"id\":\"7259\",\"type\":\"Grid\"},{\"id\":\"7268\",\"type\":\"BoxAnnotation\"},{\"id\":\"7279\",\"type\":\"GlyphRenderer\"}],\"title\":{\"id\":\"7240\",\"type\":\"Title\"},\"toolbar\":{\"id\":\"7266\",\"type\":\"Toolbar\"},\"x_range\":{\"id\":\"7243\",\"type\":\"DataRange1d\"},\"x_scale\":{\"id\":\"7247\",\"type\":\"LinearScale\"},\"y_range\":{\"id\":\"7245\",\"type\":\"FactorRange\"},\"y_scale\":{\"id\":\"7249\",\"type\":\"CategoricalScale\"}},\"id\":\"7241\",\"subtype\":\"Figure\",\"type\":\"Plot\"},{\"attributes\":{\"months\":[0,4,8]},\"id\":\"7547\",\"type\":\"MonthsTicker\"},{\"attributes\":{},\"id\":\"7534\",\"type\":\"DatetimeTickFormatter\"},{\"attributes\":{\"days\":[1,4,7,10,13,16,19,22,25,28]},\"id\":\"7542\",\"type\":\"DaysTicker\"},{\"attributes\":{},\"id\":\"7261\",\"type\":\"WheelZoomTool\"},{\"attributes\":{\"days\":[1,8,15,22]},\"id\":\"7543\",\"type\":\"DaysTicker\"},{\"attributes\":{},\"id\":\"7257\",\"type\":\"CategoricalTicker\"},{\"attributes\":{\"fill_alpha\":{\"value\":0.1},\"fill_color\":{\"value\":\"#1f77b4\"},\"line_alpha\":{\"value\":0.1},\"line_color\":{\"value\":\"#1f77b4\"},\"x\":{\"field\":\"time\"},\"y\":{\"field\":\"day\",\"transform\":{\"id\":\"7275\",\"type\":\"Jitter\"}}},\"id\":\"7278\",\"type\":\"Circle\"},{\"attributes\":{\"num_minor_ticks\":5,\"tickers\":[{\"id\":\"7538\",\"type\":\"AdaptiveTicker\"},{\"id\":\"7539\",\"type\":\"AdaptiveTicker\"},{\"id\":\"7540\",\"type\":\"AdaptiveTicker\"},{\"id\":\"7541\",\"type\":\"DaysTicker\"},{\"id\":\"7542\",\"type\":\"DaysTicker\"},{\"id\":\"7543\",\"type\":\"DaysTicker\"},{\"id\":\"7544\",\"type\":\"DaysTicker\"},{\"id\":\"7545\",\"type\":\"MonthsTicker\"},{\"id\":\"7546\",\"type\":\"MonthsTicker\"},{\"id\":\"7547\",\"type\":\"MonthsTicker\"},{\"id\":\"7548\",\"type\":\"MonthsTicker\"},{\"id\":\"7549\",\"type\":\"YearsTicker\"}]},\"id\":\"7252\",\"type\":\"DatetimeTicker\"},{\"attributes\":{\"formatter\":{\"id\":\"7536\",\"type\":\"CategoricalTickFormatter\"},\"plot\":{\"id\":\"7241\",\"subtype\":\"Figure\",\"type\":\"Plot\"},\"ticker\":{\"id\":\"7257\",\"type\":\"CategoricalTicker\"}},\"id\":\"7256\",\"type\":\"CategoricalAxis\"},{\"attributes\":{\"range\":{\"id\":\"7245\",\"type\":\"FactorRange\"},\"width\":0.6},\"id\":\"7275\",\"type\":\"Jitter\"},{\"attributes\":{\"fill_alpha\":{\"value\":0.3},\"fill_color\":{\"value\":\"#1f77b4\"},\"line_alpha\":{\"value\":0.3},\"line_color\":{\"value\":\"#1f77b4\"},\"x\":{\"field\":\"time\"},\"y\":{\"field\":\"day\",\"transform\":{\"id\":\"7275\",\"type\":\"Jitter\"}}},\"id\":\"7277\",\"type\":\"Circle\"},{\"attributes\":{\"dimension\":1,\"grid_line_color\":{\"value\":null},\"plot\":{\"id\":\"7241\",\"subtype\":\"Figure\",\"type\":\"Plot\"},\"ticker\":{\"id\":\"7257\",\"type\":\"CategoricalTicker\"}},\"id\":\"7259\",\"type\":\"Grid\"},{\"attributes\":{\"plot\":null,\"text\":\"Commits by Time of Day (US/Central) 2012-2016\"},\"id\":\"7240\",\"type\":\"Title\"},{\"attributes\":{},\"id\":\"7263\",\"type\":\"SaveTool\"},{\"attributes\":{\"active_drag\":\"auto\",\"active_inspect\":\"auto\",\"active_multi\":null,\"active_scroll\":\"auto\",\"active_tap\":\"auto\",\"tools\":[{\"id\":\"7260\",\"type\":\"PanTool\"},{\"id\":\"7261\",\"type\":\"WheelZoomTool\"},{\"id\":\"7262\",\"type\":\"BoxZoomTool\"},{\"id\":\"7263\",\"type\":\"SaveTool\"},{\"id\":\"7264\",\"type\":\"ResetTool\"},{\"id\":\"7265\",\"type\":\"HelpTool\"}]},\"id\":\"7266\",\"type\":\"Toolbar\"},{\"attributes\":{\"days\":[1,2,3,4,5,6,7,8,9,10,11,12,13,14,15,16,17,18,19,20,21,22,23,24,25,26,27,28,29,30,31]},\"id\":\"7541\",\"type\":\"DaysTicker\"},{\"attributes\":{\"callback\":null,\"data\":{\"2015\":[2,1,4,3,2,4],\"2016\":[5,3,4,2,4,6],\"2017\":[3,2,4,4,5,3],\"fruits\":[\"Apples\",\"Pears\",\"Nectarines\",\"Plums\",\"Grapes\",\"Strawberries\"]},\"selected\":{\"id\":\"7552\",\"type\":\"Selection\"},\"selection_policy\":{\"id\":\"7551\",\"type\":\"UnionRenderers\"}},\"id\":\"7239\",\"type\":\"ColumnDataSource\"},{\"attributes\":{\"months\":[0,2,4,6,8,10]},\"id\":\"7546\",\"type\":\"MonthsTicker\"},{\"attributes\":{\"bottom_units\":\"screen\",\"fill_alpha\":{\"value\":0.5},\"fill_color\":{\"value\":\"lightgrey\"},\"left_units\":\"screen\",\"level\":\"overlay\",\"line_alpha\":{\"value\":1.0},\"line_color\":{\"value\":\"black\"},\"line_dash\":[4,4],\"line_width\":{\"value\":2},\"plot\":null,\"render_mode\":\"css\",\"right_units\":\"screen\",\"top_units\":\"screen\"},\"id\":\"7268\",\"type\":\"BoxAnnotation\"},{\"attributes\":{\"callback\":null,\"factors\":[\"D\",\"A\",\"Y\",\"S\"]},\"id\":\"7245\",\"type\":\"FactorRange\"},{\"attributes\":{},\"id\":\"7247\",\"type\":\"LinearScale\"},{\"attributes\":{},\"id\":\"7551\",\"type\":\"UnionRenderers\"},{\"attributes\":{},\"id\":\"7260\",\"type\":\"PanTool\"},{\"attributes\":{},\"id\":\"7264\",\"type\":\"ResetTool\"},{\"attributes\":{\"base\":24,\"mantissas\":[1,2,4,6,8,12],\"max_interval\":43200000.0,\"min_interval\":3600000.0,\"num_minor_ticks\":0},\"id\":\"7540\",\"type\":\"AdaptiveTicker\"},{\"attributes\":{},\"id\":\"7549\",\"type\":\"YearsTicker\"},{\"attributes\":{\"days\":[1,15]},\"id\":\"7544\",\"type\":\"DaysTicker\"},{\"attributes\":{},\"id\":\"7552\",\"type\":\"Selection\"},{\"attributes\":{},\"id\":\"7249\",\"type\":\"CategoricalScale\"},{\"attributes\":{\"months\":[0,6]},\"id\":\"7548\",\"type\":\"MonthsTicker\"},{\"attributes\":{\"formatter\":{\"id\":\"7534\",\"type\":\"DatetimeTickFormatter\"},\"plot\":{\"id\":\"7241\",\"subtype\":\"Figure\",\"type\":\"Plot\"},\"ticker\":{\"id\":\"7252\",\"type\":\"DatetimeTicker\"}},\"id\":\"7251\",\"type\":\"DatetimeAxis\"},{\"attributes\":{},\"id\":\"7536\",\"type\":\"CategoricalTickFormatter\"},{\"attributes\":{\"source\":{\"id\":\"7239\",\"type\":\"ColumnDataSource\"}},\"id\":\"7280\",\"type\":\"CDSView\"},{\"attributes\":{\"data_source\":{\"id\":\"7239\",\"type\":\"ColumnDataSource\"},\"glyph\":{\"id\":\"7277\",\"type\":\"Circle\"},\"hover_glyph\":null,\"muted_glyph\":null,\"nonselection_glyph\":{\"id\":\"7278\",\"type\":\"Circle\"},\"selection_glyph\":null,\"view\":{\"id\":\"7280\",\"type\":\"CDSView\"}},\"id\":\"7279\",\"type\":\"GlyphRenderer\"},{\"attributes\":{\"months\":[0,1,2,3,4,5,6,7,8,9,10,11]},\"id\":\"7545\",\"type\":\"MonthsTicker\"},{\"attributes\":{\"plot\":{\"id\":\"7241\",\"subtype\":\"Figure\",\"type\":\"Plot\"},\"ticker\":{\"id\":\"7252\",\"type\":\"DatetimeTicker\"}},\"id\":\"7255\",\"type\":\"Grid\"},{\"attributes\":{\"mantissas\":[1,2,5],\"max_interval\":500.0,\"num_minor_ticks\":0},\"id\":\"7538\",\"type\":\"AdaptiveTicker\"},{\"attributes\":{\"callback\":null},\"id\":\"7243\",\"type\":\"DataRange1d\"},{\"attributes\":{\"overlay\":{\"id\":\"7268\",\"type\":\"BoxAnnotation\"}},\"id\":\"7262\",\"type\":\"BoxZoomTool\"},{\"attributes\":{\"base\":60,\"mantissas\":[1,2,5,10,15,20,30],\"max_interval\":1800000.0,\"min_interval\":1000.0,\"num_minor_ticks\":0},\"id\":\"7539\",\"type\":\"AdaptiveTicker\"},{\"attributes\":{},\"id\":\"7265\",\"type\":\"HelpTool\"}],\"root_ids\":[\"7241\"]},\"title\":\"Bokeh Application\",\"version\":\"1.0.4\"}};\n",
       "  var render_items = [{\"docid\":\"69d3ab0a-c608-4756-8c4d-373fd33983dd\",\"roots\":{\"7241\":\"5189327c-90c0-402c-9aa5-d019d1047a7b\"}}];\n",
       "  root.Bokeh.embed.embed_items_notebook(docs_json, render_items);\n",
       "\n",
       "  }\n",
       "  if (root.Bokeh !== undefined) {\n",
       "    embed_document(root);\n",
       "  } else {\n",
       "    var attempts = 0;\n",
       "    var timer = setInterval(function(root) {\n",
       "      if (root.Bokeh !== undefined) {\n",
       "        embed_document(root);\n",
       "        clearInterval(timer);\n",
       "      }\n",
       "      attempts++;\n",
       "      if (attempts > 100) {\n",
       "        console.log(\"Bokeh: ERROR: Unable to run BokehJS code because BokehJS library is missing\");\n",
       "        clearInterval(timer);\n",
       "      }\n",
       "    }, 10, root)\n",
       "  }\n",
       "})(window);"
      ],
      "application/vnd.bokehjs_exec.v0+json": ""
     },
     "metadata": {
      "application/vnd.bokehjs_exec.v0+json": {
       "id": "7241"
      }
     },
     "output_type": "display_data"
    }
   ],
   "source": [
    "# 2、浮动设置\n",
    "# Jitter\n",
    "# 参考文档：https://bokeh.pydata.org/en/latest/docs/reference/transform.html\n",
    "\n",
    "from bokeh.transform import jitter\n",
    "DAYS = ['Sun', 'Sat', 'Fri', 'Thu', 'Wed', 'Tue', 'Mon']\n",
    "source = ColumnDataSource(data)\n",
    "# 转化为ColumnDataSource对象\n",
    "\n",
    "p = figure(plot_width=800,plot_height=600,\n",
    "          y_range = 'DAYS',x_axis_type = 'datetime',\n",
    "          title=\"Commits by Time of Day (US/Central) 2012-2016\")\n",
    "p.circle(x = 'time',\n",
    "        y = jitter('day',width = 0.6,range = p.y_range),\n",
    "        source=source,alpha = 0.3)\n",
    "# jitter参数 → 'day'：第一参数，这里指y的值，width：间隔宽度比例，range：分类范围对象，这里和y轴的分类一致\n",
    "\n",
    "p.ygrid.grid_line_color = None\n",
    "# 设置其他参数\n",
    "show(p)"
   ]
  },
  {
   "cell_type": "code",
   "execution_count": 29,
   "metadata": {},
   "outputs": [
    {
     "data": {
      "text/html": [
       "\n",
       "\n",
       "\n",
       "\n",
       "\n",
       "\n",
       "  <div class=\"bk-root\" id=\"57bf0c13-48a1-415c-bc8f-8316c06470ef\" data-root-id=\"7821\"></div>\n"
      ]
     },
     "metadata": {},
     "output_type": "display_data"
    },
    {
     "data": {
      "application/javascript": [
       "(function(root) {\n",
       "  function embed_document(root) {\n",
       "    \n",
       "  var docs_json = {\"799311f0-3072-464f-ada7-9a64a93416bc\":{\"roots\":{\"references\":[{\"attributes\":{\"children\":[{\"id\":\"7820\",\"type\":\"ToolbarBox\"},{\"id\":\"7818\",\"type\":\"Column\"}]},\"id\":\"7821\",\"type\":\"Column\"},{\"attributes\":{},\"id\":\"7811\",\"type\":\"BasicTickFormatter\"},{\"attributes\":{\"toolbar\":{\"id\":\"7819\",\"type\":\"ProxyToolbar\"},\"toolbar_location\":\"above\"},\"id\":\"7820\",\"type\":\"ToolbarBox\"},{\"attributes\":{},\"id\":\"7796\",\"type\":\"UnionRenderers\"},{\"attributes\":{},\"id\":\"7697\",\"type\":\"ResetTool\"},{\"attributes\":{\"below\":[{\"id\":\"7683\",\"type\":\"LinearAxis\"}],\"left\":[{\"id\":\"7688\",\"type\":\"LinearAxis\"}],\"plot_height\":250,\"plot_width\":250,\"renderers\":[{\"id\":\"7683\",\"type\":\"LinearAxis\"},{\"id\":\"7687\",\"type\":\"Grid\"},{\"id\":\"7688\",\"type\":\"LinearAxis\"},{\"id\":\"7692\",\"type\":\"Grid\"},{\"id\":\"7701\",\"type\":\"BoxAnnotation\"},{\"id\":\"7711\",\"type\":\"GlyphRenderer\"}],\"title\":null,\"toolbar\":{\"id\":\"7699\",\"type\":\"Toolbar\"},\"toolbar_location\":null,\"x_range\":{\"id\":\"7675\",\"type\":\"DataRange1d\"},\"x_scale\":{\"id\":\"7679\",\"type\":\"LinearScale\"},\"y_range\":{\"id\":\"7677\",\"type\":\"DataRange1d\"},\"y_scale\":{\"id\":\"7681\",\"type\":\"LinearScale\"}},\"id\":\"7673\",\"subtype\":\"Figure\",\"type\":\"Plot\"},{\"attributes\":{},\"id\":\"7814\",\"type\":\"UnionRenderers\"},{\"attributes\":{},\"id\":\"7698\",\"type\":\"HelpTool\"},{\"attributes\":{},\"id\":\"7815\",\"type\":\"Selection\"},{\"attributes\":{},\"id\":\"7793\",\"type\":\"BasicTickFormatter\"},{\"attributes\":{},\"id\":\"7791\",\"type\":\"BasicTickFormatter\"},{\"attributes\":{\"children\":[{\"id\":\"7673\",\"subtype\":\"Figure\",\"type\":\"Plot\"},{\"id\":\"7713\",\"subtype\":\"Figure\",\"type\":\"Plot\"},{\"id\":\"7751\",\"subtype\":\"Figure\",\"type\":\"Plot\"}]},\"id\":\"7817\",\"type\":\"Row\"},{\"attributes\":{\"tools\":[{\"id\":\"7693\",\"type\":\"PanTool\"},{\"id\":\"7694\",\"type\":\"WheelZoomTool\"},{\"id\":\"7695\",\"type\":\"BoxZoomTool\"},{\"id\":\"7696\",\"type\":\"SaveTool\"},{\"id\":\"7697\",\"type\":\"ResetTool\"},{\"id\":\"7698\",\"type\":\"HelpTool\"},{\"id\":\"7731\",\"type\":\"PanTool\"},{\"id\":\"7732\",\"type\":\"WheelZoomTool\"},{\"id\":\"7733\",\"type\":\"BoxZoomTool\"},{\"id\":\"7734\",\"type\":\"SaveTool\"},{\"id\":\"7735\",\"type\":\"ResetTool\"},{\"id\":\"7736\",\"type\":\"HelpTool\"},{\"id\":\"7770\",\"type\":\"PanTool\"},{\"id\":\"7771\",\"type\":\"WheelZoomTool\"},{\"id\":\"7772\",\"type\":\"BoxZoomTool\"},{\"id\":\"7773\",\"type\":\"SaveTool\"},{\"id\":\"7774\",\"type\":\"ResetTool\"},{\"id\":\"7775\",\"type\":\"HelpTool\"}]},\"id\":\"7819\",\"type\":\"ProxyToolbar\"},{\"attributes\":{},\"id\":\"7696\",\"type\":\"SaveTool\"},{\"attributes\":{\"overlay\":{\"id\":\"7778\",\"type\":\"BoxAnnotation\"}},\"id\":\"7772\",\"type\":\"BoxZoomTool\"},{\"attributes\":{},\"id\":\"7773\",\"type\":\"SaveTool\"},{\"attributes\":{},\"id\":\"7802\",\"type\":\"BasicTickFormatter\"},{\"attributes\":{},\"id\":\"7809\",\"type\":\"BasicTickFormatter\"},{\"attributes\":{},\"id\":\"7805\",\"type\":\"UnionRenderers\"},{\"attributes\":{},\"id\":\"7797\",\"type\":\"Selection\"},{\"attributes\":{},\"id\":\"7806\",\"type\":\"Selection\"},{\"attributes\":{},\"id\":\"7774\",\"type\":\"ResetTool\"},{\"attributes\":{\"active_drag\":\"auto\",\"active_inspect\":\"auto\",\"active_multi\":null,\"active_scroll\":\"auto\",\"active_tap\":\"auto\",\"tools\":[{\"id\":\"7731\",\"type\":\"PanTool\"},{\"id\":\"7732\",\"type\":\"WheelZoomTool\"},{\"id\":\"7733\",\"type\":\"BoxZoomTool\"},{\"id\":\"7734\",\"type\":\"SaveTool\"},{\"id\":\"7735\",\"type\":\"ResetTool\"},{\"id\":\"7736\",\"type\":\"HelpTool\"}]},\"id\":\"7737\",\"type\":\"Toolbar\"},{\"attributes\":{\"callback\":null},\"id\":\"7754\",\"type\":\"DataRange1d\"},{\"attributes\":{\"below\":[{\"id\":\"7760\",\"type\":\"LinearAxis\"}],\"left\":[{\"id\":\"7765\",\"type\":\"LinearAxis\"}],\"plot_height\":250,\"plot_width\":250,\"renderers\":[{\"id\":\"7760\",\"type\":\"LinearAxis\"},{\"id\":\"7764\",\"type\":\"Grid\"},{\"id\":\"7765\",\"type\":\"LinearAxis\"},{\"id\":\"7769\",\"type\":\"Grid\"},{\"id\":\"7778\",\"type\":\"BoxAnnotation\"},{\"id\":\"7788\",\"type\":\"GlyphRenderer\"}],\"title\":null,\"toolbar\":{\"id\":\"7776\",\"type\":\"Toolbar\"},\"toolbar_location\":null,\"x_range\":{\"id\":\"7675\",\"type\":\"DataRange1d\"},\"x_scale\":{\"id\":\"7756\",\"type\":\"LinearScale\"},\"y_range\":{\"id\":\"7754\",\"type\":\"DataRange1d\"},\"y_scale\":{\"id\":\"7758\",\"type\":\"LinearScale\"}},\"id\":\"7751\",\"subtype\":\"Figure\",\"type\":\"Plot\"},{\"attributes\":{\"plot\":{\"id\":\"7673\",\"subtype\":\"Figure\",\"type\":\"Plot\"},\"ticker\":{\"id\":\"7684\",\"type\":\"BasicTicker\"}},\"id\":\"7687\",\"type\":\"Grid\"},{\"attributes\":{\"children\":[{\"id\":\"7817\",\"type\":\"Row\"}]},\"id\":\"7818\",\"type\":\"Column\"},{\"attributes\":{},\"id\":\"7694\",\"type\":\"WheelZoomTool\"},{\"attributes\":{},\"id\":\"7719\",\"type\":\"LinearScale\"},{\"attributes\":{\"source\":{\"id\":\"7746\",\"type\":\"ColumnDataSource\"}},\"id\":\"7750\",\"type\":\"CDSView\"},{\"attributes\":{\"below\":[{\"id\":\"7721\",\"type\":\"LinearAxis\"}],\"left\":[{\"id\":\"7726\",\"type\":\"LinearAxis\"}],\"plot_height\":250,\"plot_width\":250,\"renderers\":[{\"id\":\"7721\",\"type\":\"LinearAxis\"},{\"id\":\"7725\",\"type\":\"Grid\"},{\"id\":\"7726\",\"type\":\"LinearAxis\"},{\"id\":\"7730\",\"type\":\"Grid\"},{\"id\":\"7739\",\"type\":\"BoxAnnotation\"},{\"id\":\"7749\",\"type\":\"GlyphRenderer\"}],\"title\":null,\"toolbar\":{\"id\":\"7737\",\"type\":\"Toolbar\"},\"toolbar_location\":null,\"x_range\":{\"id\":\"7675\",\"type\":\"DataRange1d\"},\"x_scale\":{\"id\":\"7717\",\"type\":\"LinearScale\"},\"y_range\":{\"id\":\"7677\",\"type\":\"DataRange1d\"},\"y_scale\":{\"id\":\"7719\",\"type\":\"LinearScale\"}},\"id\":\"7713\",\"subtype\":\"Figure\",\"type\":\"Plot\"},{\"attributes\":{\"fill_alpha\":{\"value\":0.5},\"fill_color\":{\"value\":\"navy\"},\"line_alpha\":{\"value\":0.5},\"line_color\":{\"value\":\"navy\"},\"size\":{\"units\":\"screen\",\"value\":10},\"x\":{\"field\":\"x\"},\"y\":{\"field\":\"y\"}},\"id\":\"7709\",\"type\":\"Circle\"},{\"attributes\":{},\"id\":\"7717\",\"type\":\"LinearScale\"},{\"attributes\":{\"formatter\":{\"id\":\"7800\",\"type\":\"BasicTickFormatter\"},\"plot\":{\"id\":\"7713\",\"subtype\":\"Figure\",\"type\":\"Plot\"},\"ticker\":{\"id\":\"7722\",\"type\":\"BasicTicker\"}},\"id\":\"7721\",\"type\":\"LinearAxis\"},{\"attributes\":{\"data_source\":{\"id\":\"7708\",\"type\":\"ColumnDataSource\"},\"glyph\":{\"id\":\"7709\",\"type\":\"Circle\"},\"hover_glyph\":null,\"muted_glyph\":null,\"nonselection_glyph\":{\"id\":\"7710\",\"type\":\"Circle\"},\"selection_glyph\":null,\"view\":{\"id\":\"7712\",\"type\":\"CDSView\"}},\"id\":\"7711\",\"type\":\"GlyphRenderer\"},{\"attributes\":{\"callback\":null,\"data\":{\"x\":[0,1,2,3,4,5,6,7,8,9,10],\"y\":[10,9,8,7,6,5,4,3,2,1,0]},\"selected\":{\"id\":\"7806\",\"type\":\"Selection\"},\"selection_policy\":{\"id\":\"7805\",\"type\":\"UnionRenderers\"}},\"id\":\"7746\",\"type\":\"ColumnDataSource\"},{\"attributes\":{},\"id\":\"7693\",\"type\":\"PanTool\"},{\"attributes\":{\"source\":{\"id\":\"7708\",\"type\":\"ColumnDataSource\"}},\"id\":\"7712\",\"type\":\"CDSView\"},{\"attributes\":{},\"id\":\"7684\",\"type\":\"BasicTicker\"},{\"attributes\":{\"formatter\":{\"id\":\"7791\",\"type\":\"BasicTickFormatter\"},\"plot\":{\"id\":\"7673\",\"subtype\":\"Figure\",\"type\":\"Plot\"},\"ticker\":{\"id\":\"7684\",\"type\":\"BasicTicker\"}},\"id\":\"7683\",\"type\":\"LinearAxis\"},{\"attributes\":{},\"id\":\"7722\",\"type\":\"BasicTicker\"},{\"attributes\":{\"formatter\":{\"id\":\"7793\",\"type\":\"BasicTickFormatter\"},\"plot\":{\"id\":\"7673\",\"subtype\":\"Figure\",\"type\":\"Plot\"},\"ticker\":{\"id\":\"7689\",\"type\":\"BasicTicker\"}},\"id\":\"7688\",\"type\":\"LinearAxis\"},{\"attributes\":{\"plot\":{\"id\":\"7713\",\"subtype\":\"Figure\",\"type\":\"Plot\"},\"ticker\":{\"id\":\"7722\",\"type\":\"BasicTicker\"}},\"id\":\"7725\",\"type\":\"Grid\"},{\"attributes\":{},\"id\":\"7800\",\"type\":\"BasicTickFormatter\"},{\"attributes\":{\"callback\":null},\"id\":\"7675\",\"type\":\"DataRange1d\"},{\"attributes\":{\"plot\":{\"id\":\"7751\",\"subtype\":\"Figure\",\"type\":\"Plot\"},\"ticker\":{\"id\":\"7761\",\"type\":\"BasicTicker\"}},\"id\":\"7764\",\"type\":\"Grid\"},{\"attributes\":{\"overlay\":{\"id\":\"7701\",\"type\":\"BoxAnnotation\"}},\"id\":\"7695\",\"type\":\"BoxZoomTool\"},{\"attributes\":{\"formatter\":{\"id\":\"7811\",\"type\":\"BasicTickFormatter\"},\"plot\":{\"id\":\"7751\",\"subtype\":\"Figure\",\"type\":\"Plot\"},\"ticker\":{\"id\":\"7766\",\"type\":\"BasicTicker\"}},\"id\":\"7765\",\"type\":\"LinearAxis\"},{\"attributes\":{\"callback\":null},\"id\":\"7677\",\"type\":\"DataRange1d\"},{\"attributes\":{\"fill_alpha\":{\"value\":0.1},\"fill_color\":{\"value\":\"#1f77b4\"},\"line_alpha\":{\"value\":0.1},\"line_color\":{\"value\":\"#1f77b4\"},\"size\":{\"units\":\"screen\",\"value\":10},\"x\":{\"field\":\"x\"},\"y\":{\"field\":\"y\"}},\"id\":\"7710\",\"type\":\"Circle\"},{\"attributes\":{\"dimension\":1,\"plot\":{\"id\":\"7673\",\"subtype\":\"Figure\",\"type\":\"Plot\"},\"ticker\":{\"id\":\"7689\",\"type\":\"BasicTicker\"}},\"id\":\"7692\",\"type\":\"Grid\"},{\"attributes\":{\"data_source\":{\"id\":\"7746\",\"type\":\"ColumnDataSource\"},\"glyph\":{\"id\":\"7747\",\"type\":\"Triangle\"},\"hover_glyph\":null,\"muted_glyph\":null,\"nonselection_glyph\":{\"id\":\"7748\",\"type\":\"Triangle\"},\"selection_glyph\":null,\"view\":{\"id\":\"7750\",\"type\":\"CDSView\"}},\"id\":\"7749\",\"type\":\"GlyphRenderer\"},{\"attributes\":{\"callback\":null,\"data\":{\"x\":[0,1,2,3,4,5,6,7,8,9,10],\"y\":[0,1,2,3,4,5,6,7,8,9,10]},\"selected\":{\"id\":\"7797\",\"type\":\"Selection\"},\"selection_policy\":{\"id\":\"7796\",\"type\":\"UnionRenderers\"}},\"id\":\"7708\",\"type\":\"ColumnDataSource\"},{\"attributes\":{\"overlay\":{\"id\":\"7739\",\"type\":\"BoxAnnotation\"}},\"id\":\"7733\",\"type\":\"BoxZoomTool\"},{\"attributes\":{},\"id\":\"7689\",\"type\":\"BasicTicker\"},{\"attributes\":{\"bottom_units\":\"screen\",\"fill_alpha\":{\"value\":0.5},\"fill_color\":{\"value\":\"lightgrey\"},\"left_units\":\"screen\",\"level\":\"overlay\",\"line_alpha\":{\"value\":1.0},\"line_color\":{\"value\":\"black\"},\"line_dash\":[4,4],\"line_width\":{\"value\":2},\"plot\":null,\"render_mode\":\"css\",\"right_units\":\"screen\",\"top_units\":\"screen\"},\"id\":\"7701\",\"type\":\"BoxAnnotation\"},{\"attributes\":{\"fill_alpha\":{\"value\":0.5},\"fill_color\":{\"value\":\"olive\"},\"line_alpha\":{\"value\":0.5},\"line_color\":{\"value\":\"olive\"},\"size\":{\"units\":\"screen\",\"value\":10},\"x\":{\"field\":\"x\"},\"y\":{\"field\":\"y\"}},\"id\":\"7786\",\"type\":\"Square\"},{\"attributes\":{\"callback\":null,\"data\":{\"x\":[0,1,2,3,4,5,6,7,8,9,10],\"y\":[5,4,3,2,1,0,1,2,3,4,5]},\"selected\":{\"id\":\"7815\",\"type\":\"Selection\"},\"selection_policy\":{\"id\":\"7814\",\"type\":\"UnionRenderers\"}},\"id\":\"7785\",\"type\":\"ColumnDataSource\"},{\"attributes\":{},\"id\":\"7771\",\"type\":\"WheelZoomTool\"},{\"attributes\":{},\"id\":\"7681\",\"type\":\"LinearScale\"},{\"attributes\":{},\"id\":\"7727\",\"type\":\"BasicTicker\"},{\"attributes\":{\"bottom_units\":\"screen\",\"fill_alpha\":{\"value\":0.5},\"fill_color\":{\"value\":\"lightgrey\"},\"left_units\":\"screen\",\"level\":\"overlay\",\"line_alpha\":{\"value\":1.0},\"line_color\":{\"value\":\"black\"},\"line_dash\":[4,4],\"line_width\":{\"value\":2},\"plot\":null,\"render_mode\":\"css\",\"right_units\":\"screen\",\"top_units\":\"screen\"},\"id\":\"7778\",\"type\":\"BoxAnnotation\"},{\"attributes\":{},\"id\":\"7679\",\"type\":\"LinearScale\"},{\"attributes\":{},\"id\":\"7758\",\"type\":\"LinearScale\"},{\"attributes\":{\"fill_alpha\":{\"value\":0.1},\"fill_color\":{\"value\":\"#1f77b4\"},\"line_alpha\":{\"value\":0.1},\"line_color\":{\"value\":\"#1f77b4\"},\"size\":{\"units\":\"screen\",\"value\":10},\"x\":{\"field\":\"x\"},\"y\":{\"field\":\"y\"}},\"id\":\"7748\",\"type\":\"Triangle\"},{\"attributes\":{\"bottom_units\":\"screen\",\"fill_alpha\":{\"value\":0.5},\"fill_color\":{\"value\":\"lightgrey\"},\"left_units\":\"screen\",\"level\":\"overlay\",\"line_alpha\":{\"value\":1.0},\"line_color\":{\"value\":\"black\"},\"line_dash\":[4,4],\"line_width\":{\"value\":2},\"plot\":null,\"render_mode\":\"css\",\"right_units\":\"screen\",\"top_units\":\"screen\"},\"id\":\"7739\",\"type\":\"BoxAnnotation\"},{\"attributes\":{\"dimension\":1,\"plot\":{\"id\":\"7751\",\"subtype\":\"Figure\",\"type\":\"Plot\"},\"ticker\":{\"id\":\"7766\",\"type\":\"BasicTicker\"}},\"id\":\"7769\",\"type\":\"Grid\"},{\"attributes\":{\"dimension\":1,\"plot\":{\"id\":\"7713\",\"subtype\":\"Figure\",\"type\":\"Plot\"},\"ticker\":{\"id\":\"7727\",\"type\":\"BasicTicker\"}},\"id\":\"7730\",\"type\":\"Grid\"},{\"attributes\":{\"formatter\":{\"id\":\"7809\",\"type\":\"BasicTickFormatter\"},\"plot\":{\"id\":\"7751\",\"subtype\":\"Figure\",\"type\":\"Plot\"},\"ticker\":{\"id\":\"7761\",\"type\":\"BasicTicker\"}},\"id\":\"7760\",\"type\":\"LinearAxis\"},{\"attributes\":{},\"id\":\"7770\",\"type\":\"PanTool\"},{\"attributes\":{},\"id\":\"7731\",\"type\":\"PanTool\"},{\"attributes\":{\"fill_alpha\":{\"value\":0.5},\"fill_color\":{\"value\":\"firebrick\"},\"line_alpha\":{\"value\":0.5},\"line_color\":{\"value\":\"firebrick\"},\"size\":{\"units\":\"screen\",\"value\":10},\"x\":{\"field\":\"x\"},\"y\":{\"field\":\"y\"}},\"id\":\"7747\",\"type\":\"Triangle\"},{\"attributes\":{\"data_source\":{\"id\":\"7785\",\"type\":\"ColumnDataSource\"},\"glyph\":{\"id\":\"7786\",\"type\":\"Square\"},\"hover_glyph\":null,\"muted_glyph\":null,\"nonselection_glyph\":{\"id\":\"7787\",\"type\":\"Square\"},\"selection_glyph\":null,\"view\":{\"id\":\"7789\",\"type\":\"CDSView\"}},\"id\":\"7788\",\"type\":\"GlyphRenderer\"},{\"attributes\":{\"formatter\":{\"id\":\"7802\",\"type\":\"BasicTickFormatter\"},\"plot\":{\"id\":\"7713\",\"subtype\":\"Figure\",\"type\":\"Plot\"},\"ticker\":{\"id\":\"7727\",\"type\":\"BasicTicker\"}},\"id\":\"7726\",\"type\":\"LinearAxis\"},{\"attributes\":{},\"id\":\"7732\",\"type\":\"WheelZoomTool\"},{\"attributes\":{\"active_drag\":\"auto\",\"active_inspect\":\"auto\",\"active_multi\":null,\"active_scroll\":\"auto\",\"active_tap\":\"auto\",\"tools\":[{\"id\":\"7770\",\"type\":\"PanTool\"},{\"id\":\"7771\",\"type\":\"WheelZoomTool\"},{\"id\":\"7772\",\"type\":\"BoxZoomTool\"},{\"id\":\"7773\",\"type\":\"SaveTool\"},{\"id\":\"7774\",\"type\":\"ResetTool\"},{\"id\":\"7775\",\"type\":\"HelpTool\"}]},\"id\":\"7776\",\"type\":\"Toolbar\"},{\"attributes\":{},\"id\":\"7734\",\"type\":\"SaveTool\"},{\"attributes\":{},\"id\":\"7735\",\"type\":\"ResetTool\"},{\"attributes\":{},\"id\":\"7736\",\"type\":\"HelpTool\"},{\"attributes\":{\"fill_alpha\":{\"value\":0.1},\"fill_color\":{\"value\":\"#1f77b4\"},\"line_alpha\":{\"value\":0.1},\"line_color\":{\"value\":\"#1f77b4\"},\"size\":{\"units\":\"screen\",\"value\":10},\"x\":{\"field\":\"x\"},\"y\":{\"field\":\"y\"}},\"id\":\"7787\",\"type\":\"Square\"},{\"attributes\":{},\"id\":\"7761\",\"type\":\"BasicTicker\"},{\"attributes\":{},\"id\":\"7775\",\"type\":\"HelpTool\"},{\"attributes\":{\"active_drag\":\"auto\",\"active_inspect\":\"auto\",\"active_multi\":null,\"active_scroll\":\"auto\",\"active_tap\":\"auto\",\"tools\":[{\"id\":\"7693\",\"type\":\"PanTool\"},{\"id\":\"7694\",\"type\":\"WheelZoomTool\"},{\"id\":\"7695\",\"type\":\"BoxZoomTool\"},{\"id\":\"7696\",\"type\":\"SaveTool\"},{\"id\":\"7697\",\"type\":\"ResetTool\"},{\"id\":\"7698\",\"type\":\"HelpTool\"}]},\"id\":\"7699\",\"type\":\"Toolbar\"},{\"attributes\":{\"source\":{\"id\":\"7785\",\"type\":\"ColumnDataSource\"}},\"id\":\"7789\",\"type\":\"CDSView\"},{\"attributes\":{},\"id\":\"7756\",\"type\":\"LinearScale\"},{\"attributes\":{},\"id\":\"7766\",\"type\":\"BasicTicker\"}],\"root_ids\":[\"7821\"]},\"title\":\"Bokeh Application\",\"version\":\"1.0.4\"}};\n",
       "  var render_items = [{\"docid\":\"799311f0-3072-464f-ada7-9a64a93416bc\",\"roots\":{\"7821\":\"57bf0c13-48a1-415c-bc8f-8316c06470ef\"}}];\n",
       "  root.Bokeh.embed.embed_items_notebook(docs_json, render_items);\n",
       "\n",
       "  }\n",
       "  if (root.Bokeh !== undefined) {\n",
       "    embed_document(root);\n",
       "  } else {\n",
       "    var attempts = 0;\n",
       "    var timer = setInterval(function(root) {\n",
       "      if (root.Bokeh !== undefined) {\n",
       "        embed_document(root);\n",
       "        clearInterval(timer);\n",
       "      }\n",
       "      attempts++;\n",
       "      if (attempts > 100) {\n",
       "        console.log(\"Bokeh: ERROR: Unable to run BokehJS code because BokehJS library is missing\");\n",
       "        clearInterval(timer);\n",
       "      }\n",
       "    }, 10, root)\n",
       "  }\n",
       "})(window);"
      ],
      "application/vnd.bokehjs_exec.v0+json": ""
     },
     "metadata": {
      "application/vnd.bokehjs_exec.v0+json": {
       "id": "7821"
      }
     },
     "output_type": "display_data"
    }
   ],
   "source": [
    "# 3、多图表设置\n",
    "# gridplot\n",
    "\n",
    "from bokeh.layouts import gridplot\n",
    "# 导入gridplot模块\n",
    "\n",
    "x = list(range(11))\n",
    "y0 = x\n",
    "y1 = [10-xx for xx in x]\n",
    "y2 = [abs(xx-5) for xx in x]\n",
    "# 创建数据\n",
    "\n",
    "s1 = figure(plot_width=250, plot_height=250, title=None)\n",
    "s1.circle(x, y0, size=10, color=\"navy\", alpha=0.5)\n",
    "# 散点图1\n",
    "\n",
    "s2 = figure(plot_width=250, plot_height=250, x_range=s1.x_range, y_range=s1.y_range, title=None)\n",
    "s2.triangle(x, y1, size=10, color=\"firebrick\", alpha=0.5)\n",
    "# 散点图2，设置和散点图1一样的x_range/y_range → 图表联动\n",
    "\n",
    "s3 = figure(plot_width=250, plot_height=250, x_range=s1.x_range, title=None)\n",
    "s3.square(x, y2, size=10, color=\"olive\", alpha=0.5)\n",
    "# 散点图3，设置和散点图1一样的x_range/y_range → 图表联动\n",
    "\n",
    "p = gridplot([[s1, s2, s3]])\n",
    "#p = gridplot([[s1, s2], [None, s3]])\n",
    "# 组合图表\n",
    "\n",
    "show(p)"
   ]
  },
  {
   "cell_type": "code",
   "execution_count": 30,
   "metadata": {},
   "outputs": [
    {
     "data": {
      "text/html": [
       "\n",
       "\n",
       "\n",
       "\n",
       "\n",
       "\n",
       "  <div class=\"bk-root\" id=\"8a7cef25-5efb-4cbf-9f81-3da0ea80be75\" data-root-id=\"8359\"></div>\n"
      ]
     },
     "metadata": {},
     "output_type": "display_data"
    },
    {
     "data": {
      "application/javascript": [
       "(function(root) {\n",
       "  function embed_document(root) {\n",
       "    \n",
       "  var docs_json = {\"9246ce59-56d2-4516-af8f-f3e90cfa7874\":{\"roots\":{\"references\":[{\"attributes\":{\"children\":[{\"id\":\"8358\",\"type\":\"ToolbarBox\"},{\"id\":\"8356\",\"type\":\"Column\"}]},\"id\":\"8359\",\"type\":\"Column\"},{\"attributes\":{},\"id\":\"8274\",\"type\":\"BasicTicker\"},{\"attributes\":{\"callback\":null,\"overlay\":{\"id\":\"8322\",\"type\":\"BoxAnnotation\"}},\"id\":\"8319\",\"type\":\"BoxSelectTool\"},{\"attributes\":{},\"id\":\"8342\",\"type\":\"UnionRenderers\"},{\"attributes\":{\"children\":[{\"id\":\"8355\",\"type\":\"Row\"}]},\"id\":\"8356\",\"type\":\"Column\"},{\"attributes\":{\"children\":[{\"id\":\"8263\",\"subtype\":\"Figure\",\"type\":\"Plot\"},{\"id\":\"8299\",\"subtype\":\"Figure\",\"type\":\"Plot\"}]},\"id\":\"8355\",\"type\":\"Row\"},{\"attributes\":{\"callback\":null},\"id\":\"8301\",\"type\":\"DataRange1d\"},{\"attributes\":{\"source\":{\"id\":\"8262\",\"type\":\"ColumnDataSource\"}},\"id\":\"8298\",\"type\":\"CDSView\"},{\"attributes\":{\"formatter\":{\"id\":\"8338\",\"type\":\"BasicTickFormatter\"},\"plot\":{\"id\":\"8263\",\"subtype\":\"Figure\",\"type\":\"Plot\"},\"ticker\":{\"id\":\"8279\",\"type\":\"BasicTicker\"}},\"id\":\"8278\",\"type\":\"LinearAxis\"},{\"attributes\":{\"callback\":null,\"overlay\":{\"id\":\"8325\",\"type\":\"PolyAnnotation\"}},\"id\":\"8320\",\"type\":\"LassoSelectTool\"},{\"attributes\":{\"active_drag\":\"auto\",\"active_inspect\":\"auto\",\"active_multi\":null,\"active_scroll\":\"auto\",\"active_tap\":\"auto\",\"tools\":[{\"id\":\"8283\",\"type\":\"BoxSelectTool\"},{\"id\":\"8284\",\"type\":\"LassoSelectTool\"},{\"id\":\"8285\",\"type\":\"HelpTool\"}]},\"id\":\"8288\",\"type\":\"Toolbar\"},{\"attributes\":{},\"id\":\"8338\",\"type\":\"BasicTickFormatter\"},{\"attributes\":{\"fill_alpha\":{\"value\":0.5},\"fill_color\":{\"value\":\"lightgrey\"},\"level\":\"overlay\",\"line_alpha\":{\"value\":1.0},\"line_color\":{\"value\":\"black\"},\"line_dash\":[4,4],\"line_width\":{\"value\":2},\"plot\":null,\"xs_units\":\"screen\",\"ys_units\":\"screen\"},\"id\":\"8325\",\"type\":\"PolyAnnotation\"},{\"attributes\":{\"data_source\":{\"id\":\"8262\",\"type\":\"ColumnDataSource\"},\"glyph\":{\"id\":\"8295\",\"type\":\"Circle\"},\"hover_glyph\":null,\"muted_glyph\":null,\"nonselection_glyph\":{\"id\":\"8296\",\"type\":\"Circle\"},\"selection_glyph\":null,\"view\":{\"id\":\"8298\",\"type\":\"CDSView\"}},\"id\":\"8297\",\"type\":\"GlyphRenderer\"},{\"attributes\":{},\"id\":\"8285\",\"type\":\"HelpTool\"},{\"attributes\":{\"data_source\":{\"id\":\"8262\",\"type\":\"ColumnDataSource\"},\"glyph\":{\"id\":\"8331\",\"type\":\"Circle\"},\"hover_glyph\":null,\"muted_glyph\":null,\"nonselection_glyph\":{\"id\":\"8332\",\"type\":\"Circle\"},\"selection_glyph\":null,\"view\":{\"id\":\"8334\",\"type\":\"CDSView\"}},\"id\":\"8333\",\"type\":\"GlyphRenderer\"},{\"attributes\":{},\"id\":\"8348\",\"type\":\"BasicTickFormatter\"},{\"attributes\":{},\"id\":\"8269\",\"type\":\"LinearScale\"},{\"attributes\":{\"fill_alpha\":{\"value\":0.1},\"fill_color\":{\"value\":\"#1f77b4\"},\"line_alpha\":{\"value\":0.1},\"line_color\":{\"value\":\"#1f77b4\"},\"x\":{\"field\":\"x\"},\"y\":{\"field\":\"y0\"}},\"id\":\"8296\",\"type\":\"Circle\"},{\"attributes\":{},\"id\":\"8346\",\"type\":\"BasicTickFormatter\"},{\"attributes\":{\"formatter\":{\"id\":\"8336\",\"type\":\"BasicTickFormatter\"},\"plot\":{\"id\":\"8263\",\"subtype\":\"Figure\",\"type\":\"Plot\"},\"ticker\":{\"id\":\"8274\",\"type\":\"BasicTicker\"}},\"id\":\"8273\",\"type\":\"LinearAxis\"},{\"attributes\":{\"formatter\":{\"id\":\"8348\",\"type\":\"BasicTickFormatter\"},\"plot\":{\"id\":\"8299\",\"subtype\":\"Figure\",\"type\":\"Plot\"},\"ticker\":{\"id\":\"8315\",\"type\":\"BasicTicker\"}},\"id\":\"8314\",\"type\":\"LinearAxis\"},{\"attributes\":{\"fill_alpha\":{\"value\":0.1},\"fill_color\":{\"value\":\"#1f77b4\"},\"line_alpha\":{\"value\":0.1},\"line_color\":{\"value\":\"#1f77b4\"},\"x\":{\"field\":\"x\"},\"y\":{\"field\":\"y1\"}},\"id\":\"8332\",\"type\":\"Circle\"},{\"attributes\":{\"tools\":[{\"id\":\"8283\",\"type\":\"BoxSelectTool\"},{\"id\":\"8284\",\"type\":\"LassoSelectTool\"},{\"id\":\"8285\",\"type\":\"HelpTool\"},{\"id\":\"8319\",\"type\":\"BoxSelectTool\"},{\"id\":\"8320\",\"type\":\"LassoSelectTool\"},{\"id\":\"8321\",\"type\":\"HelpTool\"}]},\"id\":\"8357\",\"type\":\"ProxyToolbar\"},{\"attributes\":{},\"id\":\"8271\",\"type\":\"LinearScale\"},{\"attributes\":{\"callback\":null,\"overlay\":{\"id\":\"8289\",\"type\":\"PolyAnnotation\"}},\"id\":\"8284\",\"type\":\"LassoSelectTool\"},{\"attributes\":{\"fill_alpha\":{\"value\":0.5},\"fill_color\":{\"value\":\"lightgrey\"},\"level\":\"overlay\",\"line_alpha\":{\"value\":1.0},\"line_color\":{\"value\":\"black\"},\"line_dash\":[4,4],\"line_width\":{\"value\":2},\"plot\":null,\"xs_units\":\"screen\",\"ys_units\":\"screen\"},\"id\":\"8289\",\"type\":\"PolyAnnotation\"},{\"attributes\":{\"fill_color\":{\"value\":\"#1f77b4\"},\"line_color\":{\"value\":\"#1f77b4\"},\"x\":{\"field\":\"x\"},\"y\":{\"field\":\"y1\"}},\"id\":\"8331\",\"type\":\"Circle\"},{\"attributes\":{\"callback\":null},\"id\":\"8265\",\"type\":\"DataRange1d\"},{\"attributes\":{},\"id\":\"8321\",\"type\":\"HelpTool\"},{\"attributes\":{\"bottom_units\":\"screen\",\"fill_alpha\":{\"value\":0.5},\"fill_color\":{\"value\":\"lightgrey\"},\"left_units\":\"screen\",\"level\":\"overlay\",\"line_alpha\":{\"value\":1.0},\"line_color\":{\"value\":\"black\"},\"line_dash\":[4,4],\"line_width\":{\"value\":2},\"plot\":null,\"render_mode\":\"css\",\"right_units\":\"screen\",\"top_units\":\"screen\"},\"id\":\"8286\",\"type\":\"BoxAnnotation\"},{\"attributes\":{\"below\":[{\"id\":\"8309\",\"type\":\"LinearAxis\"}],\"left\":[{\"id\":\"8314\",\"type\":\"LinearAxis\"}],\"plot_height\":300,\"plot_width\":300,\"renderers\":[{\"id\":\"8309\",\"type\":\"LinearAxis\"},{\"id\":\"8313\",\"type\":\"Grid\"},{\"id\":\"8314\",\"type\":\"LinearAxis\"},{\"id\":\"8318\",\"type\":\"Grid\"},{\"id\":\"8322\",\"type\":\"BoxAnnotation\"},{\"id\":\"8325\",\"type\":\"PolyAnnotation\"},{\"id\":\"8333\",\"type\":\"GlyphRenderer\"}],\"title\":null,\"toolbar\":{\"id\":\"8324\",\"type\":\"Toolbar\"},\"toolbar_location\":null,\"x_range\":{\"id\":\"8301\",\"type\":\"DataRange1d\"},\"x_scale\":{\"id\":\"8305\",\"type\":\"LinearScale\"},\"y_range\":{\"id\":\"8303\",\"type\":\"DataRange1d\"},\"y_scale\":{\"id\":\"8307\",\"type\":\"LinearScale\"}},\"id\":\"8299\",\"subtype\":\"Figure\",\"type\":\"Plot\"},{\"attributes\":{},\"id\":\"8305\",\"type\":\"LinearScale\"},{\"attributes\":{\"callback\":null,\"overlay\":{\"id\":\"8286\",\"type\":\"BoxAnnotation\"}},\"id\":\"8283\",\"type\":\"BoxSelectTool\"},{\"attributes\":{\"below\":[{\"id\":\"8273\",\"type\":\"LinearAxis\"}],\"left\":[{\"id\":\"8278\",\"type\":\"LinearAxis\"}],\"plot_height\":300,\"plot_width\":300,\"renderers\":[{\"id\":\"8273\",\"type\":\"LinearAxis\"},{\"id\":\"8277\",\"type\":\"Grid\"},{\"id\":\"8278\",\"type\":\"LinearAxis\"},{\"id\":\"8282\",\"type\":\"Grid\"},{\"id\":\"8286\",\"type\":\"BoxAnnotation\"},{\"id\":\"8289\",\"type\":\"PolyAnnotation\"},{\"id\":\"8297\",\"type\":\"GlyphRenderer\"}],\"title\":null,\"toolbar\":{\"id\":\"8288\",\"type\":\"Toolbar\"},\"toolbar_location\":null,\"x_range\":{\"id\":\"8265\",\"type\":\"DataRange1d\"},\"x_scale\":{\"id\":\"8269\",\"type\":\"LinearScale\"},\"y_range\":{\"id\":\"8267\",\"type\":\"DataRange1d\"},\"y_scale\":{\"id\":\"8271\",\"type\":\"LinearScale\"}},\"id\":\"8263\",\"subtype\":\"Figure\",\"type\":\"Plot\"},{\"attributes\":{\"source\":{\"id\":\"8262\",\"type\":\"ColumnDataSource\"}},\"id\":\"8334\",\"type\":\"CDSView\"},{\"attributes\":{},\"id\":\"8279\",\"type\":\"BasicTicker\"},{\"attributes\":{},\"id\":\"8336\",\"type\":\"BasicTickFormatter\"},{\"attributes\":{\"callback\":null,\"data\":{\"x\":[-20,-19,-18,-17,-16,-15,-14,-13,-12,-11,-10,-9,-8,-7,-6,-5,-4,-3,-2,-1,0,1,2,3,4,5,6,7,8,9,10,11,12,13,14,15,16,17,18,19,20],\"y0\":[20,19,18,17,16,15,14,13,12,11,10,9,8,7,6,5,4,3,2,1,0,1,2,3,4,5,6,7,8,9,10,11,12,13,14,15,16,17,18,19,20],\"y1\":[400,361,324,289,256,225,196,169,144,121,100,81,64,49,36,25,16,9,4,1,0,1,4,9,16,25,36,49,64,81,100,121,144,169,196,225,256,289,324,361,400]},\"selected\":{\"id\":\"8343\",\"type\":\"Selection\"},\"selection_policy\":{\"id\":\"8342\",\"type\":\"UnionRenderers\"}},\"id\":\"8262\",\"type\":\"ColumnDataSource\"},{\"attributes\":{\"plot\":{\"id\":\"8299\",\"subtype\":\"Figure\",\"type\":\"Plot\"},\"ticker\":{\"id\":\"8310\",\"type\":\"BasicTicker\"}},\"id\":\"8313\",\"type\":\"Grid\"},{\"attributes\":{\"fill_color\":{\"value\":\"#1f77b4\"},\"line_color\":{\"value\":\"#1f77b4\"},\"x\":{\"field\":\"x\"},\"y\":{\"field\":\"y0\"}},\"id\":\"8295\",\"type\":\"Circle\"},{\"attributes\":{},\"id\":\"8310\",\"type\":\"BasicTicker\"},{\"attributes\":{\"callback\":null},\"id\":\"8267\",\"type\":\"DataRange1d\"},{\"attributes\":{\"toolbar\":{\"id\":\"8357\",\"type\":\"ProxyToolbar\"},\"toolbar_location\":\"above\"},\"id\":\"8358\",\"type\":\"ToolbarBox\"},{\"attributes\":{\"bottom_units\":\"screen\",\"fill_alpha\":{\"value\":0.5},\"fill_color\":{\"value\":\"lightgrey\"},\"left_units\":\"screen\",\"level\":\"overlay\",\"line_alpha\":{\"value\":1.0},\"line_color\":{\"value\":\"black\"},\"line_dash\":[4,4],\"line_width\":{\"value\":2},\"plot\":null,\"render_mode\":\"css\",\"right_units\":\"screen\",\"top_units\":\"screen\"},\"id\":\"8322\",\"type\":\"BoxAnnotation\"},{\"attributes\":{\"formatter\":{\"id\":\"8346\",\"type\":\"BasicTickFormatter\"},\"plot\":{\"id\":\"8299\",\"subtype\":\"Figure\",\"type\":\"Plot\"},\"ticker\":{\"id\":\"8310\",\"type\":\"BasicTicker\"}},\"id\":\"8309\",\"type\":\"LinearAxis\"},{\"attributes\":{\"active_drag\":\"auto\",\"active_inspect\":\"auto\",\"active_multi\":null,\"active_scroll\":\"auto\",\"active_tap\":\"auto\",\"tools\":[{\"id\":\"8319\",\"type\":\"BoxSelectTool\"},{\"id\":\"8320\",\"type\":\"LassoSelectTool\"},{\"id\":\"8321\",\"type\":\"HelpTool\"}]},\"id\":\"8324\",\"type\":\"Toolbar\"},{\"attributes\":{\"dimension\":1,\"plot\":{\"id\":\"8263\",\"subtype\":\"Figure\",\"type\":\"Plot\"},\"ticker\":{\"id\":\"8279\",\"type\":\"BasicTicker\"}},\"id\":\"8282\",\"type\":\"Grid\"},{\"attributes\":{},\"id\":\"8307\",\"type\":\"LinearScale\"},{\"attributes\":{},\"id\":\"8343\",\"type\":\"Selection\"},{\"attributes\":{\"dimension\":1,\"plot\":{\"id\":\"8299\",\"subtype\":\"Figure\",\"type\":\"Plot\"},\"ticker\":{\"id\":\"8315\",\"type\":\"BasicTicker\"}},\"id\":\"8318\",\"type\":\"Grid\"},{\"attributes\":{},\"id\":\"8315\",\"type\":\"BasicTicker\"},{\"attributes\":{\"plot\":{\"id\":\"8263\",\"subtype\":\"Figure\",\"type\":\"Plot\"},\"ticker\":{\"id\":\"8274\",\"type\":\"BasicTicker\"}},\"id\":\"8277\",\"type\":\"Grid\"},{\"attributes\":{\"callback\":null},\"id\":\"8303\",\"type\":\"DataRange1d\"}],\"root_ids\":[\"8359\"]},\"title\":\"Bokeh Application\",\"version\":\"1.0.4\"}};\n",
       "  var render_items = [{\"docid\":\"9246ce59-56d2-4516-af8f-f3e90cfa7874\",\"roots\":{\"8359\":\"8a7cef25-5efb-4cbf-9f81-3da0ea80be75\"}}];\n",
       "  root.Bokeh.embed.embed_items_notebook(docs_json, render_items);\n",
       "\n",
       "  }\n",
       "  if (root.Bokeh !== undefined) {\n",
       "    embed_document(root);\n",
       "  } else {\n",
       "    var attempts = 0;\n",
       "    var timer = setInterval(function(root) {\n",
       "      if (root.Bokeh !== undefined) {\n",
       "        embed_document(root);\n",
       "        clearInterval(timer);\n",
       "      }\n",
       "      attempts++;\n",
       "      if (attempts > 100) {\n",
       "        console.log(\"Bokeh: ERROR: Unable to run BokehJS code because BokehJS library is missing\");\n",
       "        clearInterval(timer);\n",
       "      }\n",
       "    }, 10, root)\n",
       "  }\n",
       "})(window);"
      ],
      "application/vnd.bokehjs_exec.v0+json": ""
     },
     "metadata": {
      "application/vnd.bokehjs_exec.v0+json": {
       "id": "8359"
      }
     },
     "output_type": "display_data"
    }
   ],
   "source": [
    "# 3、多图表设置\n",
    "# gridplot\n",
    "\n",
    "x = list(range(-20, 21))\n",
    "y0 = [abs(xx) for xx in x]\n",
    "y1 = [xx**2 for xx in x]\n",
    "source = ColumnDataSource(data=dict(x=x, y0=y0, y1=y1))\n",
    "# 创建数据\n",
    "\n",
    "TOOLS = \"box_select,lasso_select,help\"\n",
    "\n",
    "left = figure(tools=TOOLS, plot_width=300, plot_height=300, title=None)\n",
    "left.circle('x', 'y0', source=source)    # 散点图1\n",
    "\n",
    "right = figure(tools=TOOLS, plot_width=300, plot_height=300, title=None)\n",
    "right.circle('x', 'y1', source=source)   # 散点图2\n",
    "# 共用一个ColumnDataSource\n",
    "\n",
    "p = gridplot([[left, right]])\n",
    "# 组合图表\n",
    "\n",
    "show(p)"
   ]
  },
  {
   "cell_type": "code",
   "execution_count": null,
   "metadata": {},
   "outputs": [],
   "source": [
    "'''\n",
    "【课程5.8】 ToolBar工具栏设置\n",
    "\n",
    "① 位置设置\n",
    "② 移动、放大缩小、存储、刷新\n",
    "③ 选择\n",
    "④ 提示框、十字线\n",
    "\n",
    "'''"
   ]
  },
  {
   "cell_type": "code",
   "execution_count": 31,
   "metadata": {},
   "outputs": [
    {
     "data": {
      "text/html": [
       "\n",
       "\n",
       "\n",
       "\n",
       "\n",
       "\n",
       "  <div class=\"bk-root\" id=\"f78c5c9e-ab2d-4e04-a7c4-26a5a91d64c2\" data-root-id=\"8770\"></div>\n"
      ]
     },
     "metadata": {},
     "output_type": "display_data"
    },
    {
     "data": {
      "application/javascript": [
       "(function(root) {\n",
       "  function embed_document(root) {\n",
       "    \n",
       "  var docs_json = {\"4e3a77e9-6510-4ddf-af1d-ac45c3e757d4\":{\"roots\":{\"references\":[{\"attributes\":{\"below\":[{\"id\":\"8779\",\"type\":\"LinearAxis\"}],\"left\":[{\"id\":\"8784\",\"type\":\"LinearAxis\"}],\"plot_height\":400,\"renderers\":[{\"id\":\"8779\",\"type\":\"LinearAxis\"},{\"id\":\"8783\",\"type\":\"Grid\"},{\"id\":\"8784\",\"type\":\"LinearAxis\"},{\"id\":\"8788\",\"type\":\"Grid\"},{\"id\":\"8797\",\"type\":\"BoxAnnotation\"},{\"id\":\"8807\",\"type\":\"GlyphRenderer\"}],\"title\":{\"id\":\"9122\",\"type\":\"Title\"},\"toolbar\":{\"id\":\"8795\",\"type\":\"Toolbar\"},\"toolbar_location\":\"above\",\"x_range\":{\"id\":\"8771\",\"type\":\"DataRange1d\"},\"x_scale\":{\"id\":\"8775\",\"type\":\"LinearScale\"},\"y_range\":{\"id\":\"8773\",\"type\":\"DataRange1d\"},\"y_scale\":{\"id\":\"8777\",\"type\":\"LinearScale\"}},\"id\":\"8770\",\"subtype\":\"Figure\",\"type\":\"Plot\"},{\"attributes\":{},\"id\":\"8794\",\"type\":\"HelpTool\"},{\"attributes\":{},\"id\":\"8792\",\"type\":\"SaveTool\"},{\"attributes\":{\"callback\":null},\"id\":\"8773\",\"type\":\"DataRange1d\"},{\"attributes\":{\"data_source\":{\"id\":\"8804\",\"type\":\"ColumnDataSource\"},\"glyph\":{\"id\":\"8805\",\"type\":\"Circle\"},\"hover_glyph\":null,\"muted_glyph\":null,\"nonselection_glyph\":{\"id\":\"8806\",\"type\":\"Circle\"},\"selection_glyph\":null,\"view\":{\"id\":\"8808\",\"type\":\"CDSView\"}},\"id\":\"8807\",\"type\":\"GlyphRenderer\"},{\"attributes\":{},\"id\":\"9128\",\"type\":\"UnionRenderers\"},{\"attributes\":{},\"id\":\"9123\",\"type\":\"BasicTickFormatter\"},{\"attributes\":{\"fill_alpha\":{\"value\":0.5},\"fill_color\":{\"value\":\"red\"},\"line_alpha\":{\"value\":0.5},\"line_color\":{\"value\":\"red\"},\"x\":{\"field\":\"x\"},\"y\":{\"field\":\"y\"}},\"id\":\"8805\",\"type\":\"Circle\"},{\"attributes\":{\"dimension\":1,\"plot\":{\"id\":\"8770\",\"subtype\":\"Figure\",\"type\":\"Plot\"},\"ticker\":{\"id\":\"8785\",\"type\":\"BasicTicker\"}},\"id\":\"8788\",\"type\":\"Grid\"},{\"attributes\":{\"formatter\":{\"id\":\"9125\",\"type\":\"BasicTickFormatter\"},\"plot\":{\"id\":\"8770\",\"subtype\":\"Figure\",\"type\":\"Plot\"},\"ticker\":{\"id\":\"8785\",\"type\":\"BasicTicker\"}},\"id\":\"8784\",\"type\":\"LinearAxis\"},{\"attributes\":{},\"id\":\"8780\",\"type\":\"BasicTicker\"},{\"attributes\":{\"overlay\":{\"id\":\"8797\",\"type\":\"BoxAnnotation\"}},\"id\":\"8791\",\"type\":\"BoxZoomTool\"},{\"attributes\":{\"callback\":null,\"data\":{\"x\":{\"__ndarray__\":\"Yel+CM/u8r9WwezjH73lv072LZc6jvw/Dk8uGsUM+b/aTYi7pE8AQEp1s/tyw+C/ICEW2sc50L80BkxSRWv0v2KvdtwkvPG/LHa2aHRp6T+il3ERbIHWvzZlX+7IVgHANvE6vFExwT/zC8pA1zD5v+PaUOksZe6/hurB+MRgyj/Jb4Lecl7wP57pbn//oN4/bC0Vsuzp2r/Sa/5HSefNv6V2sTDnQfq/jrMa3tCZ8j8GstTh0/j3v+eOVeRNuO2/tVD7lGrN178zFbX2xGfrPwBSSuKmFeK/zc4A7AV7tb/tEfWXyQX0v2HhjJ8pdfE/koimcdkt0b+wWmt88EfiPxnfuawzP9s/rjilFCePqr9N7DiavxTnv2tUGUnsreW/snvEgQuG8b//+fuCMqPUPxdvo7Fnx8K/ZjWWRVm+sL9lHbnERQf+v5UptB5Zduc/G9F9uH7CqD9UVkzkL1n/P+uwHZFwGMA/LeD+ZNhx9j8Q0zKokSvyPwjI/PLK9uy/mcWwm6oh4j9j4kEjJ7DxP7DyrZqkT/u/25vnz2mH0L8dHOMKrYXtv1uJWOL9OOs/g8Ifizk79b8MbpLbm6LfPxtGtIHQCtE/CHLFDyFq5L/+d5IcFJ7Xv5Yg+45nP+Q/pbuRv7h81b9TEYrqxKLgPyZlbyU4Its/lQRamUAQ57/ViQAJfzj0P3fS6oxQL9a/FU7zmUOy1T+YDmoXkrTmP3+TefG3Dei/jOuF29cpyj+EEboAOe/wPxcEDLnO+tW/yjZere/92D/F2bLKs1HgP0fiXsk6X+0/rwgzLg/E7r8XQ9G4r87TvzNj5KsKDNs/TriqoMgd4D/XSJcgfZ/MP1dXikJXyNe/4GdbS7ya5z9AQDKd7/rnP8lk48pWJgFAjx8l/UEF3T+Q/4CN/1XnP/VSJLptHde/NJVn5bEP1z/zO4X1nv/kv6YLJMhbZOi/qshHHCSqA0DQK3acOM73P8kZcLGxPP4/aGkHfZT2/7+AFTFVCQbvvz20vd/bO+q/o8zrOJWW2j+4rFbtGccBQMWG01E/qb4/zOqlosIz+z8=\",\"dtype\":\"float64\",\"shape\":[100]},\"y\":{\"__ndarray__\":\"HOb+Nmgn879KKB6eKGDav4TCkWsIXsG/3j730WUP4b/t5aSUQwfcP4nE9Fn0APm/h6JE33anBEDY/1CyO+XlP/tGaWCl0+e/8qPDeFM7878QOrl1lrDyPyL1jTeUOfK/Dfm5R6wmyj/BKgZKVevqv1svsc3DPcm/6+aE158a4r/xq4oDlp7kv+R3Qew/V9i/Zg0nvnGzrb8nVxq0FI/hP7L+rEfRk/K/wSnDyLS66j9a2qAW343Tv7hfHzZDUu8/WKMAz9I2wD9oFwNGwN7xv0JSftI/9ta/caXzwdCquD/c7kjnKFS7P1INHQkfx9I/A9oY8+2HAkB12ZyrzlfnP2HXnmE+FvU/6LIwHlU2478q6jxaIKDyP6Y0RSKA4t0/MWIuKO9Jyr+szojBcy7zP/iuU1SYd9W/v1FCewMa9z+Ohv8a3w7vP8sbyBgzMti/q0NyUcUw0j+KFCRWlLSjv9ZkLsEav+4/l8FjZANu5r9F9zw4B0DBP/XHv4sItfy/ta1Y+mFWoT/Q2Vixbx3lP5AOcbTecv+/Exv4Rdxs+D9la2b9PRH1P8bVf/57z+g/UIlqAPtg8z+wWoYmr9r0P/ySWCERsPy/mEjVXegFAMBQKPDYkXnmv8WEymtA9+A/9sVISAMFz7+UNec0i5nqv6hmTWp9Fuk/O5vYpnYqwD8fEuC/d4HTP1Zu/0oXDfY/6dvlPT7t8z/3emh5ixr+P5FVD568APs/v4Q5MH077T8Fd392yUPbP6BU4KpkN+q/UfJgEDfc2b/JgyL+xJ8CQBxwuG4K5+A/n0b4IPL9tL97K4pP1eDeP6f2LXCyDdI/yZzrAigH2T+NVqzfzmi6P8HSPBTtU88/03pxBcBL779FVy3g3Yf6P5kFQof+rcs/pZOLVaqPxz9MjeuXt0ztP5TWB3WDfui/niP4/1tSwT8eBUnn7GbWPwxqwVtBa+S/DSkO9LxI7r9Ty0JvfonrP5wqbbxbo+2/HjY5hNGt7b/QN54fS2rWvxI/AGDJm8k/iCOHhiphBMApQniRDfPYv2sBa2gCyuE/6K2/86lj0j8=\",\"dtype\":\"float64\",\"shape\":[100]}},\"selected\":{\"id\":\"9129\",\"type\":\"Selection\"},\"selection_policy\":{\"id\":\"9128\",\"type\":\"UnionRenderers\"}},\"id\":\"8804\",\"type\":\"ColumnDataSource\"},{\"attributes\":{\"fill_alpha\":{\"value\":0.1},\"fill_color\":{\"value\":\"#1f77b4\"},\"line_alpha\":{\"value\":0.1},\"line_color\":{\"value\":\"#1f77b4\"},\"x\":{\"field\":\"x\"},\"y\":{\"field\":\"y\"}},\"id\":\"8806\",\"type\":\"Circle\"},{\"attributes\":{\"source\":{\"id\":\"8804\",\"type\":\"ColumnDataSource\"}},\"id\":\"8808\",\"type\":\"CDSView\"},{\"attributes\":{\"plot\":{\"id\":\"8770\",\"subtype\":\"Figure\",\"type\":\"Plot\"},\"ticker\":{\"id\":\"8780\",\"type\":\"BasicTicker\"}},\"id\":\"8783\",\"type\":\"Grid\"},{\"attributes\":{},\"id\":\"9125\",\"type\":\"BasicTickFormatter\"},{\"attributes\":{},\"id\":\"8790\",\"type\":\"WheelZoomTool\"},{\"attributes\":{\"bottom_units\":\"screen\",\"fill_alpha\":{\"value\":0.5},\"fill_color\":{\"value\":\"lightgrey\"},\"left_units\":\"screen\",\"level\":\"overlay\",\"line_alpha\":{\"value\":1.0},\"line_color\":{\"value\":\"black\"},\"line_dash\":[4,4],\"line_width\":{\"value\":2},\"plot\":null,\"render_mode\":\"css\",\"right_units\":\"screen\",\"top_units\":\"screen\"},\"id\":\"8797\",\"type\":\"BoxAnnotation\"},{\"attributes\":{\"plot\":null,\"text\":\"\"},\"id\":\"9122\",\"type\":\"Title\"},{\"attributes\":{},\"id\":\"8793\",\"type\":\"ResetTool\"},{\"attributes\":{\"formatter\":{\"id\":\"9123\",\"type\":\"BasicTickFormatter\"},\"plot\":{\"id\":\"8770\",\"subtype\":\"Figure\",\"type\":\"Plot\"},\"ticker\":{\"id\":\"8780\",\"type\":\"BasicTicker\"}},\"id\":\"8779\",\"type\":\"LinearAxis\"},{\"attributes\":{},\"id\":\"8777\",\"type\":\"LinearScale\"},{\"attributes\":{},\"id\":\"8775\",\"type\":\"LinearScale\"},{\"attributes\":{\"callback\":null},\"id\":\"8771\",\"type\":\"DataRange1d\"},{\"attributes\":{},\"id\":\"9129\",\"type\":\"Selection\"},{\"attributes\":{\"active_drag\":\"auto\",\"active_inspect\":\"auto\",\"active_multi\":null,\"active_scroll\":\"auto\",\"active_tap\":\"auto\",\"tools\":[{\"id\":\"8789\",\"type\":\"PanTool\"},{\"id\":\"8790\",\"type\":\"WheelZoomTool\"},{\"id\":\"8791\",\"type\":\"BoxZoomTool\"},{\"id\":\"8792\",\"type\":\"SaveTool\"},{\"id\":\"8793\",\"type\":\"ResetTool\"},{\"id\":\"8794\",\"type\":\"HelpTool\"}]},\"id\":\"8795\",\"type\":\"Toolbar\"},{\"attributes\":{},\"id\":\"8785\",\"type\":\"BasicTicker\"},{\"attributes\":{},\"id\":\"8789\",\"type\":\"PanTool\"}],\"root_ids\":[\"8770\"]},\"title\":\"Bokeh Application\",\"version\":\"1.0.4\"}};\n",
       "  var render_items = [{\"docid\":\"4e3a77e9-6510-4ddf-af1d-ac45c3e757d4\",\"roots\":{\"8770\":\"f78c5c9e-ab2d-4e04-a7c4-26a5a91d64c2\"}}];\n",
       "  root.Bokeh.embed.embed_items_notebook(docs_json, render_items);\n",
       "\n",
       "  }\n",
       "  if (root.Bokeh !== undefined) {\n",
       "    embed_document(root);\n",
       "  } else {\n",
       "    var attempts = 0;\n",
       "    var timer = setInterval(function(root) {\n",
       "      if (root.Bokeh !== undefined) {\n",
       "        embed_document(root);\n",
       "        clearInterval(timer);\n",
       "      }\n",
       "      attempts++;\n",
       "      if (attempts > 100) {\n",
       "        console.log(\"Bokeh: ERROR: Unable to run BokehJS code because BokehJS library is missing\");\n",
       "        clearInterval(timer);\n",
       "      }\n",
       "    }, 10, root)\n",
       "  }\n",
       "})(window);"
      ],
      "application/vnd.bokehjs_exec.v0+json": ""
     },
     "metadata": {
      "application/vnd.bokehjs_exec.v0+json": {
       "id": "8770"
      }
     },
     "output_type": "display_data"
    }
   ],
   "source": [
    "# 工具栏 tools\n",
    "# （1）设置位置\n",
    "\n",
    "p = figure(plot_width=600, plot_height=400,\n",
    "          toolbar_location=\"above\")\n",
    "# 工具栏位置：\"above\"，\"below\"，\"left\"，\"right\"\n",
    "\n",
    "p.circle(np.random.randn(100),np.random.randn(100),color='red',alpha=0.5)\n",
    "show(p)"
   ]
  },
  {
   "cell_type": "code",
   "execution_count": 32,
   "metadata": {},
   "outputs": [
    {
     "data": {
      "text/html": [
       "\n",
       "\n",
       "\n",
       "\n",
       "\n",
       "\n",
       "  <div class=\"bk-root\" id=\"ac2a9af3-38e7-4ba8-80c3-cb674d6391eb\" data-root-id=\"9184\"></div>\n"
      ]
     },
     "metadata": {},
     "output_type": "display_data"
    },
    {
     "data": {
      "application/javascript": [
       "(function(root) {\n",
       "  function embed_document(root) {\n",
       "    \n",
       "  var docs_json = {\"cb064c64-377f-4cd2-a236-aa70b98fb36a\":{\"roots\":{\"references\":[{\"attributes\":{\"below\":[{\"id\":\"9193\",\"type\":\"LinearAxis\"}],\"left\":[{\"id\":\"9198\",\"type\":\"LinearAxis\"}],\"plot_height\":300,\"plot_width\":300,\"renderers\":[{\"id\":\"9193\",\"type\":\"LinearAxis\"},{\"id\":\"9197\",\"type\":\"Grid\"},{\"id\":\"9198\",\"type\":\"LinearAxis\"},{\"id\":\"9202\",\"type\":\"Grid\"},{\"id\":\"9211\",\"type\":\"BoxAnnotation\"},{\"id\":\"9221\",\"type\":\"GlyphRenderer\"}],\"title\":{\"id\":\"9545\",\"type\":\"Title\"},\"toolbar\":{\"id\":\"9209\",\"type\":\"Toolbar\"},\"toolbar_location\":\"below\",\"toolbar_sticky\":false,\"x_range\":{\"id\":\"9185\",\"type\":\"DataRange1d\"},\"x_scale\":{\"id\":\"9189\",\"type\":\"LinearScale\"},\"y_range\":{\"id\":\"9187\",\"type\":\"DataRange1d\"},\"y_scale\":{\"id\":\"9191\",\"type\":\"LinearScale\"}},\"id\":\"9184\",\"subtype\":\"Figure\",\"type\":\"Plot\"},{\"attributes\":{\"callback\":null},\"id\":\"9185\",\"type\":\"DataRange1d\"},{\"attributes\":{\"bottom_units\":\"screen\",\"fill_alpha\":{\"value\":0.5},\"fill_color\":{\"value\":\"lightgrey\"},\"left_units\":\"screen\",\"level\":\"overlay\",\"line_alpha\":{\"value\":1.0},\"line_color\":{\"value\":\"black\"},\"line_dash\":[4,4],\"line_width\":{\"value\":2},\"plot\":null,\"render_mode\":\"css\",\"right_units\":\"screen\",\"top_units\":\"screen\"},\"id\":\"9211\",\"type\":\"BoxAnnotation\"},{\"attributes\":{\"callback\":null},\"id\":\"9187\",\"type\":\"DataRange1d\"},{\"attributes\":{\"fill_alpha\":{\"value\":0.1},\"fill_color\":{\"value\":\"#1f77b4\"},\"line_alpha\":{\"value\":0.1},\"line_color\":{\"value\":\"#1f77b4\"},\"x\":{\"field\":\"x\"},\"y\":{\"field\":\"y\"}},\"id\":\"9220\",\"type\":\"Circle\"},{\"attributes\":{\"data_source\":{\"id\":\"9218\",\"type\":\"ColumnDataSource\"},\"glyph\":{\"id\":\"9219\",\"type\":\"Circle\"},\"hover_glyph\":null,\"muted_glyph\":null,\"nonselection_glyph\":{\"id\":\"9220\",\"type\":\"Circle\"},\"selection_glyph\":null,\"view\":{\"id\":\"9222\",\"type\":\"CDSView\"}},\"id\":\"9221\",\"type\":\"GlyphRenderer\"},{\"attributes\":{\"callback\":null,\"data\":{\"x\":{\"__ndarray__\":\"bZFaHSyu+r8u1MJ48Y/2vyO4n01VUsc/ODLUZ88hr7+mFQw2utfnPzNBA2N5b7i/dTF/WCDwAUDlVeS6LBHoP6C8+Io1ceg/fHJMkB+E8D9OvBX+RYPiv6CwxcQ/kPo/XfImZEmV2z/hCBoyIo/oP7Fjj0YHTtW/+3WNOdFL9z/s8RPT7uzgPzDADWgFY8e/chO/ir4w8r8pHZJRP5TgPybghzjUTec/jpaTkc7HzD+0rYW8viWXP887SY+7Z+m/6hlSIR7V478Q6xg0ntTRvzS2HyMwSNo/k5gvCylW9T/iAwxZGKLcP1mS4MNc3QPAGfmVOUap5D+F9Mvbqkf/P64oJ4mA/dS/aq3znU5z0D/U2jVvcwq0P15eK3wJXOY/Zrv/l8X01z8bVYg0VhblP8g7/xvSR+U/Inpiqu3+9D/vRsApn4Hdv7OXhvDwZQJAgK78DoroAEAoQ2ZlAlDsv48vLPzI9++/3rlbkxri4b9OqpgOUeHSv/5mFeGzZ/A/1WNCJeU1+7/6EfptNA/mvwmi1JHY0MQ/UQxAxMUK8T/Q5LA4T/q9P+gwVSfZfvI/tRqxmDMO9L9kWq+z0bKzv/oiNHhTWtU/gxbTAgrwsD/DBPyKvh3pv20Q+t8x3OM/XhGT7s0u3D+BDYPprInoP6BcrnxCFfA/qaFfOiOa1z/3rEsZNJXlvy6ZG/9GM/e/l7yuruIs4T8PtZQ/B8zwP5HwlA/gF7A/fAYpgyC2ur+iYKwSZKX0vzbBt0hgUuC/wG7H1dlW2T8mrjfP4+rvP8TCqlz+6e6/lzQVAq6z1D8lo3GkOwrlP6u1GJDG/ee/0H5U0F5/xL9ACY57M9zdvyF4OwZsGtY/684+t2YV/r9U+DrZoI3hvxqSZAEnT/k/+m+FEhfD7D/EEgrwqvLev46xPGVRf/o/3DZyctPW9j/MDzuyCJnkv5q/mR+fJO2/nXxyyM881z/EJXRKIdTSPzUZkco+vXq/pNDJ8ASB5T/DSMszbhfcv+fncFHW29i/oiEu6wsBzL9iFyOn1MXePwu/dF696/0/XgCeO98f2T8=\",\"dtype\":\"float64\",\"shape\":[100]},\"y\":{\"__ndarray__\":\"woODGP1r8D9BR3188PPqvyos6cKPjtO/HrhtAthd7r/rQKmr/bXav9cHF/jvN7s/POABhKiF5D98tRGqSATjv6rSI8BONua/ytFri3xvAUCZpkcz+M1zv+7EXXMcAtu/rpkJtOzs4r+v++qRHRH6v30tItdHtOo/S1ujk2Ze/79TFDMaoFPdv8bO6aFn0JU/yi2BXDVD2r8UjB6NzXP0PwHP/IkObPe/1dZhfcZw7b91ex5BaNHvP3lY5UjEzuQ/tFt+uT+g2D/XjSuMBkbyv+zzAAe2U+g/BUye562r+L+fmZwyi74DQP9QK5SuW+U/OaFnMVqc5r8f7j7YbhjgP5rIT4++UuW/kEAHIa/ksr/GQ+U8P9PYP1JNUu4FgaE/cUw5pJLLwr96LEILupTqP7+9Jo7Eaei/qxoT7ZuH77/ClZ6S//jlP08dSG3b8vg/q8x5Vcdz7T+iMq6S+GL6vzurkkRtKdO/z2akW8/q8j/Xj4YqHfutPyTgWD97uO0/bg72pQb3yb9YpWTgEkv7P8nI00XYP+g/tYvr+rDd8D8gNipTv0XwvyKakyAXuNe/3GE/irFmwr/77fnTLv/Tv/fh1/6Xw9i/bvqT0q7g9T8zgo97caTov29KzRf9kO6/yrgkjj268b/uH1TwMYb3P3skQzfDu+W/m7j3F3XIyb+5niAPBtThP3bODcLL/Ny/2fgTeU+LsL+aVr7SrAfiP5J3uzEIK+M/Ubk+Xfyk7b884tC5awEEQP4Rejh21u8/0T516Dgm5r9Q+B2SoQ7yv/7oHX7R9PK/4M8vKR8s8L/wop0HDwPqP8Wh/PAB8/S/8Kp2Qy0K5T86kli35cXQP+UmXH2rXOu/m/RuNEPm6r8SoFshNqbhP8RFyngvbeC/CLz03nQp5D/0l9iorTrvP6JugCHoqeO/tXEmgpmoxb/TUuf8Btbmv4BgH2RD6dc/JhFrGX1Y9b+CO6vYW9T1P++sOCQXWrK/pzJJEbdPmr+Gl8FtggQiv/u+wvx+wu0/IvpNgsRh3r+Jnyplyeb6P37ziD2Bzsg/4HKcQ3E98r8=\",\"dtype\":\"float64\",\"shape\":[100]}},\"selected\":{\"id\":\"9552\",\"type\":\"Selection\"},\"selection_policy\":{\"id\":\"9551\",\"type\":\"UnionRenderers\"}},\"id\":\"9218\",\"type\":\"ColumnDataSource\"},{\"attributes\":{},\"id\":\"9552\",\"type\":\"Selection\"},{\"attributes\":{},\"id\":\"9206\",\"type\":\"SaveTool\"},{\"attributes\":{\"formatter\":{\"id\":\"9546\",\"type\":\"BasicTickFormatter\"},\"plot\":{\"id\":\"9184\",\"subtype\":\"Figure\",\"type\":\"Plot\"},\"ticker\":{\"id\":\"9194\",\"type\":\"BasicTicker\"}},\"id\":\"9193\",\"type\":\"LinearAxis\"},{\"attributes\":{},\"id\":\"9204\",\"type\":\"WheelZoomTool\"},{\"attributes\":{\"active_drag\":\"auto\",\"active_inspect\":\"auto\",\"active_multi\":null,\"active_scroll\":\"auto\",\"active_tap\":\"auto\",\"tools\":[{\"id\":\"9203\",\"type\":\"PanTool\"},{\"id\":\"9204\",\"type\":\"WheelZoomTool\"},{\"id\":\"9205\",\"type\":\"BoxZoomTool\"},{\"id\":\"9206\",\"type\":\"SaveTool\"},{\"id\":\"9207\",\"type\":\"ResetTool\"},{\"id\":\"9208\",\"type\":\"HelpTool\"}]},\"id\":\"9209\",\"type\":\"Toolbar\"},{\"attributes\":{\"fill_color\":{\"value\":\"#1f77b4\"},\"line_color\":{\"value\":\"#1f77b4\"},\"x\":{\"field\":\"x\"},\"y\":{\"field\":\"y\"}},\"id\":\"9219\",\"type\":\"Circle\"},{\"attributes\":{},\"id\":\"9199\",\"type\":\"BasicTicker\"},{\"attributes\":{\"source\":{\"id\":\"9218\",\"type\":\"ColumnDataSource\"}},\"id\":\"9222\",\"type\":\"CDSView\"},{\"attributes\":{},\"id\":\"9203\",\"type\":\"PanTool\"},{\"attributes\":{\"overlay\":{\"id\":\"9211\",\"type\":\"BoxAnnotation\"}},\"id\":\"9205\",\"type\":\"BoxZoomTool\"},{\"attributes\":{},\"id\":\"9548\",\"type\":\"BasicTickFormatter\"},{\"attributes\":{},\"id\":\"9194\",\"type\":\"BasicTicker\"},{\"attributes\":{\"formatter\":{\"id\":\"9548\",\"type\":\"BasicTickFormatter\"},\"plot\":{\"id\":\"9184\",\"subtype\":\"Figure\",\"type\":\"Plot\"},\"ticker\":{\"id\":\"9199\",\"type\":\"BasicTicker\"}},\"id\":\"9198\",\"type\":\"LinearAxis\"},{\"attributes\":{},\"id\":\"9189\",\"type\":\"LinearScale\"},{\"attributes\":{\"plot\":{\"id\":\"9184\",\"subtype\":\"Figure\",\"type\":\"Plot\"},\"ticker\":{\"id\":\"9194\",\"type\":\"BasicTicker\"}},\"id\":\"9197\",\"type\":\"Grid\"},{\"attributes\":{\"plot\":null,\"text\":\"\"},\"id\":\"9545\",\"type\":\"Title\"},{\"attributes\":{},\"id\":\"9208\",\"type\":\"HelpTool\"},{\"attributes\":{},\"id\":\"9191\",\"type\":\"LinearScale\"},{\"attributes\":{},\"id\":\"9546\",\"type\":\"BasicTickFormatter\"},{\"attributes\":{},\"id\":\"9207\",\"type\":\"ResetTool\"},{\"attributes\":{},\"id\":\"9551\",\"type\":\"UnionRenderers\"},{\"attributes\":{\"dimension\":1,\"plot\":{\"id\":\"9184\",\"subtype\":\"Figure\",\"type\":\"Plot\"},\"ticker\":{\"id\":\"9199\",\"type\":\"BasicTicker\"}},\"id\":\"9202\",\"type\":\"Grid\"}],\"root_ids\":[\"9184\"]},\"title\":\"Bokeh Application\",\"version\":\"1.0.4\"}};\n",
       "  var render_items = [{\"docid\":\"cb064c64-377f-4cd2-a236-aa70b98fb36a\",\"roots\":{\"9184\":\"ac2a9af3-38e7-4ba8-80c3-cb674d6391eb\"}}];\n",
       "  root.Bokeh.embed.embed_items_notebook(docs_json, render_items);\n",
       "\n",
       "  }\n",
       "  if (root.Bokeh !== undefined) {\n",
       "    embed_document(root);\n",
       "  } else {\n",
       "    var attempts = 0;\n",
       "    var timer = setInterval(function(root) {\n",
       "      if (root.Bokeh !== undefined) {\n",
       "        embed_document(root);\n",
       "        clearInterval(timer);\n",
       "      }\n",
       "      attempts++;\n",
       "      if (attempts > 100) {\n",
       "        console.log(\"Bokeh: ERROR: Unable to run BokehJS code because BokehJS library is missing\");\n",
       "        clearInterval(timer);\n",
       "      }\n",
       "    }, 10, root)\n",
       "  }\n",
       "})(window);"
      ],
      "application/vnd.bokehjs_exec.v0+json": ""
     },
     "metadata": {
      "application/vnd.bokehjs_exec.v0+json": {
       "id": "9184"
      }
     },
     "output_type": "display_data"
    }
   ],
   "source": [
    "# 工具栏 tools\n",
    "# （1）设置位置\n",
    "\n",
    "p = figure(plot_width=300, plot_height=300,\n",
    "           toolbar_location=\"below\",\n",
    "           toolbar_sticky=False)\n",
    "# 工具栏位置设置为\"below\"时，可增加toolbar_sticky参数使得toolsbar不被遮挡\n",
    "p.circle(np.random.randn(100),np.random.randn(100))\n",
    "show(p)"
   ]
  },
  {
   "cell_type": "code",
   "execution_count": 37,
   "metadata": {},
   "outputs": [
    {
     "data": {
      "text/html": [
       "\n",
       "\n",
       "\n",
       "\n",
       "\n",
       "\n",
       "  <div class=\"bk-root\" id=\"f09c4d03-ee6c-4681-b7a0-cfbe89448dd5\" data-root-id=\"11854\"></div>\n"
      ]
     },
     "metadata": {},
     "output_type": "display_data"
    },
    {
     "data": {
      "application/javascript": [
       "(function(root) {\n",
       "  function embed_document(root) {\n",
       "    \n",
       "  var docs_json = {\"faa2691d-b254-454c-8259-090c0ef840b4\":{\"roots\":{\"references\":[{\"attributes\":{\"below\":[{\"id\":\"11863\",\"type\":\"LinearAxis\"}],\"left\":[{\"id\":\"11868\",\"type\":\"LinearAxis\"}],\"plot_height\":400,\"plot_width\":800,\"renderers\":[{\"id\":\"11863\",\"type\":\"LinearAxis\"},{\"id\":\"11867\",\"type\":\"Grid\"},{\"id\":\"11868\",\"type\":\"LinearAxis\"},{\"id\":\"11872\",\"type\":\"Grid\"},{\"id\":\"11881\",\"type\":\"BoxAnnotation\"},{\"id\":\"11891\",\"type\":\"GlyphRenderer\"}],\"title\":{\"id\":\"12269\",\"type\":\"Title\"},\"toolbar\":{\"id\":\"11879\",\"type\":\"Toolbar\"},\"toolbar_location\":\"above\",\"x_range\":{\"id\":\"11855\",\"type\":\"DataRange1d\"},\"x_scale\":{\"id\":\"11859\",\"type\":\"LinearScale\"},\"y_range\":{\"id\":\"11857\",\"type\":\"DataRange1d\"},\"y_scale\":{\"id\":\"11861\",\"type\":\"LinearScale\"}},\"id\":\"11854\",\"subtype\":\"Figure\",\"type\":\"Plot\"},{\"attributes\":{\"callback\":null},\"id\":\"11857\",\"type\":\"DataRange1d\"},{\"attributes\":{},\"id\":\"11877\",\"type\":\"ResetTool\"},{\"attributes\":{},\"id\":\"11874\",\"type\":\"WheelZoomTool\"},{\"attributes\":{},\"id\":\"11864\",\"type\":\"BasicTicker\"},{\"attributes\":{},\"id\":\"11876\",\"type\":\"SaveTool\"},{\"attributes\":{},\"id\":\"11878\",\"type\":\"HelpTool\"},{\"attributes\":{\"formatter\":{\"id\":\"12270\",\"type\":\"BasicTickFormatter\"},\"plot\":{\"id\":\"11854\",\"subtype\":\"Figure\",\"type\":\"Plot\"},\"ticker\":{\"id\":\"11864\",\"type\":\"BasicTicker\"}},\"id\":\"11863\",\"type\":\"LinearAxis\"},{\"attributes\":{\"active_drag\":\"auto\",\"active_inspect\":\"auto\",\"active_multi\":null,\"active_scroll\":\"auto\",\"active_tap\":\"auto\",\"tools\":[{\"id\":\"11873\",\"type\":\"PanTool\"},{\"id\":\"11874\",\"type\":\"WheelZoomTool\"},{\"id\":\"11875\",\"type\":\"BoxZoomTool\"},{\"id\":\"11876\",\"type\":\"SaveTool\"},{\"id\":\"11877\",\"type\":\"ResetTool\"},{\"id\":\"11878\",\"type\":\"HelpTool\"}]},\"id\":\"11879\",\"type\":\"Toolbar\"},{\"attributes\":{},\"id\":\"11869\",\"type\":\"BasicTicker\"},{\"attributes\":{\"dimension\":1,\"plot\":{\"id\":\"11854\",\"subtype\":\"Figure\",\"type\":\"Plot\"},\"ticker\":{\"id\":\"11869\",\"type\":\"BasicTicker\"}},\"id\":\"11872\",\"type\":\"Grid\"},{\"attributes\":{\"bottom_units\":\"screen\",\"fill_alpha\":{\"value\":0.5},\"fill_color\":{\"value\":\"lightgrey\"},\"left_units\":\"screen\",\"level\":\"overlay\",\"line_alpha\":{\"value\":1.0},\"line_color\":{\"value\":\"black\"},\"line_dash\":[4,4],\"line_width\":{\"value\":2},\"plot\":null,\"render_mode\":\"css\",\"right_units\":\"screen\",\"top_units\":\"screen\"},\"id\":\"11881\",\"type\":\"BoxAnnotation\"},{\"attributes\":{},\"id\":\"11859\",\"type\":\"LinearScale\"},{\"attributes\":{\"source\":{\"id\":\"11888\",\"type\":\"ColumnDataSource\"}},\"id\":\"11892\",\"type\":\"CDSView\"},{\"attributes\":{},\"id\":\"12272\",\"type\":\"BasicTickFormatter\"},{\"attributes\":{},\"id\":\"12270\",\"type\":\"BasicTickFormatter\"},{\"attributes\":{\"formatter\":{\"id\":\"12272\",\"type\":\"BasicTickFormatter\"},\"plot\":{\"id\":\"11854\",\"subtype\":\"Figure\",\"type\":\"Plot\"},\"ticker\":{\"id\":\"11869\",\"type\":\"BasicTicker\"}},\"id\":\"11868\",\"type\":\"LinearAxis\"},{\"attributes\":{\"plot\":{\"id\":\"11854\",\"subtype\":\"Figure\",\"type\":\"Plot\"},\"ticker\":{\"id\":\"11864\",\"type\":\"BasicTicker\"}},\"id\":\"11867\",\"type\":\"Grid\"},{\"attributes\":{},\"id\":\"12275\",\"type\":\"UnionRenderers\"},{\"attributes\":{},\"id\":\"12276\",\"type\":\"Selection\"},{\"attributes\":{\"callback\":null,\"data\":{\"x\":{\"__ndarray__\":\"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\",\"dtype\":\"float64\",\"shape\":[500]},\"y\":{\"__ndarray__\":\"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\",\"dtype\":\"float64\",\"shape\":[500]}},\"selected\":{\"id\":\"12276\",\"type\":\"Selection\"},\"selection_policy\":{\"id\":\"12275\",\"type\":\"UnionRenderers\"}},\"id\":\"11888\",\"type\":\"ColumnDataSource\"},{\"attributes\":{\"plot\":null,\"text\":\"\"},\"id\":\"12269\",\"type\":\"Title\"},{\"attributes\":{\"callback\":null},\"id\":\"11855\",\"type\":\"DataRange1d\"},{\"attributes\":{\"fill_alpha\":{\"value\":0.1},\"fill_color\":{\"value\":\"#1f77b4\"},\"line_alpha\":{\"value\":0.1},\"line_color\":{\"value\":\"#1f77b4\"},\"x\":{\"field\":\"x\"},\"y\":{\"field\":\"y\"}},\"id\":\"11890\",\"type\":\"Circle\"},{\"attributes\":{\"overlay\":{\"id\":\"11881\",\"type\":\"BoxAnnotation\"}},\"id\":\"11875\",\"type\":\"BoxZoomTool\"},{\"attributes\":{},\"id\":\"11873\",\"type\":\"PanTool\"},{\"attributes\":{},\"id\":\"11861\",\"type\":\"LinearScale\"},{\"attributes\":{\"data_source\":{\"id\":\"11888\",\"type\":\"ColumnDataSource\"},\"glyph\":{\"id\":\"11889\",\"type\":\"Circle\"},\"hover_glyph\":null,\"muted_glyph\":null,\"nonselection_glyph\":{\"id\":\"11890\",\"type\":\"Circle\"},\"selection_glyph\":null,\"view\":{\"id\":\"11892\",\"type\":\"CDSView\"}},\"id\":\"11891\",\"type\":\"GlyphRenderer\"},{\"attributes\":{\"fill_color\":{\"value\":\"#1f77b4\"},\"line_color\":{\"value\":\"#1f77b4\"},\"x\":{\"field\":\"x\"},\"y\":{\"field\":\"y\"}},\"id\":\"11889\",\"type\":\"Circle\"}],\"root_ids\":[\"11854\"]},\"title\":\"Bokeh Application\",\"version\":\"1.0.4\"}};\n",
       "  var render_items = [{\"docid\":\"faa2691d-b254-454c-8259-090c0ef840b4\",\"roots\":{\"11854\":\"f09c4d03-ee6c-4681-b7a0-cfbe89448dd5\"}}];\n",
       "  root.Bokeh.embed.embed_items_notebook(docs_json, render_items);\n",
       "\n",
       "  }\n",
       "  if (root.Bokeh !== undefined) {\n",
       "    embed_document(root);\n",
       "  } else {\n",
       "    var attempts = 0;\n",
       "    var timer = setInterval(function(root) {\n",
       "      if (root.Bokeh !== undefined) {\n",
       "        embed_document(root);\n",
       "        clearInterval(timer);\n",
       "      }\n",
       "      attempts++;\n",
       "      if (attempts > 100) {\n",
       "        console.log(\"Bokeh: ERROR: Unable to run BokehJS code because BokehJS library is missing\");\n",
       "        clearInterval(timer);\n",
       "      }\n",
       "    }, 10, root)\n",
       "  }\n",
       "})(window);"
      ],
      "application/vnd.bokehjs_exec.v0+json": ""
     },
     "metadata": {
      "application/vnd.bokehjs_exec.v0+json": {
       "id": "11854"
      }
     },
     "output_type": "display_data"
    }
   ],
   "source": [
    "# 工具栏 tools\n",
    "# （2）移动、放大缩小、存储、刷新\n",
    "\n",
    "TOOLS = '''\n",
    "        pan, xpan, ypan,             \n",
    "        box_zoom,\n",
    "        wheel_zoom, xwheel_zoom, ywheel_zoom,   \n",
    "        zoom_in, xzoom_in, yzoom_in,\n",
    "        zoom_out, xzoom_out, yzoom_out,\n",
    "        save,reset\n",
    "        '''\n",
    "\n",
    "p = figure(plot_width=800, plot_height=400,toolbar_location=\"above\",\n",
    "           )\n",
    "# 添加toolbar\n",
    "# 这里tools = '' 则不显示toolbar\n",
    "\n",
    "p.circle(np.random.randn(500),np.random.randn(500))\n",
    "show(p)"
   ]
  },
  {
   "cell_type": "code",
   "execution_count": 34,
   "metadata": {},
   "outputs": [
    {
     "data": {
      "text/html": [
       "\n",
       "\n",
       "\n",
       "\n",
       "\n",
       "\n",
       "  <div class=\"bk-root\" id=\"5dfb86ac-f6b7-4ce3-ae3f-d96a1d2f2c00\" data-root-id=\"10018\"></div>\n"
      ]
     },
     "metadata": {},
     "output_type": "display_data"
    },
    {
     "data": {
      "application/javascript": [
       "(function(root) {\n",
       "  function embed_document(root) {\n",
       "    \n",
       "  var docs_json = {\"59f4831a-82b9-43bc-9ea6-40ef3c7bf2c1\":{\"roots\":{\"references\":[{\"attributes\":{\"below\":[{\"id\":\"10027\",\"type\":\"LinearAxis\"}],\"left\":[{\"id\":\"10032\",\"type\":\"LinearAxis\"}],\"plot_height\":400,\"plot_width\":800,\"renderers\":[{\"id\":\"10027\",\"type\":\"LinearAxis\"},{\"id\":\"10031\",\"type\":\"Grid\"},{\"id\":\"10032\",\"type\":\"LinearAxis\"},{\"id\":\"10036\",\"type\":\"Grid\"},{\"id\":\"10040\",\"type\":\"BoxAnnotation\"},{\"id\":\"10043\",\"type\":\"PolyAnnotation\"},{\"id\":\"10051\",\"type\":\"GlyphRenderer\"}],\"title\":{\"id\":\"10392\",\"type\":\"Title\"},\"toolbar\":{\"id\":\"10042\",\"type\":\"Toolbar\"},\"toolbar_location\":\"above\",\"x_range\":{\"id\":\"10019\",\"type\":\"DataRange1d\"},\"x_scale\":{\"id\":\"10023\",\"type\":\"LinearScale\"},\"y_range\":{\"id\":\"10021\",\"type\":\"DataRange1d\"},\"y_scale\":{\"id\":\"10025\",\"type\":\"LinearScale\"}},\"id\":\"10018\",\"subtype\":\"Figure\",\"type\":\"Plot\"},{\"attributes\":{\"formatter\":{\"id\":\"10393\",\"type\":\"BasicTickFormatter\"},\"plot\":{\"id\":\"10018\",\"subtype\":\"Figure\",\"type\":\"Plot\"},\"ticker\":{\"id\":\"10028\",\"type\":\"BasicTicker\"}},\"id\":\"10027\",\"type\":\"LinearAxis\"},{\"attributes\":{},\"id\":\"10023\",\"type\":\"LinearScale\"},{\"attributes\":{},\"id\":\"10028\",\"type\":\"BasicTicker\"},{\"attributes\":{\"plot\":{\"id\":\"10018\",\"subtype\":\"Figure\",\"type\":\"Plot\"},\"ticker\":{\"id\":\"10028\",\"type\":\"BasicTicker\"}},\"id\":\"10031\",\"type\":\"Grid\"},{\"attributes\":{\"callback\":null},\"id\":\"10021\",\"type\":\"DataRange1d\"},{\"attributes\":{\"formatter\":{\"id\":\"10395\",\"type\":\"BasicTickFormatter\"},\"plot\":{\"id\":\"10018\",\"subtype\":\"Figure\",\"type\":\"Plot\"},\"ticker\":{\"id\":\"10033\",\"type\":\"BasicTicker\"}},\"id\":\"10032\",\"type\":\"LinearAxis\"},{\"attributes\":{},\"id\":\"10033\",\"type\":\"BasicTicker\"},{\"attributes\":{\"dimension\":1,\"plot\":{\"id\":\"10018\",\"subtype\":\"Figure\",\"type\":\"Plot\"},\"ticker\":{\"id\":\"10033\",\"type\":\"BasicTicker\"}},\"id\":\"10036\",\"type\":\"Grid\"},{\"attributes\":{},\"id\":\"10400\",\"type\":\"Selection\"},{\"attributes\":{\"callback\":null},\"id\":\"10019\",\"type\":\"DataRange1d\"},{\"attributes\":{},\"id\":\"10395\",\"type\":\"BasicTickFormatter\"},{\"attributes\":{},\"id\":\"10025\",\"type\":\"LinearScale\"},{\"attributes\":{\"fill_color\":{\"value\":\"red\"},\"line_color\":{\"value\":\"red\"},\"x\":{\"field\":\"x\"},\"y\":{\"field\":\"y\"}},\"id\":\"10049\",\"type\":\"Circle\"},{\"attributes\":{\"fill_alpha\":{\"value\":0.1},\"fill_color\":{\"value\":\"#1f77b4\"},\"line_alpha\":{\"value\":0.1},\"line_color\":{\"value\":\"#1f77b4\"},\"x\":{\"field\":\"x\"},\"y\":{\"field\":\"y\"}},\"id\":\"10050\",\"type\":\"Circle\"},{\"attributes\":{\"bottom_units\":\"screen\",\"fill_alpha\":{\"value\":0.5},\"fill_color\":{\"value\":\"lightgrey\"},\"left_units\":\"screen\",\"level\":\"overlay\",\"line_alpha\":{\"value\":1.0},\"line_color\":{\"value\":\"black\"},\"line_dash\":[4,4],\"line_width\":{\"value\":2},\"plot\":null,\"render_mode\":\"css\",\"right_units\":\"screen\",\"top_units\":\"screen\"},\"id\":\"10040\",\"type\":\"BoxAnnotation\"},{\"attributes\":{\"callback\":null,\"overlay\":{\"id\":\"10040\",\"type\":\"BoxAnnotation\"}},\"id\":\"10037\",\"type\":\"BoxSelectTool\"},{\"attributes\":{\"source\":{\"id\":\"10048\",\"type\":\"ColumnDataSource\"}},\"id\":\"10052\",\"type\":\"CDSView\"},{\"attributes\":{\"callback\":null,\"overlay\":{\"id\":\"10043\",\"type\":\"PolyAnnotation\"}},\"id\":\"10038\",\"type\":\"LassoSelectTool\"},{\"attributes\":{},\"id\":\"10039\",\"type\":\"ResetTool\"},{\"attributes\":{},\"id\":\"10399\",\"type\":\"UnionRenderers\"},{\"attributes\":{\"active_drag\":\"auto\",\"active_inspect\":\"auto\",\"active_multi\":null,\"active_scroll\":\"auto\",\"active_tap\":\"auto\",\"tools\":[{\"id\":\"10037\",\"type\":\"BoxSelectTool\"},{\"id\":\"10038\",\"type\":\"LassoSelectTool\"},{\"id\":\"10039\",\"type\":\"ResetTool\"}]},\"id\":\"10042\",\"type\":\"Toolbar\"},{\"attributes\":{\"fill_alpha\":{\"value\":0.5},\"fill_color\":{\"value\":\"lightgrey\"},\"level\":\"overlay\",\"line_alpha\":{\"value\":1.0},\"line_color\":{\"value\":\"black\"},\"line_dash\":[4,4],\"line_width\":{\"value\":2},\"plot\":null,\"xs_units\":\"screen\",\"ys_units\":\"screen\"},\"id\":\"10043\",\"type\":\"PolyAnnotation\"},{\"attributes\":{\"callback\":null,\"data\":{\"x\":{\"__ndarray__\":\"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\",\"dtype\":\"float64\",\"shape\":[500]},\"y\":{\"__ndarray__\":\"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\",\"dtype\":\"float64\",\"shape\":[500]}},\"selected\":{\"id\":\"10400\",\"type\":\"Selection\"},\"selection_policy\":{\"id\":\"10399\",\"type\":\"UnionRenderers\"}},\"id\":\"10048\",\"type\":\"ColumnDataSource\"},{\"attributes\":{\"data_source\":{\"id\":\"10048\",\"type\":\"ColumnDataSource\"},\"glyph\":{\"id\":\"10049\",\"type\":\"Circle\"},\"hover_glyph\":null,\"muted_glyph\":null,\"nonselection_glyph\":{\"id\":\"10050\",\"type\":\"Circle\"},\"selection_glyph\":null,\"view\":{\"id\":\"10052\",\"type\":\"CDSView\"}},\"id\":\"10051\",\"type\":\"GlyphRenderer\"},{\"attributes\":{},\"id\":\"10393\",\"type\":\"BasicTickFormatter\"},{\"attributes\":{\"plot\":null,\"text\":\"\"},\"id\":\"10392\",\"type\":\"Title\"}],\"root_ids\":[\"10018\"]},\"title\":\"Bokeh Application\",\"version\":\"1.0.4\"}};\n",
       "  var render_items = [{\"docid\":\"59f4831a-82b9-43bc-9ea6-40ef3c7bf2c1\",\"roots\":{\"10018\":\"5dfb86ac-f6b7-4ce3-ae3f-d96a1d2f2c00\"}}];\n",
       "  root.Bokeh.embed.embed_items_notebook(docs_json, render_items);\n",
       "\n",
       "  }\n",
       "  if (root.Bokeh !== undefined) {\n",
       "    embed_document(root);\n",
       "  } else {\n",
       "    var attempts = 0;\n",
       "    var timer = setInterval(function(root) {\n",
       "      if (root.Bokeh !== undefined) {\n",
       "        embed_document(root);\n",
       "        clearInterval(timer);\n",
       "      }\n",
       "      attempts++;\n",
       "      if (attempts > 100) {\n",
       "        console.log(\"Bokeh: ERROR: Unable to run BokehJS code because BokehJS library is missing\");\n",
       "        clearInterval(timer);\n",
       "      }\n",
       "    }, 10, root)\n",
       "  }\n",
       "})(window);"
      ],
      "application/vnd.bokehjs_exec.v0+json": ""
     },
     "metadata": {
      "application/vnd.bokehjs_exec.v0+json": {
       "id": "10018"
      }
     },
     "output_type": "display_data"
    }
   ],
   "source": [
    "# 工具栏 tools\n",
    "# （3）选择\n",
    "\n",
    "TOOLS = '''\n",
    "        box_select,lasso_select,\n",
    "        reset\n",
    "        '''\n",
    "\n",
    "p = figure(plot_width=800, plot_height=400,toolbar_location=\"above\",\n",
    "           tools = TOOLS)\n",
    "# 添加toolbar\n",
    "\n",
    "p.circle(np.random.randn(500),np.random.randn(500),color='red')\n",
    "show(p)"
   ]
  },
  {
   "cell_type": "code",
   "execution_count": 35,
   "metadata": {},
   "outputs": [
    {
     "name": "stdout",
     "output_type": "stream",
     "text": [
      "                A           B    type   color\n",
      "index                                        \n",
      "0      -50.646431  -69.268872  rabbit     red\n",
      "1      -18.676467  -70.376163    pooh     red\n",
      "2      -49.239202  117.701422  rabbit  yellow\n",
      "3      -33.377596   -0.057208  rabbit  yellow\n",
      "4      165.243459   69.130323  rabbit   green\n"
     ]
    },
    {
     "data": {
      "text/html": [
       "\n",
       "\n",
       "\n",
       "\n",
       "\n",
       "\n",
       "  <div class=\"bk-root\" id=\"a4457efd-91e8-4ae5-b390-9a7414928266\" data-root-id=\"10463\"></div>\n"
      ]
     },
     "metadata": {},
     "output_type": "display_data"
    },
    {
     "data": {
      "application/javascript": [
       "(function(root) {\n",
       "  function embed_document(root) {\n",
       "    \n",
       "  var docs_json = {\"d20f0d7e-66c2-45a5-bd8f-715e0b379d21\":{\"roots\":{\"references\":[{\"attributes\":{\"below\":[{\"id\":\"10472\",\"type\":\"LinearAxis\"}],\"left\":[{\"id\":\"10477\",\"type\":\"LinearAxis\"}],\"plot_height\":400,\"plot_width\":800,\"renderers\":[{\"id\":\"10472\",\"type\":\"LinearAxis\"},{\"id\":\"10476\",\"type\":\"Grid\"},{\"id\":\"10477\",\"type\":\"LinearAxis\"},{\"id\":\"10481\",\"type\":\"Grid\"},{\"id\":\"10488\",\"type\":\"BoxAnnotation\"},{\"id\":\"10499\",\"type\":\"GlyphRenderer\"}],\"title\":{\"id\":\"10850\",\"type\":\"Title\"},\"toolbar\":{\"id\":\"10487\",\"type\":\"Toolbar\"},\"toolbar_location\":\"above\",\"x_range\":{\"id\":\"10464\",\"type\":\"DataRange1d\"},\"x_scale\":{\"id\":\"10468\",\"type\":\"LinearScale\"},\"y_range\":{\"id\":\"10466\",\"type\":\"DataRange1d\"},\"y_scale\":{\"id\":\"10470\",\"type\":\"LinearScale\"}},\"id\":\"10463\",\"subtype\":\"Figure\",\"type\":\"Plot\"},{\"attributes\":{},\"id\":\"10853\",\"type\":\"BasicTickFormatter\"},{\"attributes\":{\"callback\":null,\"tooltips\":[[\"index\",\"$index\"],[\"(x,y)\",\"($x, $y)\"],[\"A\",\"@A\"],[\"B\",\"@B\"],[\"type\",\"@type\"],[\"color\",\"@color\"]]},\"id\":\"10462\",\"type\":\"HoverTool\"},{\"attributes\":{\"formatter\":{\"id\":\"10853\",\"type\":\"BasicTickFormatter\"},\"plot\":{\"id\":\"10463\",\"subtype\":\"Figure\",\"type\":\"Plot\"},\"ticker\":{\"id\":\"10478\",\"type\":\"BasicTicker\"}},\"id\":\"10477\",\"type\":\"LinearAxis\"},{\"attributes\":{\"dimension\":1,\"plot\":{\"id\":\"10463\",\"subtype\":\"Figure\",\"type\":\"Plot\"},\"ticker\":{\"id\":\"10478\",\"type\":\"BasicTicker\"}},\"id\":\"10481\",\"type\":\"Grid\"},{\"attributes\":{},\"id\":\"10478\",\"type\":\"BasicTicker\"},{\"attributes\":{\"callback\":null,\"data\":{\"A\":{\"__ndarray__\":\"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\",\"dtype\":\"float64\",\"shape\":[500]},\"B\":{\"__ndarray__\":\"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\",\"dtype\":\"float64\",\"shape\":[500]},\"color\":[\"red\",\"red\",\"yellow\",\"yellow\",\"green\",\"blue\",\"green\",\"green\",\"yellow\",\"red\",\"yellow\",\"red\",\"red\",\"blue\",\"yellow\",\"blue\",\"yellow\",\"red\",\"green\",\"yellow\",\"green\",\"yellow\",\"red\",\"yellow\",\"green\",\"yellow\",\"green\",\"red\",\"yellow\",\"yellow\",\"red\",\"green\",\"green\",\"green\",\"red\",\"blue\",\"green\",\"yellow\",\"red\",\"blue\",\"green\",\"blue\",\"red\",\"red\",\"blue\",\"blue\",\"yellow\",\"blue\",\"blue\",\"blue\",\"blue\",\"green\",\"blue\",\"yellow\",\"blue\",\"green\",\"green\",\"red\",\"blue\",\"green\",\"blue\",\"green\",\"red\",\"red\",\"green\",\"red\",\"red\",\"blue\",\"yellow\",\"red\",\"green\",\"red\",\"blue\",\"green\",\"green\",\"blue\",\"yellow\",\"blue\",\"red\",\"green\",\"blue\",\"green\",\"red\",\"green\",\"yellow\",\"blue\",\"green\",\"red\",\"blue\",\"green\",\"green\",\"green\",\"green\",\"yellow\",\"blue\",\"green\",\"green\",\"yellow\",\"green\",\"red\",\"green\",\"blue\",\"green\",\"yellow\",\"blue\",\"blue\",\"blue\",\"yellow\",\"yellow\",\"blue\",\"blue\",\"yellow\",\"green\",\"red\",\"green\",\"blue\",\"blue\",\"yellow\",\"green\",\"blue\",\"red\",\"blue\",\"red\",\"yellow\",\"red\",\"red\",\"red\",\"green\",\"green\",\"green\",\"red\",\"green\",\"blue\",\"green\",\"red\",\"yellow\",\"yellow\",\"green\",\"green\",\"red\",\"green\",\"green\",\"yellow\",\"green\",\"red\",\"red\",\"red\",\"blue\",\"green\",\"blue\",\"green\",\"green\",\"yellow\",\"green\",\"blue\",\"green\",\"red\",\"red\",\"yellow\",\"yellow\",\"yellow\",\"yellow\",\"blue\",\"green\",\"green\",\"red\",\"green\",\"red\",\"red\",\"green\",\"red\",\"green\",\"green\",\"blue\",\"yellow\",\"green\",\"red\",\"yellow\",\"green\",\"blue\",\"blue\",\"yellow\",\"yellow\",\"blue\",\"green\",\"yellow\",\"green\",\"red\",\"red\",\"green\",\"green\",\"blue\",\"blue\",\"green\",\"blue\",\"red\",\"yellow\",\"green\",\"yellow\",\"red\",\"green\",\"green\",\"red\",\"green\",\"yellow\",\"green\",\"red\",\"yellow\",\"yellow\",\"blue\",\"red\",\"red\",\"red\",\"yellow\",\"blue\",\"blue\",\"blue\",\"blue\",\"yellow\",\"red\",\"yellow\",\"yellow\",\"green\",\"green\",\"green\",\"blue\",\"red\",\"green\",\"green\",\"red\",\"red\",\"red\",\"green\",\"yellow\",\"blue\",\"yellow\",\"blue\",\"blue\",\"red\",\"blue\",\"blue\",\"blue\",\"red\",\"green\",\"green\",\"green\",\"blue\",\"blue\",\"blue\",\"blue\",\"green\",\"yellow\",\"red\",\"red\",\"blue\",\"red\",\"blue\",\"red\",\"green\",\"blue\",\"green\",\"yellow\",\"green\",\"red\",\"blue\",\"blue\",\"yellow\",\"blue\",\"red\",\"blue\",\"green\",\"green\",\"red\",\"red\",\"yellow\",\"yellow\",\"green\",\"red\",\"yellow\",\"blue\",\"red\",\"blue\",\"red\",\"yellow\",\"yellow\",\"blue\",\"green\",\"green\",\"red\",\"green\",\"green\",\"green\",\"yellow\",\"red\",\"blue\",\"yellow\",\"green\",\"blue\",\"yellow\",\"red\",\"red\",\"green\",\"red\",\"blue\",\"red\",\"yellow\",\"yellow\",\"red\",\"red\",\"blue\",\"yellow\",\"red\",\"blue\",\"red\",\"green\",\"green\",\"red\",\"red\",\"green\",\"red\",\"red\",\"red\",\"green\",\"yellow\",\"green\",\"blue\",\"blue\",\"blue\",\"red\",\"blue\",\"blue\",\"red\",\"red\",\"green\",\"green\",\"red\",\"green\",\"yellow\",\"yellow\",\"yellow\",\"red\",\"green\",\"green\",\"green\",\"blue\",\"green\",\"blue\",\"green\",\"red\",\"yellow\",\"green\",\"yellow\",\"green\",\"yellow\",\"blue\",\"red\",\"blue\",\"blue\",\"red\",\"yellow\",\"blue\",\"red\",\"red\",\"yellow\",\"green\",\"green\",\"red\",\"green\",\"red\",\"red\",\"yellow\",\"green\",\"green\",\"blue\",\"blue\",\"yellow\",\"red\",\"blue\",\"green\",\"red\",\"green\",\"red\",\"blue\",\"yellow\",\"red\",\"green\",\"yellow\",\"blue\",\"blue\",\"yellow\",\"red\",\"blue\",\"green\",\"blue\",\"green\",\"blue\",\"green\",\"green\",\"blue\",\"red\",\"yellow\",\"green\",\"green\",\"yellow\",\"yellow\",\"yellow\",\"green\",\"yellow\",\"blue\",\"blue\",\"blue\",\"red\",\"green\",\"blue\",\"red\",\"green\",\"red\",\"green\",\"blue\",\"blue\",\"red\",\"blue\",\"yellow\",\"yellow\",\"blue\",\"red\",\"green\",\"green\",\"blue\",\"blue\",\"yellow\",\"yellow\",\"yellow\",\"red\",\"green\",\"green\",\"red\",\"yellow\",\"blue\",\"blue\",\"red\",\"red\",\"green\",\"green\",\"green\",\"yellow\",\"green\",\"blue\",\"yellow\",\"blue\",\"green\",\"green\",\"red\",\"yellow\",\"blue\",\"blue\",\"green\",\"red\",\"red\",\"green\",\"yellow\",\"yellow\",\"red\",\"red\",\"green\",\"blue\",\"red\",\"yellow\",\"blue\",\"yellow\",\"yellow\",\"red\",\"green\",\"blue\",\"blue\",\"blue\",\"red\",\"green\",\"yellow\",\"red\",\"red\",\"yellow\",\"green\",\"red\",\"red\",\"yellow\",\"yellow\",\"green\",\"red\",\"red\",\"green\",\"green\",\"blue\",\"green\",\"blue\",\"yellow\",\"green\",\"yellow\",\"green\",\"yellow\"],\"index\":[0,1,2,3,4,5,6,7,8,9,10,11,12,13,14,15,16,17,18,19,20,21,22,23,24,25,26,27,28,29,30,31,32,33,34,35,36,37,38,39,40,41,42,43,44,45,46,47,48,49,50,51,52,53,54,55,56,57,58,59,60,61,62,63,64,65,66,67,68,69,70,71,72,73,74,75,76,77,78,79,80,81,82,83,84,85,86,87,88,89,90,91,92,93,94,95,96,97,98,99,100,101,102,103,104,105,106,107,108,109,110,111,112,113,114,115,116,117,118,119,120,121,122,123,124,125,126,127,128,129,130,131,132,133,134,135,136,137,138,139,140,141,142,143,144,145,146,147,148,149,150,151,152,153,154,155,156,157,158,159,160,161,162,163,164,165,166,167,168,169,170,171,172,173,174,175,176,177,178,179,180,181,182,183,184,185,186,187,188,189,190,191,192,193,194,195,196,197,198,199,200,201,202,203,204,205,206,207,208,209,210,211,212,213,214,215,216,217,218,219,220,221,222,223,224,225,226,227,228,229,230,231,232,233,234,235,236,237,238,239,240,241,242,243,244,245,246,247,248,249,250,251,252,253,254,255,256,257,258,259,260,261,262,263,264,265,266,267,268,269,270,271,272,273,274,275,276,277,278,279,280,281,282,283,284,285,286,287,288,289,290,291,292,293,294,295,296,297,298,299,300,301,302,303,304,305,306,307,308,309,310,311,312,313,314,315,316,317,318,319,320,321,322,323,324,325,326,327,328,329,330,331,332,333,334,335,336,337,338,339,340,341,342,343,344,345,346,347,348,349,350,351,352,353,354,355,356,357,358,359,360,361,362,363,364,365,366,367,368,369,370,371,372,373,374,375,376,377,378,379,380,381,382,383,384,385,386,387,388,389,390,391,392,393,394,395,396,397,398,399,400,401,402,403,404,405,406,407,408,409,410,411,412,413,414,415,416,417,418,419,420,421,422,423,424,425,426,427,428,429,430,431,432,433,434,435,436,437,438,439,440,441,442,443,444,445,446,447,448,449,450,451,452,453,454,455,456,457,458,459,460,461,462,463,464,465,466,467,468,469,470,471,472,473,474,475,476,477,478,479,480,481,482,483,484,485,486,487,488,489,490,491,492,493,494,495,496,497,498,499],\"type\":[\"rabbit\",\"pooh\",\"rabbit\",\"rabbit\",\"rabbit\",\"Christopher\",\"pooh\",\"rabbit\",\"Christopher\",\"piglet\",\"Christopher\",\"piglet\",\"Christopher\",\"pooh\",\"pooh\",\"Christopher\",\"rabbit\",\"piglet\",\"pooh\",\"Christopher\",\"rabbit\",\"pooh\",\"pooh\",\"rabbit\",\"piglet\",\"rabbit\",\"Christopher\",\"rabbit\",\"piglet\",\"rabbit\",\"Christopher\",\"rabbit\",\"Christopher\",\"Christopher\",\"piglet\",\"Christopher\",\"pooh\",\"pooh\",\"Christopher\",\"pooh\",\"pooh\",\"pooh\",\"rabbit\",\"rabbit\",\"Christopher\",\"pooh\",\"rabbit\",\"Christopher\",\"pooh\",\"piglet\",\"Christopher\",\"rabbit\",\"rabbit\",\"pooh\",\"rabbit\",\"rabbit\",\"rabbit\",\"pooh\",\"Christopher\",\"Christopher\",\"pooh\",\"piglet\",\"pooh\",\"pooh\",\"pooh\",\"piglet\",\"Christopher\",\"pooh\",\"piglet\",\"Christopher\",\"pooh\",\"rabbit\",\"rabbit\",\"rabbit\",\"Christopher\",\"Christopher\",\"pooh\",\"rabbit\",\"piglet\",\"Christopher\",\"rabbit\",\"pooh\",\"Christopher\",\"rabbit\",\"rabbit\",\"piglet\",\"Christopher\",\"piglet\",\"Christopher\",\"piglet\",\"piglet\",\"pooh\",\"rabbit\",\"rabbit\",\"rabbit\",\"pooh\",\"Christopher\",\"piglet\",\"piglet\",\"piglet\",\"piglet\",\"Christopher\",\"piglet\",\"pooh\",\"Christopher\",\"pooh\",\"rabbit\",\"pooh\",\"piglet\",\"rabbit\",\"piglet\",\"Christopher\",\"Christopher\",\"piglet\",\"Christopher\",\"pooh\",\"piglet\",\"Christopher\",\"rabbit\",\"pooh\",\"Christopher\",\"pooh\",\"Christopher\",\"rabbit\",\"pooh\",\"rabbit\",\"rabbit\",\"Christopher\",\"piglet\",\"pooh\",\"rabbit\",\"Christopher\",\"piglet\",\"rabbit\",\"rabbit\",\"rabbit\",\"pooh\",\"rabbit\",\"Christopher\",\"pooh\",\"pooh\",\"Christopher\",\"Christopher\",\"pooh\",\"pooh\",\"pooh\",\"rabbit\",\"Christopher\",\"pooh\",\"rabbit\",\"Christopher\",\"pooh\",\"Christopher\",\"pooh\",\"rabbit\",\"pooh\",\"piglet\",\"Christopher\",\"rabbit\",\"piglet\",\"pooh\",\"Christopher\",\"piglet\",\"Christopher\",\"Christopher\",\"Christopher\",\"rabbit\",\"piglet\",\"rabbit\",\"rabbit\",\"Christopher\",\"piglet\",\"piglet\",\"rabbit\",\"Christopher\",\"rabbit\",\"pooh\",\"pooh\",\"piglet\",\"piglet\",\"piglet\",\"pooh\",\"rabbit\",\"piglet\",\"pooh\",\"rabbit\",\"piglet\",\"rabbit\",\"piglet\",\"pooh\",\"pooh\",\"Christopher\",\"Christopher\",\"pooh\",\"pooh\",\"Christopher\",\"Christopher\",\"pooh\",\"piglet\",\"pooh\",\"rabbit\",\"Christopher\",\"rabbit\",\"rabbit\",\"pooh\",\"Christopher\",\"Christopher\",\"piglet\",\"rabbit\",\"piglet\",\"rabbit\",\"piglet\",\"rabbit\",\"piglet\",\"rabbit\",\"Christopher\",\"Christopher\",\"pooh\",\"piglet\",\"Christopher\",\"Christopher\",\"rabbit\",\"piglet\",\"pooh\",\"piglet\",\"Christopher\",\"rabbit\",\"pooh\",\"piglet\",\"rabbit\",\"piglet\",\"piglet\",\"rabbit\",\"Christopher\",\"piglet\",\"piglet\",\"piglet\",\"piglet\",\"piglet\",\"rabbit\",\"Christopher\",\"rabbit\",\"pooh\",\"rabbit\",\"piglet\",\"pooh\",\"rabbit\",\"pooh\",\"Christopher\",\"rabbit\",\"piglet\",\"pooh\",\"Christopher\",\"rabbit\",\"piglet\",\"Christopher\",\"rabbit\",\"rabbit\",\"pooh\",\"rabbit\",\"piglet\",\"Christopher\",\"piglet\",\"Christopher\",\"pooh\",\"pooh\",\"Christopher\",\"Christopher\",\"Christopher\",\"piglet\",\"piglet\",\"piglet\",\"Christopher\",\"piglet\",\"pooh\",\"rabbit\",\"piglet\",\"rabbit\",\"pooh\",\"Christopher\",\"Christopher\",\"rabbit\",\"Christopher\",\"pooh\",\"pooh\",\"pooh\",\"rabbit\",\"Christopher\",\"piglet\",\"Christopher\",\"pooh\",\"piglet\",\"pooh\",\"piglet\",\"Christopher\",\"Christopher\",\"Christopher\",\"Christopher\",\"pooh\",\"piglet\",\"Christopher\",\"piglet\",\"piglet\",\"rabbit\",\"Christopher\",\"rabbit\",\"piglet\",\"rabbit\",\"piglet\",\"pooh\",\"Christopher\",\"Christopher\",\"pooh\",\"pooh\",\"rabbit\",\"pooh\",\"Christopher\",\"Christopher\",\"piglet\",\"pooh\",\"piglet\",\"pooh\",\"piglet\",\"Christopher\",\"pooh\",\"piglet\",\"pooh\",\"piglet\",\"piglet\",\"Christopher\",\"rabbit\",\"piglet\",\"Christopher\",\"pooh\",\"rabbit\",\"rabbit\",\"pooh\",\"rabbit\",\"pooh\",\"Christopher\",\"Christopher\",\"pooh\",\"Christopher\",\"piglet\",\"piglet\",\"piglet\",\"rabbit\",\"piglet\",\"piglet\",\"pooh\",\"rabbit\",\"piglet\",\"Christopher\",\"rabbit\",\"rabbit\",\"Christopher\",\"piglet\",\"piglet\",\"Christopher\",\"Christopher\",\"piglet\",\"Christopher\",\"rabbit\",\"pooh\",\"pooh\",\"piglet\",\"pooh\",\"rabbit\",\"piglet\",\"rabbit\",\"piglet\",\"rabbit\",\"rabbit\",\"rabbit\",\"piglet\",\"pooh\",\"Christopher\",\"pooh\",\"rabbit\",\"piglet\",\"rabbit\",\"Christopher\",\"rabbit\",\"pooh\",\"pooh\",\"rabbit\",\"Christopher\",\"pooh\",\"pooh\",\"Christopher\",\"pooh\",\"rabbit\",\"rabbit\",\"Christopher\",\"pooh\",\"piglet\",\"Christopher\",\"rabbit\",\"rabbit\",\"rabbit\",\"rabbit\",\"piglet\",\"rabbit\",\"rabbit\",\"piglet\",\"piglet\",\"Christopher\",\"pooh\",\"Christopher\",\"rabbit\",\"Christopher\",\"pooh\",\"piglet\",\"pooh\",\"rabbit\",\"pooh\",\"piglet\",\"Christopher\",\"rabbit\",\"pooh\",\"pooh\",\"rabbit\",\"rabbit\",\"piglet\",\"rabbit\",\"piglet\",\"rabbit\",\"pooh\",\"pooh\",\"piglet\",\"pooh\",\"rabbit\",\"rabbit\",\"Christopher\",\"Christopher\",\"rabbit\",\"Christopher\",\"Christopher\",\"piglet\",\"pooh\",\"piglet\",\"piglet\",\"rabbit\",\"Christopher\",\"piglet\",\"piglet\",\"rabbit\",\"piglet\",\"rabbit\",\"pooh\",\"piglet\",\"piglet\",\"piglet\",\"pooh\",\"Christopher\",\"pooh\",\"pooh\",\"rabbit\",\"rabbit\",\"rabbit\",\"pooh\",\"rabbit\",\"Christopher\",\"rabbit\",\"piglet\",\"rabbit\",\"Christopher\",\"Christopher\",\"piglet\",\"piglet\",\"rabbit\",\"rabbit\",\"piglet\",\"rabbit\",\"piglet\",\"pooh\",\"pooh\",\"rabbit\",\"rabbit\",\"pooh\",\"piglet\",\"pooh\",\"piglet\",\"piglet\",\"piglet\",\"Christopher\",\"rabbit\",\"pooh\",\"rabbit\",\"Christopher\",\"rabbit\",\"pooh\",\"Christopher\",\"pooh\",\"Christopher\",\"piglet\",\"pooh\",\"pooh\",\"pooh\",\"pooh\"]},\"selected\":{\"id\":\"10857\",\"type\":\"Selection\"},\"selection_policy\":{\"id\":\"10856\",\"type\":\"UnionRenderers\"}},\"id\":\"10461\",\"type\":\"ColumnDataSource\"},{\"attributes\":{\"fill_alpha\":{\"value\":0.1},\"fill_color\":{\"value\":\"#1f77b4\"},\"line_alpha\":{\"value\":0.1},\"line_color\":{\"value\":\"#1f77b4\"},\"size\":{\"units\":\"screen\",\"value\":10},\"x\":{\"field\":\"A\"},\"y\":{\"field\":\"B\"}},\"id\":\"10498\",\"type\":\"Circle\"},{\"attributes\":{},\"id\":\"10856\",\"type\":\"UnionRenderers\"},{\"attributes\":{},\"id\":\"10483\",\"type\":\"ResetTool\"},{\"attributes\":{},\"id\":\"10485\",\"type\":\"PanTool\"},{\"attributes\":{\"active_drag\":\"auto\",\"active_inspect\":\"auto\",\"active_multi\":null,\"active_scroll\":\"auto\",\"active_tap\":\"auto\",\"tools\":[{\"id\":\"10462\",\"type\":\"HoverTool\"},{\"id\":\"10482\",\"type\":\"BoxSelectTool\"},{\"id\":\"10483\",\"type\":\"ResetTool\"},{\"id\":\"10484\",\"type\":\"WheelZoomTool\"},{\"id\":\"10485\",\"type\":\"PanTool\"},{\"id\":\"10486\",\"type\":\"CrosshairTool\"}]},\"id\":\"10487\",\"type\":\"Toolbar\"},{\"attributes\":{\"callback\":null,\"overlay\":{\"id\":\"10488\",\"type\":\"BoxAnnotation\"}},\"id\":\"10482\",\"type\":\"BoxSelectTool\"},{\"attributes\":{},\"id\":\"10484\",\"type\":\"WheelZoomTool\"},{\"attributes\":{\"callback\":null},\"id\":\"10464\",\"type\":\"DataRange1d\"},{\"attributes\":{},\"id\":\"10468\",\"type\":\"LinearScale\"},{\"attributes\":{},\"id\":\"10857\",\"type\":\"Selection\"},{\"attributes\":{\"bottom_units\":\"screen\",\"fill_alpha\":{\"value\":0.5},\"fill_color\":{\"value\":\"lightgrey\"},\"left_units\":\"screen\",\"level\":\"overlay\",\"line_alpha\":{\"value\":1.0},\"line_color\":{\"value\":\"black\"},\"line_dash\":[4,4],\"line_width\":{\"value\":2},\"plot\":null,\"render_mode\":\"css\",\"right_units\":\"screen\",\"top_units\":\"screen\"},\"id\":\"10488\",\"type\":\"BoxAnnotation\"},{\"attributes\":{},\"id\":\"10486\",\"type\":\"CrosshairTool\"},{\"attributes\":{\"plot\":{\"id\":\"10463\",\"subtype\":\"Figure\",\"type\":\"Plot\"},\"ticker\":{\"id\":\"10473\",\"type\":\"BasicTicker\"}},\"id\":\"10476\",\"type\":\"Grid\"},{\"attributes\":{\"source\":{\"id\":\"10461\",\"type\":\"ColumnDataSource\"}},\"id\":\"10500\",\"type\":\"CDSView\"},{\"attributes\":{\"fill_alpha\":{\"value\":0.3},\"fill_color\":{\"field\":\"color\"},\"line_alpha\":{\"value\":0.3},\"line_color\":{\"field\":\"color\"},\"size\":{\"units\":\"screen\",\"value\":10},\"x\":{\"field\":\"A\"},\"y\":{\"field\":\"B\"}},\"id\":\"10497\",\"type\":\"Circle\"},{\"attributes\":{\"callback\":null},\"id\":\"10466\",\"type\":\"DataRange1d\"},{\"attributes\":{\"data_source\":{\"id\":\"10461\",\"type\":\"ColumnDataSource\"},\"glyph\":{\"id\":\"10497\",\"type\":\"Circle\"},\"hover_glyph\":null,\"muted_glyph\":null,\"nonselection_glyph\":{\"id\":\"10498\",\"type\":\"Circle\"},\"selection_glyph\":null,\"view\":{\"id\":\"10500\",\"type\":\"CDSView\"}},\"id\":\"10499\",\"type\":\"GlyphRenderer\"},{\"attributes\":{\"formatter\":{\"id\":\"10851\",\"type\":\"BasicTickFormatter\"},\"plot\":{\"id\":\"10463\",\"subtype\":\"Figure\",\"type\":\"Plot\"},\"ticker\":{\"id\":\"10473\",\"type\":\"BasicTicker\"}},\"id\":\"10472\",\"type\":\"LinearAxis\"},{\"attributes\":{},\"id\":\"10470\",\"type\":\"LinearScale\"},{\"attributes\":{\"plot\":null,\"text\":\"\"},\"id\":\"10850\",\"type\":\"Title\"},{\"attributes\":{},\"id\":\"10851\",\"type\":\"BasicTickFormatter\"},{\"attributes\":{},\"id\":\"10473\",\"type\":\"BasicTicker\"}],\"root_ids\":[\"10463\"]},\"title\":\"Bokeh Application\",\"version\":\"1.0.4\"}};\n",
       "  var render_items = [{\"docid\":\"d20f0d7e-66c2-45a5-bd8f-715e0b379d21\",\"roots\":{\"10463\":\"a4457efd-91e8-4ae5-b390-9a7414928266\"}}];\n",
       "  root.Bokeh.embed.embed_items_notebook(docs_json, render_items);\n",
       "\n",
       "  }\n",
       "  if (root.Bokeh !== undefined) {\n",
       "    embed_document(root);\n",
       "  } else {\n",
       "    var attempts = 0;\n",
       "    var timer = setInterval(function(root) {\n",
       "      if (root.Bokeh !== undefined) {\n",
       "        embed_document(root);\n",
       "        clearInterval(timer);\n",
       "      }\n",
       "      attempts++;\n",
       "      if (attempts > 100) {\n",
       "        console.log(\"Bokeh: ERROR: Unable to run BokehJS code because BokehJS library is missing\");\n",
       "        clearInterval(timer);\n",
       "      }\n",
       "    }, 10, root)\n",
       "  }\n",
       "})(window);"
      ],
      "application/vnd.bokehjs_exec.v0+json": ""
     },
     "metadata": {
      "application/vnd.bokehjs_exec.v0+json": {
       "id": "10463"
      }
     },
     "output_type": "display_data"
    },
    {
     "data": {
      "text/html": [
       "\n",
       "\n",
       "\n",
       "\n",
       "\n",
       "\n",
       "  <div class=\"bk-root\" id=\"e240e7af-ef65-44a9-9ed6-7e8cdb4dada9\" data-root-id=\"10912\"></div>\n"
      ]
     },
     "metadata": {},
     "output_type": "display_data"
    },
    {
     "data": {
      "application/javascript": [
       "(function(root) {\n",
       "  function embed_document(root) {\n",
       "    \n",
       "  var docs_json = {\"94d79cb3-280e-4d79-ab02-f7f3e6c53777\":{\"roots\":{\"references\":[{\"attributes\":{\"below\":[{\"id\":\"10921\",\"type\":\"LinearAxis\"}],\"left\":[{\"id\":\"10926\",\"type\":\"LinearAxis\"}],\"plot_height\":400,\"plot_width\":800,\"renderers\":[{\"id\":\"10921\",\"type\":\"LinearAxis\"},{\"id\":\"10925\",\"type\":\"Grid\"},{\"id\":\"10926\",\"type\":\"LinearAxis\"},{\"id\":\"10930\",\"type\":\"Grid\"},{\"id\":\"10936\",\"type\":\"BoxAnnotation\"},{\"id\":\"10946\",\"type\":\"GlyphRenderer\"}],\"title\":{\"id\":\"11306\",\"type\":\"Title\"},\"toolbar\":{\"id\":\"10935\",\"type\":\"Toolbar\"},\"toolbar_location\":\"above\",\"x_range\":{\"id\":\"10913\",\"type\":\"DataRange1d\"},\"x_scale\":{\"id\":\"10917\",\"type\":\"LinearScale\"},\"y_range\":{\"id\":\"10915\",\"type\":\"DataRange1d\"},\"y_scale\":{\"id\":\"10919\",\"type\":\"LinearScale\"}},\"id\":\"10912\",\"subtype\":\"Figure\",\"type\":\"Plot\"},{\"attributes\":{\"active_drag\":\"auto\",\"active_inspect\":\"auto\",\"active_multi\":null,\"active_scroll\":\"auto\",\"active_tap\":\"auto\",\"tools\":[{\"id\":\"10462\",\"type\":\"HoverTool\"},{\"id\":\"10931\",\"type\":\"BoxSelectTool\"},{\"id\":\"10932\",\"type\":\"ResetTool\"},{\"id\":\"10933\",\"type\":\"WheelZoomTool\"},{\"id\":\"10934\",\"type\":\"PanTool\"}]},\"id\":\"10935\",\"type\":\"Toolbar\"},{\"attributes\":{},\"id\":\"11307\",\"type\":\"BasicTickFormatter\"},{\"attributes\":{},\"id\":\"10934\",\"type\":\"PanTool\"},{\"attributes\":{\"callback\":null,\"tooltips\":[[\"index\",\"$index\"],[\"(x,y)\",\"($x, $y)\"],[\"A\",\"@A\"],[\"B\",\"@B\"],[\"type\",\"@type\"],[\"color\",\"@color\"]]},\"id\":\"10462\",\"type\":\"HoverTool\"},{\"attributes\":{},\"id\":\"11309\",\"type\":\"BasicTickFormatter\"},{\"attributes\":{\"plot\":null,\"text\":\"\"},\"id\":\"11306\",\"type\":\"Title\"},{\"attributes\":{\"callback\":null,\"overlay\":{\"id\":\"10936\",\"type\":\"BoxAnnotation\"}},\"id\":\"10931\",\"type\":\"BoxSelectTool\"},{\"attributes\":{},\"id\":\"10932\",\"type\":\"ResetTool\"},{\"attributes\":{\"callback\":null,\"data\":{\"A\":{\"__ndarray__\":\"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\",\"dtype\":\"float64\",\"shape\":[500]},\"B\":{\"__ndarray__\":\"Z6/kMzVRUcBx5VAME5hRwLschxjkbF1ASKCpOmJKrb9nsAY4V0hRQIwQxnm5RkHAKMNgP1UxYcDUSS20ZxIeQGbe3pnwWj1A4cG/4rwaNsAhmz1iaK9IQCFN+N/2/URAYEJw7NB6WEC3kkckZT9mQMRdvNdPyUnAHv2RHoqINEDuX98i0UBLwAEeNAaA12VAfFLJSA7eYUAi5CcLWoAiwH3c5JR28VRAjG5xOVVbSsAP571K+stfQC3UMQdEOHFA9Vhg79TTU8CbpJ9qDu5WwKscvVLp9kNASPVGQyXDOsBfa5hgpKkjwHXNMf7JIGTAhV/kyfxbXMBMNcK7iww2wA/oM6YR0U3A/C/TA5P5WMDsFwgwVQQ5wF20rbdapWhA6+tIgAs3XUAJ03uWcX8wQPPEs+NflhJAzcXlnDGfYMDItMl84LpgQOX+b2ytIWXAUNHRG6gfIUCTf/JA9uQ4wA8ZYi4lHkXAI9oH7Ny9CECmxatTgQYpwKd/AkB+qUxAUfxtQWULT0Dsgjc9EyROwNal1XftP0/AS0d9h/BgakAxWQVgtUVoQIWMzgArW1hAJnk9G/JYVUAr53tpzRZZwJskFKVEuU9AqY+ywiIZQUBlddxmntNOwOC/kXW0z0tAK+8Ssnf7SEA/O9PgUg1RwJYEAAEG3V9AsQCicZOBSEAxOrk8brBRwJSrklJJnVPAoax4BVdEYkCXwkSzIUdfwNoPWfQbbltAqEHXQ7VvMsAGCXh8LXlZQIsjVhLW5zHASMcq9FN7UsCShyowtQAgQCZHve8+nUtAHQRzPCPaEkBFQUqmjntlwF976+5OZENAnod2CL03U0CqhcLGPYpjQOUEYEpL0D1Ad8cYPyruR8D1eTzqWFhBwAan6u/9mz3AoGG37IuHUsBiq5+JYvMsQCSAjXSXu0hAPi4Ild6ma0BLFC7mdcMwwOxSFg+xFETAmNhkUv6GXsCFcmRqQHZOQBznqESsIFJAHb1Us+JSQsChH0+5ZblUQEfE4Oj0IUnAcC0PIMueV0DATOUKh+BOQK9EtOFGtmPAyVU9Xv67R8AGri43IpJGQBOhWcJL71zAz5dz/Te8WsDwpUe62tMuQFox0LecNTZAqqH9k4J/F8CF+EcPJBA3wLg8y5hK71NA1/l431z2T0CpkICvKTw1wEkQJAESRmRAU7SoOB0HWcD363nUdDYzQCgbSpOzz2JAIansuEQ+W0DFawYGevMGQJEgQ5Pgz0XAHJX4amayV8DfThQlRCBAwOQUvPBzAEvAjjdtcwmNZEAM2tvxWB9PQFPLM2hXwzBAn0HpLgAWVsD45zssWIoywAt+sppHX0RAtKGLpvWlaUBCzD+lk8NVQNsKhI9b5xFA6IJn4A5FWEBEYj+oguhAQIkegedjtkDAfzR5Gm2SZEDzCclAR/lQwI/sZyqVyUlAztYa3VDeXcAuhJ9emFhMQBSKt6tAk2NAR+LhVxiGVMBlMU33W8tBwH1L9qZUEVFATd82BXriY0CPSWqNyzJfQNHAWyfgPU1ASYZFrxrmTUDfHriRfr5bwNi5861xF1FAADtN0m0nSsAwf5xlSmxDQAZQU52pOmRAmhV65ZVHWcAmoxuFK+JRwEa2MMS/FmDAC7ArqRqoScC8Q8nxL1NEwPt+6yqdUCHAIM0sYuijTcCIWYMaZSlWQBQSUGhemUbAB8ngvmqtUcBLUTXNjLJGQAPLQP9T5FDAN9XbSqIfYECQvEpQP4pjQMDl/05bemrAHUfC+0PpVsCckU+tUpYhwKQq2HVVCGHA+kMjMhseY0AndalciJs0wKvcxG5snlfAE5Yswm2nUsDS9c7gh2xgwB1IiGTJ0GDAllcuELnuUkDRE5S3AmJLQEbvUTA74yPAI9fwTNjjUkDc48YupCxYQE4S8AZUwVLAqRTgIbj3Q0A2K+Noa5hSQDT7LRLwSVTAG58042nYZcBsMr8N4sZaQLNpWeQqyFdAF68Zw1Z1VUBZ9RFwSiBnwOPIBBa+vVxAxg4rO1BaOsBb9d72TgkuQKMlI8fWPkxAWJuBMUORRsA+xPiSlxRcwEwhxqUH1FxAkwkPUnI4XkDMD5VwnYZZwNqlT5k1JSvA2NquP52OYUAtQwtmRCpXQL5DKxSSCVHAaL5Xm1UtIcAZsQsj17tNwKErKnFBNkDAZLUTO1OGO8CoDpW5+HxFwG1ua92f6lLAlWo+idBbTECFrX2WocJRQPqVUHnpc0DA3x2JOwufUUD/SF/ZYwACQBvDm+KEl09AdmgdiAk2V0BhVGKshPcmwAzaspKCLk5A3faHigloS8A7LeKD1L84QJM2lohYIztAO0vfYL6UC0BGUbNMiGpvwCJOT9lUDg1AHxj3ony5XcDTHV/Ow/MOwOXYATxCYDlAklbcK2f+N8BwE0ZHhMlSQKv6jDCeHBJAZtQMCb5QUUAc5v53qNhnQA6+LyNEO2RAtpERbShOXUArnoM3cVBLQIpPIKVSRkzAXt3s5ukvM8Bxzeekw2FXwBZkkgDj8wxAj2yfJ7SBIUAZYPHtrFdOQP4xD0C/TlxAetQ430KWR0AgEBC5u6VdQHZLTsie9yXAGdIPplQBUkDiS2wMBdhMwLOsnrNZnDrAKALU77klYsDSspGL8qZDwKMBWISX7FfA0kIl6vyoVUDXdfIpwmQ2QFIJyIm8NlrA5Hz51sbhKECGSUZDhYNWwGjGCw5XV1JA4h48HVBIXMDFjWE1lZZfQBAju8DcxmBAxAwFEAV8WkChEceWhA1kQJT6uOIhIlNAaqgT6nsSNMBjMonHDxJjwB2RRkJErow/AbWiWGdoMEBFza/QuvRQQB+BGAiOd2TALRhwQAt7E8BI0N23yjkzwNhvpxuxWhpAJPJzAw8rNcAt1z3pP2lVwLoRvce3qw5AI9H93uhmVsBbNjAKbTNYwKBxxky25CrAdFJYTaR/LUAst4PjX7BhwNX3MmGGjyhAymrHsTtoacAfYd/fZIhJQLlrLNbSMFjAM+jC4aAFUEAW8VkzkSZhQD/XUAjMfzrA6y5nbt90V8CftlcBzxxtwLCsAWSe/mLA6vPrhd0fIcCe7QtlAFkpwIJ1JmbodVRAntT2XkgfKUD8iXDPuEE0QK8j9/1jcznA7fw/4/7/UcBDVCT9drxNQL5sA1Bj615Atp/mjEtXZsDbN4/srmdawO8k6cO34TVA4KfhuLf6XEA9ma5TmiBlQH6LG3UJwTtADUucY0eANkAhz9sXOLBnQPxIqDLtx2JACgvSC+DzU8BjZ4TSi9BCQKl6s4Dr2ENA5q94WozmZMCvKxQR1Hk3QEplR1skj/Q/zLI3ppUeUkB753ifoVlXwOOgjtU671TA0Ye0pUN/acC4LWUvY2xYwPi6kL4C5VhAZ61BYzrzFUA/E5fiFkFSQOFxFp0HeUZAaqvndM42OUBjbe+tq5FkwJMRR8CTuEDA4YKUusSPUcDdE5mQxuo5wB9tuC7tCCFAeGylrdEkUEA9YnCYi+lBQPJST8vf215AHLjEFt3LYMD/k3qjtqo3QAbSIAG+mDvAoOpOgLveWsDwhQ6rPmtGQOXG4/D9ykXAr4b083NRG0AtSJDKmEZfwMjEo6adG1NA7CFb5jw1VsDYJ1l4+wJCwM6Hwz2MqG5AV+JZSl1rWsD9YOqe5Bs4QBLdebknTWNAvTISaaTRVsCFRBeQYmZXwHitiSDXH07A22/CX3xWcEDCAAi6vqFhwKD3kCNe8VLAX/dIrDUeQ8BbS9Il8AEkwFg/3uN2B0vAzq83EePHZEBioaIBMSVBwHjpadY0GlRAGxthouBaQMBeLDJ7yT48QO7jyTrWjz1AGpjGUU82UkBUZodq5CprQPY4Wqrd21zAnLeClIIVVkBNCQewG2lBQB7NlGdPBD1AYqtqe16TPsBz2ySOnbhewAH0DZjd6TpARu4KYlr7SkA8jydTsb9SwJEsV5FTclTApI5bQ+U8QsAC3MV8f59TwGKNWau1O2JAe3HN/GhcbkCswchV4VRLQNLs+RJGR1jA6mFztRoTBkCx4g1EQjdfwHhqUu0gKyBAlq3kjTOhYMDZGNWjehdoQJdUCAbX+GJAc1HBitekKEDKoksndpRVwIdm/Zx3a2TALb8bAdgUPcCw+dLpzYA5QFiPMJLAFlhAEgP0OFaWL8CEZwEu8iMuQMV+SR0sDVhAEUkW9mIDKkAncAuhjIcYQONqlKlm0lrAV/n7zHAdbcDEQY1ETtFZwBxB+vg3UmRAetO88jHXRMDCLOYK7wM5wLCsQ7lhCUVAPGIWvaBsWkB+SctLdq9KwBdaY1REqlBA4Ou/c+PvVcAcNNKQLopQwMqW3b+dPkhA+g/AI+tjVEAsCAYNX+RawLhDViL2LFXAsbQejVOW+D84Rg8w25sawMhQHuEPf0PAuJdwCYWfXUDzCKUM+9UIwMs48mOngj7AwgfSicPKQUCnk6xLB0NLQC6QxoBurk7A9RnV8EE4W0AwBGKInHJDwP/5hUXH9grAC7H9ycXhVsCH8hpLBhdbwJldCGW9pGZAWXo5HJQXWcCUUfK8lfxRQBBHEJDitifAJKDbe0ibUsCWuT6Zr2dIQIah0cGv22LAsSvX7zawUMAJjnooyXInQP4DmjV8rDZAWDEjTe7LY0AOmDQptKhGwOhQP2yZw2LARMjLrpdMRcBR7b9XkONwwIBdmYBxykdAHf2/RdLbFEC9qEegio1MwDtE3/zb0l5Ac4hyJn+DMcDhgs2UFYhmQBP2GCxNTWFAwZ5/s+X9YcD60oo3e6BRQPxC8qsDLlNATWYY52oZM8CPZvW73yBRQI2f4yGHcVRAEmRAUd4UQEAi7Jy0h2BTwB4+ZJI33lRAdV0HJiGKM0CX6oF/INNkwOCMos+t/WZA7W1sq1f0W8DSmLOr4D9WwLuf766PKmHAybl6anaWUEBaDDLNIC5KwOqtk7C8KkPAfIG+WM0aR8Bj9U6khCRewMnDCdc2HApA0XeSfjtePsCcl7bpgJNIQGQP/kKBzkJA+I2+uEt0P0DL9EGUrgVeQHDPb3URLmdAOhUKI1U/M0D34BbzqGcawMzn95420TZA6l07lwcIYUATdPLewi41QNuMJaqHSFDAOVV47AJUOEDZ9bo2nrESwKY8nW8kfSpA21lK3oNKUkBHlAM2zN0/QHKiCsb18WVA5sFY2sC/ZEBRE4quHTliwM/N6OHmdFvA4R/KncgoR8BjoWk81doswBl0VxEpMUHA+6TJEaWYNEAfv8fn9JdQwM7MKLH1oU/Axb5zvTe9QkAEw7zj71hNwD+E4YEalCpA/YQOYD9NOEDAfyS2qxBXQA==\",\"dtype\":\"float64\",\"shape\":[500]},\"color\":[\"red\",\"red\",\"yellow\",\"yellow\",\"green\",\"blue\",\"green\",\"green\",\"yellow\",\"red\",\"yellow\",\"red\",\"red\",\"blue\",\"yellow\",\"blue\",\"yellow\",\"red\",\"green\",\"yellow\",\"green\",\"yellow\",\"red\",\"yellow\",\"green\",\"yellow\",\"green\",\"red\",\"yellow\",\"yellow\",\"red\",\"green\",\"green\",\"green\",\"red\",\"blue\",\"green\",\"yellow\",\"red\",\"blue\",\"green\",\"blue\",\"red\",\"red\",\"blue\",\"blue\",\"yellow\",\"blue\",\"blue\",\"blue\",\"blue\",\"green\",\"blue\",\"yellow\",\"blue\",\"green\",\"green\",\"red\",\"blue\",\"green\",\"blue\",\"green\",\"red\",\"red\",\"green\",\"red\",\"red\",\"blue\",\"yellow\",\"red\",\"green\",\"red\",\"blue\",\"green\",\"green\",\"blue\",\"yellow\",\"blue\",\"red\",\"green\",\"blue\",\"green\",\"red\",\"green\",\"yellow\",\"blue\",\"green\",\"red\",\"blue\",\"green\",\"green\",\"green\",\"green\",\"yellow\",\"blue\",\"green\",\"green\",\"yellow\",\"green\",\"red\",\"green\",\"blue\",\"green\",\"yellow\",\"blue\",\"blue\",\"blue\",\"yellow\",\"yellow\",\"blue\",\"blue\",\"yellow\",\"green\",\"red\",\"green\",\"blue\",\"blue\",\"yellow\",\"green\",\"blue\",\"red\",\"blue\",\"red\",\"yellow\",\"red\",\"red\",\"red\",\"green\",\"green\",\"green\",\"red\",\"green\",\"blue\",\"green\",\"red\",\"yellow\",\"yellow\",\"green\",\"green\",\"red\",\"green\",\"green\",\"yellow\",\"green\",\"red\",\"red\",\"red\",\"blue\",\"green\",\"blue\",\"green\",\"green\",\"yellow\",\"green\",\"blue\",\"green\",\"red\",\"red\",\"yellow\",\"yellow\",\"yellow\",\"yellow\",\"blue\",\"green\",\"green\",\"red\",\"green\",\"red\",\"red\",\"green\",\"red\",\"green\",\"green\",\"blue\",\"yellow\",\"green\",\"red\",\"yellow\",\"green\",\"blue\",\"blue\",\"yellow\",\"yellow\",\"blue\",\"green\",\"yellow\",\"green\",\"red\",\"red\",\"green\",\"green\",\"blue\",\"blue\",\"green\",\"blue\",\"red\",\"yellow\",\"green\",\"yellow\",\"red\",\"green\",\"green\",\"red\",\"green\",\"yellow\",\"green\",\"red\",\"yellow\",\"yellow\",\"blue\",\"red\",\"red\",\"red\",\"yellow\",\"blue\",\"blue\",\"blue\",\"blue\",\"yellow\",\"red\",\"yellow\",\"yellow\",\"green\",\"green\",\"green\",\"blue\",\"red\",\"green\",\"green\",\"red\",\"red\",\"red\",\"green\",\"yellow\",\"blue\",\"yellow\",\"blue\",\"blue\",\"red\",\"blue\",\"blue\",\"blue\",\"red\",\"green\",\"green\",\"green\",\"blue\",\"blue\",\"blue\",\"blue\",\"green\",\"yellow\",\"red\",\"red\",\"blue\",\"red\",\"blue\",\"red\",\"green\",\"blue\",\"green\",\"yellow\",\"green\",\"red\",\"blue\",\"blue\",\"yellow\",\"blue\",\"red\",\"blue\",\"green\",\"green\",\"red\",\"red\",\"yellow\",\"yellow\",\"green\",\"red\",\"yellow\",\"blue\",\"red\",\"blue\",\"red\",\"yellow\",\"yellow\",\"blue\",\"green\",\"green\",\"red\",\"green\",\"green\",\"green\",\"yellow\",\"red\",\"blue\",\"yellow\",\"green\",\"blue\",\"yellow\",\"red\",\"red\",\"green\",\"red\",\"blue\",\"red\",\"yellow\",\"yellow\",\"red\",\"red\",\"blue\",\"yellow\",\"red\",\"blue\",\"red\",\"green\",\"green\",\"red\",\"red\",\"green\",\"red\",\"red\",\"red\",\"green\",\"yellow\",\"green\",\"blue\",\"blue\",\"blue\",\"red\",\"blue\",\"blue\",\"red\",\"red\",\"green\",\"green\",\"red\",\"green\",\"yellow\",\"yellow\",\"yellow\",\"red\",\"green\",\"green\",\"green\",\"blue\",\"green\",\"blue\",\"green\",\"red\",\"yellow\",\"green\",\"yellow\",\"green\",\"yellow\",\"blue\",\"red\",\"blue\",\"blue\",\"red\",\"yellow\",\"blue\",\"red\",\"red\",\"yellow\",\"green\",\"green\",\"red\",\"green\",\"red\",\"red\",\"yellow\",\"green\",\"green\",\"blue\",\"blue\",\"yellow\",\"red\",\"blue\",\"green\",\"red\",\"green\",\"red\",\"blue\",\"yellow\",\"red\",\"green\",\"yellow\",\"blue\",\"blue\",\"yellow\",\"red\",\"blue\",\"green\",\"blue\",\"green\",\"blue\",\"green\",\"green\",\"blue\",\"red\",\"yellow\",\"green\",\"green\",\"yellow\",\"yellow\",\"yellow\",\"green\",\"yellow\",\"blue\",\"blue\",\"blue\",\"red\",\"green\",\"blue\",\"red\",\"green\",\"red\",\"green\",\"blue\",\"blue\",\"red\",\"blue\",\"yellow\",\"yellow\",\"blue\",\"red\",\"green\",\"green\",\"blue\",\"blue\",\"yellow\",\"yellow\",\"yellow\",\"red\",\"green\",\"green\",\"red\",\"yellow\",\"blue\",\"blue\",\"red\",\"red\",\"green\",\"green\",\"green\",\"yellow\",\"green\",\"blue\",\"yellow\",\"blue\",\"green\",\"green\",\"red\",\"yellow\",\"blue\",\"blue\",\"green\",\"red\",\"red\",\"green\",\"yellow\",\"yellow\",\"red\",\"red\",\"green\",\"blue\",\"red\",\"yellow\",\"blue\",\"yellow\",\"yellow\",\"red\",\"green\",\"blue\",\"blue\",\"blue\",\"red\",\"green\",\"yellow\",\"red\",\"red\",\"yellow\",\"green\",\"red\",\"red\",\"yellow\",\"yellow\",\"green\",\"red\",\"red\",\"green\",\"green\",\"blue\",\"green\",\"blue\",\"yellow\",\"green\",\"yellow\",\"green\",\"yellow\"],\"index\":[0,1,2,3,4,5,6,7,8,9,10,11,12,13,14,15,16,17,18,19,20,21,22,23,24,25,26,27,28,29,30,31,32,33,34,35,36,37,38,39,40,41,42,43,44,45,46,47,48,49,50,51,52,53,54,55,56,57,58,59,60,61,62,63,64,65,66,67,68,69,70,71,72,73,74,75,76,77,78,79,80,81,82,83,84,85,86,87,88,89,90,91,92,93,94,95,96,97,98,99,100,101,102,103,104,105,106,107,108,109,110,111,112,113,114,115,116,117,118,119,120,121,122,123,124,125,126,127,128,129,130,131,132,133,134,135,136,137,138,139,140,141,142,143,144,145,146,147,148,149,150,151,152,153,154,155,156,157,158,159,160,161,162,163,164,165,166,167,168,169,170,171,172,173,174,175,176,177,178,179,180,181,182,183,184,185,186,187,188,189,190,191,192,193,194,195,196,197,198,199,200,201,202,203,204,205,206,207,208,209,210,211,212,213,214,215,216,217,218,219,220,221,222,223,224,225,226,227,228,229,230,231,232,233,234,235,236,237,238,239,240,241,242,243,244,245,246,247,248,249,250,251,252,253,254,255,256,257,258,259,260,261,262,263,264,265,266,267,268,269,270,271,272,273,274,275,276,277,278,279,280,281,282,283,284,285,286,287,288,289,290,291,292,293,294,295,296,297,298,299,300,301,302,303,304,305,306,307,308,309,310,311,312,313,314,315,316,317,318,319,320,321,322,323,324,325,326,327,328,329,330,331,332,333,334,335,336,337,338,339,340,341,342,343,344,345,346,347,348,349,350,351,352,353,354,355,356,357,358,359,360,361,362,363,364,365,366,367,368,369,370,371,372,373,374,375,376,377,378,379,380,381,382,383,384,385,386,387,388,389,390,391,392,393,394,395,396,397,398,399,400,401,402,403,404,405,406,407,408,409,410,411,412,413,414,415,416,417,418,419,420,421,422,423,424,425,426,427,428,429,430,431,432,433,434,435,436,437,438,439,440,441,442,443,444,445,446,447,448,449,450,451,452,453,454,455,456,457,458,459,460,461,462,463,464,465,466,467,468,469,470,471,472,473,474,475,476,477,478,479,480,481,482,483,484,485,486,487,488,489,490,491,492,493,494,495,496,497,498,499],\"type\":[\"rabbit\",\"pooh\",\"rabbit\",\"rabbit\",\"rabbit\",\"Christopher\",\"pooh\",\"rabbit\",\"Christopher\",\"piglet\",\"Christopher\",\"piglet\",\"Christopher\",\"pooh\",\"pooh\",\"Christopher\",\"rabbit\",\"piglet\",\"pooh\",\"Christopher\",\"rabbit\",\"pooh\",\"pooh\",\"rabbit\",\"piglet\",\"rabbit\",\"Christopher\",\"rabbit\",\"piglet\",\"rabbit\",\"Christopher\",\"rabbit\",\"Christopher\",\"Christopher\",\"piglet\",\"Christopher\",\"pooh\",\"pooh\",\"Christopher\",\"pooh\",\"pooh\",\"pooh\",\"rabbit\",\"rabbit\",\"Christopher\",\"pooh\",\"rabbit\",\"Christopher\",\"pooh\",\"piglet\",\"Christopher\",\"rabbit\",\"rabbit\",\"pooh\",\"rabbit\",\"rabbit\",\"rabbit\",\"pooh\",\"Christopher\",\"Christopher\",\"pooh\",\"piglet\",\"pooh\",\"pooh\",\"pooh\",\"piglet\",\"Christopher\",\"pooh\",\"piglet\",\"Christopher\",\"pooh\",\"rabbit\",\"rabbit\",\"rabbit\",\"Christopher\",\"Christopher\",\"pooh\",\"rabbit\",\"piglet\",\"Christopher\",\"rabbit\",\"pooh\",\"Christopher\",\"rabbit\",\"rabbit\",\"piglet\",\"Christopher\",\"piglet\",\"Christopher\",\"piglet\",\"piglet\",\"pooh\",\"rabbit\",\"rabbit\",\"rabbit\",\"pooh\",\"Christopher\",\"piglet\",\"piglet\",\"piglet\",\"piglet\",\"Christopher\",\"piglet\",\"pooh\",\"Christopher\",\"pooh\",\"rabbit\",\"pooh\",\"piglet\",\"rabbit\",\"piglet\",\"Christopher\",\"Christopher\",\"piglet\",\"Christopher\",\"pooh\",\"piglet\",\"Christopher\",\"rabbit\",\"pooh\",\"Christopher\",\"pooh\",\"Christopher\",\"rabbit\",\"pooh\",\"rabbit\",\"rabbit\",\"Christopher\",\"piglet\",\"pooh\",\"rabbit\",\"Christopher\",\"piglet\",\"rabbit\",\"rabbit\",\"rabbit\",\"pooh\",\"rabbit\",\"Christopher\",\"pooh\",\"pooh\",\"Christopher\",\"Christopher\",\"pooh\",\"pooh\",\"pooh\",\"rabbit\",\"Christopher\",\"pooh\",\"rabbit\",\"Christopher\",\"pooh\",\"Christopher\",\"pooh\",\"rabbit\",\"pooh\",\"piglet\",\"Christopher\",\"rabbit\",\"piglet\",\"pooh\",\"Christopher\",\"piglet\",\"Christopher\",\"Christopher\",\"Christopher\",\"rabbit\",\"piglet\",\"rabbit\",\"rabbit\",\"Christopher\",\"piglet\",\"piglet\",\"rabbit\",\"Christopher\",\"rabbit\",\"pooh\",\"pooh\",\"piglet\",\"piglet\",\"piglet\",\"pooh\",\"rabbit\",\"piglet\",\"pooh\",\"rabbit\",\"piglet\",\"rabbit\",\"piglet\",\"pooh\",\"pooh\",\"Christopher\",\"Christopher\",\"pooh\",\"pooh\",\"Christopher\",\"Christopher\",\"pooh\",\"piglet\",\"pooh\",\"rabbit\",\"Christopher\",\"rabbit\",\"rabbit\",\"pooh\",\"Christopher\",\"Christopher\",\"piglet\",\"rabbit\",\"piglet\",\"rabbit\",\"piglet\",\"rabbit\",\"piglet\",\"rabbit\",\"Christopher\",\"Christopher\",\"pooh\",\"piglet\",\"Christopher\",\"Christopher\",\"rabbit\",\"piglet\",\"pooh\",\"piglet\",\"Christopher\",\"rabbit\",\"pooh\",\"piglet\",\"rabbit\",\"piglet\",\"piglet\",\"rabbit\",\"Christopher\",\"piglet\",\"piglet\",\"piglet\",\"piglet\",\"piglet\",\"rabbit\",\"Christopher\",\"rabbit\",\"pooh\",\"rabbit\",\"piglet\",\"pooh\",\"rabbit\",\"pooh\",\"Christopher\",\"rabbit\",\"piglet\",\"pooh\",\"Christopher\",\"rabbit\",\"piglet\",\"Christopher\",\"rabbit\",\"rabbit\",\"pooh\",\"rabbit\",\"piglet\",\"Christopher\",\"piglet\",\"Christopher\",\"pooh\",\"pooh\",\"Christopher\",\"Christopher\",\"Christopher\",\"piglet\",\"piglet\",\"piglet\",\"Christopher\",\"piglet\",\"pooh\",\"rabbit\",\"piglet\",\"rabbit\",\"pooh\",\"Christopher\",\"Christopher\",\"rabbit\",\"Christopher\",\"pooh\",\"pooh\",\"pooh\",\"rabbit\",\"Christopher\",\"piglet\",\"Christopher\",\"pooh\",\"piglet\",\"pooh\",\"piglet\",\"Christopher\",\"Christopher\",\"Christopher\",\"Christopher\",\"pooh\",\"piglet\",\"Christopher\",\"piglet\",\"piglet\",\"rabbit\",\"Christopher\",\"rabbit\",\"piglet\",\"rabbit\",\"piglet\",\"pooh\",\"Christopher\",\"Christopher\",\"pooh\",\"pooh\",\"rabbit\",\"pooh\",\"Christopher\",\"Christopher\",\"piglet\",\"pooh\",\"piglet\",\"pooh\",\"piglet\",\"Christopher\",\"pooh\",\"piglet\",\"pooh\",\"piglet\",\"piglet\",\"Christopher\",\"rabbit\",\"piglet\",\"Christopher\",\"pooh\",\"rabbit\",\"rabbit\",\"pooh\",\"rabbit\",\"pooh\",\"Christopher\",\"Christopher\",\"pooh\",\"Christopher\",\"piglet\",\"piglet\",\"piglet\",\"rabbit\",\"piglet\",\"piglet\",\"pooh\",\"rabbit\",\"piglet\",\"Christopher\",\"rabbit\",\"rabbit\",\"Christopher\",\"piglet\",\"piglet\",\"Christopher\",\"Christopher\",\"piglet\",\"Christopher\",\"rabbit\",\"pooh\",\"pooh\",\"piglet\",\"pooh\",\"rabbit\",\"piglet\",\"rabbit\",\"piglet\",\"rabbit\",\"rabbit\",\"rabbit\",\"piglet\",\"pooh\",\"Christopher\",\"pooh\",\"rabbit\",\"piglet\",\"rabbit\",\"Christopher\",\"rabbit\",\"pooh\",\"pooh\",\"rabbit\",\"Christopher\",\"pooh\",\"pooh\",\"Christopher\",\"pooh\",\"rabbit\",\"rabbit\",\"Christopher\",\"pooh\",\"piglet\",\"Christopher\",\"rabbit\",\"rabbit\",\"rabbit\",\"rabbit\",\"piglet\",\"rabbit\",\"rabbit\",\"piglet\",\"piglet\",\"Christopher\",\"pooh\",\"Christopher\",\"rabbit\",\"Christopher\",\"pooh\",\"piglet\",\"pooh\",\"rabbit\",\"pooh\",\"piglet\",\"Christopher\",\"rabbit\",\"pooh\",\"pooh\",\"rabbit\",\"rabbit\",\"piglet\",\"rabbit\",\"piglet\",\"rabbit\",\"pooh\",\"pooh\",\"piglet\",\"pooh\",\"rabbit\",\"rabbit\",\"Christopher\",\"Christopher\",\"rabbit\",\"Christopher\",\"Christopher\",\"piglet\",\"pooh\",\"piglet\",\"piglet\",\"rabbit\",\"Christopher\",\"piglet\",\"piglet\",\"rabbit\",\"piglet\",\"rabbit\",\"pooh\",\"piglet\",\"piglet\",\"piglet\",\"pooh\",\"Christopher\",\"pooh\",\"pooh\",\"rabbit\",\"rabbit\",\"rabbit\",\"pooh\",\"rabbit\",\"Christopher\",\"rabbit\",\"piglet\",\"rabbit\",\"Christopher\",\"Christopher\",\"piglet\",\"piglet\",\"rabbit\",\"rabbit\",\"piglet\",\"rabbit\",\"piglet\",\"pooh\",\"pooh\",\"rabbit\",\"rabbit\",\"pooh\",\"piglet\",\"pooh\",\"piglet\",\"piglet\",\"piglet\",\"Christopher\",\"rabbit\",\"pooh\",\"rabbit\",\"Christopher\",\"rabbit\",\"pooh\",\"Christopher\",\"pooh\",\"Christopher\",\"piglet\",\"pooh\",\"pooh\",\"pooh\",\"pooh\"]},\"selected\":{\"id\":\"10857\",\"type\":\"Selection\"},\"selection_policy\":{\"id\":\"10856\",\"type\":\"UnionRenderers\"}},\"id\":\"10461\",\"type\":\"ColumnDataSource\"},{\"attributes\":{\"fill_color\":{\"value\":\"#1f77b4\"},\"line_color\":{\"value\":\"#1f77b4\"},\"top\":{\"field\":\"A\"},\"width\":{\"value\":1},\"x\":{\"field\":\"index\"}},\"id\":\"10944\",\"type\":\"VBar\"},{\"attributes\":{},\"id\":\"10933\",\"type\":\"WheelZoomTool\"},{\"attributes\":{},\"id\":\"10856\",\"type\":\"UnionRenderers\"},{\"attributes\":{\"callback\":null},\"id\":\"10915\",\"type\":\"DataRange1d\"},{\"attributes\":{\"dimension\":1,\"plot\":{\"id\":\"10912\",\"subtype\":\"Figure\",\"type\":\"Plot\"},\"ticker\":{\"id\":\"10927\",\"type\":\"BasicTicker\"}},\"id\":\"10930\",\"type\":\"Grid\"},{\"attributes\":{},\"id\":\"10927\",\"type\":\"BasicTicker\"},{\"attributes\":{\"formatter\":{\"id\":\"11309\",\"type\":\"BasicTickFormatter\"},\"plot\":{\"id\":\"10912\",\"subtype\":\"Figure\",\"type\":\"Plot\"},\"ticker\":{\"id\":\"10927\",\"type\":\"BasicTicker\"}},\"id\":\"10926\",\"type\":\"LinearAxis\"},{\"attributes\":{\"plot\":{\"id\":\"10912\",\"subtype\":\"Figure\",\"type\":\"Plot\"},\"ticker\":{\"id\":\"10922\",\"type\":\"BasicTicker\"}},\"id\":\"10925\",\"type\":\"Grid\"},{\"attributes\":{},\"id\":\"10857\",\"type\":\"Selection\"},{\"attributes\":{},\"id\":\"10922\",\"type\":\"BasicTicker\"},{\"attributes\":{\"formatter\":{\"id\":\"11307\",\"type\":\"BasicTickFormatter\"},\"plot\":{\"id\":\"10912\",\"subtype\":\"Figure\",\"type\":\"Plot\"},\"ticker\":{\"id\":\"10922\",\"type\":\"BasicTicker\"}},\"id\":\"10921\",\"type\":\"LinearAxis\"},{\"attributes\":{},\"id\":\"10919\",\"type\":\"LinearScale\"},{\"attributes\":{},\"id\":\"10917\",\"type\":\"LinearScale\"},{\"attributes\":{\"data_source\":{\"id\":\"10461\",\"type\":\"ColumnDataSource\"},\"glyph\":{\"id\":\"10944\",\"type\":\"VBar\"},\"hover_glyph\":null,\"muted_glyph\":null,\"nonselection_glyph\":{\"id\":\"10945\",\"type\":\"VBar\"},\"selection_glyph\":null,\"view\":{\"id\":\"10947\",\"type\":\"CDSView\"}},\"id\":\"10946\",\"type\":\"GlyphRenderer\"},{\"attributes\":{\"bottom_units\":\"screen\",\"fill_alpha\":{\"value\":0.5},\"fill_color\":{\"value\":\"lightgrey\"},\"left_units\":\"screen\",\"level\":\"overlay\",\"line_alpha\":{\"value\":1.0},\"line_color\":{\"value\":\"black\"},\"line_dash\":[4,4],\"line_width\":{\"value\":2},\"plot\":null,\"render_mode\":\"css\",\"right_units\":\"screen\",\"top_units\":\"screen\"},\"id\":\"10936\",\"type\":\"BoxAnnotation\"},{\"attributes\":{\"source\":{\"id\":\"10461\",\"type\":\"ColumnDataSource\"}},\"id\":\"10947\",\"type\":\"CDSView\"},{\"attributes\":{\"fill_alpha\":{\"value\":0.1},\"fill_color\":{\"value\":\"#1f77b4\"},\"line_alpha\":{\"value\":0.1},\"line_color\":{\"value\":\"#1f77b4\"},\"top\":{\"field\":\"A\"},\"width\":{\"value\":1},\"x\":{\"field\":\"index\"}},\"id\":\"10945\",\"type\":\"VBar\"},{\"attributes\":{\"callback\":null},\"id\":\"10913\",\"type\":\"DataRange1d\"}],\"root_ids\":[\"10912\"]},\"title\":\"Bokeh Application\",\"version\":\"1.0.4\"}};\n",
       "  var render_items = [{\"docid\":\"94d79cb3-280e-4d79-ab02-f7f3e6c53777\",\"roots\":{\"10912\":\"e240e7af-ef65-44a9-9ed6-7e8cdb4dada9\"}}];\n",
       "  root.Bokeh.embed.embed_items_notebook(docs_json, render_items);\n",
       "\n",
       "  }\n",
       "  if (root.Bokeh !== undefined) {\n",
       "    embed_document(root);\n",
       "  } else {\n",
       "    var attempts = 0;\n",
       "    var timer = setInterval(function(root) {\n",
       "      if (root.Bokeh !== undefined) {\n",
       "        embed_document(root);\n",
       "        clearInterval(timer);\n",
       "      }\n",
       "      attempts++;\n",
       "      if (attempts > 100) {\n",
       "        console.log(\"Bokeh: ERROR: Unable to run BokehJS code because BokehJS library is missing\");\n",
       "        clearInterval(timer);\n",
       "      }\n",
       "    }, 10, root)\n",
       "  }\n",
       "})(window);"
      ],
      "application/vnd.bokehjs_exec.v0+json": ""
     },
     "metadata": {
      "application/vnd.bokehjs_exec.v0+json": {
       "id": "10912"
      }
     },
     "output_type": "display_data"
    },
    {
     "name": "stdout",
     "output_type": "stream",
     "text": [
      "HoverTool(id='10462', ...)\n"
     ]
    }
   ],
   "source": [
    "# 工具栏 tools\n",
    "# （4）提示框、十字线\n",
    "\n",
    "from bokeh.models import HoverTool\n",
    "# 用于设置显示标签内容\n",
    "\n",
    "df = pd.DataFrame({'A':np.random.randn(500)*100,\n",
    "                  'B':np.random.randn(500)*100,\n",
    "                  'type':np.random.choice(['pooh', 'rabbit', 'piglet', 'Christopher'],500),\n",
    "                  'color':np.random.choice(['red', 'yellow', 'blue', 'green'],500)})\n",
    "df.index.name = 'index'\n",
    "source = ColumnDataSource(df)\n",
    "print(df.head())\n",
    "# 创建数据 → 包含四个标签\n",
    "\n",
    "hover = HoverTool(tooltips=[\n",
    "                            (\"index\", \"$index\"),\n",
    "                            (\"(x,y)\", \"($x, $y)\"),\n",
    "                            (\"A\", \"@A\"),\n",
    "                            (\"B\", \"@B\"),\n",
    "                            (\"type\", \"@type\"),\n",
    "                            (\"color\", \"@color\"),\n",
    "                        ])\n",
    "# 设置标签显示内容\n",
    "# $index：自动计算 → 数据index\n",
    "# $x：自动计算 → 数据x值\n",
    "# $y：自动计算 → 数据y值\n",
    "# @A：显示ColumnDataSource中对应字段值\n",
    "\n",
    "p1 = figure(plot_width=800, plot_height=400,toolbar_location=\"above\",\n",
    "            tools=[hover,'box_select,reset,wheel_zoom,pan,crosshair'])   # 注意这里书写方式\n",
    "# 如果不设置标签，就只写hover，例如 tools='hover,box_select,reset,wheel_zoom,pan,crosshair'\n",
    "p1.circle(x = 'A',y = 'B',source = source,size = 10,alpha = 0.3, color = 'color')\n",
    "show(p1)\n",
    "\n",
    "p2 = figure(plot_width=800, plot_height=400,toolbar_location=\"above\",\n",
    "           tools=[hover,'box_select,reset,wheel_zoom,pan'])\n",
    "p2.vbar(x = 'index', width=1, top='A',source = source)\n",
    "show(p2)\n",
    "print(hover)"
   ]
  },
  {
   "cell_type": "code",
   "execution_count": null,
   "metadata": {},
   "outputs": [],
   "source": [
    "'''\n",
    "【课程5.9】  其他交互工具设置\n",
    "\n",
    "① 筛选数据 - 显示/隐藏\n",
    "② 交互小工具，参考文档：http://bokeh.pydata.org/en/latest/docs/user_guide/interaction/widgets.html#pretext\n",
    "\n",
    "'''"
   ]
  },
  {
   "cell_type": "code",
   "execution_count": 38,
   "metadata": {},
   "outputs": [
    {
     "data": {
      "text/html": [
       "\n",
       "\n",
       "\n",
       "\n",
       "\n",
       "\n",
       "  <div class=\"bk-root\" id=\"e9d08843-f335-4d2d-9c70-3d406fc4829b\" data-root-id=\"12331\"></div>\n"
      ]
     },
     "metadata": {},
     "output_type": "display_data"
    },
    {
     "data": {
      "application/javascript": [
       "(function(root) {\n",
       "  function embed_document(root) {\n",
       "    \n",
       "  var docs_json = {\"221f8185-52cc-4f97-98fd-499f93ab3bd2\":{\"roots\":{\"references\":[{\"attributes\":{\"below\":[{\"id\":\"12340\",\"type\":\"DatetimeAxis\"}],\"left\":[{\"id\":\"12345\",\"type\":\"LinearAxis\"}],\"plot_height\":400,\"plot_width\":800,\"renderers\":[{\"id\":\"12340\",\"type\":\"DatetimeAxis\"},{\"id\":\"12344\",\"type\":\"Grid\"},{\"id\":\"12345\",\"type\":\"LinearAxis\"},{\"id\":\"12349\",\"type\":\"Grid\"},{\"id\":\"12358\",\"type\":\"BoxAnnotation\"},{\"id\":\"12390\",\"type\":\"Legend\"},{\"id\":\"12369\",\"type\":\"GlyphRenderer\"},{\"id\":\"12395\",\"type\":\"GlyphRenderer\"},{\"id\":\"12422\",\"type\":\"GlyphRenderer\"},{\"id\":\"12451\",\"type\":\"GlyphRenderer\"}],\"title\":{\"id\":\"12365\",\"type\":\"Title\"},\"toolbar\":{\"id\":\"12356\",\"type\":\"Toolbar\"},\"x_range\":{\"id\":\"12332\",\"type\":\"DataRange1d\"},\"x_scale\":{\"id\":\"12336\",\"type\":\"LinearScale\"},\"y_range\":{\"id\":\"12334\",\"type\":\"DataRange1d\"},\"y_scale\":{\"id\":\"12338\",\"type\":\"LinearScale\"}},\"id\":\"12331\",\"subtype\":\"Figure\",\"type\":\"Plot\"},{\"attributes\":{},\"id\":\"12388\",\"type\":\"YearsTicker\"},{\"attributes\":{},\"id\":\"12446\",\"type\":\"Selection\"},{\"attributes\":{},\"id\":\"12353\",\"type\":\"SaveTool\"},{\"attributes\":{\"click_policy\":\"hide\",\"items\":[{\"id\":\"12391\",\"type\":\"LegendItem\"},{\"id\":\"12418\",\"type\":\"LegendItem\"},{\"id\":\"12447\",\"type\":\"LegendItem\"},{\"id\":\"12478\",\"type\":\"LegendItem\"}],\"location\":\"top_left\",\"plot\":{\"id\":\"12331\",\"subtype\":\"Figure\",\"type\":\"Plot\"}},\"id\":\"12390\",\"type\":\"Legend\"},{\"attributes\":{\"label\":{\"value\":\"C\"},\"renderers\":[{\"id\":\"12422\",\"type\":\"GlyphRenderer\"}]},\"id\":\"12447\",\"type\":\"LegendItem\"},{\"attributes\":{},\"id\":\"12354\",\"type\":\"ResetTool\"},{\"attributes\":{\"label\":{\"value\":\"A\"},\"renderers\":[{\"id\":\"12369\",\"type\":\"GlyphRenderer\"}]},\"id\":\"12391\",\"type\":\"LegendItem\"},{\"attributes\":{\"line_alpha\":0.8,\"line_color\":\"#fdae61\",\"line_width\":2,\"x\":{\"field\":\"x\"},\"y\":{\"field\":\"y\"}},\"id\":\"12420\",\"type\":\"Line\"},{\"attributes\":{},\"id\":\"12355\",\"type\":\"HelpTool\"},{\"attributes\":{\"callback\":null,\"data\":{\"x\":{\"__ndarray__\":\"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\",\"dtype\":\"float64\",\"shape\":[500]},\"y\":{\"__ndarray__\":\"YeKoo9Ft8r+03ehXryoDwBzK94d/0APAqG6fqA0fC8D9TdNoKwcUwBHAIpS4bxTA1xfpNcihGsCc06rYtRodwIGrPHQRMCDAav2m2sLJIMCux38vzFkbwOOvIb4EsB7AxvlREFAhG8DfdegECkoZwJXsN0RmERbA/dDREtq4E8B1kmQ9q3AVwNJStmIkaxPAzc4glu/ZEMAeme7waZoJwIIpqwdMSAzAROMVX5fl/7+P+lX4wmMEwMLCxbemagvAqEEAIBiYCsB+JONcgScEwACavqy1eHk/BcztJw4s4j9wELK3tF20v1c9TQi6r92/RWk7yEld+r801xlB4GwDwBd9ndhn+QjAk7x8SbE8+r84oLTTwrjuv1iDySxINvi/5n8U1B6UA8C7U0a2FzP5v76Dez8mWfa/8hVUXd0m67+GsD3E1N3sv5A90HRx462/3288FVeX678cXccHtlAAwEu5YTj+EPO/UN7Px6iB9b+q2sakkzbWv/9th8HySui/e4aXY0pS+L+zbCMap+QBwLoqfw1FNwnA1ZMLaBOFD8CbwleXUq8LwDhJtAZaNg3AbkIbscgTEsDcdNahiCINwEpAMjR3vAfAkY078N3RC8BSzmxWR5QFwD41bgkMggnAzwsxuZ89BsA+S0B0gtwBwD0R3kwqwAzACsoEC6woE8DEPfNe9KASwNtVEsf0BxbAyrMFANPQDMCImfp3chX/v1gtlBA20uA/gx9nlFko8z+A7GprqIOpP9pcw5+KjOK/GQBaYJH31L90MIQYePb0PwaTrjgNiA1AroABmg3CDkCuL4UyW1kGQEf+Dtof0/Y/ImekLGs/9z/I6ZMa05XqP5AXBOW4Jf8/QKo+pbIa+z/FOHcv7qYCQOwAhmH6iQNAYHH++BynCEC8lbjjJH0JQK2rEj0N2gFAECtOZ64gCECYJe2iCLIVQLK/EwRihhhAMkIRygLlGEC1J/m1KUkZQCgrKUkLRRlAtvn80dxjHEBHO33m6hodQEQmM87BwxxAkx1OvXx9HUAzl0doB0wiQCNsC1yEHSZAi6taRO4QKEBvONYp+ysmQJpM6rPm3SVAF7r4HBklJUDANNV+/e8jQMi+6hfguCFAr7Pi5bHSH0BH3bFCizogQAfkqkQ9niJAKFAQTGJQIEACy7d7T4IeQJsRwSMGDhhABbxk3kiPE0C764JZkI4RQEUrsWEEbQ5A/RD35na+FkBcbLOTwEMWQBitYxOJ6xpATUCfl+dJHkCa0F5X0mcgQB+jpa028iFAoEeY8KYfI0ABi7J4jKwhQFQ9yugURyNAoifjIgiLJUAKRk1ZzGEiQBxzZm0ywSRALV7heLwUJ0C1x485cIEoQOov9DRE5ChAlsul0PREJUDe4i7BLSMnQOVoMRrKmihA79MV3dtmJkD2lvhcmxcpQFCT2adAUSZAMT68a1OUJ0BimxUCcuQmQACAEbcD/ShAz1VUqUZeK0CMehTAyoQrQEe+IXAtJCpAQTSnXd2qKkCkQtCDkRIpQM6OYMonrChABpl4LmNwKUCKeB+GdzEnQDnzQ7aVoSZAQiV6Y6qmKUCX+w4Tk4gpQJOJbu3vkSlA9Fqa9Y94LUBT5FbbNBguQC/HN28PIzBACiIsoUloMUCdmhlb1UgyQBo98CgMvzFAx4gm2YkTMUD4XYS4tjYxQIF3nwGOQjFAPk9j+CmGMUAJIEEC4Y4xQIsYrt1PHzBATJ+qnqkxMkB63XDZQbMwQP4SW1/5wTFAMFe5HBz9MkCB1Gyr57MyQA7e7adA6jFA9Um3FvcvMkCf0qUMYykzQH5+0mOS6zNAJ6fKyuoGM0CfhKr6yOUyQDYeJGgCBjNA4ShU/ZzBNEBsRK1b5bQ1QBcVcMY+LDdA17gy4zazNUB2oK/L9wA1QJFL26iPWzRAXQzPkor8M0DPA3w5+yQ1QOAdVjTKvjNAZN9jtopuM0C+mWk9uAwzQLXv7+r4kTRAqrEIh+xZMkBCea45yh00QPNe12+MqjNAxCYepQtbNED4nqt/+lE1QDdDIufA/DNABZPm9JJBNUD2U2/U4tY0QNqq6WmqozRAyadlUkjfNEDq4MzhLDk0QMxDLBrwyDRA+OyIjehfNECjKFhLkjg0QNfUfJROdDRA/fFR0DRwNECZZNG/N60zQFucGzsB6DRAOaXm7RODNUC5qu37b081QM7PWrpWgDRAvGVcE4/ZNUDIXbWMiGs3QHbzojeFkDdAr/B6j3z3NUAoHEGIO1g3QJTHYNhokTZAcvUYuFAiN0BcyvftJ2s3QFwI/VNqXjhAiyA5slFJOkAOq8Z9WMs6QEzjqaHVtzpAPoyBh1fqPED0nkwIzqM8QMDin7thSj1ArxEf0NCzPEBITswZzRM9QJYxcRodwD5AULtNrPAiQECjzi+25kBAQPbLHGF6nD9AZOXdwDMtQEBBFcslmKVAQAbLojWX/EBAUkOSuLHyQEA/ePC45T1BQFZXs5wA30BA8s/xtbmBQECdHe+wiaVAQHQp2f+v/D9APTT2/6cbQUBTi3HsdI5BQP6OCroE1EBA1kNhFgZmQEDFa30LG6FAQLsNJAQZNEBADmDWkDEFQEA6+NZznCg/QCNCOHnMfj5AJNIgIxnaPUAHGlMgSZM8QOWcoGytuzxAAuxmSHJCPUBqDqJy2zw+QFyNPQxkej5A/n4rqBrcPEAcxGVVzJk9QLJ+P07jtDxAe/czzZK2PUC/XpeZC3A8QMrUwskZyDxAXRq9BzmNPUBTm6o18d4+QClsl6ADXT5AsOzpl8MVPkCD5WtdVbw9QOx1ndGVWT5AXVXepEBMP0AThHXj9ak/QPW6iG2TwD9AhkhvTIN2QEDCgFa4cFhAQEXPpI9nF0BAV9i3bl6hQECVo2RGGghAQKeaHPTfzz9AweM1s5AKP0DwBxKeaT8/QMQPiY0uN0BAqNopgK3RPkDv0kDZggNAQMluj6eX8z5AqhVEFgnUPUBKM0kRy/E+QEdI+Y3QYEBAlNZ85zuCQEDvcm6ynHFAQLCO+RCimkJAEJZCEDP0QkBR8J7JRntDQJvZZTQR90JA6JVexYsmQ0Bb/ye404dEQD+X6xlsbkRAho++Ca/vREAJlIBmiRtFQCNcHrXL0URAeQmOPtCsREB1SkxBznlEQDXI/seUKURA1IiokKawREAGPEBNMH5EQDbLi8ZZRUVA2WUr6TtyRUCwxpjL/GBFQDCnSStjKUVADM7VxnjiREDaALVtBxtFQC9D/CUS2kRAB7uFRkSgRECbH2PWfClEQCSz2beghERAZxfkwyzqQ0CBHBFmdgdEQBxUlnyHsUNApf6GR0BNRECip7Z/1RRFQL5BIMJsG0VAeB1HwM7CRUCF0hw9ZdRFQIIoR6zpIkZA/srd52kcR0DiMC18kRRIQB+9tBIJBEhA78WL9M7RRkCSiu4dgR5HQJBhGR75MkdAuY+QOvLoRkARqaSEJglHQDwT2o/+nUZAuYOJNcoSR0CxBPMqPQFHQJk78gENQ0dAJIQnShW0R0AFHfyyjRNHQD24fXkHx0dAgfuY+cVxR0Dt0lPCHbRHQPWnKXLpZ0hA+fnT133AR0Dz99ptuBZHQFP4+JqExkZAZVQM2qiWR0C3L07+ZWZHQHuJ6bc+QEdAmUWsfT+1R0C23yjnDL5GQEI3r787pEZABhxIGq7/RkBVJbXEKUhGQL6pmAN0hkVAPatUtse3RUCOS03C13ZGQHVasf9OHkVAl5Pz1VYyRUCxFOZLnfBFQER/fSNCYkZAHM4hCtofRkBijIlZWSJGQLCTBDKsWEVAIL0mbpb+RUD6leL83NBFQCbNUE6PYEZAHnSt4xG8RUBI/9bQJRtFQK8yh4tyJ0RA1NMS2DdgREA0IgpHVipEQHRWoIll5kRAgceuVDV8RUBj9uvhQjFGQPbKj+ucakZA1ltWjlAvRkAWYppUqddGQCa+hAFMMkdA0y2M1B2JR0Bf4CCeJ6hHQF02wBrwTUdAR+lPkpRwR0An6MuGoK9GQLQYQGsLk0ZAqxQhE1xlRkBPBnlF9IxGQD37hvTS70VAlT8JXPwhR0CFz7z9mkRHQMv8P+wLDkdAHL3H+ujORkAb6IBfB6BGQIysRYpXyUZAegpeVpCrRkB+10UGZEJGQEOi75gXUkZAKXtCZ3QmRkDMZUORbGtFQCBHCo9+OUVAhKdGWc0aREDAplaq9zlEQNpV9mO6+0RAyOmN2V/mREDHMzjgWc1EQBUSIGYLVEVAyJx1sqBjREBp+29a5F5FQPCjkVqw6kRAZ9klRt5dRUBZB44CuilFQI+nMrTYzUVAfzGYrInfRUD0LSvPA9pFQHjMUP4cSUZAmDl/gbvrRUDYWmG8el9GQNNXNkkVLUZAPK28ovcQR0ArqXH7UXNHQJ+HzcMcE0dAGItannWtRkCI8vUwh8ZGQCTW6UU5NkdA69qbzczYRkAy9la5UtNGQFy9TCBrg0ZAn2PVn4CiR0CC8weodOlHQL35JIcGP0dAYcKqswuLR0AAqFT6L5FHQBr1ZR/1h0dAgjeTUwj9R0Di8mK21N5IQCC7vmol2EhAwp26kFnuSEAC94KJNHZJQHyD/DAtAklAnTDLh/XwSEASXOBd0utIQEAWAhEx40hAbd3KTydGSEDgq3zVNOtHQNQ8c3lzLkdAjvrHJRotR0ANYgBmzT5HQDHEJMttQUdA4rp0iw5dSEC8JleInrtHQMuHzaiblUdAe06hAc/DRkClV2LFAiJGQO8q85u5Y0ZAzY5bUFv5RkBH31EcyCpGQLACZfYY7kZA4ZZtFRLDRUBMMZuN/HFFQOK4btan1ERAV+j+Qc4URUB3TN1o/pNEQKvT72cgSERAXeRQgsN6RED5RHZ3m3lEQB/mVcsvwkRANaAnksuyRECK3N/Tbe1EQJPIuLU6SERAqj7KNJ/uQ0Ce3as4RYBDQKIG5lURJ0NA5qwvwf3hQkBDVSuNQXhCQCiTvqNVLkFApW5EkJNRQUCPLUvYp9BBQHabHrx4y0JA+C8ioCUAQ0AVxonXFURDQHVhXE6CfkNA7Ofpp7Z7Q0AmBGCU8BJDQJ9v1o5tC0NAFypDDFH6Q0AkC9ptTNxDQBdcGoFnvUNADcwPWz6TQ0DBRWrvyb1DQKoWVrzUKkNAWxrZLANfQ0AAVfdNhoFCQEuMWoQTXENA8mmA2dD/Q0BtYG5xHmREQHrCWTjFv0RAjTFcR6+XRUAyEurVQZVFQAzj43A4sEVADmWbG5TRRUBxMopxm1JFQDhgf7+ZhURAfYMi/9JcRUCVDdTFqRFFQNv1Ca646UVA4KvRT4fORUBKMy2p23lFQA==\",\"dtype\":\"float64\",\"shape\":[500]}},\"selected\":{\"id\":\"12889\",\"type\":\"Selection\"},\"selection_policy\":{\"id\":\"12888\",\"type\":\"UnionRenderers\"}},\"id\":\"12448\",\"type\":\"ColumnDataSource\"},{\"attributes\":{\"callback\":null,\"data\":{\"x\":{\"__ndarray__\":\"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\",\"dtype\":\"float64\",\"shape\":[500]},\"y\":{\"__ndarray__\":\"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\",\"dtype\":\"float64\",\"shape\":[500]}},\"selected\":{\"id\":\"12446\",\"type\":\"Selection\"},\"selection_policy\":{\"id\":\"12445\",\"type\":\"UnionRenderers\"}},\"id\":\"12392\",\"type\":\"ColumnDataSource\"},{\"attributes\":{\"active_drag\":\"auto\",\"active_inspect\":\"auto\",\"active_multi\":null,\"active_scroll\":\"auto\",\"active_tap\":\"auto\",\"tools\":[{\"id\":\"12350\",\"type\":\"PanTool\"},{\"id\":\"12351\",\"type\":\"WheelZoomTool\"},{\"id\":\"12352\",\"type\":\"BoxZoomTool\"},{\"id\":\"12353\",\"type\":\"SaveTool\"},{\"id\":\"12354\",\"type\":\"ResetTool\"},{\"id\":\"12355\",\"type\":\"HelpTool\"}]},\"id\":\"12356\",\"type\":\"Toolbar\"},{\"attributes\":{\"callback\":null},\"id\":\"12332\",\"type\":\"DataRange1d\"},{\"attributes\":{\"line_alpha\":0.8,\"line_color\":\"#d7191c\",\"line_width\":2,\"x\":{\"field\":\"x\"},\"y\":{\"field\":\"y\"}},\"id\":\"12449\",\"type\":\"Line\"},{\"attributes\":{\"line_alpha\":0.8,\"line_color\":\"#abdda4\",\"line_width\":2,\"x\":{\"field\":\"x\"},\"y\":{\"field\":\"y\"}},\"id\":\"12393\",\"type\":\"Line\"},{\"attributes\":{\"line_alpha\":0.1,\"line_color\":\"#1f77b4\",\"line_width\":2,\"x\":{\"field\":\"x\"},\"y\":{\"field\":\"y\"}},\"id\":\"12450\",\"type\":\"Line\"},{\"attributes\":{\"callback\":null},\"id\":\"12334\",\"type\":\"DataRange1d\"},{\"attributes\":{\"base\":60,\"mantissas\":[1,2,5,10,15,20,30],\"max_interval\":1800000.0,\"min_interval\":1000.0,\"num_minor_ticks\":0},\"id\":\"12378\",\"type\":\"AdaptiveTicker\"},{\"attributes\":{\"bottom_units\":\"screen\",\"fill_alpha\":{\"value\":0.5},\"fill_color\":{\"value\":\"lightgrey\"},\"left_units\":\"screen\",\"level\":\"overlay\",\"line_alpha\":{\"value\":1.0},\"line_color\":{\"value\":\"black\"},\"line_dash\":[4,4],\"line_width\":{\"value\":2},\"plot\":null,\"render_mode\":\"css\",\"right_units\":\"screen\",\"top_units\":\"screen\"},\"id\":\"12358\",\"type\":\"BoxAnnotation\"},{\"attributes\":{},\"id\":\"12336\",\"type\":\"LinearScale\"},{\"attributes\":{},\"id\":\"12375\",\"type\":\"BasicTickFormatter\"},{\"attributes\":{\"data_source\":{\"id\":\"12448\",\"type\":\"ColumnDataSource\"},\"glyph\":{\"id\":\"12449\",\"type\":\"Line\"},\"hover_glyph\":null,\"muted_glyph\":null,\"nonselection_glyph\":{\"id\":\"12450\",\"type\":\"Line\"},\"selection_glyph\":null,\"view\":{\"id\":\"12452\",\"type\":\"CDSView\"}},\"id\":\"12451\",\"type\":\"GlyphRenderer\"},{\"attributes\":{\"line_alpha\":0.1,\"line_color\":\"#1f77b4\",\"line_width\":2,\"x\":{\"field\":\"x\"},\"y\":{\"field\":\"y\"}},\"id\":\"12394\",\"type\":\"Line\"},{\"attributes\":{\"data_source\":{\"id\":\"12366\",\"type\":\"ColumnDataSource\"},\"glyph\":{\"id\":\"12367\",\"type\":\"Line\"},\"hover_glyph\":null,\"muted_glyph\":null,\"nonselection_glyph\":{\"id\":\"12368\",\"type\":\"Line\"},\"selection_glyph\":null,\"view\":{\"id\":\"12370\",\"type\":\"CDSView\"}},\"id\":\"12369\",\"type\":\"GlyphRenderer\"},{\"attributes\":{},\"id\":\"12338\",\"type\":\"LinearScale\"},{\"attributes\":{\"data_source\":{\"id\":\"12392\",\"type\":\"ColumnDataSource\"},\"glyph\":{\"id\":\"12393\",\"type\":\"Line\"},\"hover_glyph\":null,\"muted_glyph\":null,\"nonselection_glyph\":{\"id\":\"12394\",\"type\":\"Line\"},\"selection_glyph\":null,\"view\":{\"id\":\"12396\",\"type\":\"CDSView\"}},\"id\":\"12395\",\"type\":\"GlyphRenderer\"},{\"attributes\":{\"source\":{\"id\":\"12448\",\"type\":\"ColumnDataSource\"}},\"id\":\"12452\",\"type\":\"CDSView\"},{\"attributes\":{\"source\":{\"id\":\"12366\",\"type\":\"ColumnDataSource\"}},\"id\":\"12370\",\"type\":\"CDSView\"},{\"attributes\":{\"formatter\":{\"id\":\"12373\",\"type\":\"DatetimeTickFormatter\"},\"plot\":{\"id\":\"12331\",\"subtype\":\"Figure\",\"type\":\"Plot\"},\"ticker\":{\"id\":\"12341\",\"type\":\"DatetimeTicker\"}},\"id\":\"12340\",\"type\":\"DatetimeAxis\"},{\"attributes\":{\"source\":{\"id\":\"12392\",\"type\":\"ColumnDataSource\"}},\"id\":\"12396\",\"type\":\"CDSView\"},{\"attributes\":{},\"id\":\"12476\",\"type\":\"UnionRenderers\"},{\"attributes\":{\"num_minor_ticks\":5,\"tickers\":[{\"id\":\"12377\",\"type\":\"AdaptiveTicker\"},{\"id\":\"12378\",\"type\":\"AdaptiveTicker\"},{\"id\":\"12379\",\"type\":\"AdaptiveTicker\"},{\"id\":\"12380\",\"type\":\"DaysTicker\"},{\"id\":\"12381\",\"type\":\"DaysTicker\"},{\"id\":\"12382\",\"type\":\"DaysTicker\"},{\"id\":\"12383\",\"type\":\"DaysTicker\"},{\"id\":\"12384\",\"type\":\"MonthsTicker\"},{\"id\":\"12385\",\"type\":\"MonthsTicker\"},{\"id\":\"12386\",\"type\":\"MonthsTicker\"},{\"id\":\"12387\",\"type\":\"MonthsTicker\"},{\"id\":\"12388\",\"type\":\"YearsTicker\"}]},\"id\":\"12341\",\"type\":\"DatetimeTicker\"},{\"attributes\":{},\"id\":\"12373\",\"type\":\"DatetimeTickFormatter\"},{\"attributes\":{},\"id\":\"12416\",\"type\":\"UnionRenderers\"},{\"attributes\":{\"plot\":{\"id\":\"12331\",\"subtype\":\"Figure\",\"type\":\"Plot\"},\"ticker\":{\"id\":\"12341\",\"type\":\"DatetimeTicker\"}},\"id\":\"12344\",\"type\":\"Grid\"},{\"attributes\":{\"base\":24,\"mantissas\":[1,2,4,6,8,12],\"max_interval\":43200000.0,\"min_interval\":3600000.0,\"num_minor_ticks\":0},\"id\":\"12379\",\"type\":\"AdaptiveTicker\"},{\"attributes\":{},\"id\":\"12477\",\"type\":\"Selection\"},{\"attributes\":{\"label\":{\"value\":\"D\"},\"renderers\":[{\"id\":\"12451\",\"type\":\"GlyphRenderer\"}]},\"id\":\"12478\",\"type\":\"LegendItem\"},{\"attributes\":{\"formatter\":{\"id\":\"12375\",\"type\":\"BasicTickFormatter\"},\"plot\":{\"id\":\"12331\",\"subtype\":\"Figure\",\"type\":\"Plot\"},\"ticker\":{\"id\":\"12346\",\"type\":\"BasicTicker\"}},\"id\":\"12345\",\"type\":\"LinearAxis\"},{\"attributes\":{},\"id\":\"12417\",\"type\":\"Selection\"},{\"attributes\":{\"days\":[1,2,3,4,5,6,7,8,9,10,11,12,13,14,15,16,17,18,19,20,21,22,23,24,25,26,27,28,29,30,31]},\"id\":\"12380\",\"type\":\"DaysTicker\"},{\"attributes\":{\"label\":{\"value\":\"B\"},\"renderers\":[{\"id\":\"12395\",\"type\":\"GlyphRenderer\"}]},\"id\":\"12418\",\"type\":\"LegendItem\"},{\"attributes\":{},\"id\":\"12889\",\"type\":\"Selection\"},{\"attributes\":{},\"id\":\"12346\",\"type\":\"BasicTicker\"},{\"attributes\":{\"days\":[1,4,7,10,13,16,19,22,25,28]},\"id\":\"12381\",\"type\":\"DaysTicker\"},{\"attributes\":{\"dimension\":1,\"plot\":{\"id\":\"12331\",\"subtype\":\"Figure\",\"type\":\"Plot\"},\"ticker\":{\"id\":\"12346\",\"type\":\"BasicTicker\"}},\"id\":\"12349\",\"type\":\"Grid\"},{\"attributes\":{\"callback\":null,\"data\":{\"x\":{\"__ndarray__\":\"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\",\"dtype\":\"float64\",\"shape\":[500]},\"y\":{\"__ndarray__\":\"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\",\"dtype\":\"float64\",\"shape\":[500]}},\"selected\":{\"id\":\"12477\",\"type\":\"Selection\"},\"selection_policy\":{\"id\":\"12476\",\"type\":\"UnionRenderers\"}},\"id\":\"12419\",\"type\":\"ColumnDataSource\"},{\"attributes\":{\"days\":[1,8,15,22]},\"id\":\"12382\",\"type\":\"DaysTicker\"},{\"attributes\":{\"days\":[1,15]},\"id\":\"12383\",\"type\":\"DaysTicker\"},{\"attributes\":{\"line_alpha\":0.1,\"line_color\":\"#1f77b4\",\"line_width\":2,\"x\":{\"field\":\"x\"},\"y\":{\"field\":\"y\"}},\"id\":\"12421\",\"type\":\"Line\"},{\"attributes\":{\"mantissas\":[1,2,5],\"max_interval\":500.0,\"num_minor_ticks\":0},\"id\":\"12377\",\"type\":\"AdaptiveTicker\"},{\"attributes\":{},\"id\":\"12888\",\"type\":\"UnionRenderers\"},{\"attributes\":{\"months\":[0,1,2,3,4,5,6,7,8,9,10,11]},\"id\":\"12384\",\"type\":\"MonthsTicker\"},{\"attributes\":{\"data_source\":{\"id\":\"12419\",\"type\":\"ColumnDataSource\"},\"glyph\":{\"id\":\"12420\",\"type\":\"Line\"},\"hover_glyph\":null,\"muted_glyph\":null,\"nonselection_glyph\":{\"id\":\"12421\",\"type\":\"Line\"},\"selection_glyph\":null,\"view\":{\"id\":\"12423\",\"type\":\"CDSView\"}},\"id\":\"12422\",\"type\":\"GlyphRenderer\"},{\"attributes\":{\"line_alpha\":0.8,\"line_color\":\"#2b83ba\",\"line_width\":2,\"x\":{\"field\":\"x\"},\"y\":{\"field\":\"y\"}},\"id\":\"12367\",\"type\":\"Line\"},{\"attributes\":{\"line_alpha\":0.1,\"line_color\":\"#1f77b4\",\"line_width\":2,\"x\":{\"field\":\"x\"},\"y\":{\"field\":\"y\"}},\"id\":\"12368\",\"type\":\"Line\"},{\"attributes\":{\"months\":[0,2,4,6,8,10]},\"id\":\"12385\",\"type\":\"MonthsTicker\"},{\"attributes\":{},\"id\":\"12350\",\"type\":\"PanTool\"},{\"attributes\":{\"months\":[0,6]},\"id\":\"12387\",\"type\":\"MonthsTicker\"},{\"attributes\":{\"source\":{\"id\":\"12419\",\"type\":\"ColumnDataSource\"}},\"id\":\"12423\",\"type\":\"CDSView\"},{\"attributes\":{\"months\":[0,4,8]},\"id\":\"12386\",\"type\":\"MonthsTicker\"},{\"attributes\":{\"plot\":null,\"text\":\"\\u70b9\\u51fb\\u56fe\\u4f8b\\u6765\\u9690\\u85cf\\u6570\\u636e\"},\"id\":\"12365\",\"type\":\"Title\"},{\"attributes\":{},\"id\":\"12351\",\"type\":\"WheelZoomTool\"},{\"attributes\":{},\"id\":\"12445\",\"type\":\"UnionRenderers\"},{\"attributes\":{\"callback\":null,\"data\":{\"x\":{\"__ndarray__\":\"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\",\"dtype\":\"float64\",\"shape\":[500]},\"y\":{\"__ndarray__\":\"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\",\"dtype\":\"float64\",\"shape\":[500]}},\"selected\":{\"id\":\"12417\",\"type\":\"Selection\"},\"selection_policy\":{\"id\":\"12416\",\"type\":\"UnionRenderers\"}},\"id\":\"12366\",\"type\":\"ColumnDataSource\"},{\"attributes\":{\"overlay\":{\"id\":\"12358\",\"type\":\"BoxAnnotation\"}},\"id\":\"12352\",\"type\":\"BoxZoomTool\"}],\"root_ids\":[\"12331\"]},\"title\":\"Bokeh Application\",\"version\":\"1.0.4\"}};\n",
       "  var render_items = [{\"docid\":\"221f8185-52cc-4f97-98fd-499f93ab3bd2\",\"roots\":{\"12331\":\"e9d08843-f335-4d2d-9c70-3d406fc4829b\"}}];\n",
       "  root.Bokeh.embed.embed_items_notebook(docs_json, render_items);\n",
       "\n",
       "  }\n",
       "  if (root.Bokeh !== undefined) {\n",
       "    embed_document(root);\n",
       "  } else {\n",
       "    var attempts = 0;\n",
       "    var timer = setInterval(function(root) {\n",
       "      if (root.Bokeh !== undefined) {\n",
       "        embed_document(root);\n",
       "        clearInterval(timer);\n",
       "      }\n",
       "      attempts++;\n",
       "      if (attempts > 100) {\n",
       "        console.log(\"Bokeh: ERROR: Unable to run BokehJS code because BokehJS library is missing\");\n",
       "        clearInterval(timer);\n",
       "      }\n",
       "    }, 10, root)\n",
       "  }\n",
       "})(window);"
      ],
      "application/vnd.bokehjs_exec.v0+json": ""
     },
     "metadata": {
      "application/vnd.bokehjs_exec.v0+json": {
       "id": "12331"
      }
     },
     "output_type": "display_data"
    }
   ],
   "source": [
    "# 1、筛选数据 - 隐藏\n",
    "# legend.click_policy\n",
    "\n",
    "from bokeh.palettes import Spectral4\n",
    "# 导入颜色模块\n",
    "\n",
    "df = pd.DataFrame({'A':np.random.randn(500).cumsum(),\n",
    "                  'B':np.random.randn(500).cumsum(),\n",
    "                  'C':np.random.randn(500).cumsum(),\n",
    "                  'D':np.random.randn(500).cumsum()},\n",
    "                 index = pd.date_range('20180101',freq = 'D',periods=500))\n",
    "# 创建数据\n",
    "\n",
    "p = figure(plot_width=800, plot_height=400, x_axis_type=\"datetime\")\n",
    "p.title.text = '点击图例来隐藏数据'\n",
    "\n",
    "for col,color in zip(df.columns.tolist(),Spectral4):\n",
    "    p.line(df.index,df[col],line_width=2, color=color, alpha=0.8,legend = col)\n",
    "\n",
    "p.legend.location = \"top_left\"\n",
    "p.legend.click_policy=\"hide\"\n",
    "# 设置图例，点击隐藏\n",
    "\n",
    "show(p)"
   ]
  },
  {
   "cell_type": "code",
   "execution_count": 39,
   "metadata": {},
   "outputs": [
    {
     "data": {
      "text/html": [
       "\n",
       "\n",
       "\n",
       "\n",
       "\n",
       "\n",
       "  <div class=\"bk-root\" id=\"c68edfb9-070b-48d6-808c-3e7a52f1d596\" data-root-id=\"13052\"></div>\n"
      ]
     },
     "metadata": {},
     "output_type": "display_data"
    },
    {
     "data": {
      "application/javascript": [
       "(function(root) {\n",
       "  function embed_document(root) {\n",
       "    \n",
       "  var docs_json = {\"7df9be1c-14aa-4d6e-9e04-d5820abdee0a\":{\"roots\":{\"references\":[{\"attributes\":{\"below\":[{\"id\":\"13061\",\"type\":\"DatetimeAxis\"}],\"left\":[{\"id\":\"13066\",\"type\":\"LinearAxis\"}],\"plot_height\":400,\"plot_width\":800,\"renderers\":[{\"id\":\"13061\",\"type\":\"DatetimeAxis\"},{\"id\":\"13065\",\"type\":\"Grid\"},{\"id\":\"13066\",\"type\":\"LinearAxis\"},{\"id\":\"13070\",\"type\":\"Grid\"},{\"id\":\"13079\",\"type\":\"BoxAnnotation\"},{\"id\":\"13112\",\"type\":\"Legend\"},{\"id\":\"13091\",\"type\":\"GlyphRenderer\"},{\"id\":\"13118\",\"type\":\"GlyphRenderer\"},{\"id\":\"13146\",\"type\":\"GlyphRenderer\"},{\"id\":\"13176\",\"type\":\"GlyphRenderer\"}],\"title\":{\"id\":\"13086\",\"type\":\"Title\"},\"toolbar\":{\"id\":\"13077\",\"type\":\"Toolbar\"},\"x_range\":{\"id\":\"13053\",\"type\":\"DataRange1d\"},\"x_scale\":{\"id\":\"13057\",\"type\":\"LinearScale\"},\"y_range\":{\"id\":\"13055\",\"type\":\"DataRange1d\"},\"y_scale\":{\"id\":\"13059\",\"type\":\"LinearScale\"}},\"id\":\"13052\",\"subtype\":\"Figure\",\"type\":\"Plot\"},{\"attributes\":{\"line_alpha\":0.8,\"line_color\":\"#fdae61\",\"line_width\":2,\"x\":{\"field\":\"x\"},\"y\":{\"field\":\"y\"}},\"id\":\"13143\",\"type\":\"Line\"},{\"attributes\":{\"months\":[0,1,2,3,4,5,6,7,8,9,10,11]},\"id\":\"13106\",\"type\":\"MonthsTicker\"},{\"attributes\":{\"callback\":null},\"id\":\"13055\",\"type\":\"DataRange1d\"},{\"attributes\":{\"callback\":null},\"id\":\"13053\",\"type\":\"DataRange1d\"},{\"attributes\":{},\"id\":\"13071\",\"type\":\"PanTool\"},{\"attributes\":{\"line_alpha\":0.1,\"line_color\":\"#1f77b4\",\"line_width\":2,\"x\":{\"field\":\"x\"},\"y\":{\"field\":\"y\"}},\"id\":\"13144\",\"type\":\"Line\"},{\"attributes\":{\"months\":[0,2,4,6,8,10]},\"id\":\"13107\",\"type\":\"MonthsTicker\"},{\"attributes\":{},\"id\":\"13072\",\"type\":\"WheelZoomTool\"},{\"attributes\":{\"callback\":null,\"data\":{\"x\":{\"__ndarray__\":\"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\",\"dtype\":\"float64\",\"shape\":[500]},\"y\":{\"__ndarray__\":\"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\",\"dtype\":\"float64\",\"shape\":[500]}},\"selected\":{\"id\":\"13140\",\"type\":\"Selection\"},\"selection_policy\":{\"id\":\"13139\",\"type\":\"UnionRenderers\"}},\"id\":\"13087\",\"type\":\"ColumnDataSource\"},{\"attributes\":{\"line_alpha\":0.2,\"line_color\":\"#fdae61\",\"line_width\":2,\"x\":{\"field\":\"x\"},\"y\":{\"field\":\"y\"}},\"id\":\"13145\",\"type\":\"Line\"},{\"attributes\":{\"plot\":null,\"text\":\"\\u70b9\\u51fb\\u56fe\\u4f8b\\u6765\\u9690\\u85cf\\u6570\\u636e\"},\"id\":\"13086\",\"type\":\"Title\"},{\"attributes\":{\"base\":60,\"mantissas\":[1,2,5,10,15,20,30],\"max_interval\":1800000.0,\"min_interval\":1000.0,\"num_minor_ticks\":0},\"id\":\"13100\",\"type\":\"AdaptiveTicker\"},{\"attributes\":{\"months\":[0,4,8]},\"id\":\"13108\",\"type\":\"MonthsTicker\"},{\"attributes\":{\"data_source\":{\"id\":\"13142\",\"type\":\"ColumnDataSource\"},\"glyph\":{\"id\":\"13143\",\"type\":\"Line\"},\"hover_glyph\":null,\"muted_glyph\":{\"id\":\"13145\",\"type\":\"Line\"},\"nonselection_glyph\":{\"id\":\"13144\",\"type\":\"Line\"},\"selection_glyph\":null,\"view\":{\"id\":\"13147\",\"type\":\"CDSView\"}},\"id\":\"13146\",\"type\":\"GlyphRenderer\"},{\"attributes\":{\"overlay\":{\"id\":\"13079\",\"type\":\"BoxAnnotation\"}},\"id\":\"13073\",\"type\":\"BoxZoomTool\"},{\"attributes\":{\"months\":[0,6]},\"id\":\"13109\",\"type\":\"MonthsTicker\"},{\"attributes\":{},\"id\":\"13074\",\"type\":\"SaveTool\"},{\"attributes\":{\"source\":{\"id\":\"13142\",\"type\":\"ColumnDataSource\"}},\"id\":\"13147\",\"type\":\"CDSView\"},{\"attributes\":{},\"id\":\"13110\",\"type\":\"YearsTicker\"},{\"attributes\":{},\"id\":\"13075\",\"type\":\"ResetTool\"},{\"attributes\":{\"click_policy\":\"mute\",\"items\":[{\"id\":\"13113\",\"type\":\"LegendItem\"},{\"id\":\"13141\",\"type\":\"LegendItem\"},{\"id\":\"13171\",\"type\":\"LegendItem\"},{\"id\":\"13203\",\"type\":\"LegendItem\"}],\"location\":\"top_left\",\"plot\":{\"id\":\"13052\",\"subtype\":\"Figure\",\"type\":\"Plot\"}},\"id\":\"13112\",\"type\":\"Legend\"},{\"attributes\":{},\"id\":\"13169\",\"type\":\"UnionRenderers\"},{\"attributes\":{},\"id\":\"13057\",\"type\":\"LinearScale\"},{\"attributes\":{},\"id\":\"13076\",\"type\":\"HelpTool\"},{\"attributes\":{\"label\":{\"value\":\"A\"},\"renderers\":[{\"id\":\"13091\",\"type\":\"GlyphRenderer\"}]},\"id\":\"13113\",\"type\":\"LegendItem\"},{\"attributes\":{},\"id\":\"13059\",\"type\":\"LinearScale\"},{\"attributes\":{},\"id\":\"13170\",\"type\":\"Selection\"},{\"attributes\":{\"active_drag\":\"auto\",\"active_inspect\":\"auto\",\"active_multi\":null,\"active_scroll\":\"auto\",\"active_tap\":\"auto\",\"tools\":[{\"id\":\"13071\",\"type\":\"PanTool\"},{\"id\":\"13072\",\"type\":\"WheelZoomTool\"},{\"id\":\"13073\",\"type\":\"BoxZoomTool\"},{\"id\":\"13074\",\"type\":\"SaveTool\"},{\"id\":\"13075\",\"type\":\"ResetTool\"},{\"id\":\"13076\",\"type\":\"HelpTool\"}]},\"id\":\"13077\",\"type\":\"Toolbar\"},{\"attributes\":{\"label\":{\"value\":\"C\"},\"renderers\":[{\"id\":\"13146\",\"type\":\"GlyphRenderer\"}]},\"id\":\"13171\",\"type\":\"LegendItem\"},{\"attributes\":{},\"id\":\"13640\",\"type\":\"UnionRenderers\"},{\"attributes\":{\"formatter\":{\"id\":\"13095\",\"type\":\"DatetimeTickFormatter\"},\"plot\":{\"id\":\"13052\",\"subtype\":\"Figure\",\"type\":\"Plot\"},\"ticker\":{\"id\":\"13062\",\"type\":\"DatetimeTicker\"}},\"id\":\"13061\",\"type\":\"DatetimeAxis\"},{\"attributes\":{\"line_alpha\":0.8,\"line_color\":\"#2b83ba\",\"line_width\":2,\"x\":{\"field\":\"x\"},\"y\":{\"field\":\"y\"}},\"id\":\"13088\",\"type\":\"Line\"},{\"attributes\":{\"callback\":null,\"data\":{\"x\":{\"__ndarray__\":\"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\",\"dtype\":\"float64\",\"shape\":[500]},\"y\":{\"__ndarray__\":\"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\",\"dtype\":\"float64\",\"shape\":[500]}},\"selected\":{\"id\":\"13170\",\"type\":\"Selection\"},\"selection_policy\":{\"id\":\"13169\",\"type\":\"UnionRenderers\"}},\"id\":\"13114\",\"type\":\"ColumnDataSource\"},{\"attributes\":{\"bottom_units\":\"screen\",\"fill_alpha\":{\"value\":0.5},\"fill_color\":{\"value\":\"lightgrey\"},\"left_units\":\"screen\",\"level\":\"overlay\",\"line_alpha\":{\"value\":1.0},\"line_color\":{\"value\":\"black\"},\"line_dash\":[4,4],\"line_width\":{\"value\":2},\"plot\":null,\"render_mode\":\"css\",\"right_units\":\"screen\",\"top_units\":\"screen\"},\"id\":\"13079\",\"type\":\"BoxAnnotation\"},{\"attributes\":{\"callback\":null,\"data\":{\"x\":{\"__ndarray__\":\"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\",\"dtype\":\"float64\",\"shape\":[500]},\"y\":{\"__ndarray__\":\"gVlzKFTt8D8K2941GqDgPzOYPUHUWvs/jD3xAwZ+AUAHWQYa4Pj3Pzj7usjUs+s/dRzeKjkT7T/Y/vqemyywP8yhH/Qhg+M/Vik5jiOy+D9WbjOb9BUHQMZztF89AwtASPVxHwKr9j85UVPHc9P4P4bpdNJlUQ5ALcpwecJJDUDZWZhXrND6P8hmzXPqVAVAMuYw9yJ2AkDUdk7Qr4IGQHqUTLGx8QJAfHdBwLbMBkDiEOKZfY4UQC25d+PnXxNAsun4jJj+GkCXU0NOc04YQEbggrLgBhlAsqFQiNFUF0Dy2FNWPvgVQG37++XhwxlALLYSN/6QGEB+JqbWSi0cQBUdRHCd4BlAGNjlzAalIEArly8sM38gQMHPdEKNOx5AgYE2OyEYHUATFIsIrXsdQFAu5y1a/h1ArV69cSZGF0BfK3nCL9gHQLSDf07YJg9AP9nc7KDyCEC/HAfPZp0JQG7IYOKjgxVAx6MwqBIkE0BSSoLX/hkSQAK/wUAUVgtAVUsGh7SLDUDsghoFUv8NQN5iV44WTgFATcf9wsvdAUA0tcEr6VMKQCvg8hfGSARAq6UJ2bn+AEAAmfDJrnoGQMiKuGh+owlABGYz719nCEDugIiD024OQLkHz+rg2A1As0Hh22JnDUCO9XvWlkwLQDdZQn8yogxAs2UDyJF2CkB6hHUa5q4SQL5za/UcqQdA9ImDX9EWBkC3j6LkSc8NQK7CxUO09RJALvijM59OD0D6K3bcr5QSQLuKHueFWxRAtIhUYJqrEUB21zY62MADQOIjnNXoaQhAvOMOo5BACUBkMCcXbvL8Pw4CZrPyMgdASKi4l7Fh/T9SgVH4IVADQDDz1FNHpwhAxbrbkQANCEDKCgJ6pvwDQMJTldiLwQlALMH8MMbZ+z+a6AlH8WwSQOwtWrYs2BVA0/dEWmUlFUCNfgac+IsZQFDPGQuLahVAIH1iSd8ZFUB25PKlO3IIQD0BCVwQkQZAB3g1iSkmAkBQAW6yoQP8P97gbUMepAFAyRtbESNYBkDQaqB8WicRQNwucVF/VQ1A4XQh2f7SC0DmKgvxWc31P1qGgtFfDgdAdKiIDPEZA0BErnfEB8PhP32+LVmMutE/6oRSeZ1897+lIHQBaSXxv3/jTKXZOPS/fme/nBoC/b+JY4I2c9f+v1Cvr/VkVAPAPhiVJn5/+b+K3tjapHH+v6+cKk9onPK/1lDJMOwMAcCYdLSV1Az4vwdxf49+Kg7AVAXJYSeDEcAAtnTBt6cYwCBxxFexhBfAh0+odCEvGcA+ISmrMMIYwKr0oXcMviHAI0uOAYzfIsA+JXgaGiMhwPjoHrJ+ZCPAclLVb/2oJMDJHyCp4fUhwFL6JZtddCXAuPC/vhbpIsCs+P0W+o4kwF64URgaJCfATrkMfKtwI8C8QP9A1AwmwCGPdFletyTAfCbvNC45I8BvqTvaJMAgwCVa3zBrgSPA7LttvoYIJMBeetzSya0jwCXYG0AQhSXAcVl0o7VTJ8DtSRJ0GWskwPzQwvxUCSLAhfvaOASKHsBuO6Ff7bUhwPvo+EW74CLAxw9HZyd8IcCrvGa/CNYhwJwcXBT9FCLA+hF2bU6BIMDwdtuEFncawGQORzf/rB7AmH/thkZeIMAvViWgiWsawH+2O5NvpxfATo550YmyF8D3Hyk5sMUWwE+jfVC2cBrA2o7ApFTvFcC8IyWRBxUXwIF/nkEoRRjAGoq2JuYHHMAQZT1EBwoZwOXZX4Gm4RjAZMuHelmYGcBA2uhz49AdwIRRWhWkWBzAzApqRyrZHcB74idNnP8bwDgIMlfJTyPAju9xX6jFH8BZYKNcpqgfwGsw+0A7qBzAmCAuQHQZF8AYCrWsuAMVwDjnlv4riBPALnjlphcVEcCGE+ON5gQBwD5EUtbZZvS/xAUCabfL5787+G6+P6rVv6wPYKaoMuu/VYI352wd3r+VnXiCTa3eP+odmgcXkdI/ADKrNvbC3L+Am96giOXdP4AWZivb1PA/TpefCFJC6D92TQcFLrTYPwRhusUzYtG/Q8Wm4ldN7L9yw8LOCh0AwLCBTJUK7Pa/aRPilQTnBsCK5JNSkn/3v752HNgbjAPAkRJNRE12EcAF42yGsyMTwIqcvdDG6gfAPzs54PlmCMBuT8J7ttcKwBs1PKvVHgnAy9pI3NadEcDUyuhk3X4QwBcA9Vygaw3AtgL4RlaOFcDfzJjuW94UwKRly9QKSBTAZvJUEOmNEcDe22L4U94WwIjZkyNiFRTA1YKyHJjpGMA8bqeosZwZwAjAFn+q6xrAtAWUMyeHEsCxgDcfgogHwCEAKU7Klfi/KE7qu3Dr87/65Be9+C/pv1O4FGPtQgPA/qiN1CAr+7/dJQqLZczwv5Z0mXIHFP2/aD5bxUWsC8BkcprVHLEOwETwWcwwig7Amtl07Cs1DMAUSDlsfhgXwPkbotRI7g/ASKxJdr5aDcCT0E96/bYfwNCB3unYfCHAttkY56LwIMALPtJoOLUdwGf5IZthGh3A986GBhZ3HMDkkSFu1XYYwPGxTfdSKRfASVGEp8wQF8BE1EMsWDEVwFzNybeRyBfADfozIuhlFcCGRAv5fZYUwAuO1tVMhhHAYi2T8vZAEMCVFnEnxYoOwIx2xIg3ihLAMv0B1t7NE8CAvKrDGUATwOBhcMKSmBHAmIXhFTdDF8AfyZ+6Y/MbwKPx1cTbhh3Agg7poGM5GMCM6JibStQgwJCjdcvwQx7ASIaqZl80H8AS/MpgJUEcwECCIXga1xbA/MucN4wHGsB+QR1UnjIdwI8cIYhGUxrArWFhI8VvGcB0K7MoVMEWwJSA89oiOhLAOs95MV4bF8AGiK1LwC0awJUjpMIEfRjAMA6cu1FEG8AWiVYx9GEXwAJUqbTQ2xLAxtdkpD5JC8AIpglk3jkNwHOsi4QP/xHAmd32KMylD8Banv7dk/kPwDc8+sPeegrANkFMQ135DMC/B6FJlVQOwHEBtBX1HA3AmH2yVvAjEcBKbmi06LkRwK52fio//AfAsiQSuE/sBsC7cFlG+EQGwN5E3GWxpfa/JKOIVI256b8hcBcb2iv/v8MaB0sFW/u/QH240il9979czhOHfrbyv25R5N5jpvK/pDy2Z3I6/r+fuCt3Zj37v6Y0sndKcgbAQrnvmhgvBsANACL93iYFwOQQm9pYMALA/idjgSuK/b/awHXXXpMIwJmKrIGeZBHAsynZM5gCGMC5IAtoN38awN+3jxkmbCLAjVDzzfWyJsCs2MXLopUmwHK6uLtelSjAuWTy+advJsBw6siCYiElwB5Tn+9FcyjA/WjIxMjFJMDPSKLrbbglwMJYrHoMyifAFbvibcajKcBAAtojRsMswKFIRKqg+SvABT6WFAEUK8Be1//prz0qwDMmCF1EUirA55cSmqn1KcCmzjTUR34swDaB4K3RuSvASUKvdxhJK8DilNd5rCYowMouwNmWHSjAGF86at4XKcA8/nb4/kQowEwR7GfymCbAnKVXiyWHJMAj/UifZrglwMeqAtY+ainAx70kjez8J8Cigx2fc/clwDfedV2ZoiXA5P8XSlk6KMDbe5QJMlEpwKsmOmu4GyvAB2Oo54q+J8DR/Knp0BoowIgtlMpYYibAaA4/B5CMJ8APllFuBEsmwCZs1OEO9CTALCETn3SoIcAMzRUrK9QdwA0x0+E7Xh3AglGpXC1GFsBCvWErarQgwJfSmShzwh7A+sRKJtSHIMC5gUA22IwZwBvhf1OTGRfAWui/1vK3HsBMitS75iIgwJQ9IFB7aSPAw9TOm7mrIsAXSHDEht8mwBXWyJ4+ISbASqJefS7CKMB4vq9dNrgjwCKpBNbWAiTA6aLBLIKAJMB9NGI8gdsiwLpVGGSjkyPAsDfqCiOkIcB+31mkwT4ZwDjr7I9bahvAY16pv5L5G8DCvX0v2RghwIhSk2IHjiHALUHtT1kpH8CglGfcY0AfwM6e1EHk8BrAVeP3t5qWGcBXA1VkrZMcwC5iCcqYhxzAADqfrkSjHcDYBkhYIXAcwID/mP0eORbAHkodETkhDcD/t+f5sYkFwMpn3UT1HwfA/6LvJ3/cBcBZXjN87u8GwFbmpMoFmAvAkLGD0YR8+b901L4eZCz4v6fSr6LFL++/OHLJ++Lf3b9wxJww8Xjsv56WTxSgW/a/tLPY5lIhAcCMInNPMVv4v56PL/sP3AjAHp3K+FX0BMCodScxOlsGwDjOehkbXAvA8XOAbrCHA8D47gfLj5EPwMrh77/OTxHAL1eLtfcEEMB63wfgjw0SwJOox83GRhTAR3umIFN4GcBvSi80j9AawMnBgnDt4hjAdvxqdXuoG8BTq8Q0L/sYwJDMF3+HpBnAVMmHbAYXHsBCiqiM1q4dwFQQp8HpCSPAFz5k0OxGJsBPQlW8/twpwHRfkUS6ZSrA/qmbHySYKsA3LGhc+6AqwL90WGxy0CjA604Bo2ojLMAxpZ1P0d4twNUlm0g9rC3AuKMnCSBiLsBELQONss4rwNN/emf6ACzAIM+ST2q8KMDAeAdfnDAswH6hbPsdHi3Ag1Y/pFVWLMB3jKQV/WEswIJsy/hhiyvAed7hQb9cLcBNUQXcY3kvwC4tsPcUvizAiJRoCiqyLMCBTQU75GsowBaAkZZa+yvACw1ZinNEK8BXNbIfKusowNyoy0kf+ijAoVymE9mnKcAlk4JhAhUpwAfYbRjYeCvA3rLkezxOKsDG45yU9xspwCZKT8Z5+yXAZOFkTyyEKcB7d4fOlsApwCpN7W95vCjA0NTXK8dqJsDYjkUswL4mwDME++gYYCjAWSKSJjp3KcCMAeUTHH4qwKXfZhGq8C3A9Egxmp2GMcBm1YwkvHIywCVX4bb1zDPAfvEishwTNcCj89Kc9e01wG5Y7K+x3TXA2sp6qMi8NMBoL6U/RxAzwMNFGi0hGDPA3BsT4V0VNMDRP1CPSJkywI2fPp8M2zHAMWxVHrz4MMCcBkefsIQxwIqjHvDi0DHABte2mOesMsBpfq9KmLQywJkLEcczyzLApPA36O3jNMA64CHz2eUzwBtuimONEjPAz4k0/uoiM8BJDAq2HnAywKezeBglUDLAXQjYEKlaM8Dp9PXPJZYzwKyyYP7nBDPAYdiRjtQ/M8Bw78qM4ykywFBFW5TbmTHA/vl+xq7jMcAyN+Fr1K8xwAXWaTR+YzDAfrTqRFfoMMAOFk8zd1YxwKazQEZewjDANOYTeskMMsAmutSGQTAzwNy3wJu1pDXAREz8c0QANsBsuXa1idU0wEmld/0m1TPA9BM3kyKRNMB+39+eWpo0wA==\",\"dtype\":\"float64\",\"shape\":[500]}},\"selected\":{\"id\":\"13641\",\"type\":\"Selection\"},\"selection_policy\":{\"id\":\"13640\",\"type\":\"UnionRenderers\"}},\"id\":\"13172\",\"type\":\"ColumnDataSource\"},{\"attributes\":{\"line_alpha\":0.8,\"line_color\":\"#abdda4\",\"line_width\":2,\"x\":{\"field\":\"x\"},\"y\":{\"field\":\"y\"}},\"id\":\"13115\",\"type\":\"Line\"},{\"attributes\":{\"plot\":{\"id\":\"13052\",\"subtype\":\"Figure\",\"type\":\"Plot\"},\"ticker\":{\"id\":\"13062\",\"type\":\"DatetimeTicker\"}},\"id\":\"13065\",\"type\":\"Grid\"},{\"attributes\":{\"line_alpha\":0.1,\"line_color\":\"#1f77b4\",\"line_width\":2,\"x\":{\"field\":\"x\"},\"y\":{\"field\":\"y\"}},\"id\":\"13089\",\"type\":\"Line\"},{\"attributes\":{\"line_alpha\":0.1,\"line_color\":\"#1f77b4\",\"line_width\":2,\"x\":{\"field\":\"x\"},\"y\":{\"field\":\"y\"}},\"id\":\"13116\",\"type\":\"Line\"},{\"attributes\":{\"line_alpha\":0.8,\"line_color\":\"#d7191c\",\"line_width\":2,\"x\":{\"field\":\"x\"},\"y\":{\"field\":\"y\"}},\"id\":\"13173\",\"type\":\"Line\"},{\"attributes\":{\"num_minor_ticks\":5,\"tickers\":[{\"id\":\"13099\",\"type\":\"AdaptiveTicker\"},{\"id\":\"13100\",\"type\":\"AdaptiveTicker\"},{\"id\":\"13101\",\"type\":\"AdaptiveTicker\"},{\"id\":\"13102\",\"type\":\"DaysTicker\"},{\"id\":\"13103\",\"type\":\"DaysTicker\"},{\"id\":\"13104\",\"type\":\"DaysTicker\"},{\"id\":\"13105\",\"type\":\"DaysTicker\"},{\"id\":\"13106\",\"type\":\"MonthsTicker\"},{\"id\":\"13107\",\"type\":\"MonthsTicker\"},{\"id\":\"13108\",\"type\":\"MonthsTicker\"},{\"id\":\"13109\",\"type\":\"MonthsTicker\"},{\"id\":\"13110\",\"type\":\"YearsTicker\"}]},\"id\":\"13062\",\"type\":\"DatetimeTicker\"},{\"attributes\":{\"line_alpha\":0.2,\"line_color\":\"#2b83ba\",\"line_width\":2,\"x\":{\"field\":\"x\"},\"y\":{\"field\":\"y\"}},\"id\":\"13090\",\"type\":\"Line\"},{\"attributes\":{\"line_alpha\":0.2,\"line_color\":\"#abdda4\",\"line_width\":2,\"x\":{\"field\":\"x\"},\"y\":{\"field\":\"y\"}},\"id\":\"13117\",\"type\":\"Line\"},{\"attributes\":{\"line_alpha\":0.1,\"line_color\":\"#1f77b4\",\"line_width\":2,\"x\":{\"field\":\"x\"},\"y\":{\"field\":\"y\"}},\"id\":\"13174\",\"type\":\"Line\"},{\"attributes\":{\"formatter\":{\"id\":\"13097\",\"type\":\"BasicTickFormatter\"},\"plot\":{\"id\":\"13052\",\"subtype\":\"Figure\",\"type\":\"Plot\"},\"ticker\":{\"id\":\"13067\",\"type\":\"BasicTicker\"}},\"id\":\"13066\",\"type\":\"LinearAxis\"},{\"attributes\":{\"data_source\":{\"id\":\"13087\",\"type\":\"ColumnDataSource\"},\"glyph\":{\"id\":\"13088\",\"type\":\"Line\"},\"hover_glyph\":null,\"muted_glyph\":{\"id\":\"13090\",\"type\":\"Line\"},\"nonselection_glyph\":{\"id\":\"13089\",\"type\":\"Line\"},\"selection_glyph\":null,\"view\":{\"id\":\"13092\",\"type\":\"CDSView\"}},\"id\":\"13091\",\"type\":\"GlyphRenderer\"},{\"attributes\":{\"line_alpha\":0.2,\"line_color\":\"#d7191c\",\"line_width\":2,\"x\":{\"field\":\"x\"},\"y\":{\"field\":\"y\"}},\"id\":\"13175\",\"type\":\"Line\"},{\"attributes\":{\"data_source\":{\"id\":\"13114\",\"type\":\"ColumnDataSource\"},\"glyph\":{\"id\":\"13115\",\"type\":\"Line\"},\"hover_glyph\":null,\"muted_glyph\":{\"id\":\"13117\",\"type\":\"Line\"},\"nonselection_glyph\":{\"id\":\"13116\",\"type\":\"Line\"},\"selection_glyph\":null,\"view\":{\"id\":\"13119\",\"type\":\"CDSView\"}},\"id\":\"13118\",\"type\":\"GlyphRenderer\"},{\"attributes\":{\"base\":24,\"mantissas\":[1,2,4,6,8,12],\"max_interval\":43200000.0,\"min_interval\":3600000.0,\"num_minor_ticks\":0},\"id\":\"13101\",\"type\":\"AdaptiveTicker\"},{\"attributes\":{\"days\":[1,2,3,4,5,6,7,8,9,10,11,12,13,14,15,16,17,18,19,20,21,22,23,24,25,26,27,28,29,30,31]},\"id\":\"13102\",\"type\":\"DaysTicker\"},{\"attributes\":{\"data_source\":{\"id\":\"13172\",\"type\":\"ColumnDataSource\"},\"glyph\":{\"id\":\"13173\",\"type\":\"Line\"},\"hover_glyph\":null,\"muted_glyph\":{\"id\":\"13175\",\"type\":\"Line\"},\"nonselection_glyph\":{\"id\":\"13174\",\"type\":\"Line\"},\"selection_glyph\":null,\"view\":{\"id\":\"13177\",\"type\":\"CDSView\"}},\"id\":\"13176\",\"type\":\"GlyphRenderer\"},{\"attributes\":{},\"id\":\"13067\",\"type\":\"BasicTicker\"},{\"attributes\":{\"source\":{\"id\":\"13087\",\"type\":\"ColumnDataSource\"}},\"id\":\"13092\",\"type\":\"CDSView\"},{\"attributes\":{\"source\":{\"id\":\"13114\",\"type\":\"ColumnDataSource\"}},\"id\":\"13119\",\"type\":\"CDSView\"},{\"attributes\":{},\"id\":\"13095\",\"type\":\"DatetimeTickFormatter\"},{\"attributes\":{\"source\":{\"id\":\"13172\",\"type\":\"ColumnDataSource\"}},\"id\":\"13177\",\"type\":\"CDSView\"},{\"attributes\":{},\"id\":\"13139\",\"type\":\"UnionRenderers\"},{\"attributes\":{},\"id\":\"13201\",\"type\":\"UnionRenderers\"},{\"attributes\":{},\"id\":\"13097\",\"type\":\"BasicTickFormatter\"},{\"attributes\":{\"dimension\":1,\"plot\":{\"id\":\"13052\",\"subtype\":\"Figure\",\"type\":\"Plot\"},\"ticker\":{\"id\":\"13067\",\"type\":\"BasicTicker\"}},\"id\":\"13070\",\"type\":\"Grid\"},{\"attributes\":{},\"id\":\"13140\",\"type\":\"Selection\"},{\"attributes\":{\"days\":[1,4,7,10,13,16,19,22,25,28]},\"id\":\"13103\",\"type\":\"DaysTicker\"},{\"attributes\":{\"label\":{\"value\":\"B\"},\"renderers\":[{\"id\":\"13118\",\"type\":\"GlyphRenderer\"}]},\"id\":\"13141\",\"type\":\"LegendItem\"},{\"attributes\":{},\"id\":\"13641\",\"type\":\"Selection\"},{\"attributes\":{},\"id\":\"13202\",\"type\":\"Selection\"},{\"attributes\":{\"label\":{\"value\":\"D\"},\"renderers\":[{\"id\":\"13176\",\"type\":\"GlyphRenderer\"}]},\"id\":\"13203\",\"type\":\"LegendItem\"},{\"attributes\":{\"days\":[1,8,15,22]},\"id\":\"13104\",\"type\":\"DaysTicker\"},{\"attributes\":{\"callback\":null,\"data\":{\"x\":{\"__ndarray__\":\"AAAASfAKdkIAAMCuQgt2QgAAgBSVC3ZCAABAeucLdkIAAADgOQx2QgAAwEWMDHZCAACAq94MdkIAAEARMQ12QgAAAHeDDXZCAADA3NUNdkIAAIBCKA52QgAAQKh6DnZCAAAADs0OdkIAAMBzHw92QgAAgNlxD3ZCAABAP8QPdkIAAAClFhB2QgAAwAppEHZCAACAcLsQdkIAAEDWDRF2QgAAADxgEXZCAADAobIRdkIAAIAHBRJ2QgAAQG1XEnZCAAAA06kSdkIAAMA4/BJ2QgAAgJ5OE3ZCAABABKETdkIAAABq8xN2QgAAwM9FFHZCAACANZgUdkIAAECb6hR2QgAAAAE9FXZCAADAZo8VdkIAAIDM4RV2QgAAQDI0FnZCAAAAmIYWdkIAAMD92BZ2QgAAgGMrF3ZCAABAyX0XdkIAAAAv0Bd2QgAAwJQiGHZCAACA+nQYdkIAAEBgxxh2QgAAAMYZGXZCAADAK2wZdkIAAICRvhl2QgAAQPcQGnZCAAAAXWMadkIAAMDCtRp2QgAAgCgIG3ZCAABAjlobdkIAAAD0rBt2QgAAwFn/G3ZCAACAv1EcdkIAAEAlpBx2QgAAAIv2HHZCAADA8EgddkIAAIBWmx12QgAAQLztHXZCAAAAIkAedkIAAMCHkh52QgAAgO3kHnZCAABAUzcfdkIAAAC5iR92QgAAwB7cH3ZCAACAhC4gdkIAAEDqgCB2QgAAAFDTIHZCAADAtSUhdkIAAIAbeCF2QgAAQIHKIXZCAAAA5xwidkIAAMBMbyJ2QgAAgLLBInZCAABAGBQjdkIAAAB+ZiN2QgAAwOO4I3ZCAACASQskdkIAAECvXSR2QgAAABWwJHZCAADAegIldkIAAIDgVCV2QgAAQEanJXZCAAAArPkldkIAAMARTCZ2QgAAgHeeJnZCAABA3fAmdkIAAABDQyd2QgAAwKiVJ3ZCAACADugndkIAAEB0Oih2QgAAANqMKHZCAADAP98odkIAAIClMSl2QgAAQAuEKXZCAAAAcdYpdkIAAMDWKCp2QgAAgDx7KnZCAABAos0qdkIAAAAIICt2QgAAwG1yK3ZCAACA08QrdkIAAEA5Fyx2QgAAAJ9pLHZCAADABLwsdkIAAIBqDi12QgAAQNBgLXZCAAAANrMtdkIAAMCbBS52QgAAgAFYLnZCAABAZ6oudkIAAADN/C52QgAAwDJPL3ZCAACAmKEvdkIAAED+8y92QgAAAGRGMHZCAADAyZgwdkIAAIAv6zB2QgAAQJU9MXZCAAAA+48xdkIAAMBg4jF2QgAAgMY0MnZCAABALIcydkIAAACS2TJ2QgAAwPcrM3ZCAACAXX4zdkIAAEDD0DN2QgAAACkjNHZCAADAjnU0dkIAAID0xzR2QgAAQFoaNXZCAAAAwGw1dkIAAMAlvzV2QgAAgIsRNnZCAABA8WM2dkIAAABXtjZ2QgAAwLwIN3ZCAACAIls3dkIAAECIrTd2QgAAAO7/N3ZCAADAU1I4dkIAAIC5pDh2QgAAQB/3OHZCAAAAhUk5dkIAAMDqmzl2QgAAgFDuOXZCAABAtkA6dkIAAAAckzp2QgAAwIHlOnZCAACA5zc7dkIAAEBNijt2QgAAALPcO3ZCAADAGC88dkIAAIB+gTx2QgAAQOTTPHZCAAAASiY9dkIAAMCveD12QgAAgBXLPXZCAABAex0+dkIAAADhbz52QgAAwEbCPnZCAACArBQ/dkIAAEASZz92QgAAAHi5P3ZCAADA3QtAdkIAAIBDXkB2QgAAQKmwQHZCAAAADwNBdkIAAMB0VUF2QgAAgNqnQXZCAABAQPpBdkIAAACmTEJ2QgAAwAufQnZCAACAcfFCdkIAAEDXQ0N2QgAAAD2WQ3ZCAADAouhDdkIAAIAIO0R2QgAAQG6NRHZCAAAA1N9EdkIAAMA5MkV2QgAAgJ+ERXZCAABABddFdkIAAABrKUZ2QgAAwNB7RnZCAACANs5GdkIAAECcIEd2QgAAAAJzR3ZCAADAZ8VHdkIAAIDNF0h2QgAAQDNqSHZCAAAAmbxIdkIAAMD+Dkl2QgAAgGRhSXZCAABAyrNJdkIAAAAwBkp2QgAAwJVYSnZCAACA+6pKdkIAAEBh/Up2QgAAAMdPS3ZCAADALKJLdkIAAICS9Et2QgAAQPhGTHZCAAAAXplMdkIAAMDD60x2QgAAgCk+TXZCAABAj5BNdkIAAAD14k12QgAAwFo1TnZCAACAwIdOdkIAAEAm2k52QgAAAIwsT3ZCAADA8X5PdkIAAIBX0U92QgAAQL0jUHZCAAAAI3ZQdkIAAMCIyFB2QgAAgO4aUXZCAABAVG1RdkIAAAC6v1F2QgAAwB8SUnZCAACAhWRSdkIAAEDrtlJ2QgAAAFEJU3ZCAADAtltTdkIAAIAcrlN2QgAAQIIAVHZCAAAA6FJUdkIAAMBNpVR2QgAAgLP3VHZCAABAGUpVdkIAAAB/nFV2QgAAwOTuVXZCAACASkFWdkIAAECwk1Z2QgAAABbmVnZCAADAezhXdkIAAIDhild2QgAAQEfdV3ZCAAAArS9YdkIAAMASglh2QgAAgHjUWHZCAABA3iZZdkIAAABEeVl2QgAAwKnLWXZCAACADx5adkIAAEB1cFp2QgAAANvCWnZCAADAQBVbdkIAAICmZ1t2QgAAQAy6W3ZCAAAAcgxcdkIAAMDXXlx2QgAAgD2xXHZCAABAowNddkIAAAAJVl12QgAAwG6oXXZCAACA1PpddkIAAEA6TV52QgAAAKCfXnZCAADABfJedkIAAIBrRF92QgAAQNGWX3ZCAAAAN+lfdkIAAMCcO2B2QgAAgAKOYHZCAABAaOBgdkIAAADOMmF2QgAAwDOFYXZCAACAmddhdkIAAED/KWJ2QgAAAGV8YnZCAADAys5idkIAAIAwIWN2QgAAQJZzY3ZCAAAA/MVjdkIAAMBhGGR2QgAAgMdqZHZCAABALb1kdkIAAACTD2V2QgAAwPhhZXZCAACAXrRldkIAAEDEBmZ2QgAAACpZZnZCAADAj6tmdkIAAID1/WZ2QgAAQFtQZ3ZCAAAAwaJndkIAAMAm9Wd2QgAAgIxHaHZCAABA8plodkIAAABY7Gh2QgAAwL0+aXZCAACAI5FpdkIAAECJ42l2QgAAAO81anZCAADAVIhqdkIAAIC62mp2QgAAQCAta3ZCAAAAhn9rdkIAAMDr0Wt2QgAAgFEkbHZCAABAt3ZsdkIAAAAdyWx2QgAAwIIbbXZCAACA6G1tdkIAAEBOwG12QgAAALQSbnZCAADAGWVudkIAAIB/t252QgAAQOUJb3ZCAAAAS1xvdkIAAMCwrm92QgAAgBYBcHZCAABAfFNwdkIAAADipXB2QgAAwEf4cHZCAACArUpxdkIAAEATnXF2QgAAAHnvcXZCAADA3kFydkIAAIBElHJ2QgAAQKrmcnZCAAAAEDlzdkIAAMB1i3N2QgAAgNvdc3ZCAABAQTB0dkIAAACngnR2QgAAwAzVdHZCAACAcid1dkIAAEDYeXV2QgAAAD7MdXZCAADAox52dkIAAIAJcXZ2QgAAQG/DdnZCAAAA1RV3dkIAAMA6aHd2QgAAgKC6d3ZCAABABg14dkIAAABsX3h2QgAAwNGxeHZCAACANwR5dkIAAECdVnl2QgAAAAOpeXZCAADAaPt5dkIAAIDOTXp2QgAAQDSgenZCAAAAmvJ6dkIAAMD/RHt2QgAAgGWXe3ZCAABAy+l7dkIAAAAxPHx2QgAAwJaOfHZCAACA/OB8dkIAAEBiM312QgAAAMiFfXZCAADALdh9dkIAAICTKn52QgAAQPl8fnZCAAAAX89+dkIAAMDEIX92QgAAgCp0f3ZCAABAkMZ/dkIAAAD2GIB2QgAAwFtrgHZCAACAwb2AdkIAAEAnEIF2QgAAAI1igXZCAADA8rSBdkIAAIBYB4J2QgAAQL5ZgnZCAAAAJKyCdkIAAMCJ/oJ2QgAAgO9Qg3ZCAABAVaODdkIAAAC79YN2QgAAwCBIhHZCAACAhpqEdkIAAEDs7IR2QgAAAFI/hXZCAADAt5GFdkIAAIAd5IV2QgAAQIM2hnZCAAAA6YiGdkIAAMBO24Z2QgAAgLQth3ZCAABAGoCHdkIAAACA0od2QgAAwOUkiHZCAACAS3eIdkIAAECxyYh2QgAAABcciXZCAADAfG6JdkIAAIDiwIl2QgAAQEgTinZCAAAArmWKdkIAAMATuIp2QgAAgHkKi3ZCAABA31yLdkIAAABFr4t2QgAAwKoBjHZCAACAEFSMdkIAAEB2pox2QgAAANz4jHZCAADAQUuNdkIAAICnnY12QgAAQA3wjXZCAAAAc0KOdkIAAMDYlI52QgAAgD7njnZCAABApDmPdkIAAAAKjI92QgAAwG/ej3ZCAACA1TCQdkIAAEA7g5B2QgAAAKHVkHZCAADABiiRdkIAAIBsepF2QgAAQNLMkXZCAAAAOB+SdkIAAMCdcZJ2QgAAgAPEknZCAABAaRaTdkIAAADPaJN2QgAAwDS7k3ZCAACAmg2UdkIAAEAAYJR2QgAAAGaylHZCAADAywSVdkIAAIAxV5V2QgAAQJeplXZCAAAA/fuVdkIAAMBiTpZ2QgAAgMiglnZCAABALvOWdkIAAACURZd2QgAAwPmXl3ZCAACAX+qXdkIAAEDFPJh2QgAAACuPmHZCAADAkOGYdkIAAID2M5l2QgAAQFyGmXZCAAAAwtiZdkIAAMAnK5p2QgAAgI19mnZCAABA88+adkIAAABZIpt2QgAAwL50m3ZCAACAJMebdkIAAECKGZx2QgAAAPBrnHZCAADAVb6cdkIAAIC7EJ12QgAAQCFjnXZCAAAAh7WddkIAAMDsB552QgAAgFJannZCAABAuKyedkIAAAAe/552QgAAwINRn3ZCAACA6aOfdkIAAEBP9p92QgAAALVIoHZCAADAGpugdkIAAICA7aB2QgAAQOY/oXZCAAAATJKhdkIAAMCx5KF2QgAAgBc3onZCAABAfYmidkIAAADj26J2QgAAwEguo3ZCAACAroCjdkIAAEAU06N2QgAAAHolpHZCAADA33ekdkIAAIBFyqR2QgAAQKscpXZCAAAAEW+ldkIAAMB2waV2QgAAgNwTpnZCAABAQmamdkIAAACouKZ2QgAAwA0Lp3ZCAACAc12ndkIAAEDZr6d2QgAAAD8CqHZCAADApFSodkIAAIAKp6h2QgAAQHD5qHZCAAAA1kupdkIAAMA7nql2QgAAgKHwqXZCAABAB0OqdkIAAABtlap2QgAAwNLnqnZCAACAODqrdkIAAECejKt2Qg==\",\"dtype\":\"float64\",\"shape\":[500]},\"y\":{\"__ndarray__\":\"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\",\"dtype\":\"float64\",\"shape\":[500]}},\"selected\":{\"id\":\"13202\",\"type\":\"Selection\"},\"selection_policy\":{\"id\":\"13201\",\"type\":\"UnionRenderers\"}},\"id\":\"13142\",\"type\":\"ColumnDataSource\"},{\"attributes\":{\"days\":[1,15]},\"id\":\"13105\",\"type\":\"DaysTicker\"},{\"attributes\":{\"mantissas\":[1,2,5],\"max_interval\":500.0,\"num_minor_ticks\":0},\"id\":\"13099\",\"type\":\"AdaptiveTicker\"}],\"root_ids\":[\"13052\"]},\"title\":\"Bokeh Application\",\"version\":\"1.0.4\"}};\n",
       "  var render_items = [{\"docid\":\"7df9be1c-14aa-4d6e-9e04-d5820abdee0a\",\"roots\":{\"13052\":\"c68edfb9-070b-48d6-808c-3e7a52f1d596\"}}];\n",
       "  root.Bokeh.embed.embed_items_notebook(docs_json, render_items);\n",
       "\n",
       "  }\n",
       "  if (root.Bokeh !== undefined) {\n",
       "    embed_document(root);\n",
       "  } else {\n",
       "    var attempts = 0;\n",
       "    var timer = setInterval(function(root) {\n",
       "      if (root.Bokeh !== undefined) {\n",
       "        embed_document(root);\n",
       "        clearInterval(timer);\n",
       "      }\n",
       "      attempts++;\n",
       "      if (attempts > 100) {\n",
       "        console.log(\"Bokeh: ERROR: Unable to run BokehJS code because BokehJS library is missing\");\n",
       "        clearInterval(timer);\n",
       "      }\n",
       "    }, 10, root)\n",
       "  }\n",
       "})(window);"
      ],
      "application/vnd.bokehjs_exec.v0+json": ""
     },
     "metadata": {
      "application/vnd.bokehjs_exec.v0+json": {
       "id": "13052"
      }
     },
     "output_type": "display_data"
    }
   ],
   "source": [
    "# 1、筛选数据 - 消隐\n",
    "# legend.click_policy\n",
    "\n",
    "from bokeh.palettes import Spectral4\n",
    "# 导入颜色模块\n",
    "\n",
    "df = pd.DataFrame({'A':np.random.randn(500).cumsum(),\n",
    "                  'B':np.random.randn(500).cumsum(),\n",
    "                  'C':np.random.randn(500).cumsum(),\n",
    "                  'D':np.random.randn(500).cumsum()},\n",
    "                 index = pd.date_range('20180101',freq = 'D',periods=500))\n",
    "# 创建数据\n",
    "\n",
    "p = figure(plot_width=800, plot_height=400, x_axis_type=\"datetime\")\n",
    "p.title.text = '点击图例来隐藏数据'\n",
    "\n",
    "for col,color in zip(df.columns.tolist(),Spectral4):\n",
    "    p.line(df.index,df[col],line_width=2, color=color, alpha=0.8,legend = col,\n",
    "           muted_color=color, muted_alpha=0.2)   # 设置消隐后的显示颜色、透明度\n",
    "\n",
    "p.legend.location = \"top_left\"\n",
    "p.legend.click_policy=\"mute\"\n",
    "# 设置图例，点击隐藏\n",
    "\n",
    "show(p)"
   ]
  },
  {
   "cell_type": "code",
   "execution_count": 40,
   "metadata": {},
   "outputs": [
    {
     "data": {
      "text/html": [
       "\n",
       "\n",
       "\n",
       "\n",
       "\n",
       "\n",
       "  <div class=\"bk-root\" id=\"310bf02a-9729-4211-b72a-14b00c4f120e\" data-root-id=\"13884\"></div>\n"
      ]
     },
     "metadata": {},
     "output_type": "display_data"
    },
    {
     "data": {
      "application/javascript": [
       "(function(root) {\n",
       "  function embed_document(root) {\n",
       "    \n",
       "  var docs_json = {\"c0b1dc02-44d9-4781-bfa7-8d77a45d9010\":{\"roots\":{\"references\":[{\"attributes\":{\"callback\":null,\"tabs\":[{\"id\":\"13843\",\"type\":\"Panel\"},{\"id\":\"13883\",\"type\":\"Panel\"}]},\"id\":\"13884\",\"type\":\"Tabs\"},{\"attributes\":{\"dimension\":1,\"plot\":{\"id\":\"13844\",\"subtype\":\"Figure\",\"type\":\"Plot\"},\"ticker\":{\"id\":\"13859\",\"type\":\"BasicTicker\"}},\"id\":\"13862\",\"type\":\"Grid\"},{\"attributes\":{},\"id\":\"13868\",\"type\":\"HelpTool\"},{\"attributes\":{},\"id\":\"13828\",\"type\":\"HelpTool\"},{\"attributes\":{},\"id\":\"13809\",\"type\":\"LinearScale\"},{\"attributes\":{},\"id\":\"14340\",\"type\":\"Selection\"},{\"attributes\":{},\"id\":\"13819\",\"type\":\"BasicTicker\"},{\"attributes\":{\"line_alpha\":0.1,\"line_color\":\"#1f77b4\",\"line_width\":3,\"x\":{\"field\":\"x\"},\"y\":{\"field\":\"y\"}},\"id\":\"13880\",\"type\":\"Line\"},{\"attributes\":{\"active_drag\":\"auto\",\"active_inspect\":\"auto\",\"active_multi\":null,\"active_scroll\":\"auto\",\"active_tap\":\"auto\",\"tools\":[{\"id\":\"13823\",\"type\":\"PanTool\"},{\"id\":\"13824\",\"type\":\"WheelZoomTool\"},{\"id\":\"13825\",\"type\":\"BoxZoomTool\"},{\"id\":\"13826\",\"type\":\"SaveTool\"},{\"id\":\"13827\",\"type\":\"ResetTool\"},{\"id\":\"13828\",\"type\":\"HelpTool\"}]},\"id\":\"13829\",\"type\":\"Toolbar\"},{\"attributes\":{\"source\":{\"id\":\"13838\",\"type\":\"ColumnDataSource\"}},\"id\":\"13842\",\"type\":\"CDSView\"},{\"attributes\":{\"line_alpha\":0.5,\"line_color\":\"navy\",\"line_width\":3,\"x\":{\"field\":\"x\"},\"y\":{\"field\":\"y\"}},\"id\":\"13879\",\"type\":\"Line\"},{\"attributes\":{\"child\":{\"id\":\"13844\",\"subtype\":\"Figure\",\"type\":\"Plot\"},\"title\":\"line\"},\"id\":\"13883\",\"type\":\"Panel\"},{\"attributes\":{\"dimension\":1,\"plot\":{\"id\":\"13804\",\"subtype\":\"Figure\",\"type\":\"Plot\"},\"ticker\":{\"id\":\"13819\",\"type\":\"BasicTicker\"}},\"id\":\"13822\",\"type\":\"Grid\"},{\"attributes\":{\"bottom_units\":\"screen\",\"fill_alpha\":{\"value\":0.5},\"fill_color\":{\"value\":\"lightgrey\"},\"left_units\":\"screen\",\"level\":\"overlay\",\"line_alpha\":{\"value\":1.0},\"line_color\":{\"value\":\"black\"},\"line_dash\":[4,4],\"line_width\":{\"value\":2},\"plot\":null,\"render_mode\":\"css\",\"right_units\":\"screen\",\"top_units\":\"screen\"},\"id\":\"13831\",\"type\":\"BoxAnnotation\"},{\"attributes\":{\"child\":{\"id\":\"13804\",\"subtype\":\"Figure\",\"type\":\"Plot\"},\"title\":\"circle\"},\"id\":\"13843\",\"type\":\"Panel\"},{\"attributes\":{},\"id\":\"13827\",\"type\":\"ResetTool\"},{\"attributes\":{},\"id\":\"13863\",\"type\":\"PanTool\"},{\"attributes\":{\"fill_alpha\":{\"value\":0.1},\"fill_color\":{\"value\":\"#1f77b4\"},\"line_alpha\":{\"value\":0.1},\"line_color\":{\"value\":\"#1f77b4\"},\"size\":{\"units\":\"screen\",\"value\":20},\"x\":{\"field\":\"x\"},\"y\":{\"field\":\"y\"}},\"id\":\"13840\",\"type\":\"Circle\"},{\"attributes\":{\"fill_alpha\":{\"value\":0.5},\"fill_color\":{\"value\":\"navy\"},\"line_alpha\":{\"value\":0.5},\"line_color\":{\"value\":\"navy\"},\"size\":{\"units\":\"screen\",\"value\":20},\"x\":{\"field\":\"x\"},\"y\":{\"field\":\"y\"}},\"id\":\"13839\",\"type\":\"Circle\"},{\"attributes\":{},\"id\":\"13864\",\"type\":\"WheelZoomTool\"},{\"attributes\":{\"data_source\":{\"id\":\"13838\",\"type\":\"ColumnDataSource\"},\"glyph\":{\"id\":\"13839\",\"type\":\"Circle\"},\"hover_glyph\":null,\"muted_glyph\":null,\"nonselection_glyph\":{\"id\":\"13840\",\"type\":\"Circle\"},\"selection_glyph\":null,\"view\":{\"id\":\"13842\",\"type\":\"CDSView\"}},\"id\":\"13841\",\"type\":\"GlyphRenderer\"},{\"attributes\":{\"active_drag\":\"auto\",\"active_inspect\":\"auto\",\"active_multi\":null,\"active_scroll\":\"auto\",\"active_tap\":\"auto\",\"tools\":[{\"id\":\"13863\",\"type\":\"PanTool\"},{\"id\":\"13864\",\"type\":\"WheelZoomTool\"},{\"id\":\"13865\",\"type\":\"BoxZoomTool\"},{\"id\":\"13866\",\"type\":\"SaveTool\"},{\"id\":\"13867\",\"type\":\"ResetTool\"},{\"id\":\"13868\",\"type\":\"HelpTool\"}]},\"id\":\"13869\",\"type\":\"Toolbar\"},{\"attributes\":{\"plot\":null,\"text\":\"\"},\"id\":\"14324\",\"type\":\"Title\"},{\"attributes\":{\"data_source\":{\"id\":\"13878\",\"type\":\"ColumnDataSource\"},\"glyph\":{\"id\":\"13879\",\"type\":\"Line\"},\"hover_glyph\":null,\"muted_glyph\":null,\"nonselection_glyph\":{\"id\":\"13880\",\"type\":\"Line\"},\"selection_glyph\":null,\"view\":{\"id\":\"13882\",\"type\":\"CDSView\"}},\"id\":\"13881\",\"type\":\"GlyphRenderer\"},{\"attributes\":{},\"id\":\"13826\",\"type\":\"SaveTool\"},{\"attributes\":{\"plot\":null,\"text\":\"\"},\"id\":\"14326\",\"type\":\"Title\"},{\"attributes\":{\"formatter\":{\"id\":\"14329\",\"type\":\"BasicTickFormatter\"},\"plot\":{\"id\":\"13804\",\"subtype\":\"Figure\",\"type\":\"Plot\"},\"ticker\":{\"id\":\"13819\",\"type\":\"BasicTicker\"}},\"id\":\"13818\",\"type\":\"LinearAxis\"},{\"attributes\":{\"callback\":null},\"id\":\"13805\",\"type\":\"DataRange1d\"},{\"attributes\":{\"bottom_units\":\"screen\",\"fill_alpha\":{\"value\":0.5},\"fill_color\":{\"value\":\"lightgrey\"},\"left_units\":\"screen\",\"level\":\"overlay\",\"line_alpha\":{\"value\":1.0},\"line_color\":{\"value\":\"black\"},\"line_dash\":[4,4],\"line_width\":{\"value\":2},\"plot\":null,\"render_mode\":\"css\",\"right_units\":\"screen\",\"top_units\":\"screen\"},\"id\":\"13871\",\"type\":\"BoxAnnotation\"},{\"attributes\":{\"below\":[{\"id\":\"13853\",\"type\":\"LinearAxis\"}],\"left\":[{\"id\":\"13858\",\"type\":\"LinearAxis\"}],\"plot_height\":300,\"plot_width\":500,\"renderers\":[{\"id\":\"13853\",\"type\":\"LinearAxis\"},{\"id\":\"13857\",\"type\":\"Grid\"},{\"id\":\"13858\",\"type\":\"LinearAxis\"},{\"id\":\"13862\",\"type\":\"Grid\"},{\"id\":\"13871\",\"type\":\"BoxAnnotation\"},{\"id\":\"13881\",\"type\":\"GlyphRenderer\"}],\"title\":{\"id\":\"14326\",\"type\":\"Title\"},\"toolbar\":{\"id\":\"13869\",\"type\":\"Toolbar\"},\"x_range\":{\"id\":\"13845\",\"type\":\"DataRange1d\"},\"x_scale\":{\"id\":\"13849\",\"type\":\"LinearScale\"},\"y_range\":{\"id\":\"13847\",\"type\":\"DataRange1d\"},\"y_scale\":{\"id\":\"13851\",\"type\":\"LinearScale\"}},\"id\":\"13844\",\"subtype\":\"Figure\",\"type\":\"Plot\"},{\"attributes\":{\"callback\":null,\"data\":{\"x\":[1,2,3,4,5],\"y\":[6,7,2,4,5]},\"selected\":{\"id\":\"14337\",\"type\":\"Selection\"},\"selection_policy\":{\"id\":\"14336\",\"type\":\"UnionRenderers\"}},\"id\":\"13838\",\"type\":\"ColumnDataSource\"},{\"attributes\":{\"source\":{\"id\":\"13878\",\"type\":\"ColumnDataSource\"}},\"id\":\"13882\",\"type\":\"CDSView\"},{\"attributes\":{\"below\":[{\"id\":\"13813\",\"type\":\"LinearAxis\"}],\"left\":[{\"id\":\"13818\",\"type\":\"LinearAxis\"}],\"plot_height\":300,\"plot_width\":500,\"renderers\":[{\"id\":\"13813\",\"type\":\"LinearAxis\"},{\"id\":\"13817\",\"type\":\"Grid\"},{\"id\":\"13818\",\"type\":\"LinearAxis\"},{\"id\":\"13822\",\"type\":\"Grid\"},{\"id\":\"13831\",\"type\":\"BoxAnnotation\"},{\"id\":\"13841\",\"type\":\"GlyphRenderer\"}],\"title\":{\"id\":\"14324\",\"type\":\"Title\"},\"toolbar\":{\"id\":\"13829\",\"type\":\"Toolbar\"},\"x_range\":{\"id\":\"13805\",\"type\":\"DataRange1d\"},\"x_scale\":{\"id\":\"13809\",\"type\":\"LinearScale\"},\"y_range\":{\"id\":\"13807\",\"type\":\"DataRange1d\"},\"y_scale\":{\"id\":\"13811\",\"type\":\"LinearScale\"}},\"id\":\"13804\",\"subtype\":\"Figure\",\"type\":\"Plot\"},{\"attributes\":{\"callback\":null,\"data\":{\"x\":[1,2,3,4,5],\"y\":[4,2,3,8,6]},\"selected\":{\"id\":\"14340\",\"type\":\"Selection\"},\"selection_policy\":{\"id\":\"14339\",\"type\":\"UnionRenderers\"}},\"id\":\"13878\",\"type\":\"ColumnDataSource\"},{\"attributes\":{\"callback\":null},\"id\":\"13845\",\"type\":\"DataRange1d\"},{\"attributes\":{\"callback\":null},\"id\":\"13847\",\"type\":\"DataRange1d\"},{\"attributes\":{\"formatter\":{\"id\":\"14327\",\"type\":\"BasicTickFormatter\"},\"plot\":{\"id\":\"13804\",\"subtype\":\"Figure\",\"type\":\"Plot\"},\"ticker\":{\"id\":\"13814\",\"type\":\"BasicTicker\"}},\"id\":\"13813\",\"type\":\"LinearAxis\"},{\"attributes\":{},\"id\":\"13849\",\"type\":\"LinearScale\"},{\"attributes\":{},\"id\":\"14327\",\"type\":\"BasicTickFormatter\"},{\"attributes\":{},\"id\":\"13814\",\"type\":\"BasicTicker\"},{\"attributes\":{\"plot\":{\"id\":\"13804\",\"subtype\":\"Figure\",\"type\":\"Plot\"},\"ticker\":{\"id\":\"13814\",\"type\":\"BasicTicker\"}},\"id\":\"13817\",\"type\":\"Grid\"},{\"attributes\":{},\"id\":\"13851\",\"type\":\"LinearScale\"},{\"attributes\":{},\"id\":\"14329\",\"type\":\"BasicTickFormatter\"},{\"attributes\":{\"formatter\":{\"id\":\"14331\",\"type\":\"BasicTickFormatter\"},\"plot\":{\"id\":\"13844\",\"subtype\":\"Figure\",\"type\":\"Plot\"},\"ticker\":{\"id\":\"13854\",\"type\":\"BasicTicker\"}},\"id\":\"13853\",\"type\":\"LinearAxis\"},{\"attributes\":{},\"id\":\"14331\",\"type\":\"BasicTickFormatter\"},{\"attributes\":{},\"id\":\"13823\",\"type\":\"PanTool\"},{\"attributes\":{},\"id\":\"13854\",\"type\":\"BasicTicker\"},{\"attributes\":{},\"id\":\"13811\",\"type\":\"LinearScale\"},{\"attributes\":{},\"id\":\"14333\",\"type\":\"BasicTickFormatter\"},{\"attributes\":{},\"id\":\"13867\",\"type\":\"ResetTool\"},{\"attributes\":{\"plot\":{\"id\":\"13844\",\"subtype\":\"Figure\",\"type\":\"Plot\"},\"ticker\":{\"id\":\"13854\",\"type\":\"BasicTicker\"}},\"id\":\"13857\",\"type\":\"Grid\"},{\"attributes\":{},\"id\":\"13824\",\"type\":\"WheelZoomTool\"},{\"attributes\":{},\"id\":\"14336\",\"type\":\"UnionRenderers\"},{\"attributes\":{},\"id\":\"13866\",\"type\":\"SaveTool\"},{\"attributes\":{\"overlay\":{\"id\":\"13831\",\"type\":\"BoxAnnotation\"}},\"id\":\"13825\",\"type\":\"BoxZoomTool\"},{\"attributes\":{\"overlay\":{\"id\":\"13871\",\"type\":\"BoxAnnotation\"}},\"id\":\"13865\",\"type\":\"BoxZoomTool\"},{\"attributes\":{\"formatter\":{\"id\":\"14333\",\"type\":\"BasicTickFormatter\"},\"plot\":{\"id\":\"13844\",\"subtype\":\"Figure\",\"type\":\"Plot\"},\"ticker\":{\"id\":\"13859\",\"type\":\"BasicTicker\"}},\"id\":\"13858\",\"type\":\"LinearAxis\"},{\"attributes\":{},\"id\":\"14337\",\"type\":\"Selection\"},{\"attributes\":{\"callback\":null},\"id\":\"13807\",\"type\":\"DataRange1d\"},{\"attributes\":{},\"id\":\"13859\",\"type\":\"BasicTicker\"},{\"attributes\":{},\"id\":\"14339\",\"type\":\"UnionRenderers\"}],\"root_ids\":[\"13884\"]},\"title\":\"Bokeh Application\",\"version\":\"1.0.4\"}};\n",
       "  var render_items = [{\"docid\":\"c0b1dc02-44d9-4781-bfa7-8d77a45d9010\",\"roots\":{\"13884\":\"310bf02a-9729-4211-b72a-14b00c4f120e\"}}];\n",
       "  root.Bokeh.embed.embed_items_notebook(docs_json, render_items);\n",
       "\n",
       "  }\n",
       "  if (root.Bokeh !== undefined) {\n",
       "    embed_document(root);\n",
       "  } else {\n",
       "    var attempts = 0;\n",
       "    var timer = setInterval(function(root) {\n",
       "      if (root.Bokeh !== undefined) {\n",
       "        embed_document(root);\n",
       "        clearInterval(timer);\n",
       "      }\n",
       "      attempts++;\n",
       "      if (attempts > 100) {\n",
       "        console.log(\"Bokeh: ERROR: Unable to run BokehJS code because BokehJS library is missing\");\n",
       "        clearInterval(timer);\n",
       "      }\n",
       "    }, 10, root)\n",
       "  }\n",
       "})(window);"
      ],
      "application/vnd.bokehjs_exec.v0+json": ""
     },
     "metadata": {
      "application/vnd.bokehjs_exec.v0+json": {
       "id": "13884"
      }
     },
     "output_type": "display_data"
    }
   ],
   "source": [
    "# 2、交互小工具\n",
    "# 图表分页\n",
    "\n",
    "from bokeh.models.widgets import Panel, Tabs\n",
    "# 导入panel，tabs模块\n",
    "\n",
    "p1 = figure(plot_width=500, plot_height=300)\n",
    "p1.circle([1, 2, 3, 4, 5], [6, 7, 2, 4, 5], size=20, color=\"navy\", alpha=0.5)\n",
    "tab1 = Panel(child=p1, title=\"circle\")\n",
    "# child → 页码\n",
    "# title → 分页名称\n",
    "\n",
    "p2 = figure(plot_width=500, plot_height=300)\n",
    "p2.line([1, 2, 3, 4, 5], [4, 2, 3, 8, 6], line_width=3, color=\"navy\", alpha=0.5)\n",
    "tab2 = Panel(child=p2, title=\"line\")\n",
    "\n",
    "tabs = Tabs(tabs=[ tab1, tab2 ])\n",
    "# 设置分页图表\n",
    "p.legend.click_policy='hide'\n",
    "show(tabs)"
   ]
  },
  {
   "cell_type": "code",
   "execution_count": null,
   "metadata": {},
   "outputs": [],
   "source": []
  },
  {
   "cell_type": "code",
   "execution_count": null,
   "metadata": {},
   "outputs": [],
   "source": []
  },
  {
   "cell_type": "code",
   "execution_count": null,
   "metadata": {},
   "outputs": [],
   "source": []
  },
  {
   "cell_type": "code",
   "execution_count": null,
   "metadata": {},
   "outputs": [],
   "source": []
  }
 ],
 "metadata": {
  "kernelspec": {
   "display_name": "Python 3",
   "language": "python",
   "name": "python3"
  },
  "language_info": {
   "codemirror_mode": {
    "name": "ipython",
    "version": 3
   },
   "file_extension": ".py",
   "mimetype": "text/x-python",
   "name": "python",
   "nbconvert_exporter": "python",
   "pygments_lexer": "ipython3",
   "version": "3.7.3"
  }
 },
 "nbformat": 4,
 "nbformat_minor": 2
}
