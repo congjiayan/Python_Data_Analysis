{
 "cells": [
  {
   "cell_type": "code",
   "execution_count": null,
   "metadata": {
    "collapsed": true
   },
   "outputs": [],
   "source": [
    "'''\n",
    "【项目05】  多场景下的算法构建\n",
    "\n",
    "课程数据：\n",
    "某公司A,B产品在2018年1,2,3月的销量数据，数据格式为xlsx\n",
    "\n",
    "作业要求：\n",
    "1、批量读取数据，并输出以下信息\n",
    "（1）数据量\n",
    "（2）数据字段columns\n",
    "（3）输出每个文件分别有多少缺失值\n",
    "要求：\n",
    "① 创建独立函数，从读取数据到以上输出要求\n",
    "② 运行代码多次调用创建函数，对数据进行批量处理\n",
    "提示：\n",
    "① 将课程excel数据放入单独文件夹(建议英文路径)，函数中通过input来输入excel数据所在文件夹路径，再通过遍历来读取文件\n",
    "② pd.read_excel()中用“index_col”参数，将第一列变为index\n",
    "③ os.walk(path) → 返回路径中的信息及文件，结果为一个生成器\n",
    "④ 定位缺失值位置：data[data.isnull().values == True]\n",
    "\n",
    "2、批量读取数据，用均值填充缺失值数据，并完成以下计算及图表制作\n",
    "（1）读取数据并用均值填充缺失值；对“日期”字段进行时间序列处理，转换成日period ，最后输出三个Dataframe文件data1,data2,data3\n",
    "（2）分别计算data1，data2，data3中A,B产品的月总销量，并绘制多系列柱状图，存储在对应的图片文件夹路径\n",
    "（3）分别计算A产品在每个月中哪一天超过了月度80%的销量，输出日期\n",
    "要求：\n",
    "① 分别创建四个函数，对应完成上述需求\n",
    "② 数据文件夹路径和图片存储路径不要相同\n",
    "提示：\n",
    "① 时间序列转换方法提示：pd.to_period\n",
    "② 时间戳Timestampe转化成字符串用str()方法\n",
    "\n",
    "3、读取数据并合并，做散点图观察A,B产品销量，并做回归，预测当A销量为1200时，B产品销量值\n",
    "（1）读取数据删除缺失值；对“日期”字段进行时间序列处理，转换成日period ，合并三个月数据，输出data；\n",
    "（2）针对A产品销量和B产品销量数据做回归分析，制作散点图并存储，并预测当A销量为1200时，B产品销量值\n",
    "要求：\n",
    "① 分别创建两个函数，对应完成上述需求\n",
    "② 数据文件夹路径和图片存储路径不要相同\n",
    "提示：\n",
    "① 用pd.dripna方法去掉缺失值，注意inplace参数\n",
    "\n",
    "'''"
   ]
  },
  {
   "cell_type": "code",
   "execution_count": 1,
   "metadata": {
    "collapsed": true
   },
   "outputs": [],
   "source": [
    "import numpy as np\n",
    "import pandas as pd\n",
    "import matplotlib.pyplot as plt\n",
    "from sklearn.linear_model import LinearRegression\n",
    "import os\n",
    "% matplotlib inline"
   ]
  }
 ],
 "metadata": {
  "anaconda-cloud": {},
  "kernelspec": {
   "display_name": "Python 3",
   "language": "python",
   "name": "python3"
  },
  "language_info": {
   "codemirror_mode": {
    "name": "ipython",
    "version": 3
   },
   "file_extension": ".py",
   "mimetype": "text/x-python",
   "name": "python",
   "nbconvert_exporter": "python",
   "pygments_lexer": "ipython3",
   "version": "3.7.3"
  }
 },
 "nbformat": 4,
 "nbformat_minor": 1
}
