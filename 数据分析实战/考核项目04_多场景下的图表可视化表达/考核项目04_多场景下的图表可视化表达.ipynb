{
 "cells": [
  {
   "cell_type": "code",
   "execution_count": null,
   "metadata": {
    "collapsed": true
   },
   "outputs": [],
   "source": [
    "'''\n",
    "【项目06】  多场景下的图表可视化表达\n",
    "\n",
    "课程数据：\n",
    "2016年奥运运动员数据，数据格式为xlsx，分3个sheet\n",
    "\n",
    "1、分男女分别分析运动员的身高分布，并制作图表，数据为“奥运运动员数据.xlsx，sheet → 运动员信息”\n",
    "要求：\n",
    "① 制作分布密度图\n",
    "② 计算出男女平均身高，并绘制辅助线表示\n",
    "提示：\n",
    "① 可视化制图方法 → sns.distplot()\n",
    "② 辅助线制图方法 → plt.axvline()\n",
    "③ 分男女分别筛选数据并制作图表\n",
    "④ 不需要创建函数\n",
    "\n",
    "2、综合指标判断运动员的身材，并找到TOP8的运动员，并制作图表，数据为“奥运运动员数据.xlsx，sheet → 运动员信息”\n",
    "要求：\n",
    "① 针对不同指标，绘制面积堆叠图\n",
    "② TOP8的运动员，绘制雷达图表示\n",
    "提示：\n",
    "① 四个指标评判运动员身材，并加权平均\n",
    "   a. BMI 指数（BMI =体重kg ÷ 身高m**2，详细信息可百度查询）→ 越接近22分数越高\n",
    "   b. 腿长/身高 指数 → 数据筛选，只选取小于0.7的数据，越大分数越高\n",
    "   c. 臂展/身高 指数 → 数据筛选，只选取大于0.7的数据，比值越接近1分数越高\n",
    "   d. 年龄 指数 → 年龄越小分数越高\n",
    "   对上述abcd指标分别标准化得到n1,n2,n3,n4（划分到0-1的分值）\n",
    "   最后评分： finalscore = (n1 + n2 + n3 + n4)/4\n",
    "② 制作堆叠面积图，data.plot.area()\n",
    "③ 雷达图需要构建子图 + for循环遍历得到\n",
    "\n",
    "3、根据运动员CP数据，分析出CP综合热度，通过python处理数据并导出，在Gephi中绘制图表，数据为“奥运运动员数据.xlsx，sheet → 运动员CP热度”\n",
    "要求：\n",
    "① 用python计算出综合热度指标\n",
    "② 用Gephi绘制关系可视化图表\n",
    "提示：\n",
    "① 三个指标评判运动员CP综合热度，并加权平均\n",
    "   a. cp微博数量 → 数量越多分数越高\n",
    "   b. cp微博话题阅读量 → 阅读量越多分数越高\n",
    "   c. B站cp视频播放量 → 播放量越大分数越高\n",
    "   对上述abcd指标分别标准化得到n1,n2,n3,n4（划分到0-1的分值）\n",
    "   最后评分： finalscore = n1*0.5 + n2*0.3 + n3*0.2\n",
    "② Gephi中布局模式选择“ForceAtlas2”\n",
    "③ Gephi中通过模块化计算，给关联结果做分组，并且以此分组设定点颜色\n",
    "\n",
    "'''"
   ]
  },
  {
   "cell_type": "code",
   "execution_count": null,
   "metadata": {
    "collapsed": true
   },
   "outputs": [],
   "source": [
    "import numpy as np\n",
    "import pandas as pd\n",
    "import matplotlib.pyplot as plt\n",
    "import seaborn as sns\n",
    "% matplotlib inline\n",
    "\n",
    "import warnings\n",
    "warnings.filterwarnings('ignore') "
   ]
  }
 ],
 "metadata": {
  "anaconda-cloud": {},
  "kernelspec": {
   "display_name": "Python 3",
   "language": "python",
   "name": "python3"
  },
  "language_info": {
   "codemirror_mode": {
    "name": "ipython",
    "version": 3
   },
   "file_extension": ".py",
   "mimetype": "text/x-python",
   "name": "python",
   "nbconvert_exporter": "python",
   "pygments_lexer": "ipython3",
   "version": "3.7.3"
  }
 },
 "nbformat": 4,
 "nbformat_minor": 1
}
