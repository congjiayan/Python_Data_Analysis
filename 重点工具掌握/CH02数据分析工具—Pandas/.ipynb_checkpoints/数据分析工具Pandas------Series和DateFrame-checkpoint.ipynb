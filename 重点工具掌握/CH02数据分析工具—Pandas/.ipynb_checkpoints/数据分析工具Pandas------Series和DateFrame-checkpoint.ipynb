{
 "cells": [
  {
   "cell_type": "code",
   "execution_count": 1,
   "metadata": {},
   "outputs": [
    {
     "data": {
      "text/plain": [
       "'\\n【课程2.2】  Pandas数据结构Series：基本概念及创建\\n\\n\"一维数组\"Serise\\n\\n'"
      ]
     },
     "execution_count": 1,
     "metadata": {},
     "output_type": "execute_result"
    }
   ],
   "source": [
    "'''\n",
    "【课程2.2】  Pandas数据结构Series：基本概念及创建\n",
    "\n",
    "\"一维数组\"Serise\n",
    "\n",
    "'''"
   ]
  },
  {
   "cell_type": "code",
   "execution_count": 7,
   "metadata": {},
   "outputs": [
    {
     "name": "stdout",
     "output_type": "stream",
     "text": [
      "0    0.961754\n",
      "1    0.878285\n",
      "2    0.329280\n",
      "3    0.220845\n",
      "4    0.563773\n",
      "dtype: float64\n",
      "<class 'pandas.core.series.Series'>\n",
      "RangeIndex(start=0, stop=5, step=1) <class 'pandas.core.indexes.range.RangeIndex'>\n",
      "[0.96175398 0.87828475 0.32928021 0.22084544 0.56377304] <class 'numpy.ndarray'>\n"
     ]
    }
   ],
   "source": [
    "# Series 数据结构\n",
    "# Series 是带有标签的一维数组，可以保存任何数据类型（整数，字符串，浮点数，Python对象等）,轴标签统称为索引\n",
    "\n",
    "import numpy as np\n",
    "import pandas as pd\n",
    "\n",
    "s = pd.Series(np.random.rand(5))\n",
    "print(s)\n",
    "print(type(s))\n",
    "\n",
    "print(s.index,type(s.index))      # .index查看series索引，类型为rangeindex\n",
    "print(s.values,type(s.values))    # .values查看series值，类型是ndarray\n",
    "\n",
    "# 核心：series相比于ndarray，是一个自带索引index的数组 → 一维数组 + 对应索引\n",
    "# 所以当只看series的值的时候，就是一个ndarray\n",
    "# series和ndarray较相似，索引切片功能差别不大\n",
    "# series和dict相比，series更像一个有顺序的字典（dict本身不存在顺序），其索引原理与字典相似（一个用key，一个用index）"
   ]
  },
  {
   "cell_type": "code",
   "execution_count": 14,
   "metadata": {},
   "outputs": [
    {
     "name": "stdout",
     "output_type": "stream",
     "text": [
      "a    1\n",
      "b    2\n",
      "c    3\n",
      "d    4\n",
      "e    5\n",
      "dtype: int64\n",
      "a        1\n",
      "b    hello\n",
      "c        3\n",
      "4        4\n",
      "5        5\n",
      "dtype: object\n"
     ]
    }
   ],
   "source": [
    "# Series 创建方法一：由字典创建，字典的key就是index，values就是values\n",
    "\n",
    "dic = {'a':1,'b':2,'c':3,'d':4,'e':5}\n",
    "s = pd.Series(dic)\n",
    "print(s)\n",
    "\n",
    "# 注意：key肯定是字符串，假如values类型不止一个会怎么样？ → dic = {'a':1 ,'b':'hello' , 'c':3, '4':4, '5':5}\n",
    "dic1 = {'a':1,'b':'hello','c':3,'4':4,'5':5}\n",
    "s2 = pd.Series(dic1)\n",
    "print(s2)"
   ]
  },
  {
   "cell_type": "code",
   "execution_count": 21,
   "metadata": {},
   "outputs": [
    {
     "name": "stdout",
     "output_type": "stream",
     "text": [
      "0    0.463079\n",
      "1    0.504489\n",
      "2    0.178333\n",
      "3    0.638738\n",
      "4    0.770684\n",
      "dtype: float64\n",
      "a    0.463079\n",
      "b    0.504489\n",
      "c    0.178333\n",
      "d    0.638738\n",
      "e    0.770684\n",
      "dtype: float64\n"
     ]
    }
   ],
   "source": [
    "# Series 创建方法二：由数组创建(一维数组)\n",
    "\n",
    "ar = np.random.rand(5)\n",
    "s = pd.Series(ar)    # 默认index是从0开始，步长为1的数字\n",
    "print(s)\n",
    "\n",
    "s1 = pd.Series(ar,index = ['a','b','c','d','e'],dtype = np.int32)\n",
    "print(s1)\n",
    "# index参数：设置index，长度保持一致\n",
    "# dtype参数：设置数值类型"
   ]
  },
  {
   "cell_type": "code",
   "execution_count": 29,
   "metadata": {},
   "outputs": [
    {
     "name": "stdout",
     "output_type": "stream",
     "text": [
      "2    10\n",
      "3    10\n",
      "4    10\n",
      "5    10\n",
      "6    10\n",
      "7    10\n",
      "8    10\n",
      "dtype: int64\n"
     ]
    }
   ],
   "source": [
    "# Series 创建方法三：由标量创建\n",
    "\n",
    "s = pd.Series(10,index = range(2,9))\n",
    "print(s)\n",
    "# 如果data是标量值，则必须提供索引。该值会重复，来匹配索引的长度"
   ]
  },
  {
   "cell_type": "code",
   "execution_count": 36,
   "metadata": {},
   "outputs": [
    {
     "name": "stdout",
     "output_type": "stream",
     "text": [
      "0    0.338737\n",
      "1    0.697707\n",
      "2    0.236218\n",
      "3    0.784566\n",
      "4    0.762548\n",
      "dtype: float64 None\n",
      "0    0.107135\n",
      "1    0.169503\n",
      "2    0.609831\n",
      "3    0.427425\n",
      "4    0.601341\n",
      "Name: test, dtype: float64 test <class 'str'>\n",
      "0    0.107135\n",
      "1    0.169503\n",
      "2    0.609831\n",
      "3    0.427425\n",
      "4    0.601341\n",
      "Name: wave, dtype: float64\n",
      "wave\n",
      "test\n",
      "False\n"
     ]
    }
   ],
   "source": [
    "# Series 名称属性：name\n",
    "\n",
    "s1 = pd.Series(np.random.rand(5))\n",
    "s2 = pd.Series(np.random.rand(5),name='test')\n",
    "print(s1,s1.name)\n",
    "print(s2,s2.name,type(s2.name))\n",
    "# name为Series的一个参数，创建一个数组的 名称\n",
    "# .name方法：输出数组的名称，输出格式为str，如果没用定义输出名称，输出为None\n",
    "\n",
    "s3 = s2.rename('wave')\n",
    "print(s3)\n",
    "print(s3.name)\n",
    "print(s2.name)\n",
    "print(s3 is s2)\n",
    "# .rename()重命名一个数组的名称，并且新指向一个数组，原数组不变"
   ]
  },
  {
   "cell_type": "code",
   "execution_count": 37,
   "metadata": {},
   "outputs": [
    {
     "data": {
      "text/plain": [
       "'\\n【课程2.3】  Pandas数据结构Series：索引\\n\\n位置下标 / 标签索引 / 切片索引 / 布尔型索引\\n\\n'"
      ]
     },
     "execution_count": 37,
     "metadata": {},
     "output_type": "execute_result"
    }
   ],
   "source": [
    "'''\n",
    "【课程2.3】  Pandas数据结构Series：索引\n",
    "\n",
    "位置下标 / 标签索引 / 切片索引 / 布尔型索引\n",
    "\n",
    "'''"
   ]
  },
  {
   "cell_type": "code",
   "execution_count": 62,
   "metadata": {},
   "outputs": [
    {
     "name": "stdout",
     "output_type": "stream",
     "text": [
      "0    0.439959\n",
      "1    0.151980\n",
      "2    0.138822\n",
      "3    0.953730\n",
      "4    0.538927\n",
      "dtype: float64\n",
      "0.43995902513686846 float64 <class 'numpy.float64'>\n",
      "0.43995902513686846 <class 'float'>\n",
      "0    0.439959\n",
      "1    0.151980\n",
      "2    0.138822\n",
      "3    0.953730\n",
      "dtype: float64\n"
     ]
    }
   ],
   "source": [
    "# 位置下标，类似序列\n",
    "\n",
    "s = pd.Series(np.random.rand(5))\n",
    "print(s)\n",
    "print(s[0],s[0].dtype,type(s[0]))\n",
    "print(float(s[0]),type(float(s[0])))\n",
    "# 位置下标从0开始\n",
    "# 输出结果为numpy.float格式，\n",
    "# 可以通过float()函数转换为python float格式\n",
    "# numpy.float与float占用字节不同\n",
    "# s[-1]结果报错，不存在负索引"
   ]
  },
  {
   "cell_type": "code",
   "execution_count": 51,
   "metadata": {},
   "outputs": [
    {
     "name": "stdout",
     "output_type": "stream",
     "text": [
      "a    0.263416\n",
      "b    0.870780\n",
      "c    0.196366\n",
      "d    0.695327\n",
      "e    0.535331\n",
      "dtype: float64\n",
      "0.2634164061652243 float64 <class 'numpy.float64'>\n",
      "a    0.263416\n",
      "b    0.870780\n",
      "c    0.196366\n",
      "dtype: float64 <class 'pandas.core.series.Series'>\n"
     ]
    }
   ],
   "source": [
    "# 标签索引\n",
    "\n",
    "s = pd.Series(np.random.rand(5),index = ['a','b','c','d','e'])\n",
    "print(s)\n",
    "print(s['a'],s['a'].dtype,type(s['a']))\n",
    "# 方法类似下标索引，用[]表示，内写上index，注意index是字符串\n",
    "\n",
    "s1 = s[['a','b','c']]\n",
    "print(s1,type(s1))\n",
    "# 如果需要选择多个标签的值，用[[]]来表示（相当于[]中包含一个列表）\n",
    "# 多标签索引结果是新的数组"
   ]
  },
  {
   "cell_type": "code",
   "execution_count": 67,
   "metadata": {},
   "outputs": [
    {
     "name": "stdout",
     "output_type": "stream",
     "text": [
      "0    0.689562\n",
      "1    0.329713\n",
      "2    0.060921\n",
      "3    0.341271\n",
      "4    0.076275\n",
      "dtype: float64\n",
      "a    0.123681\n",
      "b    0.062404\n",
      "c    0.932242\n",
      "d    0.346869\n",
      "e    0.012907\n",
      "dtype: float64\n",
      "-------------\n",
      "1    0.329713\n",
      "2    0.060921\n",
      "dtype: float64\n",
      "a    0.123681\n",
      "b    0.062404\n",
      "c    0.932242\n",
      "d    0.346869\n",
      "dtype: float64\n",
      "a    0.123681\n",
      "b    0.062404\n",
      "c    0.932242\n",
      "dtype: float64\n",
      "-------------\n",
      "0.012907223749460517\n",
      "a    0.123681\n",
      "b    0.062404\n",
      "c    0.932242\n",
      "d    0.346869\n",
      "dtype: float64\n"
     ]
    }
   ],
   "source": [
    "# 切片索引\n",
    "\n",
    "s1 = pd.Series(np.random.rand(5))\n",
    "s2 = pd.Series(np.random.rand(5),index=['a','b','c','d','e'])\n",
    "print(s1)\n",
    "print(s2)\n",
    "print('-------------')\n",
    "print(s1[1:3])\n",
    "print(s2['a':'d'])        # 注意：用index做切片是末端包含\n",
    "print(s2[0:3])\n",
    "\n",
    "print('-------------')\n",
    "#print(s1[-1])         # 不支持-1索引\n",
    "print(s2[-1])          # 有索引值时可选择-1索引，无规定索引时不可访问-1项\n",
    "print(s2[:-1])       #不包含最后一项，同list"
   ]
  },
  {
   "cell_type": "code",
   "execution_count": 77,
   "metadata": {},
   "outputs": [
    {
     "name": "stdout",
     "output_type": "stream",
     "text": [
      "0    36.568834\n",
      "1    21.725536\n",
      "2    70.109089\n",
      "3    67.160196\n",
      "4    67.234882\n",
      "dtype: float64\n",
      "0    36.5688\n",
      "1    21.7255\n",
      "2    70.1091\n",
      "3    67.1602\n",
      "4    67.2349\n",
      "5       None\n",
      "dtype: object\n",
      "---------------\n",
      "0    False\n",
      "1    False\n",
      "2     True\n",
      "3     True\n",
      "4     True\n",
      "5    False\n",
      "dtype: bool\n",
      "0    False\n",
      "1    False\n",
      "2    False\n",
      "3    False\n",
      "4    False\n",
      "5     True\n",
      "dtype: bool\n",
      "0     True\n",
      "1     True\n",
      "2     True\n",
      "3     True\n",
      "4     True\n",
      "5    False\n",
      "dtype: bool\n"
     ]
    }
   ],
   "source": [
    "# 布尔型索引\n",
    "\n",
    "s = pd.Series(np.random.rand(5)*100)\n",
    "print(s)\n",
    "s[5] = None\n",
    "print(s)\n",
    "print('---------------')\n",
    "bs1 = s > 50\n",
    "bs2 = s.isnull()\n",
    "bs3 = s.notnull()\n",
    "print(bs1)\n",
    "print(bs2)\n",
    "print(bs3)"
   ]
  },
  {
   "cell_type": "code",
   "execution_count": 78,
   "metadata": {},
   "outputs": [
    {
     "data": {
      "text/plain": [
       "'\\n【课程2.4】  Pandas数据结构Series：基本技巧\\n\\n数据查看 / 重新索引 / 对齐 / 添加、修改、删除值\\n\\n'"
      ]
     },
     "execution_count": 78,
     "metadata": {},
     "output_type": "execute_result"
    }
   ],
   "source": [
    "'''\n",
    "【课程2.4】  Pandas数据结构Series：基本技巧\n",
    "\n",
    "数据查看 / 重新索引 / 对齐 / 添加、修改、删除值\n",
    "\n",
    "'''"
   ]
  },
  {
   "cell_type": "code",
   "execution_count": 87,
   "metadata": {},
   "outputs": [
    {
     "name": "stdout",
     "output_type": "stream",
     "text": [
      "0    0.343333\n",
      "1    0.195744\n",
      "2    0.819817\n",
      "3    0.603552\n",
      "4    0.387437\n",
      "dtype: float64\n",
      "40    0.711211\n",
      "41    0.580881\n",
      "42    0.161956\n",
      "43    0.763980\n",
      "44    0.536170\n",
      "45    0.087632\n",
      "46    0.333874\n",
      "47    0.483916\n",
      "48    0.140909\n",
      "49    0.529640\n",
      "dtype: float64\n"
     ]
    }
   ],
   "source": [
    "# 数据查看\n",
    "\n",
    "s = pd.Series(np.random.rand(50))\n",
    "print(s.head())\n",
    "print(s.tail(10))\n",
    "# .head()查看头部数据\n",
    "# .tail()查看尾部数据\n",
    "# 默认查看5条"
   ]
  },
  {
   "cell_type": "code",
   "execution_count": 94,
   "metadata": {},
   "outputs": [
    {
     "name": "stdout",
     "output_type": "stream",
     "text": [
      "a    0.785326\n",
      "b    0.109195\n",
      "c    0.035598\n",
      "d    0.679663\n",
      "e    0.384086\n",
      "dtype: float64\n",
      "e    0.384086\n",
      "a    0.785326\n",
      "b    0.109195\n",
      "c    0.035598\n",
      "f         NaN\n",
      "dtype: float64\n",
      "a    0.785326\n",
      "f    0.000000\n",
      "g    0.000000\n",
      "dtype: float64\n"
     ]
    }
   ],
   "source": [
    "# 重新索引reindex\n",
    "# .reindex将会根据索引对字段重新排序，如果当前索引不存在，则引入缺失值\n",
    "\n",
    "s = pd.Series(np.random.rand(5),index = ['a','b','c','d','e'])\n",
    "print(s)\n",
    "s1 = s.reindex(['e','a','b','c','f'])    # 以列表传入\n",
    "print(s1)          #索引不存在时，以缺失值体现NaN\n",
    "s2 = s.reindex(['a','f','g'],fill_value=0)\n",
    "# fill_value参数：填充缺失值的值\n",
    "print(s2)"
   ]
  },
  {
   "cell_type": "code",
   "execution_count": 96,
   "metadata": {},
   "outputs": [
    {
     "name": "stdout",
     "output_type": "stream",
     "text": [
      "Jack     0.997242\n",
      "Marry    0.340281\n",
      "Tom      0.288357\n",
      "dtype: float64\n",
      "Wang     0.499410\n",
      "Jack     0.380339\n",
      "Marry    0.836817\n",
      "dtype: float64\n",
      "Jack     1.377582\n",
      "Marry    1.177098\n",
      "Tom           NaN\n",
      "Wang          NaN\n",
      "dtype: float64\n"
     ]
    }
   ],
   "source": [
    "# Series对齐\n",
    "\n",
    "s1 = pd.Series(np.random.rand(3), index = ['Jack','Marry','Tom'])\n",
    "s2 = pd.Series(np.random.rand(3), index = ['Wang','Jack','Marry'])\n",
    "print(s1)\n",
    "print(s2)\n",
    "print(s1+s2)\n",
    "# Series 和 ndarray 之间的主要区别是，Series 上的操作会根据标签自动对齐\n",
    "# index顺序不会影响数值计算，以标签来计算\n",
    "# 空值和任何值计算结果扔为空值"
   ]
  },
  {
   "cell_type": "code",
   "execution_count": 106,
   "metadata": {},
   "outputs": [
    {
     "name": "stdout",
     "output_type": "stream",
     "text": [
      "a    0.692855\n",
      "b    0.439299\n",
      "c    0.221194\n",
      "d    0.557549\n",
      "e    0.928424\n",
      "dtype: float64\n",
      "b    0.439299\n",
      "c    0.221194\n",
      "d    0.557549\n",
      "e    0.928424\n",
      "dtype: float64\n",
      "b    0.439299\n",
      "d    0.557549\n",
      "e    0.928424\n",
      "dtype: float64\n",
      "a    0.692855\n",
      "b    0.439299\n",
      "c    0.221194\n",
      "d    0.557549\n",
      "e    0.928424\n",
      "dtype: float64\n"
     ]
    }
   ],
   "source": [
    "# 删除：.drop\n",
    "\n",
    "s = pd.Series(np.random.rand(5),index=list('abcde'))\n",
    "print(s)\n",
    "s1 = s.drop('a')\n",
    "s2 = s.drop(['a','c'])\n",
    "print(s1)\n",
    "print(s2)\n",
    "print(s)\n",
    "# drop 删除元素之后返回副本(inplace=False)"
   ]
  },
  {
   "cell_type": "code",
   "execution_count": 113,
   "metadata": {},
   "outputs": [
    {
     "name": "stdout",
     "output_type": "stream",
     "text": [
      "0    0.609831\n",
      "1    0.422803\n",
      "2    0.409425\n",
      "3    0.387278\n",
      "4    0.120033\n",
      "dtype: float64\n",
      "a    0.881533\n",
      "b    0.670276\n",
      "c    0.866596\n",
      "d    0.808178\n",
      "e    0.923110\n",
      "dtype: float64\n",
      "-------------\n",
      "0      0.609831\n",
      "1      0.422803\n",
      "2      0.409425\n",
      "3      0.387278\n",
      "4      0.120033\n",
      "5    100.000000\n",
      "dtype: float64\n",
      "a      0.881533\n",
      "b      0.670276\n",
      "c      0.866596\n",
      "d      0.808178\n",
      "e      0.923110\n",
      "f    100.000000\n",
      "dtype: float64\n",
      "----------------\n",
      "0      0.609831\n",
      "1      0.422803\n",
      "2      0.409425\n",
      "3      0.387278\n",
      "4      0.120033\n",
      "5    100.000000\n",
      "a      0.881533\n",
      "b      0.670276\n",
      "c      0.866596\n",
      "d      0.808178\n",
      "e      0.923110\n",
      "f    100.000000\n",
      "dtype: float64\n",
      "0      0.609831\n",
      "1      0.422803\n",
      "2      0.409425\n",
      "3      0.387278\n",
      "4      0.120033\n",
      "5    100.000000\n",
      "dtype: float64\n"
     ]
    }
   ],
   "source": [
    "# 添加\n",
    "s1 = pd.Series(np.random.rand(5))\n",
    "s2 = pd.Series(np.random.rand(5),index=list('abcde'))\n",
    "print(s1)\n",
    "print(s2)\n",
    "print('-------------')\n",
    "s1[5] = 100\n",
    "s2['f'] = 100\n",
    "print(s1)\n",
    "print(s2)\n",
    "print('----------------')\n",
    "s3 = s1.append(s2)\n",
    "print(s3)\n",
    "print(s1)\n",
    "# 通过.append方法，直接添加一个数组\n",
    "# .append方法生成一个新的数组，不改变之前的数组"
   ]
  },
  {
   "cell_type": "code",
   "execution_count": 118,
   "metadata": {},
   "outputs": [
    {
     "name": "stdout",
     "output_type": "stream",
     "text": [
      "a    0.648401\n",
      "b    0.226262\n",
      "c    0.673732\n",
      "dtype: float64\n",
      "a    100.0\n",
      "b     50.0\n",
      "c     80.0\n",
      "dtype: float64\n"
     ]
    }
   ],
   "source": [
    "# 修改\n",
    "\n",
    "s = pd.Series(np.random.rand(3),index=['a','b','c'])\n",
    "print(s)\n",
    "s['a'] = 100\n",
    "s[['b','c']] = 50,80\n",
    "print(s)\n",
    "# 通过索引直接修改，类似序列"
   ]
  },
  {
   "cell_type": "code",
   "execution_count": null,
   "metadata": {},
   "outputs": [],
   "source": [
    "'''\n",
    "【课程2.5】  Pandas数据结构Dataframe：基本概念及创建\n",
    "\n",
    "\"二维数组\"Dataframe：是一个表格型的数据结构，包含一组有序的列，其列的值类型可以是数值、字符串、布尔值等。\n",
    "\n",
    "Dataframe中的数据以一个或多个二维块存放，不是列表、字典或一维数组结构。\n",
    "\n",
    "'''"
   ]
  },
  {
   "cell_type": "code",
   "execution_count": 141,
   "metadata": {},
   "outputs": [
    {
     "name": "stdout",
     "output_type": "stream",
     "text": [
      "   name  age gender\n",
      "0  Jack   18      m\n",
      "1   Tom   19      m\n",
      "2  Mary   20      w <class 'pandas.core.frame.DataFrame'>\n",
      "RangeIndex(start=0, stop=3, step=1) <class 'pandas.core.indexes.range.RangeIndex'>\n",
      "Index(['name', 'age', 'gender'], dtype='object') <class 'pandas.core.indexes.base.Index'>\n",
      "[['Jack' 18 'm']\n",
      " ['Tom' 19 'm']\n",
      " ['Mary' 20 'w']] <class 'numpy.ndarray'>\n"
     ]
    }
   ],
   "source": [
    "# Dataframe 数据结构\n",
    "# Dataframe是一个表格型的数据结构，“带有标签的二维数组”。\n",
    "# Dataframe带有index（行标签）和columns（列标签）\n",
    "\n",
    "data = {\n",
    "    'name':['Jack','Tom','Mary'],\n",
    "    'age':[18,19,20],\n",
    "    'gender':['m','m','w']  \n",
    "    }\n",
    "frame = pd.DataFrame(data)\n",
    "print(frame,type(frame))                          # 查看数据，数据类型为dataframe\n",
    "print(frame.index,type(frame.index))              # .index查看行标签\n",
    "print(frame.columns,type(frame.columns))          # .columns查看列标签\n",
    "print(frame.values,type(frame.values))            # .values查看值，数据类型为ndarray"
   ]
  },
  {
   "cell_type": "code",
   "execution_count": 167,
   "metadata": {},
   "outputs": [
    {
     "name": "stdout",
     "output_type": "stream",
     "text": [
      "{'a': [1, 2, 3], 'b': [2, 3, 4], 'c': [3, 4, 5]}\n",
      "{'one': array([0.62789246, 0.94411696, 0.03143088, 0.52547623]), 'two': array([0.28128415, 0.61681415, 0.43371284, 0.90367323])}\n",
      "   a  b  c\n",
      "0  1  2  3\n",
      "1  2  3  4\n",
      "2  3  4  5\n",
      "        one       two\n",
      "0  0.627892  0.281284\n",
      "1  0.944117  0.616814\n",
      "2  0.031431  0.433713\n",
      "3  0.525476  0.903673\n",
      "---------------------\n",
      "   c  a  b    f\n",
      "a  3  1  2  NaN\n",
      "b  4  2  3  NaN\n",
      "c  5  3  4  NaN\n",
      "        two       one\n",
      "0  0.281284  0.627892\n",
      "1  0.616814  0.944117\n",
      "2  0.433713  0.031431\n",
      "3  0.903673  0.525476\n",
      "0.2812841458245857\n",
      "-------------------------\n",
      "         one       two\n",
      "f1  0.627892  0.281284\n",
      "f2  0.944117  0.616814\n",
      "f3  0.031431  0.433713\n",
      "f4  0.525476  0.903673\n"
     ]
    }
   ],
   "source": [
    "# Dataframe 创建方法一：由数组/list组成的字典\n",
    "\n",
    "data1 = {\n",
    "    'a':[1,2,3],\n",
    "    'b':[2,3,4],\n",
    "    'c':[3,4,5]\n",
    "        }\n",
    "data2 = {\n",
    "    'one':np.random.rand(4),\n",
    "    'two':np.random.rand(4)\n",
    "}\n",
    "print(data1)\n",
    "print(data2)\n",
    "df1 = pd.DataFrame(data1)\n",
    "df2 = pd.DataFrame(data2)\n",
    "print(df1)\n",
    "print(df2)\n",
    "# 由数组/list组成的字典 创建Dataframe，columns为字典key，index为默认数字标签\n",
    "# 字典的值的长度必须保持一致！\n",
    "print('---------------------')\n",
    "df1 = pd.DataFrame(data1,columns=['c','a','b','f'],index=list('abc'))\n",
    "print(df1)\n",
    "df2 = pd.DataFrame(data2,columns=['two','one'])\n",
    "print(df2)\n",
    "print(df2.values[0][0])\n",
    "# columns参数：可以重新指定列的顺序，格式为list，如果现有数据中没有该列（比如'f'），则产生NaN值\n",
    "# 如果columns重新指定时候，列的数量可以少于原数据\n",
    "print('-------------------------')\n",
    "df2 = pd.DataFrame(data2,index=['f1','f2','f3','f4'])\n",
    "print(df2)\n",
    "# index参数：重新定义index，格式为list，长度必须保持一致\n",
    "."
   ]
  },
  {
   "cell_type": "code",
   "execution_count": 174,
   "metadata": {},
   "outputs": [
    {
     "name": "stdout",
     "output_type": "stream",
     "text": [
      "{'one': 0    0.047282\n",
      "1    0.588375\n",
      "dtype: float64, 'two': 0    0.682640\n",
      "1    0.403415\n",
      "2    0.466054\n",
      "dtype: float64}\n",
      "{'one': a    0.205289\n",
      "b    0.047151\n",
      "dtype: float64, 'two': a    0.799967\n",
      "b    0.932456\n",
      "c    0.116076\n",
      "dtype: float64}\n",
      "-----------------------\n",
      "        one       two\n",
      "0  0.047282  0.682640\n",
      "1  0.588375  0.403415\n",
      "2       NaN  0.466054\n",
      "        one       two\n",
      "a  0.205289  0.799967\n",
      "b  0.047151  0.932456\n",
      "c       NaN  0.116076\n"
     ]
    }
   ],
   "source": [
    "# Dataframe 创建方法二：由Series组成的字典\n",
    "\n",
    "data1 = {'one':pd.Series(np.random.rand(2)),\n",
    "         'two':pd.Series(np.random.rand(3))}               # 没有设置index的Series\n",
    "data2 = {'one':pd.Series(np.random.rand(2),index=['a','b']),\n",
    "        'two':pd.Series(np.random.rand(3),index=['a','b','c'])}        # 设置了index的Series\n",
    "print(data1)\n",
    "print(data2)\n",
    "print('-----------------------')\n",
    "df1 = pd.DataFrame(data1)\n",
    "df2 = pd.DataFrame(data2)\n",
    "print(df1)\n",
    "print(df2)\n",
    "\n",
    "# 由Seris组成的字典 创建Dataframe，columns为字典key，index为Series的标签（如果Series没有指定标签，则是默认数字标签）\n",
    "# Series可以长度不一样，生成的Dataframe会出现NaN值"
   ]
  },
  {
   "cell_type": "code",
   "execution_count": 183,
   "metadata": {},
   "outputs": [
    {
     "name": "stdout",
     "output_type": "stream",
     "text": [
      "[[0.18578093 0.30006646 0.60598846]\n",
      " [0.28611434 0.16964229 0.76706703]\n",
      " [0.50756351 0.92815079 0.28203984]]\n",
      "          0         1         2\n",
      "0  0.185781  0.300066  0.605988\n",
      "1  0.286114  0.169642  0.767067\n",
      "2  0.507564  0.928151  0.282040\n",
      "        one       two     three\n",
      "a  0.185781  0.300066  0.605988\n",
      "b  0.286114  0.169642  0.767067\n",
      "c  0.507564  0.928151  0.282040\n"
     ]
    }
   ],
   "source": [
    "# Dataframe 创建方法三：通过二维数组直接创建\n",
    "\n",
    "ar = np.random.rand(9).reshape(3,3)\n",
    "print(ar)\n",
    "df1 = pd.DataFrame(ar)\n",
    "df2 = pd.DataFrame(ar,index = ['a','b','c'],columns=['one','two','three'])\n",
    "print(df1)\n",
    "print(df2)\n",
    "\n",
    "# 通过二维数组直接创建Dataframe，得到一样形状的结果数据，如果不指定index和columns，两者均返回默认数字格式\n",
    "# index和colunms指定长度与原数组保持一致"
   ]
  },
  {
   "cell_type": "code",
   "execution_count": 193,
   "metadata": {},
   "outputs": [
    {
     "name": "stdout",
     "output_type": "stream",
     "text": [
      "   one  three  two\n",
      "0    1    NaN    2\n",
      "1   10   30.0   20\n",
      "   one  three  two\n",
      "a    1    NaN    2\n",
      "b   10   30.0   20\n",
      "   one  two  three  four\n",
      "0    1    2    NaN   NaN\n",
      "1   10   20   30.0   NaN\n"
     ]
    }
   ],
   "source": [
    "# Dataframe 创建方法四：由字典组成的列表\n",
    "\n",
    "data = [{'one':1,'two':2},{'one':10,'two':20,'three':30}]\n",
    "df1 = pd.DataFrame(data)\n",
    "df2 = pd.DataFrame(data,index=['a','b'])\n",
    "df3 = pd.DataFrame(data,columns=['one','two','three','four'])\n",
    "print(df1)\n",
    "print(df2)\n",
    "print(df3)\n",
    "\n",
    "# 由字典组成的列表创建Dataframe，columns为字典的key，index不做指定则为默认数组标签\n",
    "# colunms和index参数分别重新指定相应列及行标签"
   ]
  },
  {
   "cell_type": "code",
   "execution_count": 197,
   "metadata": {},
   "outputs": [
    {
     "name": "stdout",
     "output_type": "stream",
     "text": [
      "{'Jack': {'math': 100, 'english': 85, 'art': 92}, 'Tom': {'art': 50, 'math': 87}, 'Mary': {'english': 62, 'math': 90, 'art': 75}}\n",
      "         Jack   Tom  Mary\n",
      "art        92  50.0    75\n",
      "english    85   NaN    62\n",
      "math      100  87.0    90\n",
      "         Jack   Tom  Bob\n",
      "art        92  50.0  NaN\n",
      "english    85   NaN  NaN\n",
      "math      100  87.0  NaN\n",
      "   Jack  Tom  Mary\n",
      "a   NaN  NaN   NaN\n",
      "b   NaN  NaN   NaN\n",
      "c   NaN  NaN   NaN\n"
     ]
    }
   ],
   "source": [
    "# Dataframe 创建方法五：由字典组成的字典\n",
    "\n",
    "data = {\n",
    "    'Jack':{'math':100,'english':85,'art':92},\n",
    "    'Tom':{'art':50,'math':87},\n",
    "    'Mary':{'english':62,'math':90,'art':75}\n",
    "}\n",
    "print(data)\n",
    "df1 = pd.DataFrame(data)\n",
    "df2 = pd.DataFrame(data,columns=['Jack','Tom','Bob'])\n",
    "df3 = pd.DataFrame(data,index=['a','b','c'])\n",
    "print(df1)\n",
    "# 由字典组成的字典创建Dataframe，columns为字典的key，index为子字典的key\n",
    "print(df2)\n",
    "print(df3)\n",
    "# columns参数可以增加和减少现有列，如出现新的列，值为NaN\n",
    "# index在这里和之前不同，并不能改变原有index，如果指向新的标签，值为NaN （非常重要！）"
   ]
  },
  {
   "cell_type": "code",
   "execution_count": null,
   "metadata": {},
   "outputs": [],
   "source": [
    "'''\n",
    "【课程2.6】  Pandas数据结构Dataframe：索引\n",
    "\n",
    "Dataframe既有行索引也有列索引，可以被看做由Series组成的字典（共用一个索引）\n",
    "\n",
    "选择列 / 选择行 / 切片 / 布尔判断\n",
    "\n",
    "'''"
   ]
  },
  {
   "cell_type": "code",
   "execution_count": 214,
   "metadata": {},
   "outputs": [
    {
     "name": "stdout",
     "output_type": "stream",
     "text": [
      "         one        two      three       four\n",
      "a   3.146861  29.296593  59.917503  91.225511\n",
      "b  27.476095  87.187975  67.931943   2.010727\n",
      "c  85.623189  13.029301  24.214197  79.050103\n",
      "a     3.146861\n",
      "b    27.476095\n",
      "c    85.623189\n",
      "Name: one, dtype: float64 <class 'pandas.core.series.Series'>\n",
      "         one        two\n",
      "a   3.146861  29.296593\n",
      "b  27.476095  87.187975\n",
      "c  85.623189  13.029301 <class 'pandas.core.frame.DataFrame'>\n",
      "--------------------------\n",
      "one       3.146861\n",
      "two      29.296593\n",
      "three    59.917503\n",
      "four     91.225511\n",
      "Name: a, dtype: float64 <class 'pandas.core.series.Series'>\n",
      "         one        two      three       four\n",
      "a   3.146861  29.296593  59.917503  91.225511\n",
      "c  85.623189  13.029301  24.214197  79.050103 <class 'pandas.core.frame.DataFrame'>\n"
     ]
    }
   ],
   "source": [
    "# 选择行与列\n",
    "\n",
    "df = pd.DataFrame(np.random.rand(12).reshape(3,4)*100,\n",
    "                  index = ['a','b','c'],\n",
    "                  columns = ['one','two','three','four'])\n",
    "print(df)\n",
    "data1 = df['one']\n",
    "data2 = df[['one','two']]\n",
    "print(data1,type(data1))\n",
    "print(data2,type(data2))\n",
    "# 按照列名选择列，只选择一列输出Series，选择多列输出Dataframe\n",
    "print('--------------------------')\n",
    "\n",
    "data3 = df.loc['a']\n",
    "data4 = df.loc[['a','c']]       #用.loc选择行（索引）输出\n",
    "print(data3,type(data3))\n",
    "print(data4,type(data4))\n",
    "# 按照index选择行，只选择一行输出Series，选择多行输出Dataframe"
   ]
  },
  {
   "cell_type": "code",
   "execution_count": 228,
   "metadata": {},
   "outputs": [
    {
     "name": "stdout",
     "output_type": "stream",
     "text": [
      "               a          b          c          d\n",
      "one    81.455904   1.539448  17.614827  98.180722\n",
      "two    29.898925  94.409381   2.502303   3.838434\n",
      "three  63.744389  85.164953  43.185609  11.079885\n",
      "------------------------\n",
      "one      81.455904\n",
      "two      29.898925\n",
      "three    63.744389\n",
      "Name: a, dtype: float64\n",
      "               a          c\n",
      "one    81.455904  17.614827\n",
      "two    29.898925   2.502303\n",
      "three  63.744389  43.185609\n",
      "------------------------\n",
      "             a         b          c          d\n",
      "one  81.455904  1.539448  17.614827  98.180722 <class 'pandas.core.frame.DataFrame'>\n",
      "a    81.455904\n",
      "b     1.539448\n",
      "c    17.614827\n",
      "d    98.180722\n",
      "Name: one, dtype: float64 <class 'pandas.core.series.Series'>\n"
     ]
    }
   ],
   "source": [
    "# df[] - 选择列\n",
    "# 一般用于选择列，也可以选择行\n",
    "\n",
    "df = pd.DataFrame(np.random.rand(12).reshape(3,4)*100,\n",
    "                 index = ['one','two','three'],\n",
    "                 columns = ['a','b','c','d'])\n",
    "print(df)\n",
    "print('------------------------')\n",
    "data1 = df['a']\n",
    "data2 = df[['a','c']]\n",
    "print(data1)\n",
    "print(data2)\n",
    "# df[]默认选择列，[]中写列名（所以一般数据colunms都会单独制定，不会用默认数字列名，以免和index冲突）\n",
    "# 单选列为Series，print结果为Series格式\n",
    "# 多选列为Dataframe，print结果为Dataframe格式\n",
    "print('------------------------')\n",
    "data3 = df[:1]\n",
    "data4 = df.loc['one']\n",
    "print(data3,type(data3))\n",
    "print(data4,type(data4))\n",
    "\n",
    "# df[]中为数字时，默认选择行，且只能进行切片的选择，不能单独选择（df[0]）\n",
    "# 输出结果为Dataframe，即便只选择一行\n",
    "# df[]不能通过索引标签名来选择行(df['one'])\n",
    "\n",
    "# 核心笔记：df[col]一般用于选择列，[]中写列名"
   ]
  },
  {
   "cell_type": "code",
   "execution_count": 243,
   "metadata": {},
   "outputs": [
    {
     "name": "stdout",
     "output_type": "stream",
     "text": [
      "               a          b          c          d\n",
      "one    26.415602  30.148412   0.991444  15.202005\n",
      "two    44.150836  93.355407  54.423263  30.703604\n",
      "three  12.950298  59.621813  39.124402  31.506123\n",
      "four   71.089846  28.877900  32.578948  17.087246\n",
      "          a         b         c         d\n",
      "0  0.717603  0.280681  0.596210  0.962503\n",
      "1  0.970326  0.480051  0.159476  0.843961\n",
      "2  0.021432  0.969516  0.989995  0.399132\n",
      "3  0.813182  0.239353  0.681633  0.600385\n",
      "--------------------------\n",
      "a    26.415602\n",
      "b    30.148412\n",
      "c     0.991444\n",
      "d    15.202005\n",
      "Name: one, dtype: float64\n",
      "a    0.970326\n",
      "b    0.480051\n",
      "c    0.159476\n",
      "d    0.843961\n",
      "Name: 1, dtype: float64\n",
      "\n",
      "单标签索引\n",
      "               a          b          c          d\n",
      "two    44.150836  93.355407  54.423263  30.703604\n",
      "three  12.950298  59.621813  39.124402  31.506123\n",
      "five         NaN        NaN        NaN        NaN\n",
      "          a         b         c         d\n",
      "3  0.813182  0.239353  0.681633  0.600385\n",
      "2  0.021432  0.969516  0.989995  0.399132\n",
      "1  0.970326  0.480051  0.159476  0.843961\n",
      "5       NaN       NaN       NaN       NaN\n",
      "多标签索引\n",
      "               a          b          c          d\n",
      "one    26.415602  30.148412   0.991444  15.202005\n",
      "two    44.150836  93.355407  54.423263  30.703604\n",
      "three  12.950298  59.621813  39.124402  31.506123\n",
      "          a         b         c         d\n",
      "1  0.970326  0.480051  0.159476  0.843961\n",
      "2  0.021432  0.969516  0.989995  0.399132\n",
      "3  0.813182  0.239353  0.681633  0.600385\n"
     ]
    },
    {
     "name": "stderr",
     "output_type": "stream",
     "text": [
      "d:\\python37\\lib\\site-packages\\ipykernel_launcher.py:19: FutureWarning: \n",
      "Passing list-likes to .loc or [] with any missing label will raise\n",
      "KeyError in the future, you can use .reindex() as an alternative.\n",
      "\n",
      "See the documentation here:\n",
      "https://pandas.pydata.org/pandas-docs/stable/indexing.html#deprecate-loc-reindex-listlike\n",
      "d:\\python37\\lib\\site-packages\\ipykernel_launcher.py:20: FutureWarning: \n",
      "Passing list-likes to .loc or [] with any missing label will raise\n",
      "KeyError in the future, you can use .reindex() as an alternative.\n",
      "\n",
      "See the documentation here:\n",
      "https://pandas.pydata.org/pandas-docs/stable/indexing.html#deprecate-loc-reindex-listlike\n"
     ]
    }
   ],
   "source": [
    "# df.loc[] - 按index选择行\n",
    "\n",
    "df1 = pd.DataFrame(np.random.rand(16).reshape(4,4)*100,\n",
    "                  index = ['one','two','three','four'],\n",
    "                  columns = ['a','b','c','d'])\n",
    "df2 = pd.DataFrame(np.random.rand(16).reshape(4,4),\n",
    "                  columns = ['a','b','c','d'])\n",
    "print(df1)\n",
    "print(df2)\n",
    "print('--------------------------')\n",
    "\n",
    "data1 = df1.loc['one']\n",
    "data2 = df2.loc[1]\n",
    "print(data1)\n",
    "print(data2)\n",
    "print('\\n单标签索引')\n",
    "# 单个标签索引，返回Series\n",
    "\n",
    "data3 = df1.loc[['two','three','five']]\n",
    "data4 = df2.loc[[3,2,1,5]]\n",
    "print(data3)\n",
    "print(data4)\n",
    "print('多标签索引')\n",
    "# 多个标签索引，如果标签不存在，则返回NaN\n",
    "# 顺序可变\n",
    "\n",
    "data5 = df1.loc['one':'three']\n",
    "data6 = df2.loc[1:3]\n",
    "print(data5)\n",
    "print(data6)\n",
    "\n",
    "# 可以做切片对象\n",
    "# 末端包含,重中之重\n",
    "\n",
    "# 核心笔记：df.loc[label]主要针对index选择行，同时支持指定index，及默认数字index"
   ]
  },
  {
   "cell_type": "code",
   "execution_count": 253,
   "metadata": {},
   "outputs": [
    {
     "name": "stdout",
     "output_type": "stream",
     "text": [
      "               a          b          c          d\n",
      "one    79.611687  87.322371  90.158809  82.812541\n",
      "two    86.663165  77.748871  87.732519  88.222166\n",
      "three  85.817752  69.725399  76.242783  87.532694\n",
      "four   37.370249  92.598646   4.739754  27.743465\n",
      "---------------------------\n",
      "a    79.611687\n",
      "b    87.322371\n",
      "c    90.158809\n",
      "d    82.812541\n",
      "Name: one, dtype: float64\n",
      "a    86.663165\n",
      "b    77.748871\n",
      "c    87.732519\n",
      "d    88.222166\n",
      "Name: two, dtype: float64\n",
      "---------------------------\n",
      "               a          b          c          d\n",
      "one    79.611687  87.322371  90.158809  82.812541\n",
      "three  85.817752  69.725399  76.242783  87.532694\n",
      "               a          b          c          d\n",
      "four   37.370249  92.598646   4.739754  27.743465\n",
      "three  85.817752  69.725399  76.242783  87.532694\n",
      "two    86.663165  77.748871  87.732519  88.222166\n",
      "---------------------------\n",
      "               a          b          c          d\n",
      "two    86.663165  77.748871  87.732519  88.222166\n",
      "three  85.817752  69.725399  76.242783  87.532694\n",
      "               a          b          c          d\n",
      "one    79.611687  87.322371  90.158809  82.812541\n",
      "three  85.817752  69.725399  76.242783  87.532694\n"
     ]
    }
   ],
   "source": [
    "# df.iloc[] -- 按照整数位置（从轴的0到length-1）选择行\n",
    "# 类似list的索引，其顺序就是dataframe的整数位置，从0开始计\n",
    "\n",
    "df = pd.DataFrame(np.random.rand(16).reshape(4,4)*100,\n",
    "                   index = ['one','two','three','four'],\n",
    "                   columns = ['a','b','c','d'])\n",
    "print(df)\n",
    "print('---------------------------')\n",
    "print(df.iloc[0])\n",
    "print(df.iloc[1])\n",
    "# 单位置索引\n",
    "# 和loc索引不同，不能索引超出数据行数的整数位置\n",
    "print('---------------------------')\n",
    "\n",
    "print(df.iloc[[0,2]])\n",
    "print(df.iloc[[3,2,1]])\n",
    "# 多位置索引\n",
    "# 顺序可变\n",
    "print('---------------------------')\n",
    "\n",
    "print(df.iloc[1:3])\n",
    "print(df.iloc[::2])\n",
    "# 切片索引\n",
    "# 末端不包含"
   ]
  },
  {
   "cell_type": "code",
   "execution_count": 275,
   "metadata": {},
   "outputs": [
    {
     "name": "stdout",
     "output_type": "stream",
     "text": [
      "               a          b          c          d\n",
      "one    87.093673  28.467278  53.108436  35.877191\n",
      "two    83.871959  54.239413  15.826176  37.580562\n",
      "three   2.434351  62.552015  43.772360  73.671126\n",
      "four   82.465729  97.937129  86.251325  11.769529\n",
      "---------------------------\n",
      "           a      b      c      d\n",
      "one    False  False  False  False\n",
      "two    False  False   True  False\n",
      "three   True  False  False  False\n",
      "four   False  False  False   True <class 'pandas.core.frame.DataFrame'>\n",
      "              a   b          c          d\n",
      "one         NaN NaN        NaN        NaN\n",
      "two         NaN NaN  15.826176        NaN\n",
      "three  2.434351 NaN        NaN        NaN\n",
      "four        NaN NaN        NaN  11.769529\n",
      "------------------------------\n",
      "one       True\n",
      "two       True\n",
      "three    False\n",
      "four      True\n",
      "Name: a, dtype: bool <class 'pandas.core.series.Series'>\n",
      "              a          b          c          d\n",
      "one   87.093673  28.467278  53.108436  35.877191\n",
      "two   83.871959  54.239413  15.826176  37.580562\n",
      "four  82.465729  97.937129  86.251325  11.769529\n",
      "------------------------------\n",
      "           a      b\n",
      "one     True  False\n",
      "two     True   True\n",
      "three  False   True\n",
      "four    True   True <class 'pandas.core.frame.DataFrame'>\n",
      "               a          b   c   d\n",
      "one    87.093673        NaN NaN NaN\n",
      "two    83.871959  54.239413 NaN NaN\n",
      "three        NaN  62.552015 NaN NaN\n",
      "four   82.465729  97.937129 NaN NaN\n",
      "------------------------------\n",
      "           a      b      c      d\n",
      "one    False   True  False   True\n",
      "three   True  False   True  False <class 'pandas.core.frame.DataFrame'>\n",
      "              a          b         c          d\n",
      "one         NaN  28.467278       NaN  35.877191\n",
      "two         NaN        NaN       NaN        NaN\n",
      "three  2.434351        NaN  43.77236        NaN\n",
      "four        NaN        NaN       NaN        NaN\n",
      "------\n"
     ]
    }
   ],
   "source": [
    "# 布尔型索引\n",
    "# 和Series原理相同\n",
    "\n",
    "df = pd.DataFrame(np.random.rand(16).reshape(4,4)*100,\n",
    "                   index = ['one','two','three','four'],\n",
    "                   columns = ['a','b','c','d'])\n",
    "print(df)\n",
    "print('---------------------------')\n",
    "\n",
    "b1 = df < 20\n",
    "print(b1,type(b1))\n",
    "print(df[b1])\n",
    "# 不做索引则会对数据每个值进行判断\n",
    "# 索引结果保留 所有数据：True返回原数据，False返回值为NaN\n",
    "print('------------------------------')\n",
    "\n",
    "b2 = df['a'] > 50\n",
    "print(b2,type(b2))\n",
    "print(df[b2])\n",
    "# 单列做判断\n",
    "# 索引结果保留 单列判断为True的行数据，包括其他列\n",
    "print('------------------------------')\n",
    "\n",
    "b3 = df[['a','b']] > 50\n",
    "print(b3,type(b3))\n",
    "print(df[b3])\n",
    "# 多列做判断\n",
    "# 索引结果保留所有数据：True返回原数据，False返回值为NaN\n",
    "print('------------------------------')\n",
    "\n",
    "b4 = df.loc[['one','three']] < 50\n",
    "print(b4,type(b4))\n",
    "print(df[b4])  # 也可以书写为 df[df.loc[['one','three']] < 50]\n",
    "print('------')\n",
    "# 多行做判断\n",
    "# 索引结果保留 所有数据：True返回原数据，False返回值为NaN"
   ]
  },
  {
   "cell_type": "code",
   "execution_count": 277,
   "metadata": {},
   "outputs": [
    {
     "name": "stdout",
     "output_type": "stream",
     "text": [
      "               a          b          c          d\n",
      "one    25.640335  99.647772  11.002736  47.262254\n",
      "two    37.068788  60.803833   6.736874  29.563895\n",
      "three  49.635889  69.299349  69.638209  97.733760\n",
      "four   93.265922  89.310853  24.793861  79.936828\n",
      "-------------------------------\n",
      "one      25.640335\n",
      "three    49.635889\n",
      "Name: a, dtype: float64\n",
      "               b          c          d\n",
      "one    99.647772  11.002736  47.262254\n",
      "three  69.299349  69.638209  97.733760\n",
      "             a          b          c          d\n",
      "one  25.640335  99.647772  11.002736  47.262254\n",
      "two  37.068788  60.803833   6.736874  29.563895\n"
     ]
    }
   ],
   "source": [
    "# 多重索引：比如同时索引行和列\n",
    "# 先选择列再选择行 —— 相当于对于一个数据，先筛选字段，再选择数据量\n",
    "\n",
    "df = pd.DataFrame(np.random.rand(16).reshape(4,4)*100,\n",
    "                   index = ['one','two','three','four'],\n",
    "                   columns = ['a','b','c','d'])\n",
    "print(df)\n",
    "print('-------------------------------')\n",
    "\n",
    "print(df['a'].loc[['one','three']])   # 选择a列的one，three行\n",
    "print(df[['b','c','d']].iloc[::2])   # 选择b，c，d列的one，three行\n",
    "print(df[df['a'] < 50].iloc[:2])   # 选择满足判断索引的前两行数据"
   ]
  },
  {
   "cell_type": "code",
   "execution_count": null,
   "metadata": {},
   "outputs": [],
   "source": [
    "'''\n",
    "【课程2.7】  Pandas数据结构Dataframe：基本技巧\n",
    "\n",
    "数据查看、转置 / 添加、修改、删除值 / 对齐 / 排序\n",
    "\n",
    "'''"
   ]
  },
  {
   "cell_type": "code",
   "execution_count": 283,
   "metadata": {},
   "outputs": [
    {
     "name": "stdout",
     "output_type": "stream",
     "text": [
      "           a          b          c\n",
      "0  40.258111  95.441057  13.022096\n",
      "1  34.248687  23.264330  78.752355\n",
      "           a          b          c\n",
      "0  40.258111  95.441057  13.022096\n",
      "1  34.248687  23.264330  78.752355\n",
      "2  54.294171  60.458273   5.868573\n",
      "3  27.823155  20.206630  11.427084\n",
      "           0          1          2          3\n",
      "a  40.258111  34.248687  54.294171  27.823155\n",
      "b  95.441057  23.264330  60.458273  20.206630\n",
      "c  13.022096  78.752355   5.868573  11.427084\n"
     ]
    }
   ],
   "source": [
    "# 数据查看、转置\n",
    "\n",
    "df = pd.DataFrame(np.random.rand(12).reshape(4,3)*100,\n",
    "                   columns = ['a','b','c'])\n",
    "print(df.head(2))\n",
    "print(df.tail())\n",
    "# .head()查看头部数据\n",
    "# .tail()查看尾部数据\n",
    "# 默认查看5条\n",
    "\n",
    "print(df.T)\n",
    "# .T 转置"
   ]
  },
  {
   "cell_type": "code",
   "execution_count": 284,
   "metadata": {},
   "outputs": [
    {
     "name": "stdout",
     "output_type": "stream",
     "text": [
      "           a          b          c          d\n",
      "0  82.414298  36.352177  65.280941  43.381069\n",
      "1  82.953395  67.508686  76.182693  51.795501\n",
      "2  34.162975  83.320272  10.865554  72.269083\n",
      "3  67.417939  62.491197   9.613128   6.331291\n",
      "           a          b          c          d   e\n",
      "0  82.414298  36.352177  65.280941  43.381069  10\n",
      "1  82.953395  67.508686  76.182693  51.795501  10\n",
      "2  34.162975  83.320272  10.865554  72.269083  10\n",
      "3  67.417939  62.491197   9.613128   6.331291  10\n",
      "4  20.000000  20.000000  20.000000  20.000000  20\n",
      "     a          b    c          d   e\n",
      "0  100  36.352177  100  43.381069  20\n",
      "1  100  67.508686  100  51.795501  20\n",
      "2  100  83.320272  100  72.269083  20\n",
      "3  100  62.491197  100   6.331291  20\n",
      "4  100  20.000000  100  20.000000  20\n"
     ]
    }
   ],
   "source": [
    "# 添加与修改\n",
    "\n",
    "df = pd.DataFrame(np.random.rand(16).reshape(4,4)*100,\n",
    "                   columns = ['a','b','c','d'])\n",
    "print(df)\n",
    "\n",
    "df['e'] = 10\n",
    "df.loc[4] = 20\n",
    "print(df)\n",
    "# 新增列/行并赋值\n",
    "\n",
    "df['e'] = 20\n",
    "df[['a','c']] = 100\n",
    "print(df)\n",
    "# 索引后直接修改值"
   ]
  },
  {
   "cell_type": "code",
   "execution_count": 285,
   "metadata": {},
   "outputs": [
    {
     "name": "stdout",
     "output_type": "stream",
     "text": [
      "           a          b          c          d\n",
      "0  39.576463  20.578254  36.322674  15.343166\n",
      "1  29.979141  69.986867   0.995335  57.310206\n",
      "2  95.318775  19.683845  44.144736  43.775894\n",
      "3  31.834689  22.203097  34.190696  62.447674\n",
      "           b          c          d\n",
      "0  20.578254  36.322674  15.343166\n",
      "1  69.986867   0.995335  57.310206\n",
      "2  19.683845  44.144736  43.775894\n",
      "3  22.203097  34.190696  62.447674\n",
      "---------------------------\n",
      "           b          c          d\n",
      "1  69.986867   0.995335  57.310206\n",
      "2  19.683845  44.144736  43.775894\n",
      "3  22.203097  34.190696  62.447674\n",
      "           b          c          d\n",
      "0  20.578254  36.322674  15.343166\n",
      "3  22.203097  34.190696  62.447674\n",
      "           b          c          d\n",
      "0  20.578254  36.322674  15.343166\n",
      "1  69.986867   0.995335  57.310206\n",
      "2  19.683845  44.144736  43.775894\n",
      "3  22.203097  34.190696  62.447674\n",
      "----------------------------\n",
      "           b          c\n",
      "0  20.578254  36.322674\n",
      "1  69.986867   0.995335\n",
      "2  19.683845  44.144736\n",
      "3  22.203097  34.190696\n",
      "           b          c          d\n",
      "0  20.578254  36.322674  15.343166\n",
      "1  69.986867   0.995335  57.310206\n",
      "2  19.683845  44.144736  43.775894\n",
      "3  22.203097  34.190696  62.447674\n"
     ]
    }
   ],
   "source": [
    "# 删除  del / drop()\n",
    "\n",
    "df = pd.DataFrame(np.random.rand(16).reshape(4,4)*100,\n",
    "                   columns = ['a','b','c','d'])\n",
    "print(df)\n",
    "\n",
    "del df['a']\n",
    "print(df)\n",
    "print('---------------------------')\n",
    "# del语句 - 删除列\n",
    "\n",
    "print(df.drop(0))\n",
    "print(df.drop([1,2]))\n",
    "print(df)\n",
    "print('----------------------------')\n",
    "# drop()删除行，inplace=False → 删除后生成新的数据，不改变原数据\n",
    "\n",
    "print(df.drop(['d'], axis = 1))\n",
    "print(df)\n",
    "# drop()删除列，需要加上axis = 1，inplace=False → 删除后生成新的数据，不改变原数据"
   ]
  },
  {
   "cell_type": "code",
   "execution_count": 286,
   "metadata": {},
   "outputs": [
    {
     "name": "stdout",
     "output_type": "stream",
     "text": [
      "          A         B         C         D\n",
      "0  0.727283 -0.391237  0.734702  1.567461\n",
      "1 -0.095427 -1.038562 -0.655924 -1.348764\n",
      "2 -0.090828  0.019596  0.509261 -1.640447\n",
      "3  1.249519 -1.617426 -0.780735 -0.604320\n",
      "4 -0.890878 -0.134217  0.147603 -0.616018\n",
      "5  0.575225  1.490121 -0.465776 -0.070312\n",
      "6 -0.551621 -0.699560  0.972381 -0.226522\n",
      "7  0.260560 -0.568116  0.112045 -0.528979\n",
      "8 -0.873596 -1.560812  0.011850 -0.300794\n",
      "9  0.920138 -0.253948 -1.295958 -0.748209\n",
      "          A         B         C\n",
      "0  0.641984  0.619145  0.667754\n",
      "1  0.344609  0.730902 -1.202990\n",
      "2  0.010013 -1.203968  1.140928\n",
      "3 -1.416631 -0.019139 -0.011560\n",
      "4  1.203777 -0.069962 -0.684269\n",
      "5  0.054370 -0.151309 -0.203680\n",
      "6 -0.264486 -0.579344  1.233230\n",
      "          A         B         C   D\n",
      "0  1.369267  0.227908  1.402455 NaN\n",
      "1  0.249181 -0.307661 -1.858914 NaN\n",
      "2 -0.080815 -1.184372  1.650190 NaN\n",
      "3 -0.167112 -1.636565 -0.792295 NaN\n",
      "4  0.312899 -0.204179 -0.536666 NaN\n",
      "5  0.629595  1.338812 -0.669456 NaN\n",
      "6 -0.816107 -1.278904  2.205611 NaN\n",
      "7       NaN       NaN       NaN NaN\n",
      "8       NaN       NaN       NaN NaN\n",
      "9       NaN       NaN       NaN NaN\n"
     ]
    }
   ],
   "source": [
    "# 对齐\n",
    "\n",
    "df1 = pd.DataFrame(np.random.randn(10, 4), columns=['A', 'B', 'C', 'D'])\n",
    "df2 = pd.DataFrame(np.random.randn(7, 3), columns=['A', 'B', 'C'])\n",
    "print(df1)\n",
    "print(df2)\n",
    "print(df1 + df2)\n",
    "# DataFrame对象之间的数据自动按照列和索引（行标签）对齐"
   ]
  },
  {
   "cell_type": "code",
   "execution_count": 287,
   "metadata": {},
   "outputs": [
    {
     "name": "stdout",
     "output_type": "stream",
     "text": [
      "           a          b          c          d\n",
      "0  22.268326   0.477955  41.317672  85.695267\n",
      "1  80.115285  52.838909  18.070358  94.987384\n",
      "2  80.322977  35.418237  45.342258  19.826779\n",
      "3  53.384559  30.844060  19.355644  95.616880\n",
      "           a          b          c          d\n",
      "0  22.268326   0.477955  41.317672  85.695267\n",
      "3  53.384559  30.844060  19.355644  95.616880\n",
      "1  80.115285  52.838909  18.070358  94.987384\n",
      "2  80.322977  35.418237  45.342258  19.826779\n",
      "           a          b          c          d\n",
      "2  80.322977  35.418237  45.342258  19.826779\n",
      "1  80.115285  52.838909  18.070358  94.987384\n",
      "3  53.384559  30.844060  19.355644  95.616880\n",
      "0  22.268326   0.477955  41.317672  85.695267\n",
      "------\n",
      "   a  b  c\n",
      "0  1  0  8\n",
      "1  1  1  7\n",
      "2  1  2  6\n",
      "3  1  3  5\n",
      "4  2  4  4\n",
      "5  2  5  3\n",
      "6  2  6  2\n",
      "7  2  7  1\n",
      "   a  b  c\n",
      "3  1  3  5\n",
      "2  1  2  6\n",
      "1  1  1  7\n",
      "0  1  0  8\n",
      "7  2  7  1\n",
      "6  2  6  2\n",
      "5  2  5  3\n",
      "4  2  4  4\n"
     ]
    }
   ],
   "source": [
    "# 排序1 - 按值排序 .sort_values\n",
    "# 同样适用于Series\n",
    "\n",
    "df1 = pd.DataFrame(np.random.rand(16).reshape(4,4)*100,\n",
    "                   columns = ['a','b','c','d'])\n",
    "print(df1)\n",
    "print(df1.sort_values(['a'], ascending = True))  # 升序\n",
    "print(df1.sort_values(['a'], ascending = False))  # 降序\n",
    "print('------')\n",
    "# ascending参数：设置升序降序，默认升序\n",
    "# 单列排序\n",
    "\n",
    "df2 = pd.DataFrame({'a':[1,1,1,1,2,2,2,2],\n",
    "                  'b':list(range(8)),\n",
    "                  'c':list(range(8,0,-1))})\n",
    "print(df2)\n",
    "print(df2.sort_values(['a','c']))\n",
    "# 多列排序，按列顺序排序"
   ]
  },
  {
   "cell_type": "code",
   "execution_count": 297,
   "metadata": {},
   "outputs": [
    {
     "name": "stdout",
     "output_type": "stream",
     "text": [
      "           a          b          c          d\n",
      "5  48.872650   3.212064  10.867174  64.106121\n",
      "4  64.864182  64.821983  54.567700  64.241530\n",
      "3  27.790316  13.765937  14.345127  30.477256\n",
      "2  75.947204  56.255963  39.541952  79.159813\n",
      "           a          b          c          d\n",
      "2  75.947204  56.255963  39.541952  79.159813\n",
      "3  27.790316  13.765937  14.345127  30.477256\n",
      "4  64.864182  64.821983  54.567700  64.241530\n",
      "5  48.872650   3.212064  10.867174  64.106121\n",
      "           a          b          c          d\n",
      "3  27.790316  13.765937  14.345127  30.477256\n",
      "5  48.872650   3.212064  10.867174  64.106121\n",
      "4  64.864182  64.821983  54.567700  64.241530\n",
      "2  75.947204  56.255963  39.541952  79.159813\n",
      "           a          b          c          d\n",
      "5  48.872650   3.212064  10.867174  64.106121\n",
      "4  64.864182  64.821983  54.567700  64.241530\n",
      "3  27.790316  13.765937  14.345127  30.477256\n",
      "2  75.947204  56.255963  39.541952  79.159813\n",
      "----------------------------------\n",
      "           a          b          c          d\n",
      "h  27.728859  94.638708  60.548841  58.303210\n",
      "s  14.904754  40.378979  69.898612  84.057067\n",
      "x  15.305961  96.192214  11.727704   7.828164\n",
      "g  19.597964  88.228266  64.816785  79.467213\n",
      "           a          b          c          d\n",
      "g  19.597964  88.228266  64.816785  79.467213\n",
      "h  27.728859  94.638708  60.548841  58.303210\n",
      "s  14.904754  40.378979  69.898612  84.057067\n",
      "x  15.305961  96.192214  11.727704   7.828164\n"
     ]
    }
   ],
   "source": [
    "# 排序2 - 索引排序 .sort_index\n",
    "\n",
    "df1 = pd.DataFrame(np.random.rand(16).reshape(4,4)*100,\n",
    "                  index = [5,4,3,2],\n",
    "                   columns = ['a','b','c','d'])\n",
    "df2 = pd.DataFrame(np.random.rand(16).reshape(4,4)*100,\n",
    "                  index = ['h','s','x','g'],\n",
    "                   columns = ['a','b','c','d'])\n",
    "print(df1)\n",
    "print(df1.sort_index())\n",
    "print(df1.sort_values('a'))\n",
    "print(df1)\n",
    "print('----------------------------------')\n",
    "\n",
    "print(df2)\n",
    "print(df2.sort_index())\n",
    "# 按照index排序\n",
    "# 默认 ascending=True, inplace=False"
   ]
  },
  {
   "cell_type": "code",
   "execution_count": null,
   "metadata": {},
   "outputs": [],
   "source": []
  },
  {
   "cell_type": "code",
   "execution_count": null,
   "metadata": {},
   "outputs": [],
   "source": []
  },
  {
   "cell_type": "code",
   "execution_count": null,
   "metadata": {},
   "outputs": [],
   "source": []
  }
 ],
 "metadata": {
  "kernelspec": {
   "display_name": "Python 3",
   "language": "python",
   "name": "python3"
  },
  "language_info": {
   "codemirror_mode": {
    "name": "ipython",
    "version": 3
   },
   "file_extension": ".py",
   "mimetype": "text/x-python",
   "name": "python",
   "nbconvert_exporter": "python",
   "pygments_lexer": "ipython3",
   "version": "3.7.1"
  }
 },
 "nbformat": 4,
 "nbformat_minor": 2
}
